{
 "cells": [
  {
   "cell_type": "markdown",
   "metadata": {
    "toc": true
   },
   "source": [
    "<h1>Содержание<span class=\"tocSkip\"></span></h1>\n",
    "<div class=\"toc\"><ul class=\"toc-item\"><li><span><a href=\"#Изучение-данных-из-файла\" data-toc-modified-id=\"Изучение-данных-из-файла-1\"><span class=\"toc-item-num\">1&nbsp;&nbsp;</span>Изучение данных из файла</a></span><ul class=\"toc-item\"><li><span><a href=\"#Вывод\" data-toc-modified-id=\"Вывод-1.1\"><span class=\"toc-item-num\">1.1&nbsp;&nbsp;</span>Вывод</a></span></li></ul></li><li><span><a href=\"#Предобработка-данных\" data-toc-modified-id=\"Предобработка-данных-2\"><span class=\"toc-item-num\">2&nbsp;&nbsp;</span>Предобработка данных</a></span><ul class=\"toc-item\"><li><span><a href=\"#Вывод\" data-toc-modified-id=\"Вывод-2.1\"><span class=\"toc-item-num\">2.1&nbsp;&nbsp;</span>Вывод</a></span></li></ul></li><li><span><a href=\"#Расчёты-и-добавление-результатов-в-таблицу\" data-toc-modified-id=\"Расчёты-и-добавление-результатов-в-таблицу-3\"><span class=\"toc-item-num\">3&nbsp;&nbsp;</span>Расчёты и добавление результатов в таблицу</a></span></li><li><span><a href=\"#Исследовательский-анализ-данных\" data-toc-modified-id=\"Исследовательский-анализ-данных-4\"><span class=\"toc-item-num\">4&nbsp;&nbsp;</span>Исследовательский анализ данных</a></span><ul class=\"toc-item\"><li><span><a href=\"#Время-продаж.Вывод\" data-toc-modified-id=\"Время-продаж.Вывод-4.1\"><span class=\"toc-item-num\">4.1&nbsp;&nbsp;</span>Время продаж.Вывод</a></span></li><li><span><a href=\"#Зависимость-цены-от-факторов.-Вывод\" data-toc-modified-id=\"Зависимость-цены-от-факторов.-Вывод-4.2\"><span class=\"toc-item-num\">4.2&nbsp;&nbsp;</span>Зависимость цены от факторов. Вывод</a></span></li><li><span><a href=\"#О-топ-10-городах-с-самым-большим-количеством-объявлений.-Вывод\" data-toc-modified-id=\"О-топ-10-городах-с-самым-большим-количеством-объявлений.-Вывод-4.3\"><span class=\"toc-item-num\">4.3&nbsp;&nbsp;</span>О топ-10 городах с самым большим количеством объявлений. Вывод</a></span></li><li><span><a href=\"#Зависимость-цены-от-расстояния-от-центра-в-городе-Санкт-Петербург.-Вывод\" data-toc-modified-id=\"Зависимость-цены-от-расстояния-от-центра-в-городе-Санкт-Петербург.-Вывод-4.4\"><span class=\"toc-item-num\">4.4&nbsp;&nbsp;</span>Зависимость цены от расстояния от центра в городе Санкт-Петербург. Вывод</a></span></li><li><span><a href=\"#Анализ-объектов,-расположенных-в-центре-города.Вывод\" data-toc-modified-id=\"Анализ-объектов,-расположенных-в-центре-города.Вывод-4.5\"><span class=\"toc-item-num\">4.5&nbsp;&nbsp;</span>Анализ объектов, расположенных в центре города.Вывод</a></span></li></ul></li><li><span><a href=\"#Общий-вывод\" data-toc-modified-id=\"Общий-вывод-5\"><span class=\"toc-item-num\">5&nbsp;&nbsp;</span>Общий вывод</a></span></li><li><span>"
   ]
  },
  {
   "cell_type": "markdown",
   "metadata": {},
   "source": [
    "# Исследование объявлений о продаже квартир\n",
    "\n",
    "В вашем распоряжении данные сервиса Яндекс.Недвижимость — архив объявлений о продаже квартир в Санкт-Петербурге и соседних населённых пунктах за несколько лет. Нужно научиться определять рыночную стоимость объектов недвижимости. Задача — установить параметры. Это позволит построить автоматизированную систему: она отследит аномалии и мошенническую деятельность. \n",
    "\n",
    "По каждой квартире на продажу доступны два вида данных. Первые вписаны пользователем, вторые получены автоматически на основе картографических данных. Например, расстояние до центра, аэропорта, ближайшего парка и водоёма. "
   ]
  },
  {
   "cell_type": "markdown",
   "metadata": {},
   "source": [
    "## Изучение данных из файла"
   ]
  },
  {
   "cell_type": "code",
   "execution_count": 2,
   "metadata": {},
   "outputs": [],
   "source": [
    "# импортируем необходимые библиотеки\n",
    "import pandas as pd\n",
    "import matplotlib.pyplot as plt\n",
    "from IPython.display import display\n",
    "import seaborn\n"
   ]
  },
  {
   "cell_type": "code",
   "execution_count": 3,
   "metadata": {},
   "outputs": [
    {
     "name": "stdout",
     "output_type": "stream",
     "text": [
      "      total_images\\tlast_price\\ttotal_area\\tfirst_day_exposition\\trooms\\tceiling_height\\tfloors_total\\tliving_area\\tfloor\\tis_apartment\\tstudio\\topen_plan\\tkitchen_area\\tbalcony\\tlocality_name\\tairports_nearest\\tcityCenters_nearest\\tparks_around3000\\tparks_nearest\\tponds_around3000\\tponds_nearest\\tdays_exposition\n",
      "0      20\\t13000000.0\\t108.0\\t2019-03-07T00:00:00\\t3\\...                                                                                                                                                                                                                                                                  \n",
      "1      7\\t3350000.0\\t40.4\\t2018-12-04T00:00:00\\t1\\t\\t...                                                                                                                                                                                                                                                                  \n",
      "2      10\\t5196000.0\\t56.0\\t2015-08-20T00:00:00\\t2\\t\\...                                                                                                                                                                                                                                                                  \n",
      "3      0\\t64900000.0\\t159.0\\t2015-07-24T00:00:00\\t3\\t...                                                                                                                                                                                                                                                                  \n",
      "4      2\\t10000000.0\\t100.0\\t2018-06-19T00:00:00\\t2\\t...                                                                                                                                                                                                                                                                  \n",
      "...                                                  ...                                                                                                                                                                                                                                                                  \n",
      "23694  9\\t9700000.0\\t133.81\\t2017-03-21T00:00:00\\t3\\t...                                                                                                                                                                                                                                                                  \n",
      "23695  14\\t3100000.0\\t59.0\\t2018-01-15T00:00:00\\t3\\t\\...                                                                                                                                                                                                                                                                  \n",
      "23696  18\\t2500000.0\\t56.7\\t2018-02-11T00:00:00\\t2\\t\\...                                                                                                                                                                                                                                                                  \n",
      "23697  13\\t11475000.0\\t76.75\\t2017-03-28T00:00:00\\t2\\...                                                                                                                                                                                                                                                                  \n",
      "23698  4\\t1350000.0\\t32.3\\t2017-07-21T00:00:00\\t1\\t2....                                                                                                                                                                                                                                                                  \n",
      "\n",
      "[23699 rows x 1 columns]\n"
     ]
    }
   ],
   "source": [
    "# просматриваем файл\n",
    "data=pd.read_csv('/datasets/real_estate_data.csv')\n",
    "print(data)"
   ]
  },
  {
   "cell_type": "code",
   "execution_count": 4,
   "metadata": {},
   "outputs": [
    {
     "data": {
      "text/html": [
       "<div>\n",
       "<style scoped>\n",
       "    .dataframe tbody tr th:only-of-type {\n",
       "        vertical-align: middle;\n",
       "    }\n",
       "\n",
       "    .dataframe tbody tr th {\n",
       "        vertical-align: top;\n",
       "    }\n",
       "\n",
       "    .dataframe thead th {\n",
       "        text-align: right;\n",
       "    }\n",
       "</style>\n",
       "<table border=\"1\" class=\"dataframe\">\n",
       "  <thead>\n",
       "    <tr style=\"text-align: right;\">\n",
       "      <th></th>\n",
       "      <th>total_images</th>\n",
       "      <th>last_price</th>\n",
       "      <th>total_area</th>\n",
       "      <th>first_day_exposition</th>\n",
       "      <th>rooms</th>\n",
       "      <th>ceiling_height</th>\n",
       "      <th>floors_total</th>\n",
       "      <th>living_area</th>\n",
       "      <th>floor</th>\n",
       "      <th>is_apartment</th>\n",
       "      <th>...</th>\n",
       "      <th>kitchen_area</th>\n",
       "      <th>balcony</th>\n",
       "      <th>locality_name</th>\n",
       "      <th>airports_nearest</th>\n",
       "      <th>cityCenters_nearest</th>\n",
       "      <th>parks_around3000</th>\n",
       "      <th>parks_nearest</th>\n",
       "      <th>ponds_around3000</th>\n",
       "      <th>ponds_nearest</th>\n",
       "      <th>days_exposition</th>\n",
       "    </tr>\n",
       "  </thead>\n",
       "  <tbody>\n",
       "    <tr>\n",
       "      <td>0</td>\n",
       "      <td>20</td>\n",
       "      <td>13000000.0</td>\n",
       "      <td>108.0</td>\n",
       "      <td>2019-03-07T00:00:00</td>\n",
       "      <td>3</td>\n",
       "      <td>2.70</td>\n",
       "      <td>16.0</td>\n",
       "      <td>51.0</td>\n",
       "      <td>8</td>\n",
       "      <td>NaN</td>\n",
       "      <td>...</td>\n",
       "      <td>25.0</td>\n",
       "      <td>NaN</td>\n",
       "      <td>Санкт-Петербург</td>\n",
       "      <td>18863.0</td>\n",
       "      <td>16028.0</td>\n",
       "      <td>1.0</td>\n",
       "      <td>482.0</td>\n",
       "      <td>2.0</td>\n",
       "      <td>755.0</td>\n",
       "      <td>NaN</td>\n",
       "    </tr>\n",
       "    <tr>\n",
       "      <td>1</td>\n",
       "      <td>7</td>\n",
       "      <td>3350000.0</td>\n",
       "      <td>40.4</td>\n",
       "      <td>2018-12-04T00:00:00</td>\n",
       "      <td>1</td>\n",
       "      <td>NaN</td>\n",
       "      <td>11.0</td>\n",
       "      <td>18.6</td>\n",
       "      <td>1</td>\n",
       "      <td>NaN</td>\n",
       "      <td>...</td>\n",
       "      <td>11.0</td>\n",
       "      <td>2.0</td>\n",
       "      <td>посёлок Шушары</td>\n",
       "      <td>12817.0</td>\n",
       "      <td>18603.0</td>\n",
       "      <td>0.0</td>\n",
       "      <td>NaN</td>\n",
       "      <td>0.0</td>\n",
       "      <td>NaN</td>\n",
       "      <td>81.0</td>\n",
       "    </tr>\n",
       "    <tr>\n",
       "      <td>2</td>\n",
       "      <td>10</td>\n",
       "      <td>5196000.0</td>\n",
       "      <td>56.0</td>\n",
       "      <td>2015-08-20T00:00:00</td>\n",
       "      <td>2</td>\n",
       "      <td>NaN</td>\n",
       "      <td>5.0</td>\n",
       "      <td>34.3</td>\n",
       "      <td>4</td>\n",
       "      <td>NaN</td>\n",
       "      <td>...</td>\n",
       "      <td>8.3</td>\n",
       "      <td>0.0</td>\n",
       "      <td>Санкт-Петербург</td>\n",
       "      <td>21741.0</td>\n",
       "      <td>13933.0</td>\n",
       "      <td>1.0</td>\n",
       "      <td>90.0</td>\n",
       "      <td>2.0</td>\n",
       "      <td>574.0</td>\n",
       "      <td>558.0</td>\n",
       "    </tr>\n",
       "    <tr>\n",
       "      <td>3</td>\n",
       "      <td>0</td>\n",
       "      <td>64900000.0</td>\n",
       "      <td>159.0</td>\n",
       "      <td>2015-07-24T00:00:00</td>\n",
       "      <td>3</td>\n",
       "      <td>NaN</td>\n",
       "      <td>14.0</td>\n",
       "      <td>NaN</td>\n",
       "      <td>9</td>\n",
       "      <td>NaN</td>\n",
       "      <td>...</td>\n",
       "      <td>NaN</td>\n",
       "      <td>0.0</td>\n",
       "      <td>Санкт-Петербург</td>\n",
       "      <td>28098.0</td>\n",
       "      <td>6800.0</td>\n",
       "      <td>2.0</td>\n",
       "      <td>84.0</td>\n",
       "      <td>3.0</td>\n",
       "      <td>234.0</td>\n",
       "      <td>424.0</td>\n",
       "    </tr>\n",
       "    <tr>\n",
       "      <td>4</td>\n",
       "      <td>2</td>\n",
       "      <td>10000000.0</td>\n",
       "      <td>100.0</td>\n",
       "      <td>2018-06-19T00:00:00</td>\n",
       "      <td>2</td>\n",
       "      <td>3.03</td>\n",
       "      <td>14.0</td>\n",
       "      <td>32.0</td>\n",
       "      <td>13</td>\n",
       "      <td>NaN</td>\n",
       "      <td>...</td>\n",
       "      <td>41.0</td>\n",
       "      <td>NaN</td>\n",
       "      <td>Санкт-Петербург</td>\n",
       "      <td>31856.0</td>\n",
       "      <td>8098.0</td>\n",
       "      <td>2.0</td>\n",
       "      <td>112.0</td>\n",
       "      <td>1.0</td>\n",
       "      <td>48.0</td>\n",
       "      <td>121.0</td>\n",
       "    </tr>\n",
       "  </tbody>\n",
       "</table>\n",
       "<p>5 rows × 22 columns</p>\n",
       "</div>"
      ],
      "text/plain": [
       "   total_images  last_price  total_area first_day_exposition  rooms  \\\n",
       "0            20  13000000.0       108.0  2019-03-07T00:00:00      3   \n",
       "1             7   3350000.0        40.4  2018-12-04T00:00:00      1   \n",
       "2            10   5196000.0        56.0  2015-08-20T00:00:00      2   \n",
       "3             0  64900000.0       159.0  2015-07-24T00:00:00      3   \n",
       "4             2  10000000.0       100.0  2018-06-19T00:00:00      2   \n",
       "\n",
       "   ceiling_height  floors_total  living_area  floor is_apartment  ...  \\\n",
       "0            2.70          16.0         51.0      8          NaN  ...   \n",
       "1             NaN          11.0         18.6      1          NaN  ...   \n",
       "2             NaN           5.0         34.3      4          NaN  ...   \n",
       "3             NaN          14.0          NaN      9          NaN  ...   \n",
       "4            3.03          14.0         32.0     13          NaN  ...   \n",
       "\n",
       "   kitchen_area  balcony    locality_name  airports_nearest  \\\n",
       "0          25.0      NaN  Санкт-Петербург           18863.0   \n",
       "1          11.0      2.0   посёлок Шушары           12817.0   \n",
       "2           8.3      0.0  Санкт-Петербург           21741.0   \n",
       "3           NaN      0.0  Санкт-Петербург           28098.0   \n",
       "4          41.0      NaN  Санкт-Петербург           31856.0   \n",
       "\n",
       "  cityCenters_nearest  parks_around3000  parks_nearest  ponds_around3000  \\\n",
       "0             16028.0               1.0          482.0               2.0   \n",
       "1             18603.0               0.0            NaN               0.0   \n",
       "2             13933.0               1.0           90.0               2.0   \n",
       "3              6800.0               2.0           84.0               3.0   \n",
       "4              8098.0               2.0          112.0               1.0   \n",
       "\n",
       "   ponds_nearest  days_exposition  \n",
       "0          755.0              NaN  \n",
       "1            NaN             81.0  \n",
       "2          574.0            558.0  \n",
       "3          234.0            424.0  \n",
       "4           48.0            121.0  \n",
       "\n",
       "[5 rows x 22 columns]"
      ]
     },
     "execution_count": 4,
     "metadata": {},
     "output_type": "execute_result"
    }
   ],
   "source": [
    "# разделяем строки\n",
    "data=pd.read_csv('/datasets/real_estate_data.csv', sep='\\t')\n",
    "data.head()"
   ]
  },
  {
   "cell_type": "code",
   "execution_count": 5,
   "metadata": {},
   "outputs": [
    {
     "name": "stdout",
     "output_type": "stream",
     "text": [
      "<class 'pandas.core.frame.DataFrame'>\n",
      "RangeIndex: 23699 entries, 0 to 23698\n",
      "Data columns (total 22 columns):\n",
      "total_images            23699 non-null int64\n",
      "last_price              23699 non-null float64\n",
      "total_area              23699 non-null float64\n",
      "first_day_exposition    23699 non-null object\n",
      "rooms                   23699 non-null int64\n",
      "ceiling_height          14504 non-null float64\n",
      "floors_total            23613 non-null float64\n",
      "living_area             21796 non-null float64\n",
      "floor                   23699 non-null int64\n",
      "is_apartment            2775 non-null object\n",
      "studio                  23699 non-null bool\n",
      "open_plan               23699 non-null bool\n",
      "kitchen_area            21421 non-null float64\n",
      "balcony                 12180 non-null float64\n",
      "locality_name           23650 non-null object\n",
      "airports_nearest        18157 non-null float64\n",
      "cityCenters_nearest     18180 non-null float64\n",
      "parks_around3000        18181 non-null float64\n",
      "parks_nearest           8079 non-null float64\n",
      "ponds_around3000        18181 non-null float64\n",
      "ponds_nearest           9110 non-null float64\n",
      "days_exposition         20518 non-null float64\n",
      "dtypes: bool(2), float64(14), int64(3), object(3)\n",
      "memory usage: 3.7+ MB\n"
     ]
    }
   ],
   "source": [
    "# просматриваем общую информацию с данными\n",
    "data.info()"
   ]
  },
  {
   "cell_type": "markdown",
   "metadata": {},
   "source": [
    "### Вывод"
   ]
  },
  {
   "cell_type": "markdown",
   "metadata": {},
   "source": [
    "Проанализиров данные было выявлено, что все строки склеились в одну, вместо того, чтобы разбиться по колонкам.\n",
    "Был применен разделитель, строки пришли в читаемую форму.\n",
    "Анализируя общий объем информации, были выявлен незаполненные строки в 14 столбцах."
   ]
  },
  {
   "cell_type": "markdown",
   "metadata": {},
   "source": []
  },
  {
   "cell_type": "markdown",
   "metadata": {},
   "source": [
    "## Предобработка данных"
   ]
  },
  {
   "cell_type": "code",
   "execution_count": 6,
   "metadata": {},
   "outputs": [],
   "source": [
    "data['locality_name']=data['locality_name'].fillna('Unknown') #заменяем пропущенные данные в названии городов на 'Unknown'"
   ]
  },
  {
   "cell_type": "code",
   "execution_count": 7,
   "metadata": {},
   "outputs": [],
   "source": [
    "data['locality_name']=data['locality_name'].str.replace('ё','е') \n",
    "#заменяем Ё на Е, чтобы \"посёлок\" и \"поселок\" читались как одно название"
   ]
  },
  {
   "cell_type": "code",
   "execution_count": 8,
   "metadata": {},
   "outputs": [
    {
     "data": {
      "text/html": [
       "<div>\n",
       "<style scoped>\n",
       "    .dataframe tbody tr th:only-of-type {\n",
       "        vertical-align: middle;\n",
       "    }\n",
       "\n",
       "    .dataframe tbody tr th {\n",
       "        vertical-align: top;\n",
       "    }\n",
       "\n",
       "    .dataframe thead th {\n",
       "        text-align: right;\n",
       "    }\n",
       "</style>\n",
       "<table border=\"1\" class=\"dataframe\">\n",
       "  <thead>\n",
       "    <tr style=\"text-align: right;\">\n",
       "      <th></th>\n",
       "      <th>total_images</th>\n",
       "      <th>last_price</th>\n",
       "      <th>total_area</th>\n",
       "      <th>first_day_exposition</th>\n",
       "      <th>rooms</th>\n",
       "      <th>ceiling_height</th>\n",
       "      <th>floors_total</th>\n",
       "      <th>living_area</th>\n",
       "      <th>floor</th>\n",
       "      <th>is_apartment</th>\n",
       "      <th>...</th>\n",
       "      <th>kitchen_area</th>\n",
       "      <th>balcony</th>\n",
       "      <th>locality_name</th>\n",
       "      <th>airports_nearest</th>\n",
       "      <th>cityCenters_nearest</th>\n",
       "      <th>parks_around3000</th>\n",
       "      <th>parks_nearest</th>\n",
       "      <th>ponds_around3000</th>\n",
       "      <th>ponds_nearest</th>\n",
       "      <th>days_exposition</th>\n",
       "    </tr>\n",
       "  </thead>\n",
       "  <tbody>\n",
       "  </tbody>\n",
       "</table>\n",
       "<p>0 rows × 22 columns</p>\n",
       "</div>"
      ],
      "text/plain": [
       "Empty DataFrame\n",
       "Columns: [total_images, last_price, total_area, first_day_exposition, rooms, ceiling_height, floors_total, living_area, floor, is_apartment, studio, open_plan, kitchen_area, balcony, locality_name, airports_nearest, cityCenters_nearest, parks_around3000, parks_nearest, ponds_around3000, ponds_nearest, days_exposition]\n",
       "Index: []\n",
       "\n",
       "[0 rows x 22 columns]"
      ]
     },
     "execution_count": 8,
     "metadata": {},
     "output_type": "execute_result"
    }
   ],
   "source": [
    "data[data['locality_name'].isna()] "
   ]
  },
  {
   "cell_type": "code",
   "execution_count": 9,
   "metadata": {
    "scrolled": true
   },
   "outputs": [
    {
     "data": {
      "text/html": [
       "<div>\n",
       "<style scoped>\n",
       "    .dataframe tbody tr th:only-of-type {\n",
       "        vertical-align: middle;\n",
       "    }\n",
       "\n",
       "    .dataframe tbody tr th {\n",
       "        vertical-align: top;\n",
       "    }\n",
       "\n",
       "    .dataframe thead th {\n",
       "        text-align: right;\n",
       "    }\n",
       "</style>\n",
       "<table border=\"1\" class=\"dataframe\">\n",
       "  <thead>\n",
       "    <tr style=\"text-align: right;\">\n",
       "      <th></th>\n",
       "      <th>total_images</th>\n",
       "      <th>last_price</th>\n",
       "      <th>total_area</th>\n",
       "      <th>first_day_exposition</th>\n",
       "      <th>rooms</th>\n",
       "      <th>ceiling_height</th>\n",
       "      <th>floors_total</th>\n",
       "      <th>living_area</th>\n",
       "      <th>floor</th>\n",
       "      <th>is_apartment</th>\n",
       "      <th>...</th>\n",
       "      <th>kitchen_area</th>\n",
       "      <th>balcony</th>\n",
       "      <th>locality_name</th>\n",
       "      <th>airports_nearest</th>\n",
       "      <th>cityCenters_nearest</th>\n",
       "      <th>parks_around3000</th>\n",
       "      <th>parks_nearest</th>\n",
       "      <th>ponds_around3000</th>\n",
       "      <th>ponds_nearest</th>\n",
       "      <th>days_exposition</th>\n",
       "    </tr>\n",
       "  </thead>\n",
       "  <tbody>\n",
       "    <tr>\n",
       "      <td>1</td>\n",
       "      <td>7</td>\n",
       "      <td>3350000.0</td>\n",
       "      <td>40.4</td>\n",
       "      <td>2018-12-04T00:00:00</td>\n",
       "      <td>1</td>\n",
       "      <td>NaN</td>\n",
       "      <td>11.0</td>\n",
       "      <td>18.6</td>\n",
       "      <td>1</td>\n",
       "      <td>NaN</td>\n",
       "      <td>...</td>\n",
       "      <td>11.0</td>\n",
       "      <td>2.0</td>\n",
       "      <td>поселок Шушары</td>\n",
       "      <td>12817.0</td>\n",
       "      <td>18603.0</td>\n",
       "      <td>0.0</td>\n",
       "      <td>NaN</td>\n",
       "      <td>0.0</td>\n",
       "      <td>NaN</td>\n",
       "      <td>81.0</td>\n",
       "    </tr>\n",
       "    <tr>\n",
       "      <td>2</td>\n",
       "      <td>10</td>\n",
       "      <td>5196000.0</td>\n",
       "      <td>56.0</td>\n",
       "      <td>2015-08-20T00:00:00</td>\n",
       "      <td>2</td>\n",
       "      <td>NaN</td>\n",
       "      <td>5.0</td>\n",
       "      <td>34.3</td>\n",
       "      <td>4</td>\n",
       "      <td>NaN</td>\n",
       "      <td>...</td>\n",
       "      <td>8.3</td>\n",
       "      <td>0.0</td>\n",
       "      <td>Санкт-Петербург</td>\n",
       "      <td>21741.0</td>\n",
       "      <td>13933.0</td>\n",
       "      <td>1.0</td>\n",
       "      <td>90.0</td>\n",
       "      <td>2.0</td>\n",
       "      <td>574.0</td>\n",
       "      <td>558.0</td>\n",
       "    </tr>\n",
       "    <tr>\n",
       "      <td>3</td>\n",
       "      <td>0</td>\n",
       "      <td>64900000.0</td>\n",
       "      <td>159.0</td>\n",
       "      <td>2015-07-24T00:00:00</td>\n",
       "      <td>3</td>\n",
       "      <td>NaN</td>\n",
       "      <td>14.0</td>\n",
       "      <td>NaN</td>\n",
       "      <td>9</td>\n",
       "      <td>NaN</td>\n",
       "      <td>...</td>\n",
       "      <td>NaN</td>\n",
       "      <td>0.0</td>\n",
       "      <td>Санкт-Петербург</td>\n",
       "      <td>28098.0</td>\n",
       "      <td>6800.0</td>\n",
       "      <td>2.0</td>\n",
       "      <td>84.0</td>\n",
       "      <td>3.0</td>\n",
       "      <td>234.0</td>\n",
       "      <td>424.0</td>\n",
       "    </tr>\n",
       "    <tr>\n",
       "      <td>5</td>\n",
       "      <td>10</td>\n",
       "      <td>2890000.0</td>\n",
       "      <td>30.4</td>\n",
       "      <td>2018-09-10T00:00:00</td>\n",
       "      <td>1</td>\n",
       "      <td>NaN</td>\n",
       "      <td>12.0</td>\n",
       "      <td>14.4</td>\n",
       "      <td>5</td>\n",
       "      <td>NaN</td>\n",
       "      <td>...</td>\n",
       "      <td>9.1</td>\n",
       "      <td>NaN</td>\n",
       "      <td>городской поселок Янино-1</td>\n",
       "      <td>NaN</td>\n",
       "      <td>NaN</td>\n",
       "      <td>NaN</td>\n",
       "      <td>NaN</td>\n",
       "      <td>NaN</td>\n",
       "      <td>NaN</td>\n",
       "      <td>55.0</td>\n",
       "    </tr>\n",
       "    <tr>\n",
       "      <td>6</td>\n",
       "      <td>6</td>\n",
       "      <td>3700000.0</td>\n",
       "      <td>37.3</td>\n",
       "      <td>2017-11-02T00:00:00</td>\n",
       "      <td>1</td>\n",
       "      <td>NaN</td>\n",
       "      <td>26.0</td>\n",
       "      <td>10.6</td>\n",
       "      <td>6</td>\n",
       "      <td>NaN</td>\n",
       "      <td>...</td>\n",
       "      <td>14.4</td>\n",
       "      <td>1.0</td>\n",
       "      <td>поселок Парголово</td>\n",
       "      <td>52996.0</td>\n",
       "      <td>19143.0</td>\n",
       "      <td>0.0</td>\n",
       "      <td>NaN</td>\n",
       "      <td>0.0</td>\n",
       "      <td>NaN</td>\n",
       "      <td>155.0</td>\n",
       "    </tr>\n",
       "    <tr>\n",
       "      <td>...</td>\n",
       "      <td>...</td>\n",
       "      <td>...</td>\n",
       "      <td>...</td>\n",
       "      <td>...</td>\n",
       "      <td>...</td>\n",
       "      <td>...</td>\n",
       "      <td>...</td>\n",
       "      <td>...</td>\n",
       "      <td>...</td>\n",
       "      <td>...</td>\n",
       "      <td>...</td>\n",
       "      <td>...</td>\n",
       "      <td>...</td>\n",
       "      <td>...</td>\n",
       "      <td>...</td>\n",
       "      <td>...</td>\n",
       "      <td>...</td>\n",
       "      <td>...</td>\n",
       "      <td>...</td>\n",
       "      <td>...</td>\n",
       "      <td>...</td>\n",
       "    </tr>\n",
       "    <tr>\n",
       "      <td>23687</td>\n",
       "      <td>6</td>\n",
       "      <td>3200000.0</td>\n",
       "      <td>39.0</td>\n",
       "      <td>2017-12-16T00:00:00</td>\n",
       "      <td>1</td>\n",
       "      <td>NaN</td>\n",
       "      <td>9.0</td>\n",
       "      <td>20.0</td>\n",
       "      <td>6</td>\n",
       "      <td>NaN</td>\n",
       "      <td>...</td>\n",
       "      <td>11.0</td>\n",
       "      <td>2.0</td>\n",
       "      <td>Санкт-Петербург</td>\n",
       "      <td>40837.0</td>\n",
       "      <td>16704.0</td>\n",
       "      <td>0.0</td>\n",
       "      <td>NaN</td>\n",
       "      <td>0.0</td>\n",
       "      <td>NaN</td>\n",
       "      <td>38.0</td>\n",
       "    </tr>\n",
       "    <tr>\n",
       "      <td>23690</td>\n",
       "      <td>3</td>\n",
       "      <td>5500000.0</td>\n",
       "      <td>52.0</td>\n",
       "      <td>2018-07-19T00:00:00</td>\n",
       "      <td>2</td>\n",
       "      <td>NaN</td>\n",
       "      <td>5.0</td>\n",
       "      <td>31.0</td>\n",
       "      <td>2</td>\n",
       "      <td>NaN</td>\n",
       "      <td>...</td>\n",
       "      <td>6.0</td>\n",
       "      <td>NaN</td>\n",
       "      <td>Санкт-Петербург</td>\n",
       "      <td>20151.0</td>\n",
       "      <td>6263.0</td>\n",
       "      <td>1.0</td>\n",
       "      <td>300.0</td>\n",
       "      <td>0.0</td>\n",
       "      <td>NaN</td>\n",
       "      <td>15.0</td>\n",
       "    </tr>\n",
       "    <tr>\n",
       "      <td>23692</td>\n",
       "      <td>2</td>\n",
       "      <td>1350000.0</td>\n",
       "      <td>30.0</td>\n",
       "      <td>2017-07-07T00:00:00</td>\n",
       "      <td>1</td>\n",
       "      <td>NaN</td>\n",
       "      <td>5.0</td>\n",
       "      <td>17.5</td>\n",
       "      <td>4</td>\n",
       "      <td>NaN</td>\n",
       "      <td>...</td>\n",
       "      <td>6.0</td>\n",
       "      <td>NaN</td>\n",
       "      <td>Тихвин</td>\n",
       "      <td>NaN</td>\n",
       "      <td>NaN</td>\n",
       "      <td>NaN</td>\n",
       "      <td>NaN</td>\n",
       "      <td>NaN</td>\n",
       "      <td>NaN</td>\n",
       "      <td>413.0</td>\n",
       "    </tr>\n",
       "    <tr>\n",
       "      <td>23695</td>\n",
       "      <td>14</td>\n",
       "      <td>3100000.0</td>\n",
       "      <td>59.0</td>\n",
       "      <td>2018-01-15T00:00:00</td>\n",
       "      <td>3</td>\n",
       "      <td>NaN</td>\n",
       "      <td>5.0</td>\n",
       "      <td>38.0</td>\n",
       "      <td>4</td>\n",
       "      <td>NaN</td>\n",
       "      <td>...</td>\n",
       "      <td>8.5</td>\n",
       "      <td>NaN</td>\n",
       "      <td>Тосно</td>\n",
       "      <td>NaN</td>\n",
       "      <td>NaN</td>\n",
       "      <td>NaN</td>\n",
       "      <td>NaN</td>\n",
       "      <td>NaN</td>\n",
       "      <td>NaN</td>\n",
       "      <td>45.0</td>\n",
       "    </tr>\n",
       "    <tr>\n",
       "      <td>23696</td>\n",
       "      <td>18</td>\n",
       "      <td>2500000.0</td>\n",
       "      <td>56.7</td>\n",
       "      <td>2018-02-11T00:00:00</td>\n",
       "      <td>2</td>\n",
       "      <td>NaN</td>\n",
       "      <td>3.0</td>\n",
       "      <td>29.7</td>\n",
       "      <td>1</td>\n",
       "      <td>NaN</td>\n",
       "      <td>...</td>\n",
       "      <td>NaN</td>\n",
       "      <td>NaN</td>\n",
       "      <td>село Рождествено</td>\n",
       "      <td>NaN</td>\n",
       "      <td>NaN</td>\n",
       "      <td>NaN</td>\n",
       "      <td>NaN</td>\n",
       "      <td>NaN</td>\n",
       "      <td>NaN</td>\n",
       "      <td>NaN</td>\n",
       "    </tr>\n",
       "  </tbody>\n",
       "</table>\n",
       "<p>9195 rows × 22 columns</p>\n",
       "</div>"
      ],
      "text/plain": [
       "       total_images  last_price  total_area first_day_exposition  rooms  \\\n",
       "1                 7   3350000.0        40.4  2018-12-04T00:00:00      1   \n",
       "2                10   5196000.0        56.0  2015-08-20T00:00:00      2   \n",
       "3                 0  64900000.0       159.0  2015-07-24T00:00:00      3   \n",
       "5                10   2890000.0        30.4  2018-09-10T00:00:00      1   \n",
       "6                 6   3700000.0        37.3  2017-11-02T00:00:00      1   \n",
       "...             ...         ...         ...                  ...    ...   \n",
       "23687             6   3200000.0        39.0  2017-12-16T00:00:00      1   \n",
       "23690             3   5500000.0        52.0  2018-07-19T00:00:00      2   \n",
       "23692             2   1350000.0        30.0  2017-07-07T00:00:00      1   \n",
       "23695            14   3100000.0        59.0  2018-01-15T00:00:00      3   \n",
       "23696            18   2500000.0        56.7  2018-02-11T00:00:00      2   \n",
       "\n",
       "       ceiling_height  floors_total  living_area  floor is_apartment  ...  \\\n",
       "1                 NaN          11.0         18.6      1          NaN  ...   \n",
       "2                 NaN           5.0         34.3      4          NaN  ...   \n",
       "3                 NaN          14.0          NaN      9          NaN  ...   \n",
       "5                 NaN          12.0         14.4      5          NaN  ...   \n",
       "6                 NaN          26.0         10.6      6          NaN  ...   \n",
       "...               ...           ...          ...    ...          ...  ...   \n",
       "23687             NaN           9.0         20.0      6          NaN  ...   \n",
       "23690             NaN           5.0         31.0      2          NaN  ...   \n",
       "23692             NaN           5.0         17.5      4          NaN  ...   \n",
       "23695             NaN           5.0         38.0      4          NaN  ...   \n",
       "23696             NaN           3.0         29.7      1          NaN  ...   \n",
       "\n",
       "       kitchen_area  balcony              locality_name  airports_nearest  \\\n",
       "1              11.0      2.0             поселок Шушары           12817.0   \n",
       "2               8.3      0.0            Санкт-Петербург           21741.0   \n",
       "3               NaN      0.0            Санкт-Петербург           28098.0   \n",
       "5               9.1      NaN  городской поселок Янино-1               NaN   \n",
       "6              14.4      1.0          поселок Парголово           52996.0   \n",
       "...             ...      ...                        ...               ...   \n",
       "23687          11.0      2.0            Санкт-Петербург           40837.0   \n",
       "23690           6.0      NaN            Санкт-Петербург           20151.0   \n",
       "23692           6.0      NaN                     Тихвин               NaN   \n",
       "23695           8.5      NaN                      Тосно               NaN   \n",
       "23696           NaN      NaN           село Рождествено               NaN   \n",
       "\n",
       "      cityCenters_nearest  parks_around3000  parks_nearest  ponds_around3000  \\\n",
       "1                 18603.0               0.0            NaN               0.0   \n",
       "2                 13933.0               1.0           90.0               2.0   \n",
       "3                  6800.0               2.0           84.0               3.0   \n",
       "5                     NaN               NaN            NaN               NaN   \n",
       "6                 19143.0               0.0            NaN               0.0   \n",
       "...                   ...               ...            ...               ...   \n",
       "23687             16704.0               0.0            NaN               0.0   \n",
       "23690              6263.0               1.0          300.0               0.0   \n",
       "23692                 NaN               NaN            NaN               NaN   \n",
       "23695                 NaN               NaN            NaN               NaN   \n",
       "23696                 NaN               NaN            NaN               NaN   \n",
       "\n",
       "       ponds_nearest  days_exposition  \n",
       "1                NaN             81.0  \n",
       "2              574.0            558.0  \n",
       "3              234.0            424.0  \n",
       "5                NaN             55.0  \n",
       "6                NaN            155.0  \n",
       "...              ...              ...  \n",
       "23687            NaN             38.0  \n",
       "23690            NaN             15.0  \n",
       "23692            NaN            413.0  \n",
       "23695            NaN             45.0  \n",
       "23696            NaN              NaN  \n",
       "\n",
       "[9195 rows x 22 columns]"
      ]
     },
     "execution_count": 9,
     "metadata": {},
     "output_type": "execute_result"
    }
   ],
   "source": [
    "#просматриваем пустые значения столбца с высотой потолков\n",
    "data[data['ceiling_height'].isna()]"
   ]
  },
  {
   "cell_type": "code",
   "execution_count": 10,
   "metadata": {},
   "outputs": [
    {
     "data": {
      "text/plain": [
       "count    14504.000000\n",
       "mean         2.771499\n",
       "std          1.261056\n",
       "min          1.000000\n",
       "25%          2.520000\n",
       "50%          2.650000\n",
       "75%          2.800000\n",
       "max        100.000000\n",
       "Name: ceiling_height, dtype: float64"
      ]
     },
     "execution_count": 10,
     "metadata": {},
     "output_type": "execute_result"
    }
   ],
   "source": [
    "data['ceiling_height'].describe()"
   ]
  },
  {
   "cell_type": "code",
   "execution_count": 11,
   "metadata": {
    "scrolled": true
   },
   "outputs": [
    {
     "data": {
      "text/html": [
       "<div>\n",
       "<style scoped>\n",
       "    .dataframe tbody tr th:only-of-type {\n",
       "        vertical-align: middle;\n",
       "    }\n",
       "\n",
       "    .dataframe tbody tr th {\n",
       "        vertical-align: top;\n",
       "    }\n",
       "\n",
       "    .dataframe thead th {\n",
       "        text-align: right;\n",
       "    }\n",
       "</style>\n",
       "<table border=\"1\" class=\"dataframe\">\n",
       "  <thead>\n",
       "    <tr style=\"text-align: right;\">\n",
       "      <th></th>\n",
       "      <th>total_images</th>\n",
       "      <th>last_price</th>\n",
       "      <th>total_area</th>\n",
       "      <th>first_day_exposition</th>\n",
       "      <th>rooms</th>\n",
       "      <th>ceiling_height</th>\n",
       "      <th>floors_total</th>\n",
       "      <th>living_area</th>\n",
       "      <th>floor</th>\n",
       "      <th>is_apartment</th>\n",
       "      <th>...</th>\n",
       "      <th>kitchen_area</th>\n",
       "      <th>balcony</th>\n",
       "      <th>locality_name</th>\n",
       "      <th>airports_nearest</th>\n",
       "      <th>cityCenters_nearest</th>\n",
       "      <th>parks_around3000</th>\n",
       "      <th>parks_nearest</th>\n",
       "      <th>ponds_around3000</th>\n",
       "      <th>ponds_nearest</th>\n",
       "      <th>days_exposition</th>\n",
       "    </tr>\n",
       "  </thead>\n",
       "  <tbody>\n",
       "    <tr>\n",
       "      <td>22869</td>\n",
       "      <td>0</td>\n",
       "      <td>15000000.0</td>\n",
       "      <td>25.0</td>\n",
       "      <td>2018-07-25T00:00:00</td>\n",
       "      <td>1</td>\n",
       "      <td>100.0</td>\n",
       "      <td>5.0</td>\n",
       "      <td>14.0</td>\n",
       "      <td>5</td>\n",
       "      <td>True</td>\n",
       "      <td>...</td>\n",
       "      <td>11.0</td>\n",
       "      <td>5.0</td>\n",
       "      <td>Санкт-Петербург</td>\n",
       "      <td>34963.0</td>\n",
       "      <td>8283.0</td>\n",
       "      <td>1.0</td>\n",
       "      <td>223.0</td>\n",
       "      <td>3.0</td>\n",
       "      <td>30.0</td>\n",
       "      <td>19.0</td>\n",
       "    </tr>\n",
       "  </tbody>\n",
       "</table>\n",
       "<p>1 rows × 22 columns</p>\n",
       "</div>"
      ],
      "text/plain": [
       "       total_images  last_price  total_area first_day_exposition  rooms  \\\n",
       "22869             0  15000000.0        25.0  2018-07-25T00:00:00      1   \n",
       "\n",
       "       ceiling_height  floors_total  living_area  floor is_apartment  ...  \\\n",
       "22869           100.0           5.0         14.0      5         True  ...   \n",
       "\n",
       "       kitchen_area  balcony    locality_name  airports_nearest  \\\n",
       "22869          11.0      5.0  Санкт-Петербург           34963.0   \n",
       "\n",
       "      cityCenters_nearest  parks_around3000  parks_nearest  ponds_around3000  \\\n",
       "22869              8283.0               1.0          223.0               3.0   \n",
       "\n",
       "       ponds_nearest  days_exposition  \n",
       "22869           30.0             19.0  \n",
       "\n",
       "[1 rows x 22 columns]"
      ]
     },
     "execution_count": 11,
     "metadata": {},
     "output_type": "execute_result"
    }
   ],
   "source": [
    "data.loc[data['ceiling_height'] == 100]"
   ]
  },
  {
   "cell_type": "code",
   "execution_count": 12,
   "metadata": {
    "scrolled": true
   },
   "outputs": [
    {
     "data": {
      "text/html": [
       "<div>\n",
       "<style scoped>\n",
       "    .dataframe tbody tr th:only-of-type {\n",
       "        vertical-align: middle;\n",
       "    }\n",
       "\n",
       "    .dataframe tbody tr th {\n",
       "        vertical-align: top;\n",
       "    }\n",
       "\n",
       "    .dataframe thead th {\n",
       "        text-align: right;\n",
       "    }\n",
       "</style>\n",
       "<table border=\"1\" class=\"dataframe\">\n",
       "  <thead>\n",
       "    <tr style=\"text-align: right;\">\n",
       "      <th></th>\n",
       "      <th>total_images</th>\n",
       "      <th>last_price</th>\n",
       "      <th>total_area</th>\n",
       "      <th>first_day_exposition</th>\n",
       "      <th>rooms</th>\n",
       "      <th>ceiling_height</th>\n",
       "      <th>floors_total</th>\n",
       "      <th>living_area</th>\n",
       "      <th>floor</th>\n",
       "      <th>is_apartment</th>\n",
       "      <th>...</th>\n",
       "      <th>kitchen_area</th>\n",
       "      <th>balcony</th>\n",
       "      <th>locality_name</th>\n",
       "      <th>airports_nearest</th>\n",
       "      <th>cityCenters_nearest</th>\n",
       "      <th>parks_around3000</th>\n",
       "      <th>parks_nearest</th>\n",
       "      <th>ponds_around3000</th>\n",
       "      <th>ponds_nearest</th>\n",
       "      <th>days_exposition</th>\n",
       "    </tr>\n",
       "  </thead>\n",
       "  <tbody>\n",
       "    <tr>\n",
       "      <td>22590</td>\n",
       "      <td>16</td>\n",
       "      <td>6000000.0</td>\n",
       "      <td>55.0</td>\n",
       "      <td>2018-10-31T00:00:00</td>\n",
       "      <td>2</td>\n",
       "      <td>1.0</td>\n",
       "      <td>12.0</td>\n",
       "      <td>32.4</td>\n",
       "      <td>7</td>\n",
       "      <td>NaN</td>\n",
       "      <td>...</td>\n",
       "      <td>10.0</td>\n",
       "      <td>NaN</td>\n",
       "      <td>Санкт-Петербург</td>\n",
       "      <td>33053.0</td>\n",
       "      <td>14217.0</td>\n",
       "      <td>2.0</td>\n",
       "      <td>293.0</td>\n",
       "      <td>2.0</td>\n",
       "      <td>289.0</td>\n",
       "      <td>13.0</td>\n",
       "    </tr>\n",
       "  </tbody>\n",
       "</table>\n",
       "<p>1 rows × 22 columns</p>\n",
       "</div>"
      ],
      "text/plain": [
       "       total_images  last_price  total_area first_day_exposition  rooms  \\\n",
       "22590            16   6000000.0        55.0  2018-10-31T00:00:00      2   \n",
       "\n",
       "       ceiling_height  floors_total  living_area  floor is_apartment  ...  \\\n",
       "22590             1.0          12.0         32.4      7          NaN  ...   \n",
       "\n",
       "       kitchen_area  balcony    locality_name  airports_nearest  \\\n",
       "22590          10.0      NaN  Санкт-Петербург           33053.0   \n",
       "\n",
       "      cityCenters_nearest  parks_around3000  parks_nearest  ponds_around3000  \\\n",
       "22590             14217.0               2.0          293.0               2.0   \n",
       "\n",
       "       ponds_nearest  days_exposition  \n",
       "22590          289.0             13.0  \n",
       "\n",
       "[1 rows x 22 columns]"
      ]
     },
     "execution_count": 12,
     "metadata": {},
     "output_type": "execute_result"
    }
   ],
   "source": [
    "data.loc[data['ceiling_height']==1]"
   ]
  },
  {
   "cell_type": "code",
   "execution_count": 13,
   "metadata": {},
   "outputs": [],
   "source": [
    "data['ceiling_height']=data['ceiling_height'].fillna(0) #заменяем пустые значения в столбце ' ceiling_height' на 0\n"
   ]
  },
  {
   "cell_type": "code",
   "execution_count": 14,
   "metadata": {},
   "outputs": [],
   "source": [
    "#задаем функцию для замены высоты потолков на медиану по городам\n",
    "def median_ceiling_height(row):\n",
    "    height = row['ceiling_height']\n",
    "    city = row['locality_name']\n",
    "    grouped_data = data.groupby('locality_name')['ceiling_height'].median()\n",
    "    if height == 0:\n",
    "        return grouped_data.loc[city]\n",
    "    return height\n"
   ]
  },
  {
   "cell_type": "code",
   "execution_count": 15,
   "metadata": {},
   "outputs": [],
   "source": [
    "data['ceiling_height']=data.apply(median_ceiling_height, axis=1) #заменяем нулевые значения на медиану по названию города"
   ]
  },
  {
   "cell_type": "code",
   "execution_count": 16,
   "metadata": {},
   "outputs": [
    {
     "data": {
      "text/html": [
       "<div>\n",
       "<style scoped>\n",
       "    .dataframe tbody tr th:only-of-type {\n",
       "        vertical-align: middle;\n",
       "    }\n",
       "\n",
       "    .dataframe tbody tr th {\n",
       "        vertical-align: top;\n",
       "    }\n",
       "\n",
       "    .dataframe thead th {\n",
       "        text-align: right;\n",
       "    }\n",
       "</style>\n",
       "<table border=\"1\" class=\"dataframe\">\n",
       "  <thead>\n",
       "    <tr style=\"text-align: right;\">\n",
       "      <th></th>\n",
       "      <th>total_images</th>\n",
       "      <th>last_price</th>\n",
       "      <th>total_area</th>\n",
       "      <th>first_day_exposition</th>\n",
       "      <th>rooms</th>\n",
       "      <th>ceiling_height</th>\n",
       "      <th>floors_total</th>\n",
       "      <th>living_area</th>\n",
       "      <th>floor</th>\n",
       "      <th>is_apartment</th>\n",
       "      <th>...</th>\n",
       "      <th>kitchen_area</th>\n",
       "      <th>balcony</th>\n",
       "      <th>locality_name</th>\n",
       "      <th>airports_nearest</th>\n",
       "      <th>cityCenters_nearest</th>\n",
       "      <th>parks_around3000</th>\n",
       "      <th>parks_nearest</th>\n",
       "      <th>ponds_around3000</th>\n",
       "      <th>ponds_nearest</th>\n",
       "      <th>days_exposition</th>\n",
       "    </tr>\n",
       "  </thead>\n",
       "  <tbody>\n",
       "  </tbody>\n",
       "</table>\n",
       "<p>0 rows × 22 columns</p>\n",
       "</div>"
      ],
      "text/plain": [
       "Empty DataFrame\n",
       "Columns: [total_images, last_price, total_area, first_day_exposition, rooms, ceiling_height, floors_total, living_area, floor, is_apartment, studio, open_plan, kitchen_area, balcony, locality_name, airports_nearest, cityCenters_nearest, parks_around3000, parks_nearest, ponds_around3000, ponds_nearest, days_exposition]\n",
       "Index: []\n",
       "\n",
       "[0 rows x 22 columns]"
      ]
     },
     "execution_count": 16,
     "metadata": {},
     "output_type": "execute_result"
    }
   ],
   "source": [
    "data[data['ceiling_height'].isna()]"
   ]
  },
  {
   "cell_type": "code",
   "execution_count": 17,
   "metadata": {},
   "outputs": [],
   "source": [
    "data['is_apartment']=data['is_apartment'].fillna(False) #заменяем пустые значения в столбце 'is_apartment' на false, так как это очень редкий вид недвижимости"
   ]
  },
  {
   "cell_type": "code",
   "execution_count": 18,
   "metadata": {},
   "outputs": [
    {
     "data": {
      "text/html": [
       "<div>\n",
       "<style scoped>\n",
       "    .dataframe tbody tr th:only-of-type {\n",
       "        vertical-align: middle;\n",
       "    }\n",
       "\n",
       "    .dataframe tbody tr th {\n",
       "        vertical-align: top;\n",
       "    }\n",
       "\n",
       "    .dataframe thead th {\n",
       "        text-align: right;\n",
       "    }\n",
       "</style>\n",
       "<table border=\"1\" class=\"dataframe\">\n",
       "  <thead>\n",
       "    <tr style=\"text-align: right;\">\n",
       "      <th></th>\n",
       "      <th>total_images</th>\n",
       "      <th>last_price</th>\n",
       "      <th>total_area</th>\n",
       "      <th>first_day_exposition</th>\n",
       "      <th>rooms</th>\n",
       "      <th>ceiling_height</th>\n",
       "      <th>floors_total</th>\n",
       "      <th>living_area</th>\n",
       "      <th>floor</th>\n",
       "      <th>is_apartment</th>\n",
       "      <th>...</th>\n",
       "      <th>kitchen_area</th>\n",
       "      <th>balcony</th>\n",
       "      <th>locality_name</th>\n",
       "      <th>airports_nearest</th>\n",
       "      <th>cityCenters_nearest</th>\n",
       "      <th>parks_around3000</th>\n",
       "      <th>parks_nearest</th>\n",
       "      <th>ponds_around3000</th>\n",
       "      <th>ponds_nearest</th>\n",
       "      <th>days_exposition</th>\n",
       "    </tr>\n",
       "  </thead>\n",
       "  <tbody>\n",
       "    <tr>\n",
       "      <td>186</td>\n",
       "      <td>12</td>\n",
       "      <td>11640000.0</td>\n",
       "      <td>65.2</td>\n",
       "      <td>2018-10-02T00:00:00</td>\n",
       "      <td>2</td>\n",
       "      <td>2.53</td>\n",
       "      <td>NaN</td>\n",
       "      <td>30.80</td>\n",
       "      <td>4</td>\n",
       "      <td>False</td>\n",
       "      <td>...</td>\n",
       "      <td>12.00</td>\n",
       "      <td>NaN</td>\n",
       "      <td>Санкт-Петербург</td>\n",
       "      <td>39197.0</td>\n",
       "      <td>12373.0</td>\n",
       "      <td>1.0</td>\n",
       "      <td>123.0</td>\n",
       "      <td>0.0</td>\n",
       "      <td>NaN</td>\n",
       "      <td>49.0</td>\n",
       "    </tr>\n",
       "    <tr>\n",
       "      <td>237</td>\n",
       "      <td>4</td>\n",
       "      <td>2438033.0</td>\n",
       "      <td>28.1</td>\n",
       "      <td>2016-11-23T00:00:00</td>\n",
       "      <td>1</td>\n",
       "      <td>2.53</td>\n",
       "      <td>NaN</td>\n",
       "      <td>20.75</td>\n",
       "      <td>1</td>\n",
       "      <td>False</td>\n",
       "      <td>...</td>\n",
       "      <td>NaN</td>\n",
       "      <td>0.0</td>\n",
       "      <td>Санкт-Петербург</td>\n",
       "      <td>22041.0</td>\n",
       "      <td>17369.0</td>\n",
       "      <td>0.0</td>\n",
       "      <td>NaN</td>\n",
       "      <td>1.0</td>\n",
       "      <td>374.0</td>\n",
       "      <td>251.0</td>\n",
       "    </tr>\n",
       "    <tr>\n",
       "      <td>457</td>\n",
       "      <td>4</td>\n",
       "      <td>9788348.0</td>\n",
       "      <td>70.8</td>\n",
       "      <td>2015-08-01T00:00:00</td>\n",
       "      <td>2</td>\n",
       "      <td>2.53</td>\n",
       "      <td>NaN</td>\n",
       "      <td>38.40</td>\n",
       "      <td>12</td>\n",
       "      <td>False</td>\n",
       "      <td>...</td>\n",
       "      <td>10.63</td>\n",
       "      <td>0.0</td>\n",
       "      <td>Санкт-Петербург</td>\n",
       "      <td>37364.0</td>\n",
       "      <td>8322.0</td>\n",
       "      <td>2.0</td>\n",
       "      <td>309.0</td>\n",
       "      <td>2.0</td>\n",
       "      <td>706.0</td>\n",
       "      <td>727.0</td>\n",
       "    </tr>\n",
       "    <tr>\n",
       "      <td>671</td>\n",
       "      <td>4</td>\n",
       "      <td>6051191.0</td>\n",
       "      <td>93.6</td>\n",
       "      <td>2017-04-06T00:00:00</td>\n",
       "      <td>3</td>\n",
       "      <td>2.53</td>\n",
       "      <td>NaN</td>\n",
       "      <td>47.10</td>\n",
       "      <td>8</td>\n",
       "      <td>False</td>\n",
       "      <td>...</td>\n",
       "      <td>16.80</td>\n",
       "      <td>0.0</td>\n",
       "      <td>Санкт-Петербург</td>\n",
       "      <td>22041.0</td>\n",
       "      <td>17369.0</td>\n",
       "      <td>0.0</td>\n",
       "      <td>NaN</td>\n",
       "      <td>1.0</td>\n",
       "      <td>374.0</td>\n",
       "      <td>123.0</td>\n",
       "    </tr>\n",
       "    <tr>\n",
       "      <td>1757</td>\n",
       "      <td>5</td>\n",
       "      <td>3600000.0</td>\n",
       "      <td>39.0</td>\n",
       "      <td>2017-04-22T00:00:00</td>\n",
       "      <td>1</td>\n",
       "      <td>2.53</td>\n",
       "      <td>NaN</td>\n",
       "      <td>NaN</td>\n",
       "      <td>9</td>\n",
       "      <td>False</td>\n",
       "      <td>...</td>\n",
       "      <td>NaN</td>\n",
       "      <td>0.0</td>\n",
       "      <td>Санкт-Петербург</td>\n",
       "      <td>22735.0</td>\n",
       "      <td>11618.0</td>\n",
       "      <td>1.0</td>\n",
       "      <td>835.0</td>\n",
       "      <td>1.0</td>\n",
       "      <td>652.0</td>\n",
       "      <td>77.0</td>\n",
       "    </tr>\n",
       "    <tr>\n",
       "      <td>...</td>\n",
       "      <td>...</td>\n",
       "      <td>...</td>\n",
       "      <td>...</td>\n",
       "      <td>...</td>\n",
       "      <td>...</td>\n",
       "      <td>...</td>\n",
       "      <td>...</td>\n",
       "      <td>...</td>\n",
       "      <td>...</td>\n",
       "      <td>...</td>\n",
       "      <td>...</td>\n",
       "      <td>...</td>\n",
       "      <td>...</td>\n",
       "      <td>...</td>\n",
       "      <td>...</td>\n",
       "      <td>...</td>\n",
       "      <td>...</td>\n",
       "      <td>...</td>\n",
       "      <td>...</td>\n",
       "      <td>...</td>\n",
       "      <td>...</td>\n",
       "    </tr>\n",
       "    <tr>\n",
       "      <td>22542</td>\n",
       "      <td>5</td>\n",
       "      <td>8500000.0</td>\n",
       "      <td>63.5</td>\n",
       "      <td>2017-05-24T00:00:00</td>\n",
       "      <td>2</td>\n",
       "      <td>2.80</td>\n",
       "      <td>NaN</td>\n",
       "      <td>NaN</td>\n",
       "      <td>3</td>\n",
       "      <td>False</td>\n",
       "      <td>...</td>\n",
       "      <td>NaN</td>\n",
       "      <td>NaN</td>\n",
       "      <td>Санкт-Петербург</td>\n",
       "      <td>51340.0</td>\n",
       "      <td>15363.0</td>\n",
       "      <td>0.0</td>\n",
       "      <td>NaN</td>\n",
       "      <td>1.0</td>\n",
       "      <td>853.0</td>\n",
       "      <td>512.0</td>\n",
       "    </tr>\n",
       "    <tr>\n",
       "      <td>22656</td>\n",
       "      <td>4</td>\n",
       "      <td>4574160.0</td>\n",
       "      <td>64.5</td>\n",
       "      <td>2017-04-02T00:00:00</td>\n",
       "      <td>2</td>\n",
       "      <td>2.53</td>\n",
       "      <td>NaN</td>\n",
       "      <td>31.70</td>\n",
       "      <td>20</td>\n",
       "      <td>False</td>\n",
       "      <td>...</td>\n",
       "      <td>14.40</td>\n",
       "      <td>0.0</td>\n",
       "      <td>Санкт-Петербург</td>\n",
       "      <td>22041.0</td>\n",
       "      <td>17369.0</td>\n",
       "      <td>0.0</td>\n",
       "      <td>NaN</td>\n",
       "      <td>1.0</td>\n",
       "      <td>374.0</td>\n",
       "      <td>127.0</td>\n",
       "    </tr>\n",
       "    <tr>\n",
       "      <td>22808</td>\n",
       "      <td>0</td>\n",
       "      <td>14569263.0</td>\n",
       "      <td>110.4</td>\n",
       "      <td>2016-11-20T00:00:00</td>\n",
       "      <td>3</td>\n",
       "      <td>2.53</td>\n",
       "      <td>NaN</td>\n",
       "      <td>45.38</td>\n",
       "      <td>6</td>\n",
       "      <td>False</td>\n",
       "      <td>...</td>\n",
       "      <td>23.42</td>\n",
       "      <td>0.0</td>\n",
       "      <td>Санкт-Петербург</td>\n",
       "      <td>19095.0</td>\n",
       "      <td>4529.0</td>\n",
       "      <td>0.0</td>\n",
       "      <td>NaN</td>\n",
       "      <td>0.0</td>\n",
       "      <td>NaN</td>\n",
       "      <td>260.0</td>\n",
       "    </tr>\n",
       "    <tr>\n",
       "      <td>23590</td>\n",
       "      <td>0</td>\n",
       "      <td>21187872.0</td>\n",
       "      <td>123.3</td>\n",
       "      <td>2017-04-25T00:00:00</td>\n",
       "      <td>3</td>\n",
       "      <td>2.53</td>\n",
       "      <td>NaN</td>\n",
       "      <td>50.40</td>\n",
       "      <td>18</td>\n",
       "      <td>False</td>\n",
       "      <td>...</td>\n",
       "      <td>23.60</td>\n",
       "      <td>0.0</td>\n",
       "      <td>Санкт-Петербург</td>\n",
       "      <td>19095.0</td>\n",
       "      <td>4529.0</td>\n",
       "      <td>0.0</td>\n",
       "      <td>NaN</td>\n",
       "      <td>0.0</td>\n",
       "      <td>NaN</td>\n",
       "      <td>104.0</td>\n",
       "    </tr>\n",
       "    <tr>\n",
       "      <td>23658</td>\n",
       "      <td>6</td>\n",
       "      <td>3063600.0</td>\n",
       "      <td>43.8</td>\n",
       "      <td>2016-11-28T00:00:00</td>\n",
       "      <td>1</td>\n",
       "      <td>2.70</td>\n",
       "      <td>NaN</td>\n",
       "      <td>14.00</td>\n",
       "      <td>8</td>\n",
       "      <td>False</td>\n",
       "      <td>...</td>\n",
       "      <td>15.50</td>\n",
       "      <td>2.0</td>\n",
       "      <td>Санкт-Петербург</td>\n",
       "      <td>8426.0</td>\n",
       "      <td>12082.0</td>\n",
       "      <td>2.0</td>\n",
       "      <td>24.0</td>\n",
       "      <td>1.0</td>\n",
       "      <td>271.0</td>\n",
       "      <td>246.0</td>\n",
       "    </tr>\n",
       "  </tbody>\n",
       "</table>\n",
       "<p>86 rows × 22 columns</p>\n",
       "</div>"
      ],
      "text/plain": [
       "       total_images  last_price  total_area first_day_exposition  rooms  \\\n",
       "186              12  11640000.0        65.2  2018-10-02T00:00:00      2   \n",
       "237               4   2438033.0        28.1  2016-11-23T00:00:00      1   \n",
       "457               4   9788348.0        70.8  2015-08-01T00:00:00      2   \n",
       "671               4   6051191.0        93.6  2017-04-06T00:00:00      3   \n",
       "1757              5   3600000.0        39.0  2017-04-22T00:00:00      1   \n",
       "...             ...         ...         ...                  ...    ...   \n",
       "22542             5   8500000.0        63.5  2017-05-24T00:00:00      2   \n",
       "22656             4   4574160.0        64.5  2017-04-02T00:00:00      2   \n",
       "22808             0  14569263.0       110.4  2016-11-20T00:00:00      3   \n",
       "23590             0  21187872.0       123.3  2017-04-25T00:00:00      3   \n",
       "23658             6   3063600.0        43.8  2016-11-28T00:00:00      1   \n",
       "\n",
       "       ceiling_height  floors_total  living_area  floor  is_apartment  ...  \\\n",
       "186              2.53           NaN        30.80      4         False  ...   \n",
       "237              2.53           NaN        20.75      1         False  ...   \n",
       "457              2.53           NaN        38.40     12         False  ...   \n",
       "671              2.53           NaN        47.10      8         False  ...   \n",
       "1757             2.53           NaN          NaN      9         False  ...   \n",
       "...               ...           ...          ...    ...           ...  ...   \n",
       "22542            2.80           NaN          NaN      3         False  ...   \n",
       "22656            2.53           NaN        31.70     20         False  ...   \n",
       "22808            2.53           NaN        45.38      6         False  ...   \n",
       "23590            2.53           NaN        50.40     18         False  ...   \n",
       "23658            2.70           NaN        14.00      8         False  ...   \n",
       "\n",
       "       kitchen_area  balcony    locality_name  airports_nearest  \\\n",
       "186           12.00      NaN  Санкт-Петербург           39197.0   \n",
       "237             NaN      0.0  Санкт-Петербург           22041.0   \n",
       "457           10.63      0.0  Санкт-Петербург           37364.0   \n",
       "671           16.80      0.0  Санкт-Петербург           22041.0   \n",
       "1757            NaN      0.0  Санкт-Петербург           22735.0   \n",
       "...             ...      ...              ...               ...   \n",
       "22542           NaN      NaN  Санкт-Петербург           51340.0   \n",
       "22656         14.40      0.0  Санкт-Петербург           22041.0   \n",
       "22808         23.42      0.0  Санкт-Петербург           19095.0   \n",
       "23590         23.60      0.0  Санкт-Петербург           19095.0   \n",
       "23658         15.50      2.0  Санкт-Петербург            8426.0   \n",
       "\n",
       "      cityCenters_nearest  parks_around3000  parks_nearest  ponds_around3000  \\\n",
       "186               12373.0               1.0          123.0               0.0   \n",
       "237               17369.0               0.0            NaN               1.0   \n",
       "457                8322.0               2.0          309.0               2.0   \n",
       "671               17369.0               0.0            NaN               1.0   \n",
       "1757              11618.0               1.0          835.0               1.0   \n",
       "...                   ...               ...            ...               ...   \n",
       "22542             15363.0               0.0            NaN               1.0   \n",
       "22656             17369.0               0.0            NaN               1.0   \n",
       "22808              4529.0               0.0            NaN               0.0   \n",
       "23590              4529.0               0.0            NaN               0.0   \n",
       "23658             12082.0               2.0           24.0               1.0   \n",
       "\n",
       "       ponds_nearest  days_exposition  \n",
       "186              NaN             49.0  \n",
       "237            374.0            251.0  \n",
       "457            706.0            727.0  \n",
       "671            374.0            123.0  \n",
       "1757           652.0             77.0  \n",
       "...              ...              ...  \n",
       "22542          853.0            512.0  \n",
       "22656          374.0            127.0  \n",
       "22808            NaN            260.0  \n",
       "23590            NaN            104.0  \n",
       "23658          271.0            246.0  \n",
       "\n",
       "[86 rows x 22 columns]"
      ]
     },
     "execution_count": 18,
     "metadata": {},
     "output_type": "execute_result"
    }
   ],
   "source": [
    "data[data['floors_total'].isna()] #смотрим на незаполненные значения столбца 'floors_total'"
   ]
  },
  {
   "cell_type": "code",
   "execution_count": 19,
   "metadata": {},
   "outputs": [],
   "source": [
    "#так как количество строк с незаполненным столбцом 'floors_total' меньше 1%, принято решение их удалить\n",
    "\n",
    "data = data.dropna(axis='index', how='any', subset=['floors_total'])"
   ]
  },
  {
   "cell_type": "code",
   "execution_count": 20,
   "metadata": {},
   "outputs": [
    {
     "name": "stdout",
     "output_type": "stream",
     "text": [
      "       total_area  living_area  kitchen_area\n",
      "0             108         51.0         25.00\n",
      "1              40         18.6         11.00\n",
      "2              56         34.3          8.30\n",
      "3             159          NaN           NaN\n",
      "4             100         32.0         41.00\n",
      "...           ...          ...           ...\n",
      "23694         133         73.3         13.83\n",
      "23695          59         38.0          8.50\n",
      "23696          56         29.7           NaN\n",
      "23697          76          NaN         23.30\n",
      "23698          32         12.3          9.00\n",
      "\n",
      "[23613 rows x 3 columns]\n"
     ]
    }
   ],
   "source": [
    "#создаем новую таблицу с округленными данными по общей площади для дальнейшего группирования  и присваиванию соответсующей медианы\n",
    "data1=pd.DataFrame()\n",
    "data1['total_area']=data['total_area'].astype(int)\n",
    "data1['living_area']=data['living_area']\n",
    "data1['kitchen_area']=data['kitchen_area']\n",
    "print(data1)"
   ]
  },
  {
   "cell_type": "code",
   "execution_count": 21,
   "metadata": {},
   "outputs": [],
   "source": [
    "#Значения по жилой площади  заменим  на медиану группируя по окргуленной общей площади\n",
    "\n",
    "data['living_area'] = data['living_area'].fillna(data1.groupby('total_area')['living_area'].transform('median'))\n",
    "\n"
   ]
  },
  {
   "cell_type": "code",
   "execution_count": 22,
   "metadata": {},
   "outputs": [
    {
     "data": {
      "text/html": [
       "<div>\n",
       "<style scoped>\n",
       "    .dataframe tbody tr th:only-of-type {\n",
       "        vertical-align: middle;\n",
       "    }\n",
       "\n",
       "    .dataframe tbody tr th {\n",
       "        vertical-align: top;\n",
       "    }\n",
       "\n",
       "    .dataframe thead th {\n",
       "        text-align: right;\n",
       "    }\n",
       "</style>\n",
       "<table border=\"1\" class=\"dataframe\">\n",
       "  <thead>\n",
       "    <tr style=\"text-align: right;\">\n",
       "      <th></th>\n",
       "      <th>total_images</th>\n",
       "      <th>last_price</th>\n",
       "      <th>total_area</th>\n",
       "      <th>first_day_exposition</th>\n",
       "      <th>rooms</th>\n",
       "      <th>ceiling_height</th>\n",
       "      <th>floors_total</th>\n",
       "      <th>living_area</th>\n",
       "      <th>floor</th>\n",
       "      <th>is_apartment</th>\n",
       "      <th>...</th>\n",
       "      <th>kitchen_area</th>\n",
       "      <th>balcony</th>\n",
       "      <th>locality_name</th>\n",
       "      <th>airports_nearest</th>\n",
       "      <th>cityCenters_nearest</th>\n",
       "      <th>parks_around3000</th>\n",
       "      <th>parks_nearest</th>\n",
       "      <th>ponds_around3000</th>\n",
       "      <th>ponds_nearest</th>\n",
       "      <th>days_exposition</th>\n",
       "    </tr>\n",
       "  </thead>\n",
       "  <tbody>\n",
       "    <tr>\n",
       "      <td>1388</td>\n",
       "      <td>20</td>\n",
       "      <td>59800000.0</td>\n",
       "      <td>399.00</td>\n",
       "      <td>2015-01-21T00:00:00</td>\n",
       "      <td>5</td>\n",
       "      <td>5.60</td>\n",
       "      <td>6.0</td>\n",
       "      <td>NaN</td>\n",
       "      <td>6</td>\n",
       "      <td>False</td>\n",
       "      <td>...</td>\n",
       "      <td>NaN</td>\n",
       "      <td>0.0</td>\n",
       "      <td>Санкт-Петербург</td>\n",
       "      <td>26204.0</td>\n",
       "      <td>6934.0</td>\n",
       "      <td>2.0</td>\n",
       "      <td>149.0</td>\n",
       "      <td>2.0</td>\n",
       "      <td>577.0</td>\n",
       "      <td>719.0</td>\n",
       "    </tr>\n",
       "    <tr>\n",
       "      <td>2127</td>\n",
       "      <td>14</td>\n",
       "      <td>32500000.0</td>\n",
       "      <td>234.00</td>\n",
       "      <td>2016-05-26T00:00:00</td>\n",
       "      <td>5</td>\n",
       "      <td>2.53</td>\n",
       "      <td>7.0</td>\n",
       "      <td>NaN</td>\n",
       "      <td>6</td>\n",
       "      <td>False</td>\n",
       "      <td>...</td>\n",
       "      <td>NaN</td>\n",
       "      <td>0.0</td>\n",
       "      <td>Санкт-Петербург</td>\n",
       "      <td>23987.0</td>\n",
       "      <td>4554.0</td>\n",
       "      <td>1.0</td>\n",
       "      <td>320.0</td>\n",
       "      <td>0.0</td>\n",
       "      <td>NaN</td>\n",
       "      <td>180.0</td>\n",
       "    </tr>\n",
       "    <tr>\n",
       "      <td>2243</td>\n",
       "      <td>9</td>\n",
       "      <td>130278280.0</td>\n",
       "      <td>304.00</td>\n",
       "      <td>2015-07-24T00:00:00</td>\n",
       "      <td>5</td>\n",
       "      <td>3.11</td>\n",
       "      <td>9.0</td>\n",
       "      <td>NaN</td>\n",
       "      <td>7</td>\n",
       "      <td>False</td>\n",
       "      <td>...</td>\n",
       "      <td>NaN</td>\n",
       "      <td>0.0</td>\n",
       "      <td>Санкт-Петербург</td>\n",
       "      <td>25593.0</td>\n",
       "      <td>5913.0</td>\n",
       "      <td>2.0</td>\n",
       "      <td>164.0</td>\n",
       "      <td>0.0</td>\n",
       "      <td>NaN</td>\n",
       "      <td>599.0</td>\n",
       "    </tr>\n",
       "    <tr>\n",
       "      <td>3676</td>\n",
       "      <td>12</td>\n",
       "      <td>28789000.0</td>\n",
       "      <td>441.98</td>\n",
       "      <td>2019-01-23T00:00:00</td>\n",
       "      <td>4</td>\n",
       "      <td>2.53</td>\n",
       "      <td>6.0</td>\n",
       "      <td>NaN</td>\n",
       "      <td>6</td>\n",
       "      <td>False</td>\n",
       "      <td>...</td>\n",
       "      <td>35.05</td>\n",
       "      <td>NaN</td>\n",
       "      <td>Санкт-Петербург</td>\n",
       "      <td>20552.0</td>\n",
       "      <td>5181.0</td>\n",
       "      <td>0.0</td>\n",
       "      <td>NaN</td>\n",
       "      <td>0.0</td>\n",
       "      <td>NaN</td>\n",
       "      <td>NaN</td>\n",
       "    </tr>\n",
       "    <tr>\n",
       "      <td>5893</td>\n",
       "      <td>3</td>\n",
       "      <td>230000000.0</td>\n",
       "      <td>500.00</td>\n",
       "      <td>2017-05-31T00:00:00</td>\n",
       "      <td>6</td>\n",
       "      <td>2.53</td>\n",
       "      <td>7.0</td>\n",
       "      <td>NaN</td>\n",
       "      <td>7</td>\n",
       "      <td>False</td>\n",
       "      <td>...</td>\n",
       "      <td>40.00</td>\n",
       "      <td>0.0</td>\n",
       "      <td>Санкт-Петербург</td>\n",
       "      <td>32440.0</td>\n",
       "      <td>5297.0</td>\n",
       "      <td>0.0</td>\n",
       "      <td>NaN</td>\n",
       "      <td>2.0</td>\n",
       "      <td>198.0</td>\n",
       "      <td>50.0</td>\n",
       "    </tr>\n",
       "    <tr>\n",
       "      <td>9397</td>\n",
       "      <td>10</td>\n",
       "      <td>16073000.0</td>\n",
       "      <td>263.80</td>\n",
       "      <td>2019-01-30T00:00:00</td>\n",
       "      <td>3</td>\n",
       "      <td>2.53</td>\n",
       "      <td>19.0</td>\n",
       "      <td>NaN</td>\n",
       "      <td>4</td>\n",
       "      <td>False</td>\n",
       "      <td>...</td>\n",
       "      <td>23.42</td>\n",
       "      <td>NaN</td>\n",
       "      <td>Санкт-Петербург</td>\n",
       "      <td>18805.0</td>\n",
       "      <td>4400.0</td>\n",
       "      <td>0.0</td>\n",
       "      <td>NaN</td>\n",
       "      <td>0.0</td>\n",
       "      <td>NaN</td>\n",
       "      <td>35.0</td>\n",
       "    </tr>\n",
       "    <tr>\n",
       "      <td>9826</td>\n",
       "      <td>1</td>\n",
       "      <td>43185328.0</td>\n",
       "      <td>494.10</td>\n",
       "      <td>2017-05-12T00:00:00</td>\n",
       "      <td>1</td>\n",
       "      <td>2.85</td>\n",
       "      <td>12.0</td>\n",
       "      <td>NaN</td>\n",
       "      <td>3</td>\n",
       "      <td>False</td>\n",
       "      <td>...</td>\n",
       "      <td>NaN</td>\n",
       "      <td>0.0</td>\n",
       "      <td>Санкт-Петербург</td>\n",
       "      <td>28529.0</td>\n",
       "      <td>6832.0</td>\n",
       "      <td>1.0</td>\n",
       "      <td>592.0</td>\n",
       "      <td>0.0</td>\n",
       "      <td>NaN</td>\n",
       "      <td>5.0</td>\n",
       "    </tr>\n",
       "    <tr>\n",
       "      <td>10181</td>\n",
       "      <td>9</td>\n",
       "      <td>35000000.0</td>\n",
       "      <td>295.00</td>\n",
       "      <td>2017-12-16T00:00:00</td>\n",
       "      <td>4</td>\n",
       "      <td>2.53</td>\n",
       "      <td>5.0</td>\n",
       "      <td>NaN</td>\n",
       "      <td>4</td>\n",
       "      <td>False</td>\n",
       "      <td>...</td>\n",
       "      <td>NaN</td>\n",
       "      <td>NaN</td>\n",
       "      <td>Санкт-Петербург</td>\n",
       "      <td>26711.0</td>\n",
       "      <td>5559.0</td>\n",
       "      <td>0.0</td>\n",
       "      <td>NaN</td>\n",
       "      <td>1.0</td>\n",
       "      <td>785.0</td>\n",
       "      <td>90.0</td>\n",
       "    </tr>\n",
       "    <tr>\n",
       "      <td>12674</td>\n",
       "      <td>16</td>\n",
       "      <td>140000000.0</td>\n",
       "      <td>241.00</td>\n",
       "      <td>2015-07-24T00:00:00</td>\n",
       "      <td>5</td>\n",
       "      <td>3.00</td>\n",
       "      <td>5.0</td>\n",
       "      <td>NaN</td>\n",
       "      <td>4</td>\n",
       "      <td>False</td>\n",
       "      <td>...</td>\n",
       "      <td>NaN</td>\n",
       "      <td>0.0</td>\n",
       "      <td>Санкт-Петербург</td>\n",
       "      <td>23512.0</td>\n",
       "      <td>3503.0</td>\n",
       "      <td>3.0</td>\n",
       "      <td>413.0</td>\n",
       "      <td>3.0</td>\n",
       "      <td>83.0</td>\n",
       "      <td>399.0</td>\n",
       "    </tr>\n",
       "    <tr>\n",
       "      <td>15016</td>\n",
       "      <td>8</td>\n",
       "      <td>150000000.0</td>\n",
       "      <td>500.00</td>\n",
       "      <td>2016-01-13T00:00:00</td>\n",
       "      <td>4</td>\n",
       "      <td>3.20</td>\n",
       "      <td>7.0</td>\n",
       "      <td>NaN</td>\n",
       "      <td>7</td>\n",
       "      <td>False</td>\n",
       "      <td>...</td>\n",
       "      <td>NaN</td>\n",
       "      <td>0.0</td>\n",
       "      <td>Санкт-Петербург</td>\n",
       "      <td>33058.0</td>\n",
       "      <td>6150.0</td>\n",
       "      <td>3.0</td>\n",
       "      <td>209.0</td>\n",
       "      <td>3.0</td>\n",
       "      <td>531.0</td>\n",
       "      <td>303.0</td>\n",
       "    </tr>\n",
       "    <tr>\n",
       "      <td>15079</td>\n",
       "      <td>4</td>\n",
       "      <td>18924000.0</td>\n",
       "      <td>199.20</td>\n",
       "      <td>2017-08-15T00:00:00</td>\n",
       "      <td>4</td>\n",
       "      <td>2.53</td>\n",
       "      <td>20.0</td>\n",
       "      <td>NaN</td>\n",
       "      <td>1</td>\n",
       "      <td>False</td>\n",
       "      <td>...</td>\n",
       "      <td>NaN</td>\n",
       "      <td>0.0</td>\n",
       "      <td>Санкт-Петербург</td>\n",
       "      <td>17720.0</td>\n",
       "      <td>16722.0</td>\n",
       "      <td>3.0</td>\n",
       "      <td>471.0</td>\n",
       "      <td>2.0</td>\n",
       "      <td>440.0</td>\n",
       "      <td>51.0</td>\n",
       "    </tr>\n",
       "    <tr>\n",
       "      <td>19392</td>\n",
       "      <td>5</td>\n",
       "      <td>71000000.0</td>\n",
       "      <td>371.00</td>\n",
       "      <td>2018-07-26T00:00:00</td>\n",
       "      <td>0</td>\n",
       "      <td>3.57</td>\n",
       "      <td>7.0</td>\n",
       "      <td>NaN</td>\n",
       "      <td>6</td>\n",
       "      <td>False</td>\n",
       "      <td>...</td>\n",
       "      <td>NaN</td>\n",
       "      <td>NaN</td>\n",
       "      <td>Санкт-Петербург</td>\n",
       "      <td>25257.0</td>\n",
       "      <td>6060.0</td>\n",
       "      <td>1.0</td>\n",
       "      <td>761.0</td>\n",
       "      <td>1.0</td>\n",
       "      <td>584.0</td>\n",
       "      <td>90.0</td>\n",
       "    </tr>\n",
       "    <tr>\n",
       "      <td>19964</td>\n",
       "      <td>10</td>\n",
       "      <td>13545000.0</td>\n",
       "      <td>238.26</td>\n",
       "      <td>2019-01-30T00:00:00</td>\n",
       "      <td>3</td>\n",
       "      <td>2.53</td>\n",
       "      <td>19.0</td>\n",
       "      <td>NaN</td>\n",
       "      <td>4</td>\n",
       "      <td>False</td>\n",
       "      <td>...</td>\n",
       "      <td>10.20</td>\n",
       "      <td>NaN</td>\n",
       "      <td>Санкт-Петербург</td>\n",
       "      <td>18995.0</td>\n",
       "      <td>4579.0</td>\n",
       "      <td>0.0</td>\n",
       "      <td>NaN</td>\n",
       "      <td>0.0</td>\n",
       "      <td>NaN</td>\n",
       "      <td>35.0</td>\n",
       "    </tr>\n",
       "    <tr>\n",
       "      <td>20355</td>\n",
       "      <td>20</td>\n",
       "      <td>68000000.0</td>\n",
       "      <td>254.00</td>\n",
       "      <td>2018-06-30T00:00:00</td>\n",
       "      <td>5</td>\n",
       "      <td>3.46</td>\n",
       "      <td>5.0</td>\n",
       "      <td>NaN</td>\n",
       "      <td>3</td>\n",
       "      <td>False</td>\n",
       "      <td>...</td>\n",
       "      <td>45.00</td>\n",
       "      <td>NaN</td>\n",
       "      <td>Санкт-Петербург</td>\n",
       "      <td>37994.0</td>\n",
       "      <td>11154.0</td>\n",
       "      <td>1.0</td>\n",
       "      <td>390.0</td>\n",
       "      <td>1.0</td>\n",
       "      <td>782.0</td>\n",
       "      <td>284.0</td>\n",
       "    </tr>\n",
       "    <tr>\n",
       "      <td>22131</td>\n",
       "      <td>14</td>\n",
       "      <td>27000000.0</td>\n",
       "      <td>422.20</td>\n",
       "      <td>2018-10-18T00:00:00</td>\n",
       "      <td>5</td>\n",
       "      <td>2.70</td>\n",
       "      <td>13.0</td>\n",
       "      <td>NaN</td>\n",
       "      <td>11</td>\n",
       "      <td>False</td>\n",
       "      <td>...</td>\n",
       "      <td>NaN</td>\n",
       "      <td>NaN</td>\n",
       "      <td>Санкт-Петербург</td>\n",
       "      <td>46625.0</td>\n",
       "      <td>16554.0</td>\n",
       "      <td>0.0</td>\n",
       "      <td>NaN</td>\n",
       "      <td>0.0</td>\n",
       "      <td>NaN</td>\n",
       "      <td>NaN</td>\n",
       "    </tr>\n",
       "  </tbody>\n",
       "</table>\n",
       "<p>15 rows × 22 columns</p>\n",
       "</div>"
      ],
      "text/plain": [
       "       total_images   last_price  total_area first_day_exposition  rooms  \\\n",
       "1388             20   59800000.0      399.00  2015-01-21T00:00:00      5   \n",
       "2127             14   32500000.0      234.00  2016-05-26T00:00:00      5   \n",
       "2243              9  130278280.0      304.00  2015-07-24T00:00:00      5   \n",
       "3676             12   28789000.0      441.98  2019-01-23T00:00:00      4   \n",
       "5893              3  230000000.0      500.00  2017-05-31T00:00:00      6   \n",
       "9397             10   16073000.0      263.80  2019-01-30T00:00:00      3   \n",
       "9826              1   43185328.0      494.10  2017-05-12T00:00:00      1   \n",
       "10181             9   35000000.0      295.00  2017-12-16T00:00:00      4   \n",
       "12674            16  140000000.0      241.00  2015-07-24T00:00:00      5   \n",
       "15016             8  150000000.0      500.00  2016-01-13T00:00:00      4   \n",
       "15079             4   18924000.0      199.20  2017-08-15T00:00:00      4   \n",
       "19392             5   71000000.0      371.00  2018-07-26T00:00:00      0   \n",
       "19964            10   13545000.0      238.26  2019-01-30T00:00:00      3   \n",
       "20355            20   68000000.0      254.00  2018-06-30T00:00:00      5   \n",
       "22131            14   27000000.0      422.20  2018-10-18T00:00:00      5   \n",
       "\n",
       "       ceiling_height  floors_total  living_area  floor  is_apartment  ...  \\\n",
       "1388             5.60           6.0          NaN      6         False  ...   \n",
       "2127             2.53           7.0          NaN      6         False  ...   \n",
       "2243             3.11           9.0          NaN      7         False  ...   \n",
       "3676             2.53           6.0          NaN      6         False  ...   \n",
       "5893             2.53           7.0          NaN      7         False  ...   \n",
       "9397             2.53          19.0          NaN      4         False  ...   \n",
       "9826             2.85          12.0          NaN      3         False  ...   \n",
       "10181            2.53           5.0          NaN      4         False  ...   \n",
       "12674            3.00           5.0          NaN      4         False  ...   \n",
       "15016            3.20           7.0          NaN      7         False  ...   \n",
       "15079            2.53          20.0          NaN      1         False  ...   \n",
       "19392            3.57           7.0          NaN      6         False  ...   \n",
       "19964            2.53          19.0          NaN      4         False  ...   \n",
       "20355            3.46           5.0          NaN      3         False  ...   \n",
       "22131            2.70          13.0          NaN     11         False  ...   \n",
       "\n",
       "       kitchen_area  balcony    locality_name  airports_nearest  \\\n",
       "1388            NaN      0.0  Санкт-Петербург           26204.0   \n",
       "2127            NaN      0.0  Санкт-Петербург           23987.0   \n",
       "2243            NaN      0.0  Санкт-Петербург           25593.0   \n",
       "3676          35.05      NaN  Санкт-Петербург           20552.0   \n",
       "5893          40.00      0.0  Санкт-Петербург           32440.0   \n",
       "9397          23.42      NaN  Санкт-Петербург           18805.0   \n",
       "9826            NaN      0.0  Санкт-Петербург           28529.0   \n",
       "10181           NaN      NaN  Санкт-Петербург           26711.0   \n",
       "12674           NaN      0.0  Санкт-Петербург           23512.0   \n",
       "15016           NaN      0.0  Санкт-Петербург           33058.0   \n",
       "15079           NaN      0.0  Санкт-Петербург           17720.0   \n",
       "19392           NaN      NaN  Санкт-Петербург           25257.0   \n",
       "19964         10.20      NaN  Санкт-Петербург           18995.0   \n",
       "20355         45.00      NaN  Санкт-Петербург           37994.0   \n",
       "22131           NaN      NaN  Санкт-Петербург           46625.0   \n",
       "\n",
       "      cityCenters_nearest  parks_around3000  parks_nearest  ponds_around3000  \\\n",
       "1388               6934.0               2.0          149.0               2.0   \n",
       "2127               4554.0               1.0          320.0               0.0   \n",
       "2243               5913.0               2.0          164.0               0.0   \n",
       "3676               5181.0               0.0            NaN               0.0   \n",
       "5893               5297.0               0.0            NaN               2.0   \n",
       "9397               4400.0               0.0            NaN               0.0   \n",
       "9826               6832.0               1.0          592.0               0.0   \n",
       "10181              5559.0               0.0            NaN               1.0   \n",
       "12674              3503.0               3.0          413.0               3.0   \n",
       "15016              6150.0               3.0          209.0               3.0   \n",
       "15079             16722.0               3.0          471.0               2.0   \n",
       "19392              6060.0               1.0          761.0               1.0   \n",
       "19964              4579.0               0.0            NaN               0.0   \n",
       "20355             11154.0               1.0          390.0               1.0   \n",
       "22131             16554.0               0.0            NaN               0.0   \n",
       "\n",
       "       ponds_nearest  days_exposition  \n",
       "1388           577.0            719.0  \n",
       "2127             NaN            180.0  \n",
       "2243             NaN            599.0  \n",
       "3676             NaN              NaN  \n",
       "5893           198.0             50.0  \n",
       "9397             NaN             35.0  \n",
       "9826             NaN              5.0  \n",
       "10181          785.0             90.0  \n",
       "12674           83.0            399.0  \n",
       "15016          531.0            303.0  \n",
       "15079          440.0             51.0  \n",
       "19392          584.0             90.0  \n",
       "19964            NaN             35.0  \n",
       "20355          782.0            284.0  \n",
       "22131            NaN              NaN  \n",
       "\n",
       "[15 rows x 22 columns]"
      ]
     },
     "execution_count": 22,
     "metadata": {},
     "output_type": "execute_result"
    }
   ],
   "source": [
    "data[data['living_area'].isna()]\n",
    "#проверяем пропущенные значения по столбцу 'living_area'"
   ]
  },
  {
   "cell_type": "code",
   "execution_count": 23,
   "metadata": {},
   "outputs": [],
   "source": [
    "#Так как оставшихся пропущенных значений по столбцу 'living_area' осталось меньше 1% принято решение их удалить\n",
    "data = data.dropna(axis='index', how='any', subset=['living_area'])"
   ]
  },
  {
   "cell_type": "code",
   "execution_count": 24,
   "metadata": {},
   "outputs": [],
   "source": [
    "#Значения по площади кухни  заменим  на медиану группируя по окргуленной общей площади\n",
    "\n",
    "data['kitchen_area'] = data['kitchen_area'].fillna(data1.groupby('total_area')['kitchen_area'].transform('median'))"
   ]
  },
  {
   "cell_type": "code",
   "execution_count": 25,
   "metadata": {},
   "outputs": [
    {
     "data": {
      "text/html": [
       "<div>\n",
       "<style scoped>\n",
       "    .dataframe tbody tr th:only-of-type {\n",
       "        vertical-align: middle;\n",
       "    }\n",
       "\n",
       "    .dataframe tbody tr th {\n",
       "        vertical-align: top;\n",
       "    }\n",
       "\n",
       "    .dataframe thead th {\n",
       "        text-align: right;\n",
       "    }\n",
       "</style>\n",
       "<table border=\"1\" class=\"dataframe\">\n",
       "  <thead>\n",
       "    <tr style=\"text-align: right;\">\n",
       "      <th></th>\n",
       "      <th>total_images</th>\n",
       "      <th>last_price</th>\n",
       "      <th>total_area</th>\n",
       "      <th>first_day_exposition</th>\n",
       "      <th>rooms</th>\n",
       "      <th>ceiling_height</th>\n",
       "      <th>floors_total</th>\n",
       "      <th>living_area</th>\n",
       "      <th>floor</th>\n",
       "      <th>is_apartment</th>\n",
       "      <th>...</th>\n",
       "      <th>kitchen_area</th>\n",
       "      <th>balcony</th>\n",
       "      <th>locality_name</th>\n",
       "      <th>airports_nearest</th>\n",
       "      <th>cityCenters_nearest</th>\n",
       "      <th>parks_around3000</th>\n",
       "      <th>parks_nearest</th>\n",
       "      <th>ponds_around3000</th>\n",
       "      <th>ponds_nearest</th>\n",
       "      <th>days_exposition</th>\n",
       "    </tr>\n",
       "  </thead>\n",
       "  <tbody>\n",
       "    <tr>\n",
       "      <td>155</td>\n",
       "      <td>8</td>\n",
       "      <td>96000000.0</td>\n",
       "      <td>317.0</td>\n",
       "      <td>2017-07-07T00:00:00</td>\n",
       "      <td>4</td>\n",
       "      <td>3.50</td>\n",
       "      <td>3.0</td>\n",
       "      <td>183.00</td>\n",
       "      <td>3</td>\n",
       "      <td>False</td>\n",
       "      <td>...</td>\n",
       "      <td>NaN</td>\n",
       "      <td>1.0</td>\n",
       "      <td>Санкт-Петербург</td>\n",
       "      <td>22673.0</td>\n",
       "      <td>1771.0</td>\n",
       "      <td>2.0</td>\n",
       "      <td>508.0</td>\n",
       "      <td>3.0</td>\n",
       "      <td>366.0</td>\n",
       "      <td>62.0</td>\n",
       "    </tr>\n",
       "    <tr>\n",
       "      <td>5855</td>\n",
       "      <td>3</td>\n",
       "      <td>945750.0</td>\n",
       "      <td>19.5</td>\n",
       "      <td>2017-09-18T00:00:00</td>\n",
       "      <td>0</td>\n",
       "      <td>2.76</td>\n",
       "      <td>3.0</td>\n",
       "      <td>12.70</td>\n",
       "      <td>2</td>\n",
       "      <td>False</td>\n",
       "      <td>...</td>\n",
       "      <td>NaN</td>\n",
       "      <td>0.0</td>\n",
       "      <td>поселок городского типа Дубровка</td>\n",
       "      <td>NaN</td>\n",
       "      <td>NaN</td>\n",
       "      <td>NaN</td>\n",
       "      <td>NaN</td>\n",
       "      <td>NaN</td>\n",
       "      <td>NaN</td>\n",
       "      <td>3.0</td>\n",
       "    </tr>\n",
       "    <tr>\n",
       "      <td>8454</td>\n",
       "      <td>7</td>\n",
       "      <td>2250000.0</td>\n",
       "      <td>19.0</td>\n",
       "      <td>2019-03-12T00:00:00</td>\n",
       "      <td>0</td>\n",
       "      <td>3.00</td>\n",
       "      <td>6.0</td>\n",
       "      <td>13.85</td>\n",
       "      <td>2</td>\n",
       "      <td>False</td>\n",
       "      <td>...</td>\n",
       "      <td>NaN</td>\n",
       "      <td>NaN</td>\n",
       "      <td>Санкт-Петербург</td>\n",
       "      <td>12430.0</td>\n",
       "      <td>7316.0</td>\n",
       "      <td>1.0</td>\n",
       "      <td>238.0</td>\n",
       "      <td>3.0</td>\n",
       "      <td>374.0</td>\n",
       "      <td>44.0</td>\n",
       "    </tr>\n",
       "    <tr>\n",
       "      <td>8886</td>\n",
       "      <td>10</td>\n",
       "      <td>2450000.0</td>\n",
       "      <td>15.5</td>\n",
       "      <td>2018-08-22T00:00:00</td>\n",
       "      <td>0</td>\n",
       "      <td>2.53</td>\n",
       "      <td>5.0</td>\n",
       "      <td>10.00</td>\n",
       "      <td>2</td>\n",
       "      <td>False</td>\n",
       "      <td>...</td>\n",
       "      <td>NaN</td>\n",
       "      <td>NaN</td>\n",
       "      <td>Санкт-Петербург</td>\n",
       "      <td>24326.0</td>\n",
       "      <td>4589.0</td>\n",
       "      <td>0.0</td>\n",
       "      <td>NaN</td>\n",
       "      <td>1.0</td>\n",
       "      <td>446.0</td>\n",
       "      <td>27.0</td>\n",
       "    </tr>\n",
       "    <tr>\n",
       "      <td>9412</td>\n",
       "      <td>5</td>\n",
       "      <td>2100000.0</td>\n",
       "      <td>16.0</td>\n",
       "      <td>2017-12-10T00:00:00</td>\n",
       "      <td>0</td>\n",
       "      <td>2.53</td>\n",
       "      <td>6.0</td>\n",
       "      <td>13.00</td>\n",
       "      <td>1</td>\n",
       "      <td>False</td>\n",
       "      <td>...</td>\n",
       "      <td>NaN</td>\n",
       "      <td>NaN</td>\n",
       "      <td>Санкт-Петербург</td>\n",
       "      <td>20735.0</td>\n",
       "      <td>2111.0</td>\n",
       "      <td>2.0</td>\n",
       "      <td>228.0</td>\n",
       "      <td>3.0</td>\n",
       "      <td>72.0</td>\n",
       "      <td>3.0</td>\n",
       "    </tr>\n",
       "    <tr>\n",
       "      <td>9817</td>\n",
       "      <td>8</td>\n",
       "      <td>2190000.0</td>\n",
       "      <td>19.0</td>\n",
       "      <td>2018-10-12T00:00:00</td>\n",
       "      <td>0</td>\n",
       "      <td>3.50</td>\n",
       "      <td>5.0</td>\n",
       "      <td>15.00</td>\n",
       "      <td>1</td>\n",
       "      <td>False</td>\n",
       "      <td>...</td>\n",
       "      <td>NaN</td>\n",
       "      <td>NaN</td>\n",
       "      <td>Санкт-Петербург</td>\n",
       "      <td>29561.0</td>\n",
       "      <td>8264.0</td>\n",
       "      <td>2.0</td>\n",
       "      <td>383.0</td>\n",
       "      <td>1.0</td>\n",
       "      <td>781.0</td>\n",
       "      <td>89.0</td>\n",
       "    </tr>\n",
       "    <tr>\n",
       "      <td>11436</td>\n",
       "      <td>4</td>\n",
       "      <td>24000000.0</td>\n",
       "      <td>316.3</td>\n",
       "      <td>2015-03-25T00:00:00</td>\n",
       "      <td>8</td>\n",
       "      <td>2.53</td>\n",
       "      <td>5.0</td>\n",
       "      <td>187.00</td>\n",
       "      <td>5</td>\n",
       "      <td>False</td>\n",
       "      <td>...</td>\n",
       "      <td>NaN</td>\n",
       "      <td>0.0</td>\n",
       "      <td>Санкт-Петербург</td>\n",
       "      <td>24555.0</td>\n",
       "      <td>5129.0</td>\n",
       "      <td>0.0</td>\n",
       "      <td>NaN</td>\n",
       "      <td>1.0</td>\n",
       "      <td>934.0</td>\n",
       "      <td>542.0</td>\n",
       "    </tr>\n",
       "    <tr>\n",
       "      <td>12040</td>\n",
       "      <td>5</td>\n",
       "      <td>1900000.0</td>\n",
       "      <td>15.0</td>\n",
       "      <td>2018-06-27T00:00:00</td>\n",
       "      <td>1</td>\n",
       "      <td>2.50</td>\n",
       "      <td>5.0</td>\n",
       "      <td>10.00</td>\n",
       "      <td>1</td>\n",
       "      <td>False</td>\n",
       "      <td>...</td>\n",
       "      <td>NaN</td>\n",
       "      <td>NaN</td>\n",
       "      <td>Сосновый Бор</td>\n",
       "      <td>NaN</td>\n",
       "      <td>NaN</td>\n",
       "      <td>NaN</td>\n",
       "      <td>NaN</td>\n",
       "      <td>NaN</td>\n",
       "      <td>NaN</td>\n",
       "      <td>45.0</td>\n",
       "    </tr>\n",
       "    <tr>\n",
       "      <td>16949</td>\n",
       "      <td>9</td>\n",
       "      <td>1550000.0</td>\n",
       "      <td>15.0</td>\n",
       "      <td>2018-08-21T00:00:00</td>\n",
       "      <td>1</td>\n",
       "      <td>2.70</td>\n",
       "      <td>9.0</td>\n",
       "      <td>10.00</td>\n",
       "      <td>1</td>\n",
       "      <td>False</td>\n",
       "      <td>...</td>\n",
       "      <td>NaN</td>\n",
       "      <td>NaN</td>\n",
       "      <td>Санкт-Петербург</td>\n",
       "      <td>51048.0</td>\n",
       "      <td>16376.0</td>\n",
       "      <td>0.0</td>\n",
       "      <td>NaN</td>\n",
       "      <td>1.0</td>\n",
       "      <td>1079.0</td>\n",
       "      <td>42.0</td>\n",
       "    </tr>\n",
       "    <tr>\n",
       "      <td>17961</td>\n",
       "      <td>3</td>\n",
       "      <td>1400000.0</td>\n",
       "      <td>13.0</td>\n",
       "      <td>2017-12-03T00:00:00</td>\n",
       "      <td>1</td>\n",
       "      <td>2.60</td>\n",
       "      <td>9.0</td>\n",
       "      <td>10.00</td>\n",
       "      <td>1</td>\n",
       "      <td>False</td>\n",
       "      <td>...</td>\n",
       "      <td>NaN</td>\n",
       "      <td>NaN</td>\n",
       "      <td>Санкт-Петербург</td>\n",
       "      <td>14350.0</td>\n",
       "      <td>15945.0</td>\n",
       "      <td>0.0</td>\n",
       "      <td>NaN</td>\n",
       "      <td>1.0</td>\n",
       "      <td>185.0</td>\n",
       "      <td>410.0</td>\n",
       "    </tr>\n",
       "    <tr>\n",
       "      <td>19546</td>\n",
       "      <td>3</td>\n",
       "      <td>1850000.0</td>\n",
       "      <td>13.0</td>\n",
       "      <td>2019-03-11T00:00:00</td>\n",
       "      <td>1</td>\n",
       "      <td>3.40</td>\n",
       "      <td>5.0</td>\n",
       "      <td>10.00</td>\n",
       "      <td>2</td>\n",
       "      <td>False</td>\n",
       "      <td>...</td>\n",
       "      <td>NaN</td>\n",
       "      <td>NaN</td>\n",
       "      <td>Санкт-Петербург</td>\n",
       "      <td>24915.0</td>\n",
       "      <td>5483.0</td>\n",
       "      <td>1.0</td>\n",
       "      <td>644.0</td>\n",
       "      <td>0.0</td>\n",
       "      <td>NaN</td>\n",
       "      <td>24.0</td>\n",
       "    </tr>\n",
       "    <tr>\n",
       "      <td>19558</td>\n",
       "      <td>2</td>\n",
       "      <td>1686000.0</td>\n",
       "      <td>13.2</td>\n",
       "      <td>2018-12-17T00:00:00</td>\n",
       "      <td>1</td>\n",
       "      <td>2.53</td>\n",
       "      <td>5.0</td>\n",
       "      <td>10.00</td>\n",
       "      <td>1</td>\n",
       "      <td>False</td>\n",
       "      <td>...</td>\n",
       "      <td>NaN</td>\n",
       "      <td>NaN</td>\n",
       "      <td>Санкт-Петербург</td>\n",
       "      <td>19891.0</td>\n",
       "      <td>4165.0</td>\n",
       "      <td>1.0</td>\n",
       "      <td>361.0</td>\n",
       "      <td>1.0</td>\n",
       "      <td>155.0</td>\n",
       "      <td>19.0</td>\n",
       "    </tr>\n",
       "    <tr>\n",
       "      <td>19807</td>\n",
       "      <td>0</td>\n",
       "      <td>3800000.0</td>\n",
       "      <td>13.0</td>\n",
       "      <td>2018-07-04T00:00:00</td>\n",
       "      <td>1</td>\n",
       "      <td>2.53</td>\n",
       "      <td>5.0</td>\n",
       "      <td>10.00</td>\n",
       "      <td>3</td>\n",
       "      <td>False</td>\n",
       "      <td>...</td>\n",
       "      <td>NaN</td>\n",
       "      <td>NaN</td>\n",
       "      <td>Санкт-Петербург</td>\n",
       "      <td>21302.0</td>\n",
       "      <td>1242.0</td>\n",
       "      <td>1.0</td>\n",
       "      <td>592.0</td>\n",
       "      <td>3.0</td>\n",
       "      <td>27.0</td>\n",
       "      <td>9.0</td>\n",
       "    </tr>\n",
       "    <tr>\n",
       "      <td>19904</td>\n",
       "      <td>4</td>\n",
       "      <td>2400000.0</td>\n",
       "      <td>12.0</td>\n",
       "      <td>2017-07-19T00:00:00</td>\n",
       "      <td>1</td>\n",
       "      <td>2.55</td>\n",
       "      <td>5.0</td>\n",
       "      <td>10.00</td>\n",
       "      <td>2</td>\n",
       "      <td>False</td>\n",
       "      <td>...</td>\n",
       "      <td>NaN</td>\n",
       "      <td>NaN</td>\n",
       "      <td>Санкт-Петербург</td>\n",
       "      <td>21314.0</td>\n",
       "      <td>964.0</td>\n",
       "      <td>1.0</td>\n",
       "      <td>886.0</td>\n",
       "      <td>2.0</td>\n",
       "      <td>45.0</td>\n",
       "      <td>200.0</td>\n",
       "    </tr>\n",
       "  </tbody>\n",
       "</table>\n",
       "<p>14 rows × 22 columns</p>\n",
       "</div>"
      ],
      "text/plain": [
       "       total_images  last_price  total_area first_day_exposition  rooms  \\\n",
       "155               8  96000000.0       317.0  2017-07-07T00:00:00      4   \n",
       "5855              3    945750.0        19.5  2017-09-18T00:00:00      0   \n",
       "8454              7   2250000.0        19.0  2019-03-12T00:00:00      0   \n",
       "8886             10   2450000.0        15.5  2018-08-22T00:00:00      0   \n",
       "9412              5   2100000.0        16.0  2017-12-10T00:00:00      0   \n",
       "9817              8   2190000.0        19.0  2018-10-12T00:00:00      0   \n",
       "11436             4  24000000.0       316.3  2015-03-25T00:00:00      8   \n",
       "12040             5   1900000.0        15.0  2018-06-27T00:00:00      1   \n",
       "16949             9   1550000.0        15.0  2018-08-21T00:00:00      1   \n",
       "17961             3   1400000.0        13.0  2017-12-03T00:00:00      1   \n",
       "19546             3   1850000.0        13.0  2019-03-11T00:00:00      1   \n",
       "19558             2   1686000.0        13.2  2018-12-17T00:00:00      1   \n",
       "19807             0   3800000.0        13.0  2018-07-04T00:00:00      1   \n",
       "19904             4   2400000.0        12.0  2017-07-19T00:00:00      1   \n",
       "\n",
       "       ceiling_height  floors_total  living_area  floor  is_apartment  ...  \\\n",
       "155              3.50           3.0       183.00      3         False  ...   \n",
       "5855             2.76           3.0        12.70      2         False  ...   \n",
       "8454             3.00           6.0        13.85      2         False  ...   \n",
       "8886             2.53           5.0        10.00      2         False  ...   \n",
       "9412             2.53           6.0        13.00      1         False  ...   \n",
       "9817             3.50           5.0        15.00      1         False  ...   \n",
       "11436            2.53           5.0       187.00      5         False  ...   \n",
       "12040            2.50           5.0        10.00      1         False  ...   \n",
       "16949            2.70           9.0        10.00      1         False  ...   \n",
       "17961            2.60           9.0        10.00      1         False  ...   \n",
       "19546            3.40           5.0        10.00      2         False  ...   \n",
       "19558            2.53           5.0        10.00      1         False  ...   \n",
       "19807            2.53           5.0        10.00      3         False  ...   \n",
       "19904            2.55           5.0        10.00      2         False  ...   \n",
       "\n",
       "       kitchen_area  balcony                     locality_name  \\\n",
       "155             NaN      1.0                   Санкт-Петербург   \n",
       "5855            NaN      0.0  поселок городского типа Дубровка   \n",
       "8454            NaN      NaN                   Санкт-Петербург   \n",
       "8886            NaN      NaN                   Санкт-Петербург   \n",
       "9412            NaN      NaN                   Санкт-Петербург   \n",
       "9817            NaN      NaN                   Санкт-Петербург   \n",
       "11436           NaN      0.0                   Санкт-Петербург   \n",
       "12040           NaN      NaN                      Сосновый Бор   \n",
       "16949           NaN      NaN                   Санкт-Петербург   \n",
       "17961           NaN      NaN                   Санкт-Петербург   \n",
       "19546           NaN      NaN                   Санкт-Петербург   \n",
       "19558           NaN      NaN                   Санкт-Петербург   \n",
       "19807           NaN      NaN                   Санкт-Петербург   \n",
       "19904           NaN      NaN                   Санкт-Петербург   \n",
       "\n",
       "       airports_nearest cityCenters_nearest  parks_around3000  parks_nearest  \\\n",
       "155             22673.0              1771.0               2.0          508.0   \n",
       "5855                NaN                 NaN               NaN            NaN   \n",
       "8454            12430.0              7316.0               1.0          238.0   \n",
       "8886            24326.0              4589.0               0.0            NaN   \n",
       "9412            20735.0              2111.0               2.0          228.0   \n",
       "9817            29561.0              8264.0               2.0          383.0   \n",
       "11436           24555.0              5129.0               0.0            NaN   \n",
       "12040               NaN                 NaN               NaN            NaN   \n",
       "16949           51048.0             16376.0               0.0            NaN   \n",
       "17961           14350.0             15945.0               0.0            NaN   \n",
       "19546           24915.0              5483.0               1.0          644.0   \n",
       "19558           19891.0              4165.0               1.0          361.0   \n",
       "19807           21302.0              1242.0               1.0          592.0   \n",
       "19904           21314.0               964.0               1.0          886.0   \n",
       "\n",
       "       ponds_around3000  ponds_nearest  days_exposition  \n",
       "155                 3.0          366.0             62.0  \n",
       "5855                NaN            NaN              3.0  \n",
       "8454                3.0          374.0             44.0  \n",
       "8886                1.0          446.0             27.0  \n",
       "9412                3.0           72.0              3.0  \n",
       "9817                1.0          781.0             89.0  \n",
       "11436               1.0          934.0            542.0  \n",
       "12040               NaN            NaN             45.0  \n",
       "16949               1.0         1079.0             42.0  \n",
       "17961               1.0          185.0            410.0  \n",
       "19546               0.0            NaN             24.0  \n",
       "19558               1.0          155.0             19.0  \n",
       "19807               3.0           27.0              9.0  \n",
       "19904               2.0           45.0            200.0  \n",
       "\n",
       "[14 rows x 22 columns]"
      ]
     },
     "execution_count": 25,
     "metadata": {},
     "output_type": "execute_result"
    }
   ],
   "source": [
    "data[data['kitchen_area'].isna()]\n",
    "#проверяем пропущенные значения по столбцу 'kitchen_area'"
   ]
  },
  {
   "cell_type": "code",
   "execution_count": 26,
   "metadata": {},
   "outputs": [],
   "source": [
    "#Так как оставшихся пропущенных значений по столбцу 'kitchen_area' осталось меньше 1% принято решение их удалить\n",
    "data = data.dropna(axis='index', how='any', subset=['kitchen_area'])"
   ]
  },
  {
   "cell_type": "code",
   "execution_count": 27,
   "metadata": {},
   "outputs": [],
   "source": [
    "data['balcony'] = data['balcony'].fillna(0) #будем считать, что если балкон не указан, значит его нет, меняем пустые значения на 0\n"
   ]
  },
  {
   "cell_type": "code",
   "execution_count": 28,
   "metadata": {},
   "outputs": [],
   "source": [
    "data['floors_total']=data['floors_total'].astype('int') # меняем тип данных на целое число"
   ]
  },
  {
   "cell_type": "code",
   "execution_count": 29,
   "metadata": {
    "scrolled": true
   },
   "outputs": [
    {
     "name": "stdout",
     "output_type": "stream",
     "text": [
      "<class 'pandas.core.frame.DataFrame'>\n",
      "Int64Index: 23584 entries, 0 to 23698\n",
      "Data columns (total 22 columns):\n",
      "total_images            23584 non-null int64\n",
      "last_price              23584 non-null float64\n",
      "total_area              23584 non-null float64\n",
      "first_day_exposition    23584 non-null object\n",
      "rooms                   23584 non-null int64\n",
      "ceiling_height          23584 non-null float64\n",
      "floors_total            23584 non-null int64\n",
      "living_area             23584 non-null float64\n",
      "floor                   23584 non-null int64\n",
      "is_apartment            23584 non-null bool\n",
      "studio                  23584 non-null bool\n",
      "open_plan               23584 non-null bool\n",
      "kitchen_area            23584 non-null float64\n",
      "balcony                 23584 non-null float64\n",
      "locality_name           23584 non-null object\n",
      "airports_nearest        18054 non-null float64\n",
      "cityCenters_nearest     18077 non-null float64\n",
      "parks_around3000        18078 non-null float64\n",
      "parks_nearest           8028 non-null float64\n",
      "ponds_around3000        18078 non-null float64\n",
      "ponds_nearest           9042 non-null float64\n",
      "days_exposition         20414 non-null float64\n",
      "dtypes: bool(3), float64(13), int64(4), object(2)\n",
      "memory usage: 3.7+ MB\n"
     ]
    }
   ],
   "source": [
    "data.info()"
   ]
  },
  {
   "cell_type": "markdown",
   "metadata": {},
   "source": [
    "### Вывод\n",
    "\n",
    "Проанализировав полученные данные, были  сделаны следующие действия по замене пропущенных данных в таблице:\n",
    "\n",
    "- Неизвестные города были заменены на город Unknown, также была заменена буква Ё на Е, чтобы \"поселок\" и \"посёлок\" читались как одно слова\n",
    "- Пропущенные значения высоты потолков были заменены на медиану по городу\n",
    "- Пропущенные значения в столбце, отражающие аппартаменты это или нет заменены как \"не аппартаменты\", так как данной категории недвижимости довольно мало на территории России\n",
    "- Строки с пропущенными значениями по общему количеству этажей в домах были удалены, так как эти данные необходимы для отчета, а их пропущенное количество меньше 1%\n",
    "- Пропущенные значения  по жилой площади и площади кухни были заменены основываясь на медианном значении общей площади\n",
    "- Пропущенные значения в столбце с количеством балконов заменены на 0, будем считать что балконы отсутсвуют. Также тип данных в столбце с количеством балконов заменен на целые числа."
   ]
  },
  {
   "cell_type": "markdown",
   "metadata": {},
   "source": [
    "## Расчёты и добавление результатов в таблицу"
   ]
  },
  {
   "cell_type": "code",
   "execution_count": 30,
   "metadata": {},
   "outputs": [],
   "source": [
    "data['price_square_metre']=data['last_price']/data['total_area'] #вычисляем цену квадратного метра в каждой квартире"
   ]
  },
  {
   "cell_type": "code",
   "execution_count": 31,
   "metadata": {},
   "outputs": [],
   "source": [
    "data['ratio_living_and_total']=data['living_area']/data['total_area'] #считаем соотношение жилой площади к общей"
   ]
  },
  {
   "cell_type": "code",
   "execution_count": 32,
   "metadata": {},
   "outputs": [],
   "source": [
    "data['ratio_kitchen_and_total']=data['kitchen_area']/data['total_area'] #считаем соотношение площади кухни и общей"
   ]
  },
  {
   "cell_type": "code",
   "execution_count": 33,
   "metadata": {},
   "outputs": [],
   "source": [
    "def quality_floors(row):\n",
    "    if row['floor']==1:\n",
    "        row['floor']='первый'\n",
    "        return row['floor']\n",
    "    elif row['floors_total']-row['floor']==0:\n",
    "        row['floor']='последний'\n",
    "        return row['floor']\n",
    "    else:\n",
    "        row['floor']='другой'\n",
    "        return row['floor']\n",
    "\n"
   ]
  },
  {
   "cell_type": "code",
   "execution_count": 34,
   "metadata": {},
   "outputs": [],
   "source": [
    "data['quality_floor']=data.apply(quality_floors, axis=1) "
   ]
  },
  {
   "cell_type": "code",
   "execution_count": 35,
   "metadata": {
    "scrolled": true
   },
   "outputs": [],
   "source": [
    "data['first_day_exposition'] = pd.to_datetime(data['first_day_exposition'], format='%Y-%m-%d %H:%M:%S')\n",
    "data['weekday']=data['first_day_exposition'].dt.weekday #добавляем в таблицу день публикации объявления"
   ]
  },
  {
   "cell_type": "code",
   "execution_count": 36,
   "metadata": {},
   "outputs": [],
   "source": [
    "data['year_exposition']=data['first_day_exposition'].dt.year #добавляем в таблицу год публикации объявления\n",
    "data['month_exposition']=data['first_day_exposition'].dt.month #добавляем в таблицу месяц публикации объявления"
   ]
  },
  {
   "cell_type": "code",
   "execution_count": 37,
   "metadata": {
    "scrolled": false
   },
   "outputs": [
    {
     "data": {
      "text/html": [
       "<div>\n",
       "<style scoped>\n",
       "    .dataframe tbody tr th:only-of-type {\n",
       "        vertical-align: middle;\n",
       "    }\n",
       "\n",
       "    .dataframe tbody tr th {\n",
       "        vertical-align: top;\n",
       "    }\n",
       "\n",
       "    .dataframe thead th {\n",
       "        text-align: right;\n",
       "    }\n",
       "</style>\n",
       "<table border=\"1\" class=\"dataframe\">\n",
       "  <thead>\n",
       "    <tr style=\"text-align: right;\">\n",
       "      <th></th>\n",
       "      <th>total_images</th>\n",
       "      <th>last_price</th>\n",
       "      <th>total_area</th>\n",
       "      <th>first_day_exposition</th>\n",
       "      <th>rooms</th>\n",
       "      <th>ceiling_height</th>\n",
       "      <th>floors_total</th>\n",
       "      <th>living_area</th>\n",
       "      <th>floor</th>\n",
       "      <th>is_apartment</th>\n",
       "      <th>...</th>\n",
       "      <th>ponds_around3000</th>\n",
       "      <th>ponds_nearest</th>\n",
       "      <th>days_exposition</th>\n",
       "      <th>price_square_metre</th>\n",
       "      <th>ratio_living_and_total</th>\n",
       "      <th>ratio_kitchen_and_total</th>\n",
       "      <th>quality_floor</th>\n",
       "      <th>weekday</th>\n",
       "      <th>year_exposition</th>\n",
       "      <th>month_exposition</th>\n",
       "    </tr>\n",
       "  </thead>\n",
       "  <tbody>\n",
       "    <tr>\n",
       "      <td>0</td>\n",
       "      <td>20</td>\n",
       "      <td>13000000.0</td>\n",
       "      <td>108.00</td>\n",
       "      <td>2019-03-07</td>\n",
       "      <td>3</td>\n",
       "      <td>2.70</td>\n",
       "      <td>16</td>\n",
       "      <td>51.0</td>\n",
       "      <td>8</td>\n",
       "      <td>False</td>\n",
       "      <td>...</td>\n",
       "      <td>2.0</td>\n",
       "      <td>755.0</td>\n",
       "      <td>NaN</td>\n",
       "      <td>120370.370370</td>\n",
       "      <td>0.472222</td>\n",
       "      <td>0.231481</td>\n",
       "      <td>другой</td>\n",
       "      <td>3</td>\n",
       "      <td>2019</td>\n",
       "      <td>3</td>\n",
       "    </tr>\n",
       "    <tr>\n",
       "      <td>1</td>\n",
       "      <td>7</td>\n",
       "      <td>3350000.0</td>\n",
       "      <td>40.40</td>\n",
       "      <td>2018-12-04</td>\n",
       "      <td>1</td>\n",
       "      <td>0.00</td>\n",
       "      <td>11</td>\n",
       "      <td>18.6</td>\n",
       "      <td>1</td>\n",
       "      <td>False</td>\n",
       "      <td>...</td>\n",
       "      <td>0.0</td>\n",
       "      <td>NaN</td>\n",
       "      <td>81.0</td>\n",
       "      <td>82920.792079</td>\n",
       "      <td>0.460396</td>\n",
       "      <td>0.272277</td>\n",
       "      <td>первый</td>\n",
       "      <td>1</td>\n",
       "      <td>2018</td>\n",
       "      <td>12</td>\n",
       "    </tr>\n",
       "    <tr>\n",
       "      <td>2</td>\n",
       "      <td>10</td>\n",
       "      <td>5196000.0</td>\n",
       "      <td>56.00</td>\n",
       "      <td>2015-08-20</td>\n",
       "      <td>2</td>\n",
       "      <td>2.53</td>\n",
       "      <td>5</td>\n",
       "      <td>34.3</td>\n",
       "      <td>4</td>\n",
       "      <td>False</td>\n",
       "      <td>...</td>\n",
       "      <td>2.0</td>\n",
       "      <td>574.0</td>\n",
       "      <td>558.0</td>\n",
       "      <td>92785.714286</td>\n",
       "      <td>0.612500</td>\n",
       "      <td>0.148214</td>\n",
       "      <td>другой</td>\n",
       "      <td>3</td>\n",
       "      <td>2015</td>\n",
       "      <td>8</td>\n",
       "    </tr>\n",
       "    <tr>\n",
       "      <td>3</td>\n",
       "      <td>0</td>\n",
       "      <td>64900000.0</td>\n",
       "      <td>159.00</td>\n",
       "      <td>2015-07-24</td>\n",
       "      <td>3</td>\n",
       "      <td>2.53</td>\n",
       "      <td>14</td>\n",
       "      <td>99.0</td>\n",
       "      <td>9</td>\n",
       "      <td>False</td>\n",
       "      <td>...</td>\n",
       "      <td>3.0</td>\n",
       "      <td>234.0</td>\n",
       "      <td>424.0</td>\n",
       "      <td>408176.100629</td>\n",
       "      <td>0.622642</td>\n",
       "      <td>0.094340</td>\n",
       "      <td>другой</td>\n",
       "      <td>4</td>\n",
       "      <td>2015</td>\n",
       "      <td>7</td>\n",
       "    </tr>\n",
       "    <tr>\n",
       "      <td>4</td>\n",
       "      <td>2</td>\n",
       "      <td>10000000.0</td>\n",
       "      <td>100.00</td>\n",
       "      <td>2018-06-19</td>\n",
       "      <td>2</td>\n",
       "      <td>3.03</td>\n",
       "      <td>14</td>\n",
       "      <td>32.0</td>\n",
       "      <td>13</td>\n",
       "      <td>False</td>\n",
       "      <td>...</td>\n",
       "      <td>1.0</td>\n",
       "      <td>48.0</td>\n",
       "      <td>121.0</td>\n",
       "      <td>100000.000000</td>\n",
       "      <td>0.320000</td>\n",
       "      <td>0.410000</td>\n",
       "      <td>другой</td>\n",
       "      <td>1</td>\n",
       "      <td>2018</td>\n",
       "      <td>6</td>\n",
       "    </tr>\n",
       "    <tr>\n",
       "      <td>...</td>\n",
       "      <td>...</td>\n",
       "      <td>...</td>\n",
       "      <td>...</td>\n",
       "      <td>...</td>\n",
       "      <td>...</td>\n",
       "      <td>...</td>\n",
       "      <td>...</td>\n",
       "      <td>...</td>\n",
       "      <td>...</td>\n",
       "      <td>...</td>\n",
       "      <td>...</td>\n",
       "      <td>...</td>\n",
       "      <td>...</td>\n",
       "      <td>...</td>\n",
       "      <td>...</td>\n",
       "      <td>...</td>\n",
       "      <td>...</td>\n",
       "      <td>...</td>\n",
       "      <td>...</td>\n",
       "      <td>...</td>\n",
       "      <td>...</td>\n",
       "    </tr>\n",
       "    <tr>\n",
       "      <td>23694</td>\n",
       "      <td>9</td>\n",
       "      <td>9700000.0</td>\n",
       "      <td>133.81</td>\n",
       "      <td>2017-03-21</td>\n",
       "      <td>3</td>\n",
       "      <td>3.70</td>\n",
       "      <td>5</td>\n",
       "      <td>73.3</td>\n",
       "      <td>3</td>\n",
       "      <td>False</td>\n",
       "      <td>...</td>\n",
       "      <td>3.0</td>\n",
       "      <td>381.0</td>\n",
       "      <td>NaN</td>\n",
       "      <td>72490.845228</td>\n",
       "      <td>0.547792</td>\n",
       "      <td>0.103356</td>\n",
       "      <td>другой</td>\n",
       "      <td>1</td>\n",
       "      <td>2017</td>\n",
       "      <td>3</td>\n",
       "    </tr>\n",
       "    <tr>\n",
       "      <td>23695</td>\n",
       "      <td>14</td>\n",
       "      <td>3100000.0</td>\n",
       "      <td>59.00</td>\n",
       "      <td>2018-01-15</td>\n",
       "      <td>3</td>\n",
       "      <td>2.50</td>\n",
       "      <td>5</td>\n",
       "      <td>38.0</td>\n",
       "      <td>4</td>\n",
       "      <td>False</td>\n",
       "      <td>...</td>\n",
       "      <td>NaN</td>\n",
       "      <td>NaN</td>\n",
       "      <td>45.0</td>\n",
       "      <td>52542.372881</td>\n",
       "      <td>0.644068</td>\n",
       "      <td>0.144068</td>\n",
       "      <td>другой</td>\n",
       "      <td>0</td>\n",
       "      <td>2018</td>\n",
       "      <td>1</td>\n",
       "    </tr>\n",
       "    <tr>\n",
       "      <td>23696</td>\n",
       "      <td>18</td>\n",
       "      <td>2500000.0</td>\n",
       "      <td>56.70</td>\n",
       "      <td>2018-02-11</td>\n",
       "      <td>2</td>\n",
       "      <td>0.00</td>\n",
       "      <td>3</td>\n",
       "      <td>29.7</td>\n",
       "      <td>1</td>\n",
       "      <td>False</td>\n",
       "      <td>...</td>\n",
       "      <td>NaN</td>\n",
       "      <td>NaN</td>\n",
       "      <td>NaN</td>\n",
       "      <td>44091.710758</td>\n",
       "      <td>0.523810</td>\n",
       "      <td>0.146384</td>\n",
       "      <td>первый</td>\n",
       "      <td>6</td>\n",
       "      <td>2018</td>\n",
       "      <td>2</td>\n",
       "    </tr>\n",
       "    <tr>\n",
       "      <td>23697</td>\n",
       "      <td>13</td>\n",
       "      <td>11475000.0</td>\n",
       "      <td>76.75</td>\n",
       "      <td>2017-03-28</td>\n",
       "      <td>2</td>\n",
       "      <td>3.00</td>\n",
       "      <td>17</td>\n",
       "      <td>45.0</td>\n",
       "      <td>12</td>\n",
       "      <td>False</td>\n",
       "      <td>...</td>\n",
       "      <td>3.0</td>\n",
       "      <td>196.0</td>\n",
       "      <td>602.0</td>\n",
       "      <td>149511.400651</td>\n",
       "      <td>0.586319</td>\n",
       "      <td>0.303583</td>\n",
       "      <td>другой</td>\n",
       "      <td>1</td>\n",
       "      <td>2017</td>\n",
       "      <td>3</td>\n",
       "    </tr>\n",
       "    <tr>\n",
       "      <td>23698</td>\n",
       "      <td>4</td>\n",
       "      <td>1350000.0</td>\n",
       "      <td>32.30</td>\n",
       "      <td>2017-07-21</td>\n",
       "      <td>1</td>\n",
       "      <td>2.50</td>\n",
       "      <td>5</td>\n",
       "      <td>12.3</td>\n",
       "      <td>1</td>\n",
       "      <td>False</td>\n",
       "      <td>...</td>\n",
       "      <td>NaN</td>\n",
       "      <td>NaN</td>\n",
       "      <td>NaN</td>\n",
       "      <td>41795.665635</td>\n",
       "      <td>0.380805</td>\n",
       "      <td>0.278638</td>\n",
       "      <td>первый</td>\n",
       "      <td>4</td>\n",
       "      <td>2017</td>\n",
       "      <td>7</td>\n",
       "    </tr>\n",
       "  </tbody>\n",
       "</table>\n",
       "<p>23584 rows × 29 columns</p>\n",
       "</div>"
      ],
      "text/plain": [
       "       total_images  last_price  total_area first_day_exposition  rooms  \\\n",
       "0                20  13000000.0      108.00           2019-03-07      3   \n",
       "1                 7   3350000.0       40.40           2018-12-04      1   \n",
       "2                10   5196000.0       56.00           2015-08-20      2   \n",
       "3                 0  64900000.0      159.00           2015-07-24      3   \n",
       "4                 2  10000000.0      100.00           2018-06-19      2   \n",
       "...             ...         ...         ...                  ...    ...   \n",
       "23694             9   9700000.0      133.81           2017-03-21      3   \n",
       "23695            14   3100000.0       59.00           2018-01-15      3   \n",
       "23696            18   2500000.0       56.70           2018-02-11      2   \n",
       "23697            13  11475000.0       76.75           2017-03-28      2   \n",
       "23698             4   1350000.0       32.30           2017-07-21      1   \n",
       "\n",
       "       ceiling_height  floors_total  living_area  floor  is_apartment  ...  \\\n",
       "0                2.70            16         51.0      8         False  ...   \n",
       "1                0.00            11         18.6      1         False  ...   \n",
       "2                2.53             5         34.3      4         False  ...   \n",
       "3                2.53            14         99.0      9         False  ...   \n",
       "4                3.03            14         32.0     13         False  ...   \n",
       "...               ...           ...          ...    ...           ...  ...   \n",
       "23694            3.70             5         73.3      3         False  ...   \n",
       "23695            2.50             5         38.0      4         False  ...   \n",
       "23696            0.00             3         29.7      1         False  ...   \n",
       "23697            3.00            17         45.0     12         False  ...   \n",
       "23698            2.50             5         12.3      1         False  ...   \n",
       "\n",
       "       ponds_around3000  ponds_nearest  days_exposition  price_square_metre  \\\n",
       "0                   2.0          755.0              NaN       120370.370370   \n",
       "1                   0.0            NaN             81.0        82920.792079   \n",
       "2                   2.0          574.0            558.0        92785.714286   \n",
       "3                   3.0          234.0            424.0       408176.100629   \n",
       "4                   1.0           48.0            121.0       100000.000000   \n",
       "...                 ...            ...              ...                 ...   \n",
       "23694               3.0          381.0              NaN        72490.845228   \n",
       "23695               NaN            NaN             45.0        52542.372881   \n",
       "23696               NaN            NaN              NaN        44091.710758   \n",
       "23697               3.0          196.0            602.0       149511.400651   \n",
       "23698               NaN            NaN              NaN        41795.665635   \n",
       "\n",
       "      ratio_living_and_total  ratio_kitchen_and_total  quality_floor  weekday  \\\n",
       "0                   0.472222                 0.231481         другой        3   \n",
       "1                   0.460396                 0.272277         первый        1   \n",
       "2                   0.612500                 0.148214         другой        3   \n",
       "3                   0.622642                 0.094340         другой        4   \n",
       "4                   0.320000                 0.410000         другой        1   \n",
       "...                      ...                      ...            ...      ...   \n",
       "23694               0.547792                 0.103356         другой        1   \n",
       "23695               0.644068                 0.144068         другой        0   \n",
       "23696               0.523810                 0.146384         первый        6   \n",
       "23697               0.586319                 0.303583         другой        1   \n",
       "23698               0.380805                 0.278638         первый        4   \n",
       "\n",
       "       year_exposition  month_exposition  \n",
       "0                 2019                 3  \n",
       "1                 2018                12  \n",
       "2                 2015                 8  \n",
       "3                 2015                 7  \n",
       "4                 2018                 6  \n",
       "...                ...               ...  \n",
       "23694             2017                 3  \n",
       "23695             2018                 1  \n",
       "23696             2018                 2  \n",
       "23697             2017                 3  \n",
       "23698             2017                 7  \n",
       "\n",
       "[23584 rows x 29 columns]"
      ]
     },
     "metadata": {},
     "output_type": "display_data"
    }
   ],
   "source": [
    "display(data)"
   ]
  },
  {
   "cell_type": "code",
   "execution_count": 38,
   "metadata": {},
   "outputs": [
    {
     "data": {
      "image/png": "[encoded data removed]",
      "text/plain": [
       "<Figure size 432x288 with 1 Axes>"
      ]
     },
     "metadata": {
      "needs_background": "light"
     },
     "output_type": "display_data"
    }
   ],
   "source": [
    "data['total_area'].hist(range=(0,400)) \n",
    "plt.title('Распределение общей площади')\n",
    "plt.show()#строим гистограмму для общей площади"
   ]
  },
  {
   "cell_type": "code",
   "execution_count": 39,
   "metadata": {},
   "outputs": [
    {
     "data": {
      "image/png": "[encoded data removed]",
      "text/plain": [
       "<Figure size 432x288 with 1 Axes>"
      ]
     },
     "metadata": {
      "needs_background": "light"
     },
     "output_type": "display_data"
    }
   ],
   "source": [
    "data['last_price'].hist(range=(0,40000000))\n",
    "plt.title('Распределение цены на квартиры')\n",
    "plt.show()#строим гистограмму для цены"
   ]
  },
  {
   "cell_type": "code",
   "execution_count": 94,
   "metadata": {},
   "outputs": [
    {
     "data": {
      "image/png": "[encoded data removed]",
      "text/plain": [
       "<Figure size 432x288 with 1 Axes>"
      ]
     },
     "metadata": {
      "needs_background": "light"
     },
     "output_type": "display_data"
    }
   ],
   "source": [
    "data['rooms'].hist(range=(0,10)) \n",
    "plt.title('Распределение количества комнат')\n",
    "plt.show()\n",
    "#строим гистограмму для количества комнат"
   ]
  },
  {
   "cell_type": "code",
   "execution_count": 41,
   "metadata": {},
   "outputs": [
    {
     "data": {
      "image/png": "[encoded data removed]",
      "text/plain": [
       "<Figure size 432x288 with 1 Axes>"
      ]
     },
     "metadata": {
      "needs_background": "light"
     },
     "output_type": "display_data"
    }
   ],
   "source": [
    "data['ceiling_height'].hist(range=(0,6))\n",
    "plt.title('Распределение высоты потолков')\n",
    "plt.show()#строим гистограмму для высоты потолков"
   ]
  },
  {
   "cell_type": "code",
   "execution_count": 42,
   "metadata": {},
   "outputs": [
    {
     "data": {
      "image/png": "[encoded data removed]",
      "text/plain": [
       "<Figure size 720x504 with 1 Axes>"
      ]
     },
     "metadata": {
      "needs_background": "light"
     },
     "output_type": "display_data"
    }
   ],
   "source": [
    "data['days_exposition'].hist(figsize=(10,7)) \n",
    "plt.title('Распределение времени продаж квартир')\n",
    "plt.show()#строим гистограмму для времени продажи"
   ]
  },
  {
   "cell_type": "code",
   "execution_count": 43,
   "metadata": {
    "scrolled": true
   },
   "outputs": [
    {
     "data": {
      "text/plain": [
       "95.0"
      ]
     },
     "execution_count": 43,
     "metadata": {},
     "output_type": "execute_result"
    }
   ],
   "source": [
    "data['days_exposition'].median() #считаем медиану для времени продаж"
   ]
  },
  {
   "cell_type": "code",
   "execution_count": 44,
   "metadata": {},
   "outputs": [
    {
     "data": {
      "text/plain": [
       "180.91055158224748"
      ]
     },
     "execution_count": 44,
     "metadata": {},
     "output_type": "execute_result"
    }
   ],
   "source": [
    "data['days_exposition'].mean() #считаем среднее для времени продаж"
   ]
  },
  {
   "cell_type": "code",
   "execution_count": 45,
   "metadata": {},
   "outputs": [
    {
     "data": {
      "text/plain": [
       "count    20414.000000\n",
       "mean       180.910552\n",
       "std        219.709164\n",
       "min          1.000000\n",
       "25%         45.000000\n",
       "50%         95.000000\n",
       "75%        232.000000\n",
       "max       1580.000000\n",
       "Name: days_exposition, dtype: float64"
      ]
     },
     "execution_count": 45,
     "metadata": {},
     "output_type": "execute_result"
    }
   ],
   "source": [
    "data['days_exposition'].describe() #просматриваем данные по времени продажам"
   ]
  },
  {
   "cell_type": "markdown",
   "metadata": {},
   "source": [
    "### Время продаж.Вывод\n",
    "\n",
    "Анализируя время продаж, можно сказать, что в среднем квартиры продаются за 6 месяцев. Однако половина квартир продалась примерно за 3 месяца(95 дней).\n",
    "\n",
    "\n",
    "Учитывая медианное значение, а также точку третьего квартиля, можно сказать, что если кватира продается дольше 3-4 месяцев, это уже задержка...\n",
    "\n",
    "Особенная редкость, если квартира продается дольше, чем за 800 дней.\n",
    "\n",
    "\n"
   ]
  },
  {
   "cell_type": "code",
   "execution_count": 47,
   "metadata": {},
   "outputs": [
    {
     "data": {
      "image/png": "[encoded data removed]",
      "text/plain": [
       "<Figure size 432x288 with 1 Axes>"
      ]
     },
     "metadata": {
      "needs_background": "light"
     },
     "output_type": "display_data"
    }
   ],
   "source": [
    "data.boxplot() \n",
    "plt.ylim(0,10)\n",
    "import warnings\n",
    "warnings.simplefilter('ignore')"
   ]
  },
  {
   "cell_type": "code",
   "execution_count": 48,
   "metadata": {},
   "outputs": [
    {
     "name": "stdout",
     "output_type": "stream",
     "text": [
      "0.30041467081699275\n"
     ]
    }
   ],
   "source": [
    "print(data['price_square_metre'].corr(data['total_area'])) #анализируем зависимость цены квадратного метра и общей площади"
   ]
  },
  {
   "cell_type": "code",
   "execution_count": 49,
   "metadata": {},
   "outputs": [
    {
     "name": "stdout",
     "output_type": "stream",
     "text": [
      "0.6472663118346408\n"
     ]
    }
   ],
   "source": [
    "print(data['last_price'].corr(data['total_area'])) #анализируем зависимость общей цены и общей площади"
   ]
  },
  {
   "cell_type": "code",
   "execution_count": 50,
   "metadata": {},
   "outputs": [
    {
     "name": "stdout",
     "output_type": "stream",
     "text": [
      "0.052829550772855456\n"
     ]
    }
   ],
   "source": [
    "print(data['price_square_metre'].corr(data['rooms'])) #анализируем зависимость цены квадратного метра от количества комнат"
   ]
  },
  {
   "cell_type": "code",
   "execution_count": 51,
   "metadata": {},
   "outputs": [
    {
     "name": "stdout",
     "output_type": "stream",
     "text": [
      "-0.3172226666995484\n"
     ]
    }
   ],
   "source": [
    "print(data['price_square_metre'].corr(data['cityCenters_nearest'])) #анализируем зависимость цены квадратного метра от расстояния до Центра"
   ]
  },
  {
   "cell_type": "code",
   "execution_count": 52,
   "metadata": {},
   "outputs": [
    {
     "data": {
      "text/plain": [
       "weekday\n",
       "0    94696.969697\n",
       "1    95567.638820\n",
       "2    95454.545455\n",
       "3    95115.323436\n",
       "4    94594.567568\n",
       "5    93534.393694\n",
       "6    94494.953595\n",
       "Name: price_square_metre, dtype: float64"
      ]
     },
     "execution_count": 52,
     "metadata": {},
     "output_type": "execute_result"
    }
   ],
   "source": [
    "data.groupby('weekday')['price_square_metre'].median()"
   ]
  },
  {
   "cell_type": "code",
   "execution_count": 53,
   "metadata": {},
   "outputs": [
    {
     "data": {
      "text/plain": [
       "month_exposition\n",
       "1     95192.307692\n",
       "2     95000.000000\n",
       "3     95222.929936\n",
       "4     96543.700186\n",
       "5     92689.778021\n",
       "6     92712.431157\n",
       "7     95000.000000\n",
       "8     95960.526316\n",
       "9     95608.782435\n",
       "10    94202.898551\n",
       "11    95588.235294\n",
       "12    94230.769231\n",
       "Name: price_square_metre, dtype: float64"
      ]
     },
     "execution_count": 53,
     "metadata": {},
     "output_type": "execute_result"
    }
   ],
   "source": [
    "data.groupby('month_exposition')['price_square_metre'].median()"
   ]
  },
  {
   "cell_type": "code",
   "execution_count": 54,
   "metadata": {},
   "outputs": [
    {
     "data": {
      "text/plain": [
       "year_exposition\n",
       "2014    107000.000000\n",
       "2015     93364.779874\n",
       "2016     91743.119266\n",
       "2017     92558.139535\n",
       "2018     95652.173913\n",
       "2019    103230.021986\n",
       "Name: price_square_metre, dtype: float64"
      ]
     },
     "execution_count": 54,
     "metadata": {},
     "output_type": "execute_result"
    }
   ],
   "source": [
    "data.groupby('year_exposition')['price_square_metre'].median()"
   ]
  },
  {
   "cell_type": "code",
   "execution_count": 55,
   "metadata": {},
   "outputs": [
    {
     "data": {
      "text/plain": [
       "quality_floor\n",
       "другой       98275.862069\n",
       "первый       81218.274112\n",
       "последний    87774.490467\n",
       "Name: price_square_metre, dtype: float64"
      ]
     },
     "execution_count": 55,
     "metadata": {},
     "output_type": "execute_result"
    }
   ],
   "source": [
    "data.groupby('quality_floor')['price_square_metre'].median()"
   ]
  },
  {
   "cell_type": "markdown",
   "metadata": {},
   "source": [
    "### Зависимость цены от факторов. Вывод\n",
    "\n",
    "Проанализировав коэффициент корреляции цены квартиры от различных факторов, выявлена наибольшая прямая зависимость цены от площади квартиры, однако, анализируя зависимость цены квадратного метра от площади квартиры, уже такой прямой зависимости не наблюдается.\n",
    "\n",
    "Также не наблюдается и зависимость от дня и месяца выставления квартиры на продажи, количества комнат и расстояния до центра.\n",
    "Однако, наблюдается высокая цена квартир в 2014 году, а также в 2019 году\n",
    "\n",
    "В то же время анализируя медианное значение цены квадратного метра квартиры от этажа, выяснили, что цена квартир на первом этаже ниже, чем на последнем или на других."
   ]
  },
  {
   "cell_type": "code",
   "execution_count": 56,
   "metadata": {},
   "outputs": [
    {
     "name": "stdout",
     "output_type": "stream",
     "text": [
      "                   total_images  last_price  total_area  first_day_exposition  \\\n",
      "locality_name                                                                   \n",
      "Санкт-Петербург           15624       15624       15624                 15624   \n",
      "поселок Мурино              552         552         552                   552   \n",
      "поселок Шушары              439         439         439                   439   \n",
      "Всеволожск                  398         398         398                   398   \n",
      "Пушкин                      369         369         369                   369   \n",
      "Колпино                     338         338         338                   338   \n",
      "поселок Парголово           327         327         327                   327   \n",
      "Гатчина                     307         307         307                   307   \n",
      "деревня Кудрово             299         299         299                   299   \n",
      "Выборг                      237         237         237                   237   \n",
      "\n",
      "                   rooms  ceiling_height  floors_total  living_area  floor  \\\n",
      "locality_name                                                                \n",
      "Санкт-Петербург    15624           15624         15624        15624  15624   \n",
      "поселок Мурино       552             552           552          552    552   \n",
      "поселок Шушары       439             439           439          439    439   \n",
      "Всеволожск           398             398           398          398    398   \n",
      "Пушкин               369             369           369          369    369   \n",
      "Колпино              338             338           338          338    338   \n",
      "поселок Парголово    327             327           327          327    327   \n",
      "Гатчина              307             307           307          307    307   \n",
      "деревня Кудрово      299             299           299          299    299   \n",
      "Выборг               237             237           237          237    237   \n",
      "\n",
      "                   is_apartment  ...  ponds_around3000  ponds_nearest  \\\n",
      "locality_name                    ...                                    \n",
      "Санкт-Петербург           15624  ...             15564           7917   \n",
      "поселок Мурино              552  ...                 0              0   \n",
      "поселок Шушары              439  ...               436            152   \n",
      "Всеволожск                  398  ...                 0              0   \n",
      "Пушкин                      369  ...               369            177   \n",
      "Колпино                     338  ...               337            190   \n",
      "поселок Парголово           327  ...               327             56   \n",
      "Гатчина                     307  ...                 0              0   \n",
      "деревня Кудрово             299  ...                 0              0   \n",
      "Выборг                      237  ...                 0              0   \n",
      "\n",
      "                   days_exposition  price_square_metre  \\\n",
      "locality_name                                            \n",
      "Санкт-Петербург              13552               15624   \n",
      "поселок Мурино                 547                 552   \n",
      "поселок Шушары                 407                 439   \n",
      "Всеволожск                     339                 398   \n",
      "Пушкин                         307                 369   \n",
      "Колпино                        308                 338   \n",
      "поселок Парголово              302                 327   \n",
      "Гатчина                        268                 307   \n",
      "деревня Кудрово                299                 299   \n",
      "Выборг                         208                 237   \n",
      "\n",
      "                   ratio_living_and_total  ratio_kitchen_and_total  \\\n",
      "locality_name                                                        \n",
      "Санкт-Петербург                     15624                    15624   \n",
      "поселок Мурино                        552                      552   \n",
      "поселок Шушары                        439                      439   \n",
      "Всеволожск                            398                      398   \n",
      "Пушкин                                369                      369   \n",
      "Колпино                               338                      338   \n",
      "поселок Парголово                     327                      327   \n",
      "Гатчина                               307                      307   \n",
      "деревня Кудрово                       299                      299   \n",
      "Выборг                                237                      237   \n",
      "\n",
      "                   quality_floor  weekday  year_exposition  month_exposition  \n",
      "locality_name                                                                 \n",
      "Санкт-Петербург            15624    15624            15624             15624  \n",
      "поселок Мурино               552      552              552               552  \n",
      "поселок Шушары               439      439              439               439  \n",
      "Всеволожск                   398      398              398               398  \n",
      "Пушкин                       369      369              369               369  \n",
      "Колпино                      338      338              338               338  \n",
      "поселок Парголово            327      327              327               327  \n",
      "Гатчина                      307      307              307               307  \n",
      "деревня Кудрово              299      299              299               299  \n",
      "Выборг                       237      237              237               237  \n",
      "\n",
      "[10 rows x 28 columns]\n"
     ]
    }
   ],
   "source": [
    "popular_cities=data.groupby('locality_name').count()\n",
    "popular_cities=popular_cities.sort_values(by='last_price', ascending=False)\n",
    "popular_cities=popular_cities.head(10)\n",
    "print(popular_cities)\n"
   ]
  },
  {
   "cell_type": "code",
   "execution_count": 57,
   "metadata": {},
   "outputs": [
    {
     "name": "stdout",
     "output_type": "stream",
     "text": [
      "                   mean_price_square_metre  count_price_square_metre\n",
      "locality_name                                                       \n",
      "Санкт-Петербург              114751.183407                     15624\n",
      "поселок Мурино                85629.568678                       552\n",
      "поселок Шушары                78551.344545                       439\n",
      "Всеволожск                    68654.473986                       398\n",
      "Пушкин                       103125.819291                       369\n",
      "Колпино                       75424.579098                       338\n",
      "поселок Парголово             90175.913458                       327\n",
      "Гатчина                       68746.146763                       307\n",
      "деревня Кудрово               92473.547576                       299\n",
      "Выборг                        58141.909153                       237\n"
     ]
    }
   ],
   "source": [
    "#просматриваем среднее значение цены квадратного метра самых популярных городов\n",
    "pop_cities=data.pivot_table(index='locality_name', values='price_square_metre', aggfunc=['mean', 'count'])\n",
    "\n",
    "pop_cities.columns=['mean_price_square_metre', 'count_price_square_metre']\n",
    "pop_cities=pop_cities.sort_values(by='count_price_square_metre', ascending=False)\n",
    "pop_cities=pop_cities.head(10)\n",
    "print(pop_cities)"
   ]
  },
  {
   "cell_type": "markdown",
   "metadata": {},
   "source": [
    "### О топ-10 городах с самым большим количеством объявлений. Вывод\n",
    "\n",
    "\n",
    "Просматривая список 10 городов с самым большим количеством объявлений, выявляем, что самая большая стоимость квадртаного метра в городе Санкт-Петербург, самая низкая цена - город Выборг"
   ]
  },
  {
   "cell_type": "code",
   "execution_count": 58,
   "metadata": {
    "scrolled": true
   },
   "outputs": [
    {
     "name": "stdout",
     "output_type": "stream",
     "text": [
      "       total_images  last_price  total_area first_day_exposition  rooms  \\\n",
      "0                20  13000000.0      108.00           2019-03-07      3   \n",
      "2                10   5196000.0       56.00           2015-08-20      2   \n",
      "3                 0  64900000.0      159.00           2015-07-24      3   \n",
      "4                 2  10000000.0      100.00           2018-06-19      2   \n",
      "7                 5   7915000.0       71.60           2019-04-18      2   \n",
      "...             ...         ...         ...                  ...    ...   \n",
      "23689            13   3550000.0       35.30           2018-02-28      1   \n",
      "23690             3   5500000.0       52.00           2018-07-19      2   \n",
      "23691            11   9470000.0       72.90           2016-10-13      2   \n",
      "23694             9   9700000.0      133.81           2017-03-21      3   \n",
      "23697            13  11475000.0       76.75           2017-03-28      2   \n",
      "\n",
      "       ceiling_height  floors_total  living_area  floor  is_apartment  ...  \\\n",
      "0                2.70            16         51.0      8         False  ...   \n",
      "2                2.53             5         34.3      4         False  ...   \n",
      "3                2.53            14         99.0      9         False  ...   \n",
      "4                3.03            14         32.0     13         False  ...   \n",
      "7                2.53            24         42.7     22         False  ...   \n",
      "...               ...           ...          ...    ...           ...  ...   \n",
      "23689            2.86            15         16.3      4         False  ...   \n",
      "23690            2.53             5         31.0      2         False  ...   \n",
      "23691            2.75            25         40.3      7         False  ...   \n",
      "23694            3.70             5         73.3      3         False  ...   \n",
      "23697            3.00            17         45.0     12         False  ...   \n",
      "\n",
      "       ponds_around3000  ponds_nearest  days_exposition  price_square_metre  \\\n",
      "0                   2.0          755.0              NaN       120370.370370   \n",
      "2                   2.0          574.0            558.0        92785.714286   \n",
      "3                   3.0          234.0            424.0       408176.100629   \n",
      "4                   1.0           48.0            121.0       100000.000000   \n",
      "7                   0.0            NaN              NaN       110544.692737   \n",
      "...                 ...            ...              ...                 ...   \n",
      "23689               2.0          652.0             29.0       100566.572238   \n",
      "23690               0.0            NaN             15.0       105769.230769   \n",
      "23691               1.0          806.0            519.0       129903.978052   \n",
      "23694               3.0          381.0              NaN        72490.845228   \n",
      "23697               3.0          196.0            602.0       149511.400651   \n",
      "\n",
      "      ratio_living_and_total  ratio_kitchen_and_total  quality_floor  weekday  \\\n",
      "0                   0.472222                 0.231481         другой        3   \n",
      "2                   0.612500                 0.148214         другой        3   \n",
      "3                   0.622642                 0.094340         другой        4   \n",
      "4                   0.320000                 0.410000         другой        1   \n",
      "7                   0.596369                 0.263966         другой        3   \n",
      "...                      ...                      ...            ...      ...   \n",
      "23689               0.461756                 0.257790         другой        2   \n",
      "23690               0.596154                 0.115385         другой        3   \n",
      "23691               0.552812                 0.145405         другой        3   \n",
      "23694               0.547792                 0.103356         другой        1   \n",
      "23697               0.586319                 0.303583         другой        1   \n",
      "\n",
      "       year_exposition  month_exposition  \n",
      "0                 2019                 3  \n",
      "2                 2015                 8  \n",
      "3                 2015                 7  \n",
      "4                 2018                 6  \n",
      "7                 2019                 4  \n",
      "...                ...               ...  \n",
      "23689             2018                 2  \n",
      "23690             2018                 7  \n",
      "23691             2016                10  \n",
      "23694             2017                 3  \n",
      "23697             2017                 3  \n",
      "\n",
      "[15624 rows x 29 columns]\n"
     ]
    }
   ],
   "source": [
    "#просматриваем данные по городу Санкт-Петербург\n",
    "spb_data=data.query('locality_name ==\"Санкт-Петербург\"')\n",
    "print(spb_data)"
   ]
  },
  {
   "cell_type": "code",
   "execution_count": 59,
   "metadata": {
    "scrolled": true
   },
   "outputs": [
    {
     "name": "stdout",
     "output_type": "stream",
     "text": [
      "0        16.028\n",
      "2        13.933\n",
      "3         6.800\n",
      "4         8.098\n",
      "7        11.634\n",
      "          ...  \n",
      "23689    16.081\n",
      "23690     6.263\n",
      "23691     4.489\n",
      "23694     4.232\n",
      "23697    10.364\n",
      "Name: cityCenters_nearest, Length: 15624, dtype: float64\n"
     ]
    }
   ],
   "source": [
    "#переводим расстояние до центра в метры\n",
    "spb_data['cityCenters_nearest']=spb_data['cityCenters_nearest']/1000\n",
    "print(spb_data['cityCenters_nearest'])"
   ]
  },
  {
   "cell_type": "code",
   "execution_count": 60,
   "metadata": {
    "scrolled": true
   },
   "outputs": [
    {
     "name": "stdout",
     "output_type": "stream",
     "text": [
      "0        16.0\n",
      "2        14.0\n",
      "3         7.0\n",
      "4         8.0\n",
      "7        12.0\n",
      "         ... \n",
      "23689    16.0\n",
      "23690     6.0\n",
      "23691     4.0\n",
      "23694     4.0\n",
      "23697    10.0\n",
      "Name: cityCenters_nearest, Length: 15624, dtype: float64\n"
     ]
    }
   ],
   "source": [
    "# округляем расстояние до целых чисел\n",
    "spb_data['cityCenters_nearest']=spb_data['cityCenters_nearest'].round()\n",
    "print(spb_data['cityCenters_nearest'])"
   ]
  },
  {
   "cell_type": "code",
   "execution_count": 61,
   "metadata": {
    "scrolled": true
   },
   "outputs": [
    {
     "name": "stdout",
     "output_type": "stream",
     "text": [
      "cityCenters_nearest\n",
      "0.0     245833.530289\n",
      "1.0     176277.529376\n",
      "2.0     157464.620634\n",
      "3.0     121507.831586\n",
      "4.0     132743.137177\n",
      "5.0     140328.464949\n",
      "6.0     150304.511325\n",
      "7.0     156447.462158\n",
      "8.0     125667.248323\n",
      "9.0     113159.373316\n",
      "10.0    112607.481372\n",
      "11.0    108245.448240\n",
      "12.0    107476.268561\n",
      "13.0    108099.097997\n",
      "14.0    104201.216518\n",
      "15.0    104230.541685\n",
      "16.0    100534.743472\n",
      "17.0     97010.588305\n",
      "18.0     96362.263941\n",
      "19.0     98658.388032\n",
      "20.0    103045.181922\n",
      "21.0     94469.584582\n",
      "22.0     91330.425050\n",
      "23.0     91828.517765\n",
      "24.0     85736.904595\n",
      "25.0     91531.371618\n",
      "26.0     87798.872892\n",
      "27.0    132115.709459\n",
      "28.0     81161.915320\n",
      "29.0     72953.365445\n",
      "Name: price_square_metre, dtype: float64\n"
     ]
    }
   ],
   "source": [
    "#рассчитываем среднее значение квадратного метра в зависимости от центра\n",
    "spb_center_km = spb_data.groupby('cityCenters_nearest')['price_square_metre'].mean()\n",
    "\n",
    "print(spb_center_km)"
   ]
  },
  {
   "cell_type": "code",
   "execution_count": 62,
   "metadata": {},
   "outputs": [
    {
     "data": {
      "text/plain": [
       "<matplotlib.axes._subplots.AxesSubplot at 0x7fc9168f4690>"
      ]
     },
     "execution_count": 62,
     "metadata": {},
     "output_type": "execute_result"
    },
    {
     "data": {
      "image/png": "[encoded data removed]",
      "text/plain": [
       "<Figure size 432x288 with 1 Axes>"
      ]
     },
     "metadata": {
      "needs_background": "light"
     },
     "output_type": "display_data"
    }
   ],
   "source": [
    "# строим график зависимости цены квадратного метра от расстояния от центра\n",
    "spb_center_km.plot(style='o-', grid=True) "
   ]
  },
  {
   "cell_type": "markdown",
   "metadata": {},
   "source": [
    "### Зависимость цены от расстояния от центра в городе Санкт-Петербург. Вывод\n",
    "\n",
    "Изучив данные о цене квадратного метра по городу Санкт-Петербург была выявлена прямая зависимость: чем ближе к центру города, тем цена квадратного метра дороже.\n",
    "\n",
    "Центром города можно считать расстояние до 10 км."
   ]
  },
  {
   "cell_type": "code",
   "execution_count": 63,
   "metadata": {},
   "outputs": [
    {
     "name": "stdout",
     "output_type": "stream",
     "text": [
      "<class 'pandas.core.frame.DataFrame'>\n",
      "Int64Index: 15624 entries, 0 to 23697\n",
      "Data columns (total 29 columns):\n",
      "total_images               15624 non-null int64\n",
      "last_price                 15624 non-null float64\n",
      "total_area                 15624 non-null float64\n",
      "first_day_exposition       15624 non-null datetime64[ns]\n",
      "rooms                      15624 non-null int64\n",
      "ceiling_height             15624 non-null float64\n",
      "floors_total               15624 non-null int64\n",
      "living_area                15624 non-null float64\n",
      "floor                      15624 non-null int64\n",
      "is_apartment               15624 non-null bool\n",
      "studio                     15624 non-null bool\n",
      "open_plan                  15624 non-null bool\n",
      "kitchen_area               15624 non-null float64\n",
      "balcony                    15624 non-null float64\n",
      "locality_name              15624 non-null object\n",
      "airports_nearest           15540 non-null float64\n",
      "cityCenters_nearest        15564 non-null float64\n",
      "parks_around3000           15564 non-null float64\n",
      "parks_nearest              7234 non-null float64\n",
      "ponds_around3000           15564 non-null float64\n",
      "ponds_nearest              7917 non-null float64\n",
      "days_exposition            13552 non-null float64\n",
      "price_square_metre         15624 non-null float64\n",
      "ratio_living_and_total     15624 non-null float64\n",
      "ratio_kitchen_and_total    15624 non-null float64\n",
      "quality_floor              15624 non-null object\n",
      "weekday                    15624 non-null int64\n",
      "year_exposition            15624 non-null int64\n",
      "month_exposition           15624 non-null int64\n",
      "dtypes: bool(3), datetime64[ns](1), float64(16), int64(7), object(2)\n",
      "memory usage: 3.3+ MB\n"
     ]
    }
   ],
   "source": [
    "spb_data.info()"
   ]
  },
  {
   "cell_type": "code",
   "execution_count": 64,
   "metadata": {
    "scrolled": true
   },
   "outputs": [
    {
     "data": {
      "text/html": [
       "<div>\n",
       "<style scoped>\n",
       "    .dataframe tbody tr th:only-of-type {\n",
       "        vertical-align: middle;\n",
       "    }\n",
       "\n",
       "    .dataframe tbody tr th {\n",
       "        vertical-align: top;\n",
       "    }\n",
       "\n",
       "    .dataframe thead th {\n",
       "        text-align: right;\n",
       "    }\n",
       "</style>\n",
       "<table border=\"1\" class=\"dataframe\">\n",
       "  <thead>\n",
       "    <tr style=\"text-align: right;\">\n",
       "      <th></th>\n",
       "      <th>total_images</th>\n",
       "      <th>last_price</th>\n",
       "      <th>total_area</th>\n",
       "      <th>first_day_exposition</th>\n",
       "      <th>rooms</th>\n",
       "      <th>ceiling_height</th>\n",
       "      <th>floors_total</th>\n",
       "      <th>living_area</th>\n",
       "      <th>floor</th>\n",
       "      <th>is_apartment</th>\n",
       "      <th>...</th>\n",
       "      <th>ponds_around3000</th>\n",
       "      <th>ponds_nearest</th>\n",
       "      <th>days_exposition</th>\n",
       "      <th>price_square_metre</th>\n",
       "      <th>ratio_living_and_total</th>\n",
       "      <th>ratio_kitchen_and_total</th>\n",
       "      <th>quality_floor</th>\n",
       "      <th>weekday</th>\n",
       "      <th>year_exposition</th>\n",
       "      <th>month_exposition</th>\n",
       "    </tr>\n",
       "  </thead>\n",
       "  <tbody>\n",
       "    <tr>\n",
       "      <td>3</td>\n",
       "      <td>0</td>\n",
       "      <td>64900000.0</td>\n",
       "      <td>159.00</td>\n",
       "      <td>2015-07-24</td>\n",
       "      <td>3</td>\n",
       "      <td>2.53</td>\n",
       "      <td>14</td>\n",
       "      <td>99.0</td>\n",
       "      <td>9</td>\n",
       "      <td>False</td>\n",
       "      <td>...</td>\n",
       "      <td>3.0</td>\n",
       "      <td>234.0</td>\n",
       "      <td>424.0</td>\n",
       "      <td>408176.100629</td>\n",
       "      <td>0.622642</td>\n",
       "      <td>0.094340</td>\n",
       "      <td>другой</td>\n",
       "      <td>4</td>\n",
       "      <td>2015</td>\n",
       "      <td>7</td>\n",
       "    </tr>\n",
       "    <tr>\n",
       "      <td>4</td>\n",
       "      <td>2</td>\n",
       "      <td>10000000.0</td>\n",
       "      <td>100.00</td>\n",
       "      <td>2018-06-19</td>\n",
       "      <td>2</td>\n",
       "      <td>3.03</td>\n",
       "      <td>14</td>\n",
       "      <td>32.0</td>\n",
       "      <td>13</td>\n",
       "      <td>False</td>\n",
       "      <td>...</td>\n",
       "      <td>1.0</td>\n",
       "      <td>48.0</td>\n",
       "      <td>121.0</td>\n",
       "      <td>100000.000000</td>\n",
       "      <td>0.320000</td>\n",
       "      <td>0.410000</td>\n",
       "      <td>другой</td>\n",
       "      <td>1</td>\n",
       "      <td>2018</td>\n",
       "      <td>6</td>\n",
       "    </tr>\n",
       "    <tr>\n",
       "      <td>24</td>\n",
       "      <td>8</td>\n",
       "      <td>6500000.0</td>\n",
       "      <td>97.20</td>\n",
       "      <td>2015-10-31</td>\n",
       "      <td>2</td>\n",
       "      <td>2.53</td>\n",
       "      <td>3</td>\n",
       "      <td>46.5</td>\n",
       "      <td>1</td>\n",
       "      <td>False</td>\n",
       "      <td>...</td>\n",
       "      <td>3.0</td>\n",
       "      <td>124.0</td>\n",
       "      <td>265.0</td>\n",
       "      <td>66872.427984</td>\n",
       "      <td>0.478395</td>\n",
       "      <td>0.201646</td>\n",
       "      <td>первый</td>\n",
       "      <td>5</td>\n",
       "      <td>2015</td>\n",
       "      <td>10</td>\n",
       "    </tr>\n",
       "    <tr>\n",
       "      <td>35</td>\n",
       "      <td>6</td>\n",
       "      <td>15500000.0</td>\n",
       "      <td>149.00</td>\n",
       "      <td>2017-06-26</td>\n",
       "      <td>5</td>\n",
       "      <td>2.53</td>\n",
       "      <td>5</td>\n",
       "      <td>104.0</td>\n",
       "      <td>4</td>\n",
       "      <td>False</td>\n",
       "      <td>...</td>\n",
       "      <td>1.0</td>\n",
       "      <td>779.0</td>\n",
       "      <td>644.0</td>\n",
       "      <td>104026.845638</td>\n",
       "      <td>0.697987</td>\n",
       "      <td>0.114094</td>\n",
       "      <td>другой</td>\n",
       "      <td>0</td>\n",
       "      <td>2017</td>\n",
       "      <td>6</td>\n",
       "    </tr>\n",
       "    <tr>\n",
       "      <td>51</td>\n",
       "      <td>7</td>\n",
       "      <td>45000000.0</td>\n",
       "      <td>161.00</td>\n",
       "      <td>2017-10-17</td>\n",
       "      <td>3</td>\n",
       "      <td>3.20</td>\n",
       "      <td>8</td>\n",
       "      <td>38.0</td>\n",
       "      <td>4</td>\n",
       "      <td>False</td>\n",
       "      <td>...</td>\n",
       "      <td>3.0</td>\n",
       "      <td>99.0</td>\n",
       "      <td>541.0</td>\n",
       "      <td>279503.105590</td>\n",
       "      <td>0.236025</td>\n",
       "      <td>0.310559</td>\n",
       "      <td>другой</td>\n",
       "      <td>1</td>\n",
       "      <td>2017</td>\n",
       "      <td>10</td>\n",
       "    </tr>\n",
       "    <tr>\n",
       "      <td>...</td>\n",
       "      <td>...</td>\n",
       "      <td>...</td>\n",
       "      <td>...</td>\n",
       "      <td>...</td>\n",
       "      <td>...</td>\n",
       "      <td>...</td>\n",
       "      <td>...</td>\n",
       "      <td>...</td>\n",
       "      <td>...</td>\n",
       "      <td>...</td>\n",
       "      <td>...</td>\n",
       "      <td>...</td>\n",
       "      <td>...</td>\n",
       "      <td>...</td>\n",
       "      <td>...</td>\n",
       "      <td>...</td>\n",
       "      <td>...</td>\n",
       "      <td>...</td>\n",
       "      <td>...</td>\n",
       "      <td>...</td>\n",
       "      <td>...</td>\n",
       "    </tr>\n",
       "    <tr>\n",
       "      <td>23674</td>\n",
       "      <td>10</td>\n",
       "      <td>5950000.0</td>\n",
       "      <td>56.00</td>\n",
       "      <td>2019-03-05</td>\n",
       "      <td>3</td>\n",
       "      <td>2.53</td>\n",
       "      <td>8</td>\n",
       "      <td>32.1</td>\n",
       "      <td>3</td>\n",
       "      <td>False</td>\n",
       "      <td>...</td>\n",
       "      <td>2.0</td>\n",
       "      <td>303.0</td>\n",
       "      <td>NaN</td>\n",
       "      <td>106250.000000</td>\n",
       "      <td>0.573214</td>\n",
       "      <td>0.151786</td>\n",
       "      <td>другой</td>\n",
       "      <td>1</td>\n",
       "      <td>2019</td>\n",
       "      <td>3</td>\n",
       "    </tr>\n",
       "    <tr>\n",
       "      <td>23681</td>\n",
       "      <td>13</td>\n",
       "      <td>5250000.0</td>\n",
       "      <td>43.00</td>\n",
       "      <td>2018-05-11</td>\n",
       "      <td>2</td>\n",
       "      <td>2.50</td>\n",
       "      <td>5</td>\n",
       "      <td>29.0</td>\n",
       "      <td>2</td>\n",
       "      <td>False</td>\n",
       "      <td>...</td>\n",
       "      <td>2.0</td>\n",
       "      <td>660.0</td>\n",
       "      <td>80.0</td>\n",
       "      <td>122093.023256</td>\n",
       "      <td>0.674419</td>\n",
       "      <td>0.139535</td>\n",
       "      <td>другой</td>\n",
       "      <td>4</td>\n",
       "      <td>2018</td>\n",
       "      <td>5</td>\n",
       "    </tr>\n",
       "    <tr>\n",
       "      <td>23690</td>\n",
       "      <td>3</td>\n",
       "      <td>5500000.0</td>\n",
       "      <td>52.00</td>\n",
       "      <td>2018-07-19</td>\n",
       "      <td>2</td>\n",
       "      <td>2.53</td>\n",
       "      <td>5</td>\n",
       "      <td>31.0</td>\n",
       "      <td>2</td>\n",
       "      <td>False</td>\n",
       "      <td>...</td>\n",
       "      <td>0.0</td>\n",
       "      <td>NaN</td>\n",
       "      <td>15.0</td>\n",
       "      <td>105769.230769</td>\n",
       "      <td>0.596154</td>\n",
       "      <td>0.115385</td>\n",
       "      <td>другой</td>\n",
       "      <td>3</td>\n",
       "      <td>2018</td>\n",
       "      <td>7</td>\n",
       "    </tr>\n",
       "    <tr>\n",
       "      <td>23691</td>\n",
       "      <td>11</td>\n",
       "      <td>9470000.0</td>\n",
       "      <td>72.90</td>\n",
       "      <td>2016-10-13</td>\n",
       "      <td>2</td>\n",
       "      <td>2.75</td>\n",
       "      <td>25</td>\n",
       "      <td>40.3</td>\n",
       "      <td>7</td>\n",
       "      <td>False</td>\n",
       "      <td>...</td>\n",
       "      <td>1.0</td>\n",
       "      <td>806.0</td>\n",
       "      <td>519.0</td>\n",
       "      <td>129903.978052</td>\n",
       "      <td>0.552812</td>\n",
       "      <td>0.145405</td>\n",
       "      <td>другой</td>\n",
       "      <td>3</td>\n",
       "      <td>2016</td>\n",
       "      <td>10</td>\n",
       "    </tr>\n",
       "    <tr>\n",
       "      <td>23694</td>\n",
       "      <td>9</td>\n",
       "      <td>9700000.0</td>\n",
       "      <td>133.81</td>\n",
       "      <td>2017-03-21</td>\n",
       "      <td>3</td>\n",
       "      <td>3.70</td>\n",
       "      <td>5</td>\n",
       "      <td>73.3</td>\n",
       "      <td>3</td>\n",
       "      <td>False</td>\n",
       "      <td>...</td>\n",
       "      <td>3.0</td>\n",
       "      <td>381.0</td>\n",
       "      <td>NaN</td>\n",
       "      <td>72490.845228</td>\n",
       "      <td>0.547792</td>\n",
       "      <td>0.103356</td>\n",
       "      <td>другой</td>\n",
       "      <td>1</td>\n",
       "      <td>2017</td>\n",
       "      <td>3</td>\n",
       "    </tr>\n",
       "  </tbody>\n",
       "</table>\n",
       "<p>4681 rows × 29 columns</p>\n",
       "</div>"
      ],
      "text/plain": [
       "       total_images  last_price  total_area first_day_exposition  rooms  \\\n",
       "3                 0  64900000.0      159.00           2015-07-24      3   \n",
       "4                 2  10000000.0      100.00           2018-06-19      2   \n",
       "24                8   6500000.0       97.20           2015-10-31      2   \n",
       "35                6  15500000.0      149.00           2017-06-26      5   \n",
       "51                7  45000000.0      161.00           2017-10-17      3   \n",
       "...             ...         ...         ...                  ...    ...   \n",
       "23674            10   5950000.0       56.00           2019-03-05      3   \n",
       "23681            13   5250000.0       43.00           2018-05-11      2   \n",
       "23690             3   5500000.0       52.00           2018-07-19      2   \n",
       "23691            11   9470000.0       72.90           2016-10-13      2   \n",
       "23694             9   9700000.0      133.81           2017-03-21      3   \n",
       "\n",
       "       ceiling_height  floors_total  living_area  floor  is_apartment  ...  \\\n",
       "3                2.53            14         99.0      9         False  ...   \n",
       "4                3.03            14         32.0     13         False  ...   \n",
       "24               2.53             3         46.5      1         False  ...   \n",
       "35               2.53             5        104.0      4         False  ...   \n",
       "51               3.20             8         38.0      4         False  ...   \n",
       "...               ...           ...          ...    ...           ...  ...   \n",
       "23674            2.53             8         32.1      3         False  ...   \n",
       "23681            2.50             5         29.0      2         False  ...   \n",
       "23690            2.53             5         31.0      2         False  ...   \n",
       "23691            2.75            25         40.3      7         False  ...   \n",
       "23694            3.70             5         73.3      3         False  ...   \n",
       "\n",
       "       ponds_around3000  ponds_nearest  days_exposition  price_square_metre  \\\n",
       "3                   3.0          234.0            424.0       408176.100629   \n",
       "4                   1.0           48.0            121.0       100000.000000   \n",
       "24                  3.0          124.0            265.0        66872.427984   \n",
       "35                  1.0          779.0            644.0       104026.845638   \n",
       "51                  3.0           99.0            541.0       279503.105590   \n",
       "...                 ...            ...              ...                 ...   \n",
       "23674               2.0          303.0              NaN       106250.000000   \n",
       "23681               2.0          660.0             80.0       122093.023256   \n",
       "23690               0.0            NaN             15.0       105769.230769   \n",
       "23691               1.0          806.0            519.0       129903.978052   \n",
       "23694               3.0          381.0              NaN        72490.845228   \n",
       "\n",
       "      ratio_living_and_total  ratio_kitchen_and_total  quality_floor  weekday  \\\n",
       "3                   0.622642                 0.094340         другой        4   \n",
       "4                   0.320000                 0.410000         другой        1   \n",
       "24                  0.478395                 0.201646         первый        5   \n",
       "35                  0.697987                 0.114094         другой        0   \n",
       "51                  0.236025                 0.310559         другой        1   \n",
       "...                      ...                      ...            ...      ...   \n",
       "23674               0.573214                 0.151786         другой        1   \n",
       "23681               0.674419                 0.139535         другой        4   \n",
       "23690               0.596154                 0.115385         другой        3   \n",
       "23691               0.552812                 0.145405         другой        3   \n",
       "23694               0.547792                 0.103356         другой        1   \n",
       "\n",
       "       year_exposition  month_exposition  \n",
       "3                 2015                 7  \n",
       "4                 2018                 6  \n",
       "24                2015                10  \n",
       "35                2017                 6  \n",
       "51                2017                10  \n",
       "...                ...               ...  \n",
       "23674             2019                 3  \n",
       "23681             2018                 5  \n",
       "23690             2018                 7  \n",
       "23691             2016                10  \n",
       "23694             2017                 3  \n",
       "\n",
       "[4681 rows x 29 columns]"
      ]
     },
     "metadata": {},
     "output_type": "display_data"
    }
   ],
   "source": [
    "#создаем таблицу срез с расстоянием до центра меньше 10 км\n",
    "spb_near_center_data = spb_data.query('cityCenters_nearest< 10')\n",
    "display(spb_near_center_data)\n"
   ]
  },
  {
   "cell_type": "code",
   "execution_count": 65,
   "metadata": {},
   "outputs": [
    {
     "name": "stdout",
     "output_type": "stream",
     "text": [
      "0.26909475045842596\n"
     ]
    }
   ],
   "source": [
    "#проверяем зависимость общей площади от цены квадратного метра\n",
    "print(spb_near_center_data ['price_square_metre'].corr(data['total_area'])) "
   ]
  },
  {
   "cell_type": "code",
   "execution_count": 66,
   "metadata": {},
   "outputs": [
    {
     "name": "stdout",
     "output_type": "stream",
     "text": [
      "0.6369110378112631\n"
     ]
    }
   ],
   "source": [
    "#проверяем зависимость общей площади от общей цены\n",
    "print(spb_near_center_data ['last_price'].corr(data['total_area'])) "
   ]
  },
  {
   "cell_type": "code",
   "execution_count": 67,
   "metadata": {},
   "outputs": [
    {
     "name": "stdout",
     "output_type": "stream",
     "text": [
      "0.027183100738097973\n"
     ]
    }
   ],
   "source": [
    "#проверяем зависимость количества комнат от цены квардратного метра \n",
    "print(spb_near_center_data ['price_square_metre'].corr(data['rooms'])) "
   ]
  },
  {
   "cell_type": "code",
   "execution_count": 68,
   "metadata": {},
   "outputs": [
    {
     "name": "stdout",
     "output_type": "stream",
     "text": [
      "-0.11608452681043592\n"
     ]
    }
   ],
   "source": [
    "#проверяем зависимость расстояния до центра от цены квадратного метра\n",
    "print(spb_near_center_data ['price_square_metre'].corr(data['cityCenters_nearest'])) "
   ]
  },
  {
   "cell_type": "code",
   "execution_count": 69,
   "metadata": {},
   "outputs": [
    {
     "data": {
      "text/plain": [
       "weekday\n",
       "0    120000.000000\n",
       "1    118174.668539\n",
       "2    121033.562166\n",
       "3    120000.000000\n",
       "4    119664.268585\n",
       "5    123340.121063\n",
       "6    124152.298851\n",
       "Name: price_square_metre, dtype: float64"
      ]
     },
     "execution_count": 69,
     "metadata": {},
     "output_type": "execute_result"
    }
   ],
   "source": [
    "#смотрим медианное значение цены квадратного метра от дня недели когда выкладывали объявление\n",
    "spb_near_center_data.groupby('weekday')['price_square_metre'].median()"
   ]
  },
  {
   "cell_type": "code",
   "execution_count": 70,
   "metadata": {},
   "outputs": [
    {
     "data": {
      "text/plain": [
       "year_exposition\n",
       "2014    141630.901288\n",
       "2015    118952.695691\n",
       "2016    116880.295003\n",
       "2017    117084.377611\n",
       "2018    121100.917431\n",
       "2019    131147.540984\n",
       "Name: price_square_metre, dtype: float64"
      ]
     },
     "execution_count": 70,
     "metadata": {},
     "output_type": "execute_result"
    }
   ],
   "source": [
    "spb_near_center_data.groupby('year_exposition')['price_square_metre'].median()\n",
    "#смотрим медианное значение цены квадртаного метра от года размещения объявления"
   ]
  },
  {
   "cell_type": "code",
   "execution_count": 71,
   "metadata": {},
   "outputs": [
    {
     "data": {
      "text/plain": [
       "month_exposition\n",
       "1     121474.358974\n",
       "2     118000.000000\n",
       "3     126401.379822\n",
       "4     119047.619048\n",
       "5     122077.922078\n",
       "6     115821.268519\n",
       "7     118181.818182\n",
       "8     124444.444444\n",
       "9     121198.909853\n",
       "10    119742.875860\n",
       "11    119617.224880\n",
       "12    119122.929607\n",
       "Name: price_square_metre, dtype: float64"
      ]
     },
     "execution_count": 71,
     "metadata": {},
     "output_type": "execute_result"
    }
   ],
   "source": [
    "#смотрим медианное значение цены квадртаного метра от месяца размещени объявления\n",
    "spb_near_center_data.groupby('month_exposition')['price_square_metre'].median()"
   ]
  },
  {
   "cell_type": "code",
   "execution_count": 72,
   "metadata": {
    "scrolled": true
   },
   "outputs": [
    {
     "data": {
      "text/plain": [
       "<matplotlib.axes._subplots.AxesSubplot at 0x7fc916809dd0>"
      ]
     },
     "execution_count": 72,
     "metadata": {},
     "output_type": "execute_result"
    },
    {
     "data": {
      "image/png": "[encoded data removed]",
      "text/plain": [
       "<Figure size 432x288 with 2 Axes>"
      ]
     },
     "metadata": {
      "needs_background": "light"
     },
     "output_type": "display_data"
    }
   ],
   "source": [
    "seaborn.heatmap(spb_near_center_data.corr()) #построили матрицу корреляции между переменными"
   ]
  },
  {
   "cell_type": "code",
   "execution_count": 73,
   "metadata": {},
   "outputs": [
    {
     "data": {
      "text/plain": [
       "cityCenters_nearest\n",
       "0.0    245833.530289\n",
       "1.0    176277.529376\n",
       "2.0    157464.620634\n",
       "3.0    121507.831586\n",
       "4.0    132743.137177\n",
       "5.0    140328.464949\n",
       "6.0    150304.511325\n",
       "7.0    156447.462158\n",
       "8.0    125667.248323\n",
       "9.0    113159.373316\n",
       "Name: price_square_metre, dtype: float64"
      ]
     },
     "metadata": {},
     "output_type": "display_data"
    }
   ],
   "source": [
    "#рассчитываем среднее значение квадратного метра в зависимости от центра \n",
    "spb_center_km1 = spb_near_center_data.groupby('cityCenters_nearest')['price_square_metre'].mean()\n",
    "\n",
    "display(spb_center_km1)"
   ]
  },
  {
   "cell_type": "code",
   "execution_count": 74,
   "metadata": {},
   "outputs": [
    {
     "data": {
      "image/png": "[encoded data removed]",
      "text/plain": [
       "<Figure size 432x288 with 1 Axes>"
      ]
     },
     "metadata": {
      "needs_background": "light"
     },
     "output_type": "display_data"
    }
   ],
   "source": [
    "spb_center_km.plot(style='o-', grid=True) \n",
    "spb_center_km1.plot(style='o-', grid=True)\n",
    "plt.title('Зависимость цены квартиры от расстояния от центра')\n",
    "plt.show()\n",
    "#просматриваем повторно график зависимости цены квартиры от расстояния от центра разделяя цветом квартиры в центре и дальше от центра"
   ]
  },
  {
   "cell_type": "code",
   "execution_count": 99,
   "metadata": {},
   "outputs": [
    {
     "data": {
      "image/png": "[encoded data removed]",
      "text/plain": [
       "<Figure size 432x288 with 1 Axes>"
      ]
     },
     "metadata": {
      "needs_background": "light"
     },
     "output_type": "display_data"
    }
   ],
   "source": [
    "spb_near_center_data['total_area'].hist(label='квартиры в центре Санкт-Петербурга') \n",
    "data['total_area'].hist(alpha=0.5, label='все квартиры')\n",
    "plt.title('Распределение общей площади')\n",
    "plt.legend()\n",
    "plt.show()#строим гистограмму для общей площади\n",
    "\n"
   ]
  },
  {
   "cell_type": "code",
   "execution_count": 91,
   "metadata": {},
   "outputs": [
    {
     "data": {
      "image/png": "[encoded data removed]",
      "text/plain": [
       "<Figure size 432x288 with 1 Axes>"
      ]
     },
     "metadata": {
      "needs_background": "light"
     },
     "output_type": "display_data"
    }
   ],
   "source": [
    "spb_near_center_data['last_price'].hist(label='квартиры в центре Санкт-Петербурга') \n",
    "data['last_price'].hist(alpha=0.5, label='все квартиры')\n",
    "plt.title('Распределение цены за квартиру')\n",
    "plt.legend()\n",
    "plt.show()#строим гистограмму для цены за квартиры\n"
   ]
  },
  {
   "cell_type": "code",
   "execution_count": 93,
   "metadata": {},
   "outputs": [
    {
     "data": {
      "image/png": "[encoded data removed]",
      "text/plain": [
       "<Figure size 432x288 with 1 Axes>"
      ]
     },
     "metadata": {
      "needs_background": "light"
     },
     "output_type": "display_data"
    }
   ],
   "source": [
    "spb_near_center_data['rooms'].hist(label='квартиры в центре Санкт-Петербурга') \n",
    "data['rooms'].hist(alpha=0.5, label='все квартиры')\n",
    "plt.title('Распределение количества комнат')\n",
    "plt.legend()\n",
    "plt.show()#строим гистограмму для количества комнат"
   ]
  },
  {
   "cell_type": "code",
   "execution_count": 102,
   "metadata": {},
   "outputs": [
    {
     "data": {
      "image/png": "[encoded data removed]",
      "text/plain": [
       "<Figure size 720x504 with 1 Axes>"
      ]
     },
     "metadata": {
      "needs_background": "light"
     },
     "output_type": "display_data"
    }
   ],
   "source": [
    "\n",
    "spb_near_center_data['ceiling_height'].hist(label='квартиры в центре Санкт-Петербурга', figsize=(10,7)) \n",
    "data['ceiling_height'].hist(alpha=0.5, label='все квартиры', figsize=(10,7))\n",
    "plt.title('Распределение высоты потолков')\n",
    "plt.legend()\n",
    "plt.show()#строим гистограмму для высоты потолков"
   ]
  },
  {
   "cell_type": "code",
   "execution_count": 101,
   "metadata": {},
   "outputs": [
    {
     "data": {
      "image/png": "[encoded data removed]",
      "text/plain": [
       "<Figure size 720x504 with 1 Axes>"
      ]
     },
     "metadata": {
      "needs_background": "light"
     },
     "output_type": "display_data"
    }
   ],
   "source": [
    "\n",
    "spb_near_center_data['days_exposition'].hist(label='квартиры в центре Санкт-Петербурга', figsize=(10,7)) \n",
    "data['days_exposition'].hist(alpha=0.5, label='все квартиры', figsize=(10,7))\n",
    "plt.title('Распределение времени продажи')\n",
    "plt.legend()\n",
    "\n",
    "plt.show()#строим гистограмму для времени продажи\n"
   ]
  },
  {
   "cell_type": "markdown",
   "metadata": {},
   "source": [
    "### Анализ объектов, расположенных в центре города.Вывод\n",
    "\n",
    "Проанализировав квартиры, располагающиеся в центре, мы видим, как и при анализе общей таблицы есть прямая зависимость цены от площади, остальных зависимостей не наблюдается.\n",
    "\n",
    "При этом, как и в прошлом анализе зависимости цены всех квартир от различных факторов, отмечается высокий рост квартир в 2014 году, после чего был скачок вниз, далее последовательный рост до 2019 года."
   ]
  },
  {
   "cell_type": "markdown",
   "metadata": {},
   "source": [
    "## Общий вывод\n",
    "\n",
    "Проведя анализ продажи квартир, заполнив пропущенные значения, можно сделать следующие выводы:\n",
    "\n",
    "1. Большинство квартир продаются за 3-4 месяца. \n",
    "2. Цена на квартир на прямую зависит от ее площади, также при размещении квартиры на продажу стоит обратить внимание на каком этаже размещается квартира. Квартиры на первом этаже - самые дешевые, на последнем этаже - также цена снижена. Зависимости от времени размещения квартир практически нет, однако в 2014 году квадратный метр квартир стоил намного дороже.\n",
    "\n",
    "3. Просматривая список 10 городов с самым большим количеством объявлений, выявляем, что самая большая стоимость квадртаного метра в городе Санкт-Петербург, самая низкая цена в городе Выборг\n",
    "\n",
    "4. Анализируя цены в городе Санкт-Петербург, была выявлена зависимость цены квартиры от расстояния до центра, центром - принято считать квартиры на расстоянии до 10 км.\n",
    "\n",
    "5. Анализируя цены в центре города  Санкт-Петербург, также наблюдается зависимость цены от площади. Отмечен высокий рост квартир в 2014 году.\n"
   ]
  }
 ],
 "metadata": {
  "ExecuteTimeLog": [
   {
    "duration": 692,
    "start_time": "2022-01-22T09:33:03.845Z"
   },
   {
    "duration": 426,
    "start_time": "2022-01-22T09:33:30.844Z"
   },
   {
    "duration": 82,
    "start_time": "2022-01-22T09:33:37.919Z"
   },
   {
    "duration": 61,
    "start_time": "2022-01-22T10:00:22.787Z"
   },
   {
    "duration": 84,
    "start_time": "2022-01-22T11:02:45.956Z"
   },
   {
    "duration": 60,
    "start_time": "2022-01-22T11:04:21.927Z"
   },
   {
    "duration": 3,
    "start_time": "2022-01-22T11:04:25.567Z"
   },
   {
    "duration": 79,
    "start_time": "2022-01-22T11:04:27.417Z"
   },
   {
    "duration": 61,
    "start_time": "2022-01-22T11:05:56.627Z"
   },
   {
    "duration": 57,
    "start_time": "2022-01-22T11:06:16.359Z"
   },
   {
    "duration": 3,
    "start_time": "2022-01-22T11:06:18.162Z"
   },
   {
    "duration": 56,
    "start_time": "2022-01-22T11:06:19.828Z"
   },
   {
    "duration": 58,
    "start_time": "2022-01-22T11:06:21.472Z"
   },
   {
    "duration": 83,
    "start_time": "2022-01-22T11:07:07.546Z"
   },
   {
    "duration": 11,
    "start_time": "2022-01-22T11:07:53.543Z"
   },
   {
    "duration": 286,
    "start_time": "2022-01-22T11:08:40.944Z"
   },
   {
    "duration": 33,
    "start_time": "2022-01-22T11:38:50.506Z"
   },
   {
    "duration": 8,
    "start_time": "2022-01-22T11:39:50.063Z"
   },
   {
    "duration": 5,
    "start_time": "2022-01-22T11:40:42.279Z"
   },
   {
    "duration": 7,
    "start_time": "2022-01-22T11:41:44.833Z"
   },
   {
    "duration": 315,
    "start_time": "2022-01-22T11:43:08.788Z"
   },
   {
    "duration": 306,
    "start_time": "2022-01-22T11:43:59.403Z"
   },
   {
    "duration": 279,
    "start_time": "2022-01-22T11:44:12.309Z"
   },
   {
    "duration": 283,
    "start_time": "2022-01-22T11:44:19.383Z"
   },
   {
    "duration": 22,
    "start_time": "2022-01-22T11:54:38.675Z"
   },
   {
    "duration": 19,
    "start_time": "2022-01-22T11:58:44.855Z"
   },
   {
    "duration": 33,
    "start_time": "2022-01-22T12:01:10.382Z"
   },
   {
    "duration": 231,
    "start_time": "2022-01-22T14:47:06.744Z"
   },
   {
    "duration": 278,
    "start_time": "2022-01-22T14:47:17.511Z"
   },
   {
    "duration": 148,
    "start_time": "2022-01-22T14:47:22.560Z"
   },
   {
    "duration": 188,
    "start_time": "2022-01-22T14:47:28.398Z"
   },
   {
    "duration": 151,
    "start_time": "2022-01-22T14:47:39.752Z"
   },
   {
    "duration": 184,
    "start_time": "2022-01-22T14:47:44.830Z"
   },
   {
    "duration": 178,
    "start_time": "2022-01-22T14:48:52.854Z"
   },
   {
    "duration": 167,
    "start_time": "2022-01-22T14:49:00.416Z"
   },
   {
    "duration": 165,
    "start_time": "2022-01-22T14:49:06.822Z"
   },
   {
    "duration": 169,
    "start_time": "2022-01-22T14:49:11.333Z"
   },
   {
    "duration": 186,
    "start_time": "2022-01-22T14:49:45.397Z"
   },
   {
    "duration": 157,
    "start_time": "2022-01-22T14:49:52.474Z"
   },
   {
    "duration": 162,
    "start_time": "2022-01-22T14:49:56.797Z"
   },
   {
    "duration": 180,
    "start_time": "2022-01-22T14:50:05.917Z"
   },
   {
    "duration": 200,
    "start_time": "2022-01-22T14:50:10.628Z"
   },
   {
    "duration": 79,
    "start_time": "2022-01-22T15:01:35.017Z"
   },
   {
    "duration": 7,
    "start_time": "2022-01-22T15:03:18.197Z"
   },
   {
    "duration": 7,
    "start_time": "2022-01-22T15:03:26.065Z"
   },
   {
    "duration": 6,
    "start_time": "2022-01-22T15:03:33.106Z"
   },
   {
    "duration": 24,
    "start_time": "2022-01-22T15:05:10.042Z"
   },
   {
    "duration": 9,
    "start_time": "2022-01-22T15:06:18.139Z"
   },
   {
    "duration": 26,
    "start_time": "2022-01-22T16:32:13.108Z"
   },
   {
    "duration": 22,
    "start_time": "2022-01-22T16:35:04.563Z"
   },
   {
    "duration": 21,
    "start_time": "2022-01-22T16:35:34.634Z"
   },
   {
    "duration": 25,
    "start_time": "2022-01-22T16:35:59.321Z"
   },
   {
    "duration": 8,
    "start_time": "2022-01-22T16:38:01.202Z"
   },
   {
    "duration": 5,
    "start_time": "2022-01-22T16:38:29.435Z"
   },
   {
    "duration": 7,
    "start_time": "2022-01-22T16:38:35.822Z"
   },
   {
    "duration": 100,
    "start_time": "2022-01-22T16:42:06.308Z"
   },
   {
    "duration": 356,
    "start_time": "2022-01-22T16:43:26.111Z"
   },
   {
    "duration": 1434,
    "start_time": "2022-01-22T16:43:35.532Z"
   },
   {
    "duration": 37,
    "start_time": "2022-01-22T16:44:01.991Z"
   },
   {
    "duration": 702,
    "start_time": "2022-01-25T07:19:09.607Z"
   },
   {
    "duration": 68,
    "start_time": "2022-01-25T07:19:11.872Z"
   },
   {
    "duration": 114,
    "start_time": "2022-01-25T07:19:16.708Z"
   },
   {
    "duration": 14,
    "start_time": "2022-01-25T07:19:22.308Z"
   },
   {
    "duration": 52,
    "start_time": "2022-01-25T07:19:28.688Z"
   },
   {
    "duration": 13,
    "start_time": "2022-01-25T07:19:41.175Z"
   },
   {
    "duration": 5,
    "start_time": "2022-01-25T07:19:46.848Z"
   },
   {
    "duration": 34,
    "start_time": "2022-01-25T07:19:55.308Z"
   },
   {
    "duration": 33,
    "start_time": "2022-01-25T07:20:00.648Z"
   },
   {
    "duration": 335,
    "start_time": "2022-01-25T07:20:08.448Z"
   },
   {
    "duration": 39,
    "start_time": "2022-01-25T07:20:12.668Z"
   },
   {
    "duration": 11,
    "start_time": "2022-01-25T07:20:19.008Z"
   },
   {
    "duration": 9,
    "start_time": "2022-01-25T07:20:35.360Z"
   },
   {
    "duration": 8,
    "start_time": "2022-01-25T07:26:07.028Z"
   },
   {
    "duration": 16,
    "start_time": "2022-01-25T07:26:25.528Z"
   },
   {
    "duration": 94,
    "start_time": "2022-01-25T07:33:39.787Z"
   },
   {
    "duration": 102,
    "start_time": "2022-01-25T07:34:08.368Z"
   },
   {
    "duration": 104,
    "start_time": "2022-01-25T07:34:13.572Z"
   },
   {
    "duration": 86,
    "start_time": "2022-01-25T07:34:42.939Z"
   },
   {
    "duration": 362,
    "start_time": "2022-01-25T07:36:31.327Z"
   },
   {
    "duration": 9,
    "start_time": "2022-01-25T07:44:52.204Z"
   },
   {
    "duration": 10,
    "start_time": "2022-01-25T07:45:00.574Z"
   },
   {
    "duration": 7,
    "start_time": "2022-01-25T07:45:24.127Z"
   },
   {
    "duration": 9,
    "start_time": "2022-01-25T07:45:31.039Z"
   },
   {
    "duration": 7,
    "start_time": "2022-01-25T07:46:00.460Z"
   },
   {
    "duration": 10,
    "start_time": "2022-01-25T07:46:06.380Z"
   },
   {
    "duration": 4,
    "start_time": "2022-01-25T07:51:31.196Z"
   },
   {
    "duration": 5,
    "start_time": "2022-01-25T07:52:43.660Z"
   },
   {
    "duration": 4,
    "start_time": "2022-01-25T07:52:45.932Z"
   },
   {
    "duration": 664,
    "start_time": "2022-01-25T07:53:28.907Z"
   },
   {
    "duration": 4,
    "start_time": "2022-01-25T07:54:00.448Z"
   },
   {
    "duration": 21062,
    "start_time": "2022-01-25T07:54:02.588Z"
   },
   {
    "duration": 612,
    "start_time": "2022-01-25T07:54:23.041Z"
   },
   {
    "duration": 21274,
    "start_time": "2022-01-25T07:54:59.409Z"
   },
   {
    "duration": 4342,
    "start_time": "2022-01-25T07:56:26.559Z"
   },
   {
    "duration": 265,
    "start_time": "2022-01-25T07:57:08.408Z"
   },
   {
    "duration": 639,
    "start_time": "2022-01-25T07:57:15.727Z"
   },
   {
    "duration": 5,
    "start_time": "2022-01-25T07:57:35.288Z"
   },
   {
    "duration": 21989,
    "start_time": "2022-01-25T07:59:13.108Z"
   },
   {
    "duration": 5,
    "start_time": "2022-01-25T08:00:48.600Z"
   },
   {
    "duration": 4,
    "start_time": "2022-01-25T08:00:50.940Z"
   },
   {
    "duration": 21668,
    "start_time": "2022-01-25T08:00:55.480Z"
   },
   {
    "duration": 12,
    "start_time": "2022-01-25T08:05:17.280Z"
   },
   {
    "duration": 5,
    "start_time": "2022-01-25T08:05:26.224Z"
   },
   {
    "duration": 5,
    "start_time": "2022-01-25T08:05:46.251Z"
   },
   {
    "duration": 4,
    "start_time": "2022-01-25T08:05:48.049Z"
   },
   {
    "duration": 22256,
    "start_time": "2022-01-25T08:05:50.820Z"
   },
   {
    "duration": 23,
    "start_time": "2022-01-25T08:07:00.461Z"
   },
   {
    "duration": 3,
    "start_time": "2022-01-25T08:07:26.440Z"
   },
   {
    "duration": 73,
    "start_time": "2022-01-25T08:07:28.672Z"
   },
   {
    "duration": 116,
    "start_time": "2022-01-25T08:07:33.708Z"
   },
   {
    "duration": 15,
    "start_time": "2022-01-25T08:07:38.621Z"
   },
   {
    "duration": 50,
    "start_time": "2022-01-25T08:07:44.310Z"
   },
   {
    "duration": 12,
    "start_time": "2022-01-25T08:07:50.761Z"
   },
   {
    "duration": 6,
    "start_time": "2022-01-25T08:07:56.246Z"
   },
   {
    "duration": 31,
    "start_time": "2022-01-25T08:08:07.186Z"
   },
   {
    "duration": 11,
    "start_time": "2022-01-25T08:08:18.147Z"
   },
   {
    "duration": 5,
    "start_time": "2022-01-25T08:08:26.369Z"
   },
   {
    "duration": 4,
    "start_time": "2022-01-25T08:08:28.979Z"
   },
   {
    "duration": 24409,
    "start_time": "2022-01-25T08:08:31.737Z"
   },
   {
    "duration": 4226,
    "start_time": "2022-01-25T08:09:20.341Z"
   },
   {
    "duration": 23347,
    "start_time": "2022-01-25T08:14:51.488Z"
   },
   {
    "duration": 9,
    "start_time": "2022-01-25T08:17:07.768Z"
   },
   {
    "duration": 12,
    "start_time": "2022-01-25T08:18:25.220Z"
   },
   {
    "duration": 24,
    "start_time": "2022-01-25T08:19:05.008Z"
   },
   {
    "duration": 6940,
    "start_time": "2022-01-25T08:19:23.248Z"
   },
   {
    "duration": 68,
    "start_time": "2022-01-25T08:19:31.360Z"
   },
   {
    "duration": 3,
    "start_time": "2022-01-25T08:23:55.197Z"
   },
   {
    "duration": 99,
    "start_time": "2022-01-25T08:23:57.190Z"
   },
   {
    "duration": 112,
    "start_time": "2022-01-25T08:24:01.828Z"
   },
   {
    "duration": 18,
    "start_time": "2022-01-25T08:24:08.268Z"
   },
   {
    "duration": 74,
    "start_time": "2022-01-25T08:24:44.348Z"
   },
   {
    "duration": 6,
    "start_time": "2022-01-25T08:27:16.361Z"
   },
   {
    "duration": 24,
    "start_time": "2022-01-25T08:27:33.840Z"
   },
   {
    "duration": 55,
    "start_time": "2022-01-25T08:28:31.009Z"
   },
   {
    "duration": 13,
    "start_time": "2022-01-25T08:28:35.626Z"
   },
   {
    "duration": 32,
    "start_time": "2022-01-25T08:28:40.008Z"
   },
   {
    "duration": 34,
    "start_time": "2022-01-25T08:28:41.760Z"
   },
   {
    "duration": 12,
    "start_time": "2022-01-25T08:28:47.356Z"
   },
   {
    "duration": 6,
    "start_time": "2022-01-25T08:28:49.629Z"
   },
   {
    "duration": 10,
    "start_time": "2022-01-25T08:28:52.168Z"
   },
   {
    "duration": 11,
    "start_time": "2022-01-25T08:29:02.048Z"
   },
   {
    "duration": 5,
    "start_time": "2022-01-25T08:29:25.209Z"
   },
   {
    "duration": 101369,
    "start_time": "2022-01-25T08:29:27.420Z"
   },
   {
    "duration": 22,
    "start_time": "2022-01-25T08:31:45.438Z"
   },
   {
    "duration": 7254,
    "start_time": "2022-01-25T08:35:56.788Z"
   },
   {
    "duration": 64,
    "start_time": "2022-01-25T08:36:06.117Z"
   },
   {
    "duration": 7,
    "start_time": "2022-01-25T08:36:42.349Z"
   },
   {
    "duration": 7,
    "start_time": "2022-01-25T08:36:54.708Z"
   },
   {
    "duration": 12,
    "start_time": "2022-01-25T08:37:34.181Z"
   },
   {
    "duration": 9,
    "start_time": "2022-01-25T08:42:09.748Z"
   },
   {
    "duration": 28,
    "start_time": "2022-01-25T08:42:29.570Z"
   },
   {
    "duration": 23,
    "start_time": "2022-01-25T08:51:41.716Z"
   },
   {
    "duration": 5,
    "start_time": "2022-01-25T08:52:22.756Z"
   },
   {
    "duration": 7,
    "start_time": "2022-01-25T12:30:21.995Z"
   },
   {
    "duration": 3,
    "start_time": "2022-01-25T12:30:42.361Z"
   },
   {
    "duration": 75,
    "start_time": "2022-01-25T12:30:44.773Z"
   },
   {
    "duration": 120,
    "start_time": "2022-01-25T12:30:47.401Z"
   },
   {
    "duration": 17,
    "start_time": "2022-01-25T12:30:51.832Z"
   },
   {
    "duration": 6,
    "start_time": "2022-01-25T12:31:00.741Z"
   },
   {
    "duration": 22,
    "start_time": "2022-01-25T12:31:02.861Z"
   },
   {
    "duration": 52,
    "start_time": "2022-01-25T12:31:09.841Z"
   },
   {
    "duration": 15,
    "start_time": "2022-01-25T12:31:18.521Z"
   },
   {
    "duration": 32,
    "start_time": "2022-01-25T12:31:20.641Z"
   },
   {
    "duration": 34,
    "start_time": "2022-01-25T12:31:26.593Z"
   },
   {
    "duration": 12,
    "start_time": "2022-01-25T12:31:28.881Z"
   },
   {
    "duration": 5,
    "start_time": "2022-01-25T12:31:35.441Z"
   },
   {
    "duration": 4,
    "start_time": "2022-01-25T12:31:40.746Z"
   },
   {
    "duration": 20,
    "start_time": "2022-01-25T12:33:22.085Z"
   },
   {
    "duration": 22,
    "start_time": "2022-01-25T12:33:22.108Z"
   },
   {
    "duration": 93935,
    "start_time": "2022-01-25T12:33:22.134Z"
   },
   {
    "duration": 7,
    "start_time": "2022-01-25T12:34:56.072Z"
   },
   {
    "duration": 51,
    "start_time": "2022-01-25T12:35:16.273Z"
   },
   {
    "duration": 5,
    "start_time": "2022-01-25T12:35:25.241Z"
   },
   {
    "duration": 283,
    "start_time": "2022-01-25T12:36:37.293Z"
   },
   {
    "duration": 5,
    "start_time": "2022-01-25T12:36:42.041Z"
   },
   {
    "duration": 303,
    "start_time": "2022-01-25T12:36:48.641Z"
   },
   {
    "duration": 8,
    "start_time": "2022-01-25T12:36:58.701Z"
   },
   {
    "duration": 5,
    "start_time": "2022-01-25T12:37:42.441Z"
   },
   {
    "duration": 7,
    "start_time": "2022-01-25T12:37:47.497Z"
   },
   {
    "duration": 10,
    "start_time": "2022-01-25T12:38:01.609Z"
   },
   {
    "duration": 19,
    "start_time": "2022-01-25T12:38:19.562Z"
   },
   {
    "duration": 29,
    "start_time": "2022-01-25T12:38:22.422Z"
   },
   {
    "duration": 71,
    "start_time": "2022-01-25T12:38:41.561Z"
   },
   {
    "duration": 109,
    "start_time": "2022-01-25T12:38:44.741Z"
   },
   {
    "duration": 13,
    "start_time": "2022-01-25T12:38:47.681Z"
   },
   {
    "duration": 7,
    "start_time": "2022-01-25T12:38:52.403Z"
   },
   {
    "duration": 26,
    "start_time": "2022-01-25T12:38:54.434Z"
   },
   {
    "duration": 58,
    "start_time": "2022-01-25T12:38:56.894Z"
   },
   {
    "duration": 12,
    "start_time": "2022-01-25T12:39:01.881Z"
   },
   {
    "duration": 32,
    "start_time": "2022-01-25T12:39:05.058Z"
   },
   {
    "duration": 32,
    "start_time": "2022-01-25T12:39:08.161Z"
   },
   {
    "duration": 10,
    "start_time": "2022-01-25T12:39:10.262Z"
   },
   {
    "duration": 5,
    "start_time": "2022-01-25T12:39:17.073Z"
   },
   {
    "duration": 10,
    "start_time": "2022-01-25T12:39:19.721Z"
   },
   {
    "duration": 7,
    "start_time": "2022-01-25T12:39:33.962Z"
   },
   {
    "duration": 52,
    "start_time": "2022-01-25T12:39:36.961Z"
   },
   {
    "duration": 5,
    "start_time": "2022-01-25T12:39:49.974Z"
   },
   {
    "duration": 58,
    "start_time": "2022-01-25T12:39:55.622Z"
   },
   {
    "duration": 8,
    "start_time": "2022-01-25T12:40:04.893Z"
   },
   {
    "duration": 24,
    "start_time": "2022-01-25T12:42:14.489Z"
   },
   {
    "duration": 57,
    "start_time": "2022-01-25T12:42:20.613Z"
   },
   {
    "duration": 66,
    "start_time": "2022-01-25T12:44:05.473Z"
   },
   {
    "duration": 54,
    "start_time": "2022-01-25T12:46:14.753Z"
   },
   {
    "duration": 10,
    "start_time": "2022-01-25T12:58:29.502Z"
   },
   {
    "duration": 14,
    "start_time": "2022-01-25T12:58:40.802Z"
   },
   {
    "duration": 10,
    "start_time": "2022-01-25T13:04:22.204Z"
   },
   {
    "duration": 22,
    "start_time": "2022-01-25T13:04:35.615Z"
   },
   {
    "duration": 41,
    "start_time": "2022-01-25T13:05:16.755Z"
   },
   {
    "duration": 4,
    "start_time": "2022-01-25T13:05:24.551Z"
   },
   {
    "duration": 66,
    "start_time": "2022-01-25T13:05:25.939Z"
   },
   {
    "duration": 153,
    "start_time": "2022-01-25T13:05:27.844Z"
   },
   {
    "duration": 17,
    "start_time": "2022-01-25T13:05:30.043Z"
   },
   {
    "duration": 6,
    "start_time": "2022-01-25T13:05:34.155Z"
   },
   {
    "duration": 23,
    "start_time": "2022-01-25T13:05:35.563Z"
   },
   {
    "duration": 65,
    "start_time": "2022-01-25T13:05:37.364Z"
   },
   {
    "duration": 15,
    "start_time": "2022-01-25T13:05:46.014Z"
   },
   {
    "duration": 34,
    "start_time": "2022-01-25T13:05:47.754Z"
   },
   {
    "duration": 38,
    "start_time": "2022-01-25T13:05:49.515Z"
   },
   {
    "duration": 13,
    "start_time": "2022-01-25T13:05:54.043Z"
   },
   {
    "duration": 5,
    "start_time": "2022-01-25T13:05:55.875Z"
   },
   {
    "duration": 4,
    "start_time": "2022-01-25T13:05:58.183Z"
   },
   {
    "duration": 98982,
    "start_time": "2022-01-25T13:06:03.803Z"
   },
   {
    "duration": 24,
    "start_time": "2022-01-25T13:08:21.125Z"
   },
   {
    "duration": 10,
    "start_time": "2022-01-25T13:08:23.296Z"
   },
   {
    "duration": 7,
    "start_time": "2022-01-25T13:08:25.362Z"
   },
   {
    "duration": 52,
    "start_time": "2022-01-25T13:08:28.343Z"
   },
   {
    "duration": 11,
    "start_time": "2022-01-25T13:08:38.810Z"
   },
   {
    "duration": 13,
    "start_time": "2022-01-25T13:08:42.974Z"
   },
   {
    "duration": 14,
    "start_time": "2022-01-25T13:08:48.461Z"
   },
   {
    "duration": 10,
    "start_time": "2022-01-25T13:12:11.041Z"
   },
   {
    "duration": 22,
    "start_time": "2022-01-25T13:12:13.774Z"
   },
   {
    "duration": 58,
    "start_time": "2022-01-25T13:12:50.582Z"
   },
   {
    "duration": 5,
    "start_time": "2022-01-25T13:14:21.170Z"
   },
   {
    "duration": 103,
    "start_time": "2022-01-25T13:14:26.274Z"
   },
   {
    "duration": 108,
    "start_time": "2022-01-25T13:14:29.882Z"
   },
   {
    "duration": 21,
    "start_time": "2022-01-25T13:14:39.854Z"
   },
   {
    "duration": 12,
    "start_time": "2022-01-25T13:15:02.202Z"
   },
   {
    "duration": 42,
    "start_time": "2022-01-25T13:16:09.423Z"
   },
   {
    "duration": 7,
    "start_time": "2022-01-25T13:25:26.728Z"
   },
   {
    "duration": 17,
    "start_time": "2022-01-25T13:25:29.087Z"
   },
   {
    "duration": 857,
    "start_time": "2022-01-25T13:28:25.637Z"
   },
   {
    "duration": 7,
    "start_time": "2022-01-25T13:28:30.235Z"
   },
   {
    "duration": 41,
    "start_time": "2022-01-25T13:28:39.807Z"
   },
   {
    "duration": 36,
    "start_time": "2022-01-25T13:29:58.800Z"
   },
   {
    "duration": 287,
    "start_time": "2022-01-25T13:40:49.722Z"
   },
   {
    "duration": 323,
    "start_time": "2022-01-25T13:49:19.202Z"
   },
   {
    "duration": 389,
    "start_time": "2022-01-25T13:49:39.735Z"
   },
   {
    "duration": 307,
    "start_time": "2022-01-25T13:49:43.042Z"
   },
   {
    "duration": 300,
    "start_time": "2022-01-25T13:49:46.502Z"
   },
   {
    "duration": 294,
    "start_time": "2022-01-25T13:51:01.143Z"
   },
   {
    "duration": 1012,
    "start_time": "2022-01-25T14:02:01.567Z"
   },
   {
    "duration": 53,
    "start_time": "2022-01-25T14:02:11.800Z"
   },
   {
    "duration": 291,
    "start_time": "2022-01-25T14:02:30.666Z"
   },
   {
    "duration": 32,
    "start_time": "2022-01-25T14:02:40.608Z"
   },
   {
    "duration": 991,
    "start_time": "2022-01-25T14:03:27.074Z"
   },
   {
    "duration": 35,
    "start_time": "2022-01-25T14:03:36.241Z"
   },
   {
    "duration": 1031,
    "start_time": "2022-01-25T14:03:50.667Z"
   },
   {
    "duration": 41,
    "start_time": "2022-01-25T14:03:57.019Z"
   },
   {
    "duration": 98,
    "start_time": "2022-01-25T14:04:09.047Z"
   },
   {
    "duration": 8748,
    "start_time": "2022-01-25T14:04:14.806Z"
   },
   {
    "duration": -382,
    "start_time": "2022-01-25T14:04:23.939Z"
   },
   {
    "duration": 702,
    "start_time": "2022-01-25T14:05:17.978Z"
   },
   {
    "duration": 73,
    "start_time": "2022-01-25T14:05:20.347Z"
   },
   {
    "duration": 122,
    "start_time": "2022-01-25T14:05:21.967Z"
   },
   {
    "duration": 15,
    "start_time": "2022-01-25T14:05:23.740Z"
   },
   {
    "duration": 7,
    "start_time": "2022-01-25T14:05:28.307Z"
   },
   {
    "duration": 33,
    "start_time": "2022-01-25T14:05:29.020Z"
   },
   {
    "duration": 62,
    "start_time": "2022-01-25T14:05:30.089Z"
   },
   {
    "duration": 12,
    "start_time": "2022-01-25T14:05:31.866Z"
   },
   {
    "duration": 50,
    "start_time": "2022-01-25T14:05:33.200Z"
   },
   {
    "duration": 47,
    "start_time": "2022-01-25T14:05:34.240Z"
   },
   {
    "duration": 16,
    "start_time": "2022-01-25T14:05:35.199Z"
   },
   {
    "duration": 5,
    "start_time": "2022-01-25T14:05:36.107Z"
   },
   {
    "duration": 5,
    "start_time": "2022-01-25T14:05:37.348Z"
   },
   {
    "duration": 112604,
    "start_time": "2022-01-25T14:05:38.219Z"
   },
   {
    "duration": 23,
    "start_time": "2022-01-25T14:07:36.968Z"
   },
   {
    "duration": 14,
    "start_time": "2022-01-25T14:07:38.128Z"
   },
   {
    "duration": 11,
    "start_time": "2022-01-25T14:07:39.228Z"
   },
   {
    "duration": 83,
    "start_time": "2022-01-25T14:07:40.419Z"
   },
   {
    "duration": 13,
    "start_time": "2022-01-25T14:07:41.508Z"
   },
   {
    "duration": 6,
    "start_time": "2022-01-25T14:07:42.479Z"
   },
   {
    "duration": 7,
    "start_time": "2022-01-25T14:07:43.735Z"
   },
   {
    "duration": 34,
    "start_time": "2022-01-25T14:07:44.941Z"
   },
   {
    "duration": 6,
    "start_time": "2022-01-25T14:07:46.068Z"
   },
   {
    "duration": 14,
    "start_time": "2022-01-25T14:07:47.550Z"
   },
   {
    "duration": 11,
    "start_time": "2022-01-25T14:07:52.507Z"
   },
   {
    "duration": 1270,
    "start_time": "2022-01-25T14:07:55.788Z"
   },
   {
    "duration": 31,
    "start_time": "2022-01-25T14:08:02.556Z"
   },
   {
    "duration": 7,
    "start_time": "2022-01-25T14:10:06.508Z"
   },
   {
    "duration": 6,
    "start_time": "2022-01-25T14:11:36.968Z"
   },
   {
    "duration": 49,
    "start_time": "2022-01-25T14:11:41.550Z"
   },
   {
    "duration": 540,
    "start_time": "2022-01-25T14:17:14.120Z"
   },
   {
    "duration": 296,
    "start_time": "2022-01-25T14:18:40.195Z"
   },
   {
    "duration": 17,
    "start_time": "2022-01-25T14:18:46.667Z"
   },
   {
    "duration": 10,
    "start_time": "2022-01-25T14:18:53.667Z"
   },
   {
    "duration": 32,
    "start_time": "2022-01-25T14:18:55.679Z"
   },
   {
    "duration": 110,
    "start_time": "2022-01-25T14:23:17.000Z"
   },
   {
    "duration": 9,
    "start_time": "2022-01-25T14:23:35.367Z"
   },
   {
    "duration": 33,
    "start_time": "2022-01-25T14:23:39.979Z"
   },
   {
    "duration": 12,
    "start_time": "2022-01-25T14:25:23.339Z"
   },
   {
    "duration": 10,
    "start_time": "2022-01-25T14:25:30.010Z"
   },
   {
    "duration": 34,
    "start_time": "2022-01-25T14:25:35.395Z"
   },
   {
    "duration": 11,
    "start_time": "2022-01-25T14:28:19.127Z"
   },
   {
    "duration": 30,
    "start_time": "2022-01-25T14:28:24.483Z"
   },
   {
    "duration": 105,
    "start_time": "2022-01-25T14:34:23.788Z"
   },
   {
    "duration": 98,
    "start_time": "2022-01-25T14:34:35.888Z"
   },
   {
    "duration": 14,
    "start_time": "2022-01-25T14:37:29.607Z"
   },
   {
    "duration": 397,
    "start_time": "2022-01-25T14:38:12.368Z"
   },
   {
    "duration": 292,
    "start_time": "2022-01-25T14:38:22.507Z"
   },
   {
    "duration": 98,
    "start_time": "2022-01-25T14:40:54.488Z"
   },
   {
    "duration": 102,
    "start_time": "2022-01-25T14:40:58.116Z"
   },
   {
    "duration": 109,
    "start_time": "2022-01-25T14:41:16.441Z"
   },
   {
    "duration": 111,
    "start_time": "2022-01-25T14:41:25.729Z"
   },
   {
    "duration": 408,
    "start_time": "2022-01-25T14:41:57.319Z"
   },
   {
    "duration": 13,
    "start_time": "2022-01-25T14:42:11.449Z"
   },
   {
    "duration": 6,
    "start_time": "2022-01-25T15:10:25.641Z"
   },
   {
    "duration": 19,
    "start_time": "2022-01-25T15:10:28.017Z"
   },
   {
    "duration": 6,
    "start_time": "2022-01-25T15:10:39.909Z"
   },
   {
    "duration": 10,
    "start_time": "2022-01-25T15:10:48.312Z"
   },
   {
    "duration": 289,
    "start_time": "2022-01-25T15:57:18.256Z"
   },
   {
    "duration": 16,
    "start_time": "2022-01-25T15:58:03.097Z"
   },
   {
    "duration": 18,
    "start_time": "2022-01-25T15:58:05.527Z"
   },
   {
    "duration": 16,
    "start_time": "2022-01-25T16:02:41.552Z"
   },
   {
    "duration": 4,
    "start_time": "2022-01-25T16:02:51.376Z"
   },
   {
    "duration": 73,
    "start_time": "2022-01-25T16:02:53.264Z"
   },
   {
    "duration": 102,
    "start_time": "2022-01-25T16:02:57.244Z"
   },
   {
    "duration": 15,
    "start_time": "2022-01-25T16:02:59.178Z"
   },
   {
    "duration": 6,
    "start_time": "2022-01-25T16:03:06.404Z"
   },
   {
    "duration": 17,
    "start_time": "2022-01-25T16:03:08.964Z"
   },
   {
    "duration": 22,
    "start_time": "2022-01-25T16:03:10.784Z"
   },
   {
    "duration": 55,
    "start_time": "2022-01-25T16:03:26.864Z"
   },
   {
    "duration": 12,
    "start_time": "2022-01-25T16:03:38.837Z"
   },
   {
    "duration": 35,
    "start_time": "2022-01-25T16:03:40.226Z"
   },
   {
    "duration": 43,
    "start_time": "2022-01-25T16:03:41.805Z"
   },
   {
    "duration": 12,
    "start_time": "2022-01-25T16:03:43.276Z"
   },
   {
    "duration": 5,
    "start_time": "2022-01-25T16:03:49.425Z"
   },
   {
    "duration": 4,
    "start_time": "2022-01-25T16:03:51.564Z"
   },
   {
    "duration": 102234,
    "start_time": "2022-01-25T16:03:56.125Z"
   },
   {
    "duration": 24,
    "start_time": "2022-01-25T16:05:38.362Z"
   },
   {
    "duration": 32,
    "start_time": "2022-01-25T16:05:38.390Z"
   },
   {
    "duration": 10,
    "start_time": "2022-01-25T16:05:38.427Z"
   },
   {
    "duration": 47,
    "start_time": "2022-01-25T16:07:27.365Z"
   },
   {
    "duration": 11,
    "start_time": "2022-01-25T16:07:32.616Z"
   },
   {
    "duration": 10,
    "start_time": "2022-01-25T16:08:11.754Z"
   },
   {
    "duration": 15,
    "start_time": "2022-01-25T16:08:22.356Z"
   },
   {
    "duration": 63,
    "start_time": "2022-01-25T16:09:10.269Z"
   },
   {
    "duration": 11,
    "start_time": "2022-01-25T16:13:29.797Z"
   },
   {
    "duration": 14,
    "start_time": "2022-01-25T16:13:32.097Z"
   },
   {
    "duration": 4,
    "start_time": "2022-01-25T16:13:47.406Z"
   },
   {
    "duration": 35,
    "start_time": "2022-01-25T16:13:50.437Z"
   },
   {
    "duration": 5,
    "start_time": "2022-01-25T16:13:59.664Z"
   },
   {
    "duration": 14,
    "start_time": "2022-01-25T16:14:26.307Z"
   },
   {
    "duration": 5,
    "start_time": "2022-01-25T16:15:47.606Z"
   },
   {
    "duration": 23,
    "start_time": "2022-01-25T16:16:34.576Z"
   },
   {
    "duration": 12,
    "start_time": "2022-01-25T16:24:03.384Z"
   },
   {
    "duration": 5,
    "start_time": "2022-01-25T16:24:14.995Z"
   },
   {
    "duration": 26,
    "start_time": "2022-01-25T16:24:17.343Z"
   },
   {
    "duration": 4,
    "start_time": "2022-01-25T16:24:29.004Z"
   },
   {
    "duration": 97,
    "start_time": "2022-01-25T16:24:30.044Z"
   },
   {
    "duration": 111,
    "start_time": "2022-01-25T16:24:31.496Z"
   },
   {
    "duration": 16,
    "start_time": "2022-01-25T16:24:32.963Z"
   },
   {
    "duration": 6,
    "start_time": "2022-01-25T16:24:38.989Z"
   },
   {
    "duration": 21,
    "start_time": "2022-01-25T16:24:40.008Z"
   },
   {
    "duration": 25,
    "start_time": "2022-01-25T16:24:41.155Z"
   },
   {
    "duration": 58,
    "start_time": "2022-01-25T16:24:42.915Z"
   },
   {
    "duration": 13,
    "start_time": "2022-01-25T16:24:48.043Z"
   },
   {
    "duration": 38,
    "start_time": "2022-01-25T16:24:50.515Z"
   },
   {
    "duration": 32,
    "start_time": "2022-01-25T16:24:52.464Z"
   },
   {
    "duration": 17,
    "start_time": "2022-01-25T16:24:54.884Z"
   },
   {
    "duration": 7,
    "start_time": "2022-01-25T16:25:22.345Z"
   },
   {
    "duration": 6,
    "start_time": "2022-01-25T16:25:24.524Z"
   },
   {
    "duration": 102295,
    "start_time": "2022-01-25T16:25:28.496Z"
   },
   {
    "duration": 32,
    "start_time": "2022-01-25T16:27:10.794Z"
   },
   {
    "duration": 9,
    "start_time": "2022-01-25T16:27:17.475Z"
   },
   {
    "duration": 9,
    "start_time": "2022-01-25T16:27:22.924Z"
   },
   {
    "duration": 57,
    "start_time": "2022-01-25T16:27:26.584Z"
   },
   {
    "duration": 10,
    "start_time": "2022-01-25T16:27:33.963Z"
   },
   {
    "duration": 12,
    "start_time": "2022-01-25T16:28:18.664Z"
   },
   {
    "duration": 5,
    "start_time": "2022-01-25T16:28:23.156Z"
   },
   {
    "duration": 9,
    "start_time": "2022-01-25T16:28:27.515Z"
   },
   {
    "duration": 49,
    "start_time": "2022-01-25T16:29:06.644Z"
   },
   {
    "duration": 267,
    "start_time": "2022-01-25T16:37:51.664Z"
   },
   {
    "duration": 4,
    "start_time": "2022-01-25T16:38:08.544Z"
   },
   {
    "duration": 6,
    "start_time": "2022-01-25T16:38:25.156Z"
   },
   {
    "duration": 7,
    "start_time": "2022-01-25T16:39:33.304Z"
   },
   {
    "duration": 18,
    "start_time": "2022-01-25T16:40:29.797Z"
   },
   {
    "duration": 13,
    "start_time": "2022-01-25T16:40:40.596Z"
   },
   {
    "duration": 57,
    "start_time": "2022-01-25T16:40:43.396Z"
   },
   {
    "duration": 11,
    "start_time": "2022-01-25T16:45:08.516Z"
   },
   {
    "duration": 5,
    "start_time": "2022-01-25T16:45:11.558Z"
   },
   {
    "duration": 40,
    "start_time": "2022-01-25T16:45:13.697Z"
   },
   {
    "duration": 10,
    "start_time": "2022-01-25T16:45:18.729Z"
   },
   {
    "duration": 17,
    "start_time": "2022-01-25T16:45:23.844Z"
   },
   {
    "duration": 14,
    "start_time": "2022-01-25T16:46:36.084Z"
   },
   {
    "duration": 10,
    "start_time": "2022-01-25T16:47:44.242Z"
   },
   {
    "duration": 47,
    "start_time": "2022-01-25T16:48:03.208Z"
   },
   {
    "duration": 11,
    "start_time": "2022-01-25T16:49:02.765Z"
   },
   {
    "duration": 5,
    "start_time": "2022-01-25T16:49:04.876Z"
   },
   {
    "duration": 4,
    "start_time": "2022-01-25T16:49:15.406Z"
   },
   {
    "duration": 20,
    "start_time": "2022-01-25T16:49:18.815Z"
   },
   {
    "duration": 6,
    "start_time": "2022-01-25T16:50:12.324Z"
   },
   {
    "duration": 81,
    "start_time": "2022-01-25T16:50:14.716Z"
   },
   {
    "duration": 789,
    "start_time": "2022-01-25T16:50:16.704Z"
   },
   {
    "duration": 18,
    "start_time": "2022-01-25T16:50:20.404Z"
   },
   {
    "duration": 6,
    "start_time": "2022-01-25T16:50:26.365Z"
   },
   {
    "duration": 16,
    "start_time": "2022-01-25T16:50:28.384Z"
   },
   {
    "duration": 23,
    "start_time": "2022-01-25T16:50:30.244Z"
   },
   {
    "duration": 59,
    "start_time": "2022-01-25T16:50:40.376Z"
   },
   {
    "duration": 12,
    "start_time": "2022-01-25T16:50:44.741Z"
   },
   {
    "duration": 35,
    "start_time": "2022-01-25T16:50:47.124Z"
   },
   {
    "duration": 37,
    "start_time": "2022-01-25T16:50:51.927Z"
   },
   {
    "duration": 5,
    "start_time": "2022-01-25T16:50:53.937Z"
   },
   {
    "duration": 6,
    "start_time": "2022-01-25T16:50:56.224Z"
   },
   {
    "duration": 98074,
    "start_time": "2022-01-25T16:50:58.744Z"
   },
   {
    "duration": 38,
    "start_time": "2022-01-25T16:52:39.401Z"
   },
   {
    "duration": 8,
    "start_time": "2022-01-25T16:52:57.183Z"
   },
   {
    "duration": 54,
    "start_time": "2022-01-25T16:53:00.757Z"
   },
   {
    "duration": 10,
    "start_time": "2022-01-25T16:53:06.544Z"
   },
   {
    "duration": 20,
    "start_time": "2022-01-25T16:53:09.430Z"
   },
   {
    "duration": 10,
    "start_time": "2022-01-25T16:53:15.737Z"
   },
   {
    "duration": 41,
    "start_time": "2022-01-25T16:53:18.064Z"
   },
   {
    "duration": 11,
    "start_time": "2022-01-25T16:53:22.944Z"
   },
   {
    "duration": 13,
    "start_time": "2022-01-25T16:53:24.716Z"
   },
   {
    "duration": 48,
    "start_time": "2022-01-25T16:53:27.384Z"
   },
   {
    "duration": 11,
    "start_time": "2022-01-25T16:53:32.555Z"
   },
   {
    "duration": 4,
    "start_time": "2022-01-25T16:53:35.278Z"
   },
   {
    "duration": 6,
    "start_time": "2022-01-25T16:53:37.644Z"
   },
   {
    "duration": 17,
    "start_time": "2022-01-25T16:53:39.964Z"
   },
   {
    "duration": 5,
    "start_time": "2022-01-25T16:56:11.385Z"
   },
   {
    "duration": 5,
    "start_time": "2022-01-25T16:56:34.004Z"
   },
   {
    "duration": 6,
    "start_time": "2022-01-25T16:56:36.298Z"
   },
   {
    "duration": 24,
    "start_time": "2022-01-25T16:56:43.924Z"
   },
   {
    "duration": 13,
    "start_time": "2022-01-25T16:56:46.944Z"
   },
   {
    "duration": 28,
    "start_time": "2022-01-25T16:56:52.496Z"
   },
   {
    "duration": 367,
    "start_time": "2022-01-25T17:00:43.300Z"
   },
   {
    "duration": 310,
    "start_time": "2022-01-25T17:01:02.564Z"
   },
   {
    "duration": 299,
    "start_time": "2022-01-25T17:02:49.204Z"
   },
   {
    "duration": 363,
    "start_time": "2022-01-25T17:03:14.345Z"
   },
   {
    "duration": 298,
    "start_time": "2022-01-25T17:03:26.180Z"
   },
   {
    "duration": 297,
    "start_time": "2022-01-25T17:03:32.096Z"
   },
   {
    "duration": 317,
    "start_time": "2022-01-25T17:03:36.458Z"
   },
   {
    "duration": 291,
    "start_time": "2022-01-25T17:03:43.756Z"
   },
   {
    "duration": 301,
    "start_time": "2022-01-25T17:03:49.728Z"
   },
   {
    "duration": 289,
    "start_time": "2022-01-25T17:04:46.137Z"
   },
   {
    "duration": 1140,
    "start_time": "2022-01-25T17:05:01.358Z"
   },
   {
    "duration": 279,
    "start_time": "2022-01-25T17:05:06.844Z"
   },
   {
    "duration": 7623,
    "start_time": "2022-01-25T17:05:43.647Z"
   },
   {
    "duration": 283,
    "start_time": "2022-01-25T17:05:58.512Z"
   },
   {
    "duration": 311,
    "start_time": "2022-01-25T17:06:09.492Z"
   },
   {
    "duration": 321,
    "start_time": "2022-01-25T17:06:15.117Z"
   },
   {
    "duration": 335,
    "start_time": "2022-01-25T17:06:22.764Z"
   },
   {
    "duration": 285,
    "start_time": "2022-01-25T17:07:42.576Z"
   },
   {
    "duration": 348,
    "start_time": "2022-01-25T17:14:14.603Z"
   },
   {
    "duration": 26,
    "start_time": "2022-01-25T17:15:24.756Z"
   },
   {
    "duration": 8,
    "start_time": "2022-01-25T17:16:40.444Z"
   },
   {
    "duration": 7,
    "start_time": "2022-01-25T17:17:01.904Z"
   },
   {
    "duration": 12,
    "start_time": "2022-01-25T17:18:23.564Z"
   },
   {
    "duration": 591,
    "start_time": "2022-01-26T07:28:44.666Z"
   },
   {
    "duration": 64,
    "start_time": "2022-01-26T07:28:47.058Z"
   },
   {
    "duration": 104,
    "start_time": "2022-01-26T07:28:49.998Z"
   },
   {
    "duration": 11,
    "start_time": "2022-01-26T07:28:52.505Z"
   },
   {
    "duration": 5,
    "start_time": "2022-01-26T07:29:05.746Z"
   },
   {
    "duration": 11,
    "start_time": "2022-01-26T07:29:07.658Z"
   },
   {
    "duration": 17,
    "start_time": "2022-01-26T07:29:09.637Z"
   },
   {
    "duration": 36,
    "start_time": "2022-01-26T07:29:11.597Z"
   },
   {
    "duration": 9,
    "start_time": "2022-01-26T07:29:15.466Z"
   },
   {
    "duration": 22,
    "start_time": "2022-01-26T07:29:17.406Z"
   },
   {
    "duration": 21,
    "start_time": "2022-01-26T07:29:21.845Z"
   },
   {
    "duration": 4,
    "start_time": "2022-01-26T07:29:23.826Z"
   },
   {
    "duration": 4,
    "start_time": "2022-01-26T07:29:29.505Z"
   },
   {
    "duration": 65117,
    "start_time": "2022-01-26T07:29:31.705Z"
   },
   {
    "duration": 14,
    "start_time": "2022-01-26T07:30:36.824Z"
   },
   {
    "duration": 15,
    "start_time": "2022-01-26T07:30:44.325Z"
   },
   {
    "duration": 6,
    "start_time": "2022-01-26T07:30:47.525Z"
   },
   {
    "duration": 35,
    "start_time": "2022-01-26T07:30:49.645Z"
   },
   {
    "duration": 10,
    "start_time": "2022-01-26T07:31:06.337Z"
   },
   {
    "duration": 13,
    "start_time": "2022-01-26T07:31:08.605Z"
   },
   {
    "duration": 8,
    "start_time": "2022-01-26T07:31:15.681Z"
   },
   {
    "duration": 29,
    "start_time": "2022-01-26T07:31:23.038Z"
   },
   {
    "duration": 9,
    "start_time": "2022-01-26T07:31:28.425Z"
   },
   {
    "duration": 8,
    "start_time": "2022-01-26T07:31:30.377Z"
   },
   {
    "duration": 28,
    "start_time": "2022-01-26T07:31:32.390Z"
   },
   {
    "duration": 9,
    "start_time": "2022-01-26T07:31:37.857Z"
   },
   {
    "duration": 4,
    "start_time": "2022-01-26T07:31:39.829Z"
   },
   {
    "duration": 5,
    "start_time": "2022-01-26T07:31:41.925Z"
   },
   {
    "duration": 11,
    "start_time": "2022-01-26T07:31:44.193Z"
   },
   {
    "duration": 6,
    "start_time": "2022-01-26T07:34:14.125Z"
   },
   {
    "duration": 4,
    "start_time": "2022-01-26T07:34:16.065Z"
   },
   {
    "duration": 5,
    "start_time": "2022-01-26T07:34:17.517Z"
   },
   {
    "duration": 13,
    "start_time": "2022-01-26T07:34:19.105Z"
   },
   {
    "duration": 10,
    "start_time": "2022-01-26T07:34:21.004Z"
   },
   {
    "duration": 24,
    "start_time": "2022-01-26T07:34:26.205Z"
   },
   {
    "duration": 271,
    "start_time": "2022-01-26T07:34:43.265Z"
   },
   {
    "duration": 193,
    "start_time": "2022-01-26T07:34:48.037Z"
   },
   {
    "duration": 231,
    "start_time": "2022-01-26T07:34:52.945Z"
   },
   {
    "duration": 269,
    "start_time": "2022-01-26T07:34:54.901Z"
   },
   {
    "duration": 217,
    "start_time": "2022-01-26T07:35:03.405Z"
   },
   {
    "duration": 5,
    "start_time": "2022-01-26T07:35:08.957Z"
   },
   {
    "duration": 5,
    "start_time": "2022-01-26T07:35:10.667Z"
   },
   {
    "duration": 10,
    "start_time": "2022-01-26T07:35:12.345Z"
   },
   {
    "duration": 979,
    "start_time": "2022-01-26T07:45:35.764Z"
   },
   {
    "duration": 2,
    "start_time": "2022-01-26T07:46:29.385Z"
   },
   {
    "duration": 1052,
    "start_time": "2022-01-26T07:46:50.816Z"
   },
   {
    "duration": 989,
    "start_time": "2022-01-26T07:47:08.764Z"
   },
   {
    "duration": 1069,
    "start_time": "2022-01-26T07:47:31.625Z"
   },
   {
    "duration": 994,
    "start_time": "2022-01-26T07:48:03.245Z"
   },
   {
    "duration": 966,
    "start_time": "2022-01-26T07:48:11.965Z"
   },
   {
    "duration": 1073,
    "start_time": "2022-01-26T07:48:17.225Z"
   },
   {
    "duration": 1060,
    "start_time": "2022-01-26T07:48:21.477Z"
   },
   {
    "duration": 266,
    "start_time": "2022-01-26T07:49:27.157Z"
   },
   {
    "duration": 964,
    "start_time": "2022-01-26T07:49:36.377Z"
   },
   {
    "duration": 953,
    "start_time": "2022-01-26T07:50:24.225Z"
   },
   {
    "duration": 1062,
    "start_time": "2022-01-26T07:50:31.925Z"
   },
   {
    "duration": 1051,
    "start_time": "2022-01-26T07:50:36.265Z"
   },
   {
    "duration": 5,
    "start_time": "2022-01-26T08:02:13.524Z"
   },
   {
    "duration": 5,
    "start_time": "2022-01-26T08:03:28.563Z"
   },
   {
    "duration": 5,
    "start_time": "2022-01-26T08:04:39.623Z"
   },
   {
    "duration": 4,
    "start_time": "2022-01-26T08:11:33.102Z"
   },
   {
    "duration": 348,
    "start_time": "2022-01-26T08:11:48.354Z"
   },
   {
    "duration": 4992,
    "start_time": "2022-01-26T08:12:45.981Z"
   },
   {
    "duration": 3,
    "start_time": "2022-01-26T08:16:32.788Z"
   },
   {
    "duration": 5347,
    "start_time": "2022-01-26T08:16:34.902Z"
   },
   {
    "duration": 4,
    "start_time": "2022-01-26T08:17:03.242Z"
   },
   {
    "duration": 926,
    "start_time": "2022-01-26T08:17:06.622Z"
   },
   {
    "duration": 20,
    "start_time": "2022-01-26T08:17:12.998Z"
   },
   {
    "duration": 4,
    "start_time": "2022-01-26T08:18:53.122Z"
   },
   {
    "duration": 778,
    "start_time": "2022-01-26T08:18:55.562Z"
   },
   {
    "duration": 22,
    "start_time": "2022-01-26T08:18:58.902Z"
   },
   {
    "duration": 672,
    "start_time": "2022-01-26T08:20:58.101Z"
   },
   {
    "duration": -726,
    "start_time": "2022-01-26T08:21:57.603Z"
   },
   {
    "duration": 6,
    "start_time": "2022-01-26T08:22:07.142Z"
   },
   {
    "duration": 5,
    "start_time": "2022-01-26T08:23:04.801Z"
   },
   {
    "duration": 4,
    "start_time": "2022-01-26T08:23:17.564Z"
   },
   {
    "duration": 5,
    "start_time": "2022-01-26T08:26:57.713Z"
   },
   {
    "duration": 5,
    "start_time": "2022-01-26T08:27:04.702Z"
   },
   {
    "duration": 5,
    "start_time": "2022-01-26T08:27:11.373Z"
   },
   {
    "duration": 4,
    "start_time": "2022-01-26T08:27:16.493Z"
   },
   {
    "duration": 5,
    "start_time": "2022-01-26T08:27:22.333Z"
   },
   {
    "duration": 4,
    "start_time": "2022-01-26T08:27:27.722Z"
   },
   {
    "duration": 5,
    "start_time": "2022-01-26T08:28:01.593Z"
   },
   {
    "duration": 9,
    "start_time": "2022-01-26T08:34:52.853Z"
   },
   {
    "duration": 7,
    "start_time": "2022-01-26T08:36:54.821Z"
   },
   {
    "duration": 8,
    "start_time": "2022-01-26T08:39:40.931Z"
   },
   {
    "duration": 7,
    "start_time": "2022-01-26T08:40:17.659Z"
   },
   {
    "duration": 27,
    "start_time": "2022-01-26T08:43:45.478Z"
   },
   {
    "duration": 51,
    "start_time": "2022-01-26T08:44:56.597Z"
   },
   {
    "duration": 12,
    "start_time": "2022-01-26T08:45:50.559Z"
   },
   {
    "duration": 20,
    "start_time": "2022-01-26T08:45:59.389Z"
   },
   {
    "duration": 25,
    "start_time": "2022-01-26T08:46:56.709Z"
   },
   {
    "duration": 24,
    "start_time": "2022-01-26T08:47:43.377Z"
   },
   {
    "duration": 13,
    "start_time": "2022-01-26T08:48:00.229Z"
   },
   {
    "duration": 25,
    "start_time": "2022-01-26T08:48:08.117Z"
   },
   {
    "duration": 13,
    "start_time": "2022-01-26T08:48:53.517Z"
   },
   {
    "duration": 19,
    "start_time": "2022-01-26T08:49:01.797Z"
   },
   {
    "duration": 12,
    "start_time": "2022-01-26T10:20:32.406Z"
   },
   {
    "duration": 14,
    "start_time": "2022-01-26T10:20:38.026Z"
   },
   {
    "duration": 34,
    "start_time": "2022-01-26T10:24:55.366Z"
   },
   {
    "duration": 195,
    "start_time": "2022-01-26T10:25:53.878Z"
   },
   {
    "duration": 29,
    "start_time": "2022-01-26T10:26:06.247Z"
   },
   {
    "duration": 190,
    "start_time": "2022-01-26T10:26:38.018Z"
   },
   {
    "duration": 22,
    "start_time": "2022-01-26T10:26:49.818Z"
   },
   {
    "duration": 199,
    "start_time": "2022-01-26T10:31:24.707Z"
   },
   {
    "duration": 717,
    "start_time": "2022-01-26T10:31:48.198Z"
   },
   {
    "duration": 24,
    "start_time": "2022-01-26T10:33:10.386Z"
   },
   {
    "duration": 32,
    "start_time": "2022-01-26T10:33:32.986Z"
   },
   {
    "duration": 22,
    "start_time": "2022-01-26T10:33:44.446Z"
   },
   {
    "duration": 27,
    "start_time": "2022-01-26T10:33:49.398Z"
   },
   {
    "duration": 19,
    "start_time": "2022-01-26T10:34:09.126Z"
   },
   {
    "duration": 24,
    "start_time": "2022-01-26T10:34:15.186Z"
   },
   {
    "duration": 23,
    "start_time": "2022-01-26T10:34:28.674Z"
   },
   {
    "duration": 23,
    "start_time": "2022-01-26T10:35:34.047Z"
   },
   {
    "duration": 21,
    "start_time": "2022-01-26T10:36:10.247Z"
   },
   {
    "duration": 25,
    "start_time": "2022-01-26T10:36:15.198Z"
   },
   {
    "duration": 22,
    "start_time": "2022-01-26T10:36:33.905Z"
   },
   {
    "duration": 1037,
    "start_time": "2022-01-26T10:41:05.539Z"
   },
   {
    "duration": 24,
    "start_time": "2022-01-26T10:41:50.699Z"
   },
   {
    "duration": 5,
    "start_time": "2022-01-26T10:44:10.727Z"
   },
   {
    "duration": 21,
    "start_time": "2022-01-26T10:44:24.586Z"
   },
   {
    "duration": 6,
    "start_time": "2022-01-26T10:44:44.787Z"
   },
   {
    "duration": 181,
    "start_time": "2022-01-26T10:47:39.986Z"
   },
   {
    "duration": 226,
    "start_time": "2022-01-26T10:47:47.588Z"
   },
   {
    "duration": 188,
    "start_time": "2022-01-26T10:47:54.958Z"
   },
   {
    "duration": 5,
    "start_time": "2022-01-26T10:51:52.338Z"
   },
   {
    "duration": 22,
    "start_time": "2022-01-26T10:51:59.706Z"
   },
   {
    "duration": 7,
    "start_time": "2022-01-26T10:52:14.906Z"
   },
   {
    "duration": 7,
    "start_time": "2022-01-26T10:54:44.778Z"
   },
   {
    "duration": 7,
    "start_time": "2022-01-26T10:55:08.607Z"
   },
   {
    "duration": 5,
    "start_time": "2022-01-26T10:55:11.418Z"
   },
   {
    "duration": 26,
    "start_time": "2022-01-26T10:55:26.478Z"
   },
   {
    "duration": 5,
    "start_time": "2022-01-26T10:55:37.427Z"
   },
   {
    "duration": 6,
    "start_time": "2022-01-26T10:55:48.226Z"
   },
   {
    "duration": 5,
    "start_time": "2022-01-26T10:55:53.479Z"
   },
   {
    "duration": 8,
    "start_time": "2022-01-26T10:56:00.146Z"
   },
   {
    "duration": 171,
    "start_time": "2022-01-26T10:59:21.667Z"
   },
   {
    "duration": 7,
    "start_time": "2022-01-26T10:59:57.858Z"
   },
   {
    "duration": 198,
    "start_time": "2022-01-26T11:00:36.618Z"
   },
   {
    "duration": 698,
    "start_time": "2022-01-26T17:56:34.845Z"
   },
   {
    "duration": 81,
    "start_time": "2022-01-26T17:56:36.674Z"
   },
   {
    "duration": 90,
    "start_time": "2022-01-26T17:56:38.145Z"
   },
   {
    "duration": 10,
    "start_time": "2022-01-26T17:56:39.614Z"
   },
   {
    "duration": 5,
    "start_time": "2022-01-26T17:56:47.442Z"
   },
   {
    "duration": 11,
    "start_time": "2022-01-26T17:56:48.282Z"
   },
   {
    "duration": 16,
    "start_time": "2022-01-26T17:56:49.082Z"
   },
   {
    "duration": 48,
    "start_time": "2022-01-26T17:56:51.754Z"
   },
   {
    "duration": 11,
    "start_time": "2022-01-26T17:56:58.022Z"
   },
   {
    "duration": 23,
    "start_time": "2022-01-26T17:56:59.262Z"
   },
   {
    "duration": 22,
    "start_time": "2022-01-26T17:57:00.466Z"
   },
   {
    "duration": 4,
    "start_time": "2022-01-26T17:57:06.654Z"
   },
   {
    "duration": 3,
    "start_time": "2022-01-26T17:57:07.842Z"
   },
   {
    "duration": 67701,
    "start_time": "2022-01-26T17:57:09.342Z"
   },
   {
    "duration": 14,
    "start_time": "2022-01-26T17:58:27.294Z"
   },
   {
    "duration": 6,
    "start_time": "2022-01-26T17:58:29.414Z"
   },
   {
    "duration": 34,
    "start_time": "2022-01-26T17:58:31.862Z"
   },
   {
    "duration": 9,
    "start_time": "2022-01-26T17:58:37.882Z"
   },
   {
    "duration": 12,
    "start_time": "2022-01-26T17:58:39.786Z"
   },
   {
    "duration": 7,
    "start_time": "2022-01-26T17:58:45.182Z"
   },
   {
    "duration": 28,
    "start_time": "2022-01-26T17:58:50.453Z"
   },
   {
    "duration": 10,
    "start_time": "2022-01-26T17:58:58.922Z"
   },
   {
    "duration": 8,
    "start_time": "2022-01-26T17:59:00.942Z"
   },
   {
    "duration": 26,
    "start_time": "2022-01-26T17:59:03.501Z"
   },
   {
    "duration": 9,
    "start_time": "2022-01-26T17:59:05.501Z"
   },
   {
    "duration": 4,
    "start_time": "2022-01-26T17:59:06.990Z"
   },
   {
    "duration": 5,
    "start_time": "2022-01-26T17:59:08.102Z"
   },
   {
    "duration": 13,
    "start_time": "2022-01-26T17:59:09.182Z"
   },
   {
    "duration": 9,
    "start_time": "2022-01-26T17:59:15.841Z"
   },
   {
    "duration": 5,
    "start_time": "2022-01-26T17:59:16.644Z"
   },
   {
    "duration": 5,
    "start_time": "2022-01-26T17:59:17.313Z"
   },
   {
    "duration": 3,
    "start_time": "2022-01-26T17:59:17.982Z"
   },
   {
    "duration": 834,
    "start_time": "2022-01-26T17:59:19.002Z"
   },
   {
    "duration": 14,
    "start_time": "2022-01-26T17:59:20.782Z"
   },
   {
    "duration": 10,
    "start_time": "2022-01-26T17:59:21.522Z"
   },
   {
    "duration": 20,
    "start_time": "2022-01-26T17:59:22.842Z"
   },
   {
    "duration": 187,
    "start_time": "2022-01-26T17:59:28.254Z"
   },
   {
    "duration": 185,
    "start_time": "2022-01-26T17:59:30.702Z"
   },
   {
    "duration": 172,
    "start_time": "2022-01-26T17:59:37.414Z"
   },
   {
    "duration": 226,
    "start_time": "2022-01-26T17:59:39.070Z"
   },
   {
    "duration": 194,
    "start_time": "2022-01-26T17:59:40.562Z"
   },
   {
    "duration": 6,
    "start_time": "2022-01-26T17:59:46.322Z"
   },
   {
    "duration": 6,
    "start_time": "2022-01-26T17:59:47.104Z"
   },
   {
    "duration": 9,
    "start_time": "2022-01-26T17:59:47.822Z"
   },
   {
    "duration": 925,
    "start_time": "2022-01-26T17:59:53.694Z"
   },
   {
    "duration": 5,
    "start_time": "2022-01-26T17:59:57.121Z"
   },
   {
    "duration": 4,
    "start_time": "2022-01-26T17:59:58.210Z"
   },
   {
    "duration": 4,
    "start_time": "2022-01-26T17:59:58.942Z"
   },
   {
    "duration": 6,
    "start_time": "2022-01-26T17:59:59.742Z"
   },
   {
    "duration": 8,
    "start_time": "2022-01-26T18:00:04.515Z"
   },
   {
    "duration": 7,
    "start_time": "2022-01-26T18:00:05.402Z"
   },
   {
    "duration": 7,
    "start_time": "2022-01-26T18:00:07.002Z"
   },
   {
    "duration": 8,
    "start_time": "2022-01-26T18:00:08.422Z"
   },
   {
    "duration": 22,
    "start_time": "2022-01-26T18:00:11.654Z"
   },
   {
    "duration": 24,
    "start_time": "2022-01-26T18:00:18.242Z"
   },
   {
    "duration": 26,
    "start_time": "2022-01-26T18:00:25.514Z"
   },
   {
    "duration": 7,
    "start_time": "2022-01-26T18:00:26.882Z"
   },
   {
    "duration": 6,
    "start_time": "2022-01-26T18:00:28.045Z"
   },
   {
    "duration": 8,
    "start_time": "2022-01-26T18:00:29.462Z"
   },
   {
    "duration": 180,
    "start_time": "2022-01-26T18:00:31.333Z"
   },
   {
    "duration": 25,
    "start_time": "2022-01-26T18:00:58.187Z"
   },
   {
    "duration": 6,
    "start_time": "2022-01-26T18:02:00.001Z"
   },
   {
    "duration": 11,
    "start_time": "2022-01-26T18:05:13.342Z"
   },
   {
    "duration": 13,
    "start_time": "2022-01-26T18:05:24.934Z"
   },
   {
    "duration": 15,
    "start_time": "2022-01-26T18:06:07.423Z"
   },
   {
    "duration": 4,
    "start_time": "2022-01-26T18:06:21.982Z"
   },
   {
    "duration": 15,
    "start_time": "2022-01-26T18:06:24.010Z"
   },
   {
    "duration": 5,
    "start_time": "2022-01-26T18:06:47.022Z"
   },
   {
    "duration": 5,
    "start_time": "2022-01-26T18:06:54.482Z"
   },
   {
    "duration": 325,
    "start_time": "2022-01-26T18:07:35.262Z"
   },
   {
    "duration": 5,
    "start_time": "2022-01-26T18:07:41.883Z"
   },
   {
    "duration": 4,
    "start_time": "2022-01-26T18:07:53.794Z"
   },
   {
    "duration": 6,
    "start_time": "2022-01-26T18:08:09.762Z"
   },
   {
    "duration": 119,
    "start_time": "2022-01-26T18:12:23.622Z"
   },
   {
    "duration": 21,
    "start_time": "2022-01-26T18:12:27.502Z"
   },
   {
    "duration": 13,
    "start_time": "2022-01-26T18:13:33.793Z"
   },
   {
    "duration": 11,
    "start_time": "2022-01-26T18:14:58.973Z"
   },
   {
    "duration": 260,
    "start_time": "2022-01-26T18:17:18.894Z"
   },
   {
    "duration": 11,
    "start_time": "2022-01-26T18:17:31.494Z"
   },
   {
    "duration": 250,
    "start_time": "2022-01-26T18:19:46.030Z"
   },
   {
    "duration": 27,
    "start_time": "2022-01-26T18:22:22.582Z"
   },
   {
    "duration": 7,
    "start_time": "2022-01-26T18:22:28.553Z"
   },
   {
    "duration": 6,
    "start_time": "2022-01-26T18:22:33.413Z"
   },
   {
    "duration": 6,
    "start_time": "2022-01-26T18:22:37.256Z"
   },
   {
    "duration": 165,
    "start_time": "2022-01-26T18:22:43.213Z"
   },
   {
    "duration": 21,
    "start_time": "2022-01-26T18:22:50.842Z"
   },
   {
    "duration": 22,
    "start_time": "2022-01-26T18:23:59.424Z"
   },
   {
    "duration": 10,
    "start_time": "2022-01-26T18:25:19.401Z"
   },
   {
    "duration": 7,
    "start_time": "2022-01-26T18:31:19.774Z"
   },
   {
    "duration": 6,
    "start_time": "2022-01-26T18:31:50.109Z"
   },
   {
    "duration": 5,
    "start_time": "2022-01-26T18:33:34.902Z"
   },
   {
    "duration": 6,
    "start_time": "2022-01-26T18:34:23.936Z"
   },
   {
    "duration": 7,
    "start_time": "2022-01-26T18:35:06.454Z"
   },
   {
    "duration": 7,
    "start_time": "2022-01-26T18:35:51.674Z"
   },
   {
    "duration": 7,
    "start_time": "2022-01-26T18:36:12.634Z"
   },
   {
    "duration": 962,
    "start_time": "2022-01-27T08:57:29.791Z"
   },
   {
    "duration": 89,
    "start_time": "2022-01-27T08:57:31.902Z"
   },
   {
    "duration": 142,
    "start_time": "2022-01-27T08:57:33.711Z"
   },
   {
    "duration": 15,
    "start_time": "2022-01-27T08:57:35.691Z"
   },
   {
    "duration": 9,
    "start_time": "2022-01-27T08:57:41.029Z"
   },
   {
    "duration": 30,
    "start_time": "2022-01-27T08:57:41.930Z"
   },
   {
    "duration": 31,
    "start_time": "2022-01-27T08:57:43.011Z"
   },
   {
    "duration": 56,
    "start_time": "2022-01-27T08:57:44.470Z"
   },
   {
    "duration": 13,
    "start_time": "2022-01-27T08:57:46.182Z"
   },
   {
    "duration": 36,
    "start_time": "2022-01-27T08:57:47.782Z"
   },
   {
    "duration": 38,
    "start_time": "2022-01-27T08:57:49.210Z"
   },
   {
    "duration": 7,
    "start_time": "2022-01-27T08:57:50.550Z"
   },
   {
    "duration": 4,
    "start_time": "2022-01-27T08:57:52.070Z"
   },
   {
    "duration": 115252,
    "start_time": "2022-01-27T08:57:53.159Z"
   },
   {
    "duration": 32,
    "start_time": "2022-01-27T08:59:48.414Z"
   },
   {
    "duration": 8,
    "start_time": "2022-01-27T09:02:28.717Z"
   },
   {
    "duration": 57,
    "start_time": "2022-01-27T09:02:31.366Z"
   },
   {
    "duration": 12,
    "start_time": "2022-01-27T09:02:38.803Z"
   },
   {
    "duration": 22,
    "start_time": "2022-01-27T09:02:38.817Z"
   },
   {
    "duration": 17,
    "start_time": "2022-01-27T09:02:40.246Z"
   },
   {
    "duration": 59,
    "start_time": "2022-01-27T09:02:41.621Z"
   },
   {
    "duration": 12,
    "start_time": "2022-01-27T09:02:43.401Z"
   },
   {
    "duration": 13,
    "start_time": "2022-01-27T09:02:44.722Z"
   },
   {
    "duration": 57,
    "start_time": "2022-01-27T09:02:45.829Z"
   },
   {
    "duration": 14,
    "start_time": "2022-01-27T09:02:47.154Z"
   },
   {
    "duration": 5,
    "start_time": "2022-01-27T09:02:48.701Z"
   },
   {
    "duration": 7,
    "start_time": "2022-01-27T09:02:49.658Z"
   },
   {
    "duration": 14,
    "start_time": "2022-01-27T09:02:50.681Z"
   },
   {
    "duration": 9,
    "start_time": "2022-01-27T09:02:55.110Z"
   },
   {
    "duration": 6,
    "start_time": "2022-01-27T09:02:56.021Z"
   },
   {
    "duration": 6,
    "start_time": "2022-01-27T09:03:07.770Z"
   },
   {
    "duration": 5,
    "start_time": "2022-01-27T09:03:08.609Z"
   },
   {
    "duration": 1772,
    "start_time": "2022-01-27T09:03:09.717Z"
   },
   {
    "duration": 26,
    "start_time": "2022-01-27T09:03:12.844Z"
   },
   {
    "duration": 13,
    "start_time": "2022-01-27T09:03:13.881Z"
   },
   {
    "duration": 39,
    "start_time": "2022-01-27T09:03:15.101Z"
   },
   {
    "duration": 355,
    "start_time": "2022-01-27T09:03:23.262Z"
   },
   {
    "duration": 354,
    "start_time": "2022-01-27T09:03:24.793Z"
   },
   {
    "duration": 331,
    "start_time": "2022-01-27T09:03:26.389Z"
   },
   {
    "duration": 372,
    "start_time": "2022-01-27T09:03:27.882Z"
   },
   {
    "duration": 334,
    "start_time": "2022-01-27T09:03:29.229Z"
   },
   {
    "duration": 7,
    "start_time": "2022-01-27T09:03:30.477Z"
   },
   {
    "duration": 8,
    "start_time": "2022-01-27T09:03:31.844Z"
   },
   {
    "duration": 12,
    "start_time": "2022-01-27T09:03:32.991Z"
   },
   {
    "duration": 1660,
    "start_time": "2022-01-27T09:03:35.381Z"
   },
   {
    "duration": 7,
    "start_time": "2022-01-27T09:03:38.273Z"
   },
   {
    "duration": 7,
    "start_time": "2022-01-27T09:03:39.362Z"
   },
   {
    "duration": 6,
    "start_time": "2022-01-27T09:03:40.222Z"
   },
   {
    "duration": 8,
    "start_time": "2022-01-27T09:03:41.042Z"
   },
   {
    "duration": 16,
    "start_time": "2022-01-27T09:03:42.049Z"
   },
   {
    "duration": 10,
    "start_time": "2022-01-27T09:03:42.872Z"
   },
   {
    "duration": 18,
    "start_time": "2022-01-27T09:03:43.631Z"
   },
   {
    "duration": 12,
    "start_time": "2022-01-27T09:03:44.601Z"
   },
   {
    "duration": 40,
    "start_time": "2022-01-27T09:03:46.649Z"
   },
   {
    "duration": 34,
    "start_time": "2022-01-27T09:03:47.762Z"
   },
   {
    "duration": 35,
    "start_time": "2022-01-27T09:03:49.789Z"
   },
   {
    "duration": 8,
    "start_time": "2022-01-27T09:03:50.710Z"
   },
   {
    "duration": 7,
    "start_time": "2022-01-27T09:03:51.621Z"
   },
   {
    "duration": 8,
    "start_time": "2022-01-27T09:03:52.883Z"
   },
   {
    "duration": 323,
    "start_time": "2022-01-27T09:03:53.921Z"
   },
   {
    "duration": 21,
    "start_time": "2022-01-27T09:03:57.282Z"
   },
   {
    "duration": 46,
    "start_time": "2022-01-27T09:03:58.429Z"
   },
   {
    "duration": 10,
    "start_time": "2022-01-27T09:03:59.629Z"
   },
   {
    "duration": 6,
    "start_time": "2022-01-27T09:04:00.582Z"
   },
   {
    "duration": 11,
    "start_time": "2022-01-27T09:04:01.362Z"
   },
   {
    "duration": 8,
    "start_time": "2022-01-27T09:04:02.165Z"
   },
   {
    "duration": 10,
    "start_time": "2022-01-27T09:04:02.905Z"
   },
   {
    "duration": 17,
    "start_time": "2022-01-27T09:04:03.925Z"
   },
   {
    "duration": 8,
    "start_time": "2022-01-27T09:04:05.581Z"
   },
   {
    "duration": 828,
    "start_time": "2022-02-04T19:32:37.073Z"
   },
   {
    "duration": 76,
    "start_time": "2022-02-04T19:32:37.903Z"
   },
   {
    "duration": 124,
    "start_time": "2022-02-04T19:32:37.983Z"
   },
   {
    "duration": 30,
    "start_time": "2022-02-04T19:32:38.111Z"
   },
   {
    "duration": 7,
    "start_time": "2022-02-04T19:32:38.144Z"
   },
   {
    "duration": 20,
    "start_time": "2022-02-04T19:32:38.154Z"
   },
   {
    "duration": 56,
    "start_time": "2022-02-04T19:32:38.176Z"
   },
   {
    "duration": 60,
    "start_time": "2022-02-04T19:32:38.234Z"
   },
   {
    "duration": 37,
    "start_time": "2022-02-04T19:32:38.299Z"
   },
   {
    "duration": 33,
    "start_time": "2022-02-04T19:32:38.340Z"
   },
   {
    "duration": 60,
    "start_time": "2022-02-04T19:32:38.375Z"
   },
   {
    "duration": 4,
    "start_time": "2022-02-04T19:32:38.437Z"
   },
   {
    "duration": 6,
    "start_time": "2022-02-04T19:32:38.443Z"
   },
   {
    "duration": 98509,
    "start_time": "2022-02-04T19:32:38.452Z"
   },
   {
    "duration": 22,
    "start_time": "2022-02-04T19:34:16.963Z"
   },
   {
    "duration": 8,
    "start_time": "2022-02-04T19:34:16.987Z"
   },
   {
    "duration": 76,
    "start_time": "2022-02-04T19:34:16.997Z"
   },
   {
    "duration": 11,
    "start_time": "2022-02-04T19:34:17.076Z"
   },
   {
    "duration": 16,
    "start_time": "2022-02-04T19:34:17.089Z"
   },
   {
    "duration": 31,
    "start_time": "2022-02-04T19:34:17.108Z"
   },
   {
    "duration": 43,
    "start_time": "2022-02-04T19:34:17.141Z"
   },
   {
    "duration": 12,
    "start_time": "2022-02-04T19:34:17.187Z"
   },
   {
    "duration": 38,
    "start_time": "2022-02-04T19:34:17.202Z"
   },
   {
    "duration": 41,
    "start_time": "2022-02-04T19:34:17.243Z"
   },
   {
    "duration": 10,
    "start_time": "2022-02-04T19:34:17.286Z"
   },
   {
    "duration": 34,
    "start_time": "2022-02-04T19:34:17.298Z"
   },
   {
    "duration": 6,
    "start_time": "2022-02-04T19:34:17.338Z"
   },
   {
    "duration": 15,
    "start_time": "2022-02-04T19:34:17.348Z"
   },
   {
    "duration": 10,
    "start_time": "2022-02-04T19:34:17.366Z"
   },
   {
    "duration": 6,
    "start_time": "2022-02-04T19:34:17.378Z"
   },
   {
    "duration": 49,
    "start_time": "2022-02-04T19:34:17.387Z"
   },
   {
    "duration": 7,
    "start_time": "2022-02-04T19:34:17.439Z"
   },
   {
    "duration": 1343,
    "start_time": "2022-02-04T19:34:17.449Z"
   },
   {
    "duration": 19,
    "start_time": "2022-02-04T19:34:18.795Z"
   },
   {
    "duration": 27,
    "start_time": "2022-02-04T19:34:18.817Z"
   },
   {
    "duration": 32,
    "start_time": "2022-02-04T19:34:18.846Z"
   },
   {
    "duration": 351,
    "start_time": "2022-02-04T19:34:18.881Z"
   },
   {
    "duration": 324,
    "start_time": "2022-02-04T19:34:19.234Z"
   },
   {
    "duration": 318,
    "start_time": "2022-02-04T19:34:19.561Z"
   },
   {
    "duration": 361,
    "start_time": "2022-02-04T19:34:19.881Z"
   },
   {
    "duration": 320,
    "start_time": "2022-02-04T19:34:20.244Z"
   },
   {
    "duration": 6,
    "start_time": "2022-02-04T19:34:20.566Z"
   },
   {
    "duration": 6,
    "start_time": "2022-02-04T19:34:20.575Z"
   },
   {
    "duration": 11,
    "start_time": "2022-02-04T19:34:20.583Z"
   },
   {
    "duration": 1409,
    "start_time": "2022-02-04T19:34:20.596Z"
   },
   {
    "duration": 8,
    "start_time": "2022-02-04T19:34:22.007Z"
   },
   {
    "duration": 7,
    "start_time": "2022-02-04T19:34:22.033Z"
   },
   {
    "duration": 9,
    "start_time": "2022-02-04T19:34:22.043Z"
   },
   {
    "duration": 7,
    "start_time": "2022-02-04T19:34:22.054Z"
   },
   {
    "duration": 10,
    "start_time": "2022-02-04T19:34:22.063Z"
   },
   {
    "duration": 8,
    "start_time": "2022-02-04T19:34:22.076Z"
   },
   {
    "duration": 52,
    "start_time": "2022-02-04T19:34:22.086Z"
   },
   {
    "duration": 10,
    "start_time": "2022-02-04T19:34:22.140Z"
   },
   {
    "duration": 27,
    "start_time": "2022-02-04T19:34:22.152Z"
   },
   {
    "duration": 78,
    "start_time": "2022-02-04T19:34:22.182Z"
   },
   {
    "duration": 33,
    "start_time": "2022-02-04T19:34:22.262Z"
   },
   {
    "duration": 7,
    "start_time": "2022-02-04T19:34:22.297Z"
   },
   {
    "duration": 31,
    "start_time": "2022-02-04T19:34:22.306Z"
   },
   {
    "duration": 12,
    "start_time": "2022-02-04T19:34:22.340Z"
   },
   {
    "duration": 303,
    "start_time": "2022-02-04T19:34:22.354Z"
   },
   {
    "duration": 14,
    "start_time": "2022-02-04T19:34:22.659Z"
   },
   {
    "duration": 30,
    "start_time": "2022-02-04T19:34:22.675Z"
   },
   {
    "duration": 8,
    "start_time": "2022-02-04T19:34:22.731Z"
   },
   {
    "duration": 6,
    "start_time": "2022-02-04T19:34:22.741Z"
   },
   {
    "duration": 9,
    "start_time": "2022-02-04T19:34:22.750Z"
   },
   {
    "duration": 8,
    "start_time": "2022-02-04T19:34:22.762Z"
   },
   {
    "duration": 10,
    "start_time": "2022-02-04T19:34:22.773Z"
   },
   {
    "duration": 56,
    "start_time": "2022-02-04T19:34:22.786Z"
   },
   {
    "duration": 10,
    "start_time": "2022-02-04T19:34:22.844Z"
   },
   {
    "duration": 121,
    "start_time": "2022-02-05T08:20:54.273Z"
   },
   {
    "duration": 841,
    "start_time": "2022-02-05T08:21:35.112Z"
   },
   {
    "duration": 84,
    "start_time": "2022-02-05T08:21:36.987Z"
   },
   {
    "duration": 198,
    "start_time": "2022-02-05T08:21:38.494Z"
   },
   {
    "duration": 16,
    "start_time": "2022-02-05T08:21:40.297Z"
   },
   {
    "duration": 6,
    "start_time": "2022-02-05T08:21:45.637Z"
   },
   {
    "duration": 17,
    "start_time": "2022-02-05T08:21:46.309Z"
   },
   {
    "duration": 27,
    "start_time": "2022-02-05T08:21:47.043Z"
   },
   {
    "duration": 60,
    "start_time": "2022-02-05T08:21:49.197Z"
   },
   {
    "duration": 13,
    "start_time": "2022-02-05T08:21:52.123Z"
   },
   {
    "duration": 35,
    "start_time": "2022-02-05T08:21:53.597Z"
   },
   {
    "duration": 37,
    "start_time": "2022-02-05T08:21:54.629Z"
   },
   {
    "duration": 6,
    "start_time": "2022-02-05T08:21:55.659Z"
   },
   {
    "duration": 5,
    "start_time": "2022-02-05T08:21:56.755Z"
   },
   {
    "duration": 101704,
    "start_time": "2022-02-05T08:21:57.708Z"
   },
   {
    "duration": 22,
    "start_time": "2022-02-05T08:23:44.322Z"
   },
   {
    "duration": 7,
    "start_time": "2022-02-05T08:23:45.317Z"
   },
   {
    "duration": 59,
    "start_time": "2022-02-05T08:23:46.572Z"
   },
   {
    "duration": 11,
    "start_time": "2022-02-05T08:23:48.113Z"
   },
   {
    "duration": 18,
    "start_time": "2022-02-05T08:23:49.425Z"
   },
   {
    "duration": 10,
    "start_time": "2022-02-05T08:23:50.379Z"
   },
   {
    "duration": 43,
    "start_time": "2022-02-05T08:23:51.394Z"
   },
   {
    "duration": 13,
    "start_time": "2022-02-05T08:23:52.520Z"
   },
   {
    "duration": 12,
    "start_time": "2022-02-05T08:23:53.601Z"
   },
   {
    "duration": 50,
    "start_time": "2022-02-05T08:23:54.519Z"
   },
   {
    "duration": 11,
    "start_time": "2022-02-05T08:23:55.735Z"
   },
   {
    "duration": 5,
    "start_time": "2022-02-05T08:23:56.710Z"
   },
   {
    "duration": 5,
    "start_time": "2022-02-05T08:23:57.586Z"
   },
   {
    "duration": 15,
    "start_time": "2022-02-05T08:23:58.438Z"
   },
   {
    "duration": 7,
    "start_time": "2022-02-05T08:24:05.667Z"
   },
   {
    "duration": 6,
    "start_time": "2022-02-05T08:24:06.523Z"
   },
   {
    "duration": 6,
    "start_time": "2022-02-05T08:24:07.375Z"
   },
   {
    "duration": 5,
    "start_time": "2022-02-05T08:24:08.429Z"
   },
   {
    "duration": 1341,
    "start_time": "2022-02-05T08:24:09.296Z"
   },
   {
    "duration": 25,
    "start_time": "2022-02-05T08:24:10.640Z"
   },
   {
    "duration": 14,
    "start_time": "2022-02-05T08:24:11.372Z"
   },
   {
    "duration": 52,
    "start_time": "2022-02-05T08:24:32.398Z"
   },
   {
    "duration": 109,
    "start_time": "2022-02-05T08:25:38.953Z"
   },
   {
    "duration": 126,
    "start_time": "2022-02-05T08:25:52.172Z"
   },
   {
    "duration": 315,
    "start_time": "2022-02-05T08:35:26.990Z"
   },
   {
    "duration": 312,
    "start_time": "2022-02-05T08:36:36.210Z"
   },
   {
    "duration": 122,
    "start_time": "2022-02-05T08:38:33.697Z"
   },
   {
    "duration": 314,
    "start_time": "2022-02-05T08:38:57.330Z"
   },
   {
    "duration": 342,
    "start_time": "2022-02-05T08:39:28.673Z"
   },
   {
    "duration": 337,
    "start_time": "2022-02-05T08:40:36.752Z"
   },
   {
    "duration": 408,
    "start_time": "2022-02-05T08:41:14.131Z"
   },
   {
    "duration": 134,
    "start_time": "2022-02-05T08:43:30.306Z"
   },
   {
    "duration": 7,
    "start_time": "2022-02-05T08:44:20.212Z"
   },
   {
    "duration": 6,
    "start_time": "2022-02-05T08:44:21.015Z"
   },
   {
    "duration": 14,
    "start_time": "2022-02-05T08:44:21.796Z"
   },
   {
    "duration": 4,
    "start_time": "2022-02-05T08:45:10.514Z"
   },
   {
    "duration": 1405,
    "start_time": "2022-02-05T08:45:23.979Z"
   },
   {
    "duration": 1488,
    "start_time": "2022-02-05T08:45:45.258Z"
   },
   {
    "duration": 4,
    "start_time": "2022-02-05T08:46:02.824Z"
   },
   {
    "duration": 118,
    "start_time": "2022-02-05T08:46:47.975Z"
   },
   {
    "duration": 6,
    "start_time": "2022-02-05T08:46:55.821Z"
   },
   {
    "duration": 6,
    "start_time": "2022-02-05T08:46:56.535Z"
   },
   {
    "duration": 6,
    "start_time": "2022-02-05T08:46:57.120Z"
   },
   {
    "duration": 7,
    "start_time": "2022-02-05T08:46:57.696Z"
   },
   {
    "duration": 9,
    "start_time": "2022-02-05T08:46:59.447Z"
   },
   {
    "duration": 11,
    "start_time": "2022-02-05T08:47:00.352Z"
   },
   {
    "duration": 9,
    "start_time": "2022-02-05T08:47:01.318Z"
   },
   {
    "duration": 9,
    "start_time": "2022-02-05T08:47:02.712Z"
   },
   {
    "duration": 28,
    "start_time": "2022-02-05T08:47:08.423Z"
   },
   {
    "duration": 35,
    "start_time": "2022-02-05T08:47:09.631Z"
   },
   {
    "duration": 33,
    "start_time": "2022-02-05T08:47:12.476Z"
   },
   {
    "duration": 7,
    "start_time": "2022-02-05T08:47:14.213Z"
   },
   {
    "duration": 8,
    "start_time": "2022-02-05T08:47:15.358Z"
   },
   {
    "duration": 10,
    "start_time": "2022-02-05T08:47:16.998Z"
   },
   {
    "duration": 278,
    "start_time": "2022-02-05T08:47:17.840Z"
   },
   {
    "duration": 17,
    "start_time": "2022-02-05T08:47:27.964Z"
   },
   {
    "duration": 30,
    "start_time": "2022-02-05T08:47:29.073Z"
   },
   {
    "duration": 8,
    "start_time": "2022-02-05T08:47:30.079Z"
   },
   {
    "duration": 7,
    "start_time": "2022-02-05T08:47:30.774Z"
   },
   {
    "duration": 7,
    "start_time": "2022-02-05T08:47:31.659Z"
   },
   {
    "duration": 8,
    "start_time": "2022-02-05T08:47:32.258Z"
   },
   {
    "duration": 9,
    "start_time": "2022-02-05T08:47:32.818Z"
   },
   {
    "duration": 8,
    "start_time": "2022-02-05T08:47:33.452Z"
   },
   {
    "duration": 9,
    "start_time": "2022-02-05T08:47:34.238Z"
   },
   {
    "duration": 131,
    "start_time": "2022-02-05T08:51:51.413Z"
   },
   {
    "duration": 607,
    "start_time": "2022-02-05T08:56:19.893Z"
   },
   {
    "duration": 613,
    "start_time": "2022-02-05T08:57:10.730Z"
   },
   {
    "duration": 123,
    "start_time": "2022-02-05T08:58:46.398Z"
   },
   {
    "duration": 329,
    "start_time": "2022-02-05T09:00:25.023Z"
   },
   {
    "duration": 317,
    "start_time": "2022-02-05T09:00:31.819Z"
   },
   {
    "duration": 319,
    "start_time": "2022-02-05T09:00:45.278Z"
   },
   {
    "duration": 389,
    "start_time": "2022-02-05T09:00:56.380Z"
   },
   {
    "duration": 305,
    "start_time": "2022-02-05T09:01:04.010Z"
   },
   {
    "duration": 295,
    "start_time": "2022-02-05T09:01:11.254Z"
   },
   {
    "duration": 297,
    "start_time": "2022-02-05T09:01:41.628Z"
   },
   {
    "duration": 390,
    "start_time": "2022-02-05T09:01:59.617Z"
   },
   {
    "duration": 1075,
    "start_time": "2022-02-06T06:38:38.232Z"
   },
   {
    "duration": 66,
    "start_time": "2022-02-06T06:38:44.088Z"
   },
   {
    "duration": 92,
    "start_time": "2022-02-06T06:38:45.533Z"
   },
   {
    "duration": 11,
    "start_time": "2022-02-06T06:38:46.730Z"
   },
   {
    "duration": 5,
    "start_time": "2022-02-06T06:38:53.135Z"
   },
   {
    "duration": 11,
    "start_time": "2022-02-06T06:38:53.924Z"
   },
   {
    "duration": 14,
    "start_time": "2022-02-06T06:38:54.816Z"
   },
   {
    "duration": 35,
    "start_time": "2022-02-06T06:38:55.833Z"
   },
   {
    "duration": 10,
    "start_time": "2022-02-06T06:38:56.831Z"
   },
   {
    "duration": 20,
    "start_time": "2022-02-06T06:38:57.985Z"
   },
   {
    "duration": 21,
    "start_time": "2022-02-06T06:38:59.044Z"
   },
   {
    "duration": 4,
    "start_time": "2022-02-06T06:39:00.056Z"
   },
   {
    "duration": 4,
    "start_time": "2022-02-06T06:39:01.171Z"
   },
   {
    "duration": 60287,
    "start_time": "2022-02-06T06:39:02.195Z"
   },
   {
    "duration": 14,
    "start_time": "2022-02-06T06:40:02.484Z"
   },
   {
    "duration": 5,
    "start_time": "2022-02-06T06:40:04.851Z"
   },
   {
    "duration": 30,
    "start_time": "2022-02-06T06:40:05.787Z"
   },
   {
    "duration": 10,
    "start_time": "2022-02-06T06:40:06.783Z"
   },
   {
    "duration": 13,
    "start_time": "2022-02-06T06:40:07.825Z"
   },
   {
    "duration": 8,
    "start_time": "2022-02-06T06:40:08.551Z"
   },
   {
    "duration": 26,
    "start_time": "2022-02-06T06:40:09.320Z"
   },
   {
    "duration": 13,
    "start_time": "2022-02-06T06:40:09.965Z"
   },
   {
    "duration": 7,
    "start_time": "2022-02-06T06:40:10.706Z"
   },
   {
    "duration": 25,
    "start_time": "2022-02-06T06:40:11.391Z"
   },
   {
    "duration": 9,
    "start_time": "2022-02-06T06:40:12.219Z"
   },
   {
    "duration": 4,
    "start_time": "2022-02-06T06:40:13.044Z"
   },
   {
    "duration": 4,
    "start_time": "2022-02-06T06:40:13.720Z"
   },
   {
    "duration": 11,
    "start_time": "2022-02-06T06:40:14.317Z"
   },
   {
    "duration": 5,
    "start_time": "2022-02-06T06:40:19.120Z"
   },
   {
    "duration": 4,
    "start_time": "2022-02-06T06:40:19.793Z"
   },
   {
    "duration": 4,
    "start_time": "2022-02-06T06:40:20.484Z"
   },
   {
    "duration": 3,
    "start_time": "2022-02-06T06:40:21.273Z"
   },
   {
    "duration": 714,
    "start_time": "2022-02-06T06:40:21.979Z"
   },
   {
    "duration": 11,
    "start_time": "2022-02-06T06:40:22.695Z"
   },
   {
    "duration": 9,
    "start_time": "2022-02-06T06:40:23.413Z"
   },
   {
    "duration": 36,
    "start_time": "2022-02-06T06:40:24.122Z"
   },
   {
    "duration": 196,
    "start_time": "2022-02-06T06:40:29.171Z"
   },
   {
    "duration": 185,
    "start_time": "2022-02-06T06:40:32.516Z"
   },
   {
    "duration": 180,
    "start_time": "2022-02-06T06:40:35.163Z"
   },
   {
    "duration": 187,
    "start_time": "2022-02-06T06:40:37.651Z"
   },
   {
    "duration": 228,
    "start_time": "2022-02-06T06:40:38.870Z"
   },
   {
    "duration": 5,
    "start_time": "2022-02-06T06:40:43.865Z"
   },
   {
    "duration": 4,
    "start_time": "2022-02-06T06:40:44.634Z"
   },
   {
    "duration": 10,
    "start_time": "2022-02-06T06:40:45.342Z"
   },
   {
    "duration": 954,
    "start_time": "2022-02-06T06:40:47.457Z"
   },
   {
    "duration": 851,
    "start_time": "2022-02-06T06:40:54.009Z"
   },
   {
    "duration": 5,
    "start_time": "2022-02-06T06:40:58.394Z"
   },
   {
    "duration": 5,
    "start_time": "2022-02-06T06:40:59.285Z"
   },
   {
    "duration": 5,
    "start_time": "2022-02-06T06:41:00.045Z"
   },
   {
    "duration": 5,
    "start_time": "2022-02-06T06:41:00.719Z"
   },
   {
    "duration": 8,
    "start_time": "2022-02-06T06:41:01.339Z"
   },
   {
    "duration": 7,
    "start_time": "2022-02-06T06:41:02.004Z"
   },
   {
    "duration": 7,
    "start_time": "2022-02-06T06:41:02.676Z"
   },
   {
    "duration": 7,
    "start_time": "2022-02-06T06:41:03.518Z"
   },
   {
    "duration": 18,
    "start_time": "2022-02-06T06:41:05.284Z"
   },
   {
    "duration": 23,
    "start_time": "2022-02-06T06:41:06.153Z"
   },
   {
    "duration": 24,
    "start_time": "2022-02-06T06:41:07.937Z"
   },
   {
    "duration": 6,
    "start_time": "2022-02-06T06:41:08.864Z"
   },
   {
    "duration": 5,
    "start_time": "2022-02-06T06:41:09.785Z"
   },
   {
    "duration": 7,
    "start_time": "2022-02-06T06:41:10.686Z"
   },
   {
    "duration": 173,
    "start_time": "2022-02-06T06:41:11.622Z"
   },
   {
    "duration": 10,
    "start_time": "2022-02-06T06:41:17.833Z"
   },
   {
    "duration": 21,
    "start_time": "2022-02-06T06:41:18.831Z"
   },
   {
    "duration": 5,
    "start_time": "2022-02-06T06:41:19.800Z"
   },
   {
    "duration": 5,
    "start_time": "2022-02-06T06:41:20.667Z"
   },
   {
    "duration": 6,
    "start_time": "2022-02-06T06:41:21.423Z"
   },
   {
    "duration": 5,
    "start_time": "2022-02-06T06:41:22.203Z"
   },
   {
    "duration": 7,
    "start_time": "2022-02-06T06:41:23.133Z"
   },
   {
    "duration": 7,
    "start_time": "2022-02-06T06:41:24.298Z"
   },
   {
    "duration": 6,
    "start_time": "2022-02-06T06:41:25.554Z"
   },
   {
    "duration": 407,
    "start_time": "2022-02-06T06:41:26.604Z"
   },
   {
    "duration": 36,
    "start_time": "2022-02-06T06:44:36.945Z"
   },
   {
    "duration": 10,
    "start_time": "2022-02-06T06:45:09.320Z"
   },
   {
    "duration": 7,
    "start_time": "2022-02-06T06:47:27.397Z"
   },
   {
    "duration": 454,
    "start_time": "2022-02-06T06:47:54.363Z"
   },
   {
    "duration": 177,
    "start_time": "2022-02-06T06:48:25.497Z"
   },
   {
    "duration": 227,
    "start_time": "2022-02-06T08:00:56.101Z"
   },
   {
    "duration": 994,
    "start_time": "2022-02-06T08:01:06.674Z"
   },
   {
    "duration": 59,
    "start_time": "2022-02-06T08:01:10.939Z"
   },
   {
    "duration": 89,
    "start_time": "2022-02-06T08:01:12.680Z"
   },
   {
    "duration": 10,
    "start_time": "2022-02-06T08:01:13.877Z"
   },
   {
    "duration": 4,
    "start_time": "2022-02-06T08:01:18.815Z"
   },
   {
    "duration": 11,
    "start_time": "2022-02-06T08:01:19.562Z"
   },
   {
    "duration": 15,
    "start_time": "2022-02-06T08:01:20.308Z"
   },
   {
    "duration": 36,
    "start_time": "2022-02-06T08:01:21.309Z"
   },
   {
    "duration": 8,
    "start_time": "2022-02-06T08:01:22.314Z"
   },
   {
    "duration": 21,
    "start_time": "2022-02-06T08:01:23.328Z"
   },
   {
    "duration": 21,
    "start_time": "2022-02-06T08:01:24.275Z"
   },
   {
    "duration": 4,
    "start_time": "2022-02-06T08:01:25.261Z"
   },
   {
    "duration": 3,
    "start_time": "2022-02-06T08:01:26.230Z"
   },
   {
    "duration": 60815,
    "start_time": "2022-02-06T08:01:27.197Z"
   },
   {
    "duration": 23,
    "start_time": "2022-02-06T08:02:55.379Z"
   },
   {
    "duration": 5,
    "start_time": "2022-02-06T08:02:56.244Z"
   },
   {
    "duration": 32,
    "start_time": "2022-02-06T08:02:57.239Z"
   },
   {
    "duration": 8,
    "start_time": "2022-02-06T08:02:58.166Z"
   },
   {
    "duration": 10,
    "start_time": "2022-02-06T08:02:59.364Z"
   },
   {
    "duration": 7,
    "start_time": "2022-02-06T08:03:00.311Z"
   },
   {
    "duration": 27,
    "start_time": "2022-02-06T08:03:01.389Z"
   },
   {
    "duration": 13,
    "start_time": "2022-02-06T08:03:02.378Z"
   },
   {
    "duration": 8,
    "start_time": "2022-02-06T08:03:04.508Z"
   },
   {
    "duration": 28,
    "start_time": "2022-02-06T08:03:05.802Z"
   },
   {
    "duration": 8,
    "start_time": "2022-02-06T08:03:06.935Z"
   },
   {
    "duration": 4,
    "start_time": "2022-02-06T08:03:08.039Z"
   },
   {
    "duration": 4,
    "start_time": "2022-02-06T08:03:08.982Z"
   },
   {
    "duration": 11,
    "start_time": "2022-02-06T08:03:09.833Z"
   },
   {
    "duration": 5,
    "start_time": "2022-02-06T08:03:18.052Z"
   },
   {
    "duration": 4,
    "start_time": "2022-02-06T08:03:19.005Z"
   },
   {
    "duration": 5,
    "start_time": "2022-02-06T08:03:19.814Z"
   },
   {
    "duration": 4,
    "start_time": "2022-02-06T08:03:20.803Z"
   },
   {
    "duration": 756,
    "start_time": "2022-02-06T08:03:21.582Z"
   },
   {
    "duration": 12,
    "start_time": "2022-02-06T08:03:23.334Z"
   },
   {
    "duration": 10,
    "start_time": "2022-02-06T08:03:24.007Z"
   },
   {
    "duration": 35,
    "start_time": "2022-02-06T08:03:24.769Z"
   },
   {
    "duration": 209,
    "start_time": "2022-02-06T08:03:30.341Z"
   },
   {
    "duration": 191,
    "start_time": "2022-02-06T08:03:34.976Z"
   },
   {
    "duration": 189,
    "start_time": "2022-02-06T08:03:37.681Z"
   },
   {
    "duration": 191,
    "start_time": "2022-02-06T08:03:43.095Z"
   },
   {
    "duration": 234,
    "start_time": "2022-02-06T08:03:44.551Z"
   },
   {
    "duration": 5,
    "start_time": "2022-02-06T08:03:50.022Z"
   },
   {
    "duration": 4,
    "start_time": "2022-02-06T08:03:50.772Z"
   },
   {
    "duration": 9,
    "start_time": "2022-02-06T08:03:51.543Z"
   },
   {
    "duration": 980,
    "start_time": "2022-02-06T08:03:53.946Z"
   },
   {
    "duration": 890,
    "start_time": "2022-02-06T08:03:57.083Z"
   },
   {
    "duration": 5,
    "start_time": "2022-02-06T08:04:03.984Z"
   },
   {
    "duration": 5,
    "start_time": "2022-02-06T08:04:04.821Z"
   },
   {
    "duration": 4,
    "start_time": "2022-02-06T08:04:05.901Z"
   },
   {
    "duration": 5,
    "start_time": "2022-02-06T08:04:06.614Z"
   },
   {
    "duration": 6,
    "start_time": "2022-02-06T08:04:07.276Z"
   },
   {
    "duration": 7,
    "start_time": "2022-02-06T08:04:08.297Z"
   },
   {
    "duration": 7,
    "start_time": "2022-02-06T08:04:09.492Z"
   },
   {
    "duration": 8,
    "start_time": "2022-02-06T08:04:10.981Z"
   },
   {
    "duration": 18,
    "start_time": "2022-02-06T08:04:13.403Z"
   },
   {
    "duration": 23,
    "start_time": "2022-02-06T08:04:14.466Z"
   },
   {
    "duration": 24,
    "start_time": "2022-02-06T08:04:16.226Z"
   },
   {
    "duration": 6,
    "start_time": "2022-02-06T08:04:17.089Z"
   },
   {
    "duration": 5,
    "start_time": "2022-02-06T08:04:18.088Z"
   },
   {
    "duration": 6,
    "start_time": "2022-02-06T08:04:19.010Z"
   },
   {
    "duration": 191,
    "start_time": "2022-02-06T08:04:19.910Z"
   },
   {
    "duration": 10,
    "start_time": "2022-02-06T08:04:25.137Z"
   },
   {
    "duration": 35,
    "start_time": "2022-02-06T08:04:26.087Z"
   },
   {
    "duration": 5,
    "start_time": "2022-02-06T08:04:26.987Z"
   },
   {
    "duration": 5,
    "start_time": "2022-02-06T08:04:27.922Z"
   },
   {
    "duration": 4,
    "start_time": "2022-02-06T08:04:28.682Z"
   },
   {
    "duration": 5,
    "start_time": "2022-02-06T08:04:29.489Z"
   },
   {
    "duration": 7,
    "start_time": "2022-02-06T08:04:30.322Z"
   },
   {
    "duration": 6,
    "start_time": "2022-02-06T08:04:31.068Z"
   },
   {
    "duration": 6,
    "start_time": "2022-02-06T08:04:32.377Z"
   },
   {
    "duration": 423,
    "start_time": "2022-02-06T08:04:33.223Z"
   },
   {
    "duration": 7,
    "start_time": "2022-02-06T08:04:34.534Z"
   },
   {
    "duration": 201,
    "start_time": "2022-02-06T08:04:37.513Z"
   },
   {
    "duration": 240,
    "start_time": "2022-02-06T08:07:48.830Z"
   },
   {
    "duration": 2607,
    "start_time": "2022-02-06T08:08:08.706Z"
   },
   {
    "duration": 189,
    "start_time": "2022-02-06T08:11:37.637Z"
   },
   {
    "duration": 6110,
    "start_time": "2022-02-06T08:12:15.565Z"
   },
   {
    "duration": 299,
    "start_time": "2022-02-06T08:12:24.264Z"
   },
   {
    "duration": 194,
    "start_time": "2022-02-06T08:13:05.878Z"
   },
   {
    "duration": 203,
    "start_time": "2022-02-06T08:13:12.949Z"
   },
   {
    "duration": 208,
    "start_time": "2022-02-06T08:15:29.952Z"
   },
   {
    "duration": 192,
    "start_time": "2022-02-06T08:16:08.419Z"
   },
   {
    "duration": 193,
    "start_time": "2022-02-06T08:16:37.707Z"
   },
   {
    "duration": 195,
    "start_time": "2022-02-06T08:17:03.398Z"
   },
   {
    "duration": 348,
    "start_time": "2022-02-06T08:18:48.986Z"
   },
   {
    "duration": 437,
    "start_time": "2022-02-06T08:19:17.406Z"
   },
   {
    "duration": 444,
    "start_time": "2022-02-06T08:21:20.147Z"
   },
   {
    "duration": 225,
    "start_time": "2022-02-06T08:22:22.528Z"
   },
   {
    "duration": 217,
    "start_time": "2022-02-06T08:22:49.931Z"
   },
   {
    "duration": 242,
    "start_time": "2022-02-06T08:24:47.199Z"
   },
   {
    "duration": 242,
    "start_time": "2022-02-06T08:25:46.072Z"
   },
   {
    "duration": 252,
    "start_time": "2022-02-06T08:26:24.868Z"
   },
   {
    "duration": 194,
    "start_time": "2022-02-06T08:27:01.049Z"
   },
   {
    "duration": 228,
    "start_time": "2022-02-06T08:27:58.669Z"
   },
   {
    "duration": 255,
    "start_time": "2022-02-06T08:29:33.613Z"
   },
   {
    "duration": 242,
    "start_time": "2022-02-06T08:29:56.058Z"
   },
   {
    "duration": 310,
    "start_time": "2022-02-06T08:31:09.083Z"
   },
   {
    "duration": 231,
    "start_time": "2022-02-06T08:31:20.583Z"
   },
   {
    "duration": 249,
    "start_time": "2022-02-06T08:31:35.334Z"
   },
   {
    "duration": 302,
    "start_time": "2022-02-06T08:32:04.667Z"
   },
   {
    "duration": 282,
    "start_time": "2022-02-06T08:32:37.372Z"
   },
   {
    "duration": 68,
    "start_time": "2022-02-06T08:34:01.132Z"
   }
  ],
  "kernelspec": {
   "display_name": "Python 3 (ipykernel)",
   "language": "python",
   "name": "python3"
  },
  "language_info": {
   "codemirror_mode": {
    "name": "ipython",
    "version": 3
   },
   "file_extension": ".py",
   "mimetype": "text/x-python",
   "name": "python",
   "nbconvert_exporter": "python",
   "pygments_lexer": "ipython3",
   "version": "3.9.7"
  },
  "toc": {
   "base_numbering": 1,
   "nav_menu": {},
   "number_sections": true,
   "sideBar": true,
   "skip_h1_title": true,
   "title_cell": "Содержание",
   "title_sidebar": "Contents",
   "toc_cell": true,
   "toc_position": {
    "height": "calc(100% - 180px)",
    "left": "10px",
    "top": "150px",
    "width": "212.594px"
   },
   "toc_section_display": true,
   "toc_window_display": true
  }
 },
 "nbformat": 4,
 "nbformat_minor": 2
}
