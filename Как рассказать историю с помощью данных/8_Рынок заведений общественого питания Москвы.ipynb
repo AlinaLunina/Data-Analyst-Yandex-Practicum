{
 "cells": [
  {
   "cell_type": "markdown",
   "metadata": {},
   "source": [
    "# Рынок заведений общественного питания Москвы"
   ]
  },
  {
   "cell_type": "markdown",
   "metadata": {},
   "source": [
    "## Описание проекта\n",
    "Запланировано открыть небольшое кафе в Москве. Оно оригинальное — гостей должны обслуживать роботы. Проект многообещающий, но дорогой.  \n",
    "Чтобы заинтересовать инвесторов, решено провести исследование рынка, в рамках которго выяснить сможет ли кафе пользоваться популярностю на долгое время.\n",
    "Решено проанализировать открытые данные о заведениях общественного питания в Москве.\n",
    "\n",
    "Описание данных:\n",
    "\n",
    "- id — идентификатор объекта;\n",
    "- object_name — название объекта общественного питания;\n",
    "- chain — сетевой ресторан;\n",
    "- object_type — тип объекта общественного питания;\n",
    "- address — адрес;\n",
    "- number — количество посадочных мест."
   ]
  },
  {
   "cell_type": "markdown",
   "metadata": {},
   "source": [
    "## Загрузка данных"
   ]
  },
  {
   "cell_type": "code",
   "execution_count": 2,
   "metadata": {},
   "outputs": [],
   "source": [
    "# импортируем библиотеки\n",
    "import pandas as pd\n",
    "from plotly import graph_objects as go\n",
    "import matplotlib.pyplot as plt\n",
    "import seaborn as sns"
   ]
  },
  {
   "cell_type": "code",
   "execution_count": 3,
   "metadata": {},
   "outputs": [],
   "source": [
    "#выгрузим данные по районам города Москвы\n",
    "moscow_region=pd.read_csv('https://frs.noosphere.ru/xmlui/bitstream/handle/20.500.11925/714058/mosgaz-streets.csv?sequence=1&isAllowed=y')"
   ]
  },
  {
   "cell_type": "code",
   "execution_count": 4,
   "metadata": {},
   "outputs": [
    {
     "data": {
      "text/html": [
       "<div>\n",
       "<style scoped>\n",
       "    .dataframe tbody tr th:only-of-type {\n",
       "        vertical-align: middle;\n",
       "    }\n",
       "\n",
       "    .dataframe tbody tr th {\n",
       "        vertical-align: top;\n",
       "    }\n",
       "\n",
       "    .dataframe thead th {\n",
       "        text-align: right;\n",
       "    }\n",
       "</style>\n",
       "<table border=\"1\" class=\"dataframe\">\n",
       "  <thead>\n",
       "    <tr style=\"text-align: right;\">\n",
       "      <th></th>\n",
       "      <th>id</th>\n",
       "      <th>object_name</th>\n",
       "      <th>chain</th>\n",
       "      <th>object_type</th>\n",
       "      <th>address</th>\n",
       "      <th>number</th>\n",
       "    </tr>\n",
       "  </thead>\n",
       "  <tbody>\n",
       "    <tr>\n",
       "      <th>0</th>\n",
       "      <td>151635</td>\n",
       "      <td>СМЕТАНА</td>\n",
       "      <td>нет</td>\n",
       "      <td>кафе</td>\n",
       "      <td>город Москва, улица Егора Абакумова, дом 9</td>\n",
       "      <td>48</td>\n",
       "    </tr>\n",
       "    <tr>\n",
       "      <th>1</th>\n",
       "      <td>77874</td>\n",
       "      <td>Родник</td>\n",
       "      <td>нет</td>\n",
       "      <td>кафе</td>\n",
       "      <td>город Москва, улица Талалихина, дом 2/1, корпус 1</td>\n",
       "      <td>35</td>\n",
       "    </tr>\n",
       "    <tr>\n",
       "      <th>2</th>\n",
       "      <td>24309</td>\n",
       "      <td>Кафе «Академия»</td>\n",
       "      <td>нет</td>\n",
       "      <td>кафе</td>\n",
       "      <td>город Москва, Абельмановская улица, дом 6</td>\n",
       "      <td>95</td>\n",
       "    </tr>\n",
       "    <tr>\n",
       "      <th>3</th>\n",
       "      <td>21894</td>\n",
       "      <td>ПИЦЦЕТОРИЯ</td>\n",
       "      <td>да</td>\n",
       "      <td>кафе</td>\n",
       "      <td>город Москва, Абрамцевская улица, дом 1</td>\n",
       "      <td>40</td>\n",
       "    </tr>\n",
       "    <tr>\n",
       "      <th>4</th>\n",
       "      <td>119365</td>\n",
       "      <td>Кафе «Вишневая метель»</td>\n",
       "      <td>нет</td>\n",
       "      <td>кафе</td>\n",
       "      <td>город Москва, Абрамцевская улица, дом 9, корпус 1</td>\n",
       "      <td>50</td>\n",
       "    </tr>\n",
       "  </tbody>\n",
       "</table>\n",
       "</div>"
      ],
      "text/plain": [
       "       id             object_name chain object_type  \\\n",
       "0  151635                 СМЕТАНА   нет        кафе   \n",
       "1   77874                  Родник   нет        кафе   \n",
       "2   24309         Кафе «Академия»   нет        кафе   \n",
       "3   21894              ПИЦЦЕТОРИЯ    да        кафе   \n",
       "4  119365  Кафе «Вишневая метель»   нет        кафе   \n",
       "\n",
       "                                             address  number  \n",
       "0         город Москва, улица Егора Абакумова, дом 9      48  \n",
       "1  город Москва, улица Талалихина, дом 2/1, корпус 1      35  \n",
       "2          город Москва, Абельмановская улица, дом 6      95  \n",
       "3            город Москва, Абрамцевская улица, дом 1      40  \n",
       "4  город Москва, Абрамцевская улица, дом 9, корпус 1      50  "
      ]
     },
     "execution_count": 4,
     "metadata": {},
     "output_type": "execute_result"
    }
   ],
   "source": [
    "# просматриваем данные\n",
    "data=pd.read_csv('/datasets/rest_data.csv')\n",
    "data.head()"
   ]
  },
  {
   "cell_type": "code",
   "execution_count": 5,
   "metadata": {},
   "outputs": [
    {
     "name": "stdout",
     "output_type": "stream",
     "text": [
      "<class 'pandas.core.frame.DataFrame'>\n",
      "RangeIndex: 15366 entries, 0 to 15365\n",
      "Data columns (total 6 columns):\n",
      " #   Column       Non-Null Count  Dtype \n",
      "---  ------       --------------  ----- \n",
      " 0   id           15366 non-null  int64 \n",
      " 1   object_name  15366 non-null  object\n",
      " 2   chain        15366 non-null  object\n",
      " 3   object_type  15366 non-null  object\n",
      " 4   address      15366 non-null  object\n",
      " 5   number       15366 non-null  int64 \n",
      "dtypes: int64(2), object(4)\n",
      "memory usage: 720.4+ KB\n"
     ]
    }
   ],
   "source": [
    "\n",
    "data.info()"
   ]
  },
  {
   "cell_type": "markdown",
   "metadata": {},
   "source": [
    "### Выводы по загрузке данных\n",
    "\n",
    "Проанализировав данные пустых значений и дубликатов не выявлено, тип данных совпадает с необходимым"
   ]
  },
  {
   "cell_type": "markdown",
   "metadata": {},
   "source": [
    "## Анализ данных"
   ]
  },
  {
   "cell_type": "code",
   "execution_count": 6,
   "metadata": {},
   "outputs": [
    {
     "data": {
      "text/html": [
       "<div>\n",
       "<style scoped>\n",
       "    .dataframe tbody tr th:only-of-type {\n",
       "        vertical-align: middle;\n",
       "    }\n",
       "\n",
       "    .dataframe tbody tr th {\n",
       "        vertical-align: top;\n",
       "    }\n",
       "\n",
       "    .dataframe thead th {\n",
       "        text-align: right;\n",
       "    }\n",
       "</style>\n",
       "<table border=\"1\" class=\"dataframe\">\n",
       "  <thead>\n",
       "    <tr style=\"text-align: right;\">\n",
       "      <th></th>\n",
       "      <th>object_type</th>\n",
       "      <th>count</th>\n",
       "      <th>rate</th>\n",
       "    </tr>\n",
       "  </thead>\n",
       "  <tbody>\n",
       "    <tr>\n",
       "      <th>3</th>\n",
       "      <td>кафе</td>\n",
       "      <td>6099</td>\n",
       "      <td>0.396915</td>\n",
       "    </tr>\n",
       "    <tr>\n",
       "      <th>8</th>\n",
       "      <td>столовая</td>\n",
       "      <td>2587</td>\n",
       "      <td>0.168359</td>\n",
       "    </tr>\n",
       "    <tr>\n",
       "      <th>7</th>\n",
       "      <td>ресторан</td>\n",
       "      <td>2285</td>\n",
       "      <td>0.148705</td>\n",
       "    </tr>\n",
       "    <tr>\n",
       "      <th>6</th>\n",
       "      <td>предприятие быстрого обслуживания</td>\n",
       "      <td>1923</td>\n",
       "      <td>0.125146</td>\n",
       "    </tr>\n",
       "    <tr>\n",
       "      <th>0</th>\n",
       "      <td>бар</td>\n",
       "      <td>856</td>\n",
       "      <td>0.055707</td>\n",
       "    </tr>\n",
       "    <tr>\n",
       "      <th>1</th>\n",
       "      <td>буфет</td>\n",
       "      <td>585</td>\n",
       "      <td>0.038071</td>\n",
       "    </tr>\n",
       "    <tr>\n",
       "      <th>4</th>\n",
       "      <td>кафетерий</td>\n",
       "      <td>398</td>\n",
       "      <td>0.025901</td>\n",
       "    </tr>\n",
       "    <tr>\n",
       "      <th>2</th>\n",
       "      <td>закусочная</td>\n",
       "      <td>360</td>\n",
       "      <td>0.023428</td>\n",
       "    </tr>\n",
       "    <tr>\n",
       "      <th>5</th>\n",
       "      <td>магазин (отдел кулинарии)</td>\n",
       "      <td>273</td>\n",
       "      <td>0.017766</td>\n",
       "    </tr>\n",
       "  </tbody>\n",
       "</table>\n",
       "</div>"
      ],
      "text/plain": [
       "                         object_type  count      rate\n",
       "3                               кафе   6099  0.396915\n",
       "8                           столовая   2587  0.168359\n",
       "7                           ресторан   2285  0.148705\n",
       "6  предприятие быстрого обслуживания   1923  0.125146\n",
       "0                                бар    856  0.055707\n",
       "1                              буфет    585  0.038071\n",
       "4                          кафетерий    398  0.025901\n",
       "2                         закусочная    360  0.023428\n",
       "5          магазин (отдел кулинарии)    273  0.017766"
      ]
     },
     "execution_count": 6,
     "metadata": {},
     "output_type": "execute_result"
    }
   ],
   "source": [
    "# просмотрим виды объектов общественного питания\n",
    "object_type=pd.pivot_table(data, index='object_type', values='id', aggfunc='count').reset_index()\n",
    "object_type.rename(columns = {'id' : 'count'}, inplace = True)\n",
    "object_type['rate']=object_type['count']/15366\n",
    "object_type.sort_values(by='count', ascending=False)\n",
    "\n"
   ]
  },
  {
   "cell_type": "code",
   "execution_count": 7,
   "metadata": {},
   "outputs": [
    {
     "data": {
      "text/plain": [
       "<AxesSubplot:ylabel='rate'>"
      ]
     },
     "execution_count": 7,
     "metadata": {},
     "output_type": "execute_result"
    },
    {
     "data": {
      "image/png": "[encoded data removed]",
      "text/plain": [
       "<Figure size 432x288 with 1 Axes>"
      ]
     },
     "metadata": {},
     "output_type": "display_data"
    }
   ],
   "source": [
    "object_type['rate'].plot(kind='pie',  autopct='%1.0f%%')\n"
   ]
  },
  {
   "cell_type": "markdown",
   "metadata": {},
   "source": [
    "Самыми популярными видами объектов общественного питания является кафе, за ним столовая, ресторан и предприятие быстрого обслуживания."
   ]
  },
  {
   "cell_type": "code",
   "execution_count": 8,
   "metadata": {},
   "outputs": [
    {
     "data": {
      "text/html": [
       "<div>\n",
       "<style scoped>\n",
       "    .dataframe tbody tr th:only-of-type {\n",
       "        vertical-align: middle;\n",
       "    }\n",
       "\n",
       "    .dataframe tbody tr th {\n",
       "        vertical-align: top;\n",
       "    }\n",
       "\n",
       "    .dataframe thead th {\n",
       "        text-align: right;\n",
       "    }\n",
       "</style>\n",
       "<table border=\"1\" class=\"dataframe\">\n",
       "  <thead>\n",
       "    <tr style=\"text-align: right;\">\n",
       "      <th></th>\n",
       "      <th>count</th>\n",
       "      <th>rate</th>\n",
       "    </tr>\n",
       "    <tr>\n",
       "      <th>chain</th>\n",
       "      <th></th>\n",
       "      <th></th>\n",
       "    </tr>\n",
       "  </thead>\n",
       "  <tbody>\n",
       "    <tr>\n",
       "      <th>нет</th>\n",
       "      <td>12398</td>\n",
       "      <td>0.806846</td>\n",
       "    </tr>\n",
       "    <tr>\n",
       "      <th>да</th>\n",
       "      <td>2968</td>\n",
       "      <td>0.193154</td>\n",
       "    </tr>\n",
       "  </tbody>\n",
       "</table>\n",
       "</div>"
      ],
      "text/plain": [
       "       count      rate\n",
       "chain                 \n",
       "нет    12398  0.806846\n",
       "да      2968  0.193154"
      ]
     },
     "execution_count": 8,
     "metadata": {},
     "output_type": "execute_result"
    }
   ],
   "source": [
    "# просмотрим сетевые и несетевые объекты общественного питания\n",
    "chain_type=pd.pivot_table(data, index='chain', values='id', aggfunc='count')\n",
    "chain_type.rename(columns = {'id' : 'count'}, inplace = True)\n",
    "chain_type['rate']=chain_type['count']/15366\n",
    "chain_type.sort_values(by='count', ascending=False)\n"
   ]
  },
  {
   "cell_type": "code",
   "execution_count": 9,
   "metadata": {},
   "outputs": [
    {
     "data": {
      "text/plain": [
       "<AxesSubplot:ylabel='rate'>"
      ]
     },
     "execution_count": 9,
     "metadata": {},
     "output_type": "execute_result"
    },
    {
     "data": {
      "image/png": "[encoded data removed]",
      "text/plain": [
       "<Figure size 432x288 with 1 Axes>"
      ]
     },
     "metadata": {},
     "output_type": "display_data"
    }
   ],
   "source": [
    "chain_type['rate'].plot(kind='pie',  autopct='%1.0f%%')"
   ]
  },
  {
   "cell_type": "markdown",
   "metadata": {},
   "source": [
    "Большинство объектов - 81 процент не являются сетевыми"
   ]
  },
  {
   "cell_type": "code",
   "execution_count": 10,
   "metadata": {},
   "outputs": [
    {
     "data": {
      "text/html": [
       "<div>\n",
       "<style scoped>\n",
       "    .dataframe tbody tr th:only-of-type {\n",
       "        vertical-align: middle;\n",
       "    }\n",
       "\n",
       "    .dataframe tbody tr th {\n",
       "        vertical-align: top;\n",
       "    }\n",
       "\n",
       "    .dataframe thead th {\n",
       "        text-align: right;\n",
       "    }\n",
       "</style>\n",
       "<table border=\"1\" class=\"dataframe\">\n",
       "  <thead>\n",
       "    <tr style=\"text-align: right;\">\n",
       "      <th></th>\n",
       "      <th>object_type</th>\n",
       "      <th>count_is_chain</th>\n",
       "      <th>total</th>\n",
       "      <th>rate_chain</th>\n",
       "    </tr>\n",
       "  </thead>\n",
       "  <tbody>\n",
       "    <tr>\n",
       "      <th>8</th>\n",
       "      <td>столовая</td>\n",
       "      <td>3</td>\n",
       "      <td>2587</td>\n",
       "      <td>0.001160</td>\n",
       "    </tr>\n",
       "    <tr>\n",
       "      <th>1</th>\n",
       "      <td>буфет</td>\n",
       "      <td>11</td>\n",
       "      <td>585</td>\n",
       "      <td>0.018803</td>\n",
       "    </tr>\n",
       "    <tr>\n",
       "      <th>0</th>\n",
       "      <td>бар</td>\n",
       "      <td>37</td>\n",
       "      <td>856</td>\n",
       "      <td>0.043224</td>\n",
       "    </tr>\n",
       "    <tr>\n",
       "      <th>4</th>\n",
       "      <td>кафетерий</td>\n",
       "      <td>52</td>\n",
       "      <td>398</td>\n",
       "      <td>0.130653</td>\n",
       "    </tr>\n",
       "    <tr>\n",
       "      <th>2</th>\n",
       "      <td>закусочная</td>\n",
       "      <td>56</td>\n",
       "      <td>360</td>\n",
       "      <td>0.155556</td>\n",
       "    </tr>\n",
       "    <tr>\n",
       "      <th>3</th>\n",
       "      <td>кафе</td>\n",
       "      <td>1396</td>\n",
       "      <td>6099</td>\n",
       "      <td>0.228890</td>\n",
       "    </tr>\n",
       "    <tr>\n",
       "      <th>7</th>\n",
       "      <td>ресторан</td>\n",
       "      <td>544</td>\n",
       "      <td>2285</td>\n",
       "      <td>0.238074</td>\n",
       "    </tr>\n",
       "    <tr>\n",
       "      <th>5</th>\n",
       "      <td>магазин (отдел кулинарии)</td>\n",
       "      <td>78</td>\n",
       "      <td>273</td>\n",
       "      <td>0.285714</td>\n",
       "    </tr>\n",
       "    <tr>\n",
       "      <th>6</th>\n",
       "      <td>предприятие быстрого обслуживания</td>\n",
       "      <td>791</td>\n",
       "      <td>1923</td>\n",
       "      <td>0.411336</td>\n",
       "    </tr>\n",
       "  </tbody>\n",
       "</table>\n",
       "</div>"
      ],
      "text/plain": [
       "                         object_type  count_is_chain  total  rate_chain\n",
       "8                           столовая               3   2587    0.001160\n",
       "1                              буфет              11    585    0.018803\n",
       "0                                бар              37    856    0.043224\n",
       "4                          кафетерий              52    398    0.130653\n",
       "2                         закусочная              56    360    0.155556\n",
       "3                               кафе            1396   6099    0.228890\n",
       "7                           ресторан             544   2285    0.238074\n",
       "5          магазин (отдел кулинарии)              78    273    0.285714\n",
       "6  предприятие быстрого обслуживания             791   1923    0.411336"
      ]
     },
     "execution_count": 10,
     "metadata": {},
     "output_type": "execute_result"
    }
   ],
   "source": [
    "#выберем сетевые объекты\n",
    "chain_date=data.loc[data['chain']=='да']\n",
    "\n",
    "#просмотрим количество каждого вида объекта общественного питания в сетевых объектах\n",
    "chain_date_rate=chain_date.groupby('object_type')['id'].count().reset_index()\n",
    "chain_date_rate.rename(columns = {'id' : 'count_is_chain'}, inplace = True)\n",
    "#отсортируем общие цифры по каждому виду объекта по алфавиту\n",
    "object_type=object_type.sort_values(by='object_type', ascending=True)\n",
    "\n",
    "#посчитаем долю сетевых объектов\n",
    "chain_date_rate['total']=object_type['count']\n",
    "chain_date_rate['rate_chain']=chain_date_rate['count_is_chain']/chain_date_rate['total']\n",
    "\n",
    "chain_date_rate.sort_values(by='rate_chain')\n",
    "#object_type.info()\n",
    "#chain_date['rate']=chain_date['id']/object_type['count']\n",
    "#display(chain_date)"
   ]
  },
  {
   "cell_type": "markdown",
   "metadata": {},
   "source": [
    "В первую очередь для предприятий быстрого обслуживания характерно сетевое обслуживание, а также для отделов кулинарии."
   ]
  },
  {
   "cell_type": "code",
   "execution_count": 11,
   "metadata": {},
   "outputs": [
    {
     "data": {
      "text/html": [
       "<div>\n",
       "<style scoped>\n",
       "    .dataframe tbody tr th:only-of-type {\n",
       "        vertical-align: middle;\n",
       "    }\n",
       "\n",
       "    .dataframe tbody tr th {\n",
       "        vertical-align: top;\n",
       "    }\n",
       "\n",
       "    .dataframe thead th {\n",
       "        text-align: right;\n",
       "    }\n",
       "</style>\n",
       "<table border=\"1\" class=\"dataframe\">\n",
       "  <thead>\n",
       "    <tr style=\"text-align: right;\">\n",
       "      <th></th>\n",
       "      <th>id</th>\n",
       "      <th>object_name</th>\n",
       "      <th>chain</th>\n",
       "      <th>object_type</th>\n",
       "      <th>address</th>\n",
       "      <th>number</th>\n",
       "    </tr>\n",
       "  </thead>\n",
       "  <tbody>\n",
       "    <tr>\n",
       "      <th>3</th>\n",
       "      <td>21894</td>\n",
       "      <td>ПИЦЦЕТОРИЯ</td>\n",
       "      <td>да</td>\n",
       "      <td>кафе</td>\n",
       "      <td>город Москва, Абрамцевская улица, дом 1</td>\n",
       "      <td>40</td>\n",
       "    </tr>\n",
       "    <tr>\n",
       "      <th>6</th>\n",
       "      <td>148815</td>\n",
       "      <td>Брусника</td>\n",
       "      <td>да</td>\n",
       "      <td>кафе</td>\n",
       "      <td>город Москва, переулок Сивцев Вражек, дом 6/2</td>\n",
       "      <td>10</td>\n",
       "    </tr>\n",
       "    <tr>\n",
       "      <th>13</th>\n",
       "      <td>22579</td>\n",
       "      <td>Алло Пицца</td>\n",
       "      <td>да</td>\n",
       "      <td>кафе</td>\n",
       "      <td>город Москва, улица Авиаторов, дом 14</td>\n",
       "      <td>32</td>\n",
       "    </tr>\n",
       "    <tr>\n",
       "      <th>16</th>\n",
       "      <td>144107</td>\n",
       "      <td>Суши Wok</td>\n",
       "      <td>да</td>\n",
       "      <td>предприятие быстрого обслуживания</td>\n",
       "      <td>город Москва, Азовская улица, дом 3</td>\n",
       "      <td>7</td>\n",
       "    </tr>\n",
       "    <tr>\n",
       "      <th>18</th>\n",
       "      <td>58565</td>\n",
       "      <td>Тануки</td>\n",
       "      <td>да</td>\n",
       "      <td>ресторан</td>\n",
       "      <td>город Москва, Большая Академическая улица, дом 65</td>\n",
       "      <td>160</td>\n",
       "    </tr>\n",
       "    <tr>\n",
       "      <th>...</th>\n",
       "      <td>...</td>\n",
       "      <td>...</td>\n",
       "      <td>...</td>\n",
       "      <td>...</td>\n",
       "      <td>...</td>\n",
       "      <td>...</td>\n",
       "    </tr>\n",
       "    <tr>\n",
       "      <th>15361</th>\n",
       "      <td>208537</td>\n",
       "      <td>Шоколадница</td>\n",
       "      <td>да</td>\n",
       "      <td>кафе</td>\n",
       "      <td>город Москва, 3-й Крутицкий переулок, дом 18</td>\n",
       "      <td>50</td>\n",
       "    </tr>\n",
       "    <tr>\n",
       "      <th>15362</th>\n",
       "      <td>209264</td>\n",
       "      <td>Шоколадница</td>\n",
       "      <td>да</td>\n",
       "      <td>кафе</td>\n",
       "      <td>город Москва, улица Земляной Вал, дом 33</td>\n",
       "      <td>10</td>\n",
       "    </tr>\n",
       "    <tr>\n",
       "      <th>15363</th>\n",
       "      <td>209186</td>\n",
       "      <td>Шоколадница</td>\n",
       "      <td>да</td>\n",
       "      <td>кафе</td>\n",
       "      <td>город Москва, улица Земляной Вал, дом 33</td>\n",
       "      <td>20</td>\n",
       "    </tr>\n",
       "    <tr>\n",
       "      <th>15364</th>\n",
       "      <td>221900</td>\n",
       "      <td>Шоколадница</td>\n",
       "      <td>да</td>\n",
       "      <td>кафе</td>\n",
       "      <td>город Москва, поселение Московский, Киевское ш...</td>\n",
       "      <td>36</td>\n",
       "    </tr>\n",
       "    <tr>\n",
       "      <th>15365</th>\n",
       "      <td>222535</td>\n",
       "      <td>Шоколадница</td>\n",
       "      <td>да</td>\n",
       "      <td>кафе</td>\n",
       "      <td>город Москва, Ходынский бульвар, дом 4</td>\n",
       "      <td>10</td>\n",
       "    </tr>\n",
       "  </tbody>\n",
       "</table>\n",
       "<p>2968 rows × 6 columns</p>\n",
       "</div>"
      ],
      "text/plain": [
       "           id  object_name chain                        object_type  \\\n",
       "3       21894   ПИЦЦЕТОРИЯ    да                               кафе   \n",
       "6      148815     Брусника    да                               кафе   \n",
       "13      22579   Алло Пицца    да                               кафе   \n",
       "16     144107     Суши Wok    да  предприятие быстрого обслуживания   \n",
       "18      58565       Тануки    да                           ресторан   \n",
       "...       ...          ...   ...                                ...   \n",
       "15361  208537  Шоколадница    да                               кафе   \n",
       "15362  209264  Шоколадница    да                               кафе   \n",
       "15363  209186  Шоколадница    да                               кафе   \n",
       "15364  221900  Шоколадница    да                               кафе   \n",
       "15365  222535  Шоколадница    да                               кафе   \n",
       "\n",
       "                                                 address  number  \n",
       "3                город Москва, Абрамцевская улица, дом 1      40  \n",
       "6          город Москва, переулок Сивцев Вражек, дом 6/2      10  \n",
       "13                 город Москва, улица Авиаторов, дом 14      32  \n",
       "16                   город Москва, Азовская улица, дом 3       7  \n",
       "18     город Москва, Большая Академическая улица, дом 65     160  \n",
       "...                                                  ...     ...  \n",
       "15361       город Москва, 3-й Крутицкий переулок, дом 18      50  \n",
       "15362           город Москва, улица Земляной Вал, дом 33      10  \n",
       "15363           город Москва, улица Земляной Вал, дом 33      20  \n",
       "15364  город Москва, поселение Московский, Киевское ш...      36  \n",
       "15365             город Москва, Ходынский бульвар, дом 4      10  \n",
       "\n",
       "[2968 rows x 6 columns]"
      ]
     },
     "metadata": {},
     "output_type": "display_data"
    }
   ],
   "source": [
    "display(chain_date)"
   ]
  },
  {
   "cell_type": "code",
   "execution_count": 12,
   "metadata": {},
   "outputs": [
    {
     "name": "stderr",
     "output_type": "stream",
     "text": [
      "/opt/conda/lib/python3.9/site-packages/seaborn/distributions.py:2557: FutureWarning: `distplot` is a deprecated function and will be removed in a future version. Please adapt your code to use either `displot` (a figure-level function with similar flexibility) or `histplot` (an axes-level function for histograms).\n",
      "  warnings.warn(msg, FutureWarning)\n"
     ]
    },
    {
     "data": {
      "text/plain": [
       "<AxesSubplot:xlabel='number', ylabel='Density'>"
      ]
     },
     "execution_count": 12,
     "metadata": {},
     "output_type": "execute_result"
    },
    {
     "data": {
      "image/png": "[encoded data removed]",
      "text/plain": [
       "<Figure size 432x288 with 1 Axes>"
      ]
     },
     "metadata": {
      "needs_background": "light"
     },
     "output_type": "display_data"
    }
   ],
   "source": [
    "# просмотрим график распределения количества посадочных мест среди сетевых заведений\n",
    "sns.distplot(chain_date['number']) "
   ]
  },
  {
   "cell_type": "code",
   "execution_count": 13,
   "metadata": {},
   "outputs": [
    {
     "data": {
      "text/html": [
       "<div>\n",
       "<style scoped>\n",
       "    .dataframe tbody tr th:only-of-type {\n",
       "        vertical-align: middle;\n",
       "    }\n",
       "\n",
       "    .dataframe tbody tr th {\n",
       "        vertical-align: top;\n",
       "    }\n",
       "\n",
       "    .dataframe thead th {\n",
       "        text-align: right;\n",
       "    }\n",
       "</style>\n",
       "<table border=\"1\" class=\"dataframe\">\n",
       "  <thead>\n",
       "    <tr style=\"text-align: right;\">\n",
       "      <th></th>\n",
       "      <th>id</th>\n",
       "      <th>object_name</th>\n",
       "      <th>chain</th>\n",
       "      <th>object_type</th>\n",
       "      <th>address</th>\n",
       "      <th>number</th>\n",
       "    </tr>\n",
       "  </thead>\n",
       "  <tbody>\n",
       "    <tr>\n",
       "      <th>18</th>\n",
       "      <td>58565</td>\n",
       "      <td>Тануки</td>\n",
       "      <td>да</td>\n",
       "      <td>ресторан</td>\n",
       "      <td>город Москва, Большая Академическая улица, дом 65</td>\n",
       "      <td>160</td>\n",
       "    </tr>\n",
       "    <tr>\n",
       "      <th>37</th>\n",
       "      <td>24968</td>\n",
       "      <td>Му-Му</td>\n",
       "      <td>да</td>\n",
       "      <td>кафе</td>\n",
       "      <td>город Москва, улица Арбат, дом 4, строение 1</td>\n",
       "      <td>125</td>\n",
       "    </tr>\n",
       "    <tr>\n",
       "      <th>44</th>\n",
       "      <td>74979</td>\n",
       "      <td>Вареничная №1</td>\n",
       "      <td>да</td>\n",
       "      <td>кафе</td>\n",
       "      <td>город Москва, улица Арбат, дом 29</td>\n",
       "      <td>120</td>\n",
       "    </tr>\n",
       "    <tr>\n",
       "      <th>53</th>\n",
       "      <td>21998</td>\n",
       "      <td>Му-Му</td>\n",
       "      <td>да</td>\n",
       "      <td>кафе</td>\n",
       "      <td>город Москва, улица Арбат, дом 45/24</td>\n",
       "      <td>220</td>\n",
       "    </tr>\n",
       "    <tr>\n",
       "      <th>73</th>\n",
       "      <td>22366</td>\n",
       "      <td>МУ-МУ</td>\n",
       "      <td>да</td>\n",
       "      <td>кафе</td>\n",
       "      <td>город Москва, Бауманская улица, дом 35/1</td>\n",
       "      <td>160</td>\n",
       "    </tr>\n",
       "    <tr>\n",
       "      <th>...</th>\n",
       "      <td>...</td>\n",
       "      <td>...</td>\n",
       "      <td>...</td>\n",
       "      <td>...</td>\n",
       "      <td>...</td>\n",
       "      <td>...</td>\n",
       "    </tr>\n",
       "    <tr>\n",
       "      <th>15088</th>\n",
       "      <td>79939</td>\n",
       "      <td>Хачапури</td>\n",
       "      <td>да</td>\n",
       "      <td>кафе</td>\n",
       "      <td>город Москва, Кривоколенный переулок, дом 10, ...</td>\n",
       "      <td>120</td>\n",
       "    </tr>\n",
       "    <tr>\n",
       "      <th>15130</th>\n",
       "      <td>218415</td>\n",
       "      <td>Хинкальная</td>\n",
       "      <td>да</td>\n",
       "      <td>кафе</td>\n",
       "      <td>город Москва, Новая площадь, дом 8, строение 2</td>\n",
       "      <td>136</td>\n",
       "    </tr>\n",
       "    <tr>\n",
       "      <th>15224</th>\n",
       "      <td>207911</td>\n",
       "      <td>KFC</td>\n",
       "      <td>да</td>\n",
       "      <td>предприятие быстрого обслуживания</td>\n",
       "      <td>город Москва, Верхняя Радищевская улица, дом 22</td>\n",
       "      <td>115</td>\n",
       "    </tr>\n",
       "    <tr>\n",
       "      <th>15231</th>\n",
       "      <td>207593</td>\n",
       "      <td>KFC</td>\n",
       "      <td>да</td>\n",
       "      <td>ресторан</td>\n",
       "      <td>город Москва, Волгоградский проспект, дом 32, ...</td>\n",
       "      <td>110</td>\n",
       "    </tr>\n",
       "    <tr>\n",
       "      <th>15251</th>\n",
       "      <td>210046</td>\n",
       "      <td>МУ-МУ</td>\n",
       "      <td>да</td>\n",
       "      <td>кафе</td>\n",
       "      <td>город Москва, Новослободская улица, дом 4</td>\n",
       "      <td>120</td>\n",
       "    </tr>\n",
       "  </tbody>\n",
       "</table>\n",
       "<p>346 rows × 6 columns</p>\n",
       "</div>"
      ],
      "text/plain": [
       "           id    object_name chain                        object_type  \\\n",
       "18      58565         Тануки    да                           ресторан   \n",
       "37      24968          Му-Му    да                               кафе   \n",
       "44      74979  Вареничная №1    да                               кафе   \n",
       "53      21998          Му-Му    да                               кафе   \n",
       "73      22366          МУ-МУ    да                               кафе   \n",
       "...       ...            ...   ...                                ...   \n",
       "15088   79939       Хачапури    да                               кафе   \n",
       "15130  218415     Хинкальная    да                               кафе   \n",
       "15224  207911            KFC    да  предприятие быстрого обслуживания   \n",
       "15231  207593            KFC    да                           ресторан   \n",
       "15251  210046          МУ-МУ    да                               кафе   \n",
       "\n",
       "                                                 address  number  \n",
       "18     город Москва, Большая Академическая улица, дом 65     160  \n",
       "37          город Москва, улица Арбат, дом 4, строение 1     125  \n",
       "44                     город Москва, улица Арбат, дом 29     120  \n",
       "53                  город Москва, улица Арбат, дом 45/24     220  \n",
       "73              город Москва, Бауманская улица, дом 35/1     160  \n",
       "...                                                  ...     ...  \n",
       "15088  город Москва, Кривоколенный переулок, дом 10, ...     120  \n",
       "15130     город Москва, Новая площадь, дом 8, строение 2     136  \n",
       "15224    город Москва, Верхняя Радищевская улица, дом 22     115  \n",
       "15231  город Москва, Волгоградский проспект, дом 32, ...     110  \n",
       "15251          город Москва, Новослободская улица, дом 4     120  \n",
       "\n",
       "[346 rows x 6 columns]"
      ]
     },
     "execution_count": 13,
     "metadata": {},
     "output_type": "execute_result"
    }
   ],
   "source": [
    "#посмотрим на объекты с количеством посадочных мест боольше 100\n",
    "chain_date.loc[chain_date['number']>100]"
   ]
  },
  {
   "cell_type": "code",
   "execution_count": 14,
   "metadata": {},
   "outputs": [
    {
     "data": {
      "text/html": [
       "<div>\n",
       "<style scoped>\n",
       "    .dataframe tbody tr th:only-of-type {\n",
       "        vertical-align: middle;\n",
       "    }\n",
       "\n",
       "    .dataframe tbody tr th {\n",
       "        vertical-align: top;\n",
       "    }\n",
       "\n",
       "    .dataframe thead th {\n",
       "        text-align: right;\n",
       "    }\n",
       "</style>\n",
       "<table border=\"1\" class=\"dataframe\">\n",
       "  <thead>\n",
       "    <tr style=\"text-align: right;\">\n",
       "      <th></th>\n",
       "      <th>id</th>\n",
       "      <th>object_name</th>\n",
       "      <th>chain</th>\n",
       "      <th>object_type</th>\n",
       "      <th>address</th>\n",
       "      <th>number</th>\n",
       "    </tr>\n",
       "  </thead>\n",
       "  <tbody>\n",
       "    <tr>\n",
       "      <th>33</th>\n",
       "      <td>69243</td>\n",
       "      <td>Суши Wok</td>\n",
       "      <td>да</td>\n",
       "      <td>кафе</td>\n",
       "      <td>город Москва, проспект Андропова, дом 30</td>\n",
       "      <td>4</td>\n",
       "    </tr>\n",
       "    <tr>\n",
       "      <th>164</th>\n",
       "      <td>128946</td>\n",
       "      <td>Суши Сет</td>\n",
       "      <td>да</td>\n",
       "      <td>магазин (отдел кулинарии)</td>\n",
       "      <td>город Москва, Вельяминовская улица, дом 6</td>\n",
       "      <td>3</td>\n",
       "    </tr>\n",
       "    <tr>\n",
       "      <th>213</th>\n",
       "      <td>25803</td>\n",
       "      <td>Сити Пицца</td>\n",
       "      <td>да</td>\n",
       "      <td>предприятие быстрого обслуживания</td>\n",
       "      <td>город Москва, Ферганская улица, дом 12</td>\n",
       "      <td>4</td>\n",
       "    </tr>\n",
       "    <tr>\n",
       "      <th>242</th>\n",
       "      <td>133485</td>\n",
       "      <td>Суши Сет</td>\n",
       "      <td>да</td>\n",
       "      <td>магазин (отдел кулинарии)</td>\n",
       "      <td>город Москва, улица Героев Панфиловцев, дом 1,...</td>\n",
       "      <td>4</td>\n",
       "    </tr>\n",
       "    <tr>\n",
       "      <th>261</th>\n",
       "      <td>104191</td>\n",
       "      <td>Суши Вок</td>\n",
       "      <td>да</td>\n",
       "      <td>закусочная</td>\n",
       "      <td>город Москва, Городецкая улица, дом 3</td>\n",
       "      <td>5</td>\n",
       "    </tr>\n",
       "    <tr>\n",
       "      <th>...</th>\n",
       "      <td>...</td>\n",
       "      <td>...</td>\n",
       "      <td>...</td>\n",
       "      <td>...</td>\n",
       "      <td>...</td>\n",
       "      <td>...</td>\n",
       "    </tr>\n",
       "    <tr>\n",
       "      <th>15335</th>\n",
       "      <td>211221</td>\n",
       "      <td>МИЛТИ</td>\n",
       "      <td>да</td>\n",
       "      <td>магазин (отдел кулинарии)</td>\n",
       "      <td>город Москва, Пятницкое шоссе, дом 3</td>\n",
       "      <td>0</td>\n",
       "    </tr>\n",
       "    <tr>\n",
       "      <th>15336</th>\n",
       "      <td>211209</td>\n",
       "      <td>Готовые блюда Милти</td>\n",
       "      <td>да</td>\n",
       "      <td>предприятие быстрого обслуживания</td>\n",
       "      <td>город Москва, Ореховый бульвар, дом 22А</td>\n",
       "      <td>0</td>\n",
       "    </tr>\n",
       "    <tr>\n",
       "      <th>15337</th>\n",
       "      <td>208477</td>\n",
       "      <td>Милти</td>\n",
       "      <td>да</td>\n",
       "      <td>предприятие быстрого обслуживания</td>\n",
       "      <td>город Москва, 3-й Крутицкий переулок, дом 18</td>\n",
       "      <td>0</td>\n",
       "    </tr>\n",
       "    <tr>\n",
       "      <th>15338</th>\n",
       "      <td>211201</td>\n",
       "      <td>Милти</td>\n",
       "      <td>да</td>\n",
       "      <td>магазин (отдел кулинарии)</td>\n",
       "      <td>город Москва, Новослободская улица, дом 4</td>\n",
       "      <td>0</td>\n",
       "    </tr>\n",
       "    <tr>\n",
       "      <th>15343</th>\n",
       "      <td>211767</td>\n",
       "      <td>Бар Мята Lounge</td>\n",
       "      <td>да</td>\n",
       "      <td>бар</td>\n",
       "      <td>город Москва, Митинская улица, дом 16</td>\n",
       "      <td>5</td>\n",
       "    </tr>\n",
       "  </tbody>\n",
       "</table>\n",
       "<p>396 rows × 6 columns</p>\n",
       "</div>"
      ],
      "text/plain": [
       "           id          object_name chain                        object_type  \\\n",
       "33      69243             Суши Wok    да                               кафе   \n",
       "164    128946             Суши Сет    да          магазин (отдел кулинарии)   \n",
       "213     25803           Сити Пицца    да  предприятие быстрого обслуживания   \n",
       "242    133485             Суши Сет    да          магазин (отдел кулинарии)   \n",
       "261    104191             Суши Вок    да                         закусочная   \n",
       "...       ...                  ...   ...                                ...   \n",
       "15335  211221                МИЛТИ    да          магазин (отдел кулинарии)   \n",
       "15336  211209  Готовые блюда Милти    да  предприятие быстрого обслуживания   \n",
       "15337  208477                Милти    да  предприятие быстрого обслуживания   \n",
       "15338  211201                Милти    да          магазин (отдел кулинарии)   \n",
       "15343  211767      Бар Мята Lounge    да                                бар   \n",
       "\n",
       "                                                 address  number  \n",
       "33              город Москва, проспект Андропова, дом 30       4  \n",
       "164            город Москва, Вельяминовская улица, дом 6       3  \n",
       "213               город Москва, Ферганская улица, дом 12       4  \n",
       "242    город Москва, улица Героев Панфиловцев, дом 1,...       4  \n",
       "261                город Москва, Городецкая улица, дом 3       5  \n",
       "...                                                  ...     ...  \n",
       "15335               город Москва, Пятницкое шоссе, дом 3       0  \n",
       "15336            город Москва, Ореховый бульвар, дом 22А       0  \n",
       "15337       город Москва, 3-й Крутицкий переулок, дом 18       0  \n",
       "15338          город Москва, Новослободская улица, дом 4       0  \n",
       "15343              город Москва, Митинская улица, дом 16       5  \n",
       "\n",
       "[396 rows x 6 columns]"
      ]
     },
     "execution_count": 14,
     "metadata": {},
     "output_type": "execute_result"
    }
   ],
   "source": [
    "#просмотрим объекты с количеством посадочных мест меньше 5\n",
    "chain_date.loc[chain_date['number']<6]"
   ]
  },
  {
   "cell_type": "code",
   "execution_count": 15,
   "metadata": {},
   "outputs": [
    {
     "data": {
      "text/html": [
       "<div>\n",
       "<style scoped>\n",
       "    .dataframe tbody tr th:only-of-type {\n",
       "        vertical-align: middle;\n",
       "    }\n",
       "\n",
       "    .dataframe tbody tr th {\n",
       "        vertical-align: top;\n",
       "    }\n",
       "\n",
       "    .dataframe thead th {\n",
       "        text-align: right;\n",
       "    }\n",
       "</style>\n",
       "<table border=\"1\" class=\"dataframe\">\n",
       "  <thead>\n",
       "    <tr style=\"text-align: right;\">\n",
       "      <th></th>\n",
       "      <th>id</th>\n",
       "      <th>object_name</th>\n",
       "      <th>chain</th>\n",
       "      <th>object_type</th>\n",
       "      <th>address</th>\n",
       "      <th>number</th>\n",
       "    </tr>\n",
       "  </thead>\n",
       "  <tbody>\n",
       "    <tr>\n",
       "      <th>290</th>\n",
       "      <td>144091</td>\n",
       "      <td>КОФЕ С СОБОЙ</td>\n",
       "      <td>да</td>\n",
       "      <td>предприятие быстрого обслуживания</td>\n",
       "      <td>город Москва, 1-я Тверская-Ямская улица, дом 1...</td>\n",
       "      <td>0</td>\n",
       "    </tr>\n",
       "    <tr>\n",
       "      <th>498</th>\n",
       "      <td>152450</td>\n",
       "      <td>Суши сет</td>\n",
       "      <td>да</td>\n",
       "      <td>предприятие быстрого обслуживания</td>\n",
       "      <td>город Москва, Краснопрудная улица, дом 22-24</td>\n",
       "      <td>0</td>\n",
       "    </tr>\n",
       "    <tr>\n",
       "      <th>504</th>\n",
       "      <td>157035</td>\n",
       "      <td>Кофе с собой</td>\n",
       "      <td>да</td>\n",
       "      <td>кафетерий</td>\n",
       "      <td>город Москва, Краснохолмская набережная, дом 1...</td>\n",
       "      <td>0</td>\n",
       "    </tr>\n",
       "    <tr>\n",
       "      <th>577</th>\n",
       "      <td>149220</td>\n",
       "      <td>Кофейня «Кофе Хаус»</td>\n",
       "      <td>да</td>\n",
       "      <td>кафе</td>\n",
       "      <td>город Москва, Павелецкая площадь, дом 1А, стро...</td>\n",
       "      <td>0</td>\n",
       "    </tr>\n",
       "    <tr>\n",
       "      <th>938</th>\n",
       "      <td>154596</td>\n",
       "      <td>СтардогS</td>\n",
       "      <td>да</td>\n",
       "      <td>предприятие быстрого обслуживания</td>\n",
       "      <td>город Москва, Профсоюзная улица, дом 2/22</td>\n",
       "      <td>0</td>\n",
       "    </tr>\n",
       "    <tr>\n",
       "      <th>...</th>\n",
       "      <td>...</td>\n",
       "      <td>...</td>\n",
       "      <td>...</td>\n",
       "      <td>...</td>\n",
       "      <td>...</td>\n",
       "      <td>...</td>\n",
       "    </tr>\n",
       "    <tr>\n",
       "      <th>15334</th>\n",
       "      <td>211228</td>\n",
       "      <td>МИЛТИ</td>\n",
       "      <td>да</td>\n",
       "      <td>магазин (отдел кулинарии)</td>\n",
       "      <td>город Москва, Дубравная улица, дом 34/29</td>\n",
       "      <td>0</td>\n",
       "    </tr>\n",
       "    <tr>\n",
       "      <th>15335</th>\n",
       "      <td>211221</td>\n",
       "      <td>МИЛТИ</td>\n",
       "      <td>да</td>\n",
       "      <td>магазин (отдел кулинарии)</td>\n",
       "      <td>город Москва, Пятницкое шоссе, дом 3</td>\n",
       "      <td>0</td>\n",
       "    </tr>\n",
       "    <tr>\n",
       "      <th>15336</th>\n",
       "      <td>211209</td>\n",
       "      <td>Готовые блюда Милти</td>\n",
       "      <td>да</td>\n",
       "      <td>предприятие быстрого обслуживания</td>\n",
       "      <td>город Москва, Ореховый бульвар, дом 22А</td>\n",
       "      <td>0</td>\n",
       "    </tr>\n",
       "    <tr>\n",
       "      <th>15337</th>\n",
       "      <td>208477</td>\n",
       "      <td>Милти</td>\n",
       "      <td>да</td>\n",
       "      <td>предприятие быстрого обслуживания</td>\n",
       "      <td>город Москва, 3-й Крутицкий переулок, дом 18</td>\n",
       "      <td>0</td>\n",
       "    </tr>\n",
       "    <tr>\n",
       "      <th>15338</th>\n",
       "      <td>211201</td>\n",
       "      <td>Милти</td>\n",
       "      <td>да</td>\n",
       "      <td>магазин (отдел кулинарии)</td>\n",
       "      <td>город Москва, Новослободская улица, дом 4</td>\n",
       "      <td>0</td>\n",
       "    </tr>\n",
       "  </tbody>\n",
       "</table>\n",
       "<p>268 rows × 6 columns</p>\n",
       "</div>"
      ],
      "text/plain": [
       "           id          object_name chain                        object_type  \\\n",
       "290    144091         КОФЕ С СОБОЙ    да  предприятие быстрого обслуживания   \n",
       "498    152450             Суши сет    да  предприятие быстрого обслуживания   \n",
       "504    157035         Кофе с собой    да                          кафетерий   \n",
       "577    149220  Кофейня «Кофе Хаус»    да                               кафе   \n",
       "938    154596             СтардогS    да  предприятие быстрого обслуживания   \n",
       "...       ...                  ...   ...                                ...   \n",
       "15334  211228                МИЛТИ    да          магазин (отдел кулинарии)   \n",
       "15335  211221                МИЛТИ    да          магазин (отдел кулинарии)   \n",
       "15336  211209  Готовые блюда Милти    да  предприятие быстрого обслуживания   \n",
       "15337  208477                Милти    да  предприятие быстрого обслуживания   \n",
       "15338  211201                Милти    да          магазин (отдел кулинарии)   \n",
       "\n",
       "                                                 address  number  \n",
       "290    город Москва, 1-я Тверская-Ямская улица, дом 1...       0  \n",
       "498         город Москва, Краснопрудная улица, дом 22-24       0  \n",
       "504    город Москва, Краснохолмская набережная, дом 1...       0  \n",
       "577    город Москва, Павелецкая площадь, дом 1А, стро...       0  \n",
       "938            город Москва, Профсоюзная улица, дом 2/22       0  \n",
       "...                                                  ...     ...  \n",
       "15334           город Москва, Дубравная улица, дом 34/29       0  \n",
       "15335               город Москва, Пятницкое шоссе, дом 3       0  \n",
       "15336            город Москва, Ореховый бульвар, дом 22А       0  \n",
       "15337       город Москва, 3-й Крутицкий переулок, дом 18       0  \n",
       "15338          город Москва, Новослободская улица, дом 4       0  \n",
       "\n",
       "[268 rows x 6 columns]"
      ]
     },
     "execution_count": 15,
     "metadata": {},
     "output_type": "execute_result"
    }
   ],
   "source": [
    "# посмотрим на объекты с количеством посадочных мест равным 0\n",
    "chain_date.loc[chain_date['number']==0]"
   ]
  },
  {
   "cell_type": "markdown",
   "metadata": {},
   "source": [
    "Просмотрев сетевые объекты, стоит отметить большое количество объектов с небольшим количеством посадочных мест, в том числе с нулевым, это так называемые кофе с собой и магазины с отделами кулинарии (268 объектов)\n"
   ]
  },
  {
   "cell_type": "code",
   "execution_count": 16,
   "metadata": {},
   "outputs": [
    {
     "data": {
      "text/html": [
       "<div>\n",
       "<style scoped>\n",
       "    .dataframe tbody tr th:only-of-type {\n",
       "        vertical-align: middle;\n",
       "    }\n",
       "\n",
       "    .dataframe tbody tr th {\n",
       "        vertical-align: top;\n",
       "    }\n",
       "\n",
       "    .dataframe thead th {\n",
       "        text-align: right;\n",
       "    }\n",
       "</style>\n",
       "<table border=\"1\" class=\"dataframe\">\n",
       "  <thead>\n",
       "    <tr style=\"text-align: right;\">\n",
       "      <th></th>\n",
       "      <th>object_name</th>\n",
       "      <th>id</th>\n",
       "      <th>number</th>\n",
       "    </tr>\n",
       "  </thead>\n",
       "  <tbody>\n",
       "    <tr>\n",
       "      <th>3</th>\n",
       "      <td>Bocconcino</td>\n",
       "      <td>3</td>\n",
       "      <td>68.0</td>\n",
       "    </tr>\n",
       "    <tr>\n",
       "      <th>6</th>\n",
       "      <td>Burger Club</td>\n",
       "      <td>3</td>\n",
       "      <td>20.0</td>\n",
       "    </tr>\n",
       "    <tr>\n",
       "      <th>7</th>\n",
       "      <td>COFIX</td>\n",
       "      <td>3</td>\n",
       "      <td>10.0</td>\n",
       "    </tr>\n",
       "    <tr>\n",
       "      <th>10</th>\n",
       "      <td>Coffeeshop Company</td>\n",
       "      <td>4</td>\n",
       "      <td>50.0</td>\n",
       "    </tr>\n",
       "    <tr>\n",
       "      <th>11</th>\n",
       "      <td>Cofix</td>\n",
       "      <td>22</td>\n",
       "      <td>8.5</td>\n",
       "    </tr>\n",
       "    <tr>\n",
       "      <th>...</th>\n",
       "      <td>...</td>\n",
       "      <td>...</td>\n",
       "      <td>...</td>\n",
       "    </tr>\n",
       "    <tr>\n",
       "      <th>702</th>\n",
       "      <td>Шоколадница</td>\n",
       "      <td>141</td>\n",
       "      <td>50.0</td>\n",
       "    </tr>\n",
       "    <tr>\n",
       "      <th>706</th>\n",
       "      <td>Штолле</td>\n",
       "      <td>12</td>\n",
       "      <td>25.5</td>\n",
       "    </tr>\n",
       "    <tr>\n",
       "      <th>708</th>\n",
       "      <td>ЯКИТОРИЯ</td>\n",
       "      <td>5</td>\n",
       "      <td>152.0</td>\n",
       "    </tr>\n",
       "    <tr>\n",
       "      <th>712</th>\n",
       "      <td>Якитория</td>\n",
       "      <td>33</td>\n",
       "      <td>98.0</td>\n",
       "    </tr>\n",
       "    <tr>\n",
       "      <th>720</th>\n",
       "      <td>кафе «Старбакс»</td>\n",
       "      <td>2</td>\n",
       "      <td>63.5</td>\n",
       "    </tr>\n",
       "  </tbody>\n",
       "</table>\n",
       "<p>274 rows × 3 columns</p>\n",
       "</div>"
      ],
      "text/plain": [
       "            object_name   id  number\n",
       "3            Bocconcino    3    68.0\n",
       "6           Burger Club    3    20.0\n",
       "7                 COFIX    3    10.0\n",
       "10   Coffeeshop Company    4    50.0\n",
       "11                Cofix   22     8.5\n",
       "..                  ...  ...     ...\n",
       "702         Шоколадница  141    50.0\n",
       "706              Штолле   12    25.5\n",
       "708            ЯКИТОРИЯ    5   152.0\n",
       "712            Якитория   33    98.0\n",
       "720     кафе «Старбакс»    2    63.5\n",
       "\n",
       "[274 rows x 3 columns]"
      ]
     },
     "metadata": {},
     "output_type": "display_data"
    },
    {
     "data": {
      "text/html": [
       "<div>\n",
       "<style scoped>\n",
       "    .dataframe tbody tr th:only-of-type {\n",
       "        vertical-align: middle;\n",
       "    }\n",
       "\n",
       "    .dataframe tbody tr th {\n",
       "        vertical-align: top;\n",
       "    }\n",
       "\n",
       "    .dataframe thead th {\n",
       "        text-align: right;\n",
       "    }\n",
       "</style>\n",
       "<table border=\"1\" class=\"dataframe\">\n",
       "  <thead>\n",
       "    <tr style=\"text-align: right;\">\n",
       "      <th></th>\n",
       "      <th>id</th>\n",
       "      <th>number</th>\n",
       "    </tr>\n",
       "  </thead>\n",
       "  <tbody>\n",
       "    <tr>\n",
       "      <th>count</th>\n",
       "      <td>274.000000</td>\n",
       "      <td>274.000000</td>\n",
       "    </tr>\n",
       "    <tr>\n",
       "      <th>mean</th>\n",
       "      <td>9.189781</td>\n",
       "      <td>54.352190</td>\n",
       "    </tr>\n",
       "    <tr>\n",
       "      <th>std</th>\n",
       "      <td>19.502431</td>\n",
       "      <td>45.277118</td>\n",
       "    </tr>\n",
       "    <tr>\n",
       "      <th>min</th>\n",
       "      <td>2.000000</td>\n",
       "      <td>0.000000</td>\n",
       "    </tr>\n",
       "    <tr>\n",
       "      <th>25%</th>\n",
       "      <td>2.000000</td>\n",
       "      <td>20.000000</td>\n",
       "    </tr>\n",
       "    <tr>\n",
       "      <th>50%</th>\n",
       "      <td>3.000000</td>\n",
       "      <td>42.500000</td>\n",
       "    </tr>\n",
       "    <tr>\n",
       "      <th>75%</th>\n",
       "      <td>7.000000</td>\n",
       "      <td>80.000000</td>\n",
       "    </tr>\n",
       "    <tr>\n",
       "      <th>max</th>\n",
       "      <td>155.000000</td>\n",
       "      <td>245.000000</td>\n",
       "    </tr>\n",
       "  </tbody>\n",
       "</table>\n",
       "</div>"
      ],
      "text/plain": [
       "               id      number\n",
       "count  274.000000  274.000000\n",
       "mean     9.189781   54.352190\n",
       "std     19.502431   45.277118\n",
       "min      2.000000    0.000000\n",
       "25%      2.000000   20.000000\n",
       "50%      3.000000   42.500000\n",
       "75%      7.000000   80.000000\n",
       "max    155.000000  245.000000"
      ]
     },
     "execution_count": 16,
     "metadata": {},
     "output_type": "execute_result"
    }
   ],
   "source": [
    "# просмотрим количество объектов и среднее количество посадочных мест по сетевым объектам, исключая обекты из 1 заведения\n",
    "chain_date_common=pd.pivot_table(chain_date, index='object_name', values=['id','number'], aggfunc={'id':'count', 'number':'median'}).reset_index()\n",
    "chain_date_common=chain_date_common.loc[chain_date_common['id']>1]\n",
    "display(chain_date_common)\n",
    "#просмотрим квантили по данным\n",
    "chain_date_common.describe()"
   ]
  },
  {
   "cell_type": "markdown",
   "metadata": {},
   "source": [
    "Сеть с большим количеством объектов будем считать сеть, имеющую больше 7 объектов, с маленьким количеством объектов - равные 2.\n",
    "Сеть с большим средним количеством посадочных мест будем считать сеть, имеющую больше 80 посадочных мест, с маленьким количеством посадочных мест - меньше 20.\n"
   ]
  },
  {
   "cell_type": "code",
   "execution_count": 17,
   "metadata": {},
   "outputs": [
    {
     "data": {
      "text/html": [
       "<div>\n",
       "<style scoped>\n",
       "    .dataframe tbody tr th:only-of-type {\n",
       "        vertical-align: middle;\n",
       "    }\n",
       "\n",
       "    .dataframe tbody tr th {\n",
       "        vertical-align: top;\n",
       "    }\n",
       "\n",
       "    .dataframe thead th {\n",
       "        text-align: right;\n",
       "    }\n",
       "</style>\n",
       "<table border=\"1\" class=\"dataframe\">\n",
       "  <thead>\n",
       "    <tr style=\"text-align: right;\">\n",
       "      <th></th>\n",
       "      <th>count</th>\n",
       "    </tr>\n",
       "  </thead>\n",
       "  <tbody>\n",
       "    <tr>\n",
       "      <th>max_id, max_number</th>\n",
       "      <td>13</td>\n",
       "    </tr>\n",
       "    <tr>\n",
       "      <th>min_id, min_number</th>\n",
       "      <td>26</td>\n",
       "    </tr>\n",
       "    <tr>\n",
       "      <th>min_id, max_number</th>\n",
       "      <td>25</td>\n",
       "    </tr>\n",
       "    <tr>\n",
       "      <th>max_id, min_number</th>\n",
       "      <td>16</td>\n",
       "    </tr>\n",
       "  </tbody>\n",
       "</table>\n",
       "</div>"
      ],
      "text/plain": [
       "                    count\n",
       "max_id, max_number     13\n",
       "min_id, min_number     26\n",
       "min_id, max_number     25\n",
       "max_id, min_number     16"
      ]
     },
     "metadata": {},
     "output_type": "display_data"
    }
   ],
   "source": [
    "#  разбиваем сети на 4 группы  и смотрим в какой группе больше сетей.\n",
    "chain_date_common1=chain_date_common.loc[(chain_date_common['id']>7) & (chain_date_common['number']>80)]\n",
    "chain_date_common2=chain_date_common.loc[(chain_date_common['id']==2) & (chain_date_common['number']<20)]\n",
    "chain_date_common3=chain_date_common.loc[(chain_date_common['id']==2) & (chain_date_common['number']>80)]\n",
    "chain_date_common4=chain_date_common.loc[(chain_date_common['id']>7) & (chain_date_common['number']<20)]\n",
    "\n",
    "date_compare=pd.DataFrame({\"count\": pd.Series([len(chain_date_common1.index), len(chain_date_common2.index), len(chain_date_common3.index), len(chain_date_common4.index)], index=['max_id, max_number', 'min_id, min_number', 'min_id, max_number', 'max_id, min_number'])})\n",
    "display(date_compare)"
   ]
  },
  {
   "cell_type": "markdown",
   "metadata": {},
   "source": [
    "Анализируя данные отмечаем, что для сетевых заведений характерно мало заведений с большим количеством посадочных мест"
   ]
  },
  {
   "cell_type": "code",
   "execution_count": 18,
   "metadata": {},
   "outputs": [
    {
     "data": {
      "text/html": [
       "<div>\n",
       "<style scoped>\n",
       "    .dataframe tbody tr th:only-of-type {\n",
       "        vertical-align: middle;\n",
       "    }\n",
       "\n",
       "    .dataframe tbody tr th {\n",
       "        vertical-align: top;\n",
       "    }\n",
       "\n",
       "    .dataframe thead th {\n",
       "        text-align: right;\n",
       "    }\n",
       "</style>\n",
       "<table border=\"1\" class=\"dataframe\">\n",
       "  <thead>\n",
       "    <tr style=\"text-align: right;\">\n",
       "      <th></th>\n",
       "      <th>object_type</th>\n",
       "      <th>number</th>\n",
       "    </tr>\n",
       "  </thead>\n",
       "  <tbody>\n",
       "    <tr>\n",
       "      <th>8</th>\n",
       "      <td>столовая</td>\n",
       "      <td>103</td>\n",
       "    </tr>\n",
       "    <tr>\n",
       "      <th>7</th>\n",
       "      <td>ресторан</td>\n",
       "      <td>80</td>\n",
       "    </tr>\n",
       "    <tr>\n",
       "      <th>0</th>\n",
       "      <td>бар</td>\n",
       "      <td>35</td>\n",
       "    </tr>\n",
       "    <tr>\n",
       "      <th>1</th>\n",
       "      <td>буфет</td>\n",
       "      <td>32</td>\n",
       "    </tr>\n",
       "    <tr>\n",
       "      <th>3</th>\n",
       "      <td>кафе</td>\n",
       "      <td>30</td>\n",
       "    </tr>\n",
       "    <tr>\n",
       "      <th>4</th>\n",
       "      <td>кафетерий</td>\n",
       "      <td>6</td>\n",
       "    </tr>\n",
       "    <tr>\n",
       "      <th>6</th>\n",
       "      <td>предприятие быстрого обслуживания</td>\n",
       "      <td>5</td>\n",
       "    </tr>\n",
       "    <tr>\n",
       "      <th>2</th>\n",
       "      <td>закусочная</td>\n",
       "      <td>0</td>\n",
       "    </tr>\n",
       "    <tr>\n",
       "      <th>5</th>\n",
       "      <td>магазин (отдел кулинарии)</td>\n",
       "      <td>0</td>\n",
       "    </tr>\n",
       "  </tbody>\n",
       "</table>\n",
       "</div>"
      ],
      "text/plain": [
       "                         object_type  number\n",
       "8                           столовая     103\n",
       "7                           ресторан      80\n",
       "0                                бар      35\n",
       "1                              буфет      32\n",
       "3                               кафе      30\n",
       "4                          кафетерий       6\n",
       "6  предприятие быстрого обслуживания       5\n",
       "2                         закусочная       0\n",
       "5          магазин (отдел кулинарии)       0"
      ]
     },
     "metadata": {},
     "output_type": "display_data"
    }
   ],
   "source": [
    "#просмотрим среднее количество посадочных мест у различных типов заведений\n",
    "median_number=pd.pivot_table(data, index='object_type', values='number', aggfunc='median').reset_index()\n",
    "\n",
    "median_number.columns=['object_type', 'number']\n",
    "median_number=median_number.sort_values(by='number',ascending=False)\n",
    "display(median_number)\n"
   ]
  },
  {
   "cell_type": "markdown",
   "metadata": {},
   "source": [
    "Самое большое среднее количество посадочных мест у заведений типа столовых (103) и ресторанов(80). Отсутствуют посадочные места в закусочных и магазинов(отделы кулинарии)"
   ]
  },
  {
   "cell_type": "code",
   "execution_count": 34,
   "metadata": {},
   "outputs": [
    {
     "data": {
      "image/png": "[encoded data removed]",
      "text/plain": [
       "<Figure size 1224x1224 with 1 Axes>"
      ]
     },
     "metadata": {},
     "output_type": "display_data"
    }
   ],
   "source": [
    "sns.barplot(x='object_type', y='number', data=median_number) \n",
    "sns.set(rc={'figure.figsize':(17,17)})\n",
    "\n",
    "# Код ревьюера\n",
    "old_ticks, old_labels = plt.xticks()\n",
    "\n",
    "plt.xticks(old_ticks, ['\\n'.join(label.get_text().split()) for label in old_labels]);\n"
   ]
  },
  {
   "cell_type": "code",
   "execution_count": 20,
   "metadata": {},
   "outputs": [
    {
     "data": {
      "text/html": [
       "<div>\n",
       "<style scoped>\n",
       "    .dataframe tbody tr th:only-of-type {\n",
       "        vertical-align: middle;\n",
       "    }\n",
       "\n",
       "    .dataframe tbody tr th {\n",
       "        vertical-align: top;\n",
       "    }\n",
       "\n",
       "    .dataframe thead th {\n",
       "        text-align: right;\n",
       "    }\n",
       "</style>\n",
       "<table border=\"1\" class=\"dataframe\">\n",
       "  <thead>\n",
       "    <tr style=\"text-align: right;\">\n",
       "      <th></th>\n",
       "      <th>id</th>\n",
       "      <th>object_name</th>\n",
       "      <th>chain</th>\n",
       "      <th>object_type</th>\n",
       "      <th>address</th>\n",
       "      <th>number</th>\n",
       "      <th>street</th>\n",
       "    </tr>\n",
       "  </thead>\n",
       "  <tbody>\n",
       "    <tr>\n",
       "      <th>0</th>\n",
       "      <td>151635</td>\n",
       "      <td>СМЕТАНА</td>\n",
       "      <td>нет</td>\n",
       "      <td>кафе</td>\n",
       "      <td>город Москва, улица Егора Абакумова, дом 9</td>\n",
       "      <td>48</td>\n",
       "      <td>улица Егора Абакумова</td>\n",
       "    </tr>\n",
       "    <tr>\n",
       "      <th>1</th>\n",
       "      <td>77874</td>\n",
       "      <td>Родник</td>\n",
       "      <td>нет</td>\n",
       "      <td>кафе</td>\n",
       "      <td>город Москва, улица Талалихина, дом 2/1, корпус 1</td>\n",
       "      <td>35</td>\n",
       "      <td>улица Талалихина</td>\n",
       "    </tr>\n",
       "    <tr>\n",
       "      <th>2</th>\n",
       "      <td>24309</td>\n",
       "      <td>Кафе «Академия»</td>\n",
       "      <td>нет</td>\n",
       "      <td>кафе</td>\n",
       "      <td>город Москва, Абельмановская улица, дом 6</td>\n",
       "      <td>95</td>\n",
       "      <td>Абельмановская улица</td>\n",
       "    </tr>\n",
       "    <tr>\n",
       "      <th>3</th>\n",
       "      <td>21894</td>\n",
       "      <td>ПИЦЦЕТОРИЯ</td>\n",
       "      <td>да</td>\n",
       "      <td>кафе</td>\n",
       "      <td>город Москва, Абрамцевская улица, дом 1</td>\n",
       "      <td>40</td>\n",
       "      <td>Абрамцевская улица</td>\n",
       "    </tr>\n",
       "    <tr>\n",
       "      <th>4</th>\n",
       "      <td>119365</td>\n",
       "      <td>Кафе «Вишневая метель»</td>\n",
       "      <td>нет</td>\n",
       "      <td>кафе</td>\n",
       "      <td>город Москва, Абрамцевская улица, дом 9, корпус 1</td>\n",
       "      <td>50</td>\n",
       "      <td>Абрамцевская улица</td>\n",
       "    </tr>\n",
       "    <tr>\n",
       "      <th>...</th>\n",
       "      <td>...</td>\n",
       "      <td>...</td>\n",
       "      <td>...</td>\n",
       "      <td>...</td>\n",
       "      <td>...</td>\n",
       "      <td>...</td>\n",
       "      <td>...</td>\n",
       "    </tr>\n",
       "    <tr>\n",
       "      <th>15361</th>\n",
       "      <td>208537</td>\n",
       "      <td>Шоколадница</td>\n",
       "      <td>да</td>\n",
       "      <td>кафе</td>\n",
       "      <td>город Москва, 3-й Крутицкий переулок, дом 18</td>\n",
       "      <td>50</td>\n",
       "      <td>3-й Крутицкий переулок</td>\n",
       "    </tr>\n",
       "    <tr>\n",
       "      <th>15362</th>\n",
       "      <td>209264</td>\n",
       "      <td>Шоколадница</td>\n",
       "      <td>да</td>\n",
       "      <td>кафе</td>\n",
       "      <td>город Москва, улица Земляной Вал, дом 33</td>\n",
       "      <td>10</td>\n",
       "      <td>улица Земляной Вал</td>\n",
       "    </tr>\n",
       "    <tr>\n",
       "      <th>15363</th>\n",
       "      <td>209186</td>\n",
       "      <td>Шоколадница</td>\n",
       "      <td>да</td>\n",
       "      <td>кафе</td>\n",
       "      <td>город Москва, улица Земляной Вал, дом 33</td>\n",
       "      <td>20</td>\n",
       "      <td>улица Земляной Вал</td>\n",
       "    </tr>\n",
       "    <tr>\n",
       "      <th>15364</th>\n",
       "      <td>221900</td>\n",
       "      <td>Шоколадница</td>\n",
       "      <td>да</td>\n",
       "      <td>кафе</td>\n",
       "      <td>город Москва, поселение Московский, Киевское ш...</td>\n",
       "      <td>36</td>\n",
       "      <td>Киевское шоссе</td>\n",
       "    </tr>\n",
       "    <tr>\n",
       "      <th>15365</th>\n",
       "      <td>222535</td>\n",
       "      <td>Шоколадница</td>\n",
       "      <td>да</td>\n",
       "      <td>кафе</td>\n",
       "      <td>город Москва, Ходынский бульвар, дом 4</td>\n",
       "      <td>10</td>\n",
       "      <td>Ходынский бульвар</td>\n",
       "    </tr>\n",
       "  </tbody>\n",
       "</table>\n",
       "<p>15366 rows × 7 columns</p>\n",
       "</div>"
      ],
      "text/plain": [
       "           id             object_name chain object_type  \\\n",
       "0      151635                 СМЕТАНА   нет        кафе   \n",
       "1       77874                  Родник   нет        кафе   \n",
       "2       24309         Кафе «Академия»   нет        кафе   \n",
       "3       21894              ПИЦЦЕТОРИЯ    да        кафе   \n",
       "4      119365  Кафе «Вишневая метель»   нет        кафе   \n",
       "...       ...                     ...   ...         ...   \n",
       "15361  208537             Шоколадница    да        кафе   \n",
       "15362  209264             Шоколадница    да        кафе   \n",
       "15363  209186             Шоколадница    да        кафе   \n",
       "15364  221900             Шоколадница    да        кафе   \n",
       "15365  222535             Шоколадница    да        кафе   \n",
       "\n",
       "                                                 address  number  \\\n",
       "0             город Москва, улица Егора Абакумова, дом 9      48   \n",
       "1      город Москва, улица Талалихина, дом 2/1, корпус 1      35   \n",
       "2              город Москва, Абельмановская улица, дом 6      95   \n",
       "3                город Москва, Абрамцевская улица, дом 1      40   \n",
       "4      город Москва, Абрамцевская улица, дом 9, корпус 1      50   \n",
       "...                                                  ...     ...   \n",
       "15361       город Москва, 3-й Крутицкий переулок, дом 18      50   \n",
       "15362           город Москва, улица Земляной Вал, дом 33      10   \n",
       "15363           город Москва, улица Земляной Вал, дом 33      20   \n",
       "15364  город Москва, поселение Московский, Киевское ш...      36   \n",
       "15365             город Москва, Ходынский бульвар, дом 4      10   \n",
       "\n",
       "                       street  \n",
       "0       улица Егора Абакумова  \n",
       "1            улица Талалихина  \n",
       "2        Абельмановская улица  \n",
       "3          Абрамцевская улица  \n",
       "4          Абрамцевская улица  \n",
       "...                       ...  \n",
       "15361  3-й Крутицкий переулок  \n",
       "15362      улица Земляной Вал  \n",
       "15363      улица Земляной Вал  \n",
       "15364          Киевское шоссе  \n",
       "15365       Ходынский бульвар  \n",
       "\n",
       "[15366 rows x 7 columns]"
      ]
     },
     "metadata": {},
     "output_type": "display_data"
    }
   ],
   "source": [
    "#  выделяем отдельный столбец с названием улиц\n",
    "words = ['улица','ул','переулок','шоссе','проспект','площадь','проезд',\n",
    "         'село','аллея','бульвар','набережная','тупик','линия']\n",
    "\n",
    "str_pat = r\".*,\\s*\\b([^,]*?(?:{})\\b[^,]*)[,$]+\".format(\"|\".join(words))\n",
    "\n",
    "data[\"street\"] = data[\"address\"].str.extract(str_pat)\n",
    "display(data)"
   ]
  },
  {
   "cell_type": "code",
   "execution_count": 22,
   "metadata": {},
   "outputs": [
    {
     "data": {
      "text/html": [
       "<div>\n",
       "<style scoped>\n",
       "    .dataframe tbody tr th:only-of-type {\n",
       "        vertical-align: middle;\n",
       "    }\n",
       "\n",
       "    .dataframe tbody tr th {\n",
       "        vertical-align: top;\n",
       "    }\n",
       "\n",
       "    .dataframe thead th {\n",
       "        text-align: right;\n",
       "    }\n",
       "</style>\n",
       "<table border=\"1\" class=\"dataframe\">\n",
       "  <thead>\n",
       "    <tr style=\"text-align: right;\">\n",
       "      <th></th>\n",
       "      <th>id</th>\n",
       "      <th>object_name</th>\n",
       "      <th>chain</th>\n",
       "      <th>object_type</th>\n",
       "      <th>address</th>\n",
       "      <th>number</th>\n",
       "      <th>street</th>\n",
       "    </tr>\n",
       "  </thead>\n",
       "  <tbody>\n",
       "    <tr>\n",
       "      <th>0</th>\n",
       "      <td>151635</td>\n",
       "      <td>СМЕТАНА</td>\n",
       "      <td>нет</td>\n",
       "      <td>кафе</td>\n",
       "      <td>город Москва, улица Егора Абакумова, дом 9</td>\n",
       "      <td>48</td>\n",
       "      <td>улица Егора Абакумова</td>\n",
       "    </tr>\n",
       "    <tr>\n",
       "      <th>1</th>\n",
       "      <td>77874</td>\n",
       "      <td>Родник</td>\n",
       "      <td>нет</td>\n",
       "      <td>кафе</td>\n",
       "      <td>город Москва, улица Талалихина, дом 2/1, корпус 1</td>\n",
       "      <td>35</td>\n",
       "      <td>улица Талалихина</td>\n",
       "    </tr>\n",
       "    <tr>\n",
       "      <th>2</th>\n",
       "      <td>24309</td>\n",
       "      <td>Кафе «Академия»</td>\n",
       "      <td>нет</td>\n",
       "      <td>кафе</td>\n",
       "      <td>город Москва, Абельмановская улица, дом 6</td>\n",
       "      <td>95</td>\n",
       "      <td>Абельмановская улица</td>\n",
       "    </tr>\n",
       "    <tr>\n",
       "      <th>3</th>\n",
       "      <td>21894</td>\n",
       "      <td>ПИЦЦЕТОРИЯ</td>\n",
       "      <td>да</td>\n",
       "      <td>кафе</td>\n",
       "      <td>город Москва, Абрамцевская улица, дом 1</td>\n",
       "      <td>40</td>\n",
       "      <td>Абрамцевская улица</td>\n",
       "    </tr>\n",
       "    <tr>\n",
       "      <th>4</th>\n",
       "      <td>119365</td>\n",
       "      <td>Кафе «Вишневая метель»</td>\n",
       "      <td>нет</td>\n",
       "      <td>кафе</td>\n",
       "      <td>город Москва, Абрамцевская улица, дом 9, корпус 1</td>\n",
       "      <td>50</td>\n",
       "      <td>Абрамцевская улица</td>\n",
       "    </tr>\n",
       "    <tr>\n",
       "      <th>...</th>\n",
       "      <td>...</td>\n",
       "      <td>...</td>\n",
       "      <td>...</td>\n",
       "      <td>...</td>\n",
       "      <td>...</td>\n",
       "      <td>...</td>\n",
       "      <td>...</td>\n",
       "    </tr>\n",
       "    <tr>\n",
       "      <th>15361</th>\n",
       "      <td>208537</td>\n",
       "      <td>Шоколадница</td>\n",
       "      <td>да</td>\n",
       "      <td>кафе</td>\n",
       "      <td>город Москва, 3-й Крутицкий переулок, дом 18</td>\n",
       "      <td>50</td>\n",
       "      <td>3-й Крутицкий переулок</td>\n",
       "    </tr>\n",
       "    <tr>\n",
       "      <th>15362</th>\n",
       "      <td>209264</td>\n",
       "      <td>Шоколадница</td>\n",
       "      <td>да</td>\n",
       "      <td>кафе</td>\n",
       "      <td>город Москва, улица Земляной Вал, дом 33</td>\n",
       "      <td>10</td>\n",
       "      <td>улица Земляной Вал</td>\n",
       "    </tr>\n",
       "    <tr>\n",
       "      <th>15363</th>\n",
       "      <td>209186</td>\n",
       "      <td>Шоколадница</td>\n",
       "      <td>да</td>\n",
       "      <td>кафе</td>\n",
       "      <td>город Москва, улица Земляной Вал, дом 33</td>\n",
       "      <td>20</td>\n",
       "      <td>улица Земляной Вал</td>\n",
       "    </tr>\n",
       "    <tr>\n",
       "      <th>15364</th>\n",
       "      <td>221900</td>\n",
       "      <td>Шоколадница</td>\n",
       "      <td>да</td>\n",
       "      <td>кафе</td>\n",
       "      <td>город Москва, поселение Московский, Киевское ш...</td>\n",
       "      <td>36</td>\n",
       "      <td>Киевское шоссе</td>\n",
       "    </tr>\n",
       "    <tr>\n",
       "      <th>15365</th>\n",
       "      <td>222535</td>\n",
       "      <td>Шоколадница</td>\n",
       "      <td>да</td>\n",
       "      <td>кафе</td>\n",
       "      <td>город Москва, Ходынский бульвар, дом 4</td>\n",
       "      <td>10</td>\n",
       "      <td>Ходынский бульвар</td>\n",
       "    </tr>\n",
       "  </tbody>\n",
       "</table>\n",
       "<p>15295 rows × 7 columns</p>\n",
       "</div>"
      ],
      "text/plain": [
       "           id             object_name chain object_type  \\\n",
       "0      151635                 СМЕТАНА   нет        кафе   \n",
       "1       77874                  Родник   нет        кафе   \n",
       "2       24309         Кафе «Академия»   нет        кафе   \n",
       "3       21894              ПИЦЦЕТОРИЯ    да        кафе   \n",
       "4      119365  Кафе «Вишневая метель»   нет        кафе   \n",
       "...       ...                     ...   ...         ...   \n",
       "15361  208537             Шоколадница    да        кафе   \n",
       "15362  209264             Шоколадница    да        кафе   \n",
       "15363  209186             Шоколадница    да        кафе   \n",
       "15364  221900             Шоколадница    да        кафе   \n",
       "15365  222535             Шоколадница    да        кафе   \n",
       "\n",
       "                                                 address  number  \\\n",
       "0             город Москва, улица Егора Абакумова, дом 9      48   \n",
       "1      город Москва, улица Талалихина, дом 2/1, корпус 1      35   \n",
       "2              город Москва, Абельмановская улица, дом 6      95   \n",
       "3                город Москва, Абрамцевская улица, дом 1      40   \n",
       "4      город Москва, Абрамцевская улица, дом 9, корпус 1      50   \n",
       "...                                                  ...     ...   \n",
       "15361       город Москва, 3-й Крутицкий переулок, дом 18      50   \n",
       "15362           город Москва, улица Земляной Вал, дом 33      10   \n",
       "15363           город Москва, улица Земляной Вал, дом 33      20   \n",
       "15364  город Москва, поселение Московский, Киевское ш...      36   \n",
       "15365             город Москва, Ходынский бульвар, дом 4      10   \n",
       "\n",
       "                       street  \n",
       "0       улица Егора Абакумова  \n",
       "1            улица Талалихина  \n",
       "2        Абельмановская улица  \n",
       "3          Абрамцевская улица  \n",
       "4          Абрамцевская улица  \n",
       "...                       ...  \n",
       "15361  3-й Крутицкий переулок  \n",
       "15362      улица Земляной Вал  \n",
       "15363      улица Земляной Вал  \n",
       "15364          Киевское шоссе  \n",
       "15365       Ходынский бульвар  \n",
       "\n",
       "[15295 rows x 7 columns]"
      ]
     },
     "metadata": {},
     "output_type": "display_data"
    }
   ],
   "source": [
    "#извлекаем данные только по городу Москва\n",
    "data_moscow=data[data['address'].str.contains(\"город Москва\")]\n",
    "display(data_moscow)"
   ]
  },
  {
   "cell_type": "code",
   "execution_count": 23,
   "metadata": {},
   "outputs": [
    {
     "data": {
      "text/html": [
       "<div>\n",
       "<style scoped>\n",
       "    .dataframe tbody tr th:only-of-type {\n",
       "        vertical-align: middle;\n",
       "    }\n",
       "\n",
       "    .dataframe tbody tr th {\n",
       "        vertical-align: top;\n",
       "    }\n",
       "\n",
       "    .dataframe thead th {\n",
       "        text-align: right;\n",
       "    }\n",
       "</style>\n",
       "<table border=\"1\" class=\"dataframe\">\n",
       "  <thead>\n",
       "    <tr style=\"text-align: right;\">\n",
       "      <th></th>\n",
       "      <th>street</th>\n",
       "      <th>count_object</th>\n",
       "    </tr>\n",
       "  </thead>\n",
       "  <tbody>\n",
       "    <tr>\n",
       "      <th>0</th>\n",
       "      <td>проспект Мира</td>\n",
       "      <td>204</td>\n",
       "    </tr>\n",
       "    <tr>\n",
       "      <th>1</th>\n",
       "      <td>Профсоюзная улица</td>\n",
       "      <td>182</td>\n",
       "    </tr>\n",
       "    <tr>\n",
       "      <th>2</th>\n",
       "      <td>Ленинградский проспект</td>\n",
       "      <td>171</td>\n",
       "    </tr>\n",
       "    <tr>\n",
       "      <th>3</th>\n",
       "      <td>Пресненская набережная</td>\n",
       "      <td>167</td>\n",
       "    </tr>\n",
       "    <tr>\n",
       "      <th>4</th>\n",
       "      <td>Варшавское шоссе</td>\n",
       "      <td>164</td>\n",
       "    </tr>\n",
       "    <tr>\n",
       "      <th>5</th>\n",
       "      <td>Ленинский проспект</td>\n",
       "      <td>147</td>\n",
       "    </tr>\n",
       "    <tr>\n",
       "      <th>6</th>\n",
       "      <td>проспект Вернадского</td>\n",
       "      <td>132</td>\n",
       "    </tr>\n",
       "    <tr>\n",
       "      <th>7</th>\n",
       "      <td>Кутузовский проспект</td>\n",
       "      <td>114</td>\n",
       "    </tr>\n",
       "    <tr>\n",
       "      <th>8</th>\n",
       "      <td>Каширское шоссе</td>\n",
       "      <td>112</td>\n",
       "    </tr>\n",
       "    <tr>\n",
       "      <th>9</th>\n",
       "      <td>Кировоградская улица</td>\n",
       "      <td>110</td>\n",
       "    </tr>\n",
       "  </tbody>\n",
       "</table>\n",
       "</div>"
      ],
      "text/plain": [
       "                   street  count_object\n",
       "0           проспект Мира           204\n",
       "1       Профсоюзная улица           182\n",
       "2  Ленинградский проспект           171\n",
       "3  Пресненская набережная           167\n",
       "4        Варшавское шоссе           164\n",
       "5      Ленинский проспект           147\n",
       "6    проспект Вернадского           132\n",
       "7    Кутузовский проспект           114\n",
       "8         Каширское шоссе           112\n",
       "9    Кировоградская улица           110"
      ]
     },
     "metadata": {},
     "output_type": "display_data"
    }
   ],
   "source": [
    "#Просмотрим топ=10 улиц, на которых расположены заведения общепита, по городу Москва\n",
    "street_moscow=data_moscow.groupby('street')['id'].count().sort_values(ascending=False).reset_index()\n",
    "street_moscow.columns=['street', 'count_object']\n",
    "top_street_moscow=street_moscow.head(10)\n",
    "display(top_street_moscow)"
   ]
  },
  {
   "cell_type": "code",
   "execution_count": 24,
   "metadata": {},
   "outputs": [
    {
     "data": {
      "text/plain": [
       "(array([0, 1, 2, 3, 4, 5, 6, 7, 8, 9]),\n",
       " [Text(0, 0, 'проспект Мира'),\n",
       "  Text(1, 0, 'Профсоюзная улица'),\n",
       "  Text(2, 0, 'Ленинградский проспект'),\n",
       "  Text(3, 0, 'Пресненская набережная'),\n",
       "  Text(4, 0, 'Варшавское шоссе'),\n",
       "  Text(5, 0, 'Ленинский проспект'),\n",
       "  Text(6, 0, 'проспект Вернадского'),\n",
       "  Text(7, 0, 'Кутузовский проспект'),\n",
       "  Text(8, 0, 'Каширское шоссе'),\n",
       "  Text(9, 0, 'Кировоградская улица')])"
      ]
     },
     "execution_count": 24,
     "metadata": {},
     "output_type": "execute_result"
    },
    {
     "data": {
      "image/png": "[encoded data removed]",
      "text/plain": [
       "<Figure size 1224x1224 with 1 Axes>"
      ]
     },
     "metadata": {},
     "output_type": "display_data"
    }
   ],
   "source": [
    "sns.barplot(x='street', y='count_object', data=top_street_moscow) \n",
    "plt.xticks(rotation=60)"
   ]
  },
  {
   "cell_type": "code",
   "execution_count": 25,
   "metadata": {},
   "outputs": [
    {
     "data": {
      "text/html": [
       "<div>\n",
       "<style scoped>\n",
       "    .dataframe tbody tr th:only-of-type {\n",
       "        vertical-align: middle;\n",
       "    }\n",
       "\n",
       "    .dataframe tbody tr th {\n",
       "        vertical-align: top;\n",
       "    }\n",
       "\n",
       "    .dataframe thead th {\n",
       "        text-align: right;\n",
       "    }\n",
       "</style>\n",
       "<table border=\"1\" class=\"dataframe\">\n",
       "  <thead>\n",
       "    <tr style=\"text-align: right;\">\n",
       "      <th></th>\n",
       "      <th>streetname</th>\n",
       "      <th>areaid</th>\n",
       "      <th>okrug</th>\n",
       "      <th>area</th>\n",
       "    </tr>\n",
       "  </thead>\n",
       "  <tbody>\n",
       "    <tr>\n",
       "      <th>3241</th>\n",
       "      <td>Варшавское шоссе</td>\n",
       "      <td>99</td>\n",
       "      <td>ЮАО</td>\n",
       "      <td>Донской район</td>\n",
       "    </tr>\n",
       "    <tr>\n",
       "      <th>4065</th>\n",
       "      <td>Варшавское шоссе</td>\n",
       "      <td>133</td>\n",
       "      <td>ЮЗАО</td>\n",
       "      <td>Район Южное Бутово</td>\n",
       "    </tr>\n",
       "    <tr>\n",
       "      <th>3125</th>\n",
       "      <td>Варшавское шоссе</td>\n",
       "      <td>110</td>\n",
       "      <td>ЮАО</td>\n",
       "      <td>Район Чертаново Южное</td>\n",
       "    </tr>\n",
       "    <tr>\n",
       "      <th>3999</th>\n",
       "      <td>Варшавское шоссе</td>\n",
       "      <td>130</td>\n",
       "      <td>ЮЗАО</td>\n",
       "      <td>Район Северное Бутово</td>\n",
       "    </tr>\n",
       "    <tr>\n",
       "      <th>3117</th>\n",
       "      <td>Варшавское шоссе</td>\n",
       "      <td>108</td>\n",
       "      <td>ЮАО</td>\n",
       "      <td>Район Чертаново Северное</td>\n",
       "    </tr>\n",
       "    <tr>\n",
       "      <th>3105</th>\n",
       "      <td>Варшавское шоссе</td>\n",
       "      <td>109</td>\n",
       "      <td>ЮАО</td>\n",
       "      <td>Район Чертаново Центральное</td>\n",
       "    </tr>\n",
       "    <tr>\n",
       "      <th>3349</th>\n",
       "      <td>Варшавское шоссе</td>\n",
       "      <td>104</td>\n",
       "      <td>ЮАО</td>\n",
       "      <td>Нагорный район</td>\n",
       "    </tr>\n",
       "    <tr>\n",
       "      <th>3305</th>\n",
       "      <td>Варшавское шоссе</td>\n",
       "      <td>102</td>\n",
       "      <td>ЮАО</td>\n",
       "      <td>Район Нагатино-Садовники</td>\n",
       "    </tr>\n",
       "    <tr>\n",
       "      <th>3308</th>\n",
       "      <td>Каширское шоссе</td>\n",
       "      <td>102</td>\n",
       "      <td>ЮАО</td>\n",
       "      <td>Район Нагатино-Садовники</td>\n",
       "    </tr>\n",
       "    <tr>\n",
       "      <th>3292</th>\n",
       "      <td>Каширское шоссе</td>\n",
       "      <td>101</td>\n",
       "      <td>ЮАО</td>\n",
       "      <td>Район Москворечье-Сабурово</td>\n",
       "    </tr>\n",
       "    <tr>\n",
       "      <th>3369</th>\n",
       "      <td>Каширское шоссе</td>\n",
       "      <td>106</td>\n",
       "      <td>ЮАО</td>\n",
       "      <td>Район Орехово-Борисово Южное</td>\n",
       "    </tr>\n",
       "    <tr>\n",
       "      <th>3392</th>\n",
       "      <td>Каширское шоссе</td>\n",
       "      <td>105</td>\n",
       "      <td>ЮАО</td>\n",
       "      <td>Район Орехово-Борисово Северное</td>\n",
       "    </tr>\n",
       "    <tr>\n",
       "      <th>3120</th>\n",
       "      <td>Кировоградская улица</td>\n",
       "      <td>108</td>\n",
       "      <td>ЮАО</td>\n",
       "      <td>Район Чертаново Северное</td>\n",
       "    </tr>\n",
       "    <tr>\n",
       "      <th>3111</th>\n",
       "      <td>Кировоградская улица</td>\n",
       "      <td>109</td>\n",
       "      <td>ЮАО</td>\n",
       "      <td>Район Чертаново Центральное</td>\n",
       "    </tr>\n",
       "    <tr>\n",
       "      <th>3131</th>\n",
       "      <td>Кировоградская улица</td>\n",
       "      <td>110</td>\n",
       "      <td>ЮАО</td>\n",
       "      <td>Район Чертаново Южное</td>\n",
       "    </tr>\n",
       "    <tr>\n",
       "      <th>1280</th>\n",
       "      <td>Кутузовский проспект</td>\n",
       "      <td>49</td>\n",
       "      <td>ЗАО</td>\n",
       "      <td>Район Фили-Давыдково</td>\n",
       "    </tr>\n",
       "    <tr>\n",
       "      <th>1208</th>\n",
       "      <td>Кутузовский проспект</td>\n",
       "      <td>38</td>\n",
       "      <td>ЗАО</td>\n",
       "      <td>Район Дорогомилово</td>\n",
       "    </tr>\n",
       "    <tr>\n",
       "      <th>2150</th>\n",
       "      <td>Ленинградский проспект</td>\n",
       "      <td>66</td>\n",
       "      <td>САО</td>\n",
       "      <td>Район Сокол</td>\n",
       "    </tr>\n",
       "    <tr>\n",
       "      <th>1992</th>\n",
       "      <td>Ленинградский проспект</td>\n",
       "      <td>69</td>\n",
       "      <td>САО</td>\n",
       "      <td>Хорошевский район</td>\n",
       "    </tr>\n",
       "    <tr>\n",
       "      <th>1896</th>\n",
       "      <td>Ленинградский проспект</td>\n",
       "      <td>55</td>\n",
       "      <td>САО</td>\n",
       "      <td>Район Беговой</td>\n",
       "    </tr>\n",
       "    <tr>\n",
       "      <th>1857</th>\n",
       "      <td>Ленинградский проспект</td>\n",
       "      <td>54</td>\n",
       "      <td>САО</td>\n",
       "      <td>Район Аэропорт</td>\n",
       "    </tr>\n",
       "    <tr>\n",
       "      <th>3986</th>\n",
       "      <td>Ленинский проспект</td>\n",
       "      <td>129</td>\n",
       "      <td>ЮЗАО</td>\n",
       "      <td>Обручевский район</td>\n",
       "    </tr>\n",
       "    <tr>\n",
       "      <th>1602</th>\n",
       "      <td>Ленинский проспект</td>\n",
       "      <td>47</td>\n",
       "      <td>ЗАО</td>\n",
       "      <td>Район Тропарево-Никулино</td>\n",
       "    </tr>\n",
       "    <tr>\n",
       "      <th>4021</th>\n",
       "      <td>Ленинский проспект</td>\n",
       "      <td>131</td>\n",
       "      <td>ЮЗАО</td>\n",
       "      <td>Район Теплый Стан</td>\n",
       "    </tr>\n",
       "    <tr>\n",
       "      <th>1504</th>\n",
       "      <td>Ленинский проспект</td>\n",
       "      <td>44</td>\n",
       "      <td>ЗАО</td>\n",
       "      <td>Район Проспект Вернадского</td>\n",
       "    </tr>\n",
       "    <tr>\n",
       "      <th>4163</th>\n",
       "      <td>Ленинский проспект</td>\n",
       "      <td>21</td>\n",
       "      <td>ЦАО</td>\n",
       "      <td>Район Якиманка</td>\n",
       "    </tr>\n",
       "    <tr>\n",
       "      <th>3260</th>\n",
       "      <td>Ленинский проспект</td>\n",
       "      <td>99</td>\n",
       "      <td>ЮАО</td>\n",
       "      <td>Донской район</td>\n",
       "    </tr>\n",
       "    <tr>\n",
       "      <th>3973</th>\n",
       "      <td>Ленинский проспект</td>\n",
       "      <td>128</td>\n",
       "      <td>ЮЗАО</td>\n",
       "      <td>Ломоносовский район</td>\n",
       "    </tr>\n",
       "    <tr>\n",
       "      <th>3886</th>\n",
       "      <td>Ленинский проспект</td>\n",
       "      <td>124</td>\n",
       "      <td>ЮЗАО</td>\n",
       "      <td>Район Гагаринский</td>\n",
       "    </tr>\n",
       "    <tr>\n",
       "      <th>72</th>\n",
       "      <td>Пресненская набережная</td>\n",
       "      <td>17</td>\n",
       "      <td>ЦАО</td>\n",
       "      <td>Пресненский район</td>\n",
       "    </tr>\n",
       "    <tr>\n",
       "      <th>3845</th>\n",
       "      <td>Профсоюзная улица</td>\n",
       "      <td>123</td>\n",
       "      <td>ЮЗАО</td>\n",
       "      <td>Академический район</td>\n",
       "    </tr>\n",
       "    <tr>\n",
       "      <th>3867</th>\n",
       "      <td>Профсоюзная улица</td>\n",
       "      <td>132</td>\n",
       "      <td>ЮЗАО</td>\n",
       "      <td>Район Черемушки</td>\n",
       "    </tr>\n",
       "    <tr>\n",
       "      <th>4024</th>\n",
       "      <td>Профсоюзная улица</td>\n",
       "      <td>131</td>\n",
       "      <td>ЮЗАО</td>\n",
       "      <td>Район Теплый Стан</td>\n",
       "    </tr>\n",
       "    <tr>\n",
       "      <th>3916</th>\n",
       "      <td>Профсоюзная улица</td>\n",
       "      <td>134</td>\n",
       "      <td>ЮЗАО</td>\n",
       "      <td>Район Ясенево</td>\n",
       "    </tr>\n",
       "    <tr>\n",
       "      <th>3948</th>\n",
       "      <td>Профсоюзная улица</td>\n",
       "      <td>126</td>\n",
       "      <td>ЮЗАО</td>\n",
       "      <td>Район Коньково</td>\n",
       "    </tr>\n",
       "    <tr>\n",
       "      <th>3996</th>\n",
       "      <td>Профсоюзная улица</td>\n",
       "      <td>129</td>\n",
       "      <td>ЮЗАО</td>\n",
       "      <td>Обручевский район</td>\n",
       "    </tr>\n",
       "    <tr>\n",
       "      <th>3967</th>\n",
       "      <td>проспект Вернадского</td>\n",
       "      <td>128</td>\n",
       "      <td>ЮЗАО</td>\n",
       "      <td>Ломоносовский район</td>\n",
       "    </tr>\n",
       "    <tr>\n",
       "      <th>1501</th>\n",
       "      <td>проспект Вернадского</td>\n",
       "      <td>44</td>\n",
       "      <td>ЗАО</td>\n",
       "      <td>Район Проспект Вернадского</td>\n",
       "    </tr>\n",
       "    <tr>\n",
       "      <th>3878</th>\n",
       "      <td>проспект Вернадского</td>\n",
       "      <td>124</td>\n",
       "      <td>ЮЗАО</td>\n",
       "      <td>Район Гагаринский</td>\n",
       "    </tr>\n",
       "    <tr>\n",
       "      <th>1510</th>\n",
       "      <td>проспект Вернадского</td>\n",
       "      <td>45</td>\n",
       "      <td>ЗАО</td>\n",
       "      <td>Район Раменки</td>\n",
       "    </tr>\n",
       "    <tr>\n",
       "      <th>1598</th>\n",
       "      <td>проспект Вернадского</td>\n",
       "      <td>47</td>\n",
       "      <td>ЗАО</td>\n",
       "      <td>Район Тропарево-Никулино</td>\n",
       "    </tr>\n",
       "    <tr>\n",
       "      <th>2644</th>\n",
       "      <td>проспект Мира</td>\n",
       "      <td>81</td>\n",
       "      <td>СВАО</td>\n",
       "      <td>Район Ростокино</td>\n",
       "    </tr>\n",
       "    <tr>\n",
       "      <th>2390</th>\n",
       "      <td>проспект Мира</td>\n",
       "      <td>86</td>\n",
       "      <td>СВАО</td>\n",
       "      <td>Ярославский Район</td>\n",
       "    </tr>\n",
       "    <tr>\n",
       "      <th>2712</th>\n",
       "      <td>проспект Мира</td>\n",
       "      <td>82</td>\n",
       "      <td>СВАО</td>\n",
       "      <td>Район Свиблово</td>\n",
       "    </tr>\n",
       "    <tr>\n",
       "      <th>2531</th>\n",
       "      <td>проспект Мира</td>\n",
       "      <td>78</td>\n",
       "      <td>СВАО</td>\n",
       "      <td>Район Марьина роща</td>\n",
       "    </tr>\n",
       "    <tr>\n",
       "      <th>2578</th>\n",
       "      <td>проспект Мира</td>\n",
       "      <td>79</td>\n",
       "      <td>СВАО</td>\n",
       "      <td>Останкинский район</td>\n",
       "    </tr>\n",
       "    <tr>\n",
       "      <th>2293</th>\n",
       "      <td>проспект Мира</td>\n",
       "      <td>70</td>\n",
       "      <td>СВАО</td>\n",
       "      <td>Алексеевский район</td>\n",
       "    </tr>\n",
       "    <tr>\n",
       "      <th>4334</th>\n",
       "      <td>проспект Мира</td>\n",
       "      <td>16</td>\n",
       "      <td>ЦАО</td>\n",
       "      <td>Мещанский район</td>\n",
       "    </tr>\n",
       "  </tbody>\n",
       "</table>\n",
       "</div>"
      ],
      "text/plain": [
       "                  streetname  areaid okrug                             area\n",
       "3241        Варшавское шоссе      99   ЮАО                    Донской район\n",
       "4065        Варшавское шоссе     133  ЮЗАО               Район Южное Бутово\n",
       "3125        Варшавское шоссе     110   ЮАО            Район Чертаново Южное\n",
       "3999        Варшавское шоссе     130  ЮЗАО            Район Северное Бутово\n",
       "3117        Варшавское шоссе     108   ЮАО         Район Чертаново Северное\n",
       "3105        Варшавское шоссе     109   ЮАО      Район Чертаново Центральное\n",
       "3349        Варшавское шоссе     104   ЮАО                   Нагорный район\n",
       "3305        Варшавское шоссе     102   ЮАО         Район Нагатино-Садовники\n",
       "3308         Каширское шоссе     102   ЮАО         Район Нагатино-Садовники\n",
       "3292         Каширское шоссе     101   ЮАО       Район Москворечье-Сабурово\n",
       "3369         Каширское шоссе     106   ЮАО     Район Орехово-Борисово Южное\n",
       "3392         Каширское шоссе     105   ЮАО  Район Орехово-Борисово Северное\n",
       "3120    Кировоградская улица     108   ЮАО         Район Чертаново Северное\n",
       "3111    Кировоградская улица     109   ЮАО      Район Чертаново Центральное\n",
       "3131    Кировоградская улица     110   ЮАО            Район Чертаново Южное\n",
       "1280    Кутузовский проспект      49   ЗАО             Район Фили-Давыдково\n",
       "1208    Кутузовский проспект      38   ЗАО               Район Дорогомилово\n",
       "2150  Ленинградский проспект      66   САО                      Район Сокол\n",
       "1992  Ленинградский проспект      69   САО                Хорошевский район\n",
       "1896  Ленинградский проспект      55   САО                    Район Беговой\n",
       "1857  Ленинградский проспект      54   САО                   Район Аэропорт\n",
       "3986      Ленинский проспект     129  ЮЗАО                Обручевский район\n",
       "1602      Ленинский проспект      47   ЗАО         Район Тропарево-Никулино\n",
       "4021      Ленинский проспект     131  ЮЗАО                Район Теплый Стан\n",
       "1504      Ленинский проспект      44   ЗАО       Район Проспект Вернадского\n",
       "4163      Ленинский проспект      21   ЦАО                   Район Якиманка\n",
       "3260      Ленинский проспект      99   ЮАО                    Донской район\n",
       "3973      Ленинский проспект     128  ЮЗАО              Ломоносовский район\n",
       "3886      Ленинский проспект     124  ЮЗАО                Район Гагаринский\n",
       "72    Пресненская набережная      17   ЦАО                Пресненский район\n",
       "3845       Профсоюзная улица     123  ЮЗАО              Академический район\n",
       "3867       Профсоюзная улица     132  ЮЗАО                  Район Черемушки\n",
       "4024       Профсоюзная улица     131  ЮЗАО                Район Теплый Стан\n",
       "3916       Профсоюзная улица     134  ЮЗАО                    Район Ясенево\n",
       "3948       Профсоюзная улица     126  ЮЗАО                   Район Коньково\n",
       "3996       Профсоюзная улица     129  ЮЗАО                Обручевский район\n",
       "3967    проспект Вернадского     128  ЮЗАО              Ломоносовский район\n",
       "1501    проспект Вернадского      44   ЗАО       Район Проспект Вернадского\n",
       "3878    проспект Вернадского     124  ЮЗАО                Район Гагаринский\n",
       "1510    проспект Вернадского      45   ЗАО                    Район Раменки\n",
       "1598    проспект Вернадского      47   ЗАО         Район Тропарево-Никулино\n",
       "2644           проспект Мира      81  СВАО                  Район Ростокино\n",
       "2390           проспект Мира      86  СВАО                Ярославский Район\n",
       "2712           проспект Мира      82  СВАО                   Район Свиблово\n",
       "2531           проспект Мира      78  СВАО               Район Марьина роща\n",
       "2578           проспект Мира      79  СВАО               Останкинский район\n",
       "2293           проспект Мира      70  СВАО               Алексеевский район\n",
       "4334           проспект Мира      16   ЦАО                  Мещанский район"
      ]
     },
     "execution_count": 25,
     "metadata": {},
     "output_type": "execute_result"
    }
   ],
   "source": [
    "#посмотрим в каких районах лежат самые популярные по количеству объектов общепита улицы \n",
    "moscow_region.query('streetname in @top_street_moscow.street').sort_values(by='streetname')"
   ]
  },
  {
   "cell_type": "markdown",
   "metadata": {},
   "source": [
    "Как видим, самые популярные улицы очень длинные и располагаются в разных районах города Москва. Таким образом сделать вывод, о лучшем районе трудно сделать."
   ]
  },
  {
   "cell_type": "code",
   "execution_count": 26,
   "metadata": {},
   "outputs": [
    {
     "data": {
      "text/html": [
       "<div>\n",
       "<style scoped>\n",
       "    .dataframe tbody tr th:only-of-type {\n",
       "        vertical-align: middle;\n",
       "    }\n",
       "\n",
       "    .dataframe tbody tr th {\n",
       "        vertical-align: top;\n",
       "    }\n",
       "\n",
       "    .dataframe thead th {\n",
       "        text-align: right;\n",
       "    }\n",
       "</style>\n",
       "<table border=\"1\" class=\"dataframe\">\n",
       "  <thead>\n",
       "    <tr style=\"text-align: right;\">\n",
       "      <th></th>\n",
       "      <th>street</th>\n",
       "      <th>count_object</th>\n",
       "    </tr>\n",
       "  </thead>\n",
       "  <tbody>\n",
       "    <tr>\n",
       "      <th>1345</th>\n",
       "      <td>8-я улица Соколиной Горы</td>\n",
       "      <td>1</td>\n",
       "    </tr>\n",
       "    <tr>\n",
       "      <th>1346</th>\n",
       "      <td>улица Кошкина</td>\n",
       "      <td>1</td>\n",
       "    </tr>\n",
       "    <tr>\n",
       "      <th>1347</th>\n",
       "      <td>улица Константинова</td>\n",
       "      <td>1</td>\n",
       "    </tr>\n",
       "    <tr>\n",
       "      <th>1348</th>\n",
       "      <td>улица Инессы Арманд</td>\n",
       "      <td>1</td>\n",
       "    </tr>\n",
       "    <tr>\n",
       "      <th>1349</th>\n",
       "      <td>Андреево-Забелинская улица</td>\n",
       "      <td>1</td>\n",
       "    </tr>\n",
       "    <tr>\n",
       "      <th>...</th>\n",
       "      <td>...</td>\n",
       "      <td>...</td>\n",
       "    </tr>\n",
       "    <tr>\n",
       "      <th>1892</th>\n",
       "      <td>Зарайская улица</td>\n",
       "      <td>1</td>\n",
       "    </tr>\n",
       "    <tr>\n",
       "      <th>1893</th>\n",
       "      <td>Заводской проезд</td>\n",
       "      <td>1</td>\n",
       "    </tr>\n",
       "    <tr>\n",
       "      <th>1894</th>\n",
       "      <td>Юрловский проезд</td>\n",
       "      <td>1</td>\n",
       "    </tr>\n",
       "    <tr>\n",
       "      <th>1895</th>\n",
       "      <td>Жуков проезд</td>\n",
       "      <td>1</td>\n",
       "    </tr>\n",
       "    <tr>\n",
       "      <th>1896</th>\n",
       "      <td>Перовский проезд</td>\n",
       "      <td>1</td>\n",
       "    </tr>\n",
       "  </tbody>\n",
       "</table>\n",
       "<p>552 rows × 2 columns</p>\n",
       "</div>"
      ],
      "text/plain": [
       "                          street  count_object\n",
       "1345    8-я улица Соколиной Горы             1\n",
       "1346               улица Кошкина             1\n",
       "1347         улица Константинова             1\n",
       "1348         улица Инессы Арманд             1\n",
       "1349  Андреево-Забелинская улица             1\n",
       "...                          ...           ...\n",
       "1892             Зарайская улица             1\n",
       "1893            Заводской проезд             1\n",
       "1894            Юрловский проезд             1\n",
       "1895                Жуков проезд             1\n",
       "1896            Перовский проезд             1\n",
       "\n",
       "[552 rows x 2 columns]"
      ]
     },
     "metadata": {},
     "output_type": "display_data"
    }
   ],
   "source": [
    "#просмотрим улицы Москвы, на которых расположен только 1 объект\n",
    "untop_street_moscow=street_moscow.loc[street_moscow['count_object']==1]\n",
    "display(untop_street_moscow)"
   ]
  },
  {
   "cell_type": "code",
   "execution_count": 27,
   "metadata": {},
   "outputs": [
    {
     "data": {
      "text/plain": [
       "area\n",
       "Таганский район        27\n",
       "Район Хамовники        26\n",
       "Басманный район        25\n",
       "Тверской район         20\n",
       "Пресненский район      19\n",
       "Район Марьина роща     18\n",
       "Мещанский район        17\n",
       "Район Арбат            17\n",
       "Район Замоскворечье    14\n",
       "Район Лефортово        12\n",
       "Name: streetname, dtype: int64"
      ]
     },
     "execution_count": 27,
     "metadata": {},
     "output_type": "execute_result"
    }
   ],
   "source": [
    "#посмотрим в каких районах лежат  улицы, на которых расположено по 1 объекту общепита \n",
    "one=moscow_region.query('streetname in @untop_street_moscow.street').sort_values(by='streetname')\n",
    "one.groupby('area')['streetname'].count().sort_values(ascending=False).head(10)"
   ]
  },
  {
   "cell_type": "code",
   "execution_count": 28,
   "metadata": {},
   "outputs": [],
   "source": [
    "#Посмотрите на распределение количества посадочных мест для улиц с большим количеством объектов общественного питания."
   ]
  },
  {
   "cell_type": "code",
   "execution_count": 29,
   "metadata": {},
   "outputs": [
    {
     "name": "stderr",
     "output_type": "stream",
     "text": [
      "/opt/conda/lib/python3.9/site-packages/seaborn/distributions.py:2557: FutureWarning: `distplot` is a deprecated function and will be removed in a future version. Please adapt your code to use either `displot` (a figure-level function with similar flexibility) or `histplot` (an axes-level function for histograms).\n",
      "  warnings.warn(msg, FutureWarning)\n"
     ]
    },
    {
     "data": {
      "text/plain": [
       "<AxesSubplot:xlabel='number', ylabel='Density'>"
      ]
     },
     "execution_count": 29,
     "metadata": {},
     "output_type": "execute_result"
    },
    {
     "data": {
      "image/png": "[encoded data removed]",
      "text/plain": [
       "<Figure size 1224x1224 with 1 Axes>"
      ]
     },
     "metadata": {},
     "output_type": "display_data"
    }
   ],
   "source": [
    "data_moscow_top=data_moscow.query('street in @top_street_moscow.street')\n",
    "sns.distplot(data_moscow_top['number']) "
   ]
  },
  {
   "cell_type": "code",
   "execution_count": 30,
   "metadata": {},
   "outputs": [
    {
     "data": {
      "text/html": [
       "<div>\n",
       "<style scoped>\n",
       "    .dataframe tbody tr th:only-of-type {\n",
       "        vertical-align: middle;\n",
       "    }\n",
       "\n",
       "    .dataframe tbody tr th {\n",
       "        vertical-align: top;\n",
       "    }\n",
       "\n",
       "    .dataframe thead th {\n",
       "        text-align: right;\n",
       "    }\n",
       "</style>\n",
       "<table border=\"1\" class=\"dataframe\">\n",
       "  <thead>\n",
       "    <tr style=\"text-align: right;\">\n",
       "      <th></th>\n",
       "      <th>id</th>\n",
       "      <th>object_name</th>\n",
       "      <th>chain</th>\n",
       "      <th>object_type</th>\n",
       "      <th>address</th>\n",
       "      <th>number</th>\n",
       "      <th>street</th>\n",
       "    </tr>\n",
       "  </thead>\n",
       "  <tbody>\n",
       "    <tr>\n",
       "      <th>151</th>\n",
       "      <td>155973</td>\n",
       "      <td>Кафе «Андерсон»</td>\n",
       "      <td>да</td>\n",
       "      <td>кафе</td>\n",
       "      <td>город Москва, Варшавское шоссе, дом 2</td>\n",
       "      <td>150</td>\n",
       "      <td>Варшавское шоссе</td>\n",
       "    </tr>\n",
       "    <tr>\n",
       "      <th>152</th>\n",
       "      <td>23618</td>\n",
       "      <td>Кафе «Subway»</td>\n",
       "      <td>да</td>\n",
       "      <td>кафе</td>\n",
       "      <td>город Москва, Варшавское шоссе, дом 7, корпус 1</td>\n",
       "      <td>36</td>\n",
       "      <td>Варшавское шоссе</td>\n",
       "    </tr>\n",
       "    <tr>\n",
       "      <th>153</th>\n",
       "      <td>155852</td>\n",
       "      <td>Кафе «Ламаджо»</td>\n",
       "      <td>нет</td>\n",
       "      <td>кафе</td>\n",
       "      <td>город Москва, Варшавское шоссе, дом 29</td>\n",
       "      <td>30</td>\n",
       "      <td>Варшавское шоссе</td>\n",
       "    </tr>\n",
       "    <tr>\n",
       "      <th>154</th>\n",
       "      <td>152556</td>\n",
       "      <td>Шаурма в пите</td>\n",
       "      <td>нет</td>\n",
       "      <td>предприятие быстрого обслуживания</td>\n",
       "      <td>город Москва, Варшавское шоссе, дом 72, корпус 2</td>\n",
       "      <td>0</td>\n",
       "      <td>Варшавское шоссе</td>\n",
       "    </tr>\n",
       "    <tr>\n",
       "      <th>155</th>\n",
       "      <td>120658</td>\n",
       "      <td>Выпечка</td>\n",
       "      <td>нет</td>\n",
       "      <td>кафетерий</td>\n",
       "      <td>город Москва, Варшавское шоссе, дом 100</td>\n",
       "      <td>2</td>\n",
       "      <td>Варшавское шоссе</td>\n",
       "    </tr>\n",
       "    <tr>\n",
       "      <th>...</th>\n",
       "      <td>...</td>\n",
       "      <td>...</td>\n",
       "      <td>...</td>\n",
       "      <td>...</td>\n",
       "      <td>...</td>\n",
       "      <td>...</td>\n",
       "      <td>...</td>\n",
       "    </tr>\n",
       "    <tr>\n",
       "      <th>15308</th>\n",
       "      <td>213629</td>\n",
       "      <td>ДОДО пицца</td>\n",
       "      <td>да</td>\n",
       "      <td>кафе</td>\n",
       "      <td>город Москва, Пресненская набережная, дом 12</td>\n",
       "      <td>25</td>\n",
       "      <td>Пресненская набережная</td>\n",
       "    </tr>\n",
       "    <tr>\n",
       "      <th>15325</th>\n",
       "      <td>198436</td>\n",
       "      <td>Милти</td>\n",
       "      <td>да</td>\n",
       "      <td>предприятие быстрого обслуживания</td>\n",
       "      <td>город Москва, Ленинградский проспект, дом 80, ...</td>\n",
       "      <td>0</td>\n",
       "      <td>Ленинградский проспект</td>\n",
       "    </tr>\n",
       "    <tr>\n",
       "      <th>15347</th>\n",
       "      <td>222491</td>\n",
       "      <td>Кальянная «Мята Lounge»</td>\n",
       "      <td>да</td>\n",
       "      <td>кафе</td>\n",
       "      <td>город Москва, Профсоюзная улица, дом 142, корп...</td>\n",
       "      <td>40</td>\n",
       "      <td>Профсоюзная улица</td>\n",
       "    </tr>\n",
       "    <tr>\n",
       "      <th>15350</th>\n",
       "      <td>213061</td>\n",
       "      <td>Мята</td>\n",
       "      <td>да</td>\n",
       "      <td>кафетерий</td>\n",
       "      <td>город Москва, Каширское шоссе, дом 96, корпус 1</td>\n",
       "      <td>35</td>\n",
       "      <td>Каширское шоссе</td>\n",
       "    </tr>\n",
       "    <tr>\n",
       "      <th>15358</th>\n",
       "      <td>213724</td>\n",
       "      <td>Шоколадница</td>\n",
       "      <td>да</td>\n",
       "      <td>кафе</td>\n",
       "      <td>город Москва, Варшавское шоссе, дом 87Б</td>\n",
       "      <td>54</td>\n",
       "      <td>Варшавское шоссе</td>\n",
       "    </tr>\n",
       "  </tbody>\n",
       "</table>\n",
       "<p>1503 rows × 7 columns</p>\n",
       "</div>"
      ],
      "text/plain": [
       "           id              object_name chain  \\\n",
       "151    155973          Кафе «Андерсон»    да   \n",
       "152     23618            Кафе «Subway»    да   \n",
       "153    155852           Кафе «Ламаджо»   нет   \n",
       "154    152556            Шаурма в пите   нет   \n",
       "155    120658                  Выпечка   нет   \n",
       "...       ...                      ...   ...   \n",
       "15308  213629               ДОДО пицца    да   \n",
       "15325  198436                    Милти    да   \n",
       "15347  222491  Кальянная «Мята Lounge»    да   \n",
       "15350  213061                     Мята    да   \n",
       "15358  213724              Шоколадница    да   \n",
       "\n",
       "                             object_type  \\\n",
       "151                                 кафе   \n",
       "152                                 кафе   \n",
       "153                                 кафе   \n",
       "154    предприятие быстрого обслуживания   \n",
       "155                            кафетерий   \n",
       "...                                  ...   \n",
       "15308                               кафе   \n",
       "15325  предприятие быстрого обслуживания   \n",
       "15347                               кафе   \n",
       "15350                          кафетерий   \n",
       "15358                               кафе   \n",
       "\n",
       "                                                 address  number  \\\n",
       "151                город Москва, Варшавское шоссе, дом 2     150   \n",
       "152      город Москва, Варшавское шоссе, дом 7, корпус 1      36   \n",
       "153               город Москва, Варшавское шоссе, дом 29      30   \n",
       "154     город Москва, Варшавское шоссе, дом 72, корпус 2       0   \n",
       "155              город Москва, Варшавское шоссе, дом 100       2   \n",
       "...                                                  ...     ...   \n",
       "15308       город Москва, Пресненская набережная, дом 12      25   \n",
       "15325  город Москва, Ленинградский проспект, дом 80, ...       0   \n",
       "15347  город Москва, Профсоюзная улица, дом 142, корп...      40   \n",
       "15350    город Москва, Каширское шоссе, дом 96, корпус 1      35   \n",
       "15358            город Москва, Варшавское шоссе, дом 87Б      54   \n",
       "\n",
       "                       street  \n",
       "151          Варшавское шоссе  \n",
       "152          Варшавское шоссе  \n",
       "153          Варшавское шоссе  \n",
       "154          Варшавское шоссе  \n",
       "155          Варшавское шоссе  \n",
       "...                       ...  \n",
       "15308  Пресненская набережная  \n",
       "15325  Ленинградский проспект  \n",
       "15347       Профсоюзная улица  \n",
       "15350         Каширское шоссе  \n",
       "15358        Варшавское шоссе  \n",
       "\n",
       "[1503 rows x 7 columns]"
      ]
     },
     "metadata": {},
     "output_type": "display_data"
    }
   ],
   "source": [
    "display(data_moscow_top)"
   ]
  },
  {
   "cell_type": "code",
   "execution_count": 31,
   "metadata": {},
   "outputs": [
    {
     "data": {
      "text/html": [
       "<div>\n",
       "<style scoped>\n",
       "    .dataframe tbody tr th:only-of-type {\n",
       "        vertical-align: middle;\n",
       "    }\n",
       "\n",
       "    .dataframe tbody tr th {\n",
       "        vertical-align: top;\n",
       "    }\n",
       "\n",
       "    .dataframe thead th {\n",
       "        text-align: right;\n",
       "    }\n",
       "</style>\n",
       "<table border=\"1\" class=\"dataframe\">\n",
       "  <thead>\n",
       "    <tr style=\"text-align: right;\">\n",
       "      <th></th>\n",
       "      <th>id</th>\n",
       "      <th>object_name</th>\n",
       "      <th>chain</th>\n",
       "      <th>object_type</th>\n",
       "      <th>address</th>\n",
       "      <th>number</th>\n",
       "      <th>street</th>\n",
       "    </tr>\n",
       "  </thead>\n",
       "  <tbody>\n",
       "    <tr>\n",
       "      <th>154</th>\n",
       "      <td>152556</td>\n",
       "      <td>Шаурма в пите</td>\n",
       "      <td>нет</td>\n",
       "      <td>предприятие быстрого обслуживания</td>\n",
       "      <td>город Москва, Варшавское шоссе, дом 72, корпус 2</td>\n",
       "      <td>0</td>\n",
       "      <td>Варшавское шоссе</td>\n",
       "    </tr>\n",
       "    <tr>\n",
       "      <th>582</th>\n",
       "      <td>80848</td>\n",
       "      <td>Шаурма</td>\n",
       "      <td>нет</td>\n",
       "      <td>предприятие быстрого обслуживания</td>\n",
       "      <td>город Москва, Ленинский проспект, дом 2А</td>\n",
       "      <td>0</td>\n",
       "      <td>Ленинский проспект</td>\n",
       "    </tr>\n",
       "    <tr>\n",
       "      <th>702</th>\n",
       "      <td>153638</td>\n",
       "      <td>Босс-кулинария</td>\n",
       "      <td>нет</td>\n",
       "      <td>магазин (отдел кулинарии)</td>\n",
       "      <td>город Москва, проспект Мира, дом 114Б</td>\n",
       "      <td>0</td>\n",
       "      <td>проспект Мира</td>\n",
       "    </tr>\n",
       "    <tr>\n",
       "      <th>938</th>\n",
       "      <td>154596</td>\n",
       "      <td>СтардогS</td>\n",
       "      <td>да</td>\n",
       "      <td>предприятие быстрого обслуживания</td>\n",
       "      <td>город Москва, Профсоюзная улица, дом 2/22</td>\n",
       "      <td>0</td>\n",
       "      <td>Профсоюзная улица</td>\n",
       "    </tr>\n",
       "    <tr>\n",
       "      <th>1709</th>\n",
       "      <td>154848</td>\n",
       "      <td>«ИП» Шацкая Е.М</td>\n",
       "      <td>нет</td>\n",
       "      <td>предприятие быстрого обслуживания</td>\n",
       "      <td>город Москва, Профсоюзная улица, дом 25, корпус 1</td>\n",
       "      <td>0</td>\n",
       "      <td>Профсоюзная улица</td>\n",
       "    </tr>\n",
       "    <tr>\n",
       "      <th>...</th>\n",
       "      <td>...</td>\n",
       "      <td>...</td>\n",
       "      <td>...</td>\n",
       "      <td>...</td>\n",
       "      <td>...</td>\n",
       "      <td>...</td>\n",
       "      <td>...</td>\n",
       "    </tr>\n",
       "    <tr>\n",
       "      <th>15263</th>\n",
       "      <td>211466</td>\n",
       "      <td>Милти</td>\n",
       "      <td>да</td>\n",
       "      <td>предприятие быстрого обслуживания</td>\n",
       "      <td>город Москва, Ленинградский проспект, дом 31А,...</td>\n",
       "      <td>0</td>\n",
       "      <td>Ленинградский проспект</td>\n",
       "    </tr>\n",
       "    <tr>\n",
       "      <th>15266</th>\n",
       "      <td>211232</td>\n",
       "      <td>Предприятие быстрого обслуживания «Милти»</td>\n",
       "      <td>да</td>\n",
       "      <td>предприятие быстрого обслуживания</td>\n",
       "      <td>город Москва, Кировоградская улица, дом 14</td>\n",
       "      <td>0</td>\n",
       "      <td>Кировоградская улица</td>\n",
       "    </tr>\n",
       "    <tr>\n",
       "      <th>15292</th>\n",
       "      <td>218390</td>\n",
       "      <td>Милти</td>\n",
       "      <td>да</td>\n",
       "      <td>закусочная</td>\n",
       "      <td>город Москва, Кутузовский проспект, дом 36, ст...</td>\n",
       "      <td>0</td>\n",
       "      <td>Кутузовский проспект</td>\n",
       "    </tr>\n",
       "    <tr>\n",
       "      <th>15293</th>\n",
       "      <td>218439</td>\n",
       "      <td>Милти</td>\n",
       "      <td>да</td>\n",
       "      <td>закусочная</td>\n",
       "      <td>город Москва, Кутузовский проспект, дом 36, ст...</td>\n",
       "      <td>0</td>\n",
       "      <td>Кутузовский проспект</td>\n",
       "    </tr>\n",
       "    <tr>\n",
       "      <th>15325</th>\n",
       "      <td>198436</td>\n",
       "      <td>Милти</td>\n",
       "      <td>да</td>\n",
       "      <td>предприятие быстрого обслуживания</td>\n",
       "      <td>город Москва, Ленинградский проспект, дом 80, ...</td>\n",
       "      <td>0</td>\n",
       "      <td>Ленинградский проспект</td>\n",
       "    </tr>\n",
       "  </tbody>\n",
       "</table>\n",
       "<p>164 rows × 7 columns</p>\n",
       "</div>"
      ],
      "text/plain": [
       "           id                                object_name chain  \\\n",
       "154    152556                              Шаурма в пите   нет   \n",
       "582     80848                                     Шаурма   нет   \n",
       "702    153638                             Босс-кулинария   нет   \n",
       "938    154596                                   СтардогS    да   \n",
       "1709   154848                            «ИП» Шацкая Е.М   нет   \n",
       "...       ...                                        ...   ...   \n",
       "15263  211466                                      Милти    да   \n",
       "15266  211232  Предприятие быстрого обслуживания «Милти»    да   \n",
       "15292  218390                                      Милти    да   \n",
       "15293  218439                                      Милти    да   \n",
       "15325  198436                                      Милти    да   \n",
       "\n",
       "                             object_type  \\\n",
       "154    предприятие быстрого обслуживания   \n",
       "582    предприятие быстрого обслуживания   \n",
       "702            магазин (отдел кулинарии)   \n",
       "938    предприятие быстрого обслуживания   \n",
       "1709   предприятие быстрого обслуживания   \n",
       "...                                  ...   \n",
       "15263  предприятие быстрого обслуживания   \n",
       "15266  предприятие быстрого обслуживания   \n",
       "15292                         закусочная   \n",
       "15293                         закусочная   \n",
       "15325  предприятие быстрого обслуживания   \n",
       "\n",
       "                                                 address  number  \\\n",
       "154     город Москва, Варшавское шоссе, дом 72, корпус 2       0   \n",
       "582             город Москва, Ленинский проспект, дом 2А       0   \n",
       "702                город Москва, проспект Мира, дом 114Б       0   \n",
       "938            город Москва, Профсоюзная улица, дом 2/22       0   \n",
       "1709   город Москва, Профсоюзная улица, дом 25, корпус 1       0   \n",
       "...                                                  ...     ...   \n",
       "15263  город Москва, Ленинградский проспект, дом 31А,...       0   \n",
       "15266         город Москва, Кировоградская улица, дом 14       0   \n",
       "15292  город Москва, Кутузовский проспект, дом 36, ст...       0   \n",
       "15293  город Москва, Кутузовский проспект, дом 36, ст...       0   \n",
       "15325  город Москва, Ленинградский проспект, дом 80, ...       0   \n",
       "\n",
       "                       street  \n",
       "154          Варшавское шоссе  \n",
       "582        Ленинский проспект  \n",
       "702             проспект Мира  \n",
       "938         Профсоюзная улица  \n",
       "1709        Профсоюзная улица  \n",
       "...                       ...  \n",
       "15263  Ленинградский проспект  \n",
       "15266    Кировоградская улица  \n",
       "15292    Кутузовский проспект  \n",
       "15293    Кутузовский проспект  \n",
       "15325  Ленинградский проспект  \n",
       "\n",
       "[164 rows x 7 columns]"
      ]
     },
     "execution_count": 31,
     "metadata": {},
     "output_type": "execute_result"
    }
   ],
   "source": [
    "data_moscow_top.loc[data_moscow_top['number']==0]"
   ]
  },
  {
   "cell_type": "code",
   "execution_count": 32,
   "metadata": {},
   "outputs": [
    {
     "data": {
      "text/html": [
       "<div>\n",
       "<style scoped>\n",
       "    .dataframe tbody tr th:only-of-type {\n",
       "        vertical-align: middle;\n",
       "    }\n",
       "\n",
       "    .dataframe tbody tr th {\n",
       "        vertical-align: top;\n",
       "    }\n",
       "\n",
       "    .dataframe thead th {\n",
       "        text-align: right;\n",
       "    }\n",
       "</style>\n",
       "<table border=\"1\" class=\"dataframe\">\n",
       "  <thead>\n",
       "    <tr style=\"text-align: right;\">\n",
       "      <th></th>\n",
       "      <th>id</th>\n",
       "      <th>object_name</th>\n",
       "      <th>chain</th>\n",
       "      <th>object_type</th>\n",
       "      <th>address</th>\n",
       "      <th>number</th>\n",
       "      <th>street</th>\n",
       "    </tr>\n",
       "  </thead>\n",
       "  <tbody>\n",
       "    <tr>\n",
       "      <th>154</th>\n",
       "      <td>152556</td>\n",
       "      <td>Шаурма в пите</td>\n",
       "      <td>нет</td>\n",
       "      <td>предприятие быстрого обслуживания</td>\n",
       "      <td>город Москва, Варшавское шоссе, дом 72, корпус 2</td>\n",
       "      <td>0</td>\n",
       "      <td>Варшавское шоссе</td>\n",
       "    </tr>\n",
       "    <tr>\n",
       "      <th>155</th>\n",
       "      <td>120658</td>\n",
       "      <td>Выпечка</td>\n",
       "      <td>нет</td>\n",
       "      <td>кафетерий</td>\n",
       "      <td>город Москва, Варшавское шоссе, дом 100</td>\n",
       "      <td>2</td>\n",
       "      <td>Варшавское шоссе</td>\n",
       "    </tr>\n",
       "    <tr>\n",
       "      <th>166</th>\n",
       "      <td>148853</td>\n",
       "      <td>Кафе контдитерская Кузина</td>\n",
       "      <td>нет</td>\n",
       "      <td>кафе</td>\n",
       "      <td>город Москва, проспект Вернадского, дом 11/19</td>\n",
       "      <td>5</td>\n",
       "      <td>проспект Вернадского</td>\n",
       "    </tr>\n",
       "    <tr>\n",
       "      <th>167</th>\n",
       "      <td>149149</td>\n",
       "      <td>Суши WoK</td>\n",
       "      <td>да</td>\n",
       "      <td>кафе</td>\n",
       "      <td>город Москва, проспект Вернадского, дом 11/19</td>\n",
       "      <td>8</td>\n",
       "      <td>проспект Вернадского</td>\n",
       "    </tr>\n",
       "    <tr>\n",
       "      <th>168</th>\n",
       "      <td>128511</td>\n",
       "      <td>Аморе</td>\n",
       "      <td>нет</td>\n",
       "      <td>кафе</td>\n",
       "      <td>город Москва, проспект Вернадского, дом 11/19</td>\n",
       "      <td>10</td>\n",
       "      <td>проспект Вернадского</td>\n",
       "    </tr>\n",
       "    <tr>\n",
       "      <th>...</th>\n",
       "      <td>...</td>\n",
       "      <td>...</td>\n",
       "      <td>...</td>\n",
       "      <td>...</td>\n",
       "      <td>...</td>\n",
       "      <td>...</td>\n",
       "      <td>...</td>\n",
       "    </tr>\n",
       "    <tr>\n",
       "      <th>15266</th>\n",
       "      <td>211232</td>\n",
       "      <td>Предприятие быстрого обслуживания «Милти»</td>\n",
       "      <td>да</td>\n",
       "      <td>предприятие быстрого обслуживания</td>\n",
       "      <td>город Москва, Кировоградская улица, дом 14</td>\n",
       "      <td>0</td>\n",
       "      <td>Кировоградская улица</td>\n",
       "    </tr>\n",
       "    <tr>\n",
       "      <th>15270</th>\n",
       "      <td>205523</td>\n",
       "      <td>Милти</td>\n",
       "      <td>да</td>\n",
       "      <td>предприятие быстрого обслуживания</td>\n",
       "      <td>город Москва, Варшавское шоссе, дом 26, строен...</td>\n",
       "      <td>2</td>\n",
       "      <td>Варшавское шоссе</td>\n",
       "    </tr>\n",
       "    <tr>\n",
       "      <th>15292</th>\n",
       "      <td>218390</td>\n",
       "      <td>Милти</td>\n",
       "      <td>да</td>\n",
       "      <td>закусочная</td>\n",
       "      <td>город Москва, Кутузовский проспект, дом 36, ст...</td>\n",
       "      <td>0</td>\n",
       "      <td>Кутузовский проспект</td>\n",
       "    </tr>\n",
       "    <tr>\n",
       "      <th>15293</th>\n",
       "      <td>218439</td>\n",
       "      <td>Милти</td>\n",
       "      <td>да</td>\n",
       "      <td>закусочная</td>\n",
       "      <td>город Москва, Кутузовский проспект, дом 36, ст...</td>\n",
       "      <td>0</td>\n",
       "      <td>Кутузовский проспект</td>\n",
       "    </tr>\n",
       "    <tr>\n",
       "      <th>15325</th>\n",
       "      <td>198436</td>\n",
       "      <td>Милти</td>\n",
       "      <td>да</td>\n",
       "      <td>предприятие быстрого обслуживания</td>\n",
       "      <td>город Москва, Ленинградский проспект, дом 80, ...</td>\n",
       "      <td>0</td>\n",
       "      <td>Ленинградский проспект</td>\n",
       "    </tr>\n",
       "  </tbody>\n",
       "</table>\n",
       "<p>456 rows × 7 columns</p>\n",
       "</div>"
      ],
      "text/plain": [
       "           id                                object_name chain  \\\n",
       "154    152556                              Шаурма в пите   нет   \n",
       "155    120658                                    Выпечка   нет   \n",
       "166    148853                  Кафе контдитерская Кузина   нет   \n",
       "167    149149                                   Суши WoK    да   \n",
       "168    128511                                      Аморе   нет   \n",
       "...       ...                                        ...   ...   \n",
       "15266  211232  Предприятие быстрого обслуживания «Милти»    да   \n",
       "15270  205523                                      Милти    да   \n",
       "15292  218390                                      Милти    да   \n",
       "15293  218439                                      Милти    да   \n",
       "15325  198436                                      Милти    да   \n",
       "\n",
       "                             object_type  \\\n",
       "154    предприятие быстрого обслуживания   \n",
       "155                            кафетерий   \n",
       "166                                 кафе   \n",
       "167                                 кафе   \n",
       "168                                 кафе   \n",
       "...                                  ...   \n",
       "15266  предприятие быстрого обслуживания   \n",
       "15270  предприятие быстрого обслуживания   \n",
       "15292                         закусочная   \n",
       "15293                         закусочная   \n",
       "15325  предприятие быстрого обслуживания   \n",
       "\n",
       "                                                 address  number  \\\n",
       "154     город Москва, Варшавское шоссе, дом 72, корпус 2       0   \n",
       "155              город Москва, Варшавское шоссе, дом 100       2   \n",
       "166        город Москва, проспект Вернадского, дом 11/19       5   \n",
       "167        город Москва, проспект Вернадского, дом 11/19       8   \n",
       "168        город Москва, проспект Вернадского, дом 11/19      10   \n",
       "...                                                  ...     ...   \n",
       "15266         город Москва, Кировоградская улица, дом 14       0   \n",
       "15270  город Москва, Варшавское шоссе, дом 26, строен...       2   \n",
       "15292  город Москва, Кутузовский проспект, дом 36, ст...       0   \n",
       "15293  город Москва, Кутузовский проспект, дом 36, ст...       0   \n",
       "15325  город Москва, Ленинградский проспект, дом 80, ...       0   \n",
       "\n",
       "                       street  \n",
       "154          Варшавское шоссе  \n",
       "155          Варшавское шоссе  \n",
       "166      проспект Вернадского  \n",
       "167      проспект Вернадского  \n",
       "168      проспект Вернадского  \n",
       "...                       ...  \n",
       "15266    Кировоградская улица  \n",
       "15270        Варшавское шоссе  \n",
       "15292    Кутузовский проспект  \n",
       "15293    Кутузовский проспект  \n",
       "15325  Ленинградский проспект  \n",
       "\n",
       "[456 rows x 7 columns]"
      ]
     },
     "execution_count": 32,
     "metadata": {},
     "output_type": "execute_result"
    }
   ],
   "source": [
    "data_moscow_top.loc[data_moscow_top['number']<20]"
   ]
  },
  {
   "cell_type": "markdown",
   "metadata": {},
   "source": [
    "Анализируя количество посадочных мест в заведениях на самых популярных улицах Москвы, можно сделать вывод, что практически 1/3 заведений имеет количество посадочных мест меньше 20, в том числе 164 объекта (10 процентов) вообще не имеют посадочных мест."
   ]
  },
  {
   "cell_type": "markdown",
   "metadata": {},
   "source": [
    "## Общий вывод"
   ]
  },
  {
   "cell_type": "markdown",
   "metadata": {},
   "source": [
    "Анализируя данные об объектах общественного питания, получаем следующие выводы:\n",
    "\n",
    "    - Самыми популярными видами объектов общественного питания является кафе, за ним столовая, ресторан и предприятие быстрого обслуживания.\n",
    "    - Большинство объектов не являются сетевыми.\n",
    "    - В первую очередь для предприятий быстрого обслуживания характерно сетевое обслуживание, а также для отделов кулинарии.\n",
    "    - Для сетевых заведений характерно мало заведений с большим количеством посадочных мест\n",
    "    - Самое большое среднее количество посадочных мест у заведений типа столовых (103) и ресторанов(80). Отсутствуют посадочные места в закусочных и магазинов(отделы кулинарии)\n",
    "    - В тройку самых популярных улиц города Москва для размещения объектов общепита являются проспект Мира, Профсоюзная улица, Ленинградский проспект. Однако выделить отдельный популярный район нет возможности, так как улицы очень длинные и пересекают несколько районов.\n",
    "    - Самыми непопулярными районами можно назвать  Таганский район, район Хамовники, Басманный район\n",
    "    - Анализируя количество посадочных мест в заведениях на самых популярных улицах Москвы, можно сделать вывод, что практически 1/3 заведений имеет количество посадочных мест меньше 20, в том числе 164 объекта (10 процентов) вообще не имеют посадочных мест.\n",
    "    "
   ]
  },
  {
   "cell_type": "markdown",
   "metadata": {},
   "source": [
    "Рекомендации заказчику:\n",
    "\n",
    "Для реализации проекта по открытию робот-кафе следует рассмотреть возможность открытия такого типа общественного объекта как кафе, возможно столовая, но с небольним количеством посадочных мест. Для размещения кафе обратить внимание на такие улицы как проспект Мира, Профсоюзная улица, Ленинградский проспект. Не учитывать в размещении Таганский район, район Хамовники, Басманный район."
   ]
  }
 ],
 "metadata": {
  "ExecuteTimeLog": [
   {
    "duration": 421,
    "start_time": "2022-04-16T06:04:50.590Z"
   },
   {
    "duration": 58,
    "start_time": "2022-04-16T06:05:08.611Z"
   },
   {
    "duration": 14,
    "start_time": "2022-04-16T06:05:15.024Z"
   },
   {
    "duration": 61,
    "start_time": "2022-04-16T06:05:26.980Z"
   },
   {
    "duration": 66,
    "start_time": "2022-04-16T06:06:27.040Z"
   },
   {
    "duration": 28,
    "start_time": "2022-04-16T06:08:29.808Z"
   },
   {
    "duration": 9,
    "start_time": "2022-04-16T10:14:43.008Z"
   },
   {
    "duration": 41,
    "start_time": "2022-04-16T10:35:42.861Z"
   },
   {
    "duration": 335,
    "start_time": "2022-04-16T10:35:48.607Z"
   },
   {
    "duration": 83,
    "start_time": "2022-04-16T10:35:49.592Z"
   },
   {
    "duration": 13,
    "start_time": "2022-04-16T10:35:50.440Z"
   },
   {
    "duration": 24,
    "start_time": "2022-04-16T10:35:51.169Z"
   },
   {
    "duration": 5,
    "start_time": "2022-04-16T10:35:54.360Z"
   },
   {
    "duration": 5,
    "start_time": "2022-04-16T10:36:23.465Z"
   },
   {
    "duration": 4,
    "start_time": "2022-04-16T10:36:34.369Z"
   },
   {
    "duration": 3,
    "start_time": "2022-04-16T10:36:39.732Z"
   },
   {
    "duration": 29,
    "start_time": "2022-04-16T10:38:40.828Z"
   },
   {
    "duration": 7,
    "start_time": "2022-04-16T10:39:35.963Z"
   },
   {
    "duration": 6,
    "start_time": "2022-04-16T10:42:39.851Z"
   },
   {
    "duration": 4,
    "start_time": "2022-04-16T10:43:14.378Z"
   },
   {
    "duration": 6,
    "start_time": "2022-04-16T10:43:25.510Z"
   },
   {
    "duration": 6,
    "start_time": "2022-04-16T10:43:34.738Z"
   },
   {
    "duration": 3,
    "start_time": "2022-04-16T10:43:40.170Z"
   },
   {
    "duration": 4,
    "start_time": "2022-04-16T10:45:10.017Z"
   },
   {
    "duration": 5,
    "start_time": "2022-04-16T10:45:14.737Z"
   },
   {
    "duration": 5,
    "start_time": "2022-04-16T10:45:22.937Z"
   },
   {
    "duration": 4,
    "start_time": "2022-04-16T10:45:26.550Z"
   },
   {
    "duration": 16,
    "start_time": "2022-04-16T11:41:27.287Z"
   },
   {
    "duration": 13,
    "start_time": "2022-04-16T11:41:39.847Z"
   },
   {
    "duration": 11,
    "start_time": "2022-04-16T11:43:37.136Z"
   },
   {
    "duration": 4,
    "start_time": "2022-04-16T11:43:44.807Z"
   },
   {
    "duration": 7,
    "start_time": "2022-04-16T11:43:52.827Z"
   },
   {
    "duration": 12,
    "start_time": "2022-04-16T11:44:42.088Z"
   },
   {
    "duration": 115,
    "start_time": "2022-04-16T11:52:08.425Z"
   },
   {
    "duration": 13,
    "start_time": "2022-04-16T11:56:09.627Z"
   },
   {
    "duration": 9,
    "start_time": "2022-04-16T11:57:03.038Z"
   },
   {
    "duration": 7,
    "start_time": "2022-04-16T11:59:51.886Z"
   },
   {
    "duration": 17,
    "start_time": "2022-04-16T12:00:46.185Z"
   },
   {
    "duration": 11,
    "start_time": "2022-04-16T12:02:12.198Z"
   },
   {
    "duration": 10,
    "start_time": "2022-04-16T12:02:58.298Z"
   },
   {
    "duration": 14,
    "start_time": "2022-04-16T12:03:08.319Z"
   },
   {
    "duration": 15,
    "start_time": "2022-04-16T12:05:24.384Z"
   },
   {
    "duration": 14,
    "start_time": "2022-04-16T12:05:39.466Z"
   },
   {
    "duration": 8,
    "start_time": "2022-04-16T12:09:39.886Z"
   },
   {
    "duration": 4,
    "start_time": "2022-04-16T12:09:45.334Z"
   },
   {
    "duration": 58,
    "start_time": "2022-04-16T12:09:46.358Z"
   },
   {
    "duration": 12,
    "start_time": "2022-04-16T12:09:46.838Z"
   },
   {
    "duration": 9,
    "start_time": "2022-04-16T12:09:49.234Z"
   },
   {
    "duration": 14,
    "start_time": "2022-04-16T12:09:50.434Z"
   },
   {
    "duration": 1734,
    "start_time": "2022-04-16T12:09:51.528Z"
   },
   {
    "duration": 1718,
    "start_time": "2022-04-16T12:10:05.558Z"
   },
   {
    "duration": 16,
    "start_time": "2022-04-16T12:10:27.850Z"
   },
   {
    "duration": 1743,
    "start_time": "2022-04-16T12:10:30.698Z"
   },
   {
    "duration": 1777,
    "start_time": "2022-04-16T12:12:46.560Z"
   },
   {
    "duration": 19,
    "start_time": "2022-04-16T12:13:12.237Z"
   },
   {
    "duration": 1817,
    "start_time": "2022-04-16T12:13:18.110Z"
   },
   {
    "duration": 15,
    "start_time": "2022-04-16T12:13:59.364Z"
   },
   {
    "duration": 16,
    "start_time": "2022-04-16T12:14:09.288Z"
   },
   {
    "duration": 14,
    "start_time": "2022-04-16T12:14:13.809Z"
   },
   {
    "duration": 15,
    "start_time": "2022-04-16T12:14:20.720Z"
   },
   {
    "duration": 1669,
    "start_time": "2022-04-16T12:14:30.521Z"
   },
   {
    "duration": 381,
    "start_time": "2022-04-16T12:16:11.531Z"
   },
   {
    "duration": 465,
    "start_time": "2022-04-16T12:16:27.491Z"
   },
   {
    "duration": 3,
    "start_time": "2022-04-16T12:16:42.036Z"
   },
   {
    "duration": 60,
    "start_time": "2022-04-16T12:16:51.424Z"
   },
   {
    "duration": 13,
    "start_time": "2022-04-16T12:16:58.124Z"
   },
   {
    "duration": 17,
    "start_time": "2022-04-16T12:17:02.641Z"
   },
   {
    "duration": 1884,
    "start_time": "2022-04-16T12:17:04.185Z"
   },
   {
    "duration": 1753,
    "start_time": "2022-04-16T12:17:15.284Z"
   },
   {
    "duration": 15,
    "start_time": "2022-04-16T12:23:03.597Z"
   },
   {
    "duration": 19,
    "start_time": "2022-04-16T12:23:16.531Z"
   },
   {
    "duration": 16,
    "start_time": "2022-04-16T12:23:20.559Z"
   },
   {
    "duration": 14,
    "start_time": "2022-04-16T12:23:27.295Z"
   },
   {
    "duration": 13,
    "start_time": "2022-04-16T12:23:29.368Z"
   },
   {
    "duration": 9,
    "start_time": "2022-04-16T12:23:29.907Z"
   },
   {
    "duration": 111,
    "start_time": "2022-04-16T12:23:57.975Z"
   },
   {
    "duration": 15,
    "start_time": "2022-04-16T12:24:24.595Z"
   },
   {
    "duration": 100,
    "start_time": "2022-04-16T12:24:38.312Z"
   },
   {
    "duration": 121,
    "start_time": "2022-04-16T12:25:26.455Z"
   },
   {
    "duration": 18,
    "start_time": "2022-04-16T12:31:32.076Z"
   },
   {
    "duration": 13,
    "start_time": "2022-04-16T12:31:47.197Z"
   },
   {
    "duration": 68,
    "start_time": "2022-04-16T12:32:07.576Z"
   },
   {
    "duration": 5,
    "start_time": "2022-04-16T12:36:50.616Z"
   },
   {
    "duration": 15,
    "start_time": "2022-04-16T12:36:59.815Z"
   },
   {
    "duration": 6,
    "start_time": "2022-04-16T12:37:20.956Z"
   },
   {
    "duration": 7,
    "start_time": "2022-04-16T12:37:54.576Z"
   },
   {
    "duration": 14,
    "start_time": "2022-04-16T12:39:04.556Z"
   },
   {
    "duration": 9,
    "start_time": "2022-04-16T12:39:25.308Z"
   },
   {
    "duration": 9,
    "start_time": "2022-04-16T12:39:35.840Z"
   },
   {
    "duration": 9,
    "start_time": "2022-04-16T12:39:53.812Z"
   },
   {
    "duration": 7,
    "start_time": "2022-04-16T12:40:06.156Z"
   },
   {
    "duration": 9,
    "start_time": "2022-04-16T12:40:10.956Z"
   },
   {
    "duration": 9,
    "start_time": "2022-04-16T12:40:20.836Z"
   },
   {
    "duration": 9,
    "start_time": "2022-04-16T12:41:14.936Z"
   },
   {
    "duration": 8,
    "start_time": "2022-04-16T12:41:27.856Z"
   },
   {
    "duration": 9,
    "start_time": "2022-04-16T12:43:01.375Z"
   },
   {
    "duration": 12,
    "start_time": "2022-04-16T12:44:56.527Z"
   },
   {
    "duration": 9,
    "start_time": "2022-04-16T12:46:14.097Z"
   },
   {
    "duration": 3,
    "start_time": "2022-04-16T12:46:28.759Z"
   },
   {
    "duration": 181,
    "start_time": "2022-04-16T12:46:32.831Z"
   },
   {
    "duration": 137,
    "start_time": "2022-04-16T12:48:08.632Z"
   },
   {
    "duration": 125,
    "start_time": "2022-04-16T12:48:23.824Z"
   },
   {
    "duration": 252,
    "start_time": "2022-04-16T12:48:31.430Z"
   },
   {
    "duration": 12,
    "start_time": "2022-04-16T12:49:54.292Z"
   },
   {
    "duration": 7,
    "start_time": "2022-04-16T14:07:18.145Z"
   },
   {
    "duration": 7,
    "start_time": "2022-04-16T15:43:04.030Z"
   },
   {
    "duration": 7,
    "start_time": "2022-04-16T15:43:15.254Z"
   },
   {
    "duration": 8,
    "start_time": "2022-04-16T15:44:48.783Z"
   },
   {
    "duration": 9,
    "start_time": "2022-04-16T15:44:55.303Z"
   },
   {
    "duration": 9,
    "start_time": "2022-04-16T15:47:49.695Z"
   },
   {
    "duration": 13,
    "start_time": "2022-04-16T15:48:42.433Z"
   },
   {
    "duration": 14,
    "start_time": "2022-04-16T15:49:35.816Z"
   },
   {
    "duration": 13,
    "start_time": "2022-04-16T15:53:08.324Z"
   },
   {
    "duration": 13,
    "start_time": "2022-04-16T15:53:27.177Z"
   },
   {
    "duration": 13,
    "start_time": "2022-04-16T15:54:05.685Z"
   },
   {
    "duration": 13,
    "start_time": "2022-04-16T15:54:11.876Z"
   },
   {
    "duration": 102,
    "start_time": "2022-04-16T15:54:24.344Z"
   },
   {
    "duration": 13,
    "start_time": "2022-04-16T15:59:13.917Z"
   },
   {
    "duration": 13,
    "start_time": "2022-04-16T15:59:30.161Z"
   },
   {
    "duration": 14,
    "start_time": "2022-04-16T16:00:18.905Z"
   },
   {
    "duration": 12,
    "start_time": "2022-04-16T16:00:27.465Z"
   },
   {
    "duration": 15,
    "start_time": "2022-04-16T16:01:29.041Z"
   },
   {
    "duration": 13,
    "start_time": "2022-04-16T16:01:43.117Z"
   },
   {
    "duration": 128,
    "start_time": "2022-04-16T16:02:10.353Z"
   },
   {
    "duration": 128,
    "start_time": "2022-04-16T16:02:23.486Z"
   },
   {
    "duration": 9,
    "start_time": "2022-04-16T16:13:29.858Z"
   },
   {
    "duration": 10,
    "start_time": "2022-04-16T16:13:50.196Z"
   },
   {
    "duration": 1764,
    "start_time": "2022-04-16T16:14:14.145Z"
   },
   {
    "duration": 8,
    "start_time": "2022-04-16T16:14:27.298Z"
   },
   {
    "duration": 12,
    "start_time": "2022-04-16T16:15:58.187Z"
   },
   {
    "duration": 17,
    "start_time": "2022-04-16T16:18:15.945Z"
   },
   {
    "duration": 17,
    "start_time": "2022-04-16T16:18:29.654Z"
   },
   {
    "duration": 16,
    "start_time": "2022-04-16T16:18:48.821Z"
   },
   {
    "duration": 16,
    "start_time": "2022-04-16T16:19:30.607Z"
   },
   {
    "duration": 9,
    "start_time": "2022-04-16T16:19:34.726Z"
   },
   {
    "duration": 14,
    "start_time": "2022-04-16T16:19:46.386Z"
   },
   {
    "duration": 19,
    "start_time": "2022-04-16T16:20:06.622Z"
   },
   {
    "duration": 15,
    "start_time": "2022-04-16T16:20:18.466Z"
   },
   {
    "duration": 16,
    "start_time": "2022-04-16T16:20:23.186Z"
   },
   {
    "duration": 18,
    "start_time": "2022-04-16T16:20:50.925Z"
   },
   {
    "duration": 15,
    "start_time": "2022-04-16T16:21:00.049Z"
   },
   {
    "duration": 20,
    "start_time": "2022-04-16T16:21:06.316Z"
   },
   {
    "duration": 20,
    "start_time": "2022-04-16T16:22:06.398Z"
   },
   {
    "duration": 15,
    "start_time": "2022-04-16T16:22:21.626Z"
   },
   {
    "duration": 19,
    "start_time": "2022-04-16T16:22:26.154Z"
   },
   {
    "duration": 15,
    "start_time": "2022-04-16T16:22:32.598Z"
   },
   {
    "duration": 143,
    "start_time": "2022-04-16T16:23:04.846Z"
   },
   {
    "duration": 145,
    "start_time": "2022-04-16T16:28:27.441Z"
   },
   {
    "duration": 138,
    "start_time": "2022-04-16T16:29:06.682Z"
   },
   {
    "duration": 144,
    "start_time": "2022-04-16T16:30:57.705Z"
   },
   {
    "duration": 206,
    "start_time": "2022-04-16T16:31:14.528Z"
   },
   {
    "duration": 14,
    "start_time": "2022-04-16T16:31:34.973Z"
   },
   {
    "duration": 204,
    "start_time": "2022-04-16T16:31:37.234Z"
   },
   {
    "duration": 147,
    "start_time": "2022-04-16T16:32:38.882Z"
   },
   {
    "duration": 147,
    "start_time": "2022-04-16T16:32:54.782Z"
   },
   {
    "duration": 239,
    "start_time": "2022-04-16T16:33:25.384Z"
   },
   {
    "duration": 147,
    "start_time": "2022-04-16T16:33:45.254Z"
   },
   {
    "duration": 139,
    "start_time": "2022-04-16T16:33:52.821Z"
   },
   {
    "duration": 145,
    "start_time": "2022-04-16T16:34:08.061Z"
   },
   {
    "duration": 1347,
    "start_time": "2022-05-04T14:34:02.635Z"
   },
   {
    "duration": 74,
    "start_time": "2022-05-04T14:34:03.984Z"
   },
   {
    "duration": 15,
    "start_time": "2022-05-04T14:34:04.367Z"
   },
   {
    "duration": 19,
    "start_time": "2022-05-04T14:34:17.734Z"
   },
   {
    "duration": 152,
    "start_time": "2022-05-04T14:34:21.042Z"
   },
   {
    "duration": 17,
    "start_time": "2022-05-04T14:34:33.048Z"
   },
   {
    "duration": 82,
    "start_time": "2022-05-04T14:34:37.110Z"
   },
   {
    "duration": 9,
    "start_time": "2022-05-04T14:34:49.566Z"
   },
   {
    "duration": 14,
    "start_time": "2022-05-04T14:35:03.326Z"
   },
   {
    "duration": 236,
    "start_time": "2022-05-04T14:35:08.768Z"
   },
   {
    "duration": 14,
    "start_time": "2022-05-04T14:35:13.535Z"
   },
   {
    "duration": 14,
    "start_time": "2022-05-04T14:35:19.169Z"
   },
   {
    "duration": 15,
    "start_time": "2022-05-04T14:35:22.026Z"
   },
   {
    "duration": 13,
    "start_time": "2022-05-04T14:36:03.916Z"
   },
   {
    "duration": 12,
    "start_time": "2022-05-04T14:36:11.887Z"
   },
   {
    "duration": 16,
    "start_time": "2022-05-04T14:36:30.922Z"
   },
   {
    "duration": 180,
    "start_time": "2022-05-04T14:36:47.982Z"
   },
   {
    "duration": 1238,
    "start_time": "2022-05-04T18:09:04.132Z"
   },
   {
    "duration": 76,
    "start_time": "2022-05-04T18:09:05.372Z"
   },
   {
    "duration": 14,
    "start_time": "2022-05-04T18:09:05.450Z"
   },
   {
    "duration": 45,
    "start_time": "2022-05-04T18:09:05.465Z"
   },
   {
    "duration": 160,
    "start_time": "2022-05-04T18:09:05.513Z"
   },
   {
    "duration": 23,
    "start_time": "2022-05-04T18:09:05.675Z"
   },
   {
    "duration": 98,
    "start_time": "2022-05-04T18:09:05.699Z"
   },
   {
    "duration": 10,
    "start_time": "2022-05-04T18:09:05.799Z"
   },
   {
    "duration": 20,
    "start_time": "2022-05-04T18:09:05.811Z"
   },
   {
    "duration": 268,
    "start_time": "2022-05-04T18:09:05.833Z"
   },
   {
    "duration": 17,
    "start_time": "2022-05-04T18:09:06.103Z"
   },
   {
    "duration": 17,
    "start_time": "2022-05-04T18:09:06.121Z"
   },
   {
    "duration": 33,
    "start_time": "2022-05-04T18:09:06.140Z"
   },
   {
    "duration": 21,
    "start_time": "2022-05-04T18:09:06.178Z"
   },
   {
    "duration": 200,
    "start_time": "2022-05-04T18:09:06.201Z"
   },
   {
    "duration": 1305,
    "start_time": "2022-05-05T06:56:07.870Z"
   },
   {
    "duration": 62,
    "start_time": "2022-05-05T06:56:09.177Z"
   },
   {
    "duration": 23,
    "start_time": "2022-05-05T06:56:09.240Z"
   },
   {
    "duration": 16,
    "start_time": "2022-05-05T06:56:09.264Z"
   },
   {
    "duration": 160,
    "start_time": "2022-05-05T06:56:09.283Z"
   },
   {
    "duration": 21,
    "start_time": "2022-05-05T06:56:09.445Z"
   },
   {
    "duration": 95,
    "start_time": "2022-05-05T06:56:09.468Z"
   },
   {
    "duration": 8,
    "start_time": "2022-05-05T06:56:09.565Z"
   },
   {
    "duration": 26,
    "start_time": "2022-05-05T06:56:09.575Z"
   },
   {
    "duration": 205,
    "start_time": "2022-05-05T06:56:09.602Z"
   },
   {
    "duration": 13,
    "start_time": "2022-05-05T06:56:09.809Z"
   },
   {
    "duration": 31,
    "start_time": "2022-05-05T06:56:09.824Z"
   },
   {
    "duration": 13,
    "start_time": "2022-05-05T06:56:09.857Z"
   },
   {
    "duration": 15,
    "start_time": "2022-05-05T06:56:09.873Z"
   },
   {
    "duration": 186,
    "start_time": "2022-05-05T06:56:09.889Z"
   },
   {
    "duration": 3,
    "start_time": "2022-05-05T06:56:10.076Z"
   },
   {
    "duration": 100,
    "start_time": "2022-05-05T06:57:24.110Z"
   },
   {
    "duration": 75,
    "start_time": "2022-05-05T06:58:09.022Z"
   },
   {
    "duration": 186,
    "start_time": "2022-05-05T06:58:15.470Z"
   },
   {
    "duration": 21,
    "start_time": "2022-05-05T07:09:47.114Z"
   },
   {
    "duration": 148,
    "start_time": "2022-05-05T07:10:17.333Z"
   },
   {
    "duration": 33,
    "start_time": "2022-05-05T07:10:21.981Z"
   },
   {
    "duration": 18,
    "start_time": "2022-05-05T07:10:32.718Z"
   },
   {
    "duration": 29,
    "start_time": "2022-05-05T07:10:39.038Z"
   },
   {
    "duration": 22,
    "start_time": "2022-05-05T07:10:53.198Z"
   },
   {
    "duration": 12,
    "start_time": "2022-05-05T07:12:17.138Z"
   },
   {
    "duration": 11,
    "start_time": "2022-05-05T07:12:26.198Z"
   },
   {
    "duration": 10,
    "start_time": "2022-05-05T07:13:08.998Z"
   },
   {
    "duration": 7,
    "start_time": "2022-05-05T07:15:47.190Z"
   },
   {
    "duration": 10,
    "start_time": "2022-05-05T07:15:58.690Z"
   },
   {
    "duration": 20,
    "start_time": "2022-05-05T07:19:22.348Z"
   },
   {
    "duration": 22,
    "start_time": "2022-05-05T07:19:46.328Z"
   },
   {
    "duration": 14,
    "start_time": "2022-05-05T07:20:03.828Z"
   },
   {
    "duration": 10,
    "start_time": "2022-05-05T07:20:16.308Z"
   },
   {
    "duration": 18,
    "start_time": "2022-05-05T07:20:26.928Z"
   },
   {
    "duration": 188,
    "start_time": "2022-05-05T07:20:51.148Z"
   },
   {
    "duration": 183,
    "start_time": "2022-05-05T07:21:06.888Z"
   },
   {
    "duration": 177,
    "start_time": "2022-05-05T07:21:23.688Z"
   },
   {
    "duration": 177,
    "start_time": "2022-05-05T07:21:35.272Z"
   },
   {
    "duration": 9,
    "start_time": "2022-05-05T07:23:35.868Z"
   },
   {
    "duration": 144,
    "start_time": "2022-05-05T07:24:11.068Z"
   },
   {
    "duration": 7,
    "start_time": "2022-05-05T07:38:55.936Z"
   },
   {
    "duration": 6,
    "start_time": "2022-05-05T07:39:03.442Z"
   },
   {
    "duration": 6,
    "start_time": "2022-05-05T07:39:09.566Z"
   },
   {
    "duration": 14,
    "start_time": "2022-05-05T07:40:05.688Z"
   },
   {
    "duration": 159,
    "start_time": "2022-05-05T07:40:08.426Z"
   },
   {
    "duration": 7,
    "start_time": "2022-05-05T07:40:20.698Z"
   },
   {
    "duration": 11,
    "start_time": "2022-05-05T07:40:24.486Z"
   },
   {
    "duration": 10,
    "start_time": "2022-05-05T07:40:58.058Z"
   },
   {
    "duration": 225,
    "start_time": "2022-05-05T07:49:28.566Z"
   },
   {
    "duration": 8,
    "start_time": "2022-05-05T07:52:23.538Z"
   },
   {
    "duration": 11,
    "start_time": "2022-05-05T07:52:27.375Z"
   },
   {
    "duration": 150,
    "start_time": "2022-05-05T07:53:39.845Z"
   },
   {
    "duration": 15,
    "start_time": "2022-05-05T08:04:16.342Z"
   },
   {
    "duration": 13,
    "start_time": "2022-05-05T08:05:15.571Z"
   },
   {
    "duration": 12,
    "start_time": "2022-05-05T08:05:48.467Z"
   },
   {
    "duration": 14,
    "start_time": "2022-05-05T08:05:59.413Z"
   },
   {
    "duration": 135,
    "start_time": "2022-05-05T08:07:43.169Z"
   },
   {
    "duration": 5,
    "start_time": "2022-05-05T08:08:17.852Z"
   },
   {
    "duration": 14,
    "start_time": "2022-05-05T08:08:40.701Z"
   },
   {
    "duration": 16,
    "start_time": "2022-05-05T08:09:22.777Z"
   },
   {
    "duration": 15,
    "start_time": "2022-05-05T08:10:00.613Z"
   },
   {
    "duration": 7,
    "start_time": "2022-05-05T08:10:24.410Z"
   },
   {
    "duration": 36,
    "start_time": "2022-05-05T08:10:32.664Z"
   },
   {
    "duration": 12,
    "start_time": "2022-05-05T08:10:42.865Z"
   },
   {
    "duration": 17,
    "start_time": "2022-05-05T08:10:43.964Z"
   },
   {
    "duration": 8,
    "start_time": "2022-05-05T08:10:53.441Z"
   },
   {
    "duration": 15,
    "start_time": "2022-05-05T08:11:07.985Z"
   },
   {
    "duration": 9,
    "start_time": "2022-05-05T08:15:59.425Z"
   },
   {
    "duration": 9,
    "start_time": "2022-05-05T08:16:15.705Z"
   },
   {
    "duration": 14,
    "start_time": "2022-05-05T08:16:39.465Z"
   },
   {
    "duration": 16,
    "start_time": "2022-05-05T08:16:56.768Z"
   },
   {
    "duration": 10,
    "start_time": "2022-05-05T08:17:23.787Z"
   },
   {
    "duration": 9,
    "start_time": "2022-05-05T08:18:15.708Z"
   },
   {
    "duration": 3,
    "start_time": "2022-05-05T08:18:58.655Z"
   },
   {
    "duration": 1870,
    "start_time": "2022-05-05T11:58:48.915Z"
   },
   {
    "duration": 214,
    "start_time": "2022-05-05T11:58:50.789Z"
   },
   {
    "duration": 86,
    "start_time": "2022-05-05T11:58:51.005Z"
   },
   {
    "duration": 20,
    "start_time": "2022-05-05T11:58:51.096Z"
   },
   {
    "duration": 29,
    "start_time": "2022-05-05T11:58:51.118Z"
   },
   {
    "duration": 301,
    "start_time": "2022-05-05T11:58:51.149Z"
   },
   {
    "duration": 21,
    "start_time": "2022-05-05T11:58:51.453Z"
   },
   {
    "duration": 135,
    "start_time": "2022-05-05T11:58:51.477Z"
   },
   {
    "duration": 16,
    "start_time": "2022-05-05T11:58:51.614Z"
   },
   {
    "duration": 25,
    "start_time": "2022-05-05T11:58:51.634Z"
   },
   {
    "duration": 472,
    "start_time": "2022-05-05T11:58:51.662Z"
   },
   {
    "duration": 20,
    "start_time": "2022-05-05T11:58:52.137Z"
   },
   {
    "duration": 46,
    "start_time": "2022-05-05T11:58:52.159Z"
   },
   {
    "duration": 19,
    "start_time": "2022-05-05T11:58:52.207Z"
   },
   {
    "duration": 27,
    "start_time": "2022-05-05T11:58:52.228Z"
   },
   {
    "duration": 371,
    "start_time": "2022-05-05T11:58:52.257Z"
   },
   {
    "duration": 148,
    "start_time": "2022-05-05T11:58:52.630Z"
   },
   {
    "duration": 39,
    "start_time": "2022-05-05T11:58:52.785Z"
   },
   {
    "duration": 190,
    "start_time": "2022-05-05T11:58:52.827Z"
   },
   {
    "duration": 0,
    "start_time": "2022-05-05T11:58:53.019Z"
   },
   {
    "duration": 0,
    "start_time": "2022-05-05T11:58:53.021Z"
   },
   {
    "duration": 0,
    "start_time": "2022-05-05T11:58:53.022Z"
   },
   {
    "duration": 0,
    "start_time": "2022-05-05T11:58:53.023Z"
   },
   {
    "duration": 0,
    "start_time": "2022-05-05T11:58:53.025Z"
   },
   {
    "duration": 18,
    "start_time": "2022-05-05T11:59:13.615Z"
   },
   {
    "duration": 291,
    "start_time": "2022-05-05T11:59:18.527Z"
   },
   {
    "duration": 40,
    "start_time": "2022-05-05T11:59:21.111Z"
   },
   {
    "duration": 15,
    "start_time": "2022-05-05T11:59:28.595Z"
   },
   {
    "duration": 15,
    "start_time": "2022-05-05T11:59:32.536Z"
   },
   {
    "duration": 3,
    "start_time": "2022-05-05T11:59:35.936Z"
   },
   {
    "duration": 604,
    "start_time": "2022-05-05T12:02:00.861Z"
   },
   {
    "duration": 23,
    "start_time": "2022-05-05T12:03:08.803Z"
   },
   {
    "duration": 30,
    "start_time": "2022-05-05T12:03:33.066Z"
   },
   {
    "duration": 30,
    "start_time": "2022-05-05T12:04:07.378Z"
   },
   {
    "duration": 1512,
    "start_time": "2022-05-05T13:03:19.196Z"
   },
   {
    "duration": 228,
    "start_time": "2022-05-05T13:03:20.711Z"
   },
   {
    "duration": 76,
    "start_time": "2022-05-05T13:03:20.941Z"
   },
   {
    "duration": 19,
    "start_time": "2022-05-05T13:03:21.019Z"
   },
   {
    "duration": 42,
    "start_time": "2022-05-05T13:03:21.041Z"
   },
   {
    "duration": 237,
    "start_time": "2022-05-05T13:03:21.085Z"
   },
   {
    "duration": 22,
    "start_time": "2022-05-05T13:03:21.324Z"
   },
   {
    "duration": 145,
    "start_time": "2022-05-05T13:03:21.348Z"
   },
   {
    "duration": 12,
    "start_time": "2022-05-05T13:03:21.496Z"
   },
   {
    "duration": 26,
    "start_time": "2022-05-05T13:03:21.510Z"
   },
   {
    "duration": 348,
    "start_time": "2022-05-05T13:03:21.538Z"
   },
   {
    "duration": 21,
    "start_time": "2022-05-05T13:03:21.888Z"
   },
   {
    "duration": 26,
    "start_time": "2022-05-05T13:03:21.911Z"
   },
   {
    "duration": 46,
    "start_time": "2022-05-05T13:03:21.941Z"
   },
   {
    "duration": 27,
    "start_time": "2022-05-05T13:03:21.990Z"
   },
   {
    "duration": 289,
    "start_time": "2022-05-05T13:03:22.019Z"
   },
   {
    "duration": 159,
    "start_time": "2022-05-05T13:03:22.311Z"
   },
   {
    "duration": 38,
    "start_time": "2022-05-05T13:03:22.472Z"
   },
   {
    "duration": 19,
    "start_time": "2022-05-05T13:03:22.512Z"
   },
   {
    "duration": 299,
    "start_time": "2022-05-05T13:03:22.533Z"
   },
   {
    "duration": 24,
    "start_time": "2022-05-05T13:03:22.835Z"
   },
   {
    "duration": 14,
    "start_time": "2022-05-05T13:03:22.881Z"
   },
   {
    "duration": 18,
    "start_time": "2022-05-05T13:03:22.898Z"
   },
   {
    "duration": 4,
    "start_time": "2022-05-05T13:03:22.919Z"
   },
   {
    "duration": 442,
    "start_time": "2022-05-05T13:03:22.926Z"
   },
   {
    "duration": 26,
    "start_time": "2022-05-05T13:03:23.370Z"
   },
   {
    "duration": 26,
    "start_time": "2022-05-05T13:03:23.398Z"
   },
   {
    "duration": 33,
    "start_time": "2022-05-05T13:03:23.426Z"
   },
   {
    "duration": 182,
    "start_time": "2022-05-05T17:08:05.671Z"
   },
   {
    "duration": 1156,
    "start_time": "2022-05-05T17:20:17.959Z"
   },
   {
    "duration": 235,
    "start_time": "2022-05-05T17:20:19.116Z"
   },
   {
    "duration": 61,
    "start_time": "2022-05-05T17:20:19.353Z"
   },
   {
    "duration": 13,
    "start_time": "2022-05-05T17:20:19.416Z"
   },
   {
    "duration": 17,
    "start_time": "2022-05-05T17:20:19.430Z"
   },
   {
    "duration": 148,
    "start_time": "2022-05-05T17:20:19.448Z"
   },
   {
    "duration": 14,
    "start_time": "2022-05-05T17:20:19.599Z"
   },
   {
    "duration": 62,
    "start_time": "2022-05-05T17:20:19.615Z"
   },
   {
    "duration": 26,
    "start_time": "2022-05-05T17:20:19.679Z"
   },
   {
    "duration": 12,
    "start_time": "2022-05-05T17:20:19.707Z"
   },
   {
    "duration": 193,
    "start_time": "2022-05-05T17:20:19.720Z"
   },
   {
    "duration": 12,
    "start_time": "2022-05-05T17:20:19.914Z"
   },
   {
    "duration": 13,
    "start_time": "2022-05-05T17:20:19.928Z"
   },
   {
    "duration": 15,
    "start_time": "2022-05-05T17:20:19.942Z"
   },
   {
    "duration": 13,
    "start_time": "2022-05-05T17:20:19.958Z"
   },
   {
    "duration": 170,
    "start_time": "2022-05-05T17:20:19.973Z"
   },
   {
    "duration": 95,
    "start_time": "2022-05-05T17:20:20.145Z"
   },
   {
    "duration": 100,
    "start_time": "2022-05-05T17:20:20.242Z"
   },
   {
    "duration": 0,
    "start_time": "2022-05-05T17:20:20.343Z"
   },
   {
    "duration": 0,
    "start_time": "2022-05-05T17:20:20.344Z"
   },
   {
    "duration": 0,
    "start_time": "2022-05-05T17:20:20.346Z"
   },
   {
    "duration": 0,
    "start_time": "2022-05-05T17:20:20.347Z"
   },
   {
    "duration": 0,
    "start_time": "2022-05-05T17:20:20.348Z"
   },
   {
    "duration": 0,
    "start_time": "2022-05-05T17:20:20.349Z"
   },
   {
    "duration": 0,
    "start_time": "2022-05-05T17:20:20.350Z"
   },
   {
    "duration": 0,
    "start_time": "2022-05-05T17:20:20.351Z"
   },
   {
    "duration": 0,
    "start_time": "2022-05-05T17:20:20.352Z"
   },
   {
    "duration": 0,
    "start_time": "2022-05-05T17:20:20.352Z"
   },
   {
    "duration": 0,
    "start_time": "2022-05-05T17:20:20.353Z"
   },
   {
    "duration": 5,
    "start_time": "2022-05-05T17:20:39.205Z"
   },
   {
    "duration": 4,
    "start_time": "2022-05-05T17:20:53.199Z"
   },
   {
    "duration": 250,
    "start_time": "2022-05-05T17:20:53.205Z"
   },
   {
    "duration": 57,
    "start_time": "2022-05-05T17:20:53.457Z"
   },
   {
    "duration": 12,
    "start_time": "2022-05-05T17:20:53.516Z"
   },
   {
    "duration": 15,
    "start_time": "2022-05-05T17:20:53.531Z"
   },
   {
    "duration": 135,
    "start_time": "2022-05-05T17:20:53.547Z"
   },
   {
    "duration": 23,
    "start_time": "2022-05-05T17:20:53.684Z"
   },
   {
    "duration": 160,
    "start_time": "2022-05-05T17:20:53.709Z"
   },
   {
    "duration": 11,
    "start_time": "2022-05-05T17:20:53.871Z"
   },
   {
    "duration": 27,
    "start_time": "2022-05-05T17:20:53.884Z"
   },
   {
    "duration": 288,
    "start_time": "2022-05-05T17:20:53.914Z"
   },
   {
    "duration": 19,
    "start_time": "2022-05-05T17:20:54.204Z"
   },
   {
    "duration": 17,
    "start_time": "2022-05-05T17:20:54.226Z"
   },
   {
    "duration": 18,
    "start_time": "2022-05-05T17:20:54.245Z"
   },
   {
    "duration": 45,
    "start_time": "2022-05-05T17:20:54.264Z"
   },
   {
    "duration": 230,
    "start_time": "2022-05-05T17:20:54.311Z"
   },
   {
    "duration": 132,
    "start_time": "2022-05-05T17:20:54.543Z"
   },
   {
    "duration": 5,
    "start_time": "2022-05-05T17:20:54.677Z"
   },
   {
    "duration": 41,
    "start_time": "2022-05-05T17:20:54.684Z"
   },
   {
    "duration": 17,
    "start_time": "2022-05-05T17:20:54.727Z"
   },
   {
    "duration": 235,
    "start_time": "2022-05-05T17:20:54.746Z"
   },
   {
    "duration": 27,
    "start_time": "2022-05-05T17:20:54.983Z"
   },
   {
    "duration": 10,
    "start_time": "2022-05-05T17:20:55.012Z"
   },
   {
    "duration": 15,
    "start_time": "2022-05-05T17:20:55.024Z"
   },
   {
    "duration": 3,
    "start_time": "2022-05-05T17:20:55.041Z"
   },
   {
    "duration": 320,
    "start_time": "2022-05-05T17:20:55.046Z"
   },
   {
    "duration": 18,
    "start_time": "2022-05-05T17:20:55.368Z"
   },
   {
    "duration": 19,
    "start_time": "2022-05-05T17:20:55.400Z"
   },
   {
    "duration": 21,
    "start_time": "2022-05-05T17:20:55.421Z"
   },
   {
    "duration": 198,
    "start_time": "2022-05-05T17:21:35.728Z"
   },
   {
    "duration": 50,
    "start_time": "2022-05-05T18:07:50.880Z"
   },
   {
    "duration": 1326,
    "start_time": "2022-05-05T18:08:00.055Z"
   },
   {
    "duration": 220,
    "start_time": "2022-05-05T18:08:01.384Z"
   },
   {
    "duration": 59,
    "start_time": "2022-05-05T18:08:01.605Z"
   },
   {
    "duration": 14,
    "start_time": "2022-05-05T18:08:01.666Z"
   },
   {
    "duration": 26,
    "start_time": "2022-05-05T18:08:01.682Z"
   },
   {
    "duration": 169,
    "start_time": "2022-05-05T18:08:01.710Z"
   },
   {
    "duration": 27,
    "start_time": "2022-05-05T18:08:01.880Z"
   },
   {
    "duration": 80,
    "start_time": "2022-05-05T18:08:01.909Z"
   },
   {
    "duration": 25,
    "start_time": "2022-05-05T18:08:01.991Z"
   },
   {
    "duration": 20,
    "start_time": "2022-05-05T18:08:02.018Z"
   },
   {
    "duration": 234,
    "start_time": "2022-05-05T18:08:02.040Z"
   },
   {
    "duration": 13,
    "start_time": "2022-05-05T18:08:02.276Z"
   },
   {
    "duration": 17,
    "start_time": "2022-05-05T18:08:02.308Z"
   },
   {
    "duration": 15,
    "start_time": "2022-05-05T18:08:02.329Z"
   },
   {
    "duration": 24,
    "start_time": "2022-05-05T18:08:02.346Z"
   },
   {
    "duration": 190,
    "start_time": "2022-05-05T18:08:02.372Z"
   },
   {
    "duration": 101,
    "start_time": "2022-05-05T18:08:02.564Z"
   },
   {
    "duration": 5,
    "start_time": "2022-05-05T18:08:02.666Z"
   },
   {
    "duration": 41,
    "start_time": "2022-05-05T18:08:02.672Z"
   },
   {
    "duration": 13,
    "start_time": "2022-05-05T18:08:02.715Z"
   },
   {
    "duration": 197,
    "start_time": "2022-05-05T18:08:02.729Z"
   },
   {
    "duration": 15,
    "start_time": "2022-05-05T18:08:02.928Z"
   },
   {
    "duration": 12,
    "start_time": "2022-05-05T18:08:02.945Z"
   },
   {
    "duration": 11,
    "start_time": "2022-05-05T18:08:02.959Z"
   },
   {
    "duration": 3,
    "start_time": "2022-05-05T18:08:02.972Z"
   },
   {
    "duration": 326,
    "start_time": "2022-05-05T18:08:02.977Z"
   },
   {
    "duration": 15,
    "start_time": "2022-05-05T18:08:03.305Z"
   },
   {
    "duration": 17,
    "start_time": "2022-05-05T18:08:03.322Z"
   },
   {
    "duration": 16,
    "start_time": "2022-05-05T18:08:03.341Z"
   },
   {
    "duration": 12,
    "start_time": "2022-05-05T18:09:36.694Z"
   },
   {
    "duration": 13,
    "start_time": "2022-05-05T18:11:12.774Z"
   },
   {
    "duration": 11,
    "start_time": "2022-05-05T18:11:37.914Z"
   },
   {
    "duration": 107,
    "start_time": "2022-05-05T18:17:13.113Z"
   },
   {
    "duration": 14,
    "start_time": "2022-05-05T18:17:23.112Z"
   },
   {
    "duration": 6,
    "start_time": "2022-05-05T18:20:02.684Z"
   },
   {
    "duration": 17,
    "start_time": "2022-05-05T18:20:13.623Z"
   },
   {
    "duration": 11,
    "start_time": "2022-05-05T18:20:24.112Z"
   },
   {
    "duration": 13,
    "start_time": "2022-05-05T18:20:49.784Z"
   },
   {
    "duration": 13,
    "start_time": "2022-05-05T18:20:58.484Z"
   },
   {
    "duration": 14,
    "start_time": "2022-05-05T18:21:07.636Z"
   },
   {
    "duration": 25,
    "start_time": "2022-05-05T18:21:12.876Z"
   },
   {
    "duration": 18,
    "start_time": "2022-05-05T18:21:22.424Z"
   },
   {
    "duration": 19,
    "start_time": "2022-05-05T18:21:49.464Z"
   },
   {
    "duration": 13,
    "start_time": "2022-05-05T18:21:55.830Z"
   },
   {
    "duration": 17,
    "start_time": "2022-05-05T18:22:37.439Z"
   },
   {
    "duration": 25,
    "start_time": "2022-05-05T18:22:47.445Z"
   },
   {
    "duration": 20,
    "start_time": "2022-05-05T18:22:54.965Z"
   },
   {
    "duration": 25,
    "start_time": "2022-05-05T18:23:07.803Z"
   },
   {
    "duration": 18,
    "start_time": "2022-05-05T18:23:31.557Z"
   },
   {
    "duration": 22,
    "start_time": "2022-05-05T18:23:45.244Z"
   },
   {
    "duration": 33,
    "start_time": "2022-05-05T18:24:03.800Z"
   },
   {
    "duration": 38,
    "start_time": "2022-05-05T18:24:36.364Z"
   },
   {
    "duration": 12,
    "start_time": "2022-05-05T18:26:42.123Z"
   },
   {
    "duration": 17,
    "start_time": "2022-05-05T18:26:50.924Z"
   },
   {
    "duration": 19,
    "start_time": "2022-05-05T18:27:21.688Z"
   },
   {
    "duration": 24,
    "start_time": "2022-05-05T18:27:31.615Z"
   },
   {
    "duration": 22,
    "start_time": "2022-05-05T18:28:25.195Z"
   },
   {
    "duration": 22,
    "start_time": "2022-05-05T18:28:32.236Z"
   },
   {
    "duration": 18,
    "start_time": "2022-05-05T18:28:58.476Z"
   },
   {
    "duration": 23,
    "start_time": "2022-05-05T18:29:07.236Z"
   },
   {
    "duration": 23,
    "start_time": "2022-05-05T18:30:23.376Z"
   },
   {
    "duration": 25,
    "start_time": "2022-05-05T18:31:25.316Z"
   },
   {
    "duration": 28,
    "start_time": "2022-05-05T18:31:56.272Z"
   },
   {
    "duration": 18,
    "start_time": "2022-05-05T18:33:44.336Z"
   },
   {
    "duration": 63,
    "start_time": "2022-05-05T18:35:15.607Z"
   },
   {
    "duration": 13,
    "start_time": "2022-05-05T18:39:43.044Z"
   },
   {
    "duration": 1027,
    "start_time": "2022-05-05T18:41:24.059Z"
   },
   {
    "duration": 17,
    "start_time": "2022-05-05T18:41:34.414Z"
   },
   {
    "duration": 1214,
    "start_time": "2022-05-05T18:41:59.207Z"
   },
   {
    "duration": 243,
    "start_time": "2022-05-05T18:42:00.423Z"
   },
   {
    "duration": 170,
    "start_time": "2022-05-05T18:42:00.667Z"
   },
   {
    "duration": 14,
    "start_time": "2022-05-05T18:42:00.839Z"
   },
   {
    "duration": 22,
    "start_time": "2022-05-05T18:42:00.856Z"
   },
   {
    "duration": 149,
    "start_time": "2022-05-05T18:42:00.880Z"
   },
   {
    "duration": 16,
    "start_time": "2022-05-05T18:42:01.031Z"
   },
   {
    "duration": 100,
    "start_time": "2022-05-05T18:42:01.049Z"
   },
   {
    "duration": 17,
    "start_time": "2022-05-05T18:42:01.151Z"
   },
   {
    "duration": 18,
    "start_time": "2022-05-05T18:42:01.170Z"
   },
   {
    "duration": 242,
    "start_time": "2022-05-05T18:42:01.190Z"
   },
   {
    "duration": 15,
    "start_time": "2022-05-05T18:42:01.435Z"
   },
   {
    "duration": 18,
    "start_time": "2022-05-05T18:42:01.452Z"
   },
   {
    "duration": 33,
    "start_time": "2022-05-05T18:42:01.474Z"
   },
   {
    "duration": 13,
    "start_time": "2022-05-05T18:42:01.509Z"
   },
   {
    "duration": 16,
    "start_time": "2022-05-05T18:42:01.523Z"
   },
   {
    "duration": 189,
    "start_time": "2022-05-05T18:42:01.541Z"
   },
   {
    "duration": 102,
    "start_time": "2022-05-05T18:42:01.732Z"
   },
   {
    "duration": 4,
    "start_time": "2022-05-05T18:42:01.836Z"
   },
   {
    "duration": 29,
    "start_time": "2022-05-05T18:42:01.842Z"
   },
   {
    "duration": 13,
    "start_time": "2022-05-05T18:42:01.872Z"
   },
   {
    "duration": 197,
    "start_time": "2022-05-05T18:42:01.887Z"
   },
   {
    "duration": 23,
    "start_time": "2022-05-05T18:42:02.086Z"
   },
   {
    "duration": 15,
    "start_time": "2022-05-05T18:42:02.111Z"
   },
   {
    "duration": 12,
    "start_time": "2022-05-05T18:42:02.128Z"
   },
   {
    "duration": 4,
    "start_time": "2022-05-05T18:42:02.142Z"
   },
   {
    "duration": 312,
    "start_time": "2022-05-05T18:42:02.147Z"
   },
   {
    "duration": 16,
    "start_time": "2022-05-05T18:42:02.460Z"
   },
   {
    "duration": 30,
    "start_time": "2022-05-05T18:42:02.478Z"
   },
   {
    "duration": 17,
    "start_time": "2022-05-05T18:42:02.510Z"
   },
   {
    "duration": 9,
    "start_time": "2022-05-05T18:42:35.745Z"
   },
   {
    "duration": 111,
    "start_time": "2022-05-05T18:43:08.445Z"
   },
   {
    "duration": 16,
    "start_time": "2022-05-05T18:43:17.745Z"
   },
   {
    "duration": 9,
    "start_time": "2022-05-05T18:47:31.040Z"
   },
   {
    "duration": 27,
    "start_time": "2022-05-05T18:49:28.802Z"
   },
   {
    "duration": 19,
    "start_time": "2022-05-05T18:51:00.772Z"
   },
   {
    "duration": 37,
    "start_time": "2022-05-05T18:51:36.734Z"
   },
   {
    "duration": 22,
    "start_time": "2022-05-05T18:52:09.240Z"
   },
   {
    "duration": 15,
    "start_time": "2022-05-05T18:53:33.131Z"
   },
   {
    "duration": 34,
    "start_time": "2022-05-05T18:54:06.172Z"
   },
   {
    "duration": 21,
    "start_time": "2022-05-05T18:54:33.644Z"
   },
   {
    "duration": 30,
    "start_time": "2022-05-05T18:55:07.004Z"
   },
   {
    "duration": 31,
    "start_time": "2022-05-05T18:56:17.843Z"
   },
   {
    "duration": 23,
    "start_time": "2022-05-05T18:56:28.892Z"
   },
   {
    "duration": 23,
    "start_time": "2022-05-05T18:56:31.652Z"
   },
   {
    "duration": 21,
    "start_time": "2022-05-05T18:56:54.976Z"
   },
   {
    "duration": 30,
    "start_time": "2022-05-05T18:57:35.071Z"
   },
   {
    "duration": 34,
    "start_time": "2022-05-05T18:59:02.231Z"
   },
   {
    "duration": 288,
    "start_time": "2022-05-05T19:01:05.385Z"
   },
   {
    "duration": 16,
    "start_time": "2022-05-05T19:03:19.890Z"
   },
   {
    "duration": 11,
    "start_time": "2022-05-05T19:03:32.117Z"
   },
   {
    "duration": 4,
    "start_time": "2022-05-05T19:05:03.009Z"
   },
   {
    "duration": 11,
    "start_time": "2022-05-05T19:05:17.494Z"
   },
   {
    "duration": 12,
    "start_time": "2022-05-05T19:06:38.156Z"
   },
   {
    "duration": 13,
    "start_time": "2022-05-05T19:06:42.276Z"
   },
   {
    "duration": 16,
    "start_time": "2022-05-05T19:07:20.418Z"
   },
   {
    "duration": 14,
    "start_time": "2022-05-05T19:07:23.796Z"
   },
   {
    "duration": 22,
    "start_time": "2022-05-05T19:07:42.657Z"
   },
   {
    "duration": 15,
    "start_time": "2022-05-05T19:07:54.302Z"
   },
   {
    "duration": 14,
    "start_time": "2022-05-05T19:07:59.031Z"
   },
   {
    "duration": 35,
    "start_time": "2022-05-05T19:09:02.529Z"
   },
   {
    "duration": 36,
    "start_time": "2022-05-05T19:16:10.870Z"
   },
   {
    "duration": 14,
    "start_time": "2022-05-05T19:16:21.495Z"
   },
   {
    "duration": 14,
    "start_time": "2022-05-05T19:16:42.251Z"
   },
   {
    "duration": 13,
    "start_time": "2022-05-05T19:16:50.267Z"
   },
   {
    "duration": 10,
    "start_time": "2022-05-05T19:18:09.745Z"
   },
   {
    "duration": 8,
    "start_time": "2022-05-05T19:18:15.853Z"
   },
   {
    "duration": 10,
    "start_time": "2022-05-05T19:20:31.465Z"
   },
   {
    "duration": 9,
    "start_time": "2022-05-05T19:20:36.381Z"
   },
   {
    "duration": 12,
    "start_time": "2022-05-05T19:20:52.548Z"
   },
   {
    "duration": 12,
    "start_time": "2022-05-05T19:21:18.337Z"
   },
   {
    "duration": 12,
    "start_time": "2022-05-05T19:24:03.537Z"
   },
   {
    "duration": 166,
    "start_time": "2022-05-05T19:27:58.934Z"
   },
   {
    "duration": 175,
    "start_time": "2022-05-05T19:28:43.445Z"
   },
   {
    "duration": 181,
    "start_time": "2022-05-05T19:31:02.744Z"
   },
   {
    "duration": 68,
    "start_time": "2022-05-05T19:32:34.865Z"
   },
   {
    "duration": 155,
    "start_time": "2022-05-05T19:32:42.724Z"
   },
   {
    "duration": 202,
    "start_time": "2022-05-05T19:32:54.124Z"
   },
   {
    "duration": 72,
    "start_time": "2022-05-05T19:38:14.616Z"
   },
   {
    "duration": 310,
    "start_time": "2022-05-05T19:38:19.535Z"
   },
   {
    "duration": 304,
    "start_time": "2022-05-05T19:38:36.392Z"
   },
   {
    "duration": 72,
    "start_time": "2022-05-05T19:39:54.396Z"
   },
   {
    "duration": 327,
    "start_time": "2022-05-05T19:40:09.007Z"
   },
   {
    "duration": 253,
    "start_time": "2022-05-05T19:40:17.275Z"
   },
   {
    "duration": 333,
    "start_time": "2022-05-05T19:40:25.699Z"
   },
   {
    "duration": 226,
    "start_time": "2022-05-05T19:40:35.335Z"
   },
   {
    "duration": 245,
    "start_time": "2022-05-05T19:40:46.872Z"
   },
   {
    "duration": 235,
    "start_time": "2022-05-05T19:40:55.116Z"
   },
   {
    "duration": 314,
    "start_time": "2022-05-05T19:41:28.255Z"
   },
   {
    "duration": 64,
    "start_time": "2022-05-05T19:41:45.536Z"
   },
   {
    "duration": 1272,
    "start_time": "2022-05-05T19:43:05.463Z"
   },
   {
    "duration": 190,
    "start_time": "2022-05-05T19:43:06.737Z"
   },
   {
    "duration": 65,
    "start_time": "2022-05-05T19:43:06.929Z"
   },
   {
    "duration": 16,
    "start_time": "2022-05-05T19:43:06.996Z"
   },
   {
    "duration": 23,
    "start_time": "2022-05-05T19:43:07.015Z"
   },
   {
    "duration": 158,
    "start_time": "2022-05-05T19:43:07.039Z"
   },
   {
    "duration": 27,
    "start_time": "2022-05-05T19:43:07.198Z"
   },
   {
    "duration": 97,
    "start_time": "2022-05-05T19:43:07.227Z"
   },
   {
    "duration": 18,
    "start_time": "2022-05-05T19:43:07.326Z"
   },
   {
    "duration": 13,
    "start_time": "2022-05-05T19:43:07.347Z"
   },
   {
    "duration": 262,
    "start_time": "2022-05-05T19:43:07.361Z"
   },
   {
    "duration": 14,
    "start_time": "2022-05-05T19:43:07.625Z"
   },
   {
    "duration": 15,
    "start_time": "2022-05-05T19:43:07.640Z"
   },
   {
    "duration": 14,
    "start_time": "2022-05-05T19:43:07.656Z"
   },
   {
    "duration": 64,
    "start_time": "2022-05-05T19:43:07.672Z"
   },
   {
    "duration": 12,
    "start_time": "2022-05-05T19:43:07.738Z"
   },
   {
    "duration": 18,
    "start_time": "2022-05-05T19:43:07.751Z"
   },
   {
    "duration": 202,
    "start_time": "2022-05-05T19:43:07.771Z"
   },
   {
    "duration": 110,
    "start_time": "2022-05-05T19:43:07.975Z"
   },
   {
    "duration": 5,
    "start_time": "2022-05-05T19:43:08.087Z"
   },
   {
    "duration": 31,
    "start_time": "2022-05-05T19:43:08.108Z"
   },
   {
    "duration": 15,
    "start_time": "2022-05-05T19:43:08.141Z"
   },
   {
    "duration": 373,
    "start_time": "2022-05-05T19:43:08.158Z"
   },
   {
    "duration": 16,
    "start_time": "2022-05-05T19:43:08.533Z"
   },
   {
    "duration": 15,
    "start_time": "2022-05-05T19:43:08.551Z"
   },
   {
    "duration": 112,
    "start_time": "2022-05-05T19:43:08.568Z"
   },
   {
    "duration": 17,
    "start_time": "2022-05-05T19:43:08.682Z"
   },
   {
    "duration": 400,
    "start_time": "2022-05-05T19:43:08.703Z"
   },
   {
    "duration": 18,
    "start_time": "2022-05-05T19:43:09.105Z"
   },
   {
    "duration": 14,
    "start_time": "2022-05-05T19:43:09.125Z"
   },
   {
    "duration": 15,
    "start_time": "2022-05-05T19:43:09.141Z"
   },
   {
    "duration": 290,
    "start_time": "2022-05-05T19:46:39.472Z"
   },
   {
    "duration": 54,
    "start_time": "2022-05-06T13:36:34.677Z"
   },
   {
    "duration": 1400,
    "start_time": "2022-05-06T13:36:38.151Z"
   },
   {
    "duration": 221,
    "start_time": "2022-05-06T13:36:39.553Z"
   },
   {
    "duration": 75,
    "start_time": "2022-05-06T13:36:39.776Z"
   },
   {
    "duration": 14,
    "start_time": "2022-05-06T13:36:39.853Z"
   },
   {
    "duration": 28,
    "start_time": "2022-05-06T13:36:39.869Z"
   },
   {
    "duration": 158,
    "start_time": "2022-05-06T13:36:39.898Z"
   },
   {
    "duration": 17,
    "start_time": "2022-05-06T13:36:40.058Z"
   },
   {
    "duration": 108,
    "start_time": "2022-05-06T13:36:40.077Z"
   },
   {
    "duration": 18,
    "start_time": "2022-05-06T13:36:40.186Z"
   },
   {
    "duration": 31,
    "start_time": "2022-05-06T13:36:40.207Z"
   },
   {
    "duration": 247,
    "start_time": "2022-05-06T13:36:40.240Z"
   },
   {
    "duration": 14,
    "start_time": "2022-05-06T13:36:40.489Z"
   },
   {
    "duration": 37,
    "start_time": "2022-05-06T13:36:40.505Z"
   },
   {
    "duration": 23,
    "start_time": "2022-05-06T13:36:40.544Z"
   },
   {
    "duration": 47,
    "start_time": "2022-05-06T13:36:40.569Z"
   },
   {
    "duration": 18,
    "start_time": "2022-05-06T13:36:40.617Z"
   },
   {
    "duration": 29,
    "start_time": "2022-05-06T13:36:40.636Z"
   },
   {
    "duration": 197,
    "start_time": "2022-05-06T13:36:40.666Z"
   },
   {
    "duration": 107,
    "start_time": "2022-05-06T13:36:40.864Z"
   },
   {
    "duration": 4,
    "start_time": "2022-05-06T13:36:40.973Z"
   },
   {
    "duration": 40,
    "start_time": "2022-05-06T13:36:40.979Z"
   },
   {
    "duration": 22,
    "start_time": "2022-05-06T13:36:41.021Z"
   },
   {
    "duration": 432,
    "start_time": "2022-05-06T13:36:41.045Z"
   },
   {
    "duration": 15,
    "start_time": "2022-05-06T13:36:41.480Z"
   },
   {
    "duration": 12,
    "start_time": "2022-05-06T13:36:41.497Z"
   },
   {
    "duration": 24,
    "start_time": "2022-05-06T13:36:41.511Z"
   },
   {
    "duration": 15,
    "start_time": "2022-05-06T13:36:41.536Z"
   },
   {
    "duration": 384,
    "start_time": "2022-05-06T13:36:41.555Z"
   },
   {
    "duration": 17,
    "start_time": "2022-05-06T13:36:41.941Z"
   },
   {
    "duration": 29,
    "start_time": "2022-05-06T13:36:41.960Z"
   },
   {
    "duration": 46,
    "start_time": "2022-05-06T13:36:41.992Z"
   },
   {
    "duration": 302,
    "start_time": "2022-05-06T13:36:55.231Z"
   },
   {
    "duration": 300,
    "start_time": "2022-05-06T13:37:32.384Z"
   }
  ],
  "kernelspec": {
   "display_name": "Python 3 (ipykernel)",
   "language": "python",
   "name": "python3"
  },
  "language_info": {
   "codemirror_mode": {
    "name": "ipython",
    "version": 3
   },
   "file_extension": ".py",
   "mimetype": "text/x-python",
   "name": "python",
   "nbconvert_exporter": "python",
   "pygments_lexer": "ipython3",
   "version": "3.9.7"
  },
  "toc": {
   "base_numbering": 1,
   "nav_menu": {},
   "number_sections": true,
   "sideBar": true,
   "skip_h1_title": true,
   "title_cell": "Table of Contents",
   "title_sidebar": "Contents",
   "toc_cell": false,
   "toc_position": {},
   "toc_section_display": true,
   "toc_window_display": false
  }
 },
 "nbformat": 4,
 "nbformat_minor": 2
}
