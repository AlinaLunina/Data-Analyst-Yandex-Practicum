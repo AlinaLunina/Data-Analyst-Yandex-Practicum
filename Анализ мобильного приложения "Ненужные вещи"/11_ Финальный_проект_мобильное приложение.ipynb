{
 "cells": [
  {
   "cell_type": "markdown",
   "metadata": {},
   "source": [
    "# Мобильные приложения —  Выделение групп пользователей на основе поведения"
   ]
  },
  {
   "cell_type": "markdown",
   "metadata": {},
   "source": [
    "## Описание данных:\n",
    "Датасет содержит данные о событиях, совершенных в мобильном приложении \"Ненужные вещи\". В нем пользователи продают свои ненужные вещи, размещая их на доске объявлений.\n",
    "В датасете содержатся данные пользователей, впервые совершивших действия в приложении после 7 октября 2019 года.\n",
    "\n",
    "Датасет mobile_dataset.csv содержит колонки:\n",
    "   - event.time  — время совершения\n",
    "   - event.name  — название события\n",
    "   - user.id  — идентификатор пользователя\n",
    "\n",
    "Датасет mobile_sources.csv содержит колонки:\n",
    "   - userId  — идентификатор пользователя\n",
    "   - source  — источник, с которого пользователь установил приложение\n",
    "\n",
    "Расшифровки событий:\n",
    "    \n",
    "    - advert_open  — открытие карточки объявления\n",
    "    - photos_show  — просмотр фотографий в объявлении\n",
    "    - tips_show  — пользователь увидел рекомендованные объявления\n",
    "    - tips_click  — пользователь кликнул по рекомендованному объявлению\n",
    "    - contacts_show  и  show_contacts  — пользователь нажал на кнопку \"посмотреть номер телефона\" на карточке объявления\n",
    "    - contacts_call  — пользователь позвонил по номеру телефона на карточке объявления\n",
    "    - map  — пользователь открыл карту размещенных объявлений\n",
    "    - search_1  —  search_7  — разные события, связанные с поиском по сайту\n",
    "    - favorites_add  — добавление объявления в избранное\n",
    "\n",
    "В рамках исследования необходимо ответить на следующие вопросы:\n",
    "\n",
    "- Какие пользователи склонны часто возвращаться в мобильное приложение?\n",
    "- Какие пользователи часто делают целевое событие (contacts_show)?\n",
    "- Как различается время между распространенными событиями пользователей, (например, различаются ли пользователи по группам на основе времени, которое проходит с момента первого использования мобильного приложения и до использования функции поиска)?"
   ]
  },
  {
   "cell_type": "markdown",
   "metadata": {},
   "source": [
    "##  Загрузка данных и подготовка их к анализу\n"
   ]
  },
  {
   "cell_type": "code",
   "execution_count": 1,
   "metadata": {},
   "outputs": [],
   "source": [
    "# импорт библиотек\n",
    "import pandas as pd\n",
    "from plotly import graph_objects as go\n",
    "import matplotlib.pyplot as plt\n",
    "import seaborn as sns\n",
    "from datetime import datetime, timedelta\n",
    "import math as mth\n",
    "from scipy import stats as st\n"
   ]
  },
  {
   "cell_type": "code",
   "execution_count": 2,
   "metadata": {},
   "outputs": [],
   "source": [
    "# загрузка и просмотр данных\n",
    "mobile_sourсes = pd.read_csv('https://code.s3.yandex.net/datasets/mobile_soures.csv')\n",
    "mobile_dataset = pd.read_csv('https://code.s3.yandex.net/datasets/mobile_dataset.csv')\n"
   ]
  },
  {
   "cell_type": "code",
   "execution_count": 3,
   "metadata": {},
   "outputs": [
    {
     "data": {
      "text/html": [
       "<div>\n",
       "<style scoped>\n",
       "    .dataframe tbody tr th:only-of-type {\n",
       "        vertical-align: middle;\n",
       "    }\n",
       "\n",
       "    .dataframe tbody tr th {\n",
       "        vertical-align: top;\n",
       "    }\n",
       "\n",
       "    .dataframe thead th {\n",
       "        text-align: right;\n",
       "    }\n",
       "</style>\n",
       "<table border=\"1\" class=\"dataframe\">\n",
       "  <thead>\n",
       "    <tr style=\"text-align: right;\">\n",
       "      <th></th>\n",
       "      <th>userId</th>\n",
       "      <th>source</th>\n",
       "    </tr>\n",
       "  </thead>\n",
       "  <tbody>\n",
       "    <tr>\n",
       "      <th>0</th>\n",
       "      <td>020292ab-89bc-4156-9acf-68bc2783f894</td>\n",
       "      <td>other</td>\n",
       "    </tr>\n",
       "    <tr>\n",
       "      <th>1</th>\n",
       "      <td>cf7eda61-9349-469f-ac27-e5b6f5ec475c</td>\n",
       "      <td>yandex</td>\n",
       "    </tr>\n",
       "    <tr>\n",
       "      <th>2</th>\n",
       "      <td>8c356c42-3ba9-4cb6-80b8-3f868d0192c3</td>\n",
       "      <td>yandex</td>\n",
       "    </tr>\n",
       "    <tr>\n",
       "      <th>3</th>\n",
       "      <td>d9b06b47-0f36-419b-bbb0-3533e582a6cb</td>\n",
       "      <td>other</td>\n",
       "    </tr>\n",
       "    <tr>\n",
       "      <th>4</th>\n",
       "      <td>f32e1e2a-3027-4693-b793-b7b3ff274439</td>\n",
       "      <td>google</td>\n",
       "    </tr>\n",
       "  </tbody>\n",
       "</table>\n",
       "</div>"
      ],
      "text/plain": [
       "                                 userId  source\n",
       "0  020292ab-89bc-4156-9acf-68bc2783f894   other\n",
       "1  cf7eda61-9349-469f-ac27-e5b6f5ec475c  yandex\n",
       "2  8c356c42-3ba9-4cb6-80b8-3f868d0192c3  yandex\n",
       "3  d9b06b47-0f36-419b-bbb0-3533e582a6cb   other\n",
       "4  f32e1e2a-3027-4693-b793-b7b3ff274439  google"
      ]
     },
     "execution_count": 3,
     "metadata": {},
     "output_type": "execute_result"
    }
   ],
   "source": [
    "mobile_sourсes.head()\n"
   ]
  },
  {
   "cell_type": "code",
   "execution_count": 4,
   "metadata": {},
   "outputs": [
    {
     "data": {
      "text/html": [
       "<div>\n",
       "<style scoped>\n",
       "    .dataframe tbody tr th:only-of-type {\n",
       "        vertical-align: middle;\n",
       "    }\n",
       "\n",
       "    .dataframe tbody tr th {\n",
       "        vertical-align: top;\n",
       "    }\n",
       "\n",
       "    .dataframe thead th {\n",
       "        text-align: right;\n",
       "    }\n",
       "</style>\n",
       "<table border=\"1\" class=\"dataframe\">\n",
       "  <thead>\n",
       "    <tr style=\"text-align: right;\">\n",
       "      <th></th>\n",
       "      <th>event.time</th>\n",
       "      <th>event.name</th>\n",
       "      <th>user.id</th>\n",
       "    </tr>\n",
       "  </thead>\n",
       "  <tbody>\n",
       "    <tr>\n",
       "      <th>0</th>\n",
       "      <td>2019-10-07 00:00:00.431357</td>\n",
       "      <td>advert_open</td>\n",
       "      <td>020292ab-89bc-4156-9acf-68bc2783f894</td>\n",
       "    </tr>\n",
       "    <tr>\n",
       "      <th>1</th>\n",
       "      <td>2019-10-07 00:00:01.236320</td>\n",
       "      <td>tips_show</td>\n",
       "      <td>020292ab-89bc-4156-9acf-68bc2783f894</td>\n",
       "    </tr>\n",
       "    <tr>\n",
       "      <th>2</th>\n",
       "      <td>2019-10-07 00:00:02.245341</td>\n",
       "      <td>tips_show</td>\n",
       "      <td>cf7eda61-9349-469f-ac27-e5b6f5ec475c</td>\n",
       "    </tr>\n",
       "    <tr>\n",
       "      <th>3</th>\n",
       "      <td>2019-10-07 00:00:07.039334</td>\n",
       "      <td>tips_show</td>\n",
       "      <td>020292ab-89bc-4156-9acf-68bc2783f894</td>\n",
       "    </tr>\n",
       "    <tr>\n",
       "      <th>4</th>\n",
       "      <td>2019-10-07 00:00:56.319813</td>\n",
       "      <td>advert_open</td>\n",
       "      <td>cf7eda61-9349-469f-ac27-e5b6f5ec475c</td>\n",
       "    </tr>\n",
       "  </tbody>\n",
       "</table>\n",
       "</div>"
      ],
      "text/plain": [
       "                   event.time   event.name  \\\n",
       "0  2019-10-07 00:00:00.431357  advert_open   \n",
       "1  2019-10-07 00:00:01.236320    tips_show   \n",
       "2  2019-10-07 00:00:02.245341    tips_show   \n",
       "3  2019-10-07 00:00:07.039334    tips_show   \n",
       "4  2019-10-07 00:00:56.319813  advert_open   \n",
       "\n",
       "                                user.id  \n",
       "0  020292ab-89bc-4156-9acf-68bc2783f894  \n",
       "1  020292ab-89bc-4156-9acf-68bc2783f894  \n",
       "2  cf7eda61-9349-469f-ac27-e5b6f5ec475c  \n",
       "3  020292ab-89bc-4156-9acf-68bc2783f894  \n",
       "4  cf7eda61-9349-469f-ac27-e5b6f5ec475c  "
      ]
     },
     "execution_count": 4,
     "metadata": {},
     "output_type": "execute_result"
    }
   ],
   "source": [
    "mobile_dataset.head()"
   ]
  },
  {
   "cell_type": "code",
   "execution_count": 5,
   "metadata": {},
   "outputs": [],
   "source": [
    "#переименовываем названия столбцов\n",
    "mobile_sourсes.rename(columns={'userId':'user_id'}, inplace = True)"
   ]
  },
  {
   "cell_type": "code",
   "execution_count": 6,
   "metadata": {},
   "outputs": [],
   "source": [
    "mobile_dataset.rename(columns={'event.time':'event_time', 'event.name':'event_name', 'user.id':'user_id'}, inplace=True)"
   ]
  },
  {
   "cell_type": "code",
   "execution_count": 7,
   "metadata": {},
   "outputs": [
    {
     "name": "stdout",
     "output_type": "stream",
     "text": [
      "<class 'pandas.core.frame.DataFrame'>\n",
      "RangeIndex: 4293 entries, 0 to 4292\n",
      "Data columns (total 2 columns):\n",
      " #   Column   Non-Null Count  Dtype \n",
      "---  ------   --------------  ----- \n",
      " 0   user_id  4293 non-null   object\n",
      " 1   source   4293 non-null   object\n",
      "dtypes: object(2)\n",
      "memory usage: 67.2+ KB\n"
     ]
    }
   ],
   "source": [
    "#просматриваем информацию о данных в таблице mobile_sources\n",
    "mobile_sourсes.info()"
   ]
  },
  {
   "cell_type": "markdown",
   "metadata": {},
   "source": [
    "Пустых значений не выявлено, тип данных совпадает с необходимым"
   ]
  },
  {
   "cell_type": "code",
   "execution_count": 8,
   "metadata": {},
   "outputs": [
    {
     "name": "stdout",
     "output_type": "stream",
     "text": [
      "<class 'pandas.core.frame.DataFrame'>\n",
      "RangeIndex: 74197 entries, 0 to 74196\n",
      "Data columns (total 3 columns):\n",
      " #   Column      Non-Null Count  Dtype \n",
      "---  ------      --------------  ----- \n",
      " 0   event_time  74197 non-null  object\n",
      " 1   event_name  74197 non-null  object\n",
      " 2   user_id     74197 non-null  object\n",
      "dtypes: object(3)\n",
      "memory usage: 1.7+ MB\n"
     ]
    }
   ],
   "source": [
    "#просматриваем информацию о данных в таблице mobile_dataset\n",
    "mobile_dataset.info()"
   ]
  },
  {
   "cell_type": "markdown",
   "metadata": {},
   "source": [
    "Пустых значений не выявлено, тип данных у столбца event.time не совпадает с необходимым дате"
   ]
  },
  {
   "cell_type": "code",
   "execution_count": 9,
   "metadata": {},
   "outputs": [],
   "source": [
    "# меняем форматы столбца с датой на необходимый\n",
    "mobile_dataset['event_time']=pd.to_datetime(mobile_dataset['event_time'], format='%Y-%m-%d %H:%M:%S')"
   ]
  },
  {
   "cell_type": "code",
   "execution_count": 10,
   "metadata": {},
   "outputs": [],
   "source": [
    "# округляем значения столбца с датой до секунд\n",
    "mobile_dataset['event_time'] = mobile_dataset['event_time'].dt.round('s')"
   ]
  },
  {
   "cell_type": "code",
   "execution_count": 11,
   "metadata": {},
   "outputs": [
    {
     "data": {
      "text/plain": [
       "1118"
      ]
     },
     "execution_count": 11,
     "metadata": {},
     "output_type": "execute_result"
    }
   ],
   "source": [
    "# проверяем на наличие дубликатов\n",
    "mobile_dataset.duplicated().sum() "
   ]
  },
  {
   "cell_type": "code",
   "execution_count": 12,
   "metadata": {},
   "outputs": [],
   "source": [
    "#удаляем дубликаты\n",
    "mobile_dataset = mobile_dataset.drop_duplicates().reset_index(drop=True) "
   ]
  },
  {
   "cell_type": "code",
   "execution_count": 13,
   "metadata": {},
   "outputs": [
    {
     "data": {
      "text/plain": [
       "0"
      ]
     },
     "execution_count": 13,
     "metadata": {},
     "output_type": "execute_result"
    }
   ],
   "source": [
    "# проверяем на наличие дубликатов\n",
    "mobile_sourсes.duplicated().sum()"
   ]
  },
  {
   "cell_type": "code",
   "execution_count": 14,
   "metadata": {},
   "outputs": [
    {
     "name": "stdout",
     "output_type": "stream",
     "text": [
      "<class 'pandas.core.frame.DataFrame'>\n",
      "RangeIndex: 73079 entries, 0 to 73078\n",
      "Data columns (total 3 columns):\n",
      " #   Column      Non-Null Count  Dtype         \n",
      "---  ------      --------------  -----         \n",
      " 0   event_time  73079 non-null  datetime64[ns]\n",
      " 1   event_name  73079 non-null  object        \n",
      " 2   user_id     73079 non-null  object        \n",
      "dtypes: datetime64[ns](1), object(2)\n",
      "memory usage: 1.7+ MB\n"
     ]
    }
   ],
   "source": [
    "#просматриваем информацию о данных в таблице mobile_dataset\n",
    "mobile_dataset.info()"
   ]
  },
  {
   "cell_type": "code",
   "execution_count": 15,
   "metadata": {},
   "outputs": [],
   "source": [
    "# объединим данные в одну таблицу\n",
    "mobile_dataset=mobile_dataset.merge(mobile_sourсes, on = 'user_id', how = 'left')"
   ]
  },
  {
   "cell_type": "code",
   "execution_count": 16,
   "metadata": {},
   "outputs": [],
   "source": [
    "# добавим новые столбцы с датой и неделей  события\n",
    "mobile_dataset['date'] = mobile_dataset['event_time'].dt.date\n",
    "mobile_dataset['week'] = mobile_dataset['event_time'].dt.isocalendar().week\n"
   ]
  },
  {
   "cell_type": "code",
   "execution_count": 17,
   "metadata": {},
   "outputs": [
    {
     "data": {
      "text/html": [
       "<div>\n",
       "<style scoped>\n",
       "    .dataframe tbody tr th:only-of-type {\n",
       "        vertical-align: middle;\n",
       "    }\n",
       "\n",
       "    .dataframe tbody tr th {\n",
       "        vertical-align: top;\n",
       "    }\n",
       "\n",
       "    .dataframe thead th {\n",
       "        text-align: right;\n",
       "    }\n",
       "</style>\n",
       "<table border=\"1\" class=\"dataframe\">\n",
       "  <thead>\n",
       "    <tr style=\"text-align: right;\">\n",
       "      <th></th>\n",
       "      <th>event_time</th>\n",
       "      <th>event_name</th>\n",
       "      <th>user_id</th>\n",
       "      <th>source</th>\n",
       "      <th>date</th>\n",
       "      <th>week</th>\n",
       "    </tr>\n",
       "  </thead>\n",
       "  <tbody>\n",
       "    <tr>\n",
       "      <th>0</th>\n",
       "      <td>2019-10-07 00:00:00</td>\n",
       "      <td>advert_open</td>\n",
       "      <td>020292ab-89bc-4156-9acf-68bc2783f894</td>\n",
       "      <td>other</td>\n",
       "      <td>2019-10-07</td>\n",
       "      <td>41</td>\n",
       "    </tr>\n",
       "    <tr>\n",
       "      <th>1</th>\n",
       "      <td>2019-10-07 00:00:01</td>\n",
       "      <td>tips_show</td>\n",
       "      <td>020292ab-89bc-4156-9acf-68bc2783f894</td>\n",
       "      <td>other</td>\n",
       "      <td>2019-10-07</td>\n",
       "      <td>41</td>\n",
       "    </tr>\n",
       "    <tr>\n",
       "      <th>2</th>\n",
       "      <td>2019-10-07 00:00:02</td>\n",
       "      <td>tips_show</td>\n",
       "      <td>cf7eda61-9349-469f-ac27-e5b6f5ec475c</td>\n",
       "      <td>yandex</td>\n",
       "      <td>2019-10-07</td>\n",
       "      <td>41</td>\n",
       "    </tr>\n",
       "    <tr>\n",
       "      <th>3</th>\n",
       "      <td>2019-10-07 00:00:07</td>\n",
       "      <td>tips_show</td>\n",
       "      <td>020292ab-89bc-4156-9acf-68bc2783f894</td>\n",
       "      <td>other</td>\n",
       "      <td>2019-10-07</td>\n",
       "      <td>41</td>\n",
       "    </tr>\n",
       "    <tr>\n",
       "      <th>4</th>\n",
       "      <td>2019-10-07 00:00:56</td>\n",
       "      <td>advert_open</td>\n",
       "      <td>cf7eda61-9349-469f-ac27-e5b6f5ec475c</td>\n",
       "      <td>yandex</td>\n",
       "      <td>2019-10-07</td>\n",
       "      <td>41</td>\n",
       "    </tr>\n",
       "  </tbody>\n",
       "</table>\n",
       "</div>"
      ],
      "text/plain": [
       "           event_time   event_name                               user_id  \\\n",
       "0 2019-10-07 00:00:00  advert_open  020292ab-89bc-4156-9acf-68bc2783f894   \n",
       "1 2019-10-07 00:00:01    tips_show  020292ab-89bc-4156-9acf-68bc2783f894   \n",
       "2 2019-10-07 00:00:02    tips_show  cf7eda61-9349-469f-ac27-e5b6f5ec475c   \n",
       "3 2019-10-07 00:00:07    tips_show  020292ab-89bc-4156-9acf-68bc2783f894   \n",
       "4 2019-10-07 00:00:56  advert_open  cf7eda61-9349-469f-ac27-e5b6f5ec475c   \n",
       "\n",
       "   source        date  week  \n",
       "0   other  2019-10-07    41  \n",
       "1   other  2019-10-07    41  \n",
       "2  yandex  2019-10-07    41  \n",
       "3   other  2019-10-07    41  \n",
       "4  yandex  2019-10-07    41  "
      ]
     },
     "execution_count": 17,
     "metadata": {},
     "output_type": "execute_result"
    }
   ],
   "source": [
    "mobile_dataset.head()"
   ]
  },
  {
   "cell_type": "code",
   "execution_count": 18,
   "metadata": {},
   "outputs": [
    {
     "data": {
      "text/plain": [
       "array(['advert_open', 'tips_show', 'map', 'contacts_show', 'search_4',\n",
       "       'search_5', 'tips_click', 'photos_show', 'search_1', 'search_2',\n",
       "       'search_3', 'favorites_add', 'contacts_call', 'search_6',\n",
       "       'search_7', 'show_contacts'], dtype=object)"
      ]
     },
     "execution_count": 18,
     "metadata": {},
     "output_type": "execute_result"
    }
   ],
   "source": [
    "#просматриваем какие события у нас имеются\n",
    "mobile_dataset['event_name'].unique()"
   ]
  },
  {
   "cell_type": "markdown",
   "metadata": {},
   "source": [
    "Так как более подробных деталей у событий search_1 -search_7 у нас не имеется, принято решение заменить название этих событий на search.\n",
    "Также событий contacts_show и show_contacts замененяется на одно."
   ]
  },
  {
   "cell_type": "code",
   "execution_count": 19,
   "metadata": {},
   "outputs": [],
   "source": [
    "# заменяем значения 'show_contacts'в столбце event_name на 'contacts_show'\n",
    "mobile_dataset.loc[(mobile_dataset['event_name']=='show_contacts'), 'event_name']='contacts_show'\n"
   ]
  },
  {
   "cell_type": "code",
   "execution_count": 20,
   "metadata": {},
   "outputs": [],
   "source": [
    "# заменяем значения search_1 -search_7  на search\n",
    "search=['search_1', 'search_2', 'search_3', 'search_4', 'search_5', 'search_6', 'search_7']\n",
    "for i in search:\n",
    "    mobile_dataset.loc[(mobile_dataset['event_name']==i), 'event_name']='search'\n"
   ]
  },
  {
   "cell_type": "markdown",
   "metadata": {},
   "source": [
    "### Вывод по загрузке и подготовке данных\n",
    "В рамках подготовки данных:\n",
    "- были удалены дубликаты в таблице mobile_dataset;\n",
    "- исправлен формат данных со временем на необходимый, а также округлена дата до секунды;\n",
    "- изменены названия столбцов в соответсвие со змеиным регистром;\n",
    "- пустых значений не выявлено;\n",
    "- данные объединены в один датафрейм;\n",
    "- переименовали события."
   ]
  },
  {
   "cell_type": "markdown",
   "metadata": {},
   "source": [
    "## Исследовательский анализ данных"
   ]
  },
  {
   "cell_type": "code",
   "execution_count": 21,
   "metadata": {},
   "outputs": [
    {
     "data": {
      "text/plain": [
       "Timestamp('2019-10-07 00:00:00')"
      ]
     },
     "execution_count": 21,
     "metadata": {},
     "output_type": "execute_result"
    }
   ],
   "source": [
    "# просматриваем начало периода наблюдений\n",
    "mobile_dataset['event_time'].min()\n"
   ]
  },
  {
   "cell_type": "code",
   "execution_count": 22,
   "metadata": {},
   "outputs": [
    {
     "data": {
      "text/plain": [
       "Timestamp('2019-11-03 23:58:13')"
      ]
     },
     "execution_count": 22,
     "metadata": {},
     "output_type": "execute_result"
    }
   ],
   "source": [
    "# просматриваем конец периода наблюдений\n",
    "mobile_dataset['event_time'].max()"
   ]
  },
  {
   "cell_type": "markdown",
   "metadata": {},
   "source": [
    "Имеются данные с 7 октября 2019 года по 3 ноября 2019 года - 28 дней"
   ]
  },
  {
   "cell_type": "code",
   "execution_count": 23,
   "metadata": {},
   "outputs": [
    {
     "data": {
      "text/plain": [
       "source\n",
       "google    1129\n",
       "other     1230\n",
       "yandex    1934\n",
       "Name: user_id, dtype: int64"
      ]
     },
     "execution_count": 23,
     "metadata": {},
     "output_type": "execute_result"
    }
   ],
   "source": [
    "# просматриваем сколько пользователей пришло с каждого источника\n",
    "mobile_dataset.groupby('source')['user_id'].nunique()\n"
   ]
  },
  {
   "cell_type": "markdown",
   "metadata": {},
   "source": [
    "Больше всего клиентов приходит из yandex"
   ]
  },
  {
   "cell_type": "code",
   "execution_count": 77,
   "metadata": {},
   "outputs": [
    {
     "data": {
      "text/html": [
       "<div>\n",
       "<style scoped>\n",
       "    .dataframe tbody tr th:only-of-type {\n",
       "        vertical-align: middle;\n",
       "    }\n",
       "\n",
       "    .dataframe tbody tr th {\n",
       "        vertical-align: top;\n",
       "    }\n",
       "\n",
       "    .dataframe thead th {\n",
       "        text-align: right;\n",
       "    }\n",
       "</style>\n",
       "<table border=\"1\" class=\"dataframe\">\n",
       "  <thead>\n",
       "    <tr style=\"text-align: right;\">\n",
       "      <th></th>\n",
       "      <th>user_id</th>\n",
       "    </tr>\n",
       "    <tr>\n",
       "      <th>event_name</th>\n",
       "      <th></th>\n",
       "    </tr>\n",
       "  </thead>\n",
       "  <tbody>\n",
       "    <tr>\n",
       "      <th>tips_show</th>\n",
       "      <td>39892</td>\n",
       "    </tr>\n",
       "    <tr>\n",
       "      <th>photos_show</th>\n",
       "      <td>9372</td>\n",
       "    </tr>\n",
       "    <tr>\n",
       "      <th>search</th>\n",
       "      <td>6766</td>\n",
       "    </tr>\n",
       "    <tr>\n",
       "      <th>advert_open</th>\n",
       "      <td>6145</td>\n",
       "    </tr>\n",
       "    <tr>\n",
       "      <th>contacts_show</th>\n",
       "      <td>4381</td>\n",
       "    </tr>\n",
       "    <tr>\n",
       "      <th>map</th>\n",
       "      <td>3760</td>\n",
       "    </tr>\n",
       "    <tr>\n",
       "      <th>favorites_add</th>\n",
       "      <td>1414</td>\n",
       "    </tr>\n",
       "    <tr>\n",
       "      <th>tips_click</th>\n",
       "      <td>811</td>\n",
       "    </tr>\n",
       "    <tr>\n",
       "      <th>contacts_call</th>\n",
       "      <td>538</td>\n",
       "    </tr>\n",
       "  </tbody>\n",
       "</table>\n",
       "</div>"
      ],
      "text/plain": [
       "               user_id\n",
       "event_name            \n",
       "tips_show        39892\n",
       "photos_show       9372\n",
       "search            6766\n",
       "advert_open       6145\n",
       "contacts_show     4381\n",
       "map               3760\n",
       "favorites_add     1414\n",
       "tips_click         811\n",
       "contacts_call      538"
      ]
     },
     "execution_count": 77,
     "metadata": {},
     "output_type": "execute_result"
    }
   ],
   "source": [
    "# просматриваем количество пользователей на каждом событии\n",
    "c=mobile_dataset.groupby('event_name')['user_id'].count().sort_values(ascending=False).reset_index()\n",
    "c = c.set_index('event_name')\n",
    "c\n"
   ]
  },
  {
   "cell_type": "markdown",
   "metadata": {},
   "source": [
    "Самое популярное событие - tips_show (пользователь увидел рекомендованное объявление).\n",
    "Затем пользователи чаще всего просматривает фотографию в объявлении (photos_show) - 9372 раза. Целевое событие contacts_show (просмотр номер телефона) совершает только 4381 раз. Карту просматривает небольшое количество пользователей - 3760, в избранное добавляют также небольшое количество пользователей - 1414\n",
    "\n",
    "Скорее всего события происходят в следующем порядке:\n",
    "\n",
    "Если пользователь пришел по рекомендованном объявлению:\n",
    "- tips_show  — пользователь увидел рекомендованные объявления\n",
    "- tips_click  — пользователь кликнул по рекомендованному объявлению\n",
    "- photos_show  — просмотр фотографий в объявлении\n",
    "- contacts_show  — пользователь нажал на кнопку \"посмотреть номер телефона\" на карточке объявления\n",
    "- contacts_call  — пользователь позвонил по номеру телефона на карточке объявления\n",
    "- favorites_add  — добавление объявления в избранное\n",
    "\n",
    "Если пользователь сам пришел на сайт:\n",
    "\n",
    "- search - разные события, связанные с поиском по сайту\n",
    "- map  — пользователь открыл карту размещенных объявлений \n",
    "- advert_open  — открытие карточки объявления\n",
    "- photos_show  — просмотр фотографий в объявлении\n",
    "- contacts_show — пользователь нажал на кнопку \"посмотреть номер телефона\" на карточке объявления\n",
    "- contacts_call  — пользователь позвонил по номеру телефона на карточке объявления  \n",
    "- favorites_add  — добавление объявления в избранное  \n",
    "\n"
   ]
  },
  {
   "cell_type": "code",
   "execution_count": 25,
   "metadata": {},
   "outputs": [
    {
     "data": {
      "text/plain": [
       "Text(0.5, 0, 'Дата')"
      ]
     },
     "execution_count": 25,
     "metadata": {},
     "output_type": "execute_result"
    },
    {
     "data": {
      "image/png": "[encoded data removed]",
      "text/plain": [
       "<Figure size 1080x504 with 1 Axes>"
      ]
     },
     "metadata": {
      "needs_background": "light"
     },
     "output_type": "display_data"
    }
   ],
   "source": [
    "#просмотрим количество событий по дням\n",
    "mobile_dataset['event_time'].hist( figsize=(15,7))\n",
    "plt.title('Распределение количества событий')\n",
    "plt.xlabel('Дата')\n"
   ]
  },
  {
   "cell_type": "markdown",
   "metadata": {},
   "source": [
    "В течение  всего времени больше всего количества событий выявлено 1 ноября, меньше всего - 11 октября, однако в принципе приложение работало стабильно, резких скачков с действиями в приложении не выявлено."
   ]
  },
  {
   "cell_type": "code",
   "execution_count": 26,
   "metadata": {},
   "outputs": [
    {
     "data": {
      "text/plain": [
       "73079"
      ]
     },
     "execution_count": 26,
     "metadata": {},
     "output_type": "execute_result"
    }
   ],
   "source": [
    "# посмотрим общее количество событий \n",
    "mobile_dataset.shape[0]"
   ]
  },
  {
   "cell_type": "code",
   "execution_count": 27,
   "metadata": {},
   "outputs": [
    {
     "data": {
      "text/plain": [
       "4293"
      ]
     },
     "execution_count": 27,
     "metadata": {},
     "output_type": "execute_result"
    }
   ],
   "source": [
    "# посмотрим  количество  уникальных пользователей \n",
    "mobile_dataset['user_id'].nunique()"
   ]
  },
  {
   "cell_type": "code",
   "execution_count": 28,
   "metadata": {},
   "outputs": [
    {
     "data": {
      "text/plain": [
       "17.022827859305846"
      ]
     },
     "execution_count": 28,
     "metadata": {},
     "output_type": "execute_result"
    }
   ],
   "source": [
    "#посмотрим на среднее количество событий на одного пользователя\n",
    "mobile_dataset.shape[0]/ mobile_dataset['user_id'].nunique()"
   ]
  },
  {
   "cell_type": "markdown",
   "metadata": {},
   "source": [
    "В среднем один пользователь совершает по 17 событий."
   ]
  },
  {
   "cell_type": "code",
   "execution_count": 29,
   "metadata": {},
   "outputs": [
    {
     "name": "stdout",
     "output_type": "stream",
     "text": [
      "Количество уникальных пользователей в день -  279\n",
      "Количество уникальных пользователей в неделю -  1382\n"
     ]
    }
   ],
   "source": [
    "# рассчитаем DAU и WAU (количество уникальных пользователей в день и в неделю)\n",
    "dau_total = mobile_dataset.groupby('date').agg({'user_id':'nunique'}).mean()\n",
    "wau_total = mobile_dataset.groupby('week').agg({'user_id':'nunique'}).mean()\n",
    "print('Количество уникальных пользователей в день - ', int(dau_total))\n",
    "print('Количество уникальных пользователей в неделю - ', int(wau_total))"
   ]
  },
  {
   "cell_type": "code",
   "execution_count": 30,
   "metadata": {},
   "outputs": [
    {
     "data": {
      "text/html": [
       "<div>\n",
       "<style scoped>\n",
       "    .dataframe tbody tr th:only-of-type {\n",
       "        vertical-align: middle;\n",
       "    }\n",
       "\n",
       "    .dataframe tbody tr th {\n",
       "        vertical-align: top;\n",
       "    }\n",
       "\n",
       "    .dataframe thead th {\n",
       "        text-align: right;\n",
       "    }\n",
       "</style>\n",
       "<table border=\"1\" class=\"dataframe\">\n",
       "  <thead>\n",
       "    <tr style=\"text-align: right;\">\n",
       "      <th></th>\n",
       "      <th>event_name</th>\n",
       "    </tr>\n",
       "  </thead>\n",
       "  <tbody>\n",
       "    <tr>\n",
       "      <th>count</th>\n",
       "      <td>4293.000000</td>\n",
       "    </tr>\n",
       "    <tr>\n",
       "      <th>mean</th>\n",
       "      <td>17.022828</td>\n",
       "    </tr>\n",
       "    <tr>\n",
       "      <th>std</th>\n",
       "      <td>28.617646</td>\n",
       "    </tr>\n",
       "    <tr>\n",
       "      <th>min</th>\n",
       "      <td>1.000000</td>\n",
       "    </tr>\n",
       "    <tr>\n",
       "      <th>25%</th>\n",
       "      <td>5.000000</td>\n",
       "    </tr>\n",
       "    <tr>\n",
       "      <th>50%</th>\n",
       "      <td>9.000000</td>\n",
       "    </tr>\n",
       "    <tr>\n",
       "      <th>75%</th>\n",
       "      <td>17.000000</td>\n",
       "    </tr>\n",
       "    <tr>\n",
       "      <th>max</th>\n",
       "      <td>472.000000</td>\n",
       "    </tr>\n",
       "  </tbody>\n",
       "</table>\n",
       "</div>"
      ],
      "text/plain": [
       "        event_name\n",
       "count  4293.000000\n",
       "mean     17.022828\n",
       "std      28.617646\n",
       "min       1.000000\n",
       "25%       5.000000\n",
       "50%       9.000000\n",
       "75%      17.000000\n",
       "max     472.000000"
      ]
     },
     "execution_count": 30,
     "metadata": {},
     "output_type": "execute_result"
    }
   ],
   "source": [
    "#посмотрим информацию о событиях для каждого пользователя\n",
    "ev=mobile_dataset.groupby('user_id').agg({'event_name':'count'}).reset_index()\n",
    "ev.describe()"
   ]
  },
  {
   "cell_type": "markdown",
   "metadata": {},
   "source": [
    "При среднем количестве событий на каждого пользователя - 17, видим, что медианное значение количесвта событий равно 9."
   ]
  },
  {
   "cell_type": "code",
   "execution_count": 31,
   "metadata": {
    "scrolled": true
   },
   "outputs": [
    {
     "data": {
      "text/plain": [
       "Text(0.5, 0, 'События')"
      ]
     },
     "execution_count": 31,
     "metadata": {},
     "output_type": "execute_result"
    },
    {
     "data": {
      "image/png": "[encoded data removed]",
      "text/plain": [
       "<Figure size 1080x504 with 1 Axes>"
      ]
     },
     "metadata": {
      "needs_background": "light"
     },
     "output_type": "display_data"
    }
   ],
   "source": [
    "mobile_dataset.groupby('user_id').agg({'event_name':'count'}).hist(bins=200, figsize=(15,7))\n",
    "plt.title('Распределение количества событий на 1 пользователя')\n",
    "plt.xlabel('События')"
   ]
  },
  {
   "cell_type": "markdown",
   "metadata": {},
   "source": [
    "На графике видно, что есть пользователи которые совершают больше 200 событий, и даже больше 400. Однако большинство пользователей совершают не больше 20 событий."
   ]
  },
  {
   "cell_type": "markdown",
   "metadata": {},
   "source": [
    "### Вывод по исследовательскому анализу данных\n",
    "\n",
    "Анализируя данные, отмечаем что имеем сведения  с 7 октября 2019 года по 3 ноября 2019 года - всего за 28 дней\n",
    "\n",
    "Клиентов, пришедших с  yandex больше - 45 процентов.\n",
    "\n",
    "Общее количество событий - 73079, в течение  всего времени больше всего количества событий выявлено 1 ноября, меньше всего - 11 октября, однако в принципе приложение работало стабильно, резких скачков с действиями в приложении не выявлено.\n",
    "\n",
    "Всего 4293 клиента, в среднем на клиента приходится 17 событий, однако медианное количество событий составляет  9, так как имеются значительные выбросы в 200 и даже в 472 события.\n",
    "\n",
    "Количество уникальных пользователей в день -  279\n",
    "\n",
    "Количество уникальных пользователей в неделю -  1382\n",
    "\n"
   ]
  },
  {
   "cell_type": "markdown",
   "metadata": {},
   "source": [
    "## Сегментирование пользователей на 2 группы"
   ]
  },
  {
   "cell_type": "markdown",
   "metadata": {},
   "source": [
    "### Разделим пользователей на 2 группы"
   ]
  },
  {
   "cell_type": "markdown",
   "metadata": {},
   "source": [
    "Делить пользователей будем по количеству действий, совершаемых ими в рамках одной сессии(до медианного значения и после). Данный подход связан с гипотезой, что чем глубже, больше действий выполняет пользователь в рамках использования приложения, тем оно интереснее для клиента и тем дольше клиент остается с приложением.\n",
    "\n",
    "Далее выделим сесии по 20 минут, так как именно столько примерно понадобится клиенту на список действий(просмотр объявления, фотографий, карты, открытия карточки...) если на каждое объявление необходимо 2-3 минуты. то клиент сможет просмотреть от 6 до 10 объявлений.\n"
   ]
  },
  {
   "cell_type": "code",
   "execution_count": 32,
   "metadata": {},
   "outputs": [
    {
     "data": {
      "text/html": [
       "<div>\n",
       "<style scoped>\n",
       "    .dataframe tbody tr th:only-of-type {\n",
       "        vertical-align: middle;\n",
       "    }\n",
       "\n",
       "    .dataframe tbody tr th {\n",
       "        vertical-align: top;\n",
       "    }\n",
       "\n",
       "    .dataframe thead th {\n",
       "        text-align: right;\n",
       "    }\n",
       "</style>\n",
       "<table border=\"1\" class=\"dataframe\">\n",
       "  <thead>\n",
       "    <tr style=\"text-align: right;\">\n",
       "      <th></th>\n",
       "      <th>event_time</th>\n",
       "      <th>event_name</th>\n",
       "      <th>user_id</th>\n",
       "      <th>source</th>\n",
       "      <th>date</th>\n",
       "      <th>week</th>\n",
       "      <th>session_id</th>\n",
       "    </tr>\n",
       "  </thead>\n",
       "  <tbody>\n",
       "    <tr>\n",
       "      <th>0</th>\n",
       "      <td>2019-10-07 00:00:00</td>\n",
       "      <td>advert_open</td>\n",
       "      <td>020292ab-89bc-4156-9acf-68bc2783f894</td>\n",
       "      <td>other</td>\n",
       "      <td>2019-10-07</td>\n",
       "      <td>41</td>\n",
       "      <td>1</td>\n",
       "    </tr>\n",
       "    <tr>\n",
       "      <th>1</th>\n",
       "      <td>2019-10-07 00:00:01</td>\n",
       "      <td>tips_show</td>\n",
       "      <td>020292ab-89bc-4156-9acf-68bc2783f894</td>\n",
       "      <td>other</td>\n",
       "      <td>2019-10-07</td>\n",
       "      <td>41</td>\n",
       "      <td>1</td>\n",
       "    </tr>\n",
       "    <tr>\n",
       "      <th>2</th>\n",
       "      <td>2019-10-07 00:00:02</td>\n",
       "      <td>tips_show</td>\n",
       "      <td>cf7eda61-9349-469f-ac27-e5b6f5ec475c</td>\n",
       "      <td>yandex</td>\n",
       "      <td>2019-10-07</td>\n",
       "      <td>41</td>\n",
       "      <td>2</td>\n",
       "    </tr>\n",
       "    <tr>\n",
       "      <th>3</th>\n",
       "      <td>2019-10-07 00:00:07</td>\n",
       "      <td>tips_show</td>\n",
       "      <td>020292ab-89bc-4156-9acf-68bc2783f894</td>\n",
       "      <td>other</td>\n",
       "      <td>2019-10-07</td>\n",
       "      <td>41</td>\n",
       "      <td>1</td>\n",
       "    </tr>\n",
       "    <tr>\n",
       "      <th>4</th>\n",
       "      <td>2019-10-07 00:00:56</td>\n",
       "      <td>advert_open</td>\n",
       "      <td>cf7eda61-9349-469f-ac27-e5b6f5ec475c</td>\n",
       "      <td>yandex</td>\n",
       "      <td>2019-10-07</td>\n",
       "      <td>41</td>\n",
       "      <td>2</td>\n",
       "    </tr>\n",
       "  </tbody>\n",
       "</table>\n",
       "</div>"
      ],
      "text/plain": [
       "           event_time   event_name                               user_id  \\\n",
       "0 2019-10-07 00:00:00  advert_open  020292ab-89bc-4156-9acf-68bc2783f894   \n",
       "1 2019-10-07 00:00:01    tips_show  020292ab-89bc-4156-9acf-68bc2783f894   \n",
       "2 2019-10-07 00:00:02    tips_show  cf7eda61-9349-469f-ac27-e5b6f5ec475c   \n",
       "3 2019-10-07 00:00:07    tips_show  020292ab-89bc-4156-9acf-68bc2783f894   \n",
       "4 2019-10-07 00:00:56  advert_open  cf7eda61-9349-469f-ac27-e5b6f5ec475c   \n",
       "\n",
       "   source        date  week  session_id  \n",
       "0   other  2019-10-07    41           1  \n",
       "1   other  2019-10-07    41           1  \n",
       "2  yandex  2019-10-07    41           2  \n",
       "3   other  2019-10-07    41           1  \n",
       "4  yandex  2019-10-07    41           2  "
      ]
     },
     "execution_count": 32,
     "metadata": {},
     "output_type": "execute_result"
    }
   ],
   "source": [
    "#Выделяем сессии\n",
    "\n",
    "g = (mobile_dataset.groupby('user_id')['event_time'].diff() > pd.Timedelta('20Min')).cumsum()\n",
    "\n",
    "#create counter of groups\n",
    "mobile_dataset['session_id'] = mobile_dataset.groupby(['user_id', g], sort=False).ngroup() + 1\n",
    "mobile_dataset.head()"
   ]
  },
  {
   "cell_type": "code",
   "execution_count": 33,
   "metadata": {},
   "outputs": [
    {
     "data": {
      "text/html": [
       "<div>\n",
       "<style scoped>\n",
       "    .dataframe tbody tr th:only-of-type {\n",
       "        vertical-align: middle;\n",
       "    }\n",
       "\n",
       "    .dataframe tbody tr th {\n",
       "        vertical-align: top;\n",
       "    }\n",
       "\n",
       "    .dataframe thead th {\n",
       "        text-align: right;\n",
       "    }\n",
       "</style>\n",
       "<table border=\"1\" class=\"dataframe\">\n",
       "  <thead>\n",
       "    <tr style=\"text-align: right;\">\n",
       "      <th></th>\n",
       "      <th>session_id</th>\n",
       "      <th>event_name</th>\n",
       "    </tr>\n",
       "  </thead>\n",
       "  <tbody>\n",
       "    <tr>\n",
       "      <th>0</th>\n",
       "      <td>1</td>\n",
       "      <td>28</td>\n",
       "    </tr>\n",
       "    <tr>\n",
       "      <th>1</th>\n",
       "      <td>2</td>\n",
       "      <td>25</td>\n",
       "    </tr>\n",
       "    <tr>\n",
       "      <th>2</th>\n",
       "      <td>3</td>\n",
       "      <td>19</td>\n",
       "    </tr>\n",
       "    <tr>\n",
       "      <th>3</th>\n",
       "      <td>4</td>\n",
       "      <td>2</td>\n",
       "    </tr>\n",
       "    <tr>\n",
       "      <th>4</th>\n",
       "      <td>5</td>\n",
       "      <td>33</td>\n",
       "    </tr>\n",
       "    <tr>\n",
       "      <th>...</th>\n",
       "      <td>...</td>\n",
       "      <td>...</td>\n",
       "    </tr>\n",
       "    <tr>\n",
       "      <th>27980</th>\n",
       "      <td>27981</td>\n",
       "      <td>2</td>\n",
       "    </tr>\n",
       "    <tr>\n",
       "      <th>27981</th>\n",
       "      <td>27982</td>\n",
       "      <td>4</td>\n",
       "    </tr>\n",
       "    <tr>\n",
       "      <th>27982</th>\n",
       "      <td>27983</td>\n",
       "      <td>6</td>\n",
       "    </tr>\n",
       "    <tr>\n",
       "      <th>27983</th>\n",
       "      <td>27984</td>\n",
       "      <td>1</td>\n",
       "    </tr>\n",
       "    <tr>\n",
       "      <th>27984</th>\n",
       "      <td>27985</td>\n",
       "      <td>2</td>\n",
       "    </tr>\n",
       "  </tbody>\n",
       "</table>\n",
       "<p>27985 rows × 2 columns</p>\n",
       "</div>"
      ],
      "text/plain": [
       "       session_id  event_name\n",
       "0               1          28\n",
       "1               2          25\n",
       "2               3          19\n",
       "3               4           2\n",
       "4               5          33\n",
       "...           ...         ...\n",
       "27980       27981           2\n",
       "27981       27982           4\n",
       "27982       27983           6\n",
       "27983       27984           1\n",
       "27984       27985           2\n",
       "\n",
       "[27985 rows x 2 columns]"
      ]
     },
     "metadata": {},
     "output_type": "display_data"
    }
   ],
   "source": [
    "#просмотрим сколько событий происходит в каждую сессию\n",
    "session=mobile_dataset.groupby('session_id')['event_name'].count().reset_index()\n",
    "display(session)"
   ]
  },
  {
   "cell_type": "code",
   "execution_count": 34,
   "metadata": {},
   "outputs": [
    {
     "data": {
      "text/html": [
       "<div>\n",
       "<style scoped>\n",
       "    .dataframe tbody tr th:only-of-type {\n",
       "        vertical-align: middle;\n",
       "    }\n",
       "\n",
       "    .dataframe tbody tr th {\n",
       "        vertical-align: top;\n",
       "    }\n",
       "\n",
       "    .dataframe thead th {\n",
       "        text-align: right;\n",
       "    }\n",
       "</style>\n",
       "<table border=\"1\" class=\"dataframe\">\n",
       "  <thead>\n",
       "    <tr style=\"text-align: right;\">\n",
       "      <th></th>\n",
       "      <th>session_id</th>\n",
       "      <th>event_name</th>\n",
       "    </tr>\n",
       "  </thead>\n",
       "  <tbody>\n",
       "    <tr>\n",
       "      <th>count</th>\n",
       "      <td>27985.000000</td>\n",
       "      <td>27985.000000</td>\n",
       "    </tr>\n",
       "    <tr>\n",
       "      <th>mean</th>\n",
       "      <td>13993.000000</td>\n",
       "      <td>2.611363</td>\n",
       "    </tr>\n",
       "    <tr>\n",
       "      <th>std</th>\n",
       "      <td>8078.717978</td>\n",
       "      <td>2.844422</td>\n",
       "    </tr>\n",
       "    <tr>\n",
       "      <th>min</th>\n",
       "      <td>1.000000</td>\n",
       "      <td>1.000000</td>\n",
       "    </tr>\n",
       "    <tr>\n",
       "      <th>25%</th>\n",
       "      <td>6997.000000</td>\n",
       "      <td>1.000000</td>\n",
       "    </tr>\n",
       "    <tr>\n",
       "      <th>50%</th>\n",
       "      <td>13993.000000</td>\n",
       "      <td>2.000000</td>\n",
       "    </tr>\n",
       "    <tr>\n",
       "      <th>75%</th>\n",
       "      <td>20989.000000</td>\n",
       "      <td>3.000000</td>\n",
       "    </tr>\n",
       "    <tr>\n",
       "      <th>max</th>\n",
       "      <td>27985.000000</td>\n",
       "      <td>63.000000</td>\n",
       "    </tr>\n",
       "  </tbody>\n",
       "</table>\n",
       "</div>"
      ],
      "text/plain": [
       "         session_id    event_name\n",
       "count  27985.000000  27985.000000\n",
       "mean   13993.000000      2.611363\n",
       "std     8078.717978      2.844422\n",
       "min        1.000000      1.000000\n",
       "25%     6997.000000      1.000000\n",
       "50%    13993.000000      2.000000\n",
       "75%    20989.000000      3.000000\n",
       "max    27985.000000     63.000000"
      ]
     },
     "execution_count": 34,
     "metadata": {},
     "output_type": "execute_result"
    }
   ],
   "source": [
    "session.describe()"
   ]
  },
  {
   "cell_type": "markdown",
   "metadata": {},
   "source": [
    "Максимальное количество событий в сесии - 63, минимальное - 1, среднее медианное значение - 2,6. Разделим пользователей на 2 группы: тех, кто совершил в рамках одной сессии 2 и менее события, и тех, кто совершил 3 и более события."
   ]
  },
  {
   "cell_type": "code",
   "execution_count": 35,
   "metadata": {},
   "outputs": [
    {
     "data": {
      "text/html": [
       "<div>\n",
       "<style scoped>\n",
       "    .dataframe tbody tr th:only-of-type {\n",
       "        vertical-align: middle;\n",
       "    }\n",
       "\n",
       "    .dataframe tbody tr th {\n",
       "        vertical-align: top;\n",
       "    }\n",
       "\n",
       "    .dataframe thead th {\n",
       "        text-align: right;\n",
       "    }\n",
       "</style>\n",
       "<table border=\"1\" class=\"dataframe\">\n",
       "  <thead>\n",
       "    <tr style=\"text-align: right;\">\n",
       "      <th></th>\n",
       "      <th>session_id</th>\n",
       "      <th>event_name</th>\n",
       "    </tr>\n",
       "  </thead>\n",
       "  <tbody>\n",
       "    <tr>\n",
       "      <th>3</th>\n",
       "      <td>4</td>\n",
       "      <td>2</td>\n",
       "    </tr>\n",
       "    <tr>\n",
       "      <th>9</th>\n",
       "      <td>10</td>\n",
       "      <td>1</td>\n",
       "    </tr>\n",
       "    <tr>\n",
       "      <th>15</th>\n",
       "      <td>16</td>\n",
       "      <td>1</td>\n",
       "    </tr>\n",
       "    <tr>\n",
       "      <th>19</th>\n",
       "      <td>20</td>\n",
       "      <td>1</td>\n",
       "    </tr>\n",
       "    <tr>\n",
       "      <th>22</th>\n",
       "      <td>23</td>\n",
       "      <td>1</td>\n",
       "    </tr>\n",
       "    <tr>\n",
       "      <th>...</th>\n",
       "      <td>...</td>\n",
       "      <td>...</td>\n",
       "    </tr>\n",
       "    <tr>\n",
       "      <th>27978</th>\n",
       "      <td>27979</td>\n",
       "      <td>1</td>\n",
       "    </tr>\n",
       "    <tr>\n",
       "      <th>27979</th>\n",
       "      <td>27980</td>\n",
       "      <td>1</td>\n",
       "    </tr>\n",
       "    <tr>\n",
       "      <th>27980</th>\n",
       "      <td>27981</td>\n",
       "      <td>2</td>\n",
       "    </tr>\n",
       "    <tr>\n",
       "      <th>27983</th>\n",
       "      <td>27984</td>\n",
       "      <td>1</td>\n",
       "    </tr>\n",
       "    <tr>\n",
       "      <th>27984</th>\n",
       "      <td>27985</td>\n",
       "      <td>2</td>\n",
       "    </tr>\n",
       "  </tbody>\n",
       "</table>\n",
       "<p>18903 rows × 2 columns</p>\n",
       "</div>"
      ],
      "text/plain": [
       "       session_id  event_name\n",
       "3               4           2\n",
       "9              10           1\n",
       "15             16           1\n",
       "19             20           1\n",
       "22             23           1\n",
       "...           ...         ...\n",
       "27978       27979           1\n",
       "27979       27980           1\n",
       "27980       27981           2\n",
       "27983       27984           1\n",
       "27984       27985           2\n",
       "\n",
       "[18903 rows x 2 columns]"
      ]
     },
     "metadata": {},
     "output_type": "display_data"
    }
   ],
   "source": [
    "#выделим сессии, в которых количество событий меньше либо равно 2\n",
    "session_1=session.loc[session['event_name']<3]\n",
    "display(session_1)\n"
   ]
  },
  {
   "cell_type": "code",
   "execution_count": 36,
   "metadata": {},
   "outputs": [
    {
     "data": {
      "text/html": [
       "<div>\n",
       "<style scoped>\n",
       "    .dataframe tbody tr th:only-of-type {\n",
       "        vertical-align: middle;\n",
       "    }\n",
       "\n",
       "    .dataframe tbody tr th {\n",
       "        vertical-align: top;\n",
       "    }\n",
       "\n",
       "    .dataframe thead th {\n",
       "        text-align: right;\n",
       "    }\n",
       "</style>\n",
       "<table border=\"1\" class=\"dataframe\">\n",
       "  <thead>\n",
       "    <tr style=\"text-align: right;\">\n",
       "      <th></th>\n",
       "      <th>session_id</th>\n",
       "      <th>event_name</th>\n",
       "    </tr>\n",
       "  </thead>\n",
       "  <tbody>\n",
       "    <tr>\n",
       "      <th>0</th>\n",
       "      <td>1</td>\n",
       "      <td>28</td>\n",
       "    </tr>\n",
       "    <tr>\n",
       "      <th>1</th>\n",
       "      <td>2</td>\n",
       "      <td>25</td>\n",
       "    </tr>\n",
       "    <tr>\n",
       "      <th>2</th>\n",
       "      <td>3</td>\n",
       "      <td>19</td>\n",
       "    </tr>\n",
       "    <tr>\n",
       "      <th>4</th>\n",
       "      <td>5</td>\n",
       "      <td>33</td>\n",
       "    </tr>\n",
       "    <tr>\n",
       "      <th>5</th>\n",
       "      <td>6</td>\n",
       "      <td>22</td>\n",
       "    </tr>\n",
       "    <tr>\n",
       "      <th>...</th>\n",
       "      <td>...</td>\n",
       "      <td>...</td>\n",
       "    </tr>\n",
       "    <tr>\n",
       "      <th>27971</th>\n",
       "      <td>27972</td>\n",
       "      <td>3</td>\n",
       "    </tr>\n",
       "    <tr>\n",
       "      <th>27972</th>\n",
       "      <td>27973</td>\n",
       "      <td>4</td>\n",
       "    </tr>\n",
       "    <tr>\n",
       "      <th>27977</th>\n",
       "      <td>27978</td>\n",
       "      <td>3</td>\n",
       "    </tr>\n",
       "    <tr>\n",
       "      <th>27981</th>\n",
       "      <td>27982</td>\n",
       "      <td>4</td>\n",
       "    </tr>\n",
       "    <tr>\n",
       "      <th>27982</th>\n",
       "      <td>27983</td>\n",
       "      <td>6</td>\n",
       "    </tr>\n",
       "  </tbody>\n",
       "</table>\n",
       "<p>9082 rows × 2 columns</p>\n",
       "</div>"
      ],
      "text/plain": [
       "       session_id  event_name\n",
       "0               1          28\n",
       "1               2          25\n",
       "2               3          19\n",
       "4               5          33\n",
       "5               6          22\n",
       "...           ...         ...\n",
       "27971       27972           3\n",
       "27972       27973           4\n",
       "27977       27978           3\n",
       "27981       27982           4\n",
       "27982       27983           6\n",
       "\n",
       "[9082 rows x 2 columns]"
      ]
     },
     "metadata": {},
     "output_type": "display_data"
    }
   ],
   "source": [
    "#выделим сессии, в которых количество событий больше 2\n",
    "session_2=session.loc[session['event_name']>2]\n",
    "display(session_2)"
   ]
  },
  {
   "cell_type": "code",
   "execution_count": 37,
   "metadata": {},
   "outputs": [],
   "source": [
    "# изменим столбец с индексами и вместо цифровых значений зададим данные из столбца «session_id»:\n",
    "df = mobile_dataset.set_index('session_id')"
   ]
  },
  {
   "cell_type": "code",
   "execution_count": 38,
   "metadata": {},
   "outputs": [
    {
     "name": "stdout",
     "output_type": "stream",
     "text": [
      "<class 'pandas.core.frame.DataFrame'>\n",
      "RangeIndex: 25215 entries, 0 to 25214\n",
      "Data columns (total 7 columns):\n",
      " #   Column      Non-Null Count  Dtype         \n",
      "---  ------      --------------  -----         \n",
      " 0   session_id  25215 non-null  int64         \n",
      " 1   event_time  25215 non-null  datetime64[ns]\n",
      " 2   event_name  25215 non-null  object        \n",
      " 3   user_id     25215 non-null  object        \n",
      " 4   source      25215 non-null  object        \n",
      " 5   date        25215 non-null  object        \n",
      " 6   week        25215 non-null  UInt32        \n",
      "dtypes: UInt32(1), datetime64[ns](1), int64(1), object(4)\n",
      "memory usage: 1.3+ MB\n"
     ]
    }
   ],
   "source": [
    "# выведим в отдельную группу пользователей, у которых количество событий не превышает двух\n",
    "mobile_dataset_1=df.drop(session_2['session_id'].to_list(),axis = 0)\n",
    "# сбросим индекс\n",
    "mobile_dataset_1=mobile_dataset_1.reset_index()\n",
    "# просмотрим данные \n",
    "mobile_dataset_1.info()"
   ]
  },
  {
   "cell_type": "code",
   "execution_count": 39,
   "metadata": {},
   "outputs": [
    {
     "name": "stdout",
     "output_type": "stream",
     "text": [
      "<class 'pandas.core.frame.DataFrame'>\n",
      "RangeIndex: 47864 entries, 0 to 47863\n",
      "Data columns (total 7 columns):\n",
      " #   Column      Non-Null Count  Dtype         \n",
      "---  ------      --------------  -----         \n",
      " 0   session_id  47864 non-null  int64         \n",
      " 1   event_time  47864 non-null  datetime64[ns]\n",
      " 2   event_name  47864 non-null  object        \n",
      " 3   user_id     47864 non-null  object        \n",
      " 4   source      47864 non-null  object        \n",
      " 5   date        47864 non-null  object        \n",
      " 6   week        47864 non-null  UInt32        \n",
      "dtypes: UInt32(1), datetime64[ns](1), int64(1), object(4)\n",
      "memory usage: 2.4+ MB\n"
     ]
    }
   ],
   "source": [
    "# выведим в отдельную группу пользователей, у которых количество событий больше двух\n",
    "mobile_dataset_2=df.drop(session_1['session_id'].to_list(),axis = 0)\n",
    "# сбросим индекс\n",
    "mobile_dataset_2=mobile_dataset_2.reset_index()\n",
    "#посмотрим данные\n",
    "mobile_dataset_2.info()"
   ]
  },
  {
   "cell_type": "markdown",
   "metadata": {},
   "source": [
    "### Сравним Retention rate по группам"
   ]
  },
  {
   "cell_type": "code",
   "execution_count": 40,
   "metadata": {},
   "outputs": [],
   "source": [
    "#добавим солбцы с датой первого визита и начальной датой сессии\n",
    "mobile_dataset_1['first_visit'] = mobile_dataset_1.groupby('user_id')['event_time'].transform('min')\n",
    "mobile_dataset_1['session_start'] = mobile_dataset_1.groupby(['user_id', 'session_id'])['event_time'].transform('min')\n",
    "mobile_dataset_2['first_visit'] = mobile_dataset_2.groupby('user_id')['event_time'].transform('min')\n",
    "mobile_dataset_2['session_start'] = mobile_dataset_2.groupby(['user_id', 'session_id'])['event_time'].transform('min')"
   ]
  },
  {
   "cell_type": "code",
   "execution_count": 41,
   "metadata": {},
   "outputs": [],
   "source": [
    "# Зададим функция расчета retention rate\n",
    "def get_retention(df, observation_date, horizon_days, ignore_horizon=False):\n",
    "    \n",
    "    df['first_day'] = df['first_visit'].dt.date\n",
    "\n",
    "    # исключаем пользователей, не «доживших» до горизонта анализа\n",
    "    last_suitable_acquisition_date = observation_date\n",
    "    if not ignore_horizon:\n",
    "        last_suitable_acquisition_date = observation_date - timedelta(\n",
    "            days=horizon_days - 1\n",
    "        )\n",
    "    df = df.query('first_day <= @last_suitable_acquisition_date')\n",
    "\n",
    "    df['lifetime'] = (\n",
    "        df['session_start'] - df['first_visit']\n",
    "    ).dt.days\n",
    "    \n",
    "    \n",
    "\n",
    "    # рассчитываем удержание\n",
    "    result_grouped = df.pivot_table(\n",
    "        index='first_day', columns='lifetime', values='user_id', aggfunc='nunique'\n",
    "    )\n",
    "    \n",
    "    cohort_sizes = (\n",
    "        df.groupby('first_day')\n",
    "        .agg({'user_id': 'nunique'})\n",
    "        .rename(columns={'user_id': 'cohort_size'})\n",
    "    )\n",
    "    \n",
    "    result_grouped = cohort_sizes.merge(\n",
    "        result_grouped, on='first_day', how='left'\n",
    "    ).fillna(0)\n",
    "    \n",
    "    result_grouped = result_grouped.div(result_grouped['cohort_size'], axis=0)\n",
    "    \n",
    "    # исключаем все лайфтаймы, превышающие горизонт анализа\n",
    "    result_grouped = result_grouped[\n",
    "        ['cohort_size'] + list(range(horizon_days))\n",
    "    ]\n",
    "   \n",
    "    # восстанавливаем столбец с размерами когорт\n",
    "    result_grouped['cohort_size'] = cohort_sizes.sum()\n",
    "\n",
    "    # возвращаем таблицу удержания \n",
    "    return result_grouped"
   ]
  },
  {
   "cell_type": "code",
   "execution_count": 42,
   "metadata": {},
   "outputs": [],
   "source": [
    "#Задаем момент анализа\n",
    "observation_date = mobile_dataset['event_time'].max()  # момент анализа\n",
    "\n",
    "# горизонт анализа\n",
    "analysis_horizon = 7"
   ]
  },
  {
   "cell_type": "code",
   "execution_count": 43,
   "metadata": {},
   "outputs": [
    {
     "name": "stderr",
     "output_type": "stream",
     "text": [
      "/tmp/ipykernel_64/890585614.py:14: SettingWithCopyWarning: \n",
      "A value is trying to be set on a copy of a slice from a DataFrame.\n",
      "Try using .loc[row_indexer,col_indexer] = value instead\n",
      "\n",
      "See the caveats in the documentation: https://pandas.pydata.org/pandas-docs/stable/user_guide/indexing.html#returning-a-view-versus-a-copy\n",
      "  df['lifetime'] = (\n"
     ]
    },
    {
     "data": {
      "text/html": [
       "<div>\n",
       "<style scoped>\n",
       "    .dataframe tbody tr th:only-of-type {\n",
       "        vertical-align: middle;\n",
       "    }\n",
       "\n",
       "    .dataframe tbody tr th {\n",
       "        vertical-align: top;\n",
       "    }\n",
       "\n",
       "    .dataframe thead th {\n",
       "        text-align: right;\n",
       "    }\n",
       "</style>\n",
       "<table border=\"1\" class=\"dataframe\">\n",
       "  <thead>\n",
       "    <tr style=\"text-align: right;\">\n",
       "      <th></th>\n",
       "      <th>cohort_size</th>\n",
       "      <th>0</th>\n",
       "      <th>1</th>\n",
       "      <th>2</th>\n",
       "      <th>3</th>\n",
       "      <th>4</th>\n",
       "      <th>5</th>\n",
       "      <th>6</th>\n",
       "    </tr>\n",
       "    <tr>\n",
       "      <th>first_day</th>\n",
       "      <th></th>\n",
       "      <th></th>\n",
       "      <th></th>\n",
       "      <th></th>\n",
       "      <th></th>\n",
       "      <th></th>\n",
       "      <th></th>\n",
       "      <th></th>\n",
       "    </tr>\n",
       "  </thead>\n",
       "  <tbody>\n",
       "    <tr>\n",
       "      <th>2019-10-07</th>\n",
       "      <td>NaN</td>\n",
       "      <td>1.0</td>\n",
       "      <td>0.131148</td>\n",
       "      <td>0.106557</td>\n",
       "      <td>0.114754</td>\n",
       "      <td>0.057377</td>\n",
       "      <td>0.024590</td>\n",
       "      <td>0.073770</td>\n",
       "    </tr>\n",
       "    <tr>\n",
       "      <th>2019-10-08</th>\n",
       "      <td>NaN</td>\n",
       "      <td>1.0</td>\n",
       "      <td>0.134921</td>\n",
       "      <td>0.111111</td>\n",
       "      <td>0.047619</td>\n",
       "      <td>0.055556</td>\n",
       "      <td>0.047619</td>\n",
       "      <td>0.039683</td>\n",
       "    </tr>\n",
       "    <tr>\n",
       "      <th>2019-10-09</th>\n",
       "      <td>NaN</td>\n",
       "      <td>1.0</td>\n",
       "      <td>0.088710</td>\n",
       "      <td>0.072581</td>\n",
       "      <td>0.048387</td>\n",
       "      <td>0.080645</td>\n",
       "      <td>0.064516</td>\n",
       "      <td>0.072581</td>\n",
       "    </tr>\n",
       "    <tr>\n",
       "      <th>2019-10-10</th>\n",
       "      <td>NaN</td>\n",
       "      <td>1.0</td>\n",
       "      <td>0.082645</td>\n",
       "      <td>0.099174</td>\n",
       "      <td>0.082645</td>\n",
       "      <td>0.123967</td>\n",
       "      <td>0.074380</td>\n",
       "      <td>0.074380</td>\n",
       "    </tr>\n",
       "    <tr>\n",
       "      <th>2019-10-11</th>\n",
       "      <td>NaN</td>\n",
       "      <td>1.0</td>\n",
       "      <td>0.052632</td>\n",
       "      <td>0.105263</td>\n",
       "      <td>0.096491</td>\n",
       "      <td>0.105263</td>\n",
       "      <td>0.078947</td>\n",
       "      <td>0.078947</td>\n",
       "    </tr>\n",
       "    <tr>\n",
       "      <th>2019-10-12</th>\n",
       "      <td>NaN</td>\n",
       "      <td>1.0</td>\n",
       "      <td>0.111111</td>\n",
       "      <td>0.133333</td>\n",
       "      <td>0.022222</td>\n",
       "      <td>0.044444</td>\n",
       "      <td>0.066667</td>\n",
       "      <td>0.066667</td>\n",
       "    </tr>\n",
       "    <tr>\n",
       "      <th>2019-10-13</th>\n",
       "      <td>NaN</td>\n",
       "      <td>1.0</td>\n",
       "      <td>0.147287</td>\n",
       "      <td>0.069767</td>\n",
       "      <td>0.054264</td>\n",
       "      <td>0.062016</td>\n",
       "      <td>0.054264</td>\n",
       "      <td>0.077519</td>\n",
       "    </tr>\n",
       "    <tr>\n",
       "      <th>2019-10-14</th>\n",
       "      <td>NaN</td>\n",
       "      <td>1.0</td>\n",
       "      <td>0.092025</td>\n",
       "      <td>0.092025</td>\n",
       "      <td>0.104294</td>\n",
       "      <td>0.085890</td>\n",
       "      <td>0.067485</td>\n",
       "      <td>0.030675</td>\n",
       "    </tr>\n",
       "    <tr>\n",
       "      <th>2019-10-15</th>\n",
       "      <td>NaN</td>\n",
       "      <td>1.0</td>\n",
       "      <td>0.135484</td>\n",
       "      <td>0.096774</td>\n",
       "      <td>0.090323</td>\n",
       "      <td>0.058065</td>\n",
       "      <td>0.058065</td>\n",
       "      <td>0.090323</td>\n",
       "    </tr>\n",
       "    <tr>\n",
       "      <th>2019-10-16</th>\n",
       "      <td>NaN</td>\n",
       "      <td>1.0</td>\n",
       "      <td>0.134228</td>\n",
       "      <td>0.073826</td>\n",
       "      <td>0.040268</td>\n",
       "      <td>0.067114</td>\n",
       "      <td>0.080537</td>\n",
       "      <td>0.046980</td>\n",
       "    </tr>\n",
       "    <tr>\n",
       "      <th>2019-10-17</th>\n",
       "      <td>NaN</td>\n",
       "      <td>1.0</td>\n",
       "      <td>0.142857</td>\n",
       "      <td>0.142857</td>\n",
       "      <td>0.081633</td>\n",
       "      <td>0.081633</td>\n",
       "      <td>0.095238</td>\n",
       "      <td>0.108844</td>\n",
       "    </tr>\n",
       "    <tr>\n",
       "      <th>2019-10-18</th>\n",
       "      <td>NaN</td>\n",
       "      <td>1.0</td>\n",
       "      <td>0.087591</td>\n",
       "      <td>0.080292</td>\n",
       "      <td>0.102190</td>\n",
       "      <td>0.058394</td>\n",
       "      <td>0.058394</td>\n",
       "      <td>0.058394</td>\n",
       "    </tr>\n",
       "    <tr>\n",
       "      <th>2019-10-19</th>\n",
       "      <td>NaN</td>\n",
       "      <td>1.0</td>\n",
       "      <td>0.081301</td>\n",
       "      <td>0.105691</td>\n",
       "      <td>0.056911</td>\n",
       "      <td>0.040650</td>\n",
       "      <td>0.081301</td>\n",
       "      <td>0.081301</td>\n",
       "    </tr>\n",
       "    <tr>\n",
       "      <th>2019-10-20</th>\n",
       "      <td>NaN</td>\n",
       "      <td>1.0</td>\n",
       "      <td>0.095238</td>\n",
       "      <td>0.087302</td>\n",
       "      <td>0.047619</td>\n",
       "      <td>0.071429</td>\n",
       "      <td>0.039683</td>\n",
       "      <td>0.039683</td>\n",
       "    </tr>\n",
       "    <tr>\n",
       "      <th>2019-10-21</th>\n",
       "      <td>NaN</td>\n",
       "      <td>1.0</td>\n",
       "      <td>0.075342</td>\n",
       "      <td>0.054795</td>\n",
       "      <td>0.089041</td>\n",
       "      <td>0.027397</td>\n",
       "      <td>0.041096</td>\n",
       "      <td>0.041096</td>\n",
       "    </tr>\n",
       "    <tr>\n",
       "      <th>2019-10-22</th>\n",
       "      <td>NaN</td>\n",
       "      <td>1.0</td>\n",
       "      <td>0.116129</td>\n",
       "      <td>0.083871</td>\n",
       "      <td>0.051613</td>\n",
       "      <td>0.025806</td>\n",
       "      <td>0.051613</td>\n",
       "      <td>0.051613</td>\n",
       "    </tr>\n",
       "    <tr>\n",
       "      <th>2019-10-23</th>\n",
       "      <td>NaN</td>\n",
       "      <td>1.0</td>\n",
       "      <td>0.070175</td>\n",
       "      <td>0.076023</td>\n",
       "      <td>0.058480</td>\n",
       "      <td>0.064327</td>\n",
       "      <td>0.052632</td>\n",
       "      <td>0.046784</td>\n",
       "    </tr>\n",
       "    <tr>\n",
       "      <th>2019-10-24</th>\n",
       "      <td>NaN</td>\n",
       "      <td>1.0</td>\n",
       "      <td>0.096296</td>\n",
       "      <td>0.074074</td>\n",
       "      <td>0.059259</td>\n",
       "      <td>0.066667</td>\n",
       "      <td>0.066667</td>\n",
       "      <td>0.081481</td>\n",
       "    </tr>\n",
       "    <tr>\n",
       "      <th>2019-10-25</th>\n",
       "      <td>NaN</td>\n",
       "      <td>1.0</td>\n",
       "      <td>0.093023</td>\n",
       "      <td>0.100775</td>\n",
       "      <td>0.100775</td>\n",
       "      <td>0.077519</td>\n",
       "      <td>0.054264</td>\n",
       "      <td>0.054264</td>\n",
       "    </tr>\n",
       "    <tr>\n",
       "      <th>2019-10-26</th>\n",
       "      <td>NaN</td>\n",
       "      <td>1.0</td>\n",
       "      <td>0.128000</td>\n",
       "      <td>0.056000</td>\n",
       "      <td>0.064000</td>\n",
       "      <td>0.096000</td>\n",
       "      <td>0.056000</td>\n",
       "      <td>0.072000</td>\n",
       "    </tr>\n",
       "    <tr>\n",
       "      <th>2019-10-27</th>\n",
       "      <td>NaN</td>\n",
       "      <td>1.0</td>\n",
       "      <td>0.062500</td>\n",
       "      <td>0.054688</td>\n",
       "      <td>0.070312</td>\n",
       "      <td>0.085938</td>\n",
       "      <td>0.078125</td>\n",
       "      <td>0.085938</td>\n",
       "    </tr>\n",
       "    <tr>\n",
       "      <th>2019-10-28</th>\n",
       "      <td>NaN</td>\n",
       "      <td>1.0</td>\n",
       "      <td>0.122449</td>\n",
       "      <td>0.088435</td>\n",
       "      <td>0.054422</td>\n",
       "      <td>0.047619</td>\n",
       "      <td>0.013605</td>\n",
       "      <td>0.027211</td>\n",
       "    </tr>\n",
       "  </tbody>\n",
       "</table>\n",
       "</div>"
      ],
      "text/plain": [
       "            cohort_size    0         1         2         3         4  \\\n",
       "first_day                                                              \n",
       "2019-10-07          NaN  1.0  0.131148  0.106557  0.114754  0.057377   \n",
       "2019-10-08          NaN  1.0  0.134921  0.111111  0.047619  0.055556   \n",
       "2019-10-09          NaN  1.0  0.088710  0.072581  0.048387  0.080645   \n",
       "2019-10-10          NaN  1.0  0.082645  0.099174  0.082645  0.123967   \n",
       "2019-10-11          NaN  1.0  0.052632  0.105263  0.096491  0.105263   \n",
       "2019-10-12          NaN  1.0  0.111111  0.133333  0.022222  0.044444   \n",
       "2019-10-13          NaN  1.0  0.147287  0.069767  0.054264  0.062016   \n",
       "2019-10-14          NaN  1.0  0.092025  0.092025  0.104294  0.085890   \n",
       "2019-10-15          NaN  1.0  0.135484  0.096774  0.090323  0.058065   \n",
       "2019-10-16          NaN  1.0  0.134228  0.073826  0.040268  0.067114   \n",
       "2019-10-17          NaN  1.0  0.142857  0.142857  0.081633  0.081633   \n",
       "2019-10-18          NaN  1.0  0.087591  0.080292  0.102190  0.058394   \n",
       "2019-10-19          NaN  1.0  0.081301  0.105691  0.056911  0.040650   \n",
       "2019-10-20          NaN  1.0  0.095238  0.087302  0.047619  0.071429   \n",
       "2019-10-21          NaN  1.0  0.075342  0.054795  0.089041  0.027397   \n",
       "2019-10-22          NaN  1.0  0.116129  0.083871  0.051613  0.025806   \n",
       "2019-10-23          NaN  1.0  0.070175  0.076023  0.058480  0.064327   \n",
       "2019-10-24          NaN  1.0  0.096296  0.074074  0.059259  0.066667   \n",
       "2019-10-25          NaN  1.0  0.093023  0.100775  0.100775  0.077519   \n",
       "2019-10-26          NaN  1.0  0.128000  0.056000  0.064000  0.096000   \n",
       "2019-10-27          NaN  1.0  0.062500  0.054688  0.070312  0.085938   \n",
       "2019-10-28          NaN  1.0  0.122449  0.088435  0.054422  0.047619   \n",
       "\n",
       "                   5         6  \n",
       "first_day                       \n",
       "2019-10-07  0.024590  0.073770  \n",
       "2019-10-08  0.047619  0.039683  \n",
       "2019-10-09  0.064516  0.072581  \n",
       "2019-10-10  0.074380  0.074380  \n",
       "2019-10-11  0.078947  0.078947  \n",
       "2019-10-12  0.066667  0.066667  \n",
       "2019-10-13  0.054264  0.077519  \n",
       "2019-10-14  0.067485  0.030675  \n",
       "2019-10-15  0.058065  0.090323  \n",
       "2019-10-16  0.080537  0.046980  \n",
       "2019-10-17  0.095238  0.108844  \n",
       "2019-10-18  0.058394  0.058394  \n",
       "2019-10-19  0.081301  0.081301  \n",
       "2019-10-20  0.039683  0.039683  \n",
       "2019-10-21  0.041096  0.041096  \n",
       "2019-10-22  0.051613  0.051613  \n",
       "2019-10-23  0.052632  0.046784  \n",
       "2019-10-24  0.066667  0.081481  \n",
       "2019-10-25  0.054264  0.054264  \n",
       "2019-10-26  0.056000  0.072000  \n",
       "2019-10-27  0.078125  0.085938  \n",
       "2019-10-28  0.013605  0.027211  "
      ]
     },
     "metadata": {},
     "output_type": "display_data"
    }
   ],
   "source": [
    "#применим функцию retention rate к первой группе пользователей\n",
    "retention_1=get_retention(mobile_dataset_1, observation_date, analysis_horizon)\n",
    "display(retention_1)"
   ]
  },
  {
   "cell_type": "code",
   "execution_count": 44,
   "metadata": {},
   "outputs": [
    {
     "data": {
      "image/png": "[encoded data removed]",
      "text/plain": [
       "<Figure size 1080x432 with 2 Axes>"
      ]
     },
     "metadata": {
      "needs_background": "light"
     },
     "output_type": "display_data"
    }
   ],
   "source": [
    "#построим тепловую карту удержания для первой группы\n",
    "plt.figure(figsize = (15, 6))  # задаём размер графика\n",
    "sns.heatmap(retention_1.drop(columns = ['cohort_size', 0]), # удаляем размеры когорты и нулевой лайфтайм\n",
    "            annot = True,  # включаем подписи\n",
    "            fmt = '.2%'  # отображаем значения в виде процентов\n",
    "           )\n",
    "plt.title('Тепловая карта удержания')  # название графика\n",
    "plt.show()"
   ]
  },
  {
   "cell_type": "code",
   "execution_count": 45,
   "metadata": {},
   "outputs": [
    {
     "name": "stderr",
     "output_type": "stream",
     "text": [
      "/tmp/ipykernel_64/890585614.py:14: SettingWithCopyWarning: \n",
      "A value is trying to be set on a copy of a slice from a DataFrame.\n",
      "Try using .loc[row_indexer,col_indexer] = value instead\n",
      "\n",
      "See the caveats in the documentation: https://pandas.pydata.org/pandas-docs/stable/user_guide/indexing.html#returning-a-view-versus-a-copy\n",
      "  df['lifetime'] = (\n"
     ]
    }
   ],
   "source": [
    "#применим функцию retention rate ко второй группе пользователей\n",
    "retention_2=get_retention(mobile_dataset_2, observation_date, analysis_horizon)"
   ]
  },
  {
   "cell_type": "code",
   "execution_count": 46,
   "metadata": {},
   "outputs": [
    {
     "data": {
      "image/png": "[encoded data removed]",
      "text/plain": [
       "<Figure size 1080x432 with 2 Axes>"
      ]
     },
     "metadata": {
      "needs_background": "light"
     },
     "output_type": "display_data"
    }
   ],
   "source": [
    "#построим тепловую карту удержания для второй группы\n",
    "plt.figure(figsize = (15, 6))  # задаём размер графика\n",
    "sns.heatmap(retention_2.drop(columns = ['cohort_size', 0]), # удаляем размеры когорты и нулевой лайфтайм\n",
    "            annot = True,  # включаем подписи\n",
    "            fmt = '.2%'  # отображаем значения в виде процентов\n",
    "           )\n",
    "plt.title('Тепловая карта удержания')  # название графика\n",
    "plt.show()"
   ]
  },
  {
   "cell_type": "markdown",
   "metadata": {},
   "source": [
    "Анализируя карту удержания, можно увидеть, что вторая карта более темная, то есть пользователи со второй группы удерживаются хуже."
   ]
  },
  {
   "cell_type": "markdown",
   "metadata": {},
   "source": [
    "### Сравним пользователей по метрике \"Время в приложении\""
   ]
  },
  {
   "cell_type": "code",
   "execution_count": 47,
   "metadata": {},
   "outputs": [
    {
     "data": {
      "text/html": [
       "<div>\n",
       "<style scoped>\n",
       "    .dataframe tbody tr th:only-of-type {\n",
       "        vertical-align: middle;\n",
       "    }\n",
       "\n",
       "    .dataframe tbody tr th {\n",
       "        vertical-align: top;\n",
       "    }\n",
       "\n",
       "    .dataframe thead th {\n",
       "        text-align: right;\n",
       "    }\n",
       "</style>\n",
       "<table border=\"1\" class=\"dataframe\">\n",
       "  <thead>\n",
       "    <tr style=\"text-align: right;\">\n",
       "      <th></th>\n",
       "      <th>session_id</th>\n",
       "      <th>duration_time</th>\n",
       "    </tr>\n",
       "  </thead>\n",
       "  <tbody>\n",
       "    <tr>\n",
       "      <th>count</th>\n",
       "      <td>18903.000000</td>\n",
       "      <td>18903.000000</td>\n",
       "    </tr>\n",
       "    <tr>\n",
       "      <th>mean</th>\n",
       "      <td>14569.877586</td>\n",
       "      <td>26.218960</td>\n",
       "    </tr>\n",
       "    <tr>\n",
       "      <th>std</th>\n",
       "      <td>7881.230076</td>\n",
       "      <td>66.166783</td>\n",
       "    </tr>\n",
       "    <tr>\n",
       "      <th>min</th>\n",
       "      <td>4.000000</td>\n",
       "      <td>0.000000</td>\n",
       "    </tr>\n",
       "    <tr>\n",
       "      <th>25%</th>\n",
       "      <td>7922.500000</td>\n",
       "      <td>0.000000</td>\n",
       "    </tr>\n",
       "    <tr>\n",
       "      <th>50%</th>\n",
       "      <td>14708.000000</td>\n",
       "      <td>0.000000</td>\n",
       "    </tr>\n",
       "    <tr>\n",
       "      <th>75%</th>\n",
       "      <td>21373.500000</td>\n",
       "      <td>16.000000</td>\n",
       "    </tr>\n",
       "    <tr>\n",
       "      <th>max</th>\n",
       "      <td>27985.000000</td>\n",
       "      <td>1171.000000</td>\n",
       "    </tr>\n",
       "  </tbody>\n",
       "</table>\n",
       "</div>"
      ],
      "text/plain": [
       "         session_id  duration_time\n",
       "count  18903.000000   18903.000000\n",
       "mean   14569.877586      26.218960\n",
       "std     7881.230076      66.166783\n",
       "min        4.000000       0.000000\n",
       "25%     7922.500000       0.000000\n",
       "50%    14708.000000       0.000000\n",
       "75%    21373.500000      16.000000\n",
       "max    27985.000000    1171.000000"
      ]
     },
     "execution_count": 47,
     "metadata": {},
     "output_type": "execute_result"
    }
   ],
   "source": [
    "# посмотрим на максимальное время по каждому пользователю и сессии 1ой группы пользователей\n",
    "duration_time_1= mobile_dataset_1.groupby(['user_id', 'session_id'])['event_time'].max().reset_index()\n",
    "\n",
    "# посмотрим на минимальное время по каждому пользователю и сессии 1ой группы пользователей\n",
    "b=mobile_dataset_1.groupby(['user_id', 'session_id'])['event_time'].min().reset_index()\n",
    "\n",
    "# посчитаем продолжительность времени сессий для 1ой группы пользователей\n",
    "duration_time_1['duration_time']=duration_time_1['event_time']-b['event_time']\n",
    "#меняем формат столбца duration_time\n",
    "duration_time_1['duration_time']=duration_time_1['duration_time'].dt.total_seconds()\n",
    "duration_time_1.describe()"
   ]
  },
  {
   "cell_type": "markdown",
   "metadata": {},
   "source": [
    "Рассматривая описание столбца duration_time, отмечаем, что 50% пользователей имеют 0 продолжительность времени, то есть совершают по 1 действию. Принято решение их удалить."
   ]
  },
  {
   "cell_type": "code",
   "execution_count": 48,
   "metadata": {},
   "outputs": [
    {
     "data": {
      "text/html": [
       "<div>\n",
       "<style scoped>\n",
       "    .dataframe tbody tr th:only-of-type {\n",
       "        vertical-align: middle;\n",
       "    }\n",
       "\n",
       "    .dataframe tbody tr th {\n",
       "        vertical-align: top;\n",
       "    }\n",
       "\n",
       "    .dataframe thead th {\n",
       "        text-align: right;\n",
       "    }\n",
       "</style>\n",
       "<table border=\"1\" class=\"dataframe\">\n",
       "  <thead>\n",
       "    <tr style=\"text-align: right;\">\n",
       "      <th></th>\n",
       "      <th>session_id</th>\n",
       "      <th>duration_time</th>\n",
       "    </tr>\n",
       "  </thead>\n",
       "  <tbody>\n",
       "    <tr>\n",
       "      <th>count</th>\n",
       "      <td>6300.000000</td>\n",
       "      <td>6300.000000</td>\n",
       "    </tr>\n",
       "    <tr>\n",
       "      <th>mean</th>\n",
       "      <td>14159.299206</td>\n",
       "      <td>78.669365</td>\n",
       "    </tr>\n",
       "    <tr>\n",
       "      <th>std</th>\n",
       "      <td>7974.019018</td>\n",
       "      <td>94.924758</td>\n",
       "    </tr>\n",
       "    <tr>\n",
       "      <th>min</th>\n",
       "      <td>4.000000</td>\n",
       "      <td>1.000000</td>\n",
       "    </tr>\n",
       "    <tr>\n",
       "      <th>25%</th>\n",
       "      <td>7243.250000</td>\n",
       "      <td>16.000000</td>\n",
       "    </tr>\n",
       "    <tr>\n",
       "      <th>50%</th>\n",
       "      <td>14054.500000</td>\n",
       "      <td>51.000000</td>\n",
       "    </tr>\n",
       "    <tr>\n",
       "      <th>75%</th>\n",
       "      <td>21074.000000</td>\n",
       "      <td>107.000000</td>\n",
       "    </tr>\n",
       "    <tr>\n",
       "      <th>max</th>\n",
       "      <td>27985.000000</td>\n",
       "      <td>1171.000000</td>\n",
       "    </tr>\n",
       "  </tbody>\n",
       "</table>\n",
       "</div>"
      ],
      "text/plain": [
       "         session_id  duration_time\n",
       "count   6300.000000    6300.000000\n",
       "mean   14159.299206      78.669365\n",
       "std     7974.019018      94.924758\n",
       "min        4.000000       1.000000\n",
       "25%     7243.250000      16.000000\n",
       "50%    14054.500000      51.000000\n",
       "75%    21074.000000     107.000000\n",
       "max    27985.000000    1171.000000"
      ]
     },
     "execution_count": 48,
     "metadata": {},
     "output_type": "execute_result"
    }
   ],
   "source": [
    "#удаляем нулевые значения  в столбце duration_time\n",
    "duration_time_1=duration_time_1.loc[duration_time_1['duration_time']!=0]\n",
    "duration_time_1.describe()\n"
   ]
  },
  {
   "cell_type": "code",
   "execution_count": 49,
   "metadata": {},
   "outputs": [
    {
     "data": {
      "text/plain": [
       "array([[<AxesSubplot:title={'center':'duration_time'}>]], dtype=object)"
      ]
     },
     "execution_count": 49,
     "metadata": {},
     "output_type": "execute_result"
    },
    {
     "data": {
      "image/png": "[encoded data removed]",
      "text/plain": [
       "<Figure size 1080x504 with 1 Axes>"
      ]
     },
     "metadata": {
      "needs_background": "light"
     },
     "output_type": "display_data"
    }
   ],
   "source": [
    "#построим гистограмму распределения продолжительности времени\n",
    "duration_time_1.hist('duration_time', figsize=(15,7), bins=50)"
   ]
  },
  {
   "cell_type": "code",
   "execution_count": 50,
   "metadata": {},
   "outputs": [
    {
     "data": {
      "text/html": [
       "<div>\n",
       "<style scoped>\n",
       "    .dataframe tbody tr th:only-of-type {\n",
       "        vertical-align: middle;\n",
       "    }\n",
       "\n",
       "    .dataframe tbody tr th {\n",
       "        vertical-align: top;\n",
       "    }\n",
       "\n",
       "    .dataframe thead th {\n",
       "        text-align: right;\n",
       "    }\n",
       "</style>\n",
       "<table border=\"1\" class=\"dataframe\">\n",
       "  <thead>\n",
       "    <tr style=\"text-align: right;\">\n",
       "      <th></th>\n",
       "      <th>session_id</th>\n",
       "      <th>duration_time</th>\n",
       "    </tr>\n",
       "  </thead>\n",
       "  <tbody>\n",
       "    <tr>\n",
       "      <th>count</th>\n",
       "      <td>9082.000000</td>\n",
       "      <td>9082.000000</td>\n",
       "    </tr>\n",
       "    <tr>\n",
       "      <th>mean</th>\n",
       "      <td>12792.304448</td>\n",
       "      <td>281.187514</td>\n",
       "    </tr>\n",
       "    <tr>\n",
       "      <th>std</th>\n",
       "      <td>8348.589682</td>\n",
       "      <td>302.374912</td>\n",
       "    </tr>\n",
       "    <tr>\n",
       "      <th>min</th>\n",
       "      <td>1.000000</td>\n",
       "      <td>2.000000</td>\n",
       "    </tr>\n",
       "    <tr>\n",
       "      <th>25%</th>\n",
       "      <td>5223.250000</td>\n",
       "      <td>101.000000</td>\n",
       "    </tr>\n",
       "    <tr>\n",
       "      <th>50%</th>\n",
       "      <td>12213.500000</td>\n",
       "      <td>197.000000</td>\n",
       "    </tr>\n",
       "    <tr>\n",
       "      <th>75%</th>\n",
       "      <td>19841.250000</td>\n",
       "      <td>356.000000</td>\n",
       "    </tr>\n",
       "    <tr>\n",
       "      <th>max</th>\n",
       "      <td>27983.000000</td>\n",
       "      <td>8207.000000</td>\n",
       "    </tr>\n",
       "  </tbody>\n",
       "</table>\n",
       "</div>"
      ],
      "text/plain": [
       "         session_id  duration_time\n",
       "count   9082.000000    9082.000000\n",
       "mean   12792.304448     281.187514\n",
       "std     8348.589682     302.374912\n",
       "min        1.000000       2.000000\n",
       "25%     5223.250000     101.000000\n",
       "50%    12213.500000     197.000000\n",
       "75%    19841.250000     356.000000\n",
       "max    27983.000000    8207.000000"
      ]
     },
     "execution_count": 50,
     "metadata": {},
     "output_type": "execute_result"
    }
   ],
   "source": [
    "# посмотрим на максимальное время по каждому пользователю и сессии 2ой группы пользователей\n",
    "duration_time_2= mobile_dataset_2.groupby(['user_id', 'session_id'])['event_time'].max().reset_index()\n",
    "\n",
    "# посмотрим на минимальное время по каждому пользователю и сессии 1ой группы пользователей\n",
    "c=mobile_dataset_2.groupby(['user_id', 'session_id'])['event_time'].min().reset_index()\n",
    "\n",
    "# посчитаем продолжительность времени сессий для 1ой группы пользователей\n",
    "duration_time_2['duration_time']=duration_time_2['event_time']-c['event_time']\n",
    "#меняем формат столбца duration_time\n",
    "duration_time_2['duration_time']=duration_time_2['duration_time'].dt.total_seconds()\n",
    "duration_time_2.describe()"
   ]
  },
  {
   "cell_type": "code",
   "execution_count": 51,
   "metadata": {},
   "outputs": [
    {
     "data": {
      "text/plain": [
       "array([[<AxesSubplot:title={'center':'duration_time'}>]], dtype=object)"
      ]
     },
     "execution_count": 51,
     "metadata": {},
     "output_type": "execute_result"
    },
    {
     "data": {
      "image/png": "[encoded data removed]",
      "text/plain": [
       "<Figure size 1080x504 with 1 Axes>"
      ]
     },
     "metadata": {
      "needs_background": "light"
     },
     "output_type": "display_data"
    }
   ],
   "source": [
    "#построим гистограмму распределения продолжительности времени\n",
    "duration_time_2.hist('duration_time', figsize=(15,7), bins=50)"
   ]
  },
  {
   "cell_type": "markdown",
   "metadata": {},
   "source": [
    "Анализируя распределение продолжительности времени, затрачиваемое пользователями, отмечаем, что у второй группы  cредние показатели (арифметическое среднее и медианы), а также максимальное время пользования  выше."
   ]
  },
  {
   "cell_type": "markdown",
   "metadata": {},
   "source": [
    "### Сравнение групп по метрике \"Конверсия в целевое действие contacts_show\""
   ]
  },
  {
   "cell_type": "markdown",
   "metadata": {},
   "source": [
    "Выберем из данных 1 ой группы только тех пользователей, которые совершили событие \"contacts_show\""
   ]
  },
  {
   "cell_type": "code",
   "execution_count": 52,
   "metadata": {},
   "outputs": [
    {
     "name": "stdout",
     "output_type": "stream",
     "text": [
      "Конверсия в целевое действие contacts_show 1 группы: 0.18149270173505921\n"
     ]
    }
   ],
   "source": [
    "# посчитаем количество уникальных пользователей в группе 1\n",
    "users_1=mobile_dataset_1['user_id'].nunique()\n",
    "\n",
    "#создадим датасет из пользователей 1 группы, посмотревших контакты\n",
    "contacts_show_1=mobile_dataset_1.loc[mobile_dataset_1['event_name']=='contacts_show']\n",
    "# посчитаем количество пользователей в 1 группе, посмотревших контакты\n",
    "users_1_cs=contacts_show_1['user_id'].nunique()\n",
    "\n",
    "#посчитаем конверсию пользователей из 1 группы, посмотревших контакты, от общего числа\n",
    "\n",
    "print('Конверсия в целевое действие contacts_show 1 группы:', users_1_cs/users_1)"
   ]
  },
  {
   "cell_type": "code",
   "execution_count": 53,
   "metadata": {},
   "outputs": [
    {
     "name": "stdout",
     "output_type": "stream",
     "text": [
      "Конверсия в целевое действие contacts_show 2 группы: 0.1882734236888627\n"
     ]
    }
   ],
   "source": [
    "# посчитаем количество уникальных пользователей в группе 2\n",
    "users_2=mobile_dataset_2['user_id'].nunique()\n",
    "\n",
    "#создадим датасет из пользователей 2 группы, посмотревших контакты\n",
    "contacts_show_2=mobile_dataset_2.loc[mobile_dataset_2['event_name']=='contacts_show']\n",
    "# посчитаем количество пользователей во 2 группе, посмотревших контакты\n",
    "users_2_cs=contacts_show_2['user_id'].nunique()\n",
    "\n",
    "#посчитаем конверсию пользователей из 2 группы, посмотревших контакты, от общего числа\n",
    "\n",
    "print('Конверсия в целевое действие contacts_show 2 группы:', users_2_cs/users_2)"
   ]
  },
  {
   "cell_type": "markdown",
   "metadata": {},
   "source": [
    "Конверсия в целевое действие contacts_show обоих групп примерно одинаковая, у 2 группы чуть лучше (на 1 процент)"
   ]
  },
  {
   "cell_type": "markdown",
   "metadata": {},
   "source": [
    "### Сравнение групп  по времени между действиями"
   ]
  },
  {
   "cell_type": "code",
   "execution_count": 54,
   "metadata": {},
   "outputs": [
    {
     "data": {
      "text/html": [
       "<div>\n",
       "<style scoped>\n",
       "    .dataframe tbody tr th:only-of-type {\n",
       "        vertical-align: middle;\n",
       "    }\n",
       "\n",
       "    .dataframe tbody tr th {\n",
       "        vertical-align: top;\n",
       "    }\n",
       "\n",
       "    .dataframe thead th {\n",
       "        text-align: right;\n",
       "    }\n",
       "</style>\n",
       "<table border=\"1\" class=\"dataframe\">\n",
       "  <thead>\n",
       "    <tr style=\"text-align: right;\">\n",
       "      <th></th>\n",
       "      <th>event_name</th>\n",
       "      <th>user_id</th>\n",
       "    </tr>\n",
       "  </thead>\n",
       "  <tbody>\n",
       "    <tr>\n",
       "      <th>8</th>\n",
       "      <td>tips_show</td>\n",
       "      <td>2801</td>\n",
       "    </tr>\n",
       "    <tr>\n",
       "      <th>6</th>\n",
       "      <td>search</td>\n",
       "      <td>1666</td>\n",
       "    </tr>\n",
       "    <tr>\n",
       "      <th>4</th>\n",
       "      <td>map</td>\n",
       "      <td>1456</td>\n",
       "    </tr>\n",
       "    <tr>\n",
       "      <th>5</th>\n",
       "      <td>photos_show</td>\n",
       "      <td>1095</td>\n",
       "    </tr>\n",
       "    <tr>\n",
       "      <th>2</th>\n",
       "      <td>contacts_show</td>\n",
       "      <td>981</td>\n",
       "    </tr>\n",
       "    <tr>\n",
       "      <th>0</th>\n",
       "      <td>advert_open</td>\n",
       "      <td>751</td>\n",
       "    </tr>\n",
       "    <tr>\n",
       "      <th>3</th>\n",
       "      <td>favorites_add</td>\n",
       "      <td>351</td>\n",
       "    </tr>\n",
       "    <tr>\n",
       "      <th>7</th>\n",
       "      <td>tips_click</td>\n",
       "      <td>322</td>\n",
       "    </tr>\n",
       "    <tr>\n",
       "      <th>1</th>\n",
       "      <td>contacts_call</td>\n",
       "      <td>213</td>\n",
       "    </tr>\n",
       "  </tbody>\n",
       "</table>\n",
       "</div>"
      ],
      "text/plain": [
       "      event_name  user_id\n",
       "8      tips_show     2801\n",
       "6         search     1666\n",
       "4            map     1456\n",
       "5    photos_show     1095\n",
       "2  contacts_show      981\n",
       "0    advert_open      751\n",
       "3  favorites_add      351\n",
       "7     tips_click      322\n",
       "1  contacts_call      213"
      ]
     },
     "execution_count": 54,
     "metadata": {},
     "output_type": "execute_result"
    }
   ],
   "source": [
    "#просмотрим самые популярные действия пользователей\n",
    "pop_event=mobile_dataset.groupby('event_name')['user_id'].nunique().reset_index().sort_values(by='user_id', ascending=False)\n",
    "                  \n",
    "pop_event"
   ]
  },
  {
   "cell_type": "markdown",
   "metadata": {},
   "source": [
    " Самые популярные действия - это просмотр рекомендованных объявлений (tips_show) и поиск (search)"
   ]
  },
  {
   "cell_type": "markdown",
   "metadata": {},
   "source": [
    "#### Сравнение групп по времени между первым заходом в приложение и выполнением действия search"
   ]
  },
  {
   "cell_type": "code",
   "execution_count": 55,
   "metadata": {},
   "outputs": [
    {
     "data": {
      "text/html": [
       "<div>\n",
       "<style scoped>\n",
       "    .dataframe tbody tr th:only-of-type {\n",
       "        vertical-align: middle;\n",
       "    }\n",
       "\n",
       "    .dataframe tbody tr th {\n",
       "        vertical-align: top;\n",
       "    }\n",
       "\n",
       "    .dataframe thead th {\n",
       "        text-align: right;\n",
       "    }\n",
       "</style>\n",
       "<table border=\"1\" class=\"dataframe\">\n",
       "  <thead>\n",
       "    <tr style=\"text-align: right;\">\n",
       "      <th></th>\n",
       "      <th>user_id</th>\n",
       "      <th>first_search_time</th>\n",
       "    </tr>\n",
       "  </thead>\n",
       "  <tbody>\n",
       "    <tr>\n",
       "      <th>0</th>\n",
       "      <td>00157779-810c-4498-9e05-a1e9e3cedf93</td>\n",
       "      <td>2019-10-19 21:34:34</td>\n",
       "    </tr>\n",
       "    <tr>\n",
       "      <th>1</th>\n",
       "      <td>004690c3-5a84-4bb7-a8af-e0c8f8fca64e</td>\n",
       "      <td>2019-10-18 22:14:06</td>\n",
       "    </tr>\n",
       "    <tr>\n",
       "      <th>2</th>\n",
       "      <td>00551e79-152e-4441-9cf7-565d7eb04090</td>\n",
       "      <td>2019-10-28 13:08:16</td>\n",
       "    </tr>\n",
       "    <tr>\n",
       "      <th>3</th>\n",
       "      <td>00753c79-ea81-4456-acd0-a47a23ca2fb9</td>\n",
       "      <td>2019-10-23 08:53:33</td>\n",
       "    </tr>\n",
       "    <tr>\n",
       "      <th>4</th>\n",
       "      <td>00a93a72-3bbc-4ee7-8a81-7134f45ae009</td>\n",
       "      <td>2019-10-11 15:45:00</td>\n",
       "    </tr>\n",
       "  </tbody>\n",
       "</table>\n",
       "</div>"
      ],
      "text/plain": [
       "                                user_id   first_search_time\n",
       "0  00157779-810c-4498-9e05-a1e9e3cedf93 2019-10-19 21:34:34\n",
       "1  004690c3-5a84-4bb7-a8af-e0c8f8fca64e 2019-10-18 22:14:06\n",
       "2  00551e79-152e-4441-9cf7-565d7eb04090 2019-10-28 13:08:16\n",
       "3  00753c79-ea81-4456-acd0-a47a23ca2fb9 2019-10-23 08:53:33\n",
       "4  00a93a72-3bbc-4ee7-8a81-7134f45ae009 2019-10-11 15:45:00"
      ]
     },
     "execution_count": 55,
     "metadata": {},
     "output_type": "execute_result"
    }
   ],
   "source": [
    "#просмотрим первое время визита пользователей с 1 группы\n",
    "users_first_visit_1=mobile_dataset_1.groupby('user_id')['first_visit'].min().reset_index()\n",
    "\n",
    "#просмотрим пользователей с 1 группы, выполнивших событий search\n",
    "search_dataset_1=mobile_dataset_1.loc[mobile_dataset_1['event_name']=='search']\n",
    "#просмотрим время первого выполнения события search у 1 группы\n",
    "users_first_visit_search_1=search_dataset_1.pivot_table(index = ['user_id'],values = 'event_time', aggfunc = 'first').reset_index()\n",
    "#переименуем столбец\n",
    "users_first_visit_search_1.rename(columns={'event_time':'first_search_time'}, inplace = True)\n",
    "users_first_visit_search_1.head()  "
   ]
  },
  {
   "cell_type": "code",
   "execution_count": 56,
   "metadata": {},
   "outputs": [
    {
     "name": "stdout",
     "output_type": "stream",
     "text": [
      "Среднее значение времени, которое проходит с момента первого использования \n",
      "      мобильного приложения и до использования функции поиска у пользователей 1 группы: 0 days 20:51:20.874298540\n"
     ]
    }
   ],
   "source": [
    "#соединим таблицы с пользователям из 1 группы, а именно даты первого захода в приложение и дату первого просмотра события search\n",
    "search_1 = users_first_visit_search_1.merge(users_first_visit_1, on = 'user_id', how = 'left')\n",
    "#посчитаем разницу дат\n",
    "search_1['diff_time']=search_1['first_search_time']-search_1['first_visit']\n",
    "\n",
    "print('''Среднее значение времени, которое проходит с момента первого использования \n",
    "      мобильного приложения и до использования функции поиска у пользователей 1 группы:''', search_1['diff_time'].mean())"
   ]
  },
  {
   "cell_type": "code",
   "execution_count": 57,
   "metadata": {},
   "outputs": [
    {
     "data": {
      "text/html": [
       "<div>\n",
       "<style scoped>\n",
       "    .dataframe tbody tr th:only-of-type {\n",
       "        vertical-align: middle;\n",
       "    }\n",
       "\n",
       "    .dataframe tbody tr th {\n",
       "        vertical-align: top;\n",
       "    }\n",
       "\n",
       "    .dataframe thead th {\n",
       "        text-align: right;\n",
       "    }\n",
       "</style>\n",
       "<table border=\"1\" class=\"dataframe\">\n",
       "  <thead>\n",
       "    <tr style=\"text-align: right;\">\n",
       "      <th></th>\n",
       "      <th>user_id</th>\n",
       "      <th>first_search_time</th>\n",
       "    </tr>\n",
       "  </thead>\n",
       "  <tbody>\n",
       "    <tr>\n",
       "      <th>0</th>\n",
       "      <td>00157779-810c-4498-9e05-a1e9e3cedf93</td>\n",
       "      <td>2019-10-29 21:18:25</td>\n",
       "    </tr>\n",
       "    <tr>\n",
       "      <th>1</th>\n",
       "      <td>004690c3-5a84-4bb7-a8af-e0c8f8fca64e</td>\n",
       "      <td>2019-10-20 17:47:19</td>\n",
       "    </tr>\n",
       "    <tr>\n",
       "      <th>2</th>\n",
       "      <td>00554293-7e00-4122-b898-4e892c4a7c53</td>\n",
       "      <td>2019-10-27 12:32:28</td>\n",
       "    </tr>\n",
       "    <tr>\n",
       "      <th>3</th>\n",
       "      <td>00a93a72-3bbc-4ee7-8a81-7134f45ae009</td>\n",
       "      <td>2019-10-11 15:41:11</td>\n",
       "    </tr>\n",
       "    <tr>\n",
       "      <th>4</th>\n",
       "      <td>00aa4003-366b-4788-ad1f-506f2b51b8cb</td>\n",
       "      <td>2019-10-18 22:23:28</td>\n",
       "    </tr>\n",
       "  </tbody>\n",
       "</table>\n",
       "</div>"
      ],
      "text/plain": [
       "                                user_id   first_search_time\n",
       "0  00157779-810c-4498-9e05-a1e9e3cedf93 2019-10-29 21:18:25\n",
       "1  004690c3-5a84-4bb7-a8af-e0c8f8fca64e 2019-10-20 17:47:19\n",
       "2  00554293-7e00-4122-b898-4e892c4a7c53 2019-10-27 12:32:28\n",
       "3  00a93a72-3bbc-4ee7-8a81-7134f45ae009 2019-10-11 15:41:11\n",
       "4  00aa4003-366b-4788-ad1f-506f2b51b8cb 2019-10-18 22:23:28"
      ]
     },
     "execution_count": 57,
     "metadata": {},
     "output_type": "execute_result"
    }
   ],
   "source": [
    "#просмотрим первое время визита пользователей со 2 группы\n",
    "users_first_visit_2=mobile_dataset_2.groupby('user_id')['first_visit'].min().reset_index()\n",
    "\n",
    "#просмотрим пользователей со 2 группы, выполнивших событий search\n",
    "search_dataset_2=mobile_dataset_2.loc[mobile_dataset_2['event_name']=='search']\n",
    "#просмотрим время первого выполнения события search у 2 группы\n",
    "users_first_visit_search_2=search_dataset_2.pivot_table(index = ['user_id'],values = 'event_time', aggfunc = 'first').reset_index()\n",
    "#переименуем столбец\n",
    "users_first_visit_search_2.rename(columns={'event_time':'first_search_time'}, inplace = True)\n",
    "users_first_visit_search_2.head() "
   ]
  },
  {
   "cell_type": "code",
   "execution_count": 58,
   "metadata": {},
   "outputs": [
    {
     "name": "stdout",
     "output_type": "stream",
     "text": [
      "Среднее значение времени, которое проходит с момента первого использования \n",
      "      мобильного приложения и до использования функции поиска у пользователей 2 группы: 0 days 10:18:32.836409395\n"
     ]
    }
   ],
   "source": [
    "#соединим таблицы с пользователям из 2 группы, а именно даты первого захода в приложение и дату первого просмотра события search\n",
    "search_2 = users_first_visit_search_2.merge(users_first_visit_2, on = 'user_id', how = 'left')\n",
    "#посчитаем разницу дат\n",
    "search_2['diff_time']=search_2['first_search_time']-search_2['first_visit']\n",
    "\n",
    "print('''Среднее значение времени, которое проходит с момента первого использования \n",
    "      мобильного приложения и до использования функции поиска у пользователей 2 группы:''', search_2['diff_time'].mean())"
   ]
  },
  {
   "cell_type": "markdown",
   "metadata": {},
   "source": [
    "#### Сравнение групп по времени между первым заходом в приложение и выполнением действия tips_show"
   ]
  },
  {
   "cell_type": "code",
   "execution_count": 59,
   "metadata": {},
   "outputs": [
    {
     "data": {
      "text/html": [
       "<div>\n",
       "<style scoped>\n",
       "    .dataframe tbody tr th:only-of-type {\n",
       "        vertical-align: middle;\n",
       "    }\n",
       "\n",
       "    .dataframe tbody tr th {\n",
       "        vertical-align: top;\n",
       "    }\n",
       "\n",
       "    .dataframe thead th {\n",
       "        text-align: right;\n",
       "    }\n",
       "</style>\n",
       "<table border=\"1\" class=\"dataframe\">\n",
       "  <thead>\n",
       "    <tr style=\"text-align: right;\">\n",
       "      <th></th>\n",
       "      <th>user_id</th>\n",
       "      <th>first_tips_show_time</th>\n",
       "    </tr>\n",
       "  </thead>\n",
       "  <tbody>\n",
       "    <tr>\n",
       "      <th>0</th>\n",
       "      <td>0001b1d5-b74a-4cbf-aeb0-7df5947bf349</td>\n",
       "      <td>2019-10-22 11:19:11</td>\n",
       "    </tr>\n",
       "    <tr>\n",
       "      <th>1</th>\n",
       "      <td>00554293-7e00-4122-b898-4e892c4a7c53</td>\n",
       "      <td>2019-10-27 12:37:44</td>\n",
       "    </tr>\n",
       "    <tr>\n",
       "      <th>2</th>\n",
       "      <td>005fbea5-2678-406f-88a6-fbe9787e2268</td>\n",
       "      <td>2019-10-11 11:29:10</td>\n",
       "    </tr>\n",
       "    <tr>\n",
       "      <th>3</th>\n",
       "      <td>007d031d-5018-4e02-b7ee-72a30609173f</td>\n",
       "      <td>2019-10-22 13:04:20</td>\n",
       "    </tr>\n",
       "    <tr>\n",
       "      <th>4</th>\n",
       "      <td>00ba2474-01c3-481a-8cf2-6d4636a8a1ca</td>\n",
       "      <td>2019-10-15 22:20:52</td>\n",
       "    </tr>\n",
       "  </tbody>\n",
       "</table>\n",
       "</div>"
      ],
      "text/plain": [
       "                                user_id first_tips_show_time\n",
       "0  0001b1d5-b74a-4cbf-aeb0-7df5947bf349  2019-10-22 11:19:11\n",
       "1  00554293-7e00-4122-b898-4e892c4a7c53  2019-10-27 12:37:44\n",
       "2  005fbea5-2678-406f-88a6-fbe9787e2268  2019-10-11 11:29:10\n",
       "3  007d031d-5018-4e02-b7ee-72a30609173f  2019-10-22 13:04:20\n",
       "4  00ba2474-01c3-481a-8cf2-6d4636a8a1ca  2019-10-15 22:20:52"
      ]
     },
     "execution_count": 59,
     "metadata": {},
     "output_type": "execute_result"
    }
   ],
   "source": [
    "#просмотрим пользователей с 1 группы, выполнивших событий tips_show\n",
    "tips_show_dataset_1=mobile_dataset_1.loc[mobile_dataset_1['event_name']=='tips_show']\n",
    "#просмотрим время первого выполнения события tips_show у 1 группы\n",
    "users_first_visit_tips_show_1=tips_show_dataset_1.pivot_table(index = ['user_id'],values = 'event_time', aggfunc = 'first').reset_index()\n",
    "#переименуем столбец\n",
    "users_first_visit_tips_show_1.rename(columns={'event_time':'first_tips_show_time'}, inplace = True)\n",
    "users_first_visit_tips_show_1.head()  "
   ]
  },
  {
   "cell_type": "code",
   "execution_count": 60,
   "metadata": {},
   "outputs": [
    {
     "name": "stdout",
     "output_type": "stream",
     "text": [
      "Среднее значение времени, которое проходит с момента первого использования \n",
      "      мобильного приложения и до использования функции tips_show у пользователей 1 группы: 0 days 04:35:48.253953908\n"
     ]
    }
   ],
   "source": [
    "#соединим таблицы с пользователям из 1 группы, а именно даты первого захода в приложение и дату первого просмотра события tips_show\n",
    "tips_show_1 = users_first_visit_tips_show_1.merge(users_first_visit_1, on = 'user_id', how = 'left')\n",
    "#посчитаем разницу дат\n",
    "tips_show_1['diff_time']=tips_show_1['first_tips_show_time']-tips_show_1['first_visit']\n",
    "\n",
    "print('''Среднее значение времени, которое проходит с момента первого использования \n",
    "      мобильного приложения и до использования функции tips_show у пользователей 1 группы:''', tips_show_1['diff_time'].mean())"
   ]
  },
  {
   "cell_type": "code",
   "execution_count": 61,
   "metadata": {},
   "outputs": [
    {
     "data": {
      "text/html": [
       "<div>\n",
       "<style scoped>\n",
       "    .dataframe tbody tr th:only-of-type {\n",
       "        vertical-align: middle;\n",
       "    }\n",
       "\n",
       "    .dataframe tbody tr th {\n",
       "        vertical-align: top;\n",
       "    }\n",
       "\n",
       "    .dataframe thead th {\n",
       "        text-align: right;\n",
       "    }\n",
       "</style>\n",
       "<table border=\"1\" class=\"dataframe\">\n",
       "  <thead>\n",
       "    <tr style=\"text-align: right;\">\n",
       "      <th></th>\n",
       "      <th>user_id</th>\n",
       "      <th>first_tips_show_time</th>\n",
       "    </tr>\n",
       "  </thead>\n",
       "  <tbody>\n",
       "    <tr>\n",
       "      <th>0</th>\n",
       "      <td>0001b1d5-b74a-4cbf-aeb0-7df5947bf349</td>\n",
       "      <td>2019-10-07 13:39:46</td>\n",
       "    </tr>\n",
       "    <tr>\n",
       "      <th>1</th>\n",
       "      <td>004690c3-5a84-4bb7-a8af-e0c8f8fca64e</td>\n",
       "      <td>2019-10-20 17:48:42</td>\n",
       "    </tr>\n",
       "    <tr>\n",
       "      <th>2</th>\n",
       "      <td>00554293-7e00-4122-b898-4e892c4a7c53</td>\n",
       "      <td>2019-10-27 12:33:13</td>\n",
       "    </tr>\n",
       "    <tr>\n",
       "      <th>3</th>\n",
       "      <td>007d031d-5018-4e02-b7ee-72a30609173f</td>\n",
       "      <td>2019-10-22 13:06:58</td>\n",
       "    </tr>\n",
       "    <tr>\n",
       "      <th>4</th>\n",
       "      <td>009c0f37-8556-4c72-a007-100e28a37373</td>\n",
       "      <td>2019-10-20 02:05:28</td>\n",
       "    </tr>\n",
       "  </tbody>\n",
       "</table>\n",
       "</div>"
      ],
      "text/plain": [
       "                                user_id first_tips_show_time\n",
       "0  0001b1d5-b74a-4cbf-aeb0-7df5947bf349  2019-10-07 13:39:46\n",
       "1  004690c3-5a84-4bb7-a8af-e0c8f8fca64e  2019-10-20 17:48:42\n",
       "2  00554293-7e00-4122-b898-4e892c4a7c53  2019-10-27 12:33:13\n",
       "3  007d031d-5018-4e02-b7ee-72a30609173f  2019-10-22 13:06:58\n",
       "4  009c0f37-8556-4c72-a007-100e28a37373  2019-10-20 02:05:28"
      ]
     },
     "execution_count": 61,
     "metadata": {},
     "output_type": "execute_result"
    }
   ],
   "source": [
    "#просмотрим пользователей со 2 группы, выполнивших событий tips_show\n",
    "tips_show_dataset_2=mobile_dataset_2.loc[mobile_dataset_2['event_name']=='tips_show']\n",
    "#просмотрим время первого выполнения события tips_show у 2 группы\n",
    "users_first_visit_tips_show_2=tips_show_dataset_2.pivot_table(index = ['user_id'],values = 'event_time', aggfunc = 'first').reset_index()\n",
    "#переименуем столбец\n",
    "users_first_visit_tips_show_2.rename(columns={'event_time':'first_tips_show_time'}, inplace = True)\n",
    "users_first_visit_tips_show_2.head()  "
   ]
  },
  {
   "cell_type": "code",
   "execution_count": 62,
   "metadata": {},
   "outputs": [
    {
     "name": "stdout",
     "output_type": "stream",
     "text": [
      "Среднее значение времени, которое проходит с момента первого использования \n",
      "      мобильного приложения и до использования функции tips_show у пользователей 2 группы: 0 days 01:45:50.817903930\n"
     ]
    }
   ],
   "source": [
    "#соединим таблицы с пользователям из 2 группы, а именно даты первого захода в приложение и дату первого просмотра события tips_show\n",
    "tips_show_2 = users_first_visit_tips_show_2.merge(users_first_visit_2, on = 'user_id', how = 'left')\n",
    "#посчитаем разницу дат\n",
    "tips_show_2['diff_time']=tips_show_2['first_tips_show_time']-tips_show_2['first_visit']\n",
    "\n",
    "print('''Среднее значение времени, которое проходит с момента первого использования \n",
    "      мобильного приложения и до использования функции tips_show у пользователей 2 группы:''', tips_show_2['diff_time'].mean())"
   ]
  },
  {
   "cell_type": "markdown",
   "metadata": {},
   "source": [
    "Как видим у второй группы разница между временем первого захода в приложение и временем совершения популярных действий search и tips_show значительно ниже, чем у 1 группы"
   ]
  },
  {
   "cell_type": "markdown",
   "metadata": {},
   "source": [
    "### Выводы по сегментированию пользователей на 2 группы\n",
    "В рамках сегментирования пользователей на 2 группы было выбрано разделение с учетом количества действий, соверщаемых в рамках сессий (до медианного значения и после). Так группы были поделены на тех, кто совершает 2 действия и меньше в рамках одной сессии, и на тех, кто совершает 3 и более действия.\n",
    "\n",
    "Сравнивая показатель удержания Retention Rate, отметили, что пользователи со второй группы удерживаются хуже.\n",
    "\n",
    "Сравнивая показатель \"Время в приложении\", отмечаем, что у второй группы более равномерно распределено время(меньше резких скачков). Средние показатели (арифметическое среднее и медианы), а также максимальное время пользования у второй группы также выше.\n",
    "\n",
    "Показатель \"Конверсия в целевое действие contacts_show\" у обоих групп одинаковый - 18 процентов.\n",
    "\n",
    "У второй группы разница между временем первого захода в приложение и временем совершения популярных действий search и tips_show значительно ниже, чем у 1 группы\n",
    "\n",
    "Таким образом, не смотря на то, что 2 группа дольше и активнее пользуется приложением, их удержание ниже, чем у тех, кто совершает 1-2 действия во время пользования приложением. Возможно, 1ой группе нравится приложение и они быстро находят что им надо и возвращаются с удовольствием назад."
   ]
  },
  {
   "cell_type": "markdown",
   "metadata": {},
   "source": [
    "## Проверка статистических гипотез"
   ]
  },
  {
   "cell_type": "markdown",
   "metadata": {},
   "source": [
    "### Проверка гипотезы: \"Группы, установившие приложение из yandex и из google, демонстрируют разную конверсию в просмотры контактов.\""
   ]
  },
  {
   "cell_type": "markdown",
   "metadata": {},
   "source": [
    "Для проведения проверки гипотезы будем проводить z-тест, так как решаем задачу сравнения долей. Разница между долями, наблюдаемыми на выборках, будет нашей статистикой. Уровень значимости выберем -0.05"
   ]
  },
  {
   "cell_type": "markdown",
   "metadata": {},
   "source": [
    "Формируем гипотезы:\n",
    "\n",
    "H0:  конверсия в просмотры контактов у пользователей, установивших приложение из yandex и из google не отличается.\n",
    "\n",
    "H1:  конверсия в просмотры контактов у пользователей, установивших приложение из yandex и из google отличается."
   ]
  },
  {
   "cell_type": "code",
   "execution_count": 63,
   "metadata": {},
   "outputs": [],
   "source": [
    "# напишем функцию для проведения z-теста\n",
    " \n",
    "def z_test(successes1, successes2, trials1, trials2, alpha=0.05):\n",
    "    p1 = successes1 / trials1\n",
    "    p2 = successes2 / trials2\n",
    "    p_combined = (successes1 + successes2) / (trials1 + trials2)\n",
    "    difference = p1 - p2\n",
    "    z_value = difference / mth.sqrt(p_combined * (1 - p_combined) * (1/trials1 + 1/trials2)) \n",
    "    distr = st.norm(0, 1)  \n",
    "    p_value = (1 - distr.cdf(abs(z_value))) * 2 \n",
    "    print('p-значение: ', p_value)\n",
    " \n",
    "    if (p_value < alpha): \n",
    "        display('Отвергаем нулевую гипотезу: между долями есть значимая разница')\n",
    "    else:\n",
    "        display('Не получилось отвергнуть нулевую гипотезу, нет оснований считать доли разными')  "
   ]
  },
  {
   "cell_type": "code",
   "execution_count": 64,
   "metadata": {
    "scrolled": true
   },
   "outputs": [
    {
     "data": {
      "text/html": [
       "<div>\n",
       "<style scoped>\n",
       "    .dataframe tbody tr th:only-of-type {\n",
       "        vertical-align: middle;\n",
       "    }\n",
       "\n",
       "    .dataframe tbody tr th {\n",
       "        vertical-align: top;\n",
       "    }\n",
       "\n",
       "    .dataframe thead th {\n",
       "        text-align: right;\n",
       "    }\n",
       "</style>\n",
       "<table border=\"1\" class=\"dataframe\">\n",
       "  <thead>\n",
       "    <tr style=\"text-align: right;\">\n",
       "      <th></th>\n",
       "      <th>source</th>\n",
       "      <th>user_id</th>\n",
       "    </tr>\n",
       "  </thead>\n",
       "  <tbody>\n",
       "    <tr>\n",
       "      <th>0</th>\n",
       "      <td>google</td>\n",
       "      <td>1129</td>\n",
       "    </tr>\n",
       "    <tr>\n",
       "      <th>1</th>\n",
       "      <td>other</td>\n",
       "      <td>1230</td>\n",
       "    </tr>\n",
       "    <tr>\n",
       "      <th>2</th>\n",
       "      <td>yandex</td>\n",
       "      <td>1934</td>\n",
       "    </tr>\n",
       "  </tbody>\n",
       "</table>\n",
       "</div>"
      ],
      "text/plain": [
       "   source  user_id\n",
       "0  google     1129\n",
       "1   other     1230\n",
       "2  yandex     1934"
      ]
     },
     "metadata": {},
     "output_type": "display_data"
    }
   ],
   "source": [
    "#посмотрим количество пользователей пришедших из google и yandex\n",
    "sources=mobile_dataset.groupby('source')['user_id'].nunique().reset_index()\n",
    "display(sources)"
   ]
  },
  {
   "cell_type": "code",
   "execution_count": 65,
   "metadata": {},
   "outputs": [
    {
     "data": {
      "text/html": [
       "<div>\n",
       "<style scoped>\n",
       "    .dataframe tbody tr th:only-of-type {\n",
       "        vertical-align: middle;\n",
       "    }\n",
       "\n",
       "    .dataframe tbody tr th {\n",
       "        vertical-align: top;\n",
       "    }\n",
       "\n",
       "    .dataframe thead th {\n",
       "        text-align: right;\n",
       "    }\n",
       "</style>\n",
       "<table border=\"1\" class=\"dataframe\">\n",
       "  <thead>\n",
       "    <tr style=\"text-align: right;\">\n",
       "      <th></th>\n",
       "      <th>source</th>\n",
       "      <th>user_id</th>\n",
       "    </tr>\n",
       "  </thead>\n",
       "  <tbody>\n",
       "    <tr>\n",
       "      <th>0</th>\n",
       "      <td>google</td>\n",
       "      <td>275</td>\n",
       "    </tr>\n",
       "    <tr>\n",
       "      <th>1</th>\n",
       "      <td>other</td>\n",
       "      <td>228</td>\n",
       "    </tr>\n",
       "    <tr>\n",
       "      <th>2</th>\n",
       "      <td>yandex</td>\n",
       "      <td>478</td>\n",
       "    </tr>\n",
       "  </tbody>\n",
       "</table>\n",
       "</div>"
      ],
      "text/plain": [
       "   source  user_id\n",
       "0  google      275\n",
       "1   other      228\n",
       "2  yandex      478"
      ]
     },
     "metadata": {},
     "output_type": "display_data"
    }
   ],
   "source": [
    "#посмотрим на данные пользователей, посмотревших контакты\n",
    "contacts_show=mobile_dataset.loc[mobile_dataset['event_name']=='contacts_show']\n",
    "#посчитаем сколько данных контактов пришло из google, а сколько из yandex\n",
    "contacts_show=contacts_show.groupby('source')['user_id'].nunique().reset_index()\n",
    "display(contacts_show)"
   ]
  },
  {
   "cell_type": "code",
   "execution_count": 66,
   "metadata": {},
   "outputs": [
    {
     "name": "stdout",
     "output_type": "stream",
     "text": [
      "p-значение:  0.8244316027993777\n"
     ]
    },
    {
     "data": {
      "text/plain": [
       "'Не получилось отвергнуть нулевую гипотезу, нет оснований считать доли разными'"
      ]
     },
     "metadata": {},
     "output_type": "display_data"
    }
   ],
   "source": [
    "#проведем z-тест\n",
    "z_test(contacts_show.loc[0][1],\n",
    "      contacts_show.loc[2][1],\n",
    "      sources.loc[0][1],\n",
    "      sources.loc[2][1])"
   ]
  },
  {
   "cell_type": "markdown",
   "metadata": {},
   "source": [
    "Таким образом, конверсия в просмотры контактов у пользователей, установивших приложение из yandex и из google не отличается."
   ]
  },
  {
   "cell_type": "markdown",
   "metadata": {},
   "source": [
    "### Проверка гипотезы: \"Средняя длительность сессий между пользователями, установившим приложение из yandex и из google, различается между собой.\""
   ]
  },
  {
   "cell_type": "markdown",
   "metadata": {},
   "source": [
    "Для проверки используем t-тест.\n",
    "\n",
    "H0 Нулевая гипотеза:Между средним значением длительности сессий между пользователями, установившим приложение из yandex и из google, нет существенной разницы\n",
    "\n",
    "H1 Альтернативная гипотеза:  Существует значительная разница между средним значением длительности сессий между пользователями, установившим приложение из yandex и из google"
   ]
  },
  {
   "cell_type": "code",
   "execution_count": 67,
   "metadata": {},
   "outputs": [
    {
     "data": {
      "text/html": [
       "<div>\n",
       "<style scoped>\n",
       "    .dataframe tbody tr th:only-of-type {\n",
       "        vertical-align: middle;\n",
       "    }\n",
       "\n",
       "    .dataframe tbody tr th {\n",
       "        vertical-align: top;\n",
       "    }\n",
       "\n",
       "    .dataframe thead th {\n",
       "        text-align: right;\n",
       "    }\n",
       "</style>\n",
       "<table border=\"1\" class=\"dataframe\">\n",
       "  <thead>\n",
       "    <tr style=\"text-align: right;\">\n",
       "      <th></th>\n",
       "      <th>duration</th>\n",
       "    </tr>\n",
       "  </thead>\n",
       "  <tbody>\n",
       "    <tr>\n",
       "      <th>7</th>\n",
       "      <td>115.0</td>\n",
       "    </tr>\n",
       "    <tr>\n",
       "      <th>10</th>\n",
       "      <td>74.0</td>\n",
       "    </tr>\n",
       "    <tr>\n",
       "      <th>11</th>\n",
       "      <td>111.0</td>\n",
       "    </tr>\n",
       "    <tr>\n",
       "      <th>12</th>\n",
       "      <td>797.0</td>\n",
       "    </tr>\n",
       "    <tr>\n",
       "      <th>14</th>\n",
       "      <td>79.0</td>\n",
       "    </tr>\n",
       "    <tr>\n",
       "      <th>...</th>\n",
       "      <td>...</td>\n",
       "    </tr>\n",
       "    <tr>\n",
       "      <th>12868</th>\n",
       "      <td>111.0</td>\n",
       "    </tr>\n",
       "    <tr>\n",
       "      <th>12871</th>\n",
       "      <td>52.0</td>\n",
       "    </tr>\n",
       "    <tr>\n",
       "      <th>12873</th>\n",
       "      <td>44.0</td>\n",
       "    </tr>\n",
       "    <tr>\n",
       "      <th>12874</th>\n",
       "      <td>164.0</td>\n",
       "    </tr>\n",
       "    <tr>\n",
       "      <th>12876</th>\n",
       "      <td>954.0</td>\n",
       "    </tr>\n",
       "  </tbody>\n",
       "</table>\n",
       "<p>7129 rows × 1 columns</p>\n",
       "</div>"
      ],
      "text/plain": [
       "       duration\n",
       "7         115.0\n",
       "10         74.0\n",
       "11        111.0\n",
       "12        797.0\n",
       "14         79.0\n",
       "...         ...\n",
       "12868     111.0\n",
       "12871      52.0\n",
       "12873      44.0\n",
       "12874     164.0\n",
       "12876     954.0\n",
       "\n",
       "[7129 rows x 1 columns]"
      ]
     },
     "metadata": {},
     "output_type": "display_data"
    }
   ],
   "source": [
    "#создадим данные о пользователях с yandex\n",
    "yandex=mobile_dataset.loc[mobile_dataset['source']=='yandex']\n",
    "#посмотрим на максимальное время пользователей с yandex по сессиям\n",
    "yandex_max=yandex.groupby(['user_id', 'session_id'])['event_time'].max().reset_index()\n",
    "#посмотрим на первое(минимальное) время пользователей с yandex по сессиям\n",
    "yandex_min=yandex.groupby(['user_id', 'session_id'])['event_time'].min().reset_index()\n",
    "#создадим пустой Датасет\n",
    "yandex_duration_session=pd.DataFrame() \n",
    "# посчитаем длительность сессий у пользователей yandex\n",
    "yandex_duration_session['duration']=yandex_max['event_time']-yandex_min['event_time']\n",
    "#переводим длительность сессий в секунды\n",
    "yandex_duration_session['duration']=yandex_duration_session['duration'].dt.total_seconds()\n",
    "#удаляем нулевые значения в длительности\n",
    "yandex_duration_session=yandex_duration_session.loc[yandex_duration_session['duration']!=0]\n",
    "display(yandex_duration_session)"
   ]
  },
  {
   "cell_type": "code",
   "execution_count": 68,
   "metadata": {},
   "outputs": [
    {
     "data": {
      "text/html": [
       "<div>\n",
       "<style scoped>\n",
       "    .dataframe tbody tr th:only-of-type {\n",
       "        vertical-align: middle;\n",
       "    }\n",
       "\n",
       "    .dataframe tbody tr th {\n",
       "        vertical-align: top;\n",
       "    }\n",
       "\n",
       "    .dataframe thead th {\n",
       "        text-align: right;\n",
       "    }\n",
       "</style>\n",
       "<table border=\"1\" class=\"dataframe\">\n",
       "  <thead>\n",
       "    <tr style=\"text-align: right;\">\n",
       "      <th></th>\n",
       "      <th>duration</th>\n",
       "    </tr>\n",
       "  </thead>\n",
       "  <tbody>\n",
       "    <tr>\n",
       "      <th>0</th>\n",
       "      <td>11.0</td>\n",
       "    </tr>\n",
       "    <tr>\n",
       "      <th>1</th>\n",
       "      <td>0.0</td>\n",
       "    </tr>\n",
       "    <tr>\n",
       "      <th>2</th>\n",
       "      <td>83.0</td>\n",
       "    </tr>\n",
       "    <tr>\n",
       "      <th>3</th>\n",
       "      <td>0.0</td>\n",
       "    </tr>\n",
       "    <tr>\n",
       "      <th>4</th>\n",
       "      <td>0.0</td>\n",
       "    </tr>\n",
       "    <tr>\n",
       "      <th>...</th>\n",
       "      <td>...</td>\n",
       "    </tr>\n",
       "    <tr>\n",
       "      <th>7789</th>\n",
       "      <td>26.0</td>\n",
       "    </tr>\n",
       "    <tr>\n",
       "      <th>7790</th>\n",
       "      <td>138.0</td>\n",
       "    </tr>\n",
       "    <tr>\n",
       "      <th>7791</th>\n",
       "      <td>49.0</td>\n",
       "    </tr>\n",
       "    <tr>\n",
       "      <th>7792</th>\n",
       "      <td>0.0</td>\n",
       "    </tr>\n",
       "    <tr>\n",
       "      <th>7793</th>\n",
       "      <td>44.0</td>\n",
       "    </tr>\n",
       "  </tbody>\n",
       "</table>\n",
       "<p>7794 rows × 1 columns</p>\n",
       "</div>"
      ],
      "text/plain": [
       "      duration\n",
       "0         11.0\n",
       "1          0.0\n",
       "2         83.0\n",
       "3          0.0\n",
       "4          0.0\n",
       "...        ...\n",
       "7789      26.0\n",
       "7790     138.0\n",
       "7791      49.0\n",
       "7792       0.0\n",
       "7793      44.0\n",
       "\n",
       "[7794 rows x 1 columns]"
      ]
     },
     "metadata": {},
     "output_type": "display_data"
    }
   ],
   "source": [
    "#создадим данные о пользователях с google\n",
    "google=mobile_dataset.loc[mobile_dataset['source']=='google']\n",
    "#посмотрим на максимальное время пользователей с google по сессиям\n",
    "google_max=google.groupby(['user_id', 'session_id'])['event_time'].max().reset_index()\n",
    "#посмотрим на первое(минимальное) время пользователей с google по сессиям\n",
    "google_min=google.groupby(['user_id', 'session_id'])['event_time'].min().reset_index()\n",
    "#создадим пустой Датасет\n",
    "google_duration_session=pd.DataFrame() \n",
    "# посчитаем длительность сессий у пользователей google\n",
    "google_duration_session['duration']=google_max['event_time']-google_min['event_time']\n",
    "#переводим длительность сессий в секунды\n",
    "google_duration_session['duration']=google_duration_session['duration'].dt.total_seconds()\n",
    "display(google_duration_session)\n"
   ]
  },
  {
   "cell_type": "code",
   "execution_count": 69,
   "metadata": {},
   "outputs": [
    {
     "name": "stdout",
     "output_type": "stream",
     "text": [
      "p-значение: 3.2603810567856954e-157\n",
      "Отвергаем нулевую гипотезу, среднее значение длительности сессий между пользователями, установившим приложение из yandex и из google, различается\n"
     ]
    }
   ],
   "source": [
    "alpha = .01 # задаём критический уровень статистической значимости\n",
    "\n",
    "results =  st.ttest_ind(\n",
    "    yandex_duration_session['duration'], \n",
    "    google_duration_session['duration'], equal_var=False) #проверяем гипотезу о равенстве средних двух независимых совокупностей\n",
    "\n",
    "print('p-значение:', results.pvalue) # выводим на экран получившеся p-значение)\n",
    "\n",
    "if results.pvalue < alpha:# сравниваем получившееся p-значение с заданным уровнем статистической значимости:\n",
    "    print(\"Отвергаем нулевую гипотезу, среднее значение длительности сессий между пользователями, установившим приложение из yandex и из google, различается\")\n",
    "else:\n",
    "    print(\"Не получилось отвергнуть нулевую гипотезу\")"
   ]
  },
  {
   "cell_type": "markdown",
   "metadata": {},
   "source": [
    "## Общий вывод"
   ]
  },
  {
   "cell_type": "markdown",
   "metadata": {},
   "source": [
    "Анализируя данные, отмечаем что имеем сведения  с 7 октября 2019 года по 3 ноября 2019 года - всего за 28 дней\n",
    "\n",
    "Клиентов, пришедших с  yandex больше - 45 процентов. Пользователей, пришедших с google - 1129, это 26 процентов.\n",
    "\n",
    "Общее количество событий - 73079, в течение  всего времени больше всего количества событий выявлено 1 ноября, меньше всего - 11 октября, однако в принципе приложение работало стабильно, резких скачков с действиями в приложении не выявлено.\n",
    "\n",
    "Всего 4293 клиента, в среднем на клиента приходится 17 событий, однако медианное количество событий составляет  9, так как имеются значительные выбросы в 200 и даже в 472 события.\n",
    "\n",
    "Количество уникальных пользователей в день -  279\n",
    "\n",
    "Количество уникальных пользователей в неделю -  1382.\n",
    "\n",
    "Для анализа конкретных метрик было принято решение разделить пользователей по количеству действия в сессии. Так максимальное количество событий в сесии - 63, минимальное - 1, среднее медианное значение - 2,6. Было принято решение разделить пользователей на 2 группы: тех, кто совершил в рамках одной сессии 2 и менее события, и тех, кто совершил 3 и более события.\n",
    "\n",
    "    - Сравнивая показатель удержания Retention Rate, отметили, что пользователи со второй группы удерживаются хуже.\n",
    "\n",
    "    - Сравнивая показатель \"Время в приложении\", отмечаем, что у второй группы более равномерно распределено время(меньше резких скачков). Средние показатели (арифметическое среднее и медианы), а также максимальное время пользования у второй группы также выше.\n",
    "\n",
    "    - Показатель \"Конверсия в целевое действие contacts_show\" у обоих групп одинаковый - 18-19 процентов.\n",
    "\n",
    "Таким образом, не смотря на то, что 2 группа дольше и активнее пользуется приложением, их удержание ниже, чем у тех, кто совершает 1-2 действия во время пользования приложением. Возможно, 1ой группе нравится приложение и они быстро находят что им надо и возвращаются с удовольствием назад.\n",
    "\n",
    "\n",
    "В рамках проверки статистических гипотез было проверены 2 гипотезы:\n",
    "- Группы, установившие приложение из yandex и из google, демонстрируют разную конверсию в просмотры контактов.\n",
    "- Средняя длительность сессий между пользователями, установившим приложение из yandex и из google, различается между собой.\n",
    "\n",
    "Вывод по проверке гипотез:\n",
    "- Конверсия в просмотры контактов у пользователей, установивших приложение из yandex и из google не отличается.\n",
    "- Среднее значение длительности сессий между пользователями, установившим приложение из yandex и из google, различается\n",
    "\n",
    "Отвечая на вопросы заказчика:\n",
    "- Какие пользователи склонны часто возвращаться в мобильное приложение?\n",
    "        - Пользователи, которые совершают в рамках сессиий 1-2 действия склонны чаще возвращаться в мобильное приложение\n",
    "- Какие пользователи часто делают целевое событие (contacts_show)?\n",
    "        - Пользователи, совершающие меньше 2 действий в сессии и больше 2 сессий, одинаково часто делают целевое событие contacts_show\n",
    "- Как различается время между распространенными событиями пользователей, (например, различаются ли пользователи по группам на основе времени, которое проходит с момента первого использования мобильного приложения и до использования функции поиска)?\n",
    "        - У второй группы разница между временем первого захода в приложение и временем совершения популярных действий search и tips_show значительно ниже, чем у 1 группы.\n",
    "        \n",
    "Рекомендации по развитию приложения:\n",
    "\n",
    "    - Стоит аккуратно подходть к внедрению новых возможностей, функций в приложении, так как в принципе фишками вроде просмотра на карте пользуется не так много пользователей. И отмечено, что пользователи с количеством действий больше, чем 2, меньше удерживаются в приложении. Скорее всего пользователям в приложении комфортнее выполнять меньше действий, чтобы получать достигнутое, в таком случае они дольше остаются пользователями приложения.\n",
    "    - Стоит обратить внимание с какого источника приходят пользователи yandex или google. Среднее значение длительности сессий между данными пользователями различается. Необходимо более детально изучить данных потребителей. "
   ]
  }
 ],
 "metadata": {
  "ExecuteTimeLog": [
   {
    "duration": 3,
    "start_time": "2022-06-17T10:58:05.645Z"
   },
   {
    "duration": 67,
    "start_time": "2022-06-17T10:58:13.344Z"
   },
   {
    "duration": 405,
    "start_time": "2022-06-17T10:58:19.514Z"
   },
   {
    "duration": 471,
    "start_time": "2022-06-17T10:59:25.139Z"
   },
   {
    "duration": 361,
    "start_time": "2022-06-17T10:59:43.719Z"
   },
   {
    "duration": 9,
    "start_time": "2022-06-17T11:00:04.650Z"
   },
   {
    "duration": 11,
    "start_time": "2022-06-17T11:00:21.640Z"
   },
   {
    "duration": 7,
    "start_time": "2022-06-17T11:00:33.418Z"
   },
   {
    "duration": 311,
    "start_time": "2022-06-17T11:00:37.109Z"
   },
   {
    "duration": 8,
    "start_time": "2022-06-17T11:00:38.737Z"
   },
   {
    "duration": 7,
    "start_time": "2022-06-17T11:00:45.559Z"
   },
   {
    "duration": 7,
    "start_time": "2022-06-17T11:00:53.981Z"
   },
   {
    "duration": 10,
    "start_time": "2022-06-17T11:01:29.841Z"
   },
   {
    "duration": 33,
    "start_time": "2022-06-17T11:01:58.278Z"
   },
   {
    "duration": 7,
    "start_time": "2022-06-17T11:12:55.080Z"
   },
   {
    "duration": 6,
    "start_time": "2022-06-17T11:13:02.245Z"
   },
   {
    "duration": 3,
    "start_time": "2022-06-17T11:13:13.841Z"
   },
   {
    "duration": 63,
    "start_time": "2022-06-17T11:14:15.000Z"
   },
   {
    "duration": 3,
    "start_time": "2022-06-17T11:14:36.660Z"
   },
   {
    "duration": 9,
    "start_time": "2022-06-17T11:14:38.721Z"
   },
   {
    "duration": 20,
    "start_time": "2022-06-17T11:14:45.145Z"
   },
   {
    "duration": 16,
    "start_time": "2022-06-17T11:16:34.841Z"
   },
   {
    "duration": 7,
    "start_time": "2022-06-17T11:17:38.380Z"
   },
   {
    "duration": 6,
    "start_time": "2022-06-17T11:17:53.880Z"
   },
   {
    "duration": 13,
    "start_time": "2022-06-17T11:18:00.380Z"
   },
   {
    "duration": 8,
    "start_time": "2022-06-17T11:18:12.844Z"
   },
   {
    "duration": 29,
    "start_time": "2022-06-17T11:18:56.980Z"
   },
   {
    "duration": 6,
    "start_time": "2022-06-17T11:19:35.836Z"
   },
   {
    "duration": 20,
    "start_time": "2022-06-17T11:22:40.821Z"
   },
   {
    "duration": 6,
    "start_time": "2022-06-17T11:23:02.260Z"
   },
   {
    "duration": 13,
    "start_time": "2022-06-17T11:23:14.760Z"
   },
   {
    "duration": 3,
    "start_time": "2022-06-17T11:26:11.639Z"
   },
   {
    "duration": 7,
    "start_time": "2022-06-17T11:26:48.816Z"
   },
   {
    "duration": 564,
    "start_time": "2022-06-17T11:27:17.691Z"
   },
   {
    "duration": 10,
    "start_time": "2022-06-17T11:27:35.194Z"
   },
   {
    "duration": 16,
    "start_time": "2022-06-17T11:28:24.114Z"
   },
   {
    "duration": 7,
    "start_time": "2022-06-17T11:28:30.646Z"
   },
   {
    "duration": 14,
    "start_time": "2022-06-17T11:28:46.307Z"
   },
   {
    "duration": 14,
    "start_time": "2022-06-17T11:29:32.066Z"
   },
   {
    "duration": 8,
    "start_time": "2022-06-17T11:35:48.036Z"
   },
   {
    "duration": 8,
    "start_time": "2022-06-17T11:36:00.449Z"
   },
   {
    "duration": 15,
    "start_time": "2022-06-17T11:36:03.906Z"
   },
   {
    "duration": 11,
    "start_time": "2022-06-17T11:36:12.630Z"
   },
   {
    "duration": 7,
    "start_time": "2022-06-17T11:38:30.334Z"
   },
   {
    "duration": 20,
    "start_time": "2022-06-17T11:38:56.985Z"
   },
   {
    "duration": 10,
    "start_time": "2022-06-17T11:39:14.379Z"
   },
   {
    "duration": 48,
    "start_time": "2022-06-17T11:40:59.485Z"
   },
   {
    "duration": 12,
    "start_time": "2022-06-17T11:41:05.176Z"
   },
   {
    "duration": 34,
    "start_time": "2022-06-17T11:41:13.745Z"
   },
   {
    "duration": 8,
    "start_time": "2022-06-17T11:42:46.274Z"
   },
   {
    "duration": 12,
    "start_time": "2022-06-17T11:42:48.225Z"
   },
   {
    "duration": 29,
    "start_time": "2022-06-17T11:43:32.925Z"
   },
   {
    "duration": 11,
    "start_time": "2022-06-17T11:43:35.174Z"
   },
   {
    "duration": 31,
    "start_time": "2022-06-17T11:44:03.019Z"
   },
   {
    "duration": 20,
    "start_time": "2022-06-17T12:25:08.277Z"
   },
   {
    "duration": 11,
    "start_time": "2022-06-17T12:25:22.826Z"
   },
   {
    "duration": 10,
    "start_time": "2022-06-17T12:58:56.574Z"
   },
   {
    "duration": 4,
    "start_time": "2022-06-17T13:01:18.259Z"
   },
   {
    "duration": 6,
    "start_time": "2022-06-17T13:01:20.204Z"
   },
   {
    "duration": 413,
    "start_time": "2022-06-17T13:01:27.178Z"
   },
   {
    "duration": 3,
    "start_time": "2022-06-17T13:01:33.431Z"
   },
   {
    "duration": 6,
    "start_time": "2022-06-17T13:03:20.450Z"
   },
   {
    "duration": 6,
    "start_time": "2022-06-17T13:06:20.610Z"
   },
   {
    "duration": 14,
    "start_time": "2022-06-17T13:06:36.890Z"
   },
   {
    "duration": 8,
    "start_time": "2022-06-17T13:06:49.810Z"
   },
   {
    "duration": 18,
    "start_time": "2022-06-17T13:07:29.571Z"
   },
   {
    "duration": 11,
    "start_time": "2022-06-17T13:20:31.519Z"
   },
   {
    "duration": 11,
    "start_time": "2022-06-17T13:20:38.097Z"
   },
   {
    "duration": 11,
    "start_time": "2022-06-17T13:21:00.717Z"
   },
   {
    "duration": 14,
    "start_time": "2022-06-17T13:31:22.557Z"
   },
   {
    "duration": 6,
    "start_time": "2022-06-17T13:32:29.724Z"
   },
   {
    "duration": 722,
    "start_time": "2022-06-17T13:41:39.198Z"
   },
   {
    "duration": 4,
    "start_time": "2022-06-17T13:43:57.317Z"
   },
   {
    "duration": 336,
    "start_time": "2022-06-17T16:01:41.422Z"
   },
   {
    "duration": 345,
    "start_time": "2022-06-17T16:01:41.861Z"
   },
   {
    "duration": 11,
    "start_time": "2022-06-17T16:01:42.402Z"
   },
   {
    "duration": 8,
    "start_time": "2022-06-17T16:01:43.297Z"
   },
   {
    "duration": 3,
    "start_time": "2022-06-17T16:01:43.862Z"
   },
   {
    "duration": 2,
    "start_time": "2022-06-17T16:01:44.342Z"
   },
   {
    "duration": 9,
    "start_time": "2022-06-17T16:01:44.741Z"
   },
   {
    "duration": 15,
    "start_time": "2022-06-17T16:01:45.594Z"
   },
   {
    "duration": 14,
    "start_time": "2022-06-17T16:01:46.562Z"
   },
   {
    "duration": 7,
    "start_time": "2022-06-17T16:01:47.021Z"
   },
   {
    "duration": 24,
    "start_time": "2022-06-17T16:01:47.573Z"
   },
   {
    "duration": 19,
    "start_time": "2022-06-17T16:01:48.022Z"
   },
   {
    "duration": 5,
    "start_time": "2022-06-17T16:01:48.541Z"
   },
   {
    "duration": 14,
    "start_time": "2022-06-17T16:01:49.161Z"
   },
   {
    "duration": 16,
    "start_time": "2022-06-17T16:01:49.697Z"
   },
   {
    "duration": 8,
    "start_time": "2022-06-17T16:01:50.201Z"
   },
   {
    "duration": 19,
    "start_time": "2022-06-17T16:01:51.942Z"
   },
   {
    "duration": 12,
    "start_time": "2022-06-17T16:01:53.233Z"
   },
   {
    "duration": 7,
    "start_time": "2022-06-17T16:01:54.287Z"
   },
   {
    "duration": 29,
    "start_time": "2022-06-17T16:01:54.862Z"
   },
   {
    "duration": 15,
    "start_time": "2022-06-17T16:01:55.540Z"
   },
   {
    "duration": 4,
    "start_time": "2022-06-17T16:01:56.961Z"
   },
   {
    "duration": 4,
    "start_time": "2022-06-17T16:01:57.591Z"
   },
   {
    "duration": 617,
    "start_time": "2022-06-17T16:01:59.153Z"
   },
   {
    "duration": 524,
    "start_time": "2022-06-17T16:02:53.533Z"
   },
   {
    "duration": 498,
    "start_time": "2022-06-17T16:07:14.629Z"
   },
   {
    "duration": 571,
    "start_time": "2022-06-17T16:08:17.561Z"
   },
   {
    "duration": 84,
    "start_time": "2022-06-17T16:09:34.221Z"
   },
   {
    "duration": 19,
    "start_time": "2022-06-17T16:11:15.341Z"
   },
   {
    "duration": 138,
    "start_time": "2022-06-17T16:14:24.422Z"
   },
   {
    "duration": 136,
    "start_time": "2022-06-17T16:14:31.882Z"
   },
   {
    "duration": 143,
    "start_time": "2022-06-17T16:16:17.173Z"
   },
   {
    "duration": 138,
    "start_time": "2022-06-17T16:16:53.721Z"
   },
   {
    "duration": 155,
    "start_time": "2022-06-17T16:17:01.194Z"
   },
   {
    "duration": 147,
    "start_time": "2022-06-17T16:17:06.201Z"
   },
   {
    "duration": 180,
    "start_time": "2022-06-17T16:17:26.681Z"
   },
   {
    "duration": 226,
    "start_time": "2022-06-17T16:18:08.802Z"
   },
   {
    "duration": 179,
    "start_time": "2022-06-17T16:18:19.948Z"
   },
   {
    "duration": 163,
    "start_time": "2022-06-17T16:18:33.602Z"
   },
   {
    "duration": 31,
    "start_time": "2022-06-17T16:21:05.162Z"
   },
   {
    "duration": 26,
    "start_time": "2022-06-17T16:21:09.393Z"
   },
   {
    "duration": 171,
    "start_time": "2022-06-17T16:21:16.581Z"
   },
   {
    "duration": 194,
    "start_time": "2022-06-17T16:21:44.331Z"
   },
   {
    "duration": 170,
    "start_time": "2022-06-17T16:22:16.452Z"
   },
   {
    "duration": 1190,
    "start_time": "2022-06-18T06:35:21.067Z"
   },
   {
    "duration": 839,
    "start_time": "2022-06-18T06:35:24.914Z"
   },
   {
    "duration": 12,
    "start_time": "2022-06-18T06:35:25.846Z"
   },
   {
    "duration": 8,
    "start_time": "2022-06-18T06:35:26.776Z"
   },
   {
    "duration": 4,
    "start_time": "2022-06-18T06:35:27.475Z"
   },
   {
    "duration": 4,
    "start_time": "2022-06-18T06:35:28.077Z"
   },
   {
    "duration": 10,
    "start_time": "2022-06-18T06:35:28.647Z"
   },
   {
    "duration": 16,
    "start_time": "2022-06-18T06:35:29.695Z"
   },
   {
    "duration": 20,
    "start_time": "2022-06-18T06:35:30.735Z"
   },
   {
    "duration": 6,
    "start_time": "2022-06-18T06:35:31.647Z"
   },
   {
    "duration": 21,
    "start_time": "2022-06-18T06:35:32.286Z"
   },
   {
    "duration": 22,
    "start_time": "2022-06-18T06:35:32.847Z"
   },
   {
    "duration": 6,
    "start_time": "2022-06-18T06:35:33.386Z"
   },
   {
    "duration": 14,
    "start_time": "2022-06-18T06:35:33.916Z"
   },
   {
    "duration": 15,
    "start_time": "2022-06-18T06:35:34.466Z"
   },
   {
    "duration": 9,
    "start_time": "2022-06-18T06:35:35.027Z"
   },
   {
    "duration": 27,
    "start_time": "2022-06-18T06:35:36.807Z"
   },
   {
    "duration": 13,
    "start_time": "2022-06-18T06:35:38.044Z"
   },
   {
    "duration": 7,
    "start_time": "2022-06-18T06:35:39.195Z"
   },
   {
    "duration": 32,
    "start_time": "2022-06-18T06:35:39.795Z"
   },
   {
    "duration": 16,
    "start_time": "2022-06-18T06:35:40.475Z"
   },
   {
    "duration": 5,
    "start_time": "2022-06-18T06:35:42.776Z"
   },
   {
    "duration": 5,
    "start_time": "2022-06-18T06:35:43.527Z"
   },
   {
    "duration": 730,
    "start_time": "2022-06-18T06:35:45.635Z"
   },
   {
    "duration": 257,
    "start_time": "2022-06-18T06:35:47.487Z"
   },
   {
    "duration": 13,
    "start_time": "2022-06-18T06:35:58.627Z"
   },
   {
    "duration": 9,
    "start_time": "2022-06-18T06:36:20.507Z"
   },
   {
    "duration": 98,
    "start_time": "2022-06-18T06:36:29.387Z"
   },
   {
    "duration": 15,
    "start_time": "2022-06-18T06:36:39.656Z"
   },
   {
    "duration": 14,
    "start_time": "2022-06-18T06:36:58.027Z"
   },
   {
    "duration": 8,
    "start_time": "2022-06-18T06:37:18.927Z"
   },
   {
    "duration": 20,
    "start_time": "2022-06-18T06:38:33.476Z"
   },
   {
    "duration": 5,
    "start_time": "2022-06-18T06:41:26.938Z"
   },
   {
    "duration": 11,
    "start_time": "2022-06-18T06:41:37.599Z"
   },
   {
    "duration": 22,
    "start_time": "2022-06-18T06:41:53.611Z"
   },
   {
    "duration": 8,
    "start_time": "2022-06-18T06:42:11.308Z"
   },
   {
    "duration": 9,
    "start_time": "2022-06-18T06:42:31.178Z"
   },
   {
    "duration": 8,
    "start_time": "2022-06-18T06:44:29.323Z"
   },
   {
    "duration": 9,
    "start_time": "2022-06-18T06:44:50.491Z"
   },
   {
    "duration": 8515,
    "start_time": "2022-06-18T06:44:57.919Z"
   },
   {
    "duration": 8,
    "start_time": "2022-06-18T06:45:21.691Z"
   },
   {
    "duration": 11,
    "start_time": "2022-06-18T06:45:53.359Z"
   },
   {
    "duration": 8057,
    "start_time": "2022-06-18T06:46:41.259Z"
   },
   {
    "duration": 9,
    "start_time": "2022-06-18T06:46:51.910Z"
   },
   {
    "duration": 3,
    "start_time": "2022-06-18T06:47:40.710Z"
   },
   {
    "duration": 8,
    "start_time": "2022-06-18T06:47:45.318Z"
   },
   {
    "duration": 4,
    "start_time": "2022-06-18T06:49:11.582Z"
   },
   {
    "duration": 35,
    "start_time": "2022-06-18T06:54:07.261Z"
   },
   {
    "duration": 9,
    "start_time": "2022-06-18T06:54:25.661Z"
   },
   {
    "duration": 26,
    "start_time": "2022-06-18T06:54:29.470Z"
   },
   {
    "duration": 25,
    "start_time": "2022-06-18T06:54:41.381Z"
   },
   {
    "duration": 29,
    "start_time": "2022-06-18T06:55:03.622Z"
   },
   {
    "duration": 27,
    "start_time": "2022-06-18T06:55:21.269Z"
   },
   {
    "duration": 26,
    "start_time": "2022-06-18T06:56:15.110Z"
   },
   {
    "duration": 42,
    "start_time": "2022-06-18T06:56:32.409Z"
   },
   {
    "duration": 12,
    "start_time": "2022-06-18T06:57:14.409Z"
   },
   {
    "duration": 3,
    "start_time": "2022-06-18T06:57:20.069Z"
   },
   {
    "duration": 24,
    "start_time": "2022-06-18T06:57:32.437Z"
   },
   {
    "duration": 12,
    "start_time": "2022-06-18T06:59:27.149Z"
   },
   {
    "duration": 9,
    "start_time": "2022-06-18T06:59:40.469Z"
   },
   {
    "duration": 10,
    "start_time": "2022-06-18T07:00:22.356Z"
   },
   {
    "duration": 8,
    "start_time": "2022-06-18T07:00:24.009Z"
   },
   {
    "duration": 16,
    "start_time": "2022-06-18T07:00:30.408Z"
   },
   {
    "duration": 13,
    "start_time": "2022-06-18T07:00:41.009Z"
   },
   {
    "duration": 15,
    "start_time": "2022-06-18T07:01:13.149Z"
   },
   {
    "duration": 9,
    "start_time": "2022-06-18T07:01:32.969Z"
   },
   {
    "duration": 15,
    "start_time": "2022-06-18T07:01:40.509Z"
   },
   {
    "duration": 16,
    "start_time": "2022-06-18T07:02:02.029Z"
   },
   {
    "duration": 11,
    "start_time": "2022-06-18T07:02:10.369Z"
   },
   {
    "duration": 5,
    "start_time": "2022-06-18T07:02:37.909Z"
   },
   {
    "duration": 4,
    "start_time": "2022-06-18T07:03:06.368Z"
   },
   {
    "duration": 4,
    "start_time": "2022-06-18T07:03:14.821Z"
   },
   {
    "duration": 8,
    "start_time": "2022-06-18T07:04:19.028Z"
   },
   {
    "duration": 20,
    "start_time": "2022-06-18T07:04:20.724Z"
   },
   {
    "duration": 10,
    "start_time": "2022-06-18T07:04:23.328Z"
   },
   {
    "duration": 9,
    "start_time": "2022-06-18T07:04:27.789Z"
   },
   {
    "duration": 16,
    "start_time": "2022-06-18T07:04:30.421Z"
   },
   {
    "duration": 4,
    "start_time": "2022-06-18T07:04:31.781Z"
   },
   {
    "duration": 4,
    "start_time": "2022-06-18T07:04:32.849Z"
   },
   {
    "duration": 8,
    "start_time": "2022-06-18T07:05:12.710Z"
   },
   {
    "duration": 17,
    "start_time": "2022-06-18T07:05:14.262Z"
   },
   {
    "duration": 3,
    "start_time": "2022-06-18T07:05:58.570Z"
   },
   {
    "duration": 8,
    "start_time": "2022-06-18T07:06:09.889Z"
   },
   {
    "duration": 16,
    "start_time": "2022-06-18T07:06:11.370Z"
   },
   {
    "duration": 5,
    "start_time": "2022-06-18T07:06:14.850Z"
   },
   {
    "duration": 4,
    "start_time": "2022-06-18T07:06:15.942Z"
   },
   {
    "duration": 8,
    "start_time": "2022-06-18T07:06:26.630Z"
   },
   {
    "duration": 9,
    "start_time": "2022-06-18T07:06:27.455Z"
   },
   {
    "duration": 10,
    "start_time": "2022-06-18T07:10:39.224Z"
   },
   {
    "duration": 12,
    "start_time": "2022-06-18T07:11:02.288Z"
   },
   {
    "duration": 15,
    "start_time": "2022-06-18T07:11:17.588Z"
   },
   {
    "duration": 11,
    "start_time": "2022-06-18T07:12:04.900Z"
   },
   {
    "duration": 5,
    "start_time": "2022-06-18T07:14:52.300Z"
   },
   {
    "duration": 32,
    "start_time": "2022-06-18T07:14:58.600Z"
   },
   {
    "duration": 14,
    "start_time": "2022-06-18T07:15:01.641Z"
   },
   {
    "duration": 28,
    "start_time": "2022-06-18T07:15:11.320Z"
   },
   {
    "duration": 14,
    "start_time": "2022-06-18T07:15:14.440Z"
   },
   {
    "duration": 328,
    "start_time": "2022-06-18T07:15:18.942Z"
   },
   {
    "duration": 9,
    "start_time": "2022-06-18T07:16:06.084Z"
   },
   {
    "duration": 8,
    "start_time": "2022-06-18T07:16:49.100Z"
   },
   {
    "duration": 12,
    "start_time": "2022-06-18T07:16:53.280Z"
   },
   {
    "duration": 14,
    "start_time": "2022-06-18T07:16:59.800Z"
   },
   {
    "duration": 34,
    "start_time": "2022-06-18T07:17:03.529Z"
   },
   {
    "duration": 11,
    "start_time": "2022-06-18T07:17:22.049Z"
   },
   {
    "duration": 14,
    "start_time": "2022-06-18T07:17:24.909Z"
   },
   {
    "duration": 354,
    "start_time": "2022-06-18T07:17:29.321Z"
   },
   {
    "duration": 359,
    "start_time": "2022-06-18T07:17:38.112Z"
   },
   {
    "duration": 12,
    "start_time": "2022-06-18T07:18:00.988Z"
   },
   {
    "duration": 14,
    "start_time": "2022-06-18T07:18:16.660Z"
   },
   {
    "duration": 16,
    "start_time": "2022-06-18T07:18:19.649Z"
   },
   {
    "duration": 8,
    "start_time": "2022-06-18T07:19:14.011Z"
   },
   {
    "duration": 8,
    "start_time": "2022-06-18T07:19:28.460Z"
   },
   {
    "duration": 29,
    "start_time": "2022-06-18T07:19:44.168Z"
   },
   {
    "duration": 13,
    "start_time": "2022-06-18T07:19:46.320Z"
   },
   {
    "duration": 13,
    "start_time": "2022-06-18T07:19:51.669Z"
   },
   {
    "duration": 95,
    "start_time": "2022-06-18T07:20:00.967Z"
   },
   {
    "duration": 13,
    "start_time": "2022-06-18T07:20:03.044Z"
   },
   {
    "duration": 14,
    "start_time": "2022-06-18T07:20:05.800Z"
   },
   {
    "duration": 4,
    "start_time": "2022-06-18T07:21:35.400Z"
   },
   {
    "duration": 4,
    "start_time": "2022-06-18T07:22:03.157Z"
   },
   {
    "duration": 12,
    "start_time": "2022-06-18T07:22:05.468Z"
   },
   {
    "duration": 44,
    "start_time": "2022-06-18T07:23:36.180Z"
   },
   {
    "duration": 31,
    "start_time": "2022-06-18T07:24:13.328Z"
   },
   {
    "duration": 41,
    "start_time": "2022-06-18T07:24:27.978Z"
   },
   {
    "duration": 1635,
    "start_time": "2022-06-19T06:45:50.861Z"
   },
   {
    "duration": 546,
    "start_time": "2022-06-19T06:45:52.499Z"
   },
   {
    "duration": 19,
    "start_time": "2022-06-19T06:45:54.155Z"
   },
   {
    "duration": 9,
    "start_time": "2022-06-19T06:45:54.990Z"
   },
   {
    "duration": 4,
    "start_time": "2022-06-19T06:45:56.311Z"
   },
   {
    "duration": 3,
    "start_time": "2022-06-19T06:45:57.392Z"
   },
   {
    "duration": 16,
    "start_time": "2022-06-19T06:45:59.166Z"
   },
   {
    "duration": 29,
    "start_time": "2022-06-19T06:46:07.146Z"
   },
   {
    "duration": 17,
    "start_time": "2022-06-19T06:46:08.903Z"
   },
   {
    "duration": 13,
    "start_time": "2022-06-19T06:46:12.555Z"
   },
   {
    "duration": 33,
    "start_time": "2022-06-19T06:46:13.454Z"
   },
   {
    "duration": 40,
    "start_time": "2022-06-19T06:46:14.403Z"
   },
   {
    "duration": 9,
    "start_time": "2022-06-19T06:46:16.847Z"
   },
   {
    "duration": 15,
    "start_time": "2022-06-19T06:46:18.071Z"
   },
   {
    "duration": 17,
    "start_time": "2022-06-19T06:46:19.091Z"
   },
   {
    "duration": 9,
    "start_time": "2022-06-19T06:46:20.203Z"
   },
   {
    "duration": 24,
    "start_time": "2022-06-19T06:46:28.791Z"
   },
   {
    "duration": 24,
    "start_time": "2022-06-19T06:46:35.528Z"
   },
   {
    "duration": 8,
    "start_time": "2022-06-19T06:46:52.003Z"
   },
   {
    "duration": 56,
    "start_time": "2022-06-19T06:46:53.937Z"
   },
   {
    "duration": 22,
    "start_time": "2022-06-19T06:46:55.772Z"
   },
   {
    "duration": 8,
    "start_time": "2022-06-19T06:47:07.642Z"
   },
   {
    "duration": 4,
    "start_time": "2022-06-19T06:47:08.612Z"
   },
   {
    "duration": 924,
    "start_time": "2022-06-19T06:47:10.790Z"
   },
   {
    "duration": 1180,
    "start_time": "2022-06-19T06:54:10.674Z"
   },
   {
    "duration": 378,
    "start_time": "2022-06-19T06:54:11.860Z"
   },
   {
    "duration": 18,
    "start_time": "2022-06-19T06:54:12.244Z"
   },
   {
    "duration": 39,
    "start_time": "2022-06-19T06:54:12.270Z"
   },
   {
    "duration": 54,
    "start_time": "2022-06-19T06:54:12.313Z"
   },
   {
    "duration": 37,
    "start_time": "2022-06-19T06:54:12.369Z"
   },
   {
    "duration": 16,
    "start_time": "2022-06-19T06:54:12.407Z"
   },
   {
    "duration": 72,
    "start_time": "2022-06-19T06:54:12.424Z"
   },
   {
    "duration": 16,
    "start_time": "2022-06-19T06:54:12.498Z"
   },
   {
    "duration": 14,
    "start_time": "2022-06-19T06:54:12.516Z"
   },
   {
    "duration": 59,
    "start_time": "2022-06-19T06:54:12.536Z"
   },
   {
    "duration": 41,
    "start_time": "2022-06-19T06:54:12.596Z"
   },
   {
    "duration": 13,
    "start_time": "2022-06-19T06:54:12.639Z"
   },
   {
    "duration": 52,
    "start_time": "2022-06-19T06:54:12.655Z"
   },
   {
    "duration": 15,
    "start_time": "2022-06-19T06:54:12.709Z"
   },
   {
    "duration": 23,
    "start_time": "2022-06-19T06:54:12.725Z"
   },
   {
    "duration": 32,
    "start_time": "2022-06-19T06:54:12.750Z"
   },
   {
    "duration": 15,
    "start_time": "2022-06-19T06:54:12.784Z"
   },
   {
    "duration": 36,
    "start_time": "2022-06-19T06:54:12.801Z"
   },
   {
    "duration": 32,
    "start_time": "2022-06-19T06:54:12.840Z"
   },
   {
    "duration": 31,
    "start_time": "2022-06-19T06:54:12.879Z"
   },
   {
    "duration": 71,
    "start_time": "2022-06-19T06:54:12.912Z"
   },
   {
    "duration": 25,
    "start_time": "2022-06-19T06:54:12.985Z"
   },
   {
    "duration": 337,
    "start_time": "2022-06-19T06:54:13.011Z"
   },
   {
    "duration": 900,
    "start_time": "2022-06-19T06:54:13.351Z"
   },
   {
    "duration": 30,
    "start_time": "2022-06-19T06:54:14.256Z"
   },
   {
    "duration": 17,
    "start_time": "2022-06-19T06:54:14.288Z"
   },
   {
    "duration": 8,
    "start_time": "2022-06-19T06:54:14.307Z"
   },
   {
    "duration": 16,
    "start_time": "2022-06-19T06:54:14.332Z"
   },
   {
    "duration": 39,
    "start_time": "2022-06-19T06:54:14.349Z"
   },
   {
    "duration": 80,
    "start_time": "2022-06-19T06:54:14.390Z"
   },
   {
    "duration": 82,
    "start_time": "2022-06-19T06:54:14.472Z"
   },
   {
    "duration": 36,
    "start_time": "2022-06-19T06:58:55.088Z"
   },
   {
    "duration": 46,
    "start_time": "2022-06-19T06:59:15.998Z"
   },
   {
    "duration": 1175,
    "start_time": "2022-06-19T06:59:27.094Z"
   },
   {
    "duration": 311,
    "start_time": "2022-06-19T06:59:28.272Z"
   },
   {
    "duration": 11,
    "start_time": "2022-06-19T06:59:28.585Z"
   },
   {
    "duration": 10,
    "start_time": "2022-06-19T06:59:28.597Z"
   },
   {
    "duration": 7,
    "start_time": "2022-06-19T06:59:28.609Z"
   },
   {
    "duration": 28,
    "start_time": "2022-06-19T06:59:28.618Z"
   },
   {
    "duration": 36,
    "start_time": "2022-06-19T06:59:28.650Z"
   },
   {
    "duration": 30,
    "start_time": "2022-06-19T06:59:28.688Z"
   },
   {
    "duration": 25,
    "start_time": "2022-06-19T06:59:28.720Z"
   },
   {
    "duration": 27,
    "start_time": "2022-06-19T06:59:28.749Z"
   },
   {
    "duration": 21,
    "start_time": "2022-06-19T06:59:28.778Z"
   },
   {
    "duration": 21,
    "start_time": "2022-06-19T06:59:28.801Z"
   },
   {
    "duration": 11,
    "start_time": "2022-06-19T06:59:28.824Z"
   },
   {
    "duration": 44,
    "start_time": "2022-06-19T06:59:28.841Z"
   },
   {
    "duration": 15,
    "start_time": "2022-06-19T06:59:28.887Z"
   },
   {
    "duration": 8,
    "start_time": "2022-06-19T06:59:28.904Z"
   },
   {
    "duration": 44,
    "start_time": "2022-06-19T06:59:28.914Z"
   },
   {
    "duration": 13,
    "start_time": "2022-06-19T06:59:28.961Z"
   },
   {
    "duration": 34,
    "start_time": "2022-06-19T06:59:28.976Z"
   },
   {
    "duration": 27,
    "start_time": "2022-06-19T06:59:29.011Z"
   },
   {
    "duration": 24,
    "start_time": "2022-06-19T06:59:29.039Z"
   },
   {
    "duration": 13,
    "start_time": "2022-06-19T06:59:29.067Z"
   },
   {
    "duration": 36,
    "start_time": "2022-06-19T06:59:29.081Z"
   },
   {
    "duration": 22,
    "start_time": "2022-06-19T06:59:29.118Z"
   },
   {
    "duration": 352,
    "start_time": "2022-06-19T06:59:29.142Z"
   },
   {
    "duration": 880,
    "start_time": "2022-06-19T06:59:29.495Z"
   },
   {
    "duration": 16,
    "start_time": "2022-06-19T06:59:30.377Z"
   },
   {
    "duration": 20,
    "start_time": "2022-06-19T06:59:30.395Z"
   },
   {
    "duration": 19,
    "start_time": "2022-06-19T06:59:30.431Z"
   },
   {
    "duration": 34,
    "start_time": "2022-06-19T06:59:30.452Z"
   },
   {
    "duration": 9,
    "start_time": "2022-06-19T06:59:30.488Z"
   },
   {
    "duration": 109,
    "start_time": "2022-06-19T06:59:30.499Z"
   },
   {
    "duration": 67,
    "start_time": "2022-06-19T06:59:30.609Z"
   },
   {
    "duration": 1226,
    "start_time": "2022-06-19T07:00:04.690Z"
   },
   {
    "duration": 407,
    "start_time": "2022-06-19T07:00:05.920Z"
   },
   {
    "duration": 16,
    "start_time": "2022-06-19T07:00:06.329Z"
   },
   {
    "duration": 36,
    "start_time": "2022-06-19T07:00:06.347Z"
   },
   {
    "duration": 25,
    "start_time": "2022-06-19T07:00:06.392Z"
   },
   {
    "duration": 34,
    "start_time": "2022-06-19T07:00:06.419Z"
   },
   {
    "duration": 39,
    "start_time": "2022-06-19T07:00:06.460Z"
   },
   {
    "duration": 32,
    "start_time": "2022-06-19T07:00:06.501Z"
   },
   {
    "duration": 61,
    "start_time": "2022-06-19T07:00:06.535Z"
   },
   {
    "duration": 29,
    "start_time": "2022-06-19T07:00:06.598Z"
   },
   {
    "duration": 73,
    "start_time": "2022-06-19T07:00:06.633Z"
   },
   {
    "duration": 24,
    "start_time": "2022-06-19T07:00:06.707Z"
   },
   {
    "duration": 11,
    "start_time": "2022-06-19T07:00:06.733Z"
   },
   {
    "duration": 43,
    "start_time": "2022-06-19T07:00:06.747Z"
   },
   {
    "duration": 17,
    "start_time": "2022-06-19T07:00:06.792Z"
   },
   {
    "duration": 43,
    "start_time": "2022-06-19T07:00:06.810Z"
   },
   {
    "duration": 46,
    "start_time": "2022-06-19T07:00:06.855Z"
   },
   {
    "duration": 12,
    "start_time": "2022-06-19T07:00:06.903Z"
   },
   {
    "duration": 13,
    "start_time": "2022-06-19T07:00:06.917Z"
   },
   {
    "duration": 68,
    "start_time": "2022-06-19T07:00:06.934Z"
   },
   {
    "duration": 13,
    "start_time": "2022-06-19T07:00:07.003Z"
   },
   {
    "duration": 39,
    "start_time": "2022-06-19T07:00:07.017Z"
   },
   {
    "duration": 52,
    "start_time": "2022-06-19T07:00:07.058Z"
   },
   {
    "duration": 20,
    "start_time": "2022-06-19T07:00:07.111Z"
   },
   {
    "duration": 352,
    "start_time": "2022-06-19T07:00:07.144Z"
   },
   {
    "duration": 910,
    "start_time": "2022-06-19T07:00:07.498Z"
   },
   {
    "duration": 21,
    "start_time": "2022-06-19T07:00:08.410Z"
   },
   {
    "duration": 28,
    "start_time": "2022-06-19T07:00:08.433Z"
   },
   {
    "duration": 9,
    "start_time": "2022-06-19T07:00:08.469Z"
   },
   {
    "duration": 9,
    "start_time": "2022-06-19T07:00:08.480Z"
   },
   {
    "duration": 12,
    "start_time": "2022-06-19T07:00:08.490Z"
   },
   {
    "duration": 75,
    "start_time": "2022-06-19T07:00:08.503Z"
   },
   {
    "duration": 59,
    "start_time": "2022-06-19T07:00:08.579Z"
   },
   {
    "duration": 13,
    "start_time": "2022-06-19T07:03:32.912Z"
   },
   {
    "duration": 12,
    "start_time": "2022-06-19T07:03:36.992Z"
   },
   {
    "duration": 5,
    "start_time": "2022-06-19T07:04:38.119Z"
   },
   {
    "duration": 5,
    "start_time": "2022-06-19T07:04:38.512Z"
   },
   {
    "duration": 21,
    "start_time": "2022-06-19T07:04:39.680Z"
   },
   {
    "duration": 16,
    "start_time": "2022-06-19T07:04:48.388Z"
   },
   {
    "duration": 293,
    "start_time": "2022-06-19T07:04:54.080Z"
   },
   {
    "duration": 20,
    "start_time": "2022-06-19T07:06:52.201Z"
   },
   {
    "duration": 3,
    "start_time": "2022-06-19T07:07:06.813Z"
   },
   {
    "duration": 5,
    "start_time": "2022-06-19T07:07:30.261Z"
   },
   {
    "duration": 14,
    "start_time": "2022-06-19T07:08:05.780Z"
   },
   {
    "duration": 24,
    "start_time": "2022-06-19T07:09:00.821Z"
   },
   {
    "duration": 4,
    "start_time": "2022-06-19T07:10:53.401Z"
   },
   {
    "duration": 62,
    "start_time": "2022-06-19T07:11:49.702Z"
   },
   {
    "duration": 37,
    "start_time": "2022-06-19T07:12:05.282Z"
   },
   {
    "duration": 81,
    "start_time": "2022-06-19T07:12:14.803Z"
   },
   {
    "duration": 36,
    "start_time": "2022-06-19T07:12:45.370Z"
   },
   {
    "duration": 55,
    "start_time": "2022-06-19T07:13:29.569Z"
   },
   {
    "duration": 38,
    "start_time": "2022-06-19T07:13:37.786Z"
   },
   {
    "duration": 45,
    "start_time": "2022-06-19T07:14:23.054Z"
   },
   {
    "duration": 795,
    "start_time": "2022-06-19T07:29:13.956Z"
   },
   {
    "duration": 204,
    "start_time": "2022-06-19T07:29:43.013Z"
   },
   {
    "duration": 262,
    "start_time": "2022-06-19T07:30:14.524Z"
   },
   {
    "duration": 672,
    "start_time": "2022-06-19T07:30:35.276Z"
   },
   {
    "duration": 340,
    "start_time": "2022-06-19T07:30:49.072Z"
   },
   {
    "duration": 769,
    "start_time": "2022-06-19T07:30:58.652Z"
   },
   {
    "duration": 479,
    "start_time": "2022-06-19T07:31:06.965Z"
   },
   {
    "duration": 475,
    "start_time": "2022-06-19T07:31:23.266Z"
   },
   {
    "duration": 511,
    "start_time": "2022-06-19T07:32:30.865Z"
   },
   {
    "duration": 42,
    "start_time": "2022-06-19T07:32:51.712Z"
   },
   {
    "duration": 345,
    "start_time": "2022-06-19T07:33:23.552Z"
   },
   {
    "duration": 505,
    "start_time": "2022-06-19T07:33:32.803Z"
   },
   {
    "duration": 520,
    "start_time": "2022-06-19T07:34:21.065Z"
   },
   {
    "duration": 37,
    "start_time": "2022-06-19T07:34:48.345Z"
   },
   {
    "duration": 34,
    "start_time": "2022-06-19T07:34:52.843Z"
   },
   {
    "duration": 5,
    "start_time": "2022-06-19T07:35:02.611Z"
   },
   {
    "duration": 513,
    "start_time": "2022-06-19T07:36:53.272Z"
   },
   {
    "duration": 2,
    "start_time": "2022-06-19T07:39:53.505Z"
   },
   {
    "duration": 4,
    "start_time": "2022-06-19T07:46:16.651Z"
   },
   {
    "duration": 1225,
    "start_time": "2022-06-19T07:46:26.656Z"
   },
   {
    "duration": 420,
    "start_time": "2022-06-19T07:46:27.883Z"
   },
   {
    "duration": 12,
    "start_time": "2022-06-19T07:46:28.305Z"
   },
   {
    "duration": 61,
    "start_time": "2022-06-19T07:46:28.319Z"
   },
   {
    "duration": 11,
    "start_time": "2022-06-19T07:46:28.382Z"
   },
   {
    "duration": 14,
    "start_time": "2022-06-19T07:46:28.395Z"
   },
   {
    "duration": 32,
    "start_time": "2022-06-19T07:46:28.410Z"
   },
   {
    "duration": 61,
    "start_time": "2022-06-19T07:46:28.443Z"
   },
   {
    "duration": 41,
    "start_time": "2022-06-19T07:46:28.506Z"
   },
   {
    "duration": 34,
    "start_time": "2022-06-19T07:46:28.549Z"
   },
   {
    "duration": 58,
    "start_time": "2022-06-19T07:46:28.585Z"
   },
   {
    "duration": 36,
    "start_time": "2022-06-19T07:46:28.645Z"
   },
   {
    "duration": 6,
    "start_time": "2022-06-19T07:46:28.683Z"
   },
   {
    "duration": 38,
    "start_time": "2022-06-19T07:46:28.691Z"
   },
   {
    "duration": 51,
    "start_time": "2022-06-19T07:46:28.731Z"
   },
   {
    "duration": 37,
    "start_time": "2022-06-19T07:46:28.784Z"
   },
   {
    "duration": 57,
    "start_time": "2022-06-19T07:46:28.823Z"
   },
   {
    "duration": 18,
    "start_time": "2022-06-19T07:46:28.882Z"
   },
   {
    "duration": 63,
    "start_time": "2022-06-19T07:46:28.902Z"
   },
   {
    "duration": 79,
    "start_time": "2022-06-19T07:46:28.967Z"
   },
   {
    "duration": 6,
    "start_time": "2022-06-19T07:46:29.048Z"
   },
   {
    "duration": 40,
    "start_time": "2022-06-19T07:46:29.056Z"
   },
   {
    "duration": 26,
    "start_time": "2022-06-19T07:46:29.099Z"
   },
   {
    "duration": 33,
    "start_time": "2022-06-19T07:46:29.127Z"
   },
   {
    "duration": 349,
    "start_time": "2022-06-19T07:46:29.162Z"
   },
   {
    "duration": 4,
    "start_time": "2022-06-19T07:46:29.513Z"
   },
   {
    "duration": 72,
    "start_time": "2022-06-19T07:46:29.519Z"
   },
   {
    "duration": 14,
    "start_time": "2022-06-19T07:46:29.593Z"
   },
   {
    "duration": 90,
    "start_time": "2022-06-19T07:46:29.609Z"
   },
   {
    "duration": 489,
    "start_time": "2022-06-19T07:46:29.701Z"
   },
   {
    "duration": 943,
    "start_time": "2022-06-19T07:46:30.193Z"
   },
   {
    "duration": 40,
    "start_time": "2022-06-19T07:46:31.138Z"
   },
   {
    "duration": 32,
    "start_time": "2022-06-19T07:46:31.180Z"
   },
   {
    "duration": 59,
    "start_time": "2022-06-19T07:46:31.215Z"
   },
   {
    "duration": 47,
    "start_time": "2022-06-19T07:46:31.276Z"
   },
   {
    "duration": 82,
    "start_time": "2022-06-19T07:46:31.325Z"
   },
   {
    "duration": 154,
    "start_time": "2022-06-19T07:46:31.409Z"
   },
   {
    "duration": 74,
    "start_time": "2022-06-19T07:46:31.567Z"
   },
   {
    "duration": 9,
    "start_time": "2022-06-19T07:46:38.586Z"
   },
   {
    "duration": 13,
    "start_time": "2022-06-19T07:48:34.050Z"
   },
   {
    "duration": 8,
    "start_time": "2022-06-19T07:48:45.978Z"
   },
   {
    "duration": 12,
    "start_time": "2022-06-19T08:10:35.708Z"
   },
   {
    "duration": 56,
    "start_time": "2022-06-19T08:11:33.753Z"
   },
   {
    "duration": 16,
    "start_time": "2022-06-19T08:11:40.497Z"
   },
   {
    "duration": 37,
    "start_time": "2022-06-19T08:18:10.579Z"
   },
   {
    "duration": 567,
    "start_time": "2022-06-19T08:19:39.570Z"
   },
   {
    "duration": 38,
    "start_time": "2022-06-19T08:20:02.571Z"
   },
   {
    "duration": 19,
    "start_time": "2022-06-19T08:20:03.842Z"
   },
   {
    "duration": 974,
    "start_time": "2022-06-19T08:20:06.026Z"
   },
   {
    "duration": 26,
    "start_time": "2022-06-19T08:20:07.189Z"
   },
   {
    "duration": 25,
    "start_time": "2022-06-19T08:20:08.349Z"
   },
   {
    "duration": 14,
    "start_time": "2022-06-19T08:20:09.977Z"
   },
   {
    "duration": 16,
    "start_time": "2022-06-19T08:20:10.717Z"
   },
   {
    "duration": 7,
    "start_time": "2022-06-19T08:20:11.477Z"
   },
   {
    "duration": 62,
    "start_time": "2022-06-19T08:20:12.560Z"
   },
   {
    "duration": 142,
    "start_time": "2022-06-19T08:20:13.647Z"
   },
   {
    "duration": 6,
    "start_time": "2022-06-19T08:20:16.998Z"
   },
   {
    "duration": 48,
    "start_time": "2022-06-19T08:20:17.976Z"
   },
   {
    "duration": 68,
    "start_time": "2022-06-19T08:20:43.857Z"
   },
   {
    "duration": 9,
    "start_time": "2022-06-19T08:24:43.503Z"
   },
   {
    "duration": 3,
    "start_time": "2022-06-19T08:24:47.263Z"
   },
   {
    "duration": 95,
    "start_time": "2022-06-19T08:24:48.374Z"
   },
   {
    "duration": 76,
    "start_time": "2022-06-19T08:25:38.068Z"
   },
   {
    "duration": 15,
    "start_time": "2022-06-19T08:34:39.391Z"
   },
   {
    "duration": 78,
    "start_time": "2022-06-19T08:35:24.751Z"
   },
   {
    "duration": 91,
    "start_time": "2022-06-19T08:35:35.350Z"
   },
   {
    "duration": 44,
    "start_time": "2022-06-19T08:35:40.454Z"
   },
   {
    "duration": 9,
    "start_time": "2022-06-19T08:42:12.216Z"
   },
   {
    "duration": 5,
    "start_time": "2022-06-19T08:42:13.551Z"
   },
   {
    "duration": 98,
    "start_time": "2022-06-19T08:42:15.116Z"
   },
   {
    "duration": 1495,
    "start_time": "2022-06-19T08:42:21.254Z"
   },
   {
    "duration": 1263,
    "start_time": "2022-06-19T08:43:47.904Z"
   },
   {
    "duration": 97,
    "start_time": "2022-06-19T08:43:57.375Z"
   },
   {
    "duration": 84,
    "start_time": "2022-06-19T08:44:35.156Z"
   },
   {
    "duration": 19,
    "start_time": "2022-06-19T08:44:57.321Z"
   },
   {
    "duration": 65,
    "start_time": "2022-06-19T08:45:20.956Z"
   },
   {
    "duration": 1364,
    "start_time": "2022-06-19T08:45:23.496Z"
   },
   {
    "duration": 18,
    "start_time": "2022-06-19T08:51:45.551Z"
   },
   {
    "duration": 27,
    "start_time": "2022-06-19T08:51:51.344Z"
   },
   {
    "duration": 24,
    "start_time": "2022-06-19T08:51:57.346Z"
   },
   {
    "duration": 21,
    "start_time": "2022-06-19T08:52:04.954Z"
   },
   {
    "duration": 26,
    "start_time": "2022-06-19T08:52:21.973Z"
   },
   {
    "duration": 42,
    "start_time": "2022-06-19T08:52:29.694Z"
   },
   {
    "duration": 24,
    "start_time": "2022-06-19T08:52:38.558Z"
   },
   {
    "duration": 23,
    "start_time": "2022-06-19T08:52:50.793Z"
   },
   {
    "duration": 40,
    "start_time": "2022-06-19T08:52:57.857Z"
   },
   {
    "duration": 10,
    "start_time": "2022-06-19T08:54:24.829Z"
   },
   {
    "duration": 33,
    "start_time": "2022-06-19T08:55:21.914Z"
   },
   {
    "duration": 51,
    "start_time": "2022-06-19T08:55:27.005Z"
   },
   {
    "duration": 120,
    "start_time": "2022-06-19T08:57:31.374Z"
   },
   {
    "duration": 7,
    "start_time": "2022-06-19T08:57:33.726Z"
   },
   {
    "duration": 59,
    "start_time": "2022-06-19T08:57:35.853Z"
   },
   {
    "duration": 1228,
    "start_time": "2022-06-19T08:57:38.294Z"
   },
   {
    "duration": 65,
    "start_time": "2022-06-19T08:57:44.049Z"
   },
   {
    "duration": 1256,
    "start_time": "2022-06-19T08:57:46.294Z"
   },
   {
    "duration": 1305,
    "start_time": "2022-06-19T14:56:14.574Z"
   },
   {
    "duration": 490,
    "start_time": "2022-06-19T14:56:16.410Z"
   },
   {
    "duration": 12,
    "start_time": "2022-06-19T14:56:17.169Z"
   },
   {
    "duration": 8,
    "start_time": "2022-06-19T14:56:17.768Z"
   },
   {
    "duration": 3,
    "start_time": "2022-06-19T14:56:18.218Z"
   },
   {
    "duration": 4,
    "start_time": "2022-06-19T14:56:18.610Z"
   },
   {
    "duration": 13,
    "start_time": "2022-06-19T14:56:19.006Z"
   },
   {
    "duration": 23,
    "start_time": "2022-06-19T14:56:19.769Z"
   },
   {
    "duration": 18,
    "start_time": "2022-06-19T14:56:20.568Z"
   },
   {
    "duration": 23,
    "start_time": "2022-06-19T14:56:20.946Z"
   },
   {
    "duration": 22,
    "start_time": "2022-06-19T14:56:21.299Z"
   },
   {
    "duration": 30,
    "start_time": "2022-06-19T14:56:21.710Z"
   },
   {
    "duration": 9,
    "start_time": "2022-06-19T14:56:22.022Z"
   },
   {
    "duration": 15,
    "start_time": "2022-06-19T14:56:22.374Z"
   },
   {
    "duration": 53,
    "start_time": "2022-06-19T14:56:22.724Z"
   },
   {
    "duration": 36,
    "start_time": "2022-06-19T14:56:23.070Z"
   },
   {
    "duration": 12,
    "start_time": "2022-06-19T14:56:23.414Z"
   },
   {
    "duration": 12,
    "start_time": "2022-06-19T14:56:23.818Z"
   },
   {
    "duration": 14,
    "start_time": "2022-06-19T14:56:24.717Z"
   },
   {
    "duration": 56,
    "start_time": "2022-06-19T14:56:25.122Z"
   },
   {
    "duration": 9,
    "start_time": "2022-06-19T14:56:26.453Z"
   },
   {
    "duration": 5,
    "start_time": "2022-06-19T14:56:26.878Z"
   },
   {
    "duration": 29,
    "start_time": "2022-06-19T14:56:27.740Z"
   },
   {
    "duration": 16,
    "start_time": "2022-06-19T14:56:28.572Z"
   },
   {
    "duration": 334,
    "start_time": "2022-06-19T14:56:29.466Z"
   },
   {
    "duration": 4,
    "start_time": "2022-06-19T14:56:30.618Z"
   },
   {
    "duration": 19,
    "start_time": "2022-06-19T14:56:31.211Z"
   },
   {
    "duration": 23,
    "start_time": "2022-06-19T14:56:31.748Z"
   },
   {
    "duration": 51,
    "start_time": "2022-06-19T14:56:32.819Z"
   },
   {
    "duration": 25,
    "start_time": "2022-06-19T14:56:33.269Z"
   },
   {
    "duration": 437,
    "start_time": "2022-06-19T14:56:34.666Z"
   },
   {
    "duration": 130,
    "start_time": "2022-06-19T14:56:38.044Z"
   },
   {
    "duration": 36,
    "start_time": "2022-06-19T14:56:38.724Z"
   },
   {
    "duration": 67,
    "start_time": "2022-06-19T14:57:25.514Z"
   },
   {
    "duration": 863,
    "start_time": "2022-06-19T14:57:31.914Z"
   },
   {
    "duration": 15,
    "start_time": "2022-06-19T14:57:34.867Z"
   },
   {
    "duration": 25,
    "start_time": "2022-06-19T14:57:36.047Z"
   },
   {
    "duration": 10,
    "start_time": "2022-06-19T14:57:37.779Z"
   },
   {
    "duration": 9,
    "start_time": "2022-06-19T14:57:38.702Z"
   },
   {
    "duration": 8,
    "start_time": "2022-06-19T14:57:39.454Z"
   },
   {
    "duration": 58,
    "start_time": "2022-06-19T14:57:40.334Z"
   },
   {
    "duration": 51,
    "start_time": "2022-06-19T14:57:41.284Z"
   },
   {
    "duration": 47,
    "start_time": "2022-06-19T14:57:43.223Z"
   },
   {
    "duration": 5,
    "start_time": "2022-06-19T14:57:44.513Z"
   },
   {
    "duration": 3,
    "start_time": "2022-06-19T14:57:46.118Z"
   },
   {
    "duration": 5,
    "start_time": "2022-06-19T14:58:06.732Z"
   },
   {
    "duration": 49,
    "start_time": "2022-06-19T14:58:07.585Z"
   },
   {
    "duration": 15,
    "start_time": "2022-06-19T14:58:11.230Z"
   },
   {
    "duration": 8,
    "start_time": "2022-06-19T14:58:12.082Z"
   },
   {
    "duration": 82,
    "start_time": "2022-06-19T14:58:12.743Z"
   },
   {
    "duration": 121,
    "start_time": "2022-06-19T14:58:14.577Z"
   },
   {
    "duration": 34,
    "start_time": "2022-06-19T14:58:17.884Z"
   },
   {
    "duration": 6,
    "start_time": "2022-06-19T14:58:19.371Z"
   },
   {
    "duration": 3,
    "start_time": "2022-06-19T14:58:20.485Z"
   },
   {
    "duration": 54,
    "start_time": "2022-06-19T14:58:21.872Z"
   },
   {
    "duration": 1261,
    "start_time": "2022-06-19T14:58:23.130Z"
   },
   {
    "duration": 82,
    "start_time": "2022-06-19T14:58:26.013Z"
   },
   {
    "duration": 1218,
    "start_time": "2022-06-19T14:58:27.181Z"
   },
   {
    "duration": 10,
    "start_time": "2022-06-19T15:00:25.506Z"
   },
   {
    "duration": 5,
    "start_time": "2022-06-19T15:00:30.718Z"
   },
   {
    "duration": 5,
    "start_time": "2022-06-19T15:00:40.984Z"
   },
   {
    "duration": 14,
    "start_time": "2022-06-19T15:00:46.084Z"
   },
   {
    "duration": 30,
    "start_time": "2022-06-19T15:01:07.747Z"
   },
   {
    "duration": 13,
    "start_time": "2022-06-19T15:01:39.372Z"
   },
   {
    "duration": 17,
    "start_time": "2022-06-19T15:01:46.204Z"
   },
   {
    "duration": 21,
    "start_time": "2022-06-19T15:02:34.388Z"
   },
   {
    "duration": 45,
    "start_time": "2022-06-19T15:02:45.027Z"
   },
   {
    "duration": 8,
    "start_time": "2022-06-19T15:03:33.450Z"
   },
   {
    "duration": 14,
    "start_time": "2022-06-19T15:03:47.780Z"
   },
   {
    "duration": 27,
    "start_time": "2022-06-19T15:05:29.077Z"
   },
   {
    "duration": 5,
    "start_time": "2022-06-19T15:05:46.369Z"
   },
   {
    "duration": 5,
    "start_time": "2022-06-19T15:06:45.680Z"
   },
   {
    "duration": 20,
    "start_time": "2022-06-19T15:06:49.491Z"
   },
   {
    "duration": 25,
    "start_time": "2022-06-19T15:06:57.266Z"
   },
   {
    "duration": 23,
    "start_time": "2022-06-19T15:07:07.612Z"
   },
   {
    "duration": 41,
    "start_time": "2022-06-19T15:07:55.634Z"
   },
   {
    "duration": 43,
    "start_time": "2022-06-19T15:08:26.846Z"
   },
   {
    "duration": 44,
    "start_time": "2022-06-19T15:08:31.047Z"
   },
   {
    "duration": 704,
    "start_time": "2022-06-19T15:09:32.781Z"
   },
   {
    "duration": 52,
    "start_time": "2022-06-19T15:09:52.980Z"
   },
   {
    "duration": 26,
    "start_time": "2022-06-19T15:09:56.887Z"
   },
   {
    "duration": 12,
    "start_time": "2022-06-19T15:10:02.141Z"
   },
   {
    "duration": 28,
    "start_time": "2022-06-19T15:10:23.623Z"
   },
   {
    "duration": 167,
    "start_time": "2022-06-19T15:10:49.710Z"
   },
   {
    "duration": 334,
    "start_time": "2022-06-19T15:10:56.979Z"
   },
   {
    "duration": 245,
    "start_time": "2022-06-19T15:11:10.710Z"
   },
   {
    "duration": 23,
    "start_time": "2022-06-19T15:11:26.050Z"
   },
   {
    "duration": 327,
    "start_time": "2022-06-19T15:11:43.713Z"
   },
   {
    "duration": 64,
    "start_time": "2022-06-19T15:13:26.124Z"
   },
   {
    "duration": 41,
    "start_time": "2022-06-19T15:14:35.677Z"
   },
   {
    "duration": 444,
    "start_time": "2022-06-19T15:15:19.805Z"
   },
   {
    "duration": 20,
    "start_time": "2022-06-19T15:29:39.513Z"
   },
   {
    "duration": 46,
    "start_time": "2022-06-19T15:29:43.275Z"
   },
   {
    "duration": 1271,
    "start_time": "2022-06-19T15:29:51.413Z"
   },
   {
    "duration": 499,
    "start_time": "2022-06-19T15:29:52.686Z"
   },
   {
    "duration": 12,
    "start_time": "2022-06-19T15:29:53.187Z"
   },
   {
    "duration": 34,
    "start_time": "2022-06-19T15:29:53.201Z"
   },
   {
    "duration": 35,
    "start_time": "2022-06-19T15:29:53.237Z"
   },
   {
    "duration": 41,
    "start_time": "2022-06-19T15:29:53.274Z"
   },
   {
    "duration": 33,
    "start_time": "2022-06-19T15:29:53.316Z"
   },
   {
    "duration": 57,
    "start_time": "2022-06-19T15:29:53.358Z"
   },
   {
    "duration": 23,
    "start_time": "2022-06-19T15:29:53.417Z"
   },
   {
    "duration": 56,
    "start_time": "2022-06-19T15:29:53.442Z"
   },
   {
    "duration": 41,
    "start_time": "2022-06-19T15:29:53.500Z"
   },
   {
    "duration": 46,
    "start_time": "2022-06-19T15:29:53.543Z"
   },
   {
    "duration": 22,
    "start_time": "2022-06-19T15:29:53.591Z"
   },
   {
    "duration": 27,
    "start_time": "2022-06-19T15:29:53.616Z"
   },
   {
    "duration": 56,
    "start_time": "2022-06-19T15:29:53.645Z"
   },
   {
    "duration": 39,
    "start_time": "2022-06-19T15:29:53.703Z"
   },
   {
    "duration": 36,
    "start_time": "2022-06-19T15:29:53.747Z"
   },
   {
    "duration": 30,
    "start_time": "2022-06-19T15:29:53.789Z"
   },
   {
    "duration": 89,
    "start_time": "2022-06-19T15:29:53.821Z"
   },
   {
    "duration": 160,
    "start_time": "2022-06-19T15:29:53.913Z"
   },
   {
    "duration": 9,
    "start_time": "2022-06-19T15:29:54.080Z"
   },
   {
    "duration": 25,
    "start_time": "2022-06-19T15:29:54.092Z"
   },
   {
    "duration": 55,
    "start_time": "2022-06-19T15:29:54.119Z"
   },
   {
    "duration": 42,
    "start_time": "2022-06-19T15:29:54.175Z"
   },
   {
    "duration": 364,
    "start_time": "2022-06-19T15:29:54.218Z"
   },
   {
    "duration": 9,
    "start_time": "2022-06-19T15:29:54.584Z"
   },
   {
    "duration": 26,
    "start_time": "2022-06-19T15:29:54.594Z"
   },
   {
    "duration": 24,
    "start_time": "2022-06-19T15:29:54.621Z"
   },
   {
    "duration": 74,
    "start_time": "2022-06-19T15:29:54.647Z"
   },
   {
    "duration": 61,
    "start_time": "2022-06-19T15:29:54.723Z"
   },
   {
    "duration": 606,
    "start_time": "2022-06-19T15:29:54.797Z"
   },
   {
    "duration": 24,
    "start_time": "2022-06-19T15:29:55.405Z"
   },
   {
    "duration": 1149,
    "start_time": "2022-06-19T15:29:55.431Z"
   },
   {
    "duration": 59,
    "start_time": "2022-06-19T15:29:56.597Z"
   },
   {
    "duration": 99,
    "start_time": "2022-06-19T15:29:56.662Z"
   },
   {
    "duration": 84,
    "start_time": "2022-06-19T15:29:56.770Z"
   },
   {
    "duration": 50,
    "start_time": "2022-06-19T15:29:56.872Z"
   },
   {
    "duration": 57,
    "start_time": "2022-06-19T15:29:56.937Z"
   },
   {
    "duration": 145,
    "start_time": "2022-06-19T15:29:56.996Z"
   },
   {
    "duration": 111,
    "start_time": "2022-06-19T15:29:57.151Z"
   },
   {
    "duration": 77,
    "start_time": "2022-06-19T15:29:57.270Z"
   },
   {
    "duration": 22,
    "start_time": "2022-06-19T15:29:57.351Z"
   },
   {
    "duration": 100,
    "start_time": "2022-06-19T15:29:57.385Z"
   },
   {
    "duration": 312,
    "start_time": "2022-06-19T15:29:57.490Z"
   },
   {
    "duration": 0,
    "start_time": "2022-06-19T15:29:57.808Z"
   },
   {
    "duration": 0,
    "start_time": "2022-06-19T15:29:57.810Z"
   },
   {
    "duration": 0,
    "start_time": "2022-06-19T15:29:57.811Z"
   },
   {
    "duration": 0,
    "start_time": "2022-06-19T15:29:57.813Z"
   },
   {
    "duration": 0,
    "start_time": "2022-06-19T15:29:57.814Z"
   },
   {
    "duration": 0,
    "start_time": "2022-06-19T15:29:57.815Z"
   },
   {
    "duration": 0,
    "start_time": "2022-06-19T15:29:57.817Z"
   },
   {
    "duration": 38,
    "start_time": "2022-06-19T15:32:42.596Z"
   },
   {
    "duration": 8,
    "start_time": "2022-06-19T15:32:43.293Z"
   },
   {
    "duration": 5,
    "start_time": "2022-06-19T15:32:44.009Z"
   },
   {
    "duration": 1588,
    "start_time": "2022-06-19T15:32:44.815Z"
   },
   {
    "duration": 60,
    "start_time": "2022-06-19T15:33:20.708Z"
   },
   {
    "duration": 10,
    "start_time": "2022-06-19T15:33:21.607Z"
   },
   {
    "duration": 8,
    "start_time": "2022-06-19T15:33:23.302Z"
   },
   {
    "duration": 1110,
    "start_time": "2022-06-19T15:33:24.090Z"
   },
   {
    "duration": 17,
    "start_time": "2022-06-19T15:33:26.504Z"
   },
   {
    "duration": 1517,
    "start_time": "2022-06-19T15:33:28.186Z"
   },
   {
    "duration": 19,
    "start_time": "2022-06-19T15:33:31.100Z"
   },
   {
    "duration": 1315,
    "start_time": "2022-06-19T15:33:40.694Z"
   },
   {
    "duration": 574,
    "start_time": "2022-06-19T15:33:42.014Z"
   },
   {
    "duration": 18,
    "start_time": "2022-06-19T15:33:42.596Z"
   },
   {
    "duration": 16,
    "start_time": "2022-06-19T15:33:42.616Z"
   },
   {
    "duration": 63,
    "start_time": "2022-06-19T15:33:42.640Z"
   },
   {
    "duration": 6,
    "start_time": "2022-06-19T15:33:42.704Z"
   },
   {
    "duration": 21,
    "start_time": "2022-06-19T15:33:42.712Z"
   },
   {
    "duration": 77,
    "start_time": "2022-06-19T15:33:42.742Z"
   },
   {
    "duration": 40,
    "start_time": "2022-06-19T15:33:42.821Z"
   },
   {
    "duration": 48,
    "start_time": "2022-06-19T15:33:42.864Z"
   },
   {
    "duration": 34,
    "start_time": "2022-06-19T15:33:42.913Z"
   },
   {
    "duration": 39,
    "start_time": "2022-06-19T15:33:42.950Z"
   },
   {
    "duration": 23,
    "start_time": "2022-06-19T15:33:42.993Z"
   },
   {
    "duration": 28,
    "start_time": "2022-06-19T15:33:43.020Z"
   },
   {
    "duration": 58,
    "start_time": "2022-06-19T15:33:43.055Z"
   },
   {
    "duration": 44,
    "start_time": "2022-06-19T15:33:43.114Z"
   },
   {
    "duration": 49,
    "start_time": "2022-06-19T15:33:43.160Z"
   },
   {
    "duration": 12,
    "start_time": "2022-06-19T15:33:43.211Z"
   },
   {
    "duration": 69,
    "start_time": "2022-06-19T15:33:43.224Z"
   },
   {
    "duration": 54,
    "start_time": "2022-06-19T15:33:43.298Z"
   },
   {
    "duration": 6,
    "start_time": "2022-06-19T15:33:43.353Z"
   },
   {
    "duration": 52,
    "start_time": "2022-06-19T15:33:43.360Z"
   },
   {
    "duration": 45,
    "start_time": "2022-06-19T15:33:43.414Z"
   },
   {
    "duration": 30,
    "start_time": "2022-06-19T15:33:43.466Z"
   },
   {
    "duration": 426,
    "start_time": "2022-06-19T15:33:43.497Z"
   },
   {
    "duration": 8,
    "start_time": "2022-06-19T15:33:43.933Z"
   },
   {
    "duration": 86,
    "start_time": "2022-06-19T15:33:43.942Z"
   },
   {
    "duration": 22,
    "start_time": "2022-06-19T15:33:44.032Z"
   },
   {
    "duration": 134,
    "start_time": "2022-06-19T15:33:44.059Z"
   },
   {
    "duration": 35,
    "start_time": "2022-06-19T15:33:44.198Z"
   },
   {
    "duration": 541,
    "start_time": "2022-06-19T15:33:44.235Z"
   },
   {
    "duration": 14,
    "start_time": "2022-06-19T15:33:44.781Z"
   },
   {
    "duration": 994,
    "start_time": "2022-06-19T15:33:44.800Z"
   },
   {
    "duration": 15,
    "start_time": "2022-06-19T15:33:45.799Z"
   },
   {
    "duration": 20,
    "start_time": "2022-06-19T15:33:45.816Z"
   },
   {
    "duration": 17,
    "start_time": "2022-06-19T15:33:45.838Z"
   },
   {
    "duration": 51,
    "start_time": "2022-06-19T15:33:45.856Z"
   },
   {
    "duration": 4,
    "start_time": "2022-06-19T15:33:45.909Z"
   },
   {
    "duration": 81,
    "start_time": "2022-06-19T15:33:45.914Z"
   },
   {
    "duration": 58,
    "start_time": "2022-06-19T15:33:46.001Z"
   },
   {
    "duration": 44,
    "start_time": "2022-06-19T15:33:46.070Z"
   },
   {
    "duration": 7,
    "start_time": "2022-06-19T15:33:46.116Z"
   },
   {
    "duration": 78,
    "start_time": "2022-06-19T15:33:46.124Z"
   },
   {
    "duration": 309,
    "start_time": "2022-06-19T15:33:46.204Z"
   },
   {
    "duration": 0,
    "start_time": "2022-06-19T15:33:46.515Z"
   },
   {
    "duration": 0,
    "start_time": "2022-06-19T15:33:46.517Z"
   },
   {
    "duration": 0,
    "start_time": "2022-06-19T15:33:46.519Z"
   },
   {
    "duration": 0,
    "start_time": "2022-06-19T15:33:46.520Z"
   },
   {
    "duration": 0,
    "start_time": "2022-06-19T15:33:46.521Z"
   },
   {
    "duration": 0,
    "start_time": "2022-06-19T15:33:46.522Z"
   },
   {
    "duration": 0,
    "start_time": "2022-06-19T15:33:46.523Z"
   },
   {
    "duration": 26,
    "start_time": "2022-06-19T15:34:26.159Z"
   },
   {
    "duration": 30,
    "start_time": "2022-06-19T15:35:27.351Z"
   },
   {
    "duration": 50,
    "start_time": "2022-06-19T15:35:28.601Z"
   },
   {
    "duration": 1742,
    "start_time": "2022-06-19T15:35:37.503Z"
   },
   {
    "duration": 1704,
    "start_time": "2022-06-19T15:35:39.247Z"
   },
   {
    "duration": 16,
    "start_time": "2022-06-19T15:35:40.956Z"
   },
   {
    "duration": 86,
    "start_time": "2022-06-19T15:35:40.978Z"
   },
   {
    "duration": 95,
    "start_time": "2022-06-19T15:35:41.070Z"
   },
   {
    "duration": 32,
    "start_time": "2022-06-19T15:35:41.172Z"
   },
   {
    "duration": 32,
    "start_time": "2022-06-19T15:35:41.207Z"
   },
   {
    "duration": 39,
    "start_time": "2022-06-19T15:35:41.250Z"
   },
   {
    "duration": 101,
    "start_time": "2022-06-19T15:35:41.295Z"
   },
   {
    "duration": 141,
    "start_time": "2022-06-19T15:35:41.410Z"
   },
   {
    "duration": 206,
    "start_time": "2022-06-19T15:35:41.557Z"
   },
   {
    "duration": 221,
    "start_time": "2022-06-19T15:35:41.767Z"
   },
   {
    "duration": 128,
    "start_time": "2022-06-19T15:35:42.002Z"
   },
   {
    "duration": 197,
    "start_time": "2022-06-19T15:35:42.136Z"
   },
   {
    "duration": 118,
    "start_time": "2022-06-19T15:35:42.339Z"
   },
   {
    "duration": 165,
    "start_time": "2022-06-19T15:35:42.471Z"
   },
   {
    "duration": 154,
    "start_time": "2022-06-19T15:35:42.643Z"
   },
   {
    "duration": 49,
    "start_time": "2022-06-19T15:35:42.802Z"
   },
   {
    "duration": 77,
    "start_time": "2022-06-19T15:35:42.857Z"
   },
   {
    "duration": 163,
    "start_time": "2022-06-19T15:35:42.944Z"
   },
   {
    "duration": 71,
    "start_time": "2022-06-19T15:35:43.115Z"
   },
   {
    "duration": 144,
    "start_time": "2022-06-19T15:35:43.194Z"
   },
   {
    "duration": 186,
    "start_time": "2022-06-19T15:35:43.344Z"
   },
   {
    "duration": 68,
    "start_time": "2022-06-19T15:35:43.533Z"
   },
   {
    "duration": 832,
    "start_time": "2022-06-19T15:35:43.603Z"
   },
   {
    "duration": 19,
    "start_time": "2022-06-19T15:35:44.438Z"
   },
   {
    "duration": 185,
    "start_time": "2022-06-19T15:35:44.460Z"
   },
   {
    "duration": 188,
    "start_time": "2022-06-19T15:35:44.656Z"
   },
   {
    "duration": 145,
    "start_time": "2022-06-19T15:35:44.846Z"
   },
   {
    "duration": 179,
    "start_time": "2022-06-19T15:35:44.994Z"
   },
   {
    "duration": 1001,
    "start_time": "2022-06-19T15:35:45.178Z"
   },
   {
    "duration": 26,
    "start_time": "2022-06-19T15:35:46.187Z"
   },
   {
    "duration": 313,
    "start_time": "2022-06-19T15:35:46.220Z"
   },
   {
    "duration": 0,
    "start_time": "2022-06-19T15:35:46.546Z"
   },
   {
    "duration": 0,
    "start_time": "2022-06-19T15:35:46.547Z"
   },
   {
    "duration": 0,
    "start_time": "2022-06-19T15:35:46.548Z"
   },
   {
    "duration": 0,
    "start_time": "2022-06-19T15:35:46.550Z"
   },
   {
    "duration": 0,
    "start_time": "2022-06-19T15:35:46.551Z"
   },
   {
    "duration": 0,
    "start_time": "2022-06-19T15:35:46.552Z"
   },
   {
    "duration": 0,
    "start_time": "2022-06-19T15:35:46.553Z"
   },
   {
    "duration": 0,
    "start_time": "2022-06-19T15:35:46.561Z"
   },
   {
    "duration": 0,
    "start_time": "2022-06-19T15:35:46.563Z"
   },
   {
    "duration": 0,
    "start_time": "2022-06-19T15:35:46.564Z"
   },
   {
    "duration": 0,
    "start_time": "2022-06-19T15:35:46.565Z"
   },
   {
    "duration": 0,
    "start_time": "2022-06-19T15:35:46.567Z"
   },
   {
    "duration": 0,
    "start_time": "2022-06-19T15:35:46.568Z"
   },
   {
    "duration": 0,
    "start_time": "2022-06-19T15:35:46.569Z"
   },
   {
    "duration": 0,
    "start_time": "2022-06-19T15:35:46.570Z"
   },
   {
    "duration": 0,
    "start_time": "2022-06-19T15:35:46.571Z"
   },
   {
    "duration": 0,
    "start_time": "2022-06-19T15:35:46.572Z"
   },
   {
    "duration": 0,
    "start_time": "2022-06-19T15:35:46.577Z"
   },
   {
    "duration": 0,
    "start_time": "2022-06-19T15:35:46.578Z"
   },
   {
    "duration": 25,
    "start_time": "2022-06-19T15:38:14.549Z"
   },
   {
    "duration": 1295,
    "start_time": "2022-06-19T15:38:27.124Z"
   },
   {
    "duration": 40,
    "start_time": "2022-06-19T15:38:29.249Z"
   },
   {
    "duration": 59,
    "start_time": "2022-06-19T15:38:30.042Z"
   },
   {
    "duration": 15,
    "start_time": "2022-06-19T15:38:31.197Z"
   },
   {
    "duration": 27,
    "start_time": "2022-06-19T15:38:31.830Z"
   },
   {
    "duration": 17,
    "start_time": "2022-06-19T15:38:32.656Z"
   },
   {
    "duration": 94,
    "start_time": "2022-06-19T15:38:33.387Z"
   },
   {
    "duration": 98,
    "start_time": "2022-06-19T15:38:34.253Z"
   },
   {
    "duration": 87,
    "start_time": "2022-06-19T15:38:41.744Z"
   },
   {
    "duration": 33,
    "start_time": "2022-06-19T15:38:43.858Z"
   },
   {
    "duration": 20,
    "start_time": "2022-06-19T15:38:50.029Z"
   },
   {
    "duration": 20,
    "start_time": "2022-06-19T15:38:53.905Z"
   },
   {
    "duration": 147,
    "start_time": "2022-06-19T15:38:54.761Z"
   },
   {
    "duration": 1869,
    "start_time": "2022-06-19T15:38:56.257Z"
   },
   {
    "duration": 110,
    "start_time": "2022-06-19T15:38:58.128Z"
   },
   {
    "duration": 2051,
    "start_time": "2022-06-19T15:39:05.109Z"
   },
   {
    "duration": 65,
    "start_time": "2022-06-19T15:39:11.086Z"
   },
   {
    "duration": 322,
    "start_time": "2022-06-19T15:39:12.199Z"
   },
   {
    "duration": 113,
    "start_time": "2022-06-19T15:39:13.296Z"
   },
   {
    "duration": 368,
    "start_time": "2022-06-19T15:39:14.401Z"
   },
   {
    "duration": 39,
    "start_time": "2022-06-19T15:39:36.549Z"
   },
   {
    "duration": 50,
    "start_time": "2022-06-19T15:40:12.261Z"
   },
   {
    "duration": 23,
    "start_time": "2022-06-19T15:40:28.892Z"
   },
   {
    "duration": 25,
    "start_time": "2022-06-19T15:40:53.214Z"
   },
   {
    "duration": 43,
    "start_time": "2022-06-19T15:41:03.698Z"
   },
   {
    "duration": 25,
    "start_time": "2022-06-19T15:41:17.984Z"
   },
   {
    "duration": 40,
    "start_time": "2022-06-19T15:47:53.342Z"
   },
   {
    "duration": 9,
    "start_time": "2022-06-19T15:48:28.697Z"
   },
   {
    "duration": 6,
    "start_time": "2022-06-19T15:48:39.353Z"
   },
   {
    "duration": 22,
    "start_time": "2022-06-19T15:48:53.152Z"
   },
   {
    "duration": 3,
    "start_time": "2022-06-19T15:49:00.004Z"
   },
   {
    "duration": 36,
    "start_time": "2022-06-19T15:54:08.120Z"
   },
   {
    "duration": 11,
    "start_time": "2022-06-19T15:54:28.813Z"
   },
   {
    "duration": 26,
    "start_time": "2022-06-19T15:57:21.313Z"
   },
   {
    "duration": 20,
    "start_time": "2022-06-19T15:57:34.813Z"
   },
   {
    "duration": 139,
    "start_time": "2022-06-19T15:57:48.422Z"
   },
   {
    "duration": 33,
    "start_time": "2022-06-19T15:58:03.124Z"
   },
   {
    "duration": 14,
    "start_time": "2022-06-19T15:58:32.370Z"
   },
   {
    "duration": 16,
    "start_time": "2022-06-19T15:58:47.206Z"
   },
   {
    "duration": 14,
    "start_time": "2022-06-19T16:00:41.471Z"
   },
   {
    "duration": 31,
    "start_time": "2022-06-19T16:06:29.343Z"
   },
   {
    "duration": 19,
    "start_time": "2022-06-19T16:06:43.466Z"
   },
   {
    "duration": 24,
    "start_time": "2022-06-19T16:08:36.364Z"
   },
   {
    "duration": 22,
    "start_time": "2022-06-19T16:18:30.933Z"
   },
   {
    "duration": 107,
    "start_time": "2022-06-19T16:20:50.952Z"
   },
   {
    "duration": 86,
    "start_time": "2022-06-19T16:20:57.902Z"
   },
   {
    "duration": 101,
    "start_time": "2022-06-19T16:26:06.258Z"
   },
   {
    "duration": 78,
    "start_time": "2022-06-19T16:27:03.041Z"
   },
   {
    "duration": 727,
    "start_time": "2022-06-19T16:35:22.915Z"
   },
   {
    "duration": 6,
    "start_time": "2022-06-19T16:35:29.851Z"
   },
   {
    "duration": 15,
    "start_time": "2022-06-19T16:35:47.811Z"
   },
   {
    "duration": 22,
    "start_time": "2022-06-19T16:36:58.091Z"
   },
   {
    "duration": 16,
    "start_time": "2022-06-19T16:37:25.091Z"
   },
   {
    "duration": 10,
    "start_time": "2022-06-19T16:37:31.195Z"
   },
   {
    "duration": 6,
    "start_time": "2022-06-19T16:37:48.677Z"
   },
   {
    "duration": 7,
    "start_time": "2022-06-19T16:37:54.253Z"
   },
   {
    "duration": 6,
    "start_time": "2022-06-19T16:38:04.053Z"
   },
   {
    "duration": 7,
    "start_time": "2022-06-19T16:40:52.677Z"
   },
   {
    "duration": 11,
    "start_time": "2022-06-19T16:41:05.381Z"
   },
   {
    "duration": 31,
    "start_time": "2022-06-19T16:41:36.933Z"
   },
   {
    "duration": 22,
    "start_time": "2022-06-19T16:42:33.391Z"
   },
   {
    "duration": 8,
    "start_time": "2022-06-19T16:45:44.676Z"
   },
   {
    "duration": 11,
    "start_time": "2022-06-19T16:45:50.978Z"
   },
   {
    "duration": 10,
    "start_time": "2022-06-19T16:46:57.972Z"
   },
   {
    "duration": 16,
    "start_time": "2022-06-19T16:52:13.769Z"
   },
   {
    "duration": 28,
    "start_time": "2022-06-19T16:52:26.101Z"
   },
   {
    "duration": 10,
    "start_time": "2022-06-19T16:52:46.399Z"
   },
   {
    "duration": 14,
    "start_time": "2022-06-19T16:52:53.643Z"
   },
   {
    "duration": 12,
    "start_time": "2022-06-19T16:55:15.951Z"
   },
   {
    "duration": 35,
    "start_time": "2022-06-19T17:00:16.659Z"
   },
   {
    "duration": 10,
    "start_time": "2022-06-19T17:00:22.159Z"
   },
   {
    "duration": 37,
    "start_time": "2022-06-19T17:00:51.748Z"
   },
   {
    "duration": 13,
    "start_time": "2022-06-19T17:00:56.099Z"
   },
   {
    "duration": 1310,
    "start_time": "2022-06-20T07:41:10.947Z"
   },
   {
    "duration": 409,
    "start_time": "2022-06-20T07:41:12.259Z"
   },
   {
    "duration": 11,
    "start_time": "2022-06-20T07:41:12.669Z"
   },
   {
    "duration": 19,
    "start_time": "2022-06-20T07:41:12.681Z"
   },
   {
    "duration": 17,
    "start_time": "2022-06-20T07:41:12.702Z"
   },
   {
    "duration": 32,
    "start_time": "2022-06-20T07:41:12.721Z"
   },
   {
    "duration": 27,
    "start_time": "2022-06-20T07:41:12.755Z"
   },
   {
    "duration": 63,
    "start_time": "2022-06-20T07:41:12.783Z"
   },
   {
    "duration": 25,
    "start_time": "2022-06-20T07:41:12.848Z"
   },
   {
    "duration": 18,
    "start_time": "2022-06-20T07:41:12.874Z"
   },
   {
    "duration": 20,
    "start_time": "2022-06-20T07:41:12.893Z"
   },
   {
    "duration": 22,
    "start_time": "2022-06-20T07:41:12.915Z"
   },
   {
    "duration": 8,
    "start_time": "2022-06-20T07:41:12.938Z"
   },
   {
    "duration": 14,
    "start_time": "2022-06-20T07:41:12.961Z"
   },
   {
    "duration": 19,
    "start_time": "2022-06-20T07:41:12.977Z"
   },
   {
    "duration": 50,
    "start_time": "2022-06-20T07:41:12.998Z"
   },
   {
    "duration": 18,
    "start_time": "2022-06-20T07:41:13.050Z"
   },
   {
    "duration": 13,
    "start_time": "2022-06-20T07:41:13.069Z"
   },
   {
    "duration": 10,
    "start_time": "2022-06-20T07:41:13.084Z"
   },
   {
    "duration": 44,
    "start_time": "2022-06-20T07:41:13.095Z"
   },
   {
    "duration": 5,
    "start_time": "2022-06-20T07:41:13.159Z"
   },
   {
    "duration": 10,
    "start_time": "2022-06-20T07:41:13.165Z"
   },
   {
    "duration": 26,
    "start_time": "2022-06-20T07:41:13.177Z"
   },
   {
    "duration": 16,
    "start_time": "2022-06-20T07:41:13.205Z"
   },
   {
    "duration": 287,
    "start_time": "2022-06-20T07:41:13.223Z"
   },
   {
    "duration": 4,
    "start_time": "2022-06-20T07:41:13.511Z"
   },
   {
    "duration": 20,
    "start_time": "2022-06-20T07:41:13.517Z"
   },
   {
    "duration": 27,
    "start_time": "2022-06-20T07:41:13.539Z"
   },
   {
    "duration": 33,
    "start_time": "2022-06-20T07:41:13.568Z"
   },
   {
    "duration": 24,
    "start_time": "2022-06-20T07:41:13.602Z"
   },
   {
    "duration": 373,
    "start_time": "2022-06-20T07:41:13.627Z"
   },
   {
    "duration": 9,
    "start_time": "2022-06-20T07:41:14.001Z"
   },
   {
    "duration": 669,
    "start_time": "2022-06-20T07:41:14.012Z"
   },
   {
    "duration": 13,
    "start_time": "2022-06-20T07:41:14.682Z"
   },
   {
    "duration": 14,
    "start_time": "2022-06-20T07:41:14.696Z"
   },
   {
    "duration": 8,
    "start_time": "2022-06-20T07:41:14.712Z"
   },
   {
    "duration": 40,
    "start_time": "2022-06-20T07:41:14.722Z"
   },
   {
    "duration": 5,
    "start_time": "2022-06-20T07:41:14.764Z"
   },
   {
    "duration": 40,
    "start_time": "2022-06-20T07:41:14.771Z"
   },
   {
    "duration": 56,
    "start_time": "2022-06-20T07:41:14.812Z"
   },
   {
    "duration": 34,
    "start_time": "2022-06-20T07:41:14.872Z"
   },
   {
    "duration": 5,
    "start_time": "2022-06-20T07:41:14.907Z"
   },
   {
    "duration": 10,
    "start_time": "2022-06-20T07:41:14.913Z"
   },
   {
    "duration": 70,
    "start_time": "2022-06-20T07:41:14.924Z"
   },
   {
    "duration": 1153,
    "start_time": "2022-06-20T07:41:14.995Z"
   },
   {
    "duration": 66,
    "start_time": "2022-06-20T07:41:16.149Z"
   },
   {
    "duration": 1112,
    "start_time": "2022-06-20T07:41:16.217Z"
   },
   {
    "duration": 65,
    "start_time": "2022-06-20T07:41:17.331Z"
   },
   {
    "duration": 208,
    "start_time": "2022-06-20T07:41:17.399Z"
   },
   {
    "duration": 39,
    "start_time": "2022-06-20T07:41:17.608Z"
   },
   {
    "duration": 203,
    "start_time": "2022-06-20T07:41:17.649Z"
   },
   {
    "duration": 13,
    "start_time": "2022-06-20T07:41:17.853Z"
   },
   {
    "duration": 21,
    "start_time": "2022-06-20T07:41:17.867Z"
   },
   {
    "duration": 9,
    "start_time": "2022-06-20T07:41:17.890Z"
   },
   {
    "duration": 25,
    "start_time": "2022-06-20T07:41:17.901Z"
   },
   {
    "duration": 40,
    "start_time": "2022-06-20T07:41:17.927Z"
   },
   {
    "duration": 8,
    "start_time": "2022-06-20T07:44:03.845Z"
   },
   {
    "duration": 116,
    "start_time": "2022-06-20T07:46:54.676Z"
   },
   {
    "duration": 8,
    "start_time": "2022-06-20T07:47:08.514Z"
   },
   {
    "duration": 8,
    "start_time": "2022-06-20T07:47:29.365Z"
   },
   {
    "duration": 22,
    "start_time": "2022-06-20T07:47:53.245Z"
   },
   {
    "duration": 15,
    "start_time": "2022-06-20T07:48:10.394Z"
   },
   {
    "duration": 11,
    "start_time": "2022-06-20T07:48:24.965Z"
   },
   {
    "duration": 14,
    "start_time": "2022-06-20T07:48:48.166Z"
   },
   {
    "duration": 10,
    "start_time": "2022-06-20T07:49:06.407Z"
   },
   {
    "duration": 17,
    "start_time": "2022-06-20T07:51:09.567Z"
   },
   {
    "duration": 11,
    "start_time": "2022-06-20T07:51:19.131Z"
   },
   {
    "duration": 11,
    "start_time": "2022-06-20T07:51:28.437Z"
   },
   {
    "duration": 8,
    "start_time": "2022-06-20T08:00:33.272Z"
   },
   {
    "duration": 15,
    "start_time": "2022-06-20T08:02:27.655Z"
   },
   {
    "duration": 25,
    "start_time": "2022-06-20T08:02:34.707Z"
   },
   {
    "duration": 9,
    "start_time": "2022-06-20T08:03:03.788Z"
   },
   {
    "duration": 11,
    "start_time": "2022-06-20T08:03:24.407Z"
   },
   {
    "duration": 11,
    "start_time": "2022-06-20T08:05:56.048Z"
   },
   {
    "duration": 16,
    "start_time": "2022-06-20T08:06:47.646Z"
   },
   {
    "duration": 57,
    "start_time": "2022-06-20T08:07:37.367Z"
   },
   {
    "duration": 2,
    "start_time": "2022-06-20T08:10:27.547Z"
   },
   {
    "duration": 5,
    "start_time": "2022-06-20T09:41:02.561Z"
   },
   {
    "duration": 15,
    "start_time": "2022-06-20T09:45:44.446Z"
   },
   {
    "duration": 20,
    "start_time": "2022-06-20T09:46:24.878Z"
   },
   {
    "duration": 23,
    "start_time": "2022-06-20T09:46:31.991Z"
   },
   {
    "duration": 22,
    "start_time": "2022-06-20T09:46:49.130Z"
   },
   {
    "duration": 19,
    "start_time": "2022-06-20T09:46:52.129Z"
   },
   {
    "duration": 941,
    "start_time": "2022-06-20T09:47:17.950Z"
   },
   {
    "duration": 1071,
    "start_time": "2022-06-20T09:47:28.721Z"
   },
   {
    "duration": 1083,
    "start_time": "2022-06-20T09:47:34.029Z"
   },
   {
    "duration": 4,
    "start_time": "2022-06-20T09:48:34.660Z"
   },
   {
    "duration": 10,
    "start_time": "2022-06-20T09:48:44.280Z"
   },
   {
    "duration": 5,
    "start_time": "2022-06-20T09:48:48.708Z"
   },
   {
    "duration": 4,
    "start_time": "2022-06-20T09:49:03.320Z"
   },
   {
    "duration": 3,
    "start_time": "2022-06-20T09:49:44.940Z"
   },
   {
    "duration": 4,
    "start_time": "2022-06-20T09:49:48.760Z"
   },
   {
    "duration": 19,
    "start_time": "2022-06-20T09:49:51.021Z"
   },
   {
    "duration": 4,
    "start_time": "2022-06-20T09:49:54.393Z"
   },
   {
    "duration": 5,
    "start_time": "2022-06-20T09:49:55.979Z"
   },
   {
    "duration": 7,
    "start_time": "2022-06-20T09:50:11.414Z"
   },
   {
    "duration": 10,
    "start_time": "2022-06-20T09:50:14.999Z"
   },
   {
    "duration": 19,
    "start_time": "2022-06-20T09:51:25.500Z"
   },
   {
    "duration": 8,
    "start_time": "2022-06-20T09:51:42.200Z"
   },
   {
    "duration": 19,
    "start_time": "2022-06-20T09:52:10.840Z"
   },
   {
    "duration": 16,
    "start_time": "2022-06-20T09:52:17.840Z"
   },
   {
    "duration": 770,
    "start_time": "2022-06-20T09:52:33.217Z"
   },
   {
    "duration": 12,
    "start_time": "2022-06-20T09:52:54.140Z"
   },
   {
    "duration": 4,
    "start_time": "2022-06-20T09:52:56.920Z"
   },
   {
    "duration": 17,
    "start_time": "2022-06-20T09:53:03.672Z"
   },
   {
    "duration": 5,
    "start_time": "2022-06-20T09:53:16.692Z"
   },
   {
    "duration": 6,
    "start_time": "2022-06-20T09:55:09.940Z"
   },
   {
    "duration": 21,
    "start_time": "2022-06-20T09:55:58.941Z"
   },
   {
    "duration": 14,
    "start_time": "2022-06-20T09:58:18.198Z"
   },
   {
    "duration": 6,
    "start_time": "2022-06-20T09:58:44.838Z"
   },
   {
    "duration": 11,
    "start_time": "2022-06-20T09:59:15.636Z"
   },
   {
    "duration": 48,
    "start_time": "2022-06-20T10:07:45.992Z"
   },
   {
    "duration": 12,
    "start_time": "2022-06-20T10:34:51.462Z"
   },
   {
    "duration": 19,
    "start_time": "2022-06-20T10:35:27.602Z"
   },
   {
    "duration": 10,
    "start_time": "2022-06-20T10:35:35.270Z"
   },
   {
    "duration": 20,
    "start_time": "2022-06-20T10:36:26.343Z"
   },
   {
    "duration": 21,
    "start_time": "2022-06-20T10:36:51.000Z"
   },
   {
    "duration": 50,
    "start_time": "2022-06-20T10:37:56.072Z"
   },
   {
    "duration": 13,
    "start_time": "2022-06-20T10:39:22.652Z"
   },
   {
    "duration": 13,
    "start_time": "2022-06-20T10:39:32.372Z"
   },
   {
    "duration": 14,
    "start_time": "2022-06-20T10:40:30.712Z"
   },
   {
    "duration": 3,
    "start_time": "2022-06-20T10:40:45.346Z"
   },
   {
    "duration": 6,
    "start_time": "2022-06-20T10:41:29.157Z"
   },
   {
    "duration": 10,
    "start_time": "2022-06-20T10:41:44.161Z"
   },
   {
    "duration": 40,
    "start_time": "2022-06-20T10:44:01.715Z"
   },
   {
    "duration": 5,
    "start_time": "2022-06-20T10:45:03.514Z"
   },
   {
    "duration": 32,
    "start_time": "2022-06-20T10:46:14.474Z"
   },
   {
    "duration": 76,
    "start_time": "2022-06-20T10:46:45.016Z"
   },
   {
    "duration": 32,
    "start_time": "2022-06-20T10:48:44.515Z"
   },
   {
    "duration": 31,
    "start_time": "2022-06-20T10:50:37.715Z"
   },
   {
    "duration": 29,
    "start_time": "2022-06-20T10:51:14.148Z"
   },
   {
    "duration": 37,
    "start_time": "2022-06-20T10:51:36.155Z"
   },
   {
    "duration": 70,
    "start_time": "2022-06-20T10:51:48.384Z"
   },
   {
    "duration": 31,
    "start_time": "2022-06-20T10:52:59.645Z"
   },
   {
    "duration": 38,
    "start_time": "2022-06-20T10:54:12.583Z"
   },
   {
    "duration": 37,
    "start_time": "2022-06-20T10:54:45.195Z"
   },
   {
    "duration": 6,
    "start_time": "2022-06-20T10:54:47.956Z"
   },
   {
    "duration": 6,
    "start_time": "2022-06-20T10:55:49.555Z"
   },
   {
    "duration": 35,
    "start_time": "2022-06-20T10:56:00.585Z"
   },
   {
    "duration": 33,
    "start_time": "2022-06-20T10:56:05.136Z"
   },
   {
    "duration": 32,
    "start_time": "2022-06-20T10:56:29.323Z"
   },
   {
    "duration": 33,
    "start_time": "2022-06-20T10:56:32.316Z"
   },
   {
    "duration": 36,
    "start_time": "2022-06-20T10:56:49.036Z"
   },
   {
    "duration": 5,
    "start_time": "2022-06-20T10:56:53.536Z"
   },
   {
    "duration": 1143,
    "start_time": "2022-06-20T11:38:43.212Z"
   },
   {
    "duration": 406,
    "start_time": "2022-06-20T11:38:44.357Z"
   },
   {
    "duration": 14,
    "start_time": "2022-06-20T11:38:44.766Z"
   },
   {
    "duration": 8,
    "start_time": "2022-06-20T11:38:44.782Z"
   },
   {
    "duration": 8,
    "start_time": "2022-06-20T11:38:44.792Z"
   },
   {
    "duration": 7,
    "start_time": "2022-06-20T11:38:44.801Z"
   },
   {
    "duration": 13,
    "start_time": "2022-06-20T11:38:44.810Z"
   },
   {
    "duration": 49,
    "start_time": "2022-06-20T11:38:44.825Z"
   },
   {
    "duration": 23,
    "start_time": "2022-06-20T11:38:44.876Z"
   },
   {
    "duration": 11,
    "start_time": "2022-06-20T11:38:44.901Z"
   },
   {
    "duration": 23,
    "start_time": "2022-06-20T11:38:44.913Z"
   },
   {
    "duration": 39,
    "start_time": "2022-06-20T11:38:44.938Z"
   },
   {
    "duration": 6,
    "start_time": "2022-06-20T11:38:44.979Z"
   },
   {
    "duration": 19,
    "start_time": "2022-06-20T11:38:44.988Z"
   },
   {
    "duration": 15,
    "start_time": "2022-06-20T11:38:45.010Z"
   },
   {
    "duration": 62,
    "start_time": "2022-06-20T11:38:45.026Z"
   },
   {
    "duration": 11,
    "start_time": "2022-06-20T11:38:45.089Z"
   },
   {
    "duration": 18,
    "start_time": "2022-06-20T11:38:45.101Z"
   },
   {
    "duration": 10,
    "start_time": "2022-06-20T11:38:45.120Z"
   },
   {
    "duration": 56,
    "start_time": "2022-06-20T11:38:45.131Z"
   },
   {
    "duration": 5,
    "start_time": "2022-06-20T11:38:45.189Z"
   },
   {
    "duration": 10,
    "start_time": "2022-06-20T11:38:45.196Z"
   },
   {
    "duration": 31,
    "start_time": "2022-06-20T11:38:45.208Z"
   },
   {
    "duration": 37,
    "start_time": "2022-06-20T11:38:45.241Z"
   },
   {
    "duration": 304,
    "start_time": "2022-06-20T11:38:45.280Z"
   },
   {
    "duration": 3,
    "start_time": "2022-06-20T11:38:45.586Z"
   },
   {
    "duration": 14,
    "start_time": "2022-06-20T11:38:45.591Z"
   },
   {
    "duration": 12,
    "start_time": "2022-06-20T11:38:45.607Z"
   },
   {
    "duration": 73,
    "start_time": "2022-06-20T11:38:45.620Z"
   },
   {
    "duration": 24,
    "start_time": "2022-06-20T11:38:45.694Z"
   },
   {
    "duration": 421,
    "start_time": "2022-06-20T11:38:45.719Z"
   },
   {
    "duration": 875,
    "start_time": "2022-06-20T11:38:46.141Z"
   },
   {
    "duration": 14,
    "start_time": "2022-06-20T11:38:47.017Z"
   },
   {
    "duration": 30,
    "start_time": "2022-06-20T11:38:47.033Z"
   },
   {
    "duration": 29,
    "start_time": "2022-06-20T11:38:47.065Z"
   },
   {
    "duration": 21,
    "start_time": "2022-06-20T11:38:47.096Z"
   },
   {
    "duration": 10,
    "start_time": "2022-06-20T11:38:47.120Z"
   },
   {
    "duration": 82,
    "start_time": "2022-06-20T11:38:47.132Z"
   },
   {
    "duration": 60,
    "start_time": "2022-06-20T11:38:47.216Z"
   },
   {
    "duration": 46,
    "start_time": "2022-06-20T11:38:47.278Z"
   },
   {
    "duration": 6,
    "start_time": "2022-06-20T11:38:47.328Z"
   },
   {
    "duration": 53,
    "start_time": "2022-06-20T11:38:47.336Z"
   },
   {
    "duration": 77,
    "start_time": "2022-06-20T11:38:47.391Z"
   },
   {
    "duration": 1254,
    "start_time": "2022-06-20T11:38:47.470Z"
   },
   {
    "duration": 91,
    "start_time": "2022-06-20T11:38:48.725Z"
   },
   {
    "duration": 1149,
    "start_time": "2022-06-20T11:38:48.818Z"
   },
   {
    "duration": 40,
    "start_time": "2022-06-20T11:38:49.969Z"
   },
   {
    "duration": 229,
    "start_time": "2022-06-20T11:38:50.011Z"
   },
   {
    "duration": 54,
    "start_time": "2022-06-20T11:38:50.242Z"
   },
   {
    "duration": 220,
    "start_time": "2022-06-20T11:38:50.297Z"
   },
   {
    "duration": 12,
    "start_time": "2022-06-20T11:38:50.519Z"
   },
   {
    "duration": 34,
    "start_time": "2022-06-20T11:38:50.533Z"
   },
   {
    "duration": 7,
    "start_time": "2022-06-20T11:38:50.570Z"
   },
   {
    "duration": 58,
    "start_time": "2022-06-20T11:38:50.579Z"
   },
   {
    "duration": 14,
    "start_time": "2022-06-20T11:38:50.639Z"
   },
   {
    "duration": 7,
    "start_time": "2022-06-20T11:38:50.655Z"
   },
   {
    "duration": 54,
    "start_time": "2022-06-20T11:38:50.664Z"
   },
   {
    "duration": 31,
    "start_time": "2022-06-20T11:38:50.720Z"
   },
   {
    "duration": 10,
    "start_time": "2022-06-20T11:38:50.766Z"
   },
   {
    "duration": 1623,
    "start_time": "2022-06-21T08:36:35.819Z"
   },
   {
    "duration": 375,
    "start_time": "2022-06-21T08:36:37.444Z"
   },
   {
    "duration": 13,
    "start_time": "2022-06-21T08:36:37.821Z"
   },
   {
    "duration": 8,
    "start_time": "2022-06-21T08:36:37.836Z"
   },
   {
    "duration": 6,
    "start_time": "2022-06-21T08:36:37.845Z"
   },
   {
    "duration": 6,
    "start_time": "2022-06-21T08:36:37.852Z"
   },
   {
    "duration": 14,
    "start_time": "2022-06-21T08:36:37.860Z"
   },
   {
    "duration": 17,
    "start_time": "2022-06-21T08:36:37.876Z"
   },
   {
    "duration": 16,
    "start_time": "2022-06-21T08:36:37.895Z"
   },
   {
    "duration": 30,
    "start_time": "2022-06-21T08:36:37.914Z"
   },
   {
    "duration": 25,
    "start_time": "2022-06-21T08:36:37.945Z"
   },
   {
    "duration": 22,
    "start_time": "2022-06-21T08:36:37.972Z"
   },
   {
    "duration": 5,
    "start_time": "2022-06-21T08:36:37.996Z"
   },
   {
    "duration": 42,
    "start_time": "2022-06-21T08:36:38.003Z"
   },
   {
    "duration": 22,
    "start_time": "2022-06-21T08:36:38.048Z"
   },
   {
    "duration": 34,
    "start_time": "2022-06-21T08:36:38.072Z"
   },
   {
    "duration": 11,
    "start_time": "2022-06-21T08:36:38.107Z"
   },
   {
    "duration": 29,
    "start_time": "2022-06-21T08:36:38.120Z"
   },
   {
    "duration": 10,
    "start_time": "2022-06-21T08:36:38.151Z"
   },
   {
    "duration": 35,
    "start_time": "2022-06-21T08:36:38.162Z"
   },
   {
    "duration": 5,
    "start_time": "2022-06-21T08:36:38.198Z"
   },
   {
    "duration": 10,
    "start_time": "2022-06-21T08:36:38.204Z"
   },
   {
    "duration": 47,
    "start_time": "2022-06-21T08:36:38.216Z"
   },
   {
    "duration": 15,
    "start_time": "2022-06-21T08:36:38.265Z"
   },
   {
    "duration": 371,
    "start_time": "2022-06-21T08:36:38.282Z"
   },
   {
    "duration": 3,
    "start_time": "2022-06-21T08:36:38.655Z"
   },
   {
    "duration": 17,
    "start_time": "2022-06-21T08:36:38.660Z"
   },
   {
    "duration": 14,
    "start_time": "2022-06-21T08:36:38.680Z"
   },
   {
    "duration": 58,
    "start_time": "2022-06-21T08:36:38.696Z"
   },
   {
    "duration": 25,
    "start_time": "2022-06-21T08:36:38.756Z"
   },
   {
    "duration": 563,
    "start_time": "2022-06-21T08:36:38.783Z"
   },
   {
    "duration": 782,
    "start_time": "2022-06-21T08:36:39.348Z"
   },
   {
    "duration": 23,
    "start_time": "2022-06-21T08:36:40.132Z"
   },
   {
    "duration": 17,
    "start_time": "2022-06-21T08:36:40.156Z"
   },
   {
    "duration": 9,
    "start_time": "2022-06-21T08:36:40.174Z"
   },
   {
    "duration": 7,
    "start_time": "2022-06-21T08:36:40.185Z"
   },
   {
    "duration": 4,
    "start_time": "2022-06-21T08:36:40.194Z"
   },
   {
    "duration": 69,
    "start_time": "2022-06-21T08:36:40.199Z"
   },
   {
    "duration": 43,
    "start_time": "2022-06-21T08:36:40.270Z"
   },
   {
    "duration": 51,
    "start_time": "2022-06-21T08:36:40.314Z"
   },
   {
    "duration": 6,
    "start_time": "2022-06-21T08:36:40.367Z"
   },
   {
    "duration": 8,
    "start_time": "2022-06-21T08:36:40.374Z"
   },
   {
    "duration": 75,
    "start_time": "2022-06-21T08:36:40.384Z"
   },
   {
    "duration": 866,
    "start_time": "2022-06-21T08:36:40.460Z"
   },
   {
    "duration": 68,
    "start_time": "2022-06-21T08:36:41.327Z"
   },
   {
    "duration": 792,
    "start_time": "2022-06-21T08:36:41.397Z"
   },
   {
    "duration": 52,
    "start_time": "2022-06-21T08:36:42.190Z"
   },
   {
    "duration": 318,
    "start_time": "2022-06-21T08:36:42.244Z"
   },
   {
    "duration": 42,
    "start_time": "2022-06-21T08:36:42.564Z"
   },
   {
    "duration": 322,
    "start_time": "2022-06-21T08:36:42.608Z"
   },
   {
    "duration": 17,
    "start_time": "2022-06-21T08:36:42.932Z"
   },
   {
    "duration": 16,
    "start_time": "2022-06-21T08:36:42.951Z"
   },
   {
    "duration": 4,
    "start_time": "2022-06-21T08:36:42.969Z"
   },
   {
    "duration": 27,
    "start_time": "2022-06-21T08:36:42.975Z"
   },
   {
    "duration": 40,
    "start_time": "2022-06-21T08:36:43.003Z"
   },
   {
    "duration": 9,
    "start_time": "2022-06-21T08:36:43.045Z"
   },
   {
    "duration": 45,
    "start_time": "2022-06-21T08:36:43.056Z"
   },
   {
    "duration": 54,
    "start_time": "2022-06-21T08:36:43.103Z"
   },
   {
    "duration": 6,
    "start_time": "2022-06-21T08:36:43.159Z"
   },
   {
    "duration": 1323,
    "start_time": "2022-06-21T10:31:28.698Z"
   },
   {
    "duration": 223,
    "start_time": "2022-06-21T10:31:30.785Z"
   },
   {
    "duration": 10,
    "start_time": "2022-06-21T10:31:34.617Z"
   },
   {
    "duration": 9,
    "start_time": "2022-06-21T10:31:36.270Z"
   },
   {
    "duration": 3,
    "start_time": "2022-06-21T10:31:37.037Z"
   },
   {
    "duration": 3,
    "start_time": "2022-06-21T10:31:38.337Z"
   },
   {
    "duration": 10,
    "start_time": "2022-06-21T10:31:39.099Z"
   },
   {
    "duration": 16,
    "start_time": "2022-06-21T10:31:40.714Z"
   },
   {
    "duration": 17,
    "start_time": "2022-06-21T10:31:42.181Z"
   },
   {
    "duration": 7,
    "start_time": "2022-06-21T10:31:42.966Z"
   },
   {
    "duration": 21,
    "start_time": "2022-06-21T10:31:43.769Z"
   },
   {
    "duration": 21,
    "start_time": "2022-06-21T10:31:44.517Z"
   },
   {
    "duration": 6,
    "start_time": "2022-06-21T10:31:45.134Z"
   },
   {
    "duration": 16,
    "start_time": "2022-06-21T10:31:45.817Z"
   },
   {
    "duration": 18,
    "start_time": "2022-06-21T10:31:46.381Z"
   },
   {
    "duration": 33,
    "start_time": "2022-06-21T10:31:47.057Z"
   },
   {
    "duration": 10,
    "start_time": "2022-06-21T10:31:47.738Z"
   },
   {
    "duration": 10,
    "start_time": "2022-06-21T10:31:48.497Z"
   },
   {
    "duration": 8,
    "start_time": "2022-06-21T10:31:52.138Z"
   },
   {
    "duration": 37,
    "start_time": "2022-06-21T10:31:53.099Z"
   },
   {
    "duration": 6,
    "start_time": "2022-06-21T10:32:00.080Z"
   },
   {
    "duration": 5,
    "start_time": "2022-06-21T10:32:00.810Z"
   },
   {
    "duration": 20,
    "start_time": "2022-06-21T10:32:02.396Z"
   },
   {
    "duration": 15,
    "start_time": "2022-06-21T10:32:03.898Z"
   },
   {
    "duration": 291,
    "start_time": "2022-06-21T10:32:13.698Z"
   },
   {
    "duration": 187,
    "start_time": "2022-06-21T10:32:18.230Z"
   },
   {
    "duration": 4,
    "start_time": "2022-06-21T10:33:08.199Z"
   },
   {
    "duration": 13,
    "start_time": "2022-06-21T10:33:09.141Z"
   },
   {
    "duration": 14,
    "start_time": "2022-06-21T10:33:09.478Z"
   },
   {
    "duration": 38,
    "start_time": "2022-06-21T10:33:12.358Z"
   },
   {
    "duration": 25,
    "start_time": "2022-06-21T10:33:13.057Z"
   },
   {
    "duration": 403,
    "start_time": "2022-06-21T10:33:15.118Z"
   },
   {
    "duration": 737,
    "start_time": "2022-06-21T10:36:33.852Z"
   },
   {
    "duration": 14,
    "start_time": "2022-06-21T10:38:43.534Z"
   },
   {
    "duration": 15,
    "start_time": "2022-06-21T10:38:44.312Z"
   },
   {
    "duration": 9,
    "start_time": "2022-06-21T10:38:45.653Z"
   },
   {
    "duration": 11,
    "start_time": "2022-06-21T10:38:46.228Z"
   },
   {
    "duration": 6,
    "start_time": "2022-06-21T10:38:46.932Z"
   },
   {
    "duration": 42,
    "start_time": "2022-06-21T10:38:47.992Z"
   },
   {
    "duration": 45,
    "start_time": "2022-06-21T10:38:48.735Z"
   },
   {
    "duration": 38,
    "start_time": "2022-06-21T10:38:50.344Z"
   },
   {
    "duration": 5,
    "start_time": "2022-06-21T10:38:51.050Z"
   },
   {
    "duration": 4,
    "start_time": "2022-06-21T10:38:51.830Z"
   },
   {
    "duration": 59,
    "start_time": "2022-06-21T10:38:52.512Z"
   },
   {
    "duration": 1257,
    "start_time": "2022-06-21T10:38:53.286Z"
   },
   {
    "duration": 66,
    "start_time": "2022-06-21T10:38:54.545Z"
   },
   {
    "duration": 1034,
    "start_time": "2022-06-21T10:38:54.673Z"
   },
   {
    "duration": 1262,
    "start_time": "2022-06-21T14:37:04.498Z"
   },
   {
    "duration": 488,
    "start_time": "2022-06-21T14:37:06.558Z"
   },
   {
    "duration": 11,
    "start_time": "2022-06-21T14:37:07.838Z"
   },
   {
    "duration": 7,
    "start_time": "2022-06-21T14:37:08.438Z"
   },
   {
    "duration": 4,
    "start_time": "2022-06-21T14:37:09.100Z"
   },
   {
    "duration": 3,
    "start_time": "2022-06-21T14:37:09.699Z"
   },
   {
    "duration": 11,
    "start_time": "2022-06-21T14:37:10.638Z"
   },
   {
    "duration": 15,
    "start_time": "2022-06-21T14:37:12.638Z"
   },
   {
    "duration": 18,
    "start_time": "2022-06-21T14:37:14.538Z"
   },
   {
    "duration": 7,
    "start_time": "2022-06-21T14:37:15.278Z"
   },
   {
    "duration": 22,
    "start_time": "2022-06-21T14:37:15.978Z"
   },
   {
    "duration": 22,
    "start_time": "2022-06-21T14:37:16.632Z"
   },
   {
    "duration": 7,
    "start_time": "2022-06-21T14:37:18.289Z"
   },
   {
    "duration": 14,
    "start_time": "2022-06-21T14:37:19.098Z"
   },
   {
    "duration": 15,
    "start_time": "2022-06-21T14:37:19.819Z"
   },
   {
    "duration": 31,
    "start_time": "2022-06-21T14:37:20.578Z"
   },
   {
    "duration": 12,
    "start_time": "2022-06-21T14:37:21.278Z"
   },
   {
    "duration": 8,
    "start_time": "2022-06-21T14:37:21.929Z"
   },
   {
    "duration": 7,
    "start_time": "2022-06-21T14:37:23.870Z"
   },
   {
    "duration": 31,
    "start_time": "2022-06-21T14:37:24.498Z"
   },
   {
    "duration": 4,
    "start_time": "2022-06-21T14:37:27.419Z"
   },
   {
    "duration": 4,
    "start_time": "2022-06-21T14:37:28.047Z"
   },
   {
    "duration": 20,
    "start_time": "2022-06-21T14:37:29.478Z"
   },
   {
    "duration": 14,
    "start_time": "2022-06-21T14:37:30.890Z"
   },
   {
    "duration": 267,
    "start_time": "2022-06-21T14:37:34.606Z"
   },
   {
    "duration": 4,
    "start_time": "2022-06-21T14:37:40.864Z"
   },
   {
    "duration": 16,
    "start_time": "2022-06-21T14:37:41.864Z"
   },
   {
    "duration": 16,
    "start_time": "2022-06-21T14:37:42.509Z"
   },
   {
    "duration": 34,
    "start_time": "2022-06-21T14:37:45.156Z"
   },
   {
    "duration": 24,
    "start_time": "2022-06-21T14:37:46.087Z"
   },
   {
    "duration": 467,
    "start_time": "2022-06-21T14:37:48.967Z"
   },
   {
    "duration": 368,
    "start_time": "2022-06-21T14:37:56.096Z"
   },
   {
    "duration": 718,
    "start_time": "2022-06-21T14:38:13.608Z"
   },
   {
    "duration": 15,
    "start_time": "2022-06-21T14:38:17.752Z"
   },
   {
    "duration": 15,
    "start_time": "2022-06-21T14:38:18.488Z"
   },
   {
    "duration": 10,
    "start_time": "2022-06-21T14:38:22.568Z"
   },
   {
    "duration": 10,
    "start_time": "2022-06-21T14:38:23.418Z"
   },
   {
    "duration": 5,
    "start_time": "2022-06-21T14:38:24.428Z"
   },
   {
    "duration": 49,
    "start_time": "2022-06-21T14:38:25.567Z"
   },
   {
    "duration": 118,
    "start_time": "2022-06-21T14:38:26.359Z"
   },
   {
    "duration": 37,
    "start_time": "2022-06-21T14:38:28.079Z"
   },
   {
    "duration": 6,
    "start_time": "2022-06-21T14:38:28.764Z"
   },
   {
    "duration": 5,
    "start_time": "2022-06-21T14:38:29.608Z"
   },
   {
    "duration": 83,
    "start_time": "2022-06-21T14:38:30.251Z"
   },
   {
    "duration": 1134,
    "start_time": "2022-06-21T14:38:31.188Z"
   },
   {
    "duration": 94,
    "start_time": "2022-06-21T14:38:32.324Z"
   },
   {
    "duration": 1096,
    "start_time": "2022-06-21T14:38:32.888Z"
   },
   {
    "duration": 40,
    "start_time": "2022-06-21T14:38:40.968Z"
   },
   {
    "duration": 181,
    "start_time": "2022-06-21T14:38:46.488Z"
   },
   {
    "duration": 12,
    "start_time": "2022-06-21T14:39:02.296Z"
   },
   {
    "duration": 126,
    "start_time": "2022-06-21T14:39:40.604Z"
   },
   {
    "duration": 12,
    "start_time": "2022-06-21T14:40:01.253Z"
   },
   {
    "duration": 40,
    "start_time": "2022-06-21T14:41:45.692Z"
   },
   {
    "duration": 12,
    "start_time": "2022-06-21T14:41:52.892Z"
   },
   {
    "duration": 163,
    "start_time": "2022-06-21T14:41:55.194Z"
   },
   {
    "duration": 257,
    "start_time": "2022-06-21T14:42:27.279Z"
   },
   {
    "duration": 542,
    "start_time": "2022-06-21T14:42:36.459Z"
   },
   {
    "duration": 500,
    "start_time": "2022-06-21T14:42:40.335Z"
   },
   {
    "duration": 233,
    "start_time": "2022-06-21T14:42:44.560Z"
   },
   {
    "duration": 39,
    "start_time": "2022-06-21T14:43:31.592Z"
   },
   {
    "duration": 173,
    "start_time": "2022-06-21T14:43:37.639Z"
   },
   {
    "duration": 143,
    "start_time": "2022-06-21T14:43:48.731Z"
   },
   {
    "duration": 196,
    "start_time": "2022-06-21T14:44:08.011Z"
   },
   {
    "duration": 17,
    "start_time": "2022-06-21T14:50:10.539Z"
   },
   {
    "duration": 13,
    "start_time": "2022-06-21T14:50:34.359Z"
   },
   {
    "duration": 12,
    "start_time": "2022-06-21T14:50:37.258Z"
   },
   {
    "duration": 14,
    "start_time": "2022-06-21T14:52:02.243Z"
   },
   {
    "duration": 106,
    "start_time": "2022-06-21T14:52:21.740Z"
   },
   {
    "duration": 16,
    "start_time": "2022-06-21T14:52:25.396Z"
   },
   {
    "duration": 41,
    "start_time": "2022-06-21T14:52:35.029Z"
   },
   {
    "duration": 17,
    "start_time": "2022-06-21T14:52:38.180Z"
   },
   {
    "duration": 7,
    "start_time": "2022-06-21T14:53:06.352Z"
   },
   {
    "duration": 15,
    "start_time": "2022-06-21T14:53:20.120Z"
   },
   {
    "duration": 13,
    "start_time": "2022-06-21T14:55:21.908Z"
   },
   {
    "duration": 13,
    "start_time": "2022-06-21T14:55:44.906Z"
   },
   {
    "duration": 21,
    "start_time": "2022-06-21T14:57:35.718Z"
   },
   {
    "duration": 4,
    "start_time": "2022-06-21T14:57:46.919Z"
   },
   {
    "duration": 14,
    "start_time": "2022-06-21T14:57:50.959Z"
   },
   {
    "duration": 247,
    "start_time": "2022-06-21T14:58:00.612Z"
   },
   {
    "duration": 19,
    "start_time": "2022-06-21T14:58:30.882Z"
   },
   {
    "duration": 24,
    "start_time": "2022-06-21T14:58:38.578Z"
   },
   {
    "duration": 13,
    "start_time": "2022-06-21T14:58:50.419Z"
   },
   {
    "duration": 365,
    "start_time": "2022-06-21T14:58:57.641Z"
   },
   {
    "duration": 51,
    "start_time": "2022-06-21T14:59:06.752Z"
   },
   {
    "duration": 235,
    "start_time": "2022-06-21T14:59:07.898Z"
   },
   {
    "duration": 18,
    "start_time": "2022-06-21T15:00:46.858Z"
   },
   {
    "duration": 10,
    "start_time": "2022-06-21T15:01:45.299Z"
   },
   {
    "duration": 15,
    "start_time": "2022-06-21T15:01:46.098Z"
   },
   {
    "duration": 6,
    "start_time": "2022-06-21T15:04:57.006Z"
   },
   {
    "duration": 32,
    "start_time": "2022-06-21T15:04:57.698Z"
   },
   {
    "duration": 16,
    "start_time": "2022-06-21T15:04:58.552Z"
   },
   {
    "duration": 8,
    "start_time": "2022-06-21T15:05:01.818Z"
   },
   {
    "duration": 40,
    "start_time": "2022-06-21T15:05:12.207Z"
   },
   {
    "duration": 33,
    "start_time": "2022-06-21T15:05:15.207Z"
   },
   {
    "duration": 7,
    "start_time": "2022-06-21T15:05:16.467Z"
   },
   {
    "duration": 5,
    "start_time": "2022-06-21T15:05:33.526Z"
   },
   {
    "duration": 42,
    "start_time": "2022-06-21T15:07:22.812Z"
   },
   {
    "duration": 30,
    "start_time": "2022-06-21T15:07:49.520Z"
   },
   {
    "duration": 5,
    "start_time": "2022-06-21T15:07:50.312Z"
   },
   {
    "duration": 13,
    "start_time": "2022-06-21T15:08:58.097Z"
   },
   {
    "duration": 12,
    "start_time": "2022-06-21T15:23:07.286Z"
   },
   {
    "duration": 17,
    "start_time": "2022-06-21T15:23:25.968Z"
   },
   {
    "duration": 124,
    "start_time": "2022-06-21T15:25:46.275Z"
   },
   {
    "duration": 331,
    "start_time": "2022-06-21T15:25:51.080Z"
   },
   {
    "duration": 1132,
    "start_time": "2022-06-21T15:30:37.768Z"
   },
   {
    "duration": 356,
    "start_time": "2022-06-21T15:30:38.904Z"
   },
   {
    "duration": 12,
    "start_time": "2022-06-21T15:30:39.262Z"
   },
   {
    "duration": 7,
    "start_time": "2022-06-21T15:30:39.276Z"
   },
   {
    "duration": 7,
    "start_time": "2022-06-21T15:30:39.286Z"
   },
   {
    "duration": 8,
    "start_time": "2022-06-21T15:30:39.295Z"
   },
   {
    "duration": 13,
    "start_time": "2022-06-21T15:30:39.305Z"
   },
   {
    "duration": 18,
    "start_time": "2022-06-21T15:30:39.320Z"
   },
   {
    "duration": 32,
    "start_time": "2022-06-21T15:30:39.339Z"
   },
   {
    "duration": 17,
    "start_time": "2022-06-21T15:30:39.373Z"
   },
   {
    "duration": 34,
    "start_time": "2022-06-21T15:30:39.392Z"
   },
   {
    "duration": 22,
    "start_time": "2022-06-21T15:30:39.428Z"
   },
   {
    "duration": 17,
    "start_time": "2022-06-21T15:30:39.451Z"
   },
   {
    "duration": 15,
    "start_time": "2022-06-21T15:30:39.471Z"
   },
   {
    "duration": 16,
    "start_time": "2022-06-21T15:30:39.487Z"
   },
   {
    "duration": 34,
    "start_time": "2022-06-21T15:30:39.504Z"
   },
   {
    "duration": 29,
    "start_time": "2022-06-21T15:30:39.540Z"
   },
   {
    "duration": 9,
    "start_time": "2022-06-21T15:30:39.571Z"
   },
   {
    "duration": 11,
    "start_time": "2022-06-21T15:30:39.581Z"
   },
   {
    "duration": 37,
    "start_time": "2022-06-21T15:30:39.594Z"
   },
   {
    "duration": 5,
    "start_time": "2022-06-21T15:30:39.632Z"
   },
   {
    "duration": 30,
    "start_time": "2022-06-21T15:30:39.638Z"
   },
   {
    "duration": 27,
    "start_time": "2022-06-21T15:30:39.670Z"
   },
   {
    "duration": 15,
    "start_time": "2022-06-21T15:30:39.699Z"
   },
   {
    "duration": 287,
    "start_time": "2022-06-21T15:30:39.716Z"
   },
   {
    "duration": 4,
    "start_time": "2022-06-21T15:30:40.005Z"
   },
   {
    "duration": 20,
    "start_time": "2022-06-21T15:30:40.010Z"
   },
   {
    "duration": 18,
    "start_time": "2022-06-21T15:30:40.032Z"
   },
   {
    "duration": 47,
    "start_time": "2022-06-21T15:30:40.052Z"
   },
   {
    "duration": 23,
    "start_time": "2022-06-21T15:30:40.101Z"
   },
   {
    "duration": 386,
    "start_time": "2022-06-21T15:30:40.125Z"
   },
   {
    "duration": 744,
    "start_time": "2022-06-21T15:30:40.512Z"
   },
   {
    "duration": 17,
    "start_time": "2022-06-21T15:30:41.257Z"
   },
   {
    "duration": 16,
    "start_time": "2022-06-21T15:30:41.276Z"
   },
   {
    "duration": 8,
    "start_time": "2022-06-21T15:30:41.294Z"
   },
   {
    "duration": 8,
    "start_time": "2022-06-21T15:30:41.304Z"
   },
   {
    "duration": 5,
    "start_time": "2022-06-21T15:30:41.313Z"
   },
   {
    "duration": 71,
    "start_time": "2022-06-21T15:30:41.319Z"
   },
   {
    "duration": 48,
    "start_time": "2022-06-21T15:30:41.392Z"
   },
   {
    "duration": 58,
    "start_time": "2022-06-21T15:30:41.442Z"
   },
   {
    "duration": 6,
    "start_time": "2022-06-21T15:30:41.505Z"
   },
   {
    "duration": 18,
    "start_time": "2022-06-21T15:30:41.513Z"
   },
   {
    "duration": 70,
    "start_time": "2022-06-21T15:30:41.533Z"
   },
   {
    "duration": 1149,
    "start_time": "2022-06-21T15:30:41.605Z"
   },
   {
    "duration": 66,
    "start_time": "2022-06-21T15:30:42.755Z"
   },
   {
    "duration": 1084,
    "start_time": "2022-06-21T15:30:42.823Z"
   },
   {
    "duration": 40,
    "start_time": "2022-06-21T15:30:43.909Z"
   },
   {
    "duration": 30,
    "start_time": "2022-06-21T15:30:43.951Z"
   },
   {
    "duration": 219,
    "start_time": "2022-06-21T15:30:43.983Z"
   },
   {
    "duration": 41,
    "start_time": "2022-06-21T15:30:44.204Z"
   },
   {
    "duration": 230,
    "start_time": "2022-06-21T15:30:44.247Z"
   },
   {
    "duration": 12,
    "start_time": "2022-06-21T15:30:44.480Z"
   },
   {
    "duration": 16,
    "start_time": "2022-06-21T15:30:44.494Z"
   },
   {
    "duration": 16,
    "start_time": "2022-06-21T15:30:44.511Z"
   },
   {
    "duration": 6,
    "start_time": "2022-06-21T15:30:44.529Z"
   },
   {
    "duration": 46,
    "start_time": "2022-06-21T15:30:44.537Z"
   },
   {
    "duration": 16,
    "start_time": "2022-06-21T15:30:44.585Z"
   },
   {
    "duration": 11,
    "start_time": "2022-06-21T15:30:44.603Z"
   },
   {
    "duration": 77,
    "start_time": "2022-06-21T15:30:44.616Z"
   },
   {
    "duration": 36,
    "start_time": "2022-06-21T15:30:44.694Z"
   },
   {
    "duration": 6,
    "start_time": "2022-06-21T15:30:44.731Z"
   },
   {
    "duration": 11,
    "start_time": "2022-06-21T15:46:40.382Z"
   },
   {
    "duration": 25,
    "start_time": "2022-06-21T15:46:58.280Z"
   },
   {
    "duration": 26,
    "start_time": "2022-06-21T15:47:08.312Z"
   },
   {
    "duration": 110,
    "start_time": "2022-06-21T15:49:44.232Z"
   },
   {
    "duration": 22,
    "start_time": "2022-06-21T15:49:50.165Z"
   },
   {
    "duration": 25,
    "start_time": "2022-06-21T15:49:58.274Z"
   },
   {
    "duration": 26,
    "start_time": "2022-06-21T15:50:14.112Z"
   },
   {
    "duration": 35,
    "start_time": "2022-06-21T15:50:25.912Z"
   },
   {
    "duration": 156,
    "start_time": "2022-06-21T15:51:01.712Z"
   },
   {
    "duration": 19,
    "start_time": "2022-06-21T15:52:40.160Z"
   },
   {
    "duration": 1185,
    "start_time": "2022-06-21T15:55:13.604Z"
   },
   {
    "duration": 11,
    "start_time": "2022-06-21T15:55:29.520Z"
   },
   {
    "duration": 13,
    "start_time": "2022-06-21T15:56:01.573Z"
   },
   {
    "duration": 5,
    "start_time": "2022-06-21T15:56:13.624Z"
   },
   {
    "duration": 28,
    "start_time": "2022-06-21T15:56:22.893Z"
   },
   {
    "duration": 14,
    "start_time": "2022-06-21T15:57:15.064Z"
   },
   {
    "duration": 14,
    "start_time": "2022-06-21T15:57:26.896Z"
   },
   {
    "duration": 21,
    "start_time": "2022-06-21T16:00:19.670Z"
   },
   {
    "duration": 4,
    "start_time": "2022-06-21T16:02:08.171Z"
   },
   {
    "duration": 59,
    "start_time": "2022-06-21T16:02:14.417Z"
   },
   {
    "duration": 21,
    "start_time": "2022-06-21T16:02:33.170Z"
   },
   {
    "duration": 18,
    "start_time": "2022-06-21T16:02:56.018Z"
   },
   {
    "duration": 13,
    "start_time": "2022-06-21T16:04:09.973Z"
   },
   {
    "duration": 21,
    "start_time": "2022-06-21T16:04:42.798Z"
   },
   {
    "duration": 13,
    "start_time": "2022-06-21T16:05:19.497Z"
   },
   {
    "duration": 17,
    "start_time": "2022-06-21T16:05:39.298Z"
   },
   {
    "duration": 16,
    "start_time": "2022-06-21T16:08:08.086Z"
   },
   {
    "duration": 8,
    "start_time": "2022-06-21T16:08:49.075Z"
   },
   {
    "duration": 20,
    "start_time": "2022-06-21T16:08:58.869Z"
   },
   {
    "duration": 14,
    "start_time": "2022-06-21T16:09:57.325Z"
   },
   {
    "duration": 8,
    "start_time": "2022-06-21T16:10:08.825Z"
   },
   {
    "duration": 20,
    "start_time": "2022-06-21T16:10:16.004Z"
   },
   {
    "duration": 15,
    "start_time": "2022-06-21T16:10:27.086Z"
   },
   {
    "duration": 10,
    "start_time": "2022-06-21T16:10:43.204Z"
   },
   {
    "duration": 29,
    "start_time": "2022-06-21T16:11:33.612Z"
   },
   {
    "duration": 16,
    "start_time": "2022-06-21T16:14:03.686Z"
   },
   {
    "duration": 13,
    "start_time": "2022-06-21T16:15:58.635Z"
   },
   {
    "duration": 9,
    "start_time": "2022-06-21T16:16:18.591Z"
   },
   {
    "duration": 22,
    "start_time": "2022-06-21T16:17:01.294Z"
   },
   {
    "duration": 10,
    "start_time": "2022-06-21T16:18:24.397Z"
   },
   {
    "duration": 67,
    "start_time": "2022-06-21T16:18:35.433Z"
   },
   {
    "duration": 10,
    "start_time": "2022-06-21T16:18:54.495Z"
   },
   {
    "duration": 12,
    "start_time": "2022-06-21T16:19:04.675Z"
   },
   {
    "duration": 27,
    "start_time": "2022-06-21T16:20:14.833Z"
   },
   {
    "duration": 10,
    "start_time": "2022-06-21T16:20:56.632Z"
   },
   {
    "duration": 20,
    "start_time": "2022-06-21T16:24:24.542Z"
   },
   {
    "duration": 813,
    "start_time": "2022-06-21T16:26:05.621Z"
   },
   {
    "duration": 14,
    "start_time": "2022-06-21T16:26:19.017Z"
   },
   {
    "duration": 26,
    "start_time": "2022-06-21T16:28:02.873Z"
   },
   {
    "duration": 11,
    "start_time": "2022-06-21T16:28:36.940Z"
   },
   {
    "duration": 10,
    "start_time": "2022-06-21T16:28:45.742Z"
   },
   {
    "duration": 46,
    "start_time": "2022-06-21T16:31:21.374Z"
   },
   {
    "duration": 1115,
    "start_time": "2022-06-21T16:32:20.490Z"
   },
   {
    "duration": 389,
    "start_time": "2022-06-21T16:32:21.607Z"
   },
   {
    "duration": 10,
    "start_time": "2022-06-21T16:32:21.998Z"
   },
   {
    "duration": 18,
    "start_time": "2022-06-21T16:32:22.010Z"
   },
   {
    "duration": 34,
    "start_time": "2022-06-21T16:32:22.030Z"
   },
   {
    "duration": 25,
    "start_time": "2022-06-21T16:32:22.065Z"
   },
   {
    "duration": 16,
    "start_time": "2022-06-21T16:32:22.092Z"
   },
   {
    "duration": 37,
    "start_time": "2022-06-21T16:32:22.109Z"
   },
   {
    "duration": 31,
    "start_time": "2022-06-21T16:32:22.148Z"
   },
   {
    "duration": 29,
    "start_time": "2022-06-21T16:32:22.181Z"
   },
   {
    "duration": 35,
    "start_time": "2022-06-21T16:32:22.212Z"
   },
   {
    "duration": 26,
    "start_time": "2022-06-21T16:32:22.249Z"
   },
   {
    "duration": 7,
    "start_time": "2022-06-21T16:32:22.276Z"
   },
   {
    "duration": 23,
    "start_time": "2022-06-21T16:32:22.286Z"
   },
   {
    "duration": 32,
    "start_time": "2022-06-21T16:32:22.310Z"
   },
   {
    "duration": 60,
    "start_time": "2022-06-21T16:32:22.343Z"
   },
   {
    "duration": 41,
    "start_time": "2022-06-21T16:32:22.405Z"
   },
   {
    "duration": 24,
    "start_time": "2022-06-21T16:32:22.447Z"
   },
   {
    "duration": 16,
    "start_time": "2022-06-21T16:32:22.473Z"
   },
   {
    "duration": 51,
    "start_time": "2022-06-21T16:32:22.490Z"
   },
   {
    "duration": 5,
    "start_time": "2022-06-21T16:32:22.543Z"
   },
   {
    "duration": 25,
    "start_time": "2022-06-21T16:32:22.549Z"
   },
   {
    "duration": 43,
    "start_time": "2022-06-21T16:32:22.576Z"
   },
   {
    "duration": 17,
    "start_time": "2022-06-21T16:32:22.621Z"
   },
   {
    "duration": 268,
    "start_time": "2022-06-21T16:32:22.639Z"
   },
   {
    "duration": 4,
    "start_time": "2022-06-21T16:32:22.908Z"
   },
   {
    "duration": 36,
    "start_time": "2022-06-21T16:32:22.913Z"
   },
   {
    "duration": 13,
    "start_time": "2022-06-21T16:32:22.950Z"
   },
   {
    "duration": 46,
    "start_time": "2022-06-21T16:32:22.965Z"
   },
   {
    "duration": 23,
    "start_time": "2022-06-21T16:32:23.013Z"
   },
   {
    "duration": 373,
    "start_time": "2022-06-21T16:32:23.037Z"
   },
   {
    "duration": 719,
    "start_time": "2022-06-21T16:32:23.411Z"
   },
   {
    "duration": 15,
    "start_time": "2022-06-21T16:32:24.131Z"
   },
   {
    "duration": 29,
    "start_time": "2022-06-21T16:32:24.148Z"
   },
   {
    "duration": 7,
    "start_time": "2022-06-21T16:32:24.179Z"
   },
   {
    "duration": 8,
    "start_time": "2022-06-21T16:32:24.187Z"
   },
   {
    "duration": 4,
    "start_time": "2022-06-21T16:32:24.196Z"
   },
   {
    "duration": 70,
    "start_time": "2022-06-21T16:32:24.202Z"
   },
   {
    "duration": 43,
    "start_time": "2022-06-21T16:32:24.274Z"
   },
   {
    "duration": 54,
    "start_time": "2022-06-21T16:32:24.319Z"
   },
   {
    "duration": 6,
    "start_time": "2022-06-21T16:32:24.378Z"
   },
   {
    "duration": 7,
    "start_time": "2022-06-21T16:32:24.386Z"
   },
   {
    "duration": 57,
    "start_time": "2022-06-21T16:32:24.395Z"
   },
   {
    "duration": 1181,
    "start_time": "2022-06-21T16:32:24.468Z"
   },
   {
    "duration": 66,
    "start_time": "2022-06-21T16:32:25.651Z"
   },
   {
    "duration": 1068,
    "start_time": "2022-06-21T16:32:25.718Z"
   },
   {
    "duration": 38,
    "start_time": "2022-06-21T16:32:26.788Z"
   },
   {
    "duration": 15,
    "start_time": "2022-06-21T16:32:26.827Z"
   },
   {
    "duration": 258,
    "start_time": "2022-06-21T16:32:26.844Z"
   },
   {
    "duration": 42,
    "start_time": "2022-06-21T16:32:27.104Z"
   },
   {
    "duration": 231,
    "start_time": "2022-06-21T16:32:27.148Z"
   },
   {
    "duration": 13,
    "start_time": "2022-06-21T16:32:27.380Z"
   },
   {
    "duration": 16,
    "start_time": "2022-06-21T16:32:27.395Z"
   },
   {
    "duration": 25,
    "start_time": "2022-06-21T16:32:27.413Z"
   },
   {
    "duration": 52,
    "start_time": "2022-06-21T16:32:27.440Z"
   },
   {
    "duration": 10,
    "start_time": "2022-06-21T16:32:27.493Z"
   },
   {
    "duration": 33,
    "start_time": "2022-06-21T16:32:27.505Z"
   },
   {
    "duration": 33,
    "start_time": "2022-06-21T16:32:27.540Z"
   },
   {
    "duration": 24,
    "start_time": "2022-06-21T16:32:27.576Z"
   },
   {
    "duration": 11,
    "start_time": "2022-06-21T16:32:27.602Z"
   },
   {
    "duration": 29,
    "start_time": "2022-06-21T16:32:27.615Z"
   },
   {
    "duration": 30,
    "start_time": "2022-06-21T16:32:27.645Z"
   },
   {
    "duration": 5,
    "start_time": "2022-06-21T16:32:27.677Z"
   },
   {
    "duration": 33,
    "start_time": "2022-06-21T16:32:27.684Z"
   },
   {
    "duration": 16,
    "start_time": "2022-06-21T16:32:27.719Z"
   },
   {
    "duration": 7,
    "start_time": "2022-06-21T16:32:27.736Z"
   },
   {
    "duration": 41,
    "start_time": "2022-06-21T16:32:27.767Z"
   },
   {
    "duration": 59,
    "start_time": "2022-06-21T16:32:27.809Z"
   },
   {
    "duration": 6,
    "start_time": "2022-06-21T16:32:27.870Z"
   },
   {
    "duration": 1353,
    "start_time": "2022-06-22T13:58:49.636Z"
   },
   {
    "duration": 300,
    "start_time": "2022-06-22T13:58:50.992Z"
   },
   {
    "duration": 11,
    "start_time": "2022-06-22T13:58:51.294Z"
   },
   {
    "duration": 22,
    "start_time": "2022-06-22T13:58:51.306Z"
   },
   {
    "duration": 4,
    "start_time": "2022-06-22T13:58:51.336Z"
   },
   {
    "duration": 11,
    "start_time": "2022-06-22T13:58:51.342Z"
   },
   {
    "duration": 18,
    "start_time": "2022-06-22T13:58:51.355Z"
   },
   {
    "duration": 17,
    "start_time": "2022-06-22T13:58:51.375Z"
   },
   {
    "duration": 19,
    "start_time": "2022-06-22T13:58:51.394Z"
   },
   {
    "duration": 18,
    "start_time": "2022-06-22T13:58:51.422Z"
   },
   {
    "duration": 30,
    "start_time": "2022-06-22T13:58:51.442Z"
   },
   {
    "duration": 20,
    "start_time": "2022-06-22T13:58:51.474Z"
   },
   {
    "duration": 5,
    "start_time": "2022-06-22T13:58:51.496Z"
   },
   {
    "duration": 29,
    "start_time": "2022-06-22T13:58:51.503Z"
   },
   {
    "duration": 15,
    "start_time": "2022-06-22T13:58:51.539Z"
   },
   {
    "duration": 32,
    "start_time": "2022-06-22T13:58:51.556Z"
   },
   {
    "duration": 10,
    "start_time": "2022-06-22T13:58:51.590Z"
   },
   {
    "duration": 38,
    "start_time": "2022-06-22T13:58:51.602Z"
   },
   {
    "duration": 8,
    "start_time": "2022-06-22T13:58:51.642Z"
   },
   {
    "duration": 37,
    "start_time": "2022-06-22T13:58:51.652Z"
   },
   {
    "duration": 5,
    "start_time": "2022-06-22T13:58:51.691Z"
   },
   {
    "duration": 11,
    "start_time": "2022-06-22T13:58:51.697Z"
   },
   {
    "duration": 27,
    "start_time": "2022-06-22T13:58:51.723Z"
   },
   {
    "duration": 16,
    "start_time": "2022-06-22T13:58:51.751Z"
   },
   {
    "duration": 308,
    "start_time": "2022-06-22T13:58:51.768Z"
   },
   {
    "duration": 3,
    "start_time": "2022-06-22T13:58:52.078Z"
   },
   {
    "duration": 18,
    "start_time": "2022-06-22T13:58:52.082Z"
   },
   {
    "duration": 26,
    "start_time": "2022-06-22T13:58:52.104Z"
   },
   {
    "duration": 38,
    "start_time": "2022-06-22T13:58:52.135Z"
   },
   {
    "duration": 24,
    "start_time": "2022-06-22T13:58:52.175Z"
   },
   {
    "duration": 481,
    "start_time": "2022-06-22T13:58:52.201Z"
   },
   {
    "duration": 856,
    "start_time": "2022-06-22T13:58:52.684Z"
   },
   {
    "duration": 16,
    "start_time": "2022-06-22T13:58:53.542Z"
   },
   {
    "duration": 15,
    "start_time": "2022-06-22T13:58:53.559Z"
   },
   {
    "duration": 8,
    "start_time": "2022-06-22T13:58:53.575Z"
   },
   {
    "duration": 8,
    "start_time": "2022-06-22T13:58:53.585Z"
   },
   {
    "duration": 30,
    "start_time": "2022-06-22T13:58:53.594Z"
   },
   {
    "duration": 59,
    "start_time": "2022-06-22T13:58:53.625Z"
   },
   {
    "duration": 54,
    "start_time": "2022-06-22T13:58:53.685Z"
   },
   {
    "duration": 39,
    "start_time": "2022-06-22T13:58:53.741Z"
   },
   {
    "duration": 5,
    "start_time": "2022-06-22T13:58:53.782Z"
   },
   {
    "duration": 8,
    "start_time": "2022-06-22T13:58:53.789Z"
   },
   {
    "duration": 82,
    "start_time": "2022-06-22T13:58:53.798Z"
   },
   {
    "duration": 1317,
    "start_time": "2022-06-22T13:58:53.882Z"
   },
   {
    "duration": 75,
    "start_time": "2022-06-22T13:58:55.201Z"
   },
   {
    "duration": 1140,
    "start_time": "2022-06-22T13:58:55.279Z"
   },
   {
    "duration": 46,
    "start_time": "2022-06-22T13:58:56.421Z"
   },
   {
    "duration": 16,
    "start_time": "2022-06-22T13:58:56.469Z"
   },
   {
    "duration": 253,
    "start_time": "2022-06-22T13:58:56.487Z"
   },
   {
    "duration": 42,
    "start_time": "2022-06-22T13:58:56.742Z"
   },
   {
    "duration": 245,
    "start_time": "2022-06-22T13:58:56.786Z"
   },
   {
    "duration": 13,
    "start_time": "2022-06-22T13:58:57.039Z"
   },
   {
    "duration": 15,
    "start_time": "2022-06-22T13:58:57.053Z"
   },
   {
    "duration": 24,
    "start_time": "2022-06-22T13:58:57.069Z"
   },
   {
    "duration": 42,
    "start_time": "2022-06-22T13:58:57.095Z"
   },
   {
    "duration": 11,
    "start_time": "2022-06-22T13:58:57.139Z"
   },
   {
    "duration": 26,
    "start_time": "2022-06-22T13:58:57.152Z"
   },
   {
    "duration": 8,
    "start_time": "2022-06-22T13:58:57.180Z"
   },
   {
    "duration": 45,
    "start_time": "2022-06-22T13:58:57.190Z"
   },
   {
    "duration": 12,
    "start_time": "2022-06-22T13:58:57.238Z"
   },
   {
    "duration": 25,
    "start_time": "2022-06-22T13:58:57.252Z"
   },
   {
    "duration": 9,
    "start_time": "2022-06-22T13:58:57.278Z"
   },
   {
    "duration": 13,
    "start_time": "2022-06-22T13:58:57.288Z"
   },
   {
    "duration": 49,
    "start_time": "2022-06-22T13:58:57.303Z"
   },
   {
    "duration": 14,
    "start_time": "2022-06-22T13:58:57.355Z"
   },
   {
    "duration": 8,
    "start_time": "2022-06-22T13:58:57.371Z"
   },
   {
    "duration": 75,
    "start_time": "2022-06-22T13:58:57.381Z"
   },
   {
    "duration": 32,
    "start_time": "2022-06-22T13:58:57.458Z"
   },
   {
    "duration": 6,
    "start_time": "2022-06-22T13:58:57.492Z"
   },
   {
    "duration": 1355,
    "start_time": "2022-06-22T15:04:38.869Z"
   },
   {
    "duration": 442,
    "start_time": "2022-06-22T15:04:40.226Z"
   },
   {
    "duration": 12,
    "start_time": "2022-06-22T15:04:40.671Z"
   },
   {
    "duration": 8,
    "start_time": "2022-06-22T15:04:40.686Z"
   },
   {
    "duration": 11,
    "start_time": "2022-06-22T15:04:40.696Z"
   },
   {
    "duration": 7,
    "start_time": "2022-06-22T15:04:40.709Z"
   },
   {
    "duration": 29,
    "start_time": "2022-06-22T15:04:40.718Z"
   },
   {
    "duration": 28,
    "start_time": "2022-06-22T15:04:40.749Z"
   },
   {
    "duration": 18,
    "start_time": "2022-06-22T15:04:40.779Z"
   },
   {
    "duration": 10,
    "start_time": "2022-06-22T15:04:40.799Z"
   },
   {
    "duration": 35,
    "start_time": "2022-06-22T15:04:40.811Z"
   },
   {
    "duration": 26,
    "start_time": "2022-06-22T15:04:40.847Z"
   },
   {
    "duration": 6,
    "start_time": "2022-06-22T15:04:40.875Z"
   },
   {
    "duration": 18,
    "start_time": "2022-06-22T15:04:40.882Z"
   },
   {
    "duration": 48,
    "start_time": "2022-06-22T15:04:40.901Z"
   },
   {
    "duration": 36,
    "start_time": "2022-06-22T15:04:40.953Z"
   },
   {
    "duration": 11,
    "start_time": "2022-06-22T15:04:40.991Z"
   },
   {
    "duration": 11,
    "start_time": "2022-06-22T15:04:41.004Z"
   },
   {
    "duration": 28,
    "start_time": "2022-06-22T15:04:41.017Z"
   },
   {
    "duration": 36,
    "start_time": "2022-06-22T15:04:41.050Z"
   },
   {
    "duration": 5,
    "start_time": "2022-06-22T15:04:41.087Z"
   },
   {
    "duration": 10,
    "start_time": "2022-06-22T15:04:41.093Z"
   },
   {
    "duration": 24,
    "start_time": "2022-06-22T15:04:41.105Z"
   },
   {
    "duration": 31,
    "start_time": "2022-06-22T15:04:41.130Z"
   },
   {
    "duration": 320,
    "start_time": "2022-06-22T15:04:41.163Z"
   },
   {
    "duration": 4,
    "start_time": "2022-06-22T15:04:41.485Z"
   },
   {
    "duration": 22,
    "start_time": "2022-06-22T15:04:41.491Z"
   },
   {
    "duration": 13,
    "start_time": "2022-06-22T15:04:41.517Z"
   },
   {
    "duration": 72,
    "start_time": "2022-06-22T15:04:41.542Z"
   },
   {
    "duration": 40,
    "start_time": "2022-06-22T15:04:41.616Z"
   },
   {
    "duration": 454,
    "start_time": "2022-06-22T15:04:41.658Z"
   },
   {
    "duration": 954,
    "start_time": "2022-06-22T15:04:42.114Z"
   },
   {
    "duration": 16,
    "start_time": "2022-06-22T15:04:43.069Z"
   },
   {
    "duration": 16,
    "start_time": "2022-06-22T15:04:43.087Z"
   },
   {
    "duration": 9,
    "start_time": "2022-06-22T15:04:43.105Z"
   },
   {
    "duration": 11,
    "start_time": "2022-06-22T15:04:43.141Z"
   },
   {
    "duration": 10,
    "start_time": "2022-06-22T15:04:43.160Z"
   },
   {
    "duration": 50,
    "start_time": "2022-06-22T15:04:43.171Z"
   },
   {
    "duration": 84,
    "start_time": "2022-06-22T15:04:43.223Z"
   },
   {
    "duration": 72,
    "start_time": "2022-06-22T15:04:43.309Z"
   },
   {
    "duration": 8,
    "start_time": "2022-06-22T15:04:43.384Z"
   },
   {
    "duration": 22,
    "start_time": "2022-06-22T15:04:43.395Z"
   },
   {
    "duration": 91,
    "start_time": "2022-06-22T15:04:43.420Z"
   },
   {
    "duration": 1449,
    "start_time": "2022-06-22T15:04:43.513Z"
   },
   {
    "duration": 77,
    "start_time": "2022-06-22T15:04:44.963Z"
   },
   {
    "duration": 1171,
    "start_time": "2022-06-22T15:04:45.045Z"
   },
   {
    "duration": 56,
    "start_time": "2022-06-22T15:04:46.218Z"
   },
   {
    "duration": 17,
    "start_time": "2022-06-22T15:04:46.276Z"
   },
   {
    "duration": 251,
    "start_time": "2022-06-22T15:04:46.295Z"
   },
   {
    "duration": 45,
    "start_time": "2022-06-22T15:04:46.550Z"
   },
   {
    "duration": 248,
    "start_time": "2022-06-22T15:04:46.597Z"
   },
   {
    "duration": 14,
    "start_time": "2022-06-22T15:04:46.853Z"
   },
   {
    "duration": 17,
    "start_time": "2022-06-22T15:04:46.869Z"
   },
   {
    "duration": 34,
    "start_time": "2022-06-22T15:04:46.890Z"
   },
   {
    "duration": 32,
    "start_time": "2022-06-22T15:04:46.942Z"
   },
   {
    "duration": 12,
    "start_time": "2022-06-22T15:04:46.976Z"
   },
   {
    "duration": 61,
    "start_time": "2022-06-22T15:04:46.990Z"
   },
   {
    "duration": 18,
    "start_time": "2022-06-22T15:04:47.053Z"
   },
   {
    "duration": 48,
    "start_time": "2022-06-22T15:04:47.074Z"
   },
   {
    "duration": 12,
    "start_time": "2022-06-22T15:04:47.124Z"
   },
   {
    "duration": 63,
    "start_time": "2022-06-22T15:04:47.138Z"
   },
   {
    "duration": 12,
    "start_time": "2022-06-22T15:04:47.205Z"
   },
   {
    "duration": 11,
    "start_time": "2022-06-22T15:04:47.219Z"
   },
   {
    "duration": 37,
    "start_time": "2022-06-22T15:04:47.232Z"
   },
   {
    "duration": 16,
    "start_time": "2022-06-22T15:04:47.271Z"
   },
   {
    "duration": 8,
    "start_time": "2022-06-22T15:04:47.289Z"
   },
   {
    "duration": 76,
    "start_time": "2022-06-22T15:04:47.299Z"
   },
   {
    "duration": 42,
    "start_time": "2022-06-22T15:04:47.377Z"
   },
   {
    "duration": 5,
    "start_time": "2022-06-22T15:04:47.421Z"
   },
   {
    "duration": 13,
    "start_time": "2022-06-22T15:05:24.072Z"
   },
   {
    "duration": 533,
    "start_time": "2022-06-22T15:08:19.225Z"
   },
   {
    "duration": 27,
    "start_time": "2022-06-22T15:08:41.233Z"
   },
   {
    "duration": 21,
    "start_time": "2022-06-22T15:09:06.546Z"
   },
   {
    "duration": 16,
    "start_time": "2022-06-22T15:09:24.377Z"
   },
   {
    "duration": 130,
    "start_time": "2022-06-22T15:09:28.691Z"
   },
   {
    "duration": 258,
    "start_time": "2022-06-22T15:11:35.513Z"
   },
   {
    "duration": 20,
    "start_time": "2022-06-22T15:12:42.449Z"
   },
   {
    "duration": 139,
    "start_time": "2022-06-22T15:12:44.893Z"
   },
   {
    "duration": 378,
    "start_time": "2022-06-22T15:12:47.885Z"
   },
   {
    "duration": 147,
    "start_time": "2022-06-22T15:13:08.986Z"
   },
   {
    "duration": 165,
    "start_time": "2022-06-22T15:13:15.393Z"
   },
   {
    "duration": 2,
    "start_time": "2022-06-22T15:17:15.693Z"
   },
   {
    "duration": 3,
    "start_time": "2022-06-22T15:17:18.833Z"
   }
  ],
  "kernelspec": {
   "display_name": "Python 3 (ipykernel)",
   "language": "python",
   "name": "python3"
  },
  "language_info": {
   "codemirror_mode": {
    "name": "ipython",
    "version": 3
   },
   "file_extension": ".py",
   "mimetype": "text/x-python",
   "name": "python",
   "nbconvert_exporter": "python",
   "pygments_lexer": "ipython3",
   "version": "3.9.7"
  },
  "toc": {
   "base_numbering": 1,
   "nav_menu": {},
   "number_sections": true,
   "sideBar": true,
   "skip_h1_title": true,
   "title_cell": "Table of Contents",
   "title_sidebar": "Contents",
   "toc_cell": false,
   "toc_position": {},
   "toc_section_display": true,
   "toc_window_display": false
  }
 },
 "nbformat": 4,
 "nbformat_minor": 2
}
