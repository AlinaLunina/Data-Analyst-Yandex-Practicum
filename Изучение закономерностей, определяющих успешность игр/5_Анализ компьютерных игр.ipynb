{
 "cells": [
  {
   "cell_type": "markdown",
   "id": "f6918936",
   "metadata": {},
   "source": [
    "# Анализ компьютерных игр"
   ]
  },
  {
   "cell_type": "markdown",
   "id": "304585bd",
   "metadata": {},
   "source": [
    "Для анализа доступны исторические данные о продажах компьютерных игр, оценки пользователей и экспертов, жанры и платформы (например, Xbox или PlayStation). Необходимо выявить определяющие успешность игры закономерности. Это позволит сделать ставку на потенциально популярный продукт и спланировать рекламные кампании.\n",
    "\n"
   ]
  },
  {
   "cell_type": "markdown",
   "id": "43dc15d0",
   "metadata": {},
   "source": [
    "## 1. Изучение общей информации"
   ]
  },
  {
   "cell_type": "code",
   "execution_count": 1,
   "id": "d1d161de",
   "metadata": {},
   "outputs": [],
   "source": [
    "#импортируем библиотеки\n",
    "import pandas as pd\n",
    "import numpy as np\n",
    "import matplotlib.pyplot as plt\n",
    "from scipy import stats as st\n",
    "import seaborn as sns\n",
    "from scipy.stats import levene"
   ]
  },
  {
   "cell_type": "code",
   "execution_count": 2,
   "id": "b7f8ef51",
   "metadata": {},
   "outputs": [
    {
     "data": {
      "text/html": [
       "<div>\n",
       "<style scoped>\n",
       "    .dataframe tbody tr th:only-of-type {\n",
       "        vertical-align: middle;\n",
       "    }\n",
       "\n",
       "    .dataframe tbody tr th {\n",
       "        vertical-align: top;\n",
       "    }\n",
       "\n",
       "    .dataframe thead th {\n",
       "        text-align: right;\n",
       "    }\n",
       "</style>\n",
       "<table border=\"1\" class=\"dataframe\">\n",
       "  <thead>\n",
       "    <tr style=\"text-align: right;\">\n",
       "      <th></th>\n",
       "      <th>Name</th>\n",
       "      <th>Platform</th>\n",
       "      <th>Year_of_Release</th>\n",
       "      <th>Genre</th>\n",
       "      <th>NA_sales</th>\n",
       "      <th>EU_sales</th>\n",
       "      <th>JP_sales</th>\n",
       "      <th>Other_sales</th>\n",
       "      <th>Critic_Score</th>\n",
       "      <th>User_Score</th>\n",
       "      <th>Rating</th>\n",
       "    </tr>\n",
       "  </thead>\n",
       "  <tbody>\n",
       "    <tr>\n",
       "      <th>0</th>\n",
       "      <td>Wii Sports</td>\n",
       "      <td>Wii</td>\n",
       "      <td>2006.0</td>\n",
       "      <td>Sports</td>\n",
       "      <td>41.36</td>\n",
       "      <td>28.96</td>\n",
       "      <td>3.77</td>\n",
       "      <td>8.45</td>\n",
       "      <td>76.0</td>\n",
       "      <td>8</td>\n",
       "      <td>E</td>\n",
       "    </tr>\n",
       "    <tr>\n",
       "      <th>1</th>\n",
       "      <td>Super Mario Bros.</td>\n",
       "      <td>NES</td>\n",
       "      <td>1985.0</td>\n",
       "      <td>Platform</td>\n",
       "      <td>29.08</td>\n",
       "      <td>3.58</td>\n",
       "      <td>6.81</td>\n",
       "      <td>0.77</td>\n",
       "      <td>NaN</td>\n",
       "      <td>NaN</td>\n",
       "      <td>NaN</td>\n",
       "    </tr>\n",
       "    <tr>\n",
       "      <th>2</th>\n",
       "      <td>Mario Kart Wii</td>\n",
       "      <td>Wii</td>\n",
       "      <td>2008.0</td>\n",
       "      <td>Racing</td>\n",
       "      <td>15.68</td>\n",
       "      <td>12.76</td>\n",
       "      <td>3.79</td>\n",
       "      <td>3.29</td>\n",
       "      <td>82.0</td>\n",
       "      <td>8.3</td>\n",
       "      <td>E</td>\n",
       "    </tr>\n",
       "    <tr>\n",
       "      <th>3</th>\n",
       "      <td>Wii Sports Resort</td>\n",
       "      <td>Wii</td>\n",
       "      <td>2009.0</td>\n",
       "      <td>Sports</td>\n",
       "      <td>15.61</td>\n",
       "      <td>10.93</td>\n",
       "      <td>3.28</td>\n",
       "      <td>2.95</td>\n",
       "      <td>80.0</td>\n",
       "      <td>8</td>\n",
       "      <td>E</td>\n",
       "    </tr>\n",
       "    <tr>\n",
       "      <th>4</th>\n",
       "      <td>Pokemon Red/Pokemon Blue</td>\n",
       "      <td>GB</td>\n",
       "      <td>1996.0</td>\n",
       "      <td>Role-Playing</td>\n",
       "      <td>11.27</td>\n",
       "      <td>8.89</td>\n",
       "      <td>10.22</td>\n",
       "      <td>1.00</td>\n",
       "      <td>NaN</td>\n",
       "      <td>NaN</td>\n",
       "      <td>NaN</td>\n",
       "    </tr>\n",
       "  </tbody>\n",
       "</table>\n",
       "</div>"
      ],
      "text/plain": [
       "                       Name Platform  Year_of_Release         Genre  NA_sales  \\\n",
       "0                Wii Sports      Wii           2006.0        Sports     41.36   \n",
       "1         Super Mario Bros.      NES           1985.0      Platform     29.08   \n",
       "2            Mario Kart Wii      Wii           2008.0        Racing     15.68   \n",
       "3         Wii Sports Resort      Wii           2009.0        Sports     15.61   \n",
       "4  Pokemon Red/Pokemon Blue       GB           1996.0  Role-Playing     11.27   \n",
       "\n",
       "   EU_sales  JP_sales  Other_sales  Critic_Score User_Score Rating  \n",
       "0     28.96      3.77         8.45          76.0          8      E  \n",
       "1      3.58      6.81         0.77           NaN        NaN    NaN  \n",
       "2     12.76      3.79         3.29          82.0        8.3      E  \n",
       "3     10.93      3.28         2.95          80.0          8      E  \n",
       "4      8.89     10.22         1.00           NaN        NaN    NaN  "
      ]
     },
     "execution_count": 2,
     "metadata": {},
     "output_type": "execute_result"
    }
   ],
   "source": [
    "#просматриваем данные\n",
    "try:\n",
    "    data=pd.read_csv(\"C:/Users/Alina/Downloads/games.csv\")\n",
    "except:\n",
    "    #data=pd.read_csv('/datasets/games.csv.')\n",
    "    \n",
    "    #Код ревьюера\n",
    "    data=pd.read_csv('/datasets/games.csv')\n",
    "data.head()"
   ]
  },
  {
   "cell_type": "code",
   "execution_count": 3,
   "id": "c35c449f",
   "metadata": {},
   "outputs": [
    {
     "name": "stdout",
     "output_type": "stream",
     "text": [
      "<class 'pandas.core.frame.DataFrame'>\n",
      "RangeIndex: 16715 entries, 0 to 16714\n",
      "Data columns (total 11 columns):\n",
      " #   Column           Non-Null Count  Dtype  \n",
      "---  ------           --------------  -----  \n",
      " 0   Name             16713 non-null  object \n",
      " 1   Platform         16715 non-null  object \n",
      " 2   Year_of_Release  16446 non-null  float64\n",
      " 3   Genre            16713 non-null  object \n",
      " 4   NA_sales         16715 non-null  float64\n",
      " 5   EU_sales         16715 non-null  float64\n",
      " 6   JP_sales         16715 non-null  float64\n",
      " 7   Other_sales      16715 non-null  float64\n",
      " 8   Critic_Score     8137 non-null   float64\n",
      " 9   User_Score       10014 non-null  object \n",
      " 10  Rating           9949 non-null   object \n",
      "dtypes: float64(6), object(5)\n",
      "memory usage: 1.4+ MB\n"
     ]
    }
   ],
   "source": [
    "data.info()"
   ]
  },
  {
   "cell_type": "markdown",
   "id": "9f94e6be",
   "metadata": {},
   "source": [
    "### 1.1 Вывод по изучение общей информации\n",
    "Общий просмотр информации выявил пропущенные данные в столбцах, неверно заданный тип данных в столбце с годом, а также названия столбцов указаны не в змеином регистре"
   ]
  },
  {
   "cell_type": "markdown",
   "id": "3b9766bb",
   "metadata": {},
   "source": [
    "## 2. Подготовка данных"
   ]
  },
  {
   "cell_type": "code",
   "execution_count": 4,
   "id": "9b99e693",
   "metadata": {},
   "outputs": [
    {
     "data": {
      "text/html": [
       "<div>\n",
       "<style scoped>\n",
       "    .dataframe tbody tr th:only-of-type {\n",
       "        vertical-align: middle;\n",
       "    }\n",
       "\n",
       "    .dataframe tbody tr th {\n",
       "        vertical-align: top;\n",
       "    }\n",
       "\n",
       "    .dataframe thead th {\n",
       "        text-align: right;\n",
       "    }\n",
       "</style>\n",
       "<table border=\"1\" class=\"dataframe\">\n",
       "  <thead>\n",
       "    <tr style=\"text-align: right;\">\n",
       "      <th></th>\n",
       "      <th>name</th>\n",
       "      <th>platform</th>\n",
       "      <th>year_of_release</th>\n",
       "      <th>genre</th>\n",
       "      <th>na_sales</th>\n",
       "      <th>eu_sales</th>\n",
       "      <th>jp_sales</th>\n",
       "      <th>other_sales</th>\n",
       "      <th>critic_score</th>\n",
       "      <th>user_score</th>\n",
       "      <th>rating</th>\n",
       "    </tr>\n",
       "  </thead>\n",
       "  <tbody>\n",
       "    <tr>\n",
       "      <th>0</th>\n",
       "      <td>Wii Sports</td>\n",
       "      <td>Wii</td>\n",
       "      <td>2006.0</td>\n",
       "      <td>Sports</td>\n",
       "      <td>41.36</td>\n",
       "      <td>28.96</td>\n",
       "      <td>3.77</td>\n",
       "      <td>8.45</td>\n",
       "      <td>76.0</td>\n",
       "      <td>8</td>\n",
       "      <td>E</td>\n",
       "    </tr>\n",
       "    <tr>\n",
       "      <th>1</th>\n",
       "      <td>Super Mario Bros.</td>\n",
       "      <td>NES</td>\n",
       "      <td>1985.0</td>\n",
       "      <td>Platform</td>\n",
       "      <td>29.08</td>\n",
       "      <td>3.58</td>\n",
       "      <td>6.81</td>\n",
       "      <td>0.77</td>\n",
       "      <td>NaN</td>\n",
       "      <td>NaN</td>\n",
       "      <td>NaN</td>\n",
       "    </tr>\n",
       "    <tr>\n",
       "      <th>2</th>\n",
       "      <td>Mario Kart Wii</td>\n",
       "      <td>Wii</td>\n",
       "      <td>2008.0</td>\n",
       "      <td>Racing</td>\n",
       "      <td>15.68</td>\n",
       "      <td>12.76</td>\n",
       "      <td>3.79</td>\n",
       "      <td>3.29</td>\n",
       "      <td>82.0</td>\n",
       "      <td>8.3</td>\n",
       "      <td>E</td>\n",
       "    </tr>\n",
       "    <tr>\n",
       "      <th>3</th>\n",
       "      <td>Wii Sports Resort</td>\n",
       "      <td>Wii</td>\n",
       "      <td>2009.0</td>\n",
       "      <td>Sports</td>\n",
       "      <td>15.61</td>\n",
       "      <td>10.93</td>\n",
       "      <td>3.28</td>\n",
       "      <td>2.95</td>\n",
       "      <td>80.0</td>\n",
       "      <td>8</td>\n",
       "      <td>E</td>\n",
       "    </tr>\n",
       "    <tr>\n",
       "      <th>4</th>\n",
       "      <td>Pokemon Red/Pokemon Blue</td>\n",
       "      <td>GB</td>\n",
       "      <td>1996.0</td>\n",
       "      <td>Role-Playing</td>\n",
       "      <td>11.27</td>\n",
       "      <td>8.89</td>\n",
       "      <td>10.22</td>\n",
       "      <td>1.00</td>\n",
       "      <td>NaN</td>\n",
       "      <td>NaN</td>\n",
       "      <td>NaN</td>\n",
       "    </tr>\n",
       "    <tr>\n",
       "      <th>...</th>\n",
       "      <td>...</td>\n",
       "      <td>...</td>\n",
       "      <td>...</td>\n",
       "      <td>...</td>\n",
       "      <td>...</td>\n",
       "      <td>...</td>\n",
       "      <td>...</td>\n",
       "      <td>...</td>\n",
       "      <td>...</td>\n",
       "      <td>...</td>\n",
       "      <td>...</td>\n",
       "    </tr>\n",
       "    <tr>\n",
       "      <th>16710</th>\n",
       "      <td>Samurai Warriors: Sanada Maru</td>\n",
       "      <td>PS3</td>\n",
       "      <td>2016.0</td>\n",
       "      <td>Action</td>\n",
       "      <td>0.00</td>\n",
       "      <td>0.00</td>\n",
       "      <td>0.01</td>\n",
       "      <td>0.00</td>\n",
       "      <td>NaN</td>\n",
       "      <td>NaN</td>\n",
       "      <td>NaN</td>\n",
       "    </tr>\n",
       "    <tr>\n",
       "      <th>16711</th>\n",
       "      <td>LMA Manager 2007</td>\n",
       "      <td>X360</td>\n",
       "      <td>2006.0</td>\n",
       "      <td>Sports</td>\n",
       "      <td>0.00</td>\n",
       "      <td>0.01</td>\n",
       "      <td>0.00</td>\n",
       "      <td>0.00</td>\n",
       "      <td>NaN</td>\n",
       "      <td>NaN</td>\n",
       "      <td>NaN</td>\n",
       "    </tr>\n",
       "    <tr>\n",
       "      <th>16712</th>\n",
       "      <td>Haitaka no Psychedelica</td>\n",
       "      <td>PSV</td>\n",
       "      <td>2016.0</td>\n",
       "      <td>Adventure</td>\n",
       "      <td>0.00</td>\n",
       "      <td>0.00</td>\n",
       "      <td>0.01</td>\n",
       "      <td>0.00</td>\n",
       "      <td>NaN</td>\n",
       "      <td>NaN</td>\n",
       "      <td>NaN</td>\n",
       "    </tr>\n",
       "    <tr>\n",
       "      <th>16713</th>\n",
       "      <td>Spirits &amp; Spells</td>\n",
       "      <td>GBA</td>\n",
       "      <td>2003.0</td>\n",
       "      <td>Platform</td>\n",
       "      <td>0.01</td>\n",
       "      <td>0.00</td>\n",
       "      <td>0.00</td>\n",
       "      <td>0.00</td>\n",
       "      <td>NaN</td>\n",
       "      <td>NaN</td>\n",
       "      <td>NaN</td>\n",
       "    </tr>\n",
       "    <tr>\n",
       "      <th>16714</th>\n",
       "      <td>Winning Post 8 2016</td>\n",
       "      <td>PSV</td>\n",
       "      <td>2016.0</td>\n",
       "      <td>Simulation</td>\n",
       "      <td>0.00</td>\n",
       "      <td>0.00</td>\n",
       "      <td>0.01</td>\n",
       "      <td>0.00</td>\n",
       "      <td>NaN</td>\n",
       "      <td>NaN</td>\n",
       "      <td>NaN</td>\n",
       "    </tr>\n",
       "  </tbody>\n",
       "</table>\n",
       "<p>16715 rows × 11 columns</p>\n",
       "</div>"
      ],
      "text/plain": [
       "                                name platform  year_of_release         genre  \\\n",
       "0                         Wii Sports      Wii           2006.0        Sports   \n",
       "1                  Super Mario Bros.      NES           1985.0      Platform   \n",
       "2                     Mario Kart Wii      Wii           2008.0        Racing   \n",
       "3                  Wii Sports Resort      Wii           2009.0        Sports   \n",
       "4           Pokemon Red/Pokemon Blue       GB           1996.0  Role-Playing   \n",
       "...                              ...      ...              ...           ...   \n",
       "16710  Samurai Warriors: Sanada Maru      PS3           2016.0        Action   \n",
       "16711               LMA Manager 2007     X360           2006.0        Sports   \n",
       "16712        Haitaka no Psychedelica      PSV           2016.0     Adventure   \n",
       "16713               Spirits & Spells      GBA           2003.0      Platform   \n",
       "16714            Winning Post 8 2016      PSV           2016.0    Simulation   \n",
       "\n",
       "       na_sales  eu_sales  jp_sales  other_sales  critic_score user_score  \\\n",
       "0         41.36     28.96      3.77         8.45          76.0          8   \n",
       "1         29.08      3.58      6.81         0.77           NaN        NaN   \n",
       "2         15.68     12.76      3.79         3.29          82.0        8.3   \n",
       "3         15.61     10.93      3.28         2.95          80.0          8   \n",
       "4         11.27      8.89     10.22         1.00           NaN        NaN   \n",
       "...         ...       ...       ...          ...           ...        ...   \n",
       "16710      0.00      0.00      0.01         0.00           NaN        NaN   \n",
       "16711      0.00      0.01      0.00         0.00           NaN        NaN   \n",
       "16712      0.00      0.00      0.01         0.00           NaN        NaN   \n",
       "16713      0.01      0.00      0.00         0.00           NaN        NaN   \n",
       "16714      0.00      0.00      0.01         0.00           NaN        NaN   \n",
       "\n",
       "      rating  \n",
       "0          E  \n",
       "1        NaN  \n",
       "2          E  \n",
       "3          E  \n",
       "4        NaN  \n",
       "...      ...  \n",
       "16710    NaN  \n",
       "16711    NaN  \n",
       "16712    NaN  \n",
       "16713    NaN  \n",
       "16714    NaN  \n",
       "\n",
       "[16715 rows x 11 columns]"
      ]
     },
     "metadata": {},
     "output_type": "display_data"
    }
   ],
   "source": [
    "#меняем названия столбцов на строчные буквы\n",
    "data=data.rename(columns=str.lower)\n",
    "display(data)"
   ]
  },
  {
   "cell_type": "code",
   "execution_count": 5,
   "id": "6e5748a7",
   "metadata": {},
   "outputs": [
    {
     "data": {
      "text/html": [
       "<div>\n",
       "<style scoped>\n",
       "    .dataframe tbody tr th:only-of-type {\n",
       "        vertical-align: middle;\n",
       "    }\n",
       "\n",
       "    .dataframe tbody tr th {\n",
       "        vertical-align: top;\n",
       "    }\n",
       "\n",
       "    .dataframe thead th {\n",
       "        text-align: right;\n",
       "    }\n",
       "</style>\n",
       "<table border=\"1\" class=\"dataframe\">\n",
       "  <thead>\n",
       "    <tr style=\"text-align: right;\">\n",
       "      <th></th>\n",
       "      <th>name</th>\n",
       "      <th>platform</th>\n",
       "      <th>year_of_release</th>\n",
       "      <th>genre</th>\n",
       "      <th>na_sales</th>\n",
       "      <th>eu_sales</th>\n",
       "      <th>jp_sales</th>\n",
       "      <th>other_sales</th>\n",
       "      <th>critic_score</th>\n",
       "      <th>user_score</th>\n",
       "      <th>rating</th>\n",
       "    </tr>\n",
       "  </thead>\n",
       "  <tbody>\n",
       "    <tr>\n",
       "      <th>659</th>\n",
       "      <td>NaN</td>\n",
       "      <td>GEN</td>\n",
       "      <td>1993.0</td>\n",
       "      <td>NaN</td>\n",
       "      <td>1.78</td>\n",
       "      <td>0.53</td>\n",
       "      <td>0.00</td>\n",
       "      <td>0.08</td>\n",
       "      <td>NaN</td>\n",
       "      <td>NaN</td>\n",
       "      <td>NaN</td>\n",
       "    </tr>\n",
       "    <tr>\n",
       "      <th>14244</th>\n",
       "      <td>NaN</td>\n",
       "      <td>GEN</td>\n",
       "      <td>1993.0</td>\n",
       "      <td>NaN</td>\n",
       "      <td>0.00</td>\n",
       "      <td>0.00</td>\n",
       "      <td>0.03</td>\n",
       "      <td>0.00</td>\n",
       "      <td>NaN</td>\n",
       "      <td>NaN</td>\n",
       "      <td>NaN</td>\n",
       "    </tr>\n",
       "  </tbody>\n",
       "</table>\n",
       "</div>"
      ],
      "text/plain": [
       "      name platform  year_of_release genre  na_sales  eu_sales  jp_sales  \\\n",
       "659    NaN      GEN           1993.0   NaN      1.78      0.53      0.00   \n",
       "14244  NaN      GEN           1993.0   NaN      0.00      0.00      0.03   \n",
       "\n",
       "       other_sales  critic_score user_score rating  \n",
       "659           0.08           NaN        NaN    NaN  \n",
       "14244         0.00           NaN        NaN    NaN  "
      ]
     },
     "execution_count": 5,
     "metadata": {},
     "output_type": "execute_result"
    }
   ],
   "source": [
    "#просматриваем строки с пустые значением в столбце name\n",
    "data[data['name'].isna()]"
   ]
  },
  {
   "cell_type": "markdown",
   "id": "420819b7",
   "metadata": {},
   "source": [
    "Так как строк с пустым значением в столбце 'name' всего 2, год релиза довольно давний, а информации по ним мало, принято решение удалить их\n"
   ]
  },
  {
   "cell_type": "code",
   "execution_count": 7,
   "id": "8aa4e909",
   "metadata": {},
   "outputs": [],
   "source": [
    "#удаляем строки с пустым значением в названии \n",
    "data = data.dropna(axis='index', how='any', subset=['name'])"
   ]
  },
  {
   "cell_type": "code",
   "execution_count": 8,
   "id": "a6573978",
   "metadata": {},
   "outputs": [
    {
     "data": {
      "text/html": [
       "<div>\n",
       "<style scoped>\n",
       "    .dataframe tbody tr th:only-of-type {\n",
       "        vertical-align: middle;\n",
       "    }\n",
       "\n",
       "    .dataframe tbody tr th {\n",
       "        vertical-align: top;\n",
       "    }\n",
       "\n",
       "    .dataframe thead th {\n",
       "        text-align: right;\n",
       "    }\n",
       "</style>\n",
       "<table border=\"1\" class=\"dataframe\">\n",
       "  <thead>\n",
       "    <tr style=\"text-align: right;\">\n",
       "      <th></th>\n",
       "      <th>name</th>\n",
       "      <th>platform</th>\n",
       "      <th>year_of_release</th>\n",
       "      <th>genre</th>\n",
       "      <th>na_sales</th>\n",
       "      <th>eu_sales</th>\n",
       "      <th>jp_sales</th>\n",
       "      <th>other_sales</th>\n",
       "      <th>critic_score</th>\n",
       "      <th>user_score</th>\n",
       "      <th>rating</th>\n",
       "    </tr>\n",
       "  </thead>\n",
       "  <tbody>\n",
       "    <tr>\n",
       "      <th>183</th>\n",
       "      <td>Madden NFL 2004</td>\n",
       "      <td>PS2</td>\n",
       "      <td>NaN</td>\n",
       "      <td>Sports</td>\n",
       "      <td>4.26</td>\n",
       "      <td>0.26</td>\n",
       "      <td>0.01</td>\n",
       "      <td>0.71</td>\n",
       "      <td>94.0</td>\n",
       "      <td>8.5</td>\n",
       "      <td>E</td>\n",
       "    </tr>\n",
       "    <tr>\n",
       "      <th>377</th>\n",
       "      <td>FIFA Soccer 2004</td>\n",
       "      <td>PS2</td>\n",
       "      <td>NaN</td>\n",
       "      <td>Sports</td>\n",
       "      <td>0.59</td>\n",
       "      <td>2.36</td>\n",
       "      <td>0.04</td>\n",
       "      <td>0.51</td>\n",
       "      <td>84.0</td>\n",
       "      <td>6.4</td>\n",
       "      <td>E</td>\n",
       "    </tr>\n",
       "    <tr>\n",
       "      <th>456</th>\n",
       "      <td>LEGO Batman: The Videogame</td>\n",
       "      <td>Wii</td>\n",
       "      <td>NaN</td>\n",
       "      <td>Action</td>\n",
       "      <td>1.80</td>\n",
       "      <td>0.97</td>\n",
       "      <td>0.00</td>\n",
       "      <td>0.29</td>\n",
       "      <td>74.0</td>\n",
       "      <td>7.9</td>\n",
       "      <td>E10+</td>\n",
       "    </tr>\n",
       "    <tr>\n",
       "      <th>475</th>\n",
       "      <td>wwe Smackdown vs. Raw 2006</td>\n",
       "      <td>PS2</td>\n",
       "      <td>NaN</td>\n",
       "      <td>Fighting</td>\n",
       "      <td>1.57</td>\n",
       "      <td>1.02</td>\n",
       "      <td>0.00</td>\n",
       "      <td>0.41</td>\n",
       "      <td>NaN</td>\n",
       "      <td>NaN</td>\n",
       "      <td>NaN</td>\n",
       "    </tr>\n",
       "    <tr>\n",
       "      <th>609</th>\n",
       "      <td>Space Invaders</td>\n",
       "      <td>2600</td>\n",
       "      <td>NaN</td>\n",
       "      <td>Shooter</td>\n",
       "      <td>2.36</td>\n",
       "      <td>0.14</td>\n",
       "      <td>0.00</td>\n",
       "      <td>0.03</td>\n",
       "      <td>NaN</td>\n",
       "      <td>NaN</td>\n",
       "      <td>NaN</td>\n",
       "    </tr>\n",
       "    <tr>\n",
       "      <th>...</th>\n",
       "      <td>...</td>\n",
       "      <td>...</td>\n",
       "      <td>...</td>\n",
       "      <td>...</td>\n",
       "      <td>...</td>\n",
       "      <td>...</td>\n",
       "      <td>...</td>\n",
       "      <td>...</td>\n",
       "      <td>...</td>\n",
       "      <td>...</td>\n",
       "      <td>...</td>\n",
       "    </tr>\n",
       "    <tr>\n",
       "      <th>16373</th>\n",
       "      <td>PDC World Championship Darts 2008</td>\n",
       "      <td>PSP</td>\n",
       "      <td>NaN</td>\n",
       "      <td>Sports</td>\n",
       "      <td>0.01</td>\n",
       "      <td>0.00</td>\n",
       "      <td>0.00</td>\n",
       "      <td>0.00</td>\n",
       "      <td>43.0</td>\n",
       "      <td>tbd</td>\n",
       "      <td>E10+</td>\n",
       "    </tr>\n",
       "    <tr>\n",
       "      <th>16405</th>\n",
       "      <td>Freaky Flyers</td>\n",
       "      <td>GC</td>\n",
       "      <td>NaN</td>\n",
       "      <td>Racing</td>\n",
       "      <td>0.01</td>\n",
       "      <td>0.00</td>\n",
       "      <td>0.00</td>\n",
       "      <td>0.00</td>\n",
       "      <td>69.0</td>\n",
       "      <td>6.5</td>\n",
       "      <td>T</td>\n",
       "    </tr>\n",
       "    <tr>\n",
       "      <th>16448</th>\n",
       "      <td>Inversion</td>\n",
       "      <td>PC</td>\n",
       "      <td>NaN</td>\n",
       "      <td>Shooter</td>\n",
       "      <td>0.01</td>\n",
       "      <td>0.00</td>\n",
       "      <td>0.00</td>\n",
       "      <td>0.00</td>\n",
       "      <td>59.0</td>\n",
       "      <td>6.7</td>\n",
       "      <td>M</td>\n",
       "    </tr>\n",
       "    <tr>\n",
       "      <th>16458</th>\n",
       "      <td>Hakuouki: Shinsengumi Kitan</td>\n",
       "      <td>PS3</td>\n",
       "      <td>NaN</td>\n",
       "      <td>Adventure</td>\n",
       "      <td>0.01</td>\n",
       "      <td>0.00</td>\n",
       "      <td>0.00</td>\n",
       "      <td>0.00</td>\n",
       "      <td>NaN</td>\n",
       "      <td>NaN</td>\n",
       "      <td>NaN</td>\n",
       "    </tr>\n",
       "    <tr>\n",
       "      <th>16522</th>\n",
       "      <td>Virtua Quest</td>\n",
       "      <td>GC</td>\n",
       "      <td>NaN</td>\n",
       "      <td>Role-Playing</td>\n",
       "      <td>0.01</td>\n",
       "      <td>0.00</td>\n",
       "      <td>0.00</td>\n",
       "      <td>0.00</td>\n",
       "      <td>55.0</td>\n",
       "      <td>5.5</td>\n",
       "      <td>T</td>\n",
       "    </tr>\n",
       "  </tbody>\n",
       "</table>\n",
       "<p>269 rows × 11 columns</p>\n",
       "</div>"
      ],
      "text/plain": [
       "                                    name platform  year_of_release  \\\n",
       "183                      Madden NFL 2004      PS2              NaN   \n",
       "377                     FIFA Soccer 2004      PS2              NaN   \n",
       "456           LEGO Batman: The Videogame      Wii              NaN   \n",
       "475           wwe Smackdown vs. Raw 2006      PS2              NaN   \n",
       "609                       Space Invaders     2600              NaN   \n",
       "...                                  ...      ...              ...   \n",
       "16373  PDC World Championship Darts 2008      PSP              NaN   \n",
       "16405                      Freaky Flyers       GC              NaN   \n",
       "16448                          Inversion       PC              NaN   \n",
       "16458        Hakuouki: Shinsengumi Kitan      PS3              NaN   \n",
       "16522                       Virtua Quest       GC              NaN   \n",
       "\n",
       "              genre  na_sales  eu_sales  jp_sales  other_sales  critic_score  \\\n",
       "183          Sports      4.26      0.26      0.01         0.71          94.0   \n",
       "377          Sports      0.59      2.36      0.04         0.51          84.0   \n",
       "456          Action      1.80      0.97      0.00         0.29          74.0   \n",
       "475        Fighting      1.57      1.02      0.00         0.41           NaN   \n",
       "609         Shooter      2.36      0.14      0.00         0.03           NaN   \n",
       "...             ...       ...       ...       ...          ...           ...   \n",
       "16373        Sports      0.01      0.00      0.00         0.00          43.0   \n",
       "16405        Racing      0.01      0.00      0.00         0.00          69.0   \n",
       "16448       Shooter      0.01      0.00      0.00         0.00          59.0   \n",
       "16458     Adventure      0.01      0.00      0.00         0.00           NaN   \n",
       "16522  Role-Playing      0.01      0.00      0.00         0.00          55.0   \n",
       "\n",
       "      user_score rating  \n",
       "183          8.5      E  \n",
       "377          6.4      E  \n",
       "456          7.9   E10+  \n",
       "475          NaN    NaN  \n",
       "609          NaN    NaN  \n",
       "...          ...    ...  \n",
       "16373        tbd   E10+  \n",
       "16405        6.5      T  \n",
       "16448        6.7      M  \n",
       "16458        NaN    NaN  \n",
       "16522        5.5      T  \n",
       "\n",
       "[269 rows x 11 columns]"
      ]
     },
     "execution_count": 8,
     "metadata": {},
     "output_type": "execute_result"
    }
   ],
   "source": [
    "data[data['year_of_release'].isna()]"
   ]
  },
  {
   "cell_type": "markdown",
   "id": "449c2945",
   "metadata": {},
   "source": [
    "Так как строк с пустым значением в столбце 'year_of_release' меньше 2 процентов, а год релиза необходим для актуальной информации, принято решение удалить данные с пустым значением"
   ]
  },
  {
   "cell_type": "code",
   "execution_count": 9,
   "id": "274e728a",
   "metadata": {},
   "outputs": [],
   "source": [
    "#удаляем строки с пустым значением в столбце с годом релиза \n",
    "data = data.dropna(axis='index', how='any', subset=['year_of_release'])"
   ]
  },
  {
   "cell_type": "code",
   "execution_count": 10,
   "id": "d5dc6a12",
   "metadata": {},
   "outputs": [],
   "source": [
    "#поменяем формат в столбце с годом релиза на специализированный\n",
    "data['year_of_release'] = pd.to_datetime(data['year_of_release'], format='%Y')"
   ]
  },
  {
   "cell_type": "code",
   "execution_count": 11,
   "id": "4decf1d1",
   "metadata": {},
   "outputs": [
    {
     "name": "stdout",
     "output_type": "stream",
     "text": [
      "<class 'pandas.core.frame.DataFrame'>\n",
      "Int64Index: 16444 entries, 0 to 16714\n",
      "Data columns (total 11 columns):\n",
      " #   Column           Non-Null Count  Dtype         \n",
      "---  ------           --------------  -----         \n",
      " 0   name             16444 non-null  object        \n",
      " 1   platform         16444 non-null  object        \n",
      " 2   year_of_release  16444 non-null  datetime64[ns]\n",
      " 3   genre            16444 non-null  object        \n",
      " 4   na_sales         16444 non-null  float64       \n",
      " 5   eu_sales         16444 non-null  float64       \n",
      " 6   jp_sales         16444 non-null  float64       \n",
      " 7   other_sales      16444 non-null  float64       \n",
      " 8   critic_score     7983 non-null   float64       \n",
      " 9   user_score       9839 non-null   object        \n",
      " 10  rating           9768 non-null   object        \n",
      "dtypes: datetime64[ns](1), float64(5), object(5)\n",
      "memory usage: 1.5+ MB\n"
     ]
    }
   ],
   "source": [
    "data.info()"
   ]
  },
  {
   "cell_type": "code",
   "execution_count": 12,
   "id": "cf8ecf9e",
   "metadata": {},
   "outputs": [
    {
     "data": {
      "text/plain": [
       "count    7983.000000\n",
       "mean       68.994363\n",
       "std        13.920060\n",
       "min        13.000000\n",
       "25%        60.000000\n",
       "50%        71.000000\n",
       "75%        79.000000\n",
       "max        98.000000\n",
       "Name: critic_score, dtype: float64"
      ]
     },
     "execution_count": 12,
     "metadata": {},
     "output_type": "execute_result"
    }
   ],
   "source": [
    "# просматриваем общую информацию о столбцу critic_store\n",
    "data['critic_score'].describe()"
   ]
  },
  {
   "cell_type": "code",
   "execution_count": 13,
   "id": "78d669c4",
   "metadata": {},
   "outputs": [
    {
     "data": {
      "text/plain": [
       "array(['E', nan, 'M', 'T', 'E10+', 'K-A', 'AO', 'EC', 'RP'], dtype=object)"
      ]
     },
     "execution_count": 13,
     "metadata": {},
     "output_type": "execute_result"
    }
   ],
   "source": [
    "# просматриваем значения в столбце rating\n",
    "data['rating'].unique()"
   ]
  },
  {
   "cell_type": "markdown",
   "id": "2c65d801",
   "metadata": {},
   "source": [
    "Пустые значения в столбцах critic_store, user_score и rating заполнять нулями не будем, так как возможно оценка по данным играм не проводилась, а заполнение их каким-либо значениями, может повлиять на среднее значение оценки по всем играм"
   ]
  },
  {
   "cell_type": "code",
   "execution_count": 14,
   "id": "4889e347",
   "metadata": {},
   "outputs": [
    {
     "data": {
      "text/plain": [
       "count     9839\n",
       "unique      96\n",
       "top        tbd\n",
       "freq      2376\n",
       "Name: user_score, dtype: object"
      ]
     },
     "execution_count": 14,
     "metadata": {},
     "output_type": "execute_result"
    }
   ],
   "source": [
    "data['user_score'].describe()"
   ]
  },
  {
   "cell_type": "markdown",
   "id": "99487127",
   "metadata": {},
   "source": [
    "В столбце user_score выявлено значение tbd, как подсказывает интернет это значение расшифровывается как' To Be Determined', то есть оценка будет определена в будущем, либо  она в процессе.\n",
    "\n",
    "Так оценки пока нет, принято решение заменить значения на пустые и для дальнейшей работы перевести тип данных данного столбца в числовой"
   ]
  },
  {
   "cell_type": "code",
   "execution_count": 15,
   "id": "73791ab6",
   "metadata": {},
   "outputs": [],
   "source": [
    "data['user_score'] = pd.to_numeric(data['user_score'], errors='coerce') "
   ]
  },
  {
   "cell_type": "code",
   "execution_count": 16,
   "id": "47823cf7",
   "metadata": {},
   "outputs": [
    {
     "data": {
      "text/plain": [
       "count    7463.000000\n",
       "mean        7.126330\n",
       "std         1.499447\n",
       "min         0.000000\n",
       "25%         6.400000\n",
       "50%         7.500000\n",
       "75%         8.200000\n",
       "max         9.700000\n",
       "Name: user_score, dtype: float64"
      ]
     },
     "execution_count": 16,
     "metadata": {},
     "output_type": "execute_result"
    }
   ],
   "source": [
    "data['user_score'].describe()"
   ]
  },
  {
   "cell_type": "code",
   "execution_count": 17,
   "id": "239d3805",
   "metadata": {},
   "outputs": [],
   "source": [
    "#создаем новый столбец sales с суммой всех продаж\n",
    "data['sales']=data['na_sales']+data['eu_sales']+data['jp_sales']+data['other_sales']"
   ]
  },
  {
   "cell_type": "code",
   "execution_count": 18,
   "id": "e003d642",
   "metadata": {},
   "outputs": [
    {
     "name": "stdout",
     "output_type": "stream",
     "text": [
      "<class 'pandas.core.frame.DataFrame'>\n",
      "Int64Index: 16444 entries, 0 to 16714\n",
      "Data columns (total 12 columns):\n",
      " #   Column           Non-Null Count  Dtype         \n",
      "---  ------           --------------  -----         \n",
      " 0   name             16444 non-null  object        \n",
      " 1   platform         16444 non-null  object        \n",
      " 2   year_of_release  16444 non-null  datetime64[ns]\n",
      " 3   genre            16444 non-null  object        \n",
      " 4   na_sales         16444 non-null  float64       \n",
      " 5   eu_sales         16444 non-null  float64       \n",
      " 6   jp_sales         16444 non-null  float64       \n",
      " 7   other_sales      16444 non-null  float64       \n",
      " 8   critic_score     7983 non-null   float64       \n",
      " 9   user_score       7463 non-null   float64       \n",
      " 10  rating           9768 non-null   object        \n",
      " 11  sales            16444 non-null  float64       \n",
      "dtypes: datetime64[ns](1), float64(7), object(4)\n",
      "memory usage: 1.6+ MB\n"
     ]
    }
   ],
   "source": [
    "data.info()"
   ]
  },
  {
   "cell_type": "markdown",
   "id": "892f0962",
   "metadata": {},
   "source": [
    "### 2.1 Выводы по подготовке данных\n",
    "\n",
    "В рамке подготовки данных:\n",
    "- были изменены типы данных:\n",
    "        - столбца year_of_release на специализированной по работе с датами;\n",
    "        - столбца user_score на числовой\n",
    "- удалены строки с пустыми значениями в столбцах 'name' и 'year_of_release', так как их меньше 2%, и нам необходима актуальна информация с годами выпуска релиза\n",
    "- в столбце user_score  значение tbd ' To Be Determined' заменено на пустое\n",
    "- добавлен столбец sales с общим суммированием данных по продажам со всех регионов\n",
    "\n",
    "\n"
   ]
  },
  {
   "cell_type": "markdown",
   "id": "fa7a84bf",
   "metadata": {},
   "source": [
    "## 3. Исследовательский анализ данных"
   ]
  },
  {
   "cell_type": "code",
   "execution_count": 19,
   "id": "92ea4dd4",
   "metadata": {},
   "outputs": [
    {
     "data": {
      "text/html": [
       "<div>\n",
       "<style scoped>\n",
       "    .dataframe tbody tr th:only-of-type {\n",
       "        vertical-align: middle;\n",
       "    }\n",
       "\n",
       "    .dataframe tbody tr th {\n",
       "        vertical-align: top;\n",
       "    }\n",
       "\n",
       "    .dataframe thead th {\n",
       "        text-align: right;\n",
       "    }\n",
       "</style>\n",
       "<table border=\"1\" class=\"dataframe\">\n",
       "  <thead>\n",
       "    <tr style=\"text-align: right;\">\n",
       "      <th></th>\n",
       "      <th>name</th>\n",
       "      <th>platform</th>\n",
       "      <th>genre</th>\n",
       "      <th>na_sales</th>\n",
       "      <th>eu_sales</th>\n",
       "      <th>jp_sales</th>\n",
       "      <th>other_sales</th>\n",
       "      <th>critic_score</th>\n",
       "      <th>user_score</th>\n",
       "      <th>rating</th>\n",
       "      <th>sales</th>\n",
       "    </tr>\n",
       "    <tr>\n",
       "      <th>year_of_release</th>\n",
       "      <th></th>\n",
       "      <th></th>\n",
       "      <th></th>\n",
       "      <th></th>\n",
       "      <th></th>\n",
       "      <th></th>\n",
       "      <th></th>\n",
       "      <th></th>\n",
       "      <th></th>\n",
       "      <th></th>\n",
       "      <th></th>\n",
       "    </tr>\n",
       "  </thead>\n",
       "  <tbody>\n",
       "    <tr>\n",
       "      <th>1980-01-01</th>\n",
       "      <td>9</td>\n",
       "      <td>9</td>\n",
       "      <td>9</td>\n",
       "      <td>9</td>\n",
       "      <td>9</td>\n",
       "      <td>9</td>\n",
       "      <td>9</td>\n",
       "      <td>0</td>\n",
       "      <td>0</td>\n",
       "      <td>0</td>\n",
       "      <td>9</td>\n",
       "    </tr>\n",
       "    <tr>\n",
       "      <th>1981-01-01</th>\n",
       "      <td>46</td>\n",
       "      <td>46</td>\n",
       "      <td>46</td>\n",
       "      <td>46</td>\n",
       "      <td>46</td>\n",
       "      <td>46</td>\n",
       "      <td>46</td>\n",
       "      <td>0</td>\n",
       "      <td>0</td>\n",
       "      <td>0</td>\n",
       "      <td>46</td>\n",
       "    </tr>\n",
       "    <tr>\n",
       "      <th>1982-01-01</th>\n",
       "      <td>36</td>\n",
       "      <td>36</td>\n",
       "      <td>36</td>\n",
       "      <td>36</td>\n",
       "      <td>36</td>\n",
       "      <td>36</td>\n",
       "      <td>36</td>\n",
       "      <td>0</td>\n",
       "      <td>0</td>\n",
       "      <td>0</td>\n",
       "      <td>36</td>\n",
       "    </tr>\n",
       "    <tr>\n",
       "      <th>1983-01-01</th>\n",
       "      <td>17</td>\n",
       "      <td>17</td>\n",
       "      <td>17</td>\n",
       "      <td>17</td>\n",
       "      <td>17</td>\n",
       "      <td>17</td>\n",
       "      <td>17</td>\n",
       "      <td>0</td>\n",
       "      <td>0</td>\n",
       "      <td>0</td>\n",
       "      <td>17</td>\n",
       "    </tr>\n",
       "    <tr>\n",
       "      <th>1984-01-01</th>\n",
       "      <td>14</td>\n",
       "      <td>14</td>\n",
       "      <td>14</td>\n",
       "      <td>14</td>\n",
       "      <td>14</td>\n",
       "      <td>14</td>\n",
       "      <td>14</td>\n",
       "      <td>0</td>\n",
       "      <td>0</td>\n",
       "      <td>0</td>\n",
       "      <td>14</td>\n",
       "    </tr>\n",
       "    <tr>\n",
       "      <th>1985-01-01</th>\n",
       "      <td>14</td>\n",
       "      <td>14</td>\n",
       "      <td>14</td>\n",
       "      <td>14</td>\n",
       "      <td>14</td>\n",
       "      <td>14</td>\n",
       "      <td>14</td>\n",
       "      <td>1</td>\n",
       "      <td>1</td>\n",
       "      <td>1</td>\n",
       "      <td>14</td>\n",
       "    </tr>\n",
       "    <tr>\n",
       "      <th>1986-01-01</th>\n",
       "      <td>21</td>\n",
       "      <td>21</td>\n",
       "      <td>21</td>\n",
       "      <td>21</td>\n",
       "      <td>21</td>\n",
       "      <td>21</td>\n",
       "      <td>21</td>\n",
       "      <td>0</td>\n",
       "      <td>0</td>\n",
       "      <td>0</td>\n",
       "      <td>21</td>\n",
       "    </tr>\n",
       "    <tr>\n",
       "      <th>1987-01-01</th>\n",
       "      <td>16</td>\n",
       "      <td>16</td>\n",
       "      <td>16</td>\n",
       "      <td>16</td>\n",
       "      <td>16</td>\n",
       "      <td>16</td>\n",
       "      <td>16</td>\n",
       "      <td>0</td>\n",
       "      <td>0</td>\n",
       "      <td>0</td>\n",
       "      <td>16</td>\n",
       "    </tr>\n",
       "    <tr>\n",
       "      <th>1988-01-01</th>\n",
       "      <td>15</td>\n",
       "      <td>15</td>\n",
       "      <td>15</td>\n",
       "      <td>15</td>\n",
       "      <td>15</td>\n",
       "      <td>15</td>\n",
       "      <td>15</td>\n",
       "      <td>1</td>\n",
       "      <td>1</td>\n",
       "      <td>1</td>\n",
       "      <td>15</td>\n",
       "    </tr>\n",
       "    <tr>\n",
       "      <th>1989-01-01</th>\n",
       "      <td>17</td>\n",
       "      <td>17</td>\n",
       "      <td>17</td>\n",
       "      <td>17</td>\n",
       "      <td>17</td>\n",
       "      <td>17</td>\n",
       "      <td>17</td>\n",
       "      <td>0</td>\n",
       "      <td>0</td>\n",
       "      <td>0</td>\n",
       "      <td>17</td>\n",
       "    </tr>\n",
       "    <tr>\n",
       "      <th>1990-01-01</th>\n",
       "      <td>16</td>\n",
       "      <td>16</td>\n",
       "      <td>16</td>\n",
       "      <td>16</td>\n",
       "      <td>16</td>\n",
       "      <td>16</td>\n",
       "      <td>16</td>\n",
       "      <td>0</td>\n",
       "      <td>0</td>\n",
       "      <td>0</td>\n",
       "      <td>16</td>\n",
       "    </tr>\n",
       "    <tr>\n",
       "      <th>1991-01-01</th>\n",
       "      <td>41</td>\n",
       "      <td>41</td>\n",
       "      <td>41</td>\n",
       "      <td>41</td>\n",
       "      <td>41</td>\n",
       "      <td>41</td>\n",
       "      <td>41</td>\n",
       "      <td>0</td>\n",
       "      <td>0</td>\n",
       "      <td>0</td>\n",
       "      <td>41</td>\n",
       "    </tr>\n",
       "    <tr>\n",
       "      <th>1992-01-01</th>\n",
       "      <td>43</td>\n",
       "      <td>43</td>\n",
       "      <td>43</td>\n",
       "      <td>43</td>\n",
       "      <td>43</td>\n",
       "      <td>43</td>\n",
       "      <td>43</td>\n",
       "      <td>1</td>\n",
       "      <td>1</td>\n",
       "      <td>2</td>\n",
       "      <td>43</td>\n",
       "    </tr>\n",
       "    <tr>\n",
       "      <th>1993-01-01</th>\n",
       "      <td>60</td>\n",
       "      <td>60</td>\n",
       "      <td>60</td>\n",
       "      <td>60</td>\n",
       "      <td>60</td>\n",
       "      <td>60</td>\n",
       "      <td>60</td>\n",
       "      <td>0</td>\n",
       "      <td>0</td>\n",
       "      <td>0</td>\n",
       "      <td>60</td>\n",
       "    </tr>\n",
       "    <tr>\n",
       "      <th>1994-01-01</th>\n",
       "      <td>121</td>\n",
       "      <td>121</td>\n",
       "      <td>121</td>\n",
       "      <td>121</td>\n",
       "      <td>121</td>\n",
       "      <td>121</td>\n",
       "      <td>121</td>\n",
       "      <td>1</td>\n",
       "      <td>1</td>\n",
       "      <td>1</td>\n",
       "      <td>121</td>\n",
       "    </tr>\n",
       "    <tr>\n",
       "      <th>1995-01-01</th>\n",
       "      <td>219</td>\n",
       "      <td>219</td>\n",
       "      <td>219</td>\n",
       "      <td>219</td>\n",
       "      <td>219</td>\n",
       "      <td>219</td>\n",
       "      <td>219</td>\n",
       "      <td>0</td>\n",
       "      <td>0</td>\n",
       "      <td>0</td>\n",
       "      <td>219</td>\n",
       "    </tr>\n",
       "    <tr>\n",
       "      <th>1996-01-01</th>\n",
       "      <td>263</td>\n",
       "      <td>263</td>\n",
       "      <td>263</td>\n",
       "      <td>263</td>\n",
       "      <td>263</td>\n",
       "      <td>263</td>\n",
       "      <td>263</td>\n",
       "      <td>8</td>\n",
       "      <td>8</td>\n",
       "      <td>7</td>\n",
       "      <td>263</td>\n",
       "    </tr>\n",
       "    <tr>\n",
       "      <th>1997-01-01</th>\n",
       "      <td>289</td>\n",
       "      <td>289</td>\n",
       "      <td>289</td>\n",
       "      <td>289</td>\n",
       "      <td>289</td>\n",
       "      <td>289</td>\n",
       "      <td>289</td>\n",
       "      <td>17</td>\n",
       "      <td>18</td>\n",
       "      <td>19</td>\n",
       "      <td>289</td>\n",
       "    </tr>\n",
       "    <tr>\n",
       "      <th>1998-01-01</th>\n",
       "      <td>379</td>\n",
       "      <td>379</td>\n",
       "      <td>379</td>\n",
       "      <td>379</td>\n",
       "      <td>379</td>\n",
       "      <td>379</td>\n",
       "      <td>379</td>\n",
       "      <td>28</td>\n",
       "      <td>31</td>\n",
       "      <td>32</td>\n",
       "      <td>379</td>\n",
       "    </tr>\n",
       "    <tr>\n",
       "      <th>1999-01-01</th>\n",
       "      <td>338</td>\n",
       "      <td>338</td>\n",
       "      <td>338</td>\n",
       "      <td>338</td>\n",
       "      <td>338</td>\n",
       "      <td>338</td>\n",
       "      <td>338</td>\n",
       "      <td>39</td>\n",
       "      <td>31</td>\n",
       "      <td>42</td>\n",
       "      <td>338</td>\n",
       "    </tr>\n",
       "    <tr>\n",
       "      <th>2000-01-01</th>\n",
       "      <td>350</td>\n",
       "      <td>350</td>\n",
       "      <td>350</td>\n",
       "      <td>350</td>\n",
       "      <td>350</td>\n",
       "      <td>350</td>\n",
       "      <td>350</td>\n",
       "      <td>143</td>\n",
       "      <td>107</td>\n",
       "      <td>148</td>\n",
       "      <td>350</td>\n",
       "    </tr>\n",
       "    <tr>\n",
       "      <th>2001-01-01</th>\n",
       "      <td>482</td>\n",
       "      <td>482</td>\n",
       "      <td>482</td>\n",
       "      <td>482</td>\n",
       "      <td>482</td>\n",
       "      <td>482</td>\n",
       "      <td>482</td>\n",
       "      <td>326</td>\n",
       "      <td>257</td>\n",
       "      <td>339</td>\n",
       "      <td>482</td>\n",
       "    </tr>\n",
       "    <tr>\n",
       "      <th>2002-01-01</th>\n",
       "      <td>829</td>\n",
       "      <td>829</td>\n",
       "      <td>829</td>\n",
       "      <td>829</td>\n",
       "      <td>829</td>\n",
       "      <td>829</td>\n",
       "      <td>829</td>\n",
       "      <td>627</td>\n",
       "      <td>464</td>\n",
       "      <td>655</td>\n",
       "      <td>829</td>\n",
       "    </tr>\n",
       "    <tr>\n",
       "      <th>2003-01-01</th>\n",
       "      <td>775</td>\n",
       "      <td>775</td>\n",
       "      <td>775</td>\n",
       "      <td>775</td>\n",
       "      <td>775</td>\n",
       "      <td>775</td>\n",
       "      <td>775</td>\n",
       "      <td>585</td>\n",
       "      <td>516</td>\n",
       "      <td>613</td>\n",
       "      <td>775</td>\n",
       "    </tr>\n",
       "    <tr>\n",
       "      <th>2004-01-01</th>\n",
       "      <td>762</td>\n",
       "      <td>762</td>\n",
       "      <td>762</td>\n",
       "      <td>762</td>\n",
       "      <td>762</td>\n",
       "      <td>762</td>\n",
       "      <td>762</td>\n",
       "      <td>561</td>\n",
       "      <td>489</td>\n",
       "      <td>598</td>\n",
       "      <td>762</td>\n",
       "    </tr>\n",
       "    <tr>\n",
       "      <th>2005-01-01</th>\n",
       "      <td>939</td>\n",
       "      <td>939</td>\n",
       "      <td>939</td>\n",
       "      <td>939</td>\n",
       "      <td>939</td>\n",
       "      <td>939</td>\n",
       "      <td>939</td>\n",
       "      <td>655</td>\n",
       "      <td>583</td>\n",
       "      <td>706</td>\n",
       "      <td>939</td>\n",
       "    </tr>\n",
       "    <tr>\n",
       "      <th>2006-01-01</th>\n",
       "      <td>1006</td>\n",
       "      <td>1006</td>\n",
       "      <td>1006</td>\n",
       "      <td>1006</td>\n",
       "      <td>1006</td>\n",
       "      <td>1006</td>\n",
       "      <td>1006</td>\n",
       "      <td>620</td>\n",
       "      <td>552</td>\n",
       "      <td>678</td>\n",
       "      <td>1006</td>\n",
       "    </tr>\n",
       "    <tr>\n",
       "      <th>2007-01-01</th>\n",
       "      <td>1197</td>\n",
       "      <td>1197</td>\n",
       "      <td>1197</td>\n",
       "      <td>1197</td>\n",
       "      <td>1197</td>\n",
       "      <td>1197</td>\n",
       "      <td>1197</td>\n",
       "      <td>692</td>\n",
       "      <td>629</td>\n",
       "      <td>821</td>\n",
       "      <td>1197</td>\n",
       "    </tr>\n",
       "    <tr>\n",
       "      <th>2008-01-01</th>\n",
       "      <td>1427</td>\n",
       "      <td>1427</td>\n",
       "      <td>1427</td>\n",
       "      <td>1427</td>\n",
       "      <td>1427</td>\n",
       "      <td>1427</td>\n",
       "      <td>1427</td>\n",
       "      <td>715</td>\n",
       "      <td>661</td>\n",
       "      <td>981</td>\n",
       "      <td>1427</td>\n",
       "    </tr>\n",
       "    <tr>\n",
       "      <th>2009-01-01</th>\n",
       "      <td>1426</td>\n",
       "      <td>1426</td>\n",
       "      <td>1426</td>\n",
       "      <td>1426</td>\n",
       "      <td>1426</td>\n",
       "      <td>1426</td>\n",
       "      <td>1426</td>\n",
       "      <td>651</td>\n",
       "      <td>614</td>\n",
       "      <td>1011</td>\n",
       "      <td>1426</td>\n",
       "    </tr>\n",
       "    <tr>\n",
       "      <th>2010-01-01</th>\n",
       "      <td>1255</td>\n",
       "      <td>1255</td>\n",
       "      <td>1255</td>\n",
       "      <td>1255</td>\n",
       "      <td>1255</td>\n",
       "      <td>1255</td>\n",
       "      <td>1255</td>\n",
       "      <td>500</td>\n",
       "      <td>467</td>\n",
       "      <td>799</td>\n",
       "      <td>1255</td>\n",
       "    </tr>\n",
       "    <tr>\n",
       "      <th>2011-01-01</th>\n",
       "      <td>1136</td>\n",
       "      <td>1136</td>\n",
       "      <td>1136</td>\n",
       "      <td>1136</td>\n",
       "      <td>1136</td>\n",
       "      <td>1136</td>\n",
       "      <td>1136</td>\n",
       "      <td>500</td>\n",
       "      <td>501</td>\n",
       "      <td>703</td>\n",
       "      <td>1136</td>\n",
       "    </tr>\n",
       "    <tr>\n",
       "      <th>2012-01-01</th>\n",
       "      <td>653</td>\n",
       "      <td>653</td>\n",
       "      <td>653</td>\n",
       "      <td>653</td>\n",
       "      <td>653</td>\n",
       "      <td>653</td>\n",
       "      <td>653</td>\n",
       "      <td>321</td>\n",
       "      <td>339</td>\n",
       "      <td>355</td>\n",
       "      <td>653</td>\n",
       "    </tr>\n",
       "    <tr>\n",
       "      <th>2013-01-01</th>\n",
       "      <td>544</td>\n",
       "      <td>544</td>\n",
       "      <td>544</td>\n",
       "      <td>544</td>\n",
       "      <td>544</td>\n",
       "      <td>544</td>\n",
       "      <td>544</td>\n",
       "      <td>273</td>\n",
       "      <td>304</td>\n",
       "      <td>316</td>\n",
       "      <td>544</td>\n",
       "    </tr>\n",
       "    <tr>\n",
       "      <th>2014-01-01</th>\n",
       "      <td>581</td>\n",
       "      <td>581</td>\n",
       "      <td>581</td>\n",
       "      <td>581</td>\n",
       "      <td>581</td>\n",
       "      <td>581</td>\n",
       "      <td>581</td>\n",
       "      <td>261</td>\n",
       "      <td>329</td>\n",
       "      <td>345</td>\n",
       "      <td>581</td>\n",
       "    </tr>\n",
       "    <tr>\n",
       "      <th>2015-01-01</th>\n",
       "      <td>606</td>\n",
       "      <td>606</td>\n",
       "      <td>606</td>\n",
       "      <td>606</td>\n",
       "      <td>606</td>\n",
       "      <td>606</td>\n",
       "      <td>606</td>\n",
       "      <td>225</td>\n",
       "      <td>297</td>\n",
       "      <td>315</td>\n",
       "      <td>606</td>\n",
       "    </tr>\n",
       "    <tr>\n",
       "      <th>2016-01-01</th>\n",
       "      <td>502</td>\n",
       "      <td>502</td>\n",
       "      <td>502</td>\n",
       "      <td>502</td>\n",
       "      <td>502</td>\n",
       "      <td>502</td>\n",
       "      <td>502</td>\n",
       "      <td>232</td>\n",
       "      <td>262</td>\n",
       "      <td>280</td>\n",
       "      <td>502</td>\n",
       "    </tr>\n",
       "  </tbody>\n",
       "</table>\n",
       "</div>"
      ],
      "text/plain": [
       "                 name  platform  genre  na_sales  eu_sales  jp_sales  \\\n",
       "year_of_release                                                        \n",
       "1980-01-01          9         9      9         9         9         9   \n",
       "1981-01-01         46        46     46        46        46        46   \n",
       "1982-01-01         36        36     36        36        36        36   \n",
       "1983-01-01         17        17     17        17        17        17   \n",
       "1984-01-01         14        14     14        14        14        14   \n",
       "1985-01-01         14        14     14        14        14        14   \n",
       "1986-01-01         21        21     21        21        21        21   \n",
       "1987-01-01         16        16     16        16        16        16   \n",
       "1988-01-01         15        15     15        15        15        15   \n",
       "1989-01-01         17        17     17        17        17        17   \n",
       "1990-01-01         16        16     16        16        16        16   \n",
       "1991-01-01         41        41     41        41        41        41   \n",
       "1992-01-01         43        43     43        43        43        43   \n",
       "1993-01-01         60        60     60        60        60        60   \n",
       "1994-01-01        121       121    121       121       121       121   \n",
       "1995-01-01        219       219    219       219       219       219   \n",
       "1996-01-01        263       263    263       263       263       263   \n",
       "1997-01-01        289       289    289       289       289       289   \n",
       "1998-01-01        379       379    379       379       379       379   \n",
       "1999-01-01        338       338    338       338       338       338   \n",
       "2000-01-01        350       350    350       350       350       350   \n",
       "2001-01-01        482       482    482       482       482       482   \n",
       "2002-01-01        829       829    829       829       829       829   \n",
       "2003-01-01        775       775    775       775       775       775   \n",
       "2004-01-01        762       762    762       762       762       762   \n",
       "2005-01-01        939       939    939       939       939       939   \n",
       "2006-01-01       1006      1006   1006      1006      1006      1006   \n",
       "2007-01-01       1197      1197   1197      1197      1197      1197   \n",
       "2008-01-01       1427      1427   1427      1427      1427      1427   \n",
       "2009-01-01       1426      1426   1426      1426      1426      1426   \n",
       "2010-01-01       1255      1255   1255      1255      1255      1255   \n",
       "2011-01-01       1136      1136   1136      1136      1136      1136   \n",
       "2012-01-01        653       653    653       653       653       653   \n",
       "2013-01-01        544       544    544       544       544       544   \n",
       "2014-01-01        581       581    581       581       581       581   \n",
       "2015-01-01        606       606    606       606       606       606   \n",
       "2016-01-01        502       502    502       502       502       502   \n",
       "\n",
       "                 other_sales  critic_score  user_score  rating  sales  \n",
       "year_of_release                                                        \n",
       "1980-01-01                 9             0           0       0      9  \n",
       "1981-01-01                46             0           0       0     46  \n",
       "1982-01-01                36             0           0       0     36  \n",
       "1983-01-01                17             0           0       0     17  \n",
       "1984-01-01                14             0           0       0     14  \n",
       "1985-01-01                14             1           1       1     14  \n",
       "1986-01-01                21             0           0       0     21  \n",
       "1987-01-01                16             0           0       0     16  \n",
       "1988-01-01                15             1           1       1     15  \n",
       "1989-01-01                17             0           0       0     17  \n",
       "1990-01-01                16             0           0       0     16  \n",
       "1991-01-01                41             0           0       0     41  \n",
       "1992-01-01                43             1           1       2     43  \n",
       "1993-01-01                60             0           0       0     60  \n",
       "1994-01-01               121             1           1       1    121  \n",
       "1995-01-01               219             0           0       0    219  \n",
       "1996-01-01               263             8           8       7    263  \n",
       "1997-01-01               289            17          18      19    289  \n",
       "1998-01-01               379            28          31      32    379  \n",
       "1999-01-01               338            39          31      42    338  \n",
       "2000-01-01               350           143         107     148    350  \n",
       "2001-01-01               482           326         257     339    482  \n",
       "2002-01-01               829           627         464     655    829  \n",
       "2003-01-01               775           585         516     613    775  \n",
       "2004-01-01               762           561         489     598    762  \n",
       "2005-01-01               939           655         583     706    939  \n",
       "2006-01-01              1006           620         552     678   1006  \n",
       "2007-01-01              1197           692         629     821   1197  \n",
       "2008-01-01              1427           715         661     981   1427  \n",
       "2009-01-01              1426           651         614    1011   1426  \n",
       "2010-01-01              1255           500         467     799   1255  \n",
       "2011-01-01              1136           500         501     703   1136  \n",
       "2012-01-01               653           321         339     355    653  \n",
       "2013-01-01               544           273         304     316    544  \n",
       "2014-01-01               581           261         329     345    581  \n",
       "2015-01-01               606           225         297     315    606  \n",
       "2016-01-01               502           232         262     280    502  "
      ]
     },
     "execution_count": 19,
     "metadata": {},
     "output_type": "execute_result"
    }
   ],
   "source": [
    "#просматриваем  сколько игр выпускалось в разные годы\n",
    "data.groupby('year_of_release').count()"
   ]
  },
  {
   "cell_type": "markdown",
   "id": "92bb6d21",
   "metadata": {},
   "source": [
    "Большой рост количества выпускаемых игр по сравнению с прошлым годом происходит в 2002 году."
   ]
  },
  {
   "cell_type": "code",
   "execution_count": 20,
   "id": "dc772348",
   "metadata": {},
   "outputs": [
    {
     "data": {
      "text/html": [
       "<div>\n",
       "<style scoped>\n",
       "    .dataframe tbody tr th:only-of-type {\n",
       "        vertical-align: middle;\n",
       "    }\n",
       "\n",
       "    .dataframe tbody tr th {\n",
       "        vertical-align: top;\n",
       "    }\n",
       "\n",
       "    .dataframe thead th {\n",
       "        text-align: right;\n",
       "    }\n",
       "</style>\n",
       "<table border=\"1\" class=\"dataframe\">\n",
       "  <thead>\n",
       "    <tr style=\"text-align: right;\">\n",
       "      <th></th>\n",
       "      <th>sales</th>\n",
       "    </tr>\n",
       "    <tr>\n",
       "      <th>platform</th>\n",
       "      <th></th>\n",
       "    </tr>\n",
       "  </thead>\n",
       "  <tbody>\n",
       "    <tr>\n",
       "      <th>PS2</th>\n",
       "      <td>1233.56</td>\n",
       "    </tr>\n",
       "    <tr>\n",
       "      <th>X360</th>\n",
       "      <td>961.24</td>\n",
       "    </tr>\n",
       "    <tr>\n",
       "      <th>PS3</th>\n",
       "      <td>931.34</td>\n",
       "    </tr>\n",
       "    <tr>\n",
       "      <th>Wii</th>\n",
       "      <td>891.18</td>\n",
       "    </tr>\n",
       "    <tr>\n",
       "      <th>DS</th>\n",
       "      <td>802.78</td>\n",
       "    </tr>\n",
       "    <tr>\n",
       "      <th>PS</th>\n",
       "      <td>727.58</td>\n",
       "    </tr>\n",
       "    <tr>\n",
       "      <th>PS4</th>\n",
       "      <td>314.14</td>\n",
       "    </tr>\n",
       "    <tr>\n",
       "      <th>GBA</th>\n",
       "      <td>312.88</td>\n",
       "    </tr>\n",
       "    <tr>\n",
       "      <th>PSP</th>\n",
       "      <td>289.53</td>\n",
       "    </tr>\n",
       "    <tr>\n",
       "      <th>3DS</th>\n",
       "      <td>257.81</td>\n",
       "    </tr>\n",
       "    <tr>\n",
       "      <th>PC</th>\n",
       "      <td>255.76</td>\n",
       "    </tr>\n",
       "    <tr>\n",
       "      <th>GB</th>\n",
       "      <td>254.43</td>\n",
       "    </tr>\n",
       "    <tr>\n",
       "      <th>XB</th>\n",
       "      <td>251.57</td>\n",
       "    </tr>\n",
       "    <tr>\n",
       "      <th>NES</th>\n",
       "      <td>251.05</td>\n",
       "    </tr>\n",
       "    <tr>\n",
       "      <th>N64</th>\n",
       "      <td>218.01</td>\n",
       "    </tr>\n",
       "    <tr>\n",
       "      <th>SNES</th>\n",
       "      <td>200.04</td>\n",
       "    </tr>\n",
       "    <tr>\n",
       "      <th>GC</th>\n",
       "      <td>196.73</td>\n",
       "    </tr>\n",
       "    <tr>\n",
       "      <th>XOne</th>\n",
       "      <td>159.32</td>\n",
       "    </tr>\n",
       "    <tr>\n",
       "      <th>2600</th>\n",
       "      <td>86.48</td>\n",
       "    </tr>\n",
       "    <tr>\n",
       "      <th>WiiU</th>\n",
       "      <td>82.19</td>\n",
       "    </tr>\n",
       "    <tr>\n",
       "      <th>PSV</th>\n",
       "      <td>53.81</td>\n",
       "    </tr>\n",
       "    <tr>\n",
       "      <th>SAT</th>\n",
       "      <td>33.59</td>\n",
       "    </tr>\n",
       "    <tr>\n",
       "      <th>GEN</th>\n",
       "      <td>28.35</td>\n",
       "    </tr>\n",
       "    <tr>\n",
       "      <th>DC</th>\n",
       "      <td>15.95</td>\n",
       "    </tr>\n",
       "    <tr>\n",
       "      <th>SCD</th>\n",
       "      <td>1.86</td>\n",
       "    </tr>\n",
       "    <tr>\n",
       "      <th>NG</th>\n",
       "      <td>1.44</td>\n",
       "    </tr>\n",
       "    <tr>\n",
       "      <th>WS</th>\n",
       "      <td>1.42</td>\n",
       "    </tr>\n",
       "    <tr>\n",
       "      <th>TG16</th>\n",
       "      <td>0.16</td>\n",
       "    </tr>\n",
       "    <tr>\n",
       "      <th>3DO</th>\n",
       "      <td>0.10</td>\n",
       "    </tr>\n",
       "    <tr>\n",
       "      <th>GG</th>\n",
       "      <td>0.04</td>\n",
       "    </tr>\n",
       "    <tr>\n",
       "      <th>PCFX</th>\n",
       "      <td>0.03</td>\n",
       "    </tr>\n",
       "  </tbody>\n",
       "</table>\n",
       "</div>"
      ],
      "text/plain": [
       "            sales\n",
       "platform         \n",
       "PS2       1233.56\n",
       "X360       961.24\n",
       "PS3        931.34\n",
       "Wii        891.18\n",
       "DS         802.78\n",
       "PS         727.58\n",
       "PS4        314.14\n",
       "GBA        312.88\n",
       "PSP        289.53\n",
       "3DS        257.81\n",
       "PC         255.76\n",
       "GB         254.43\n",
       "XB         251.57\n",
       "NES        251.05\n",
       "N64        218.01\n",
       "SNES       200.04\n",
       "GC         196.73\n",
       "XOne       159.32\n",
       "2600        86.48\n",
       "WiiU        82.19\n",
       "PSV         53.81\n",
       "SAT         33.59\n",
       "GEN         28.35\n",
       "DC          15.95\n",
       "SCD          1.86\n",
       "NG           1.44\n",
       "WS           1.42\n",
       "TG16         0.16\n",
       "3DO          0.10\n",
       "GG           0.04\n",
       "PCFX         0.03"
      ]
     },
     "metadata": {},
     "output_type": "display_data"
    }
   ],
   "source": [
    "#просмотрим данные по продажам на платформах в порядке убывания\n",
    "platform_sales=pd.pivot_table(data,index='platform', values='sales', aggfunc='sum')\n",
    "platform_sales=platform_sales.sort_values(by=\"sales\", ascending=False)\n",
    "display(platform_sales)\n"
   ]
  },
  {
   "cell_type": "code",
   "execution_count": 21,
   "id": "011ad50e",
   "metadata": {},
   "outputs": [
    {
     "data": {
      "image/png": "[encoded data removed]",
      "text/plain": [
       "<Figure size 432x288 with 1 Axes>"
      ]
     },
     "metadata": {
      "needs_background": "light"
     },
     "output_type": "display_data"
    },
    {
     "data": {
      "image/png": "[encoded data removed]",
      "text/plain": [
       "<Figure size 432x288 with 1 Axes>"
      ]
     },
     "metadata": {
      "needs_background": "light"
     },
     "output_type": "display_data"
    },
    {
     "data": {
      "image/png": "[encoded data removed]",
      "text/plain": [
       "<Figure size 432x288 with 1 Axes>"
      ]
     },
     "metadata": {
      "needs_background": "light"
     },
     "output_type": "display_data"
    },
    {
     "data": {
      "image/png": "[encoded data removed]",
      "text/plain": [
       "<Figure size 432x288 with 1 Axes>"
      ]
     },
     "metadata": {
      "needs_background": "light"
     },
     "output_type": "display_data"
    },
    {
     "data": {
      "image/png": "[encoded data removed]",
      "text/plain": [
       "<Figure size 432x288 with 1 Axes>"
      ]
     },
     "metadata": {
      "needs_background": "light"
     },
     "output_type": "display_data"
    },
    {
     "data": {
      "image/png": "[encoded data removed]",
      "text/plain": [
       "<Figure size 432x288 with 1 Axes>"
      ]
     },
     "metadata": {
      "needs_background": "light"
     },
     "output_type": "display_data"
    },
    {
     "data": {
      "image/png": "[encoded data removed]",
      "text/plain": [
       "<Figure size 432x288 with 1 Axes>"
      ]
     },
     "metadata": {
      "needs_background": "light"
     },
     "output_type": "display_data"
    },
    {
     "data": {
      "image/png": "[encoded data removed]",
      "text/plain": [
       "<Figure size 432x288 with 1 Axes>"
      ]
     },
     "metadata": {
      "needs_background": "light"
     },
     "output_type": "display_data"
    },
    {
     "data": {
      "image/png": "[encoded data removed]",
      "text/plain": [
       "<Figure size 432x288 with 1 Axes>"
      ]
     },
     "metadata": {
      "needs_background": "light"
     },
     "output_type": "display_data"
    },
    {
     "data": {
      "image/png": "[encoded data removed]",
      "text/plain": [
       "<Figure size 432x288 with 1 Axes>"
      ]
     },
     "metadata": {
      "needs_background": "light"
     },
     "output_type": "display_data"
    },
    {
     "data": {
      "image/png": "[encoded data removed]",
      "text/plain": [
       "<Figure size 432x288 with 1 Axes>"
      ]
     },
     "metadata": {
      "needs_background": "light"
     },
     "output_type": "display_data"
    },
    {
     "data": {
      "image/png": "[encoded data removed]",
      "text/plain": [
       "<Figure size 432x288 with 1 Axes>"
      ]
     },
     "metadata": {
      "needs_background": "light"
     },
     "output_type": "display_data"
    },
    {
     "data": {
      "image/png": "[encoded data removed]",
      "text/plain": [
       "<Figure size 432x288 with 1 Axes>"
      ]
     },
     "metadata": {
      "needs_background": "light"
     },
     "output_type": "display_data"
    },
    {
     "data": {
      "image/png": "[encoded data removed]",
      "text/plain": [
       "<Figure size 432x288 with 1 Axes>"
      ]
     },
     "metadata": {
      "needs_background": "light"
     },
     "output_type": "display_data"
    },
    {
     "data": {
      "image/png": "[encoded data removed]",
      "text/plain": [
       "<Figure size 432x288 with 1 Axes>"
      ]
     },
     "metadata": {
      "needs_background": "light"
     },
     "output_type": "display_data"
    },
    {
     "data": {
      "image/png": "[encoded data removed]",
      "text/plain": [
       "<Figure size 432x288 with 1 Axes>"
      ]
     },
     "metadata": {
      "needs_background": "light"
     },
     "output_type": "display_data"
    }
   ],
   "source": [
    "#выберем самые популярные по продажам платформы, чьи объемы продаж больше 200\n",
    "pop_platform=['PS2', 'X360', 'PS3', 'Wii', 'DS', 'PS', 'PS4', 'GBA', 'PSP', '3DS', 'PC', 'GB', 'XB', 'NES', 'N64', 'SNES']\n",
    "#построим  распределение продаж по этим платформам по годам\n",
    "for platform in pop_platform:\n",
    "    data[data['platform']==platform].pivot_table(index='year_of_release', values='sales',aggfunc='sum').plot(title=platform)"
   ]
  },
  {
   "cell_type": "markdown",
   "id": "cf211735",
   "metadata": {},
   "source": [
    "Платформы в основном осуществляют свою деятельность 6-8 лет"
   ]
  },
  {
   "cell_type": "code",
   "execution_count": 22,
   "id": "a4ca4a5c",
   "metadata": {},
   "outputs": [
    {
     "data": {
      "text/html": [
       "<div>\n",
       "<style scoped>\n",
       "    .dataframe tbody tr th:only-of-type {\n",
       "        vertical-align: middle;\n",
       "    }\n",
       "\n",
       "    .dataframe tbody tr th {\n",
       "        vertical-align: top;\n",
       "    }\n",
       "\n",
       "    .dataframe thead th {\n",
       "        text-align: right;\n",
       "    }\n",
       "</style>\n",
       "<table border=\"1\" class=\"dataframe\">\n",
       "  <thead>\n",
       "    <tr style=\"text-align: right;\">\n",
       "      <th></th>\n",
       "      <th>name</th>\n",
       "      <th>platform</th>\n",
       "      <th>year_of_release</th>\n",
       "      <th>genre</th>\n",
       "      <th>na_sales</th>\n",
       "      <th>eu_sales</th>\n",
       "      <th>jp_sales</th>\n",
       "      <th>other_sales</th>\n",
       "      <th>critic_score</th>\n",
       "      <th>user_score</th>\n",
       "      <th>rating</th>\n",
       "      <th>sales</th>\n",
       "    </tr>\n",
       "  </thead>\n",
       "  <tbody>\n",
       "    <tr>\n",
       "      <th>16</th>\n",
       "      <td>Grand Theft Auto V</td>\n",
       "      <td>PS3</td>\n",
       "      <td>2013-01-01</td>\n",
       "      <td>Action</td>\n",
       "      <td>7.02</td>\n",
       "      <td>9.09</td>\n",
       "      <td>0.98</td>\n",
       "      <td>3.96</td>\n",
       "      <td>97.0</td>\n",
       "      <td>8.2</td>\n",
       "      <td>M</td>\n",
       "      <td>21.05</td>\n",
       "    </tr>\n",
       "    <tr>\n",
       "      <th>23</th>\n",
       "      <td>Grand Theft Auto V</td>\n",
       "      <td>X360</td>\n",
       "      <td>2013-01-01</td>\n",
       "      <td>Action</td>\n",
       "      <td>9.66</td>\n",
       "      <td>5.14</td>\n",
       "      <td>0.06</td>\n",
       "      <td>1.41</td>\n",
       "      <td>97.0</td>\n",
       "      <td>8.1</td>\n",
       "      <td>M</td>\n",
       "      <td>16.27</td>\n",
       "    </tr>\n",
       "    <tr>\n",
       "      <th>31</th>\n",
       "      <td>Call of Duty: Black Ops 3</td>\n",
       "      <td>PS4</td>\n",
       "      <td>2015-01-01</td>\n",
       "      <td>Shooter</td>\n",
       "      <td>6.03</td>\n",
       "      <td>5.86</td>\n",
       "      <td>0.36</td>\n",
       "      <td>2.38</td>\n",
       "      <td>NaN</td>\n",
       "      <td>NaN</td>\n",
       "      <td>NaN</td>\n",
       "      <td>14.63</td>\n",
       "    </tr>\n",
       "    <tr>\n",
       "      <th>33</th>\n",
       "      <td>Pokemon X/Pokemon Y</td>\n",
       "      <td>3DS</td>\n",
       "      <td>2013-01-01</td>\n",
       "      <td>Role-Playing</td>\n",
       "      <td>5.28</td>\n",
       "      <td>4.19</td>\n",
       "      <td>4.35</td>\n",
       "      <td>0.78</td>\n",
       "      <td>NaN</td>\n",
       "      <td>NaN</td>\n",
       "      <td>NaN</td>\n",
       "      <td>14.60</td>\n",
       "    </tr>\n",
       "    <tr>\n",
       "      <th>42</th>\n",
       "      <td>Grand Theft Auto V</td>\n",
       "      <td>PS4</td>\n",
       "      <td>2014-01-01</td>\n",
       "      <td>Action</td>\n",
       "      <td>3.96</td>\n",
       "      <td>6.31</td>\n",
       "      <td>0.38</td>\n",
       "      <td>1.97</td>\n",
       "      <td>97.0</td>\n",
       "      <td>8.3</td>\n",
       "      <td>M</td>\n",
       "      <td>12.62</td>\n",
       "    </tr>\n",
       "    <tr>\n",
       "      <th>...</th>\n",
       "      <td>...</td>\n",
       "      <td>...</td>\n",
       "      <td>...</td>\n",
       "      <td>...</td>\n",
       "      <td>...</td>\n",
       "      <td>...</td>\n",
       "      <td>...</td>\n",
       "      <td>...</td>\n",
       "      <td>...</td>\n",
       "      <td>...</td>\n",
       "      <td>...</td>\n",
       "      <td>...</td>\n",
       "    </tr>\n",
       "    <tr>\n",
       "      <th>16703</th>\n",
       "      <td>Strawberry Nauts</td>\n",
       "      <td>PSV</td>\n",
       "      <td>2016-01-01</td>\n",
       "      <td>Adventure</td>\n",
       "      <td>0.00</td>\n",
       "      <td>0.00</td>\n",
       "      <td>0.01</td>\n",
       "      <td>0.00</td>\n",
       "      <td>NaN</td>\n",
       "      <td>NaN</td>\n",
       "      <td>NaN</td>\n",
       "      <td>0.01</td>\n",
       "    </tr>\n",
       "    <tr>\n",
       "      <th>16707</th>\n",
       "      <td>Aiyoku no Eustia</td>\n",
       "      <td>PSV</td>\n",
       "      <td>2014-01-01</td>\n",
       "      <td>Misc</td>\n",
       "      <td>0.00</td>\n",
       "      <td>0.00</td>\n",
       "      <td>0.01</td>\n",
       "      <td>0.00</td>\n",
       "      <td>NaN</td>\n",
       "      <td>NaN</td>\n",
       "      <td>NaN</td>\n",
       "      <td>0.01</td>\n",
       "    </tr>\n",
       "    <tr>\n",
       "      <th>16710</th>\n",
       "      <td>Samurai Warriors: Sanada Maru</td>\n",
       "      <td>PS3</td>\n",
       "      <td>2016-01-01</td>\n",
       "      <td>Action</td>\n",
       "      <td>0.00</td>\n",
       "      <td>0.00</td>\n",
       "      <td>0.01</td>\n",
       "      <td>0.00</td>\n",
       "      <td>NaN</td>\n",
       "      <td>NaN</td>\n",
       "      <td>NaN</td>\n",
       "      <td>0.01</td>\n",
       "    </tr>\n",
       "    <tr>\n",
       "      <th>16712</th>\n",
       "      <td>Haitaka no Psychedelica</td>\n",
       "      <td>PSV</td>\n",
       "      <td>2016-01-01</td>\n",
       "      <td>Adventure</td>\n",
       "      <td>0.00</td>\n",
       "      <td>0.00</td>\n",
       "      <td>0.01</td>\n",
       "      <td>0.00</td>\n",
       "      <td>NaN</td>\n",
       "      <td>NaN</td>\n",
       "      <td>NaN</td>\n",
       "      <td>0.01</td>\n",
       "    </tr>\n",
       "    <tr>\n",
       "      <th>16714</th>\n",
       "      <td>Winning Post 8 2016</td>\n",
       "      <td>PSV</td>\n",
       "      <td>2016-01-01</td>\n",
       "      <td>Simulation</td>\n",
       "      <td>0.00</td>\n",
       "      <td>0.00</td>\n",
       "      <td>0.01</td>\n",
       "      <td>0.00</td>\n",
       "      <td>NaN</td>\n",
       "      <td>NaN</td>\n",
       "      <td>NaN</td>\n",
       "      <td>0.01</td>\n",
       "    </tr>\n",
       "  </tbody>\n",
       "</table>\n",
       "<p>2233 rows × 12 columns</p>\n",
       "</div>"
      ],
      "text/plain": [
       "                                name platform year_of_release         genre  \\\n",
       "16                Grand Theft Auto V      PS3      2013-01-01        Action   \n",
       "23                Grand Theft Auto V     X360      2013-01-01        Action   \n",
       "31         Call of Duty: Black Ops 3      PS4      2015-01-01       Shooter   \n",
       "33               Pokemon X/Pokemon Y      3DS      2013-01-01  Role-Playing   \n",
       "42                Grand Theft Auto V      PS4      2014-01-01        Action   \n",
       "...                              ...      ...             ...           ...   \n",
       "16703               Strawberry Nauts      PSV      2016-01-01     Adventure   \n",
       "16707               Aiyoku no Eustia      PSV      2014-01-01          Misc   \n",
       "16710  Samurai Warriors: Sanada Maru      PS3      2016-01-01        Action   \n",
       "16712        Haitaka no Psychedelica      PSV      2016-01-01     Adventure   \n",
       "16714            Winning Post 8 2016      PSV      2016-01-01    Simulation   \n",
       "\n",
       "       na_sales  eu_sales  jp_sales  other_sales  critic_score  user_score  \\\n",
       "16         7.02      9.09      0.98         3.96          97.0         8.2   \n",
       "23         9.66      5.14      0.06         1.41          97.0         8.1   \n",
       "31         6.03      5.86      0.36         2.38           NaN         NaN   \n",
       "33         5.28      4.19      4.35         0.78           NaN         NaN   \n",
       "42         3.96      6.31      0.38         1.97          97.0         8.3   \n",
       "...         ...       ...       ...          ...           ...         ...   \n",
       "16703      0.00      0.00      0.01         0.00           NaN         NaN   \n",
       "16707      0.00      0.00      0.01         0.00           NaN         NaN   \n",
       "16710      0.00      0.00      0.01         0.00           NaN         NaN   \n",
       "16712      0.00      0.00      0.01         0.00           NaN         NaN   \n",
       "16714      0.00      0.00      0.01         0.00           NaN         NaN   \n",
       "\n",
       "      rating  sales  \n",
       "16         M  21.05  \n",
       "23         M  16.27  \n",
       "31       NaN  14.63  \n",
       "33       NaN  14.60  \n",
       "42         M  12.62  \n",
       "...      ...    ...  \n",
       "16703    NaN   0.01  \n",
       "16707    NaN   0.01  \n",
       "16710    NaN   0.01  \n",
       "16712    NaN   0.01  \n",
       "16714    NaN   0.01  \n",
       "\n",
       "[2233 rows x 12 columns]"
      ]
     },
     "metadata": {},
     "output_type": "display_data"
    }
   ],
   "source": [
    "#выберем данные c 2013 года\n",
    "data_new=data.query('year_of_release >2012')\n",
    "display(data_new)"
   ]
  },
  {
   "cell_type": "code",
   "execution_count": 23,
   "id": "c6fbe308",
   "metadata": {},
   "outputs": [
    {
     "data": {
      "text/html": [
       "<div>\n",
       "<style scoped>\n",
       "    .dataframe tbody tr th:only-of-type {\n",
       "        vertical-align: middle;\n",
       "    }\n",
       "\n",
       "    .dataframe tbody tr th {\n",
       "        vertical-align: top;\n",
       "    }\n",
       "\n",
       "    .dataframe thead th {\n",
       "        text-align: right;\n",
       "    }\n",
       "</style>\n",
       "<table border=\"1\" class=\"dataframe\">\n",
       "  <thead>\n",
       "    <tr style=\"text-align: right;\">\n",
       "      <th></th>\n",
       "      <th>sales</th>\n",
       "    </tr>\n",
       "    <tr>\n",
       "      <th>platform</th>\n",
       "      <th></th>\n",
       "    </tr>\n",
       "  </thead>\n",
       "  <tbody>\n",
       "    <tr>\n",
       "      <th>PS4</th>\n",
       "      <td>314.14</td>\n",
       "    </tr>\n",
       "    <tr>\n",
       "      <th>PS3</th>\n",
       "      <td>181.43</td>\n",
       "    </tr>\n",
       "    <tr>\n",
       "      <th>XOne</th>\n",
       "      <td>159.32</td>\n",
       "    </tr>\n",
       "    <tr>\n",
       "      <th>3DS</th>\n",
       "      <td>143.25</td>\n",
       "    </tr>\n",
       "    <tr>\n",
       "      <th>X360</th>\n",
       "      <td>136.80</td>\n",
       "    </tr>\n",
       "    <tr>\n",
       "      <th>WiiU</th>\n",
       "      <td>64.63</td>\n",
       "    </tr>\n",
       "    <tr>\n",
       "      <th>PC</th>\n",
       "      <td>39.43</td>\n",
       "    </tr>\n",
       "    <tr>\n",
       "      <th>PSV</th>\n",
       "      <td>32.99</td>\n",
       "    </tr>\n",
       "    <tr>\n",
       "      <th>Wii</th>\n",
       "      <td>13.66</td>\n",
       "    </tr>\n",
       "    <tr>\n",
       "      <th>PSP</th>\n",
       "      <td>3.50</td>\n",
       "    </tr>\n",
       "    <tr>\n",
       "      <th>DS</th>\n",
       "      <td>1.54</td>\n",
       "    </tr>\n",
       "  </tbody>\n",
       "</table>\n",
       "</div>"
      ],
      "text/plain": [
       "           sales\n",
       "platform        \n",
       "PS4       314.14\n",
       "PS3       181.43\n",
       "XOne      159.32\n",
       "3DS       143.25\n",
       "X360      136.80\n",
       "WiiU       64.63\n",
       "PC         39.43\n",
       "PSV        32.99\n",
       "Wii        13.66\n",
       "PSP         3.50\n",
       "DS          1.54"
      ]
     },
     "metadata": {},
     "output_type": "display_data"
    }
   ],
   "source": [
    "#просмотрим повторно данные по продажам на платформах в порядке убывания\n",
    "platform_sales_new=pd.pivot_table(data_new,index='platform', values='sales', aggfunc='sum')\n",
    "platform_sales_new=platform_sales_new.sort_values(by=\"sales\", ascending=False)\n",
    "display(platform_sales_new)"
   ]
  },
  {
   "cell_type": "code",
   "execution_count": 24,
   "id": "b0382b0a",
   "metadata": {
    "scrolled": true
   },
   "outputs": [
    {
     "data": {
      "text/plain": [
       "<matplotlib.legend.Legend at 0x2296b540be0>"
      ]
     },
     "execution_count": 24,
     "metadata": {},
     "output_type": "execute_result"
    },
    {
     "data": {
      "image/png": "[encoded data removed]",
      "text/plain": [
       "<Figure size 720x504 with 1 Axes>"
      ]
     },
     "metadata": {
      "needs_background": "light"
     },
     "output_type": "display_data"
    }
   ],
   "source": [
    "#построим графики продаж по платформам\n",
    "data_new.groupby(['platform', 'year_of_release'])['sales'].sum().unstack('platform').plot(figsize=(10,7))\n",
    "plt.legend(loc='upper center',\n",
    "               mode='expand',\n",
    "               borderaxespad=0,\n",
    "               ncol=6)"
   ]
  },
  {
   "cell_type": "markdown",
   "id": "ec40ade9",
   "metadata": {},
   "source": [
    "Cамыми перспективными платформами являются на сегодня - PS4, Xone, 3DS. Продажы на данных платформах выше остальных.\n"
   ]
  },
  {
   "cell_type": "code",
   "execution_count": 25,
   "id": "08bd3b16",
   "metadata": {},
   "outputs": [
    {
     "data": {
      "text/plain": [
       "<AxesSubplot:xlabel='platform', ylabel='sales'>"
      ]
     },
     "execution_count": 25,
     "metadata": {},
     "output_type": "execute_result"
    },
    {
     "data": {
      "image/png": "[encoded data removed]",
      "text/plain": [
       "<Figure size 720x504 with 1 Axes>"
      ]
     },
     "metadata": {
      "needs_background": "light"
     },
     "output_type": "display_data"
    }
   ],
   "source": [
    "# построим распределение продаж по платформам\n",
    "plt.figure(figsize=(10,7))\n",
    "sns.boxplot(x=data_new['platform'], y=data_new['sales'])\n",
    "\n"
   ]
  },
  {
   "cell_type": "markdown",
   "id": "173596dd",
   "metadata": {},
   "source": [
    "Просмотрев распределение продаж по платформам, выявлены очень яркие выбросы продаж у платформ PS3, PS4, 3DS, X360. Продажи некоторых игр на данных платформах значительно превышали средние значение."
   ]
  },
  {
   "cell_type": "code",
   "execution_count": 26,
   "id": "0b2d600c",
   "metadata": {},
   "outputs": [
    {
     "data": {
      "text/html": [
       "<div>\n",
       "<style scoped>\n",
       "    .dataframe tbody tr th:only-of-type {\n",
       "        vertical-align: middle;\n",
       "    }\n",
       "\n",
       "    .dataframe tbody tr th {\n",
       "        vertical-align: top;\n",
       "    }\n",
       "\n",
       "    .dataframe thead th {\n",
       "        text-align: right;\n",
       "    }\n",
       "</style>\n",
       "<table border=\"1\" class=\"dataframe\">\n",
       "  <thead>\n",
       "    <tr style=\"text-align: right;\">\n",
       "      <th></th>\n",
       "      <th>name</th>\n",
       "      <th>platform</th>\n",
       "      <th>year_of_release</th>\n",
       "      <th>genre</th>\n",
       "      <th>na_sales</th>\n",
       "      <th>eu_sales</th>\n",
       "      <th>jp_sales</th>\n",
       "      <th>other_sales</th>\n",
       "      <th>critic_score</th>\n",
       "      <th>user_score</th>\n",
       "      <th>rating</th>\n",
       "      <th>sales</th>\n",
       "    </tr>\n",
       "  </thead>\n",
       "  <tbody>\n",
       "    <tr>\n",
       "      <th>31</th>\n",
       "      <td>Call of Duty: Black Ops 3</td>\n",
       "      <td>PS4</td>\n",
       "      <td>2015-01-01</td>\n",
       "      <td>Shooter</td>\n",
       "      <td>6.03</td>\n",
       "      <td>5.86</td>\n",
       "      <td>0.36</td>\n",
       "      <td>2.38</td>\n",
       "      <td>NaN</td>\n",
       "      <td>NaN</td>\n",
       "      <td>NaN</td>\n",
       "      <td>14.63</td>\n",
       "    </tr>\n",
       "    <tr>\n",
       "      <th>42</th>\n",
       "      <td>Grand Theft Auto V</td>\n",
       "      <td>PS4</td>\n",
       "      <td>2014-01-01</td>\n",
       "      <td>Action</td>\n",
       "      <td>3.96</td>\n",
       "      <td>6.31</td>\n",
       "      <td>0.38</td>\n",
       "      <td>1.97</td>\n",
       "      <td>97.0</td>\n",
       "      <td>8.3</td>\n",
       "      <td>M</td>\n",
       "      <td>12.62</td>\n",
       "    </tr>\n",
       "    <tr>\n",
       "      <th>77</th>\n",
       "      <td>FIFA 16</td>\n",
       "      <td>PS4</td>\n",
       "      <td>2015-01-01</td>\n",
       "      <td>Sports</td>\n",
       "      <td>1.12</td>\n",
       "      <td>6.12</td>\n",
       "      <td>0.06</td>\n",
       "      <td>1.28</td>\n",
       "      <td>82.0</td>\n",
       "      <td>4.3</td>\n",
       "      <td>E</td>\n",
       "      <td>8.58</td>\n",
       "    </tr>\n",
       "    <tr>\n",
       "      <th>87</th>\n",
       "      <td>Star Wars Battlefront (2015)</td>\n",
       "      <td>PS4</td>\n",
       "      <td>2015-01-01</td>\n",
       "      <td>Shooter</td>\n",
       "      <td>2.99</td>\n",
       "      <td>3.49</td>\n",
       "      <td>0.22</td>\n",
       "      <td>1.28</td>\n",
       "      <td>NaN</td>\n",
       "      <td>NaN</td>\n",
       "      <td>NaN</td>\n",
       "      <td>7.98</td>\n",
       "    </tr>\n",
       "    <tr>\n",
       "      <th>92</th>\n",
       "      <td>Call of Duty: Advanced Warfare</td>\n",
       "      <td>PS4</td>\n",
       "      <td>2014-01-01</td>\n",
       "      <td>Shooter</td>\n",
       "      <td>2.81</td>\n",
       "      <td>3.48</td>\n",
       "      <td>0.14</td>\n",
       "      <td>1.23</td>\n",
       "      <td>83.0</td>\n",
       "      <td>5.7</td>\n",
       "      <td>M</td>\n",
       "      <td>7.66</td>\n",
       "    </tr>\n",
       "    <tr>\n",
       "      <th>...</th>\n",
       "      <td>...</td>\n",
       "      <td>...</td>\n",
       "      <td>...</td>\n",
       "      <td>...</td>\n",
       "      <td>...</td>\n",
       "      <td>...</td>\n",
       "      <td>...</td>\n",
       "      <td>...</td>\n",
       "      <td>...</td>\n",
       "      <td>...</td>\n",
       "      <td>...</td>\n",
       "      <td>...</td>\n",
       "    </tr>\n",
       "    <tr>\n",
       "      <th>16500</th>\n",
       "      <td>Root Letter</td>\n",
       "      <td>PS4</td>\n",
       "      <td>2016-01-01</td>\n",
       "      <td>Adventure</td>\n",
       "      <td>0.00</td>\n",
       "      <td>0.00</td>\n",
       "      <td>0.01</td>\n",
       "      <td>0.00</td>\n",
       "      <td>69.0</td>\n",
       "      <td>7.5</td>\n",
       "      <td>NaN</td>\n",
       "      <td>0.01</td>\n",
       "    </tr>\n",
       "    <tr>\n",
       "      <th>16503</th>\n",
       "      <td>Shin Hayarigami 2</td>\n",
       "      <td>PS4</td>\n",
       "      <td>2016-01-01</td>\n",
       "      <td>Adventure</td>\n",
       "      <td>0.00</td>\n",
       "      <td>0.00</td>\n",
       "      <td>0.01</td>\n",
       "      <td>0.00</td>\n",
       "      <td>NaN</td>\n",
       "      <td>NaN</td>\n",
       "      <td>NaN</td>\n",
       "      <td>0.01</td>\n",
       "    </tr>\n",
       "    <tr>\n",
       "      <th>16526</th>\n",
       "      <td>Dungeons 2</td>\n",
       "      <td>PS4</td>\n",
       "      <td>2016-01-01</td>\n",
       "      <td>Role-Playing</td>\n",
       "      <td>0.01</td>\n",
       "      <td>0.00</td>\n",
       "      <td>0.00</td>\n",
       "      <td>0.00</td>\n",
       "      <td>61.0</td>\n",
       "      <td>7.9</td>\n",
       "      <td>T</td>\n",
       "      <td>0.01</td>\n",
       "    </tr>\n",
       "    <tr>\n",
       "      <th>16530</th>\n",
       "      <td>Carmageddon: Max Damage</td>\n",
       "      <td>PS4</td>\n",
       "      <td>2016-01-01</td>\n",
       "      <td>Action</td>\n",
       "      <td>0.01</td>\n",
       "      <td>0.00</td>\n",
       "      <td>0.00</td>\n",
       "      <td>0.00</td>\n",
       "      <td>51.0</td>\n",
       "      <td>5.5</td>\n",
       "      <td>M</td>\n",
       "      <td>0.01</td>\n",
       "    </tr>\n",
       "    <tr>\n",
       "      <th>16585</th>\n",
       "      <td>Farming 2017 - The Simulation</td>\n",
       "      <td>PS4</td>\n",
       "      <td>2016-01-01</td>\n",
       "      <td>Simulation</td>\n",
       "      <td>0.00</td>\n",
       "      <td>0.01</td>\n",
       "      <td>0.00</td>\n",
       "      <td>0.00</td>\n",
       "      <td>NaN</td>\n",
       "      <td>NaN</td>\n",
       "      <td>NaN</td>\n",
       "      <td>0.01</td>\n",
       "    </tr>\n",
       "  </tbody>\n",
       "</table>\n",
       "<p>392 rows × 12 columns</p>\n",
       "</div>"
      ],
      "text/plain": [
       "                                 name platform year_of_release         genre  \\\n",
       "31          Call of Duty: Black Ops 3      PS4      2015-01-01       Shooter   \n",
       "42                 Grand Theft Auto V      PS4      2014-01-01        Action   \n",
       "77                            FIFA 16      PS4      2015-01-01        Sports   \n",
       "87       Star Wars Battlefront (2015)      PS4      2015-01-01       Shooter   \n",
       "92     Call of Duty: Advanced Warfare      PS4      2014-01-01       Shooter   \n",
       "...                               ...      ...             ...           ...   \n",
       "16500                     Root Letter      PS4      2016-01-01     Adventure   \n",
       "16503               Shin Hayarigami 2      PS4      2016-01-01     Adventure   \n",
       "16526                      Dungeons 2      PS4      2016-01-01  Role-Playing   \n",
       "16530         Carmageddon: Max Damage      PS4      2016-01-01        Action   \n",
       "16585   Farming 2017 - The Simulation      PS4      2016-01-01    Simulation   \n",
       "\n",
       "       na_sales  eu_sales  jp_sales  other_sales  critic_score  user_score  \\\n",
       "31         6.03      5.86      0.36         2.38           NaN         NaN   \n",
       "42         3.96      6.31      0.38         1.97          97.0         8.3   \n",
       "77         1.12      6.12      0.06         1.28          82.0         4.3   \n",
       "87         2.99      3.49      0.22         1.28           NaN         NaN   \n",
       "92         2.81      3.48      0.14         1.23          83.0         5.7   \n",
       "...         ...       ...       ...          ...           ...         ...   \n",
       "16500      0.00      0.00      0.01         0.00          69.0         7.5   \n",
       "16503      0.00      0.00      0.01         0.00           NaN         NaN   \n",
       "16526      0.01      0.00      0.00         0.00          61.0         7.9   \n",
       "16530      0.01      0.00      0.00         0.00          51.0         5.5   \n",
       "16585      0.00      0.01      0.00         0.00           NaN         NaN   \n",
       "\n",
       "      rating  sales  \n",
       "31       NaN  14.63  \n",
       "42         M  12.62  \n",
       "77         E   8.58  \n",
       "87       NaN   7.98  \n",
       "92         M   7.66  \n",
       "...      ...    ...  \n",
       "16500    NaN   0.01  \n",
       "16503    NaN   0.01  \n",
       "16526      T   0.01  \n",
       "16530      M   0.01  \n",
       "16585    NaN   0.01  \n",
       "\n",
       "[392 rows x 12 columns]"
      ]
     },
     "metadata": {},
     "output_type": "display_data"
    }
   ],
   "source": [
    "#Посмотрим данные по одной из очень популярных платформ за последние 3 года - PS4\n",
    "dataPS4=data_new.loc[data_new['platform']=='PS4']\n",
    "display(dataPS4)"
   ]
  },
  {
   "cell_type": "code",
   "execution_count": 27,
   "id": "8e764ccf",
   "metadata": {},
   "outputs": [
    {
     "data": {
      "text/plain": [
       "<AxesSubplot:xlabel='critic_score', ylabel='sales'>"
      ]
     },
     "execution_count": 27,
     "metadata": {},
     "output_type": "execute_result"
    },
    {
     "data": {
      "image/png": "[encoded data removed]",
      "text/plain": [
       "<Figure size 432x288 with 1 Axes>"
      ]
     },
     "metadata": {
      "needs_background": "light"
     },
     "output_type": "display_data"
    }
   ],
   "source": [
    "#построим диаграмму рассеяния для показателей \"оценка критиков\" и \"продажи\" платформы PS4\n",
    "sns.scatterplot(data=dataPS4, x='critic_score', y='sales')"
   ]
  },
  {
   "cell_type": "code",
   "execution_count": 28,
   "id": "a7fb96da",
   "metadata": {},
   "outputs": [
    {
     "data": {
      "text/plain": [
       "<AxesSubplot:xlabel='user_score', ylabel='sales'>"
      ]
     },
     "execution_count": 28,
     "metadata": {},
     "output_type": "execute_result"
    },
    {
     "data": {
      "image/png": "[encoded data removed]",
      "text/plain": [
       "<Figure size 432x288 with 1 Axes>"
      ]
     },
     "metadata": {
      "needs_background": "light"
     },
     "output_type": "display_data"
    }
   ],
   "source": [
    "#построим диаграмму рассеяния для показателей \"оценка пользователей\" и \"продажи\" платформы PS4\n",
    "sns.scatterplot(data=dataPS4, x='user_score', y='sales')"
   ]
  },
  {
   "cell_type": "code",
   "execution_count": 29,
   "id": "2c93bd3e",
   "metadata": {},
   "outputs": [
    {
     "data": {
      "text/plain": [
       "0.40656790206178123"
      ]
     },
     "metadata": {},
     "output_type": "display_data"
    },
    {
     "data": {
      "text/plain": [
       "-0.03195711020455644"
      ]
     },
     "metadata": {},
     "output_type": "display_data"
    }
   ],
   "source": [
    "display(dataPS4['critic_score'].corr(dataPS4['sales']))\n",
    "display(dataPS4['user_score'].corr(dataPS4['sales']))\n"
   ]
  },
  {
   "cell_type": "markdown",
   "id": "0e01e1d8",
   "metadata": {},
   "source": [
    "Расчет коэффициента корреляции  между оценкой критиков и продажами на платформе PS4 указывает на большую прямую зависимость между этими двумя параметрами. Зависимость между оценкой пользователей и продажами не наблюдается."
   ]
  },
  {
   "cell_type": "code",
   "execution_count": 30,
   "id": "287ea312",
   "metadata": {},
   "outputs": [],
   "source": [
    "#проверим аналогичные взаимосвязи для платформы Xone\n",
    "dataXone=data_new.loc[data_new['platform']=='XOne']"
   ]
  },
  {
   "cell_type": "code",
   "execution_count": 31,
   "id": "d3d4a033",
   "metadata": {},
   "outputs": [
    {
     "data": {
      "text/plain": [
       "<AxesSubplot:xlabel='critic_score', ylabel='sales'>"
      ]
     },
     "execution_count": 31,
     "metadata": {},
     "output_type": "execute_result"
    },
    {
     "data": {
      "image/png": "[encoded data removed]",
      "text/plain": [
       "<Figure size 432x288 with 1 Axes>"
      ]
     },
     "metadata": {
      "needs_background": "light"
     },
     "output_type": "display_data"
    }
   ],
   "source": [
    "sns.scatterplot(data=dataXone, x='critic_score', y='sales', legend=\"full\")\n",
    "sns.scatterplot(data=dataXone, x='user_score', y='sales')"
   ]
  },
  {
   "cell_type": "code",
   "execution_count": 32,
   "id": "36d5f3a4",
   "metadata": {},
   "outputs": [
    {
     "data": {
      "text/plain": [
       "0.41699832800840153"
      ]
     },
     "metadata": {},
     "output_type": "display_data"
    },
    {
     "data": {
      "text/plain": [
       "-0.06892505328279418"
      ]
     },
     "metadata": {},
     "output_type": "display_data"
    }
   ],
   "source": [
    "display(dataXone['critic_score'].corr(dataXone['sales']))\n",
    "display(dataXone['user_score'].corr(dataXone['sales']))"
   ]
  },
  {
   "cell_type": "markdown",
   "id": "de43d23b",
   "metadata": {},
   "source": [
    "Расчет коэффициента корреляции  между оценкой критиков и продажами на платформе Xone указывает на большую прямую зависимость между этими двумя параметрами. Зависимость между оценкой пользователей и продажами не наблюдается."
   ]
  },
  {
   "cell_type": "code",
   "execution_count": 33,
   "id": "b601b424",
   "metadata": {},
   "outputs": [],
   "source": [
    "#просмотрим данные по платформе 3DS\n",
    "data3DS=data_new.loc[data_new['platform']=='3DS']\n"
   ]
  },
  {
   "cell_type": "code",
   "execution_count": 34,
   "id": "e2d56fa7",
   "metadata": {},
   "outputs": [
    {
     "data": {
      "text/plain": [
       "<AxesSubplot:xlabel='critic_score', ylabel='sales'>"
      ]
     },
     "execution_count": 34,
     "metadata": {},
     "output_type": "execute_result"
    },
    {
     "data": {
      "image/png": "[encoded data removed]",
      "text/plain": [
       "<Figure size 432x288 with 1 Axes>"
      ]
     },
     "metadata": {
      "needs_background": "light"
     },
     "output_type": "display_data"
    }
   ],
   "source": [
    "sns.scatterplot(data=data3DS, x='critic_score', y='sales', legend=\"full\")\n",
    "sns.scatterplot(data=data3DS, x='user_score', y='sales')"
   ]
  },
  {
   "cell_type": "code",
   "execution_count": 35,
   "id": "5c08e8ca",
   "metadata": {},
   "outputs": [
    {
     "data": {
      "text/plain": [
       "0.3570566142288104"
      ]
     },
     "metadata": {},
     "output_type": "display_data"
    },
    {
     "data": {
      "text/plain": [
       "0.24150411773563005"
      ]
     },
     "metadata": {},
     "output_type": "display_data"
    }
   ],
   "source": [
    "#просчитаем коэффициент корреляции между оценками и продажами\n",
    "display(data3DS['critic_score'].corr(data3DS['sales']))\n",
    "display(data3DS['user_score'].corr(data3DS['sales']))"
   ]
  },
  {
   "cell_type": "markdown",
   "id": "b808ad92",
   "metadata": {},
   "source": [
    "Расчет коэффициента корреляции  между оценкой критиков и продажами на платформе 3DS указывает на бОльшую прямую зависимость между этими двумя параметрами. Зависимость между оценкой пользователей и продажами не такая яркая."
   ]
  },
  {
   "cell_type": "code",
   "execution_count": 36,
   "id": "257992bf",
   "metadata": {},
   "outputs": [
    {
     "data": {
      "text/html": [
       "<div>\n",
       "<style scoped>\n",
       "    .dataframe tbody tr th:only-of-type {\n",
       "        vertical-align: middle;\n",
       "    }\n",
       "\n",
       "    .dataframe tbody tr th {\n",
       "        vertical-align: top;\n",
       "    }\n",
       "\n",
       "    .dataframe thead th {\n",
       "        text-align: right;\n",
       "    }\n",
       "</style>\n",
       "<table border=\"1\" class=\"dataframe\">\n",
       "  <thead>\n",
       "    <tr style=\"text-align: right;\">\n",
       "      <th></th>\n",
       "      <th>sales</th>\n",
       "    </tr>\n",
       "    <tr>\n",
       "      <th>genre</th>\n",
       "      <th></th>\n",
       "    </tr>\n",
       "  </thead>\n",
       "  <tbody>\n",
       "    <tr>\n",
       "      <th>Shooter</th>\n",
       "      <td>0.450</td>\n",
       "    </tr>\n",
       "    <tr>\n",
       "      <th>Sports</th>\n",
       "      <td>0.240</td>\n",
       "    </tr>\n",
       "    <tr>\n",
       "      <th>Platform</th>\n",
       "      <td>0.225</td>\n",
       "    </tr>\n",
       "    <tr>\n",
       "      <th>Role-Playing</th>\n",
       "      <td>0.125</td>\n",
       "    </tr>\n",
       "    <tr>\n",
       "      <th>Fighting</th>\n",
       "      <td>0.125</td>\n",
       "    </tr>\n",
       "    <tr>\n",
       "      <th>Racing</th>\n",
       "      <td>0.120</td>\n",
       "    </tr>\n",
       "    <tr>\n",
       "      <th>Action</th>\n",
       "      <td>0.110</td>\n",
       "    </tr>\n",
       "    <tr>\n",
       "      <th>Simulation</th>\n",
       "      <td>0.100</td>\n",
       "    </tr>\n",
       "    <tr>\n",
       "      <th>Misc</th>\n",
       "      <td>0.100</td>\n",
       "    </tr>\n",
       "    <tr>\n",
       "      <th>Strategy</th>\n",
       "      <td>0.080</td>\n",
       "    </tr>\n",
       "    <tr>\n",
       "      <th>Puzzle</th>\n",
       "      <td>0.060</td>\n",
       "    </tr>\n",
       "    <tr>\n",
       "      <th>Adventure</th>\n",
       "      <td>0.030</td>\n",
       "    </tr>\n",
       "  </tbody>\n",
       "</table>\n",
       "</div>"
      ],
      "text/plain": [
       "              sales\n",
       "genre              \n",
       "Shooter       0.450\n",
       "Sports        0.240\n",
       "Platform      0.225\n",
       "Role-Playing  0.125\n",
       "Fighting      0.125\n",
       "Racing        0.120\n",
       "Action        0.110\n",
       "Simulation    0.100\n",
       "Misc          0.100\n",
       "Strategy      0.080\n",
       "Puzzle        0.060\n",
       "Adventure     0.030"
      ]
     },
     "metadata": {},
     "output_type": "display_data"
    }
   ],
   "source": [
    "#просмотрим продажи по жанрам\n",
    "genre_sales_new=pd.pivot_table(data_new,index='genre', values='sales', aggfunc='median')\n",
    "genre_sales_new=genre_sales_new.sort_values(by=\"sales\", ascending=False)\n",
    "display(genre_sales_new)"
   ]
  },
  {
   "cell_type": "code",
   "execution_count": 37,
   "id": "70fad80f",
   "metadata": {},
   "outputs": [
    {
     "data": {
      "text/plain": [
       "<matplotlib.legend.Legend at 0x22969f35af0>"
      ]
     },
     "execution_count": 37,
     "metadata": {},
     "output_type": "execute_result"
    },
    {
     "data": {
      "image/png": "[encoded data removed]",
      "text/plain": [
       "<Figure size 720x504 with 1 Axes>"
      ]
     },
     "metadata": {
      "needs_background": "light"
     },
     "output_type": "display_data"
    }
   ],
   "source": [
    "#просмотрим как менялись продажи по жанрам, по годам\n",
    "data_new.groupby(['genre', 'year_of_release'])['sales'].median().unstack('genre').plot(figsize=(10,7))\n",
    "plt.legend( loc='upper center',\n",
    "               mode='expand',\n",
    "               borderaxespad=0,\n",
    "               ncol=5)"
   ]
  },
  {
   "cell_type": "code",
   "execution_count": 38,
   "id": "a5545171",
   "metadata": {},
   "outputs": [
    {
     "data": {
      "text/plain": [
       "<AxesSubplot:xlabel='year_of_release'>"
      ]
     },
     "execution_count": 38,
     "metadata": {},
     "output_type": "execute_result"
    },
    {
     "data": {
      "image/png": "[encoded data removed]",
      "text/plain": [
       "<Figure size 720x504 with 1 Axes>"
      ]
     },
     "metadata": {
      "needs_background": "light"
     },
     "output_type": "display_data"
    }
   ],
   "source": [
    "data_pop_genre=data_new.loc[(data_new['genre']=='Shooter') | (data_new['genre']=='Sports') | (data_new['genre']=='Platform') ]\n",
    "data_pop_genre.groupby(['genre', 'year_of_release'])['sales'].median().unstack('genre').plot(kind='bar', figsize=(10,7))"
   ]
  },
  {
   "cell_type": "code",
   "execution_count": 40,
   "id": "14d0bd4a",
   "metadata": {},
   "outputs": [
    {
     "data": {
      "image/png": "[encoded data removed]",
      "text/plain": [
       "<Figure size 1152x648 with 1 Axes>"
      ]
     },
     "metadata": {
      "needs_background": "light"
     },
     "output_type": "display_data"
    }
   ],
   "source": [
    "\n",
    "data_new.groupby('genre')['sales'].median()\\\n",
    "    .sort_values(ascending = False)\\\n",
    "    .plot(kind = 'bar', figsize = (16,9))\n",
    "plt.show()"
   ]
  },
  {
   "cell_type": "markdown",
   "id": "a29f76e6",
   "metadata": {},
   "source": [
    "### 3.1 Выводы по исследовательскому анализу данных"
   ]
  },
  {
   "cell_type": "markdown",
   "id": "c4a2c011",
   "metadata": {},
   "source": [
    "Просмотрев данные о продажах по платформам было выявлено следующее:\n",
    "\n",
    "    - самый большое количество игр выпускалось в 2008-2009 годах;\n",
    "    - на сегодня количество выпускаемых игр становится меньше и меньше;\n",
    "    - платформы обычно осуществляют активную деятельность в течение 6-8 лет;\n",
    "    - для анализа данных были выбраны данные c 2013 года;\n",
    "    - самыми перспективными являются на сегодня - PS4, Xone, 3DS. Продажы на данных платформах за последние годы выше остальных;\n",
    "    - зависимость между оценками  критиков и объемом продаж выше, чем между оценкой пользователей и объемом продаж.\n",
    "\n",
    "Проанализировав данные о  медиана продаж в жанрах, выявлено, что самыми популярными жанрами являются Shooter, Sports и Platform.\n",
    "Наименее популярными жанры- Strategy, Puzzle, Adventure. \n"
   ]
  },
  {
   "cell_type": "markdown",
   "id": "7f3439d9",
   "metadata": {},
   "source": [
    "## 4. Портрет пользователя каждого региона"
   ]
  },
  {
   "cell_type": "code",
   "execution_count": 41,
   "id": "3e7c0fdb",
   "metadata": {},
   "outputs": [
    {
     "data": {
      "text/html": [
       "<div>\n",
       "<style scoped>\n",
       "    .dataframe tbody tr th:only-of-type {\n",
       "        vertical-align: middle;\n",
       "    }\n",
       "\n",
       "    .dataframe tbody tr th {\n",
       "        vertical-align: top;\n",
       "    }\n",
       "\n",
       "    .dataframe thead th {\n",
       "        text-align: right;\n",
       "    }\n",
       "</style>\n",
       "<table border=\"1\" class=\"dataframe\">\n",
       "  <thead>\n",
       "    <tr style=\"text-align: right;\">\n",
       "      <th></th>\n",
       "      <th>eu_sales</th>\n",
       "      <th>jp_sales</th>\n",
       "      <th>na_sales</th>\n",
       "      <th>sales</th>\n",
       "      <th>share_eu</th>\n",
       "      <th>share_jp</th>\n",
       "      <th>share_na</th>\n",
       "    </tr>\n",
       "    <tr>\n",
       "      <th>platform</th>\n",
       "      <th></th>\n",
       "      <th></th>\n",
       "      <th></th>\n",
       "      <th></th>\n",
       "      <th></th>\n",
       "      <th></th>\n",
       "      <th></th>\n",
       "    </tr>\n",
       "  </thead>\n",
       "  <tbody>\n",
       "    <tr>\n",
       "      <th>PS4</th>\n",
       "      <td>141.09</td>\n",
       "      <td>15.96</td>\n",
       "      <td>108.74</td>\n",
       "      <td>314.14</td>\n",
       "      <td>0.449131</td>\n",
       "      <td>0.050805</td>\n",
       "      <td>0.346151</td>\n",
       "    </tr>\n",
       "    <tr>\n",
       "      <th>PS3</th>\n",
       "      <td>67.81</td>\n",
       "      <td>23.35</td>\n",
       "      <td>63.50</td>\n",
       "      <td>181.43</td>\n",
       "      <td>0.373753</td>\n",
       "      <td>0.128700</td>\n",
       "      <td>0.349997</td>\n",
       "    </tr>\n",
       "    <tr>\n",
       "      <th>XOne</th>\n",
       "      <td>51.59</td>\n",
       "      <td>0.34</td>\n",
       "      <td>93.12</td>\n",
       "      <td>159.32</td>\n",
       "      <td>0.323814</td>\n",
       "      <td>0.002134</td>\n",
       "      <td>0.584484</td>\n",
       "    </tr>\n",
       "    <tr>\n",
       "      <th>3DS</th>\n",
       "      <td>30.96</td>\n",
       "      <td>67.81</td>\n",
       "      <td>38.20</td>\n",
       "      <td>143.25</td>\n",
       "      <td>0.216126</td>\n",
       "      <td>0.473368</td>\n",
       "      <td>0.266667</td>\n",
       "    </tr>\n",
       "    <tr>\n",
       "      <th>X360</th>\n",
       "      <td>42.52</td>\n",
       "      <td>0.51</td>\n",
       "      <td>81.66</td>\n",
       "      <td>136.80</td>\n",
       "      <td>0.310819</td>\n",
       "      <td>0.003728</td>\n",
       "      <td>0.596930</td>\n",
       "    </tr>\n",
       "    <tr>\n",
       "      <th>WiiU</th>\n",
       "      <td>19.85</td>\n",
       "      <td>10.88</td>\n",
       "      <td>29.21</td>\n",
       "      <td>64.63</td>\n",
       "      <td>0.307133</td>\n",
       "      <td>0.168343</td>\n",
       "      <td>0.451957</td>\n",
       "    </tr>\n",
       "    <tr>\n",
       "      <th>PC</th>\n",
       "      <td>25.36</td>\n",
       "      <td>0.00</td>\n",
       "      <td>11.11</td>\n",
       "      <td>39.43</td>\n",
       "      <td>0.643165</td>\n",
       "      <td>0.000000</td>\n",
       "      <td>0.281765</td>\n",
       "    </tr>\n",
       "    <tr>\n",
       "      <th>PSV</th>\n",
       "      <td>6.10</td>\n",
       "      <td>18.59</td>\n",
       "      <td>5.04</td>\n",
       "      <td>32.99</td>\n",
       "      <td>0.184905</td>\n",
       "      <td>0.563504</td>\n",
       "      <td>0.152774</td>\n",
       "    </tr>\n",
       "    <tr>\n",
       "      <th>Wii</th>\n",
       "      <td>5.93</td>\n",
       "      <td>0.05</td>\n",
       "      <td>6.56</td>\n",
       "      <td>13.66</td>\n",
       "      <td>0.434114</td>\n",
       "      <td>0.003660</td>\n",
       "      <td>0.480234</td>\n",
       "    </tr>\n",
       "    <tr>\n",
       "      <th>PSP</th>\n",
       "      <td>0.17</td>\n",
       "      <td>3.29</td>\n",
       "      <td>0.00</td>\n",
       "      <td>3.50</td>\n",
       "      <td>0.048571</td>\n",
       "      <td>0.940000</td>\n",
       "      <td>0.000000</td>\n",
       "    </tr>\n",
       "    <tr>\n",
       "      <th>DS</th>\n",
       "      <td>0.85</td>\n",
       "      <td>0.00</td>\n",
       "      <td>0.57</td>\n",
       "      <td>1.54</td>\n",
       "      <td>0.551948</td>\n",
       "      <td>0.000000</td>\n",
       "      <td>0.370130</td>\n",
       "    </tr>\n",
       "  </tbody>\n",
       "</table>\n",
       "</div>"
      ],
      "text/plain": [
       "          eu_sales  jp_sales  na_sales   sales  share_eu  share_jp  share_na\n",
       "platform                                                                    \n",
       "PS4         141.09     15.96    108.74  314.14  0.449131  0.050805  0.346151\n",
       "PS3          67.81     23.35     63.50  181.43  0.373753  0.128700  0.349997\n",
       "XOne         51.59      0.34     93.12  159.32  0.323814  0.002134  0.584484\n",
       "3DS          30.96     67.81     38.20  143.25  0.216126  0.473368  0.266667\n",
       "X360         42.52      0.51     81.66  136.80  0.310819  0.003728  0.596930\n",
       "WiiU         19.85     10.88     29.21   64.63  0.307133  0.168343  0.451957\n",
       "PC           25.36      0.00     11.11   39.43  0.643165  0.000000  0.281765\n",
       "PSV           6.10     18.59      5.04   32.99  0.184905  0.563504  0.152774\n",
       "Wii           5.93      0.05      6.56   13.66  0.434114  0.003660  0.480234\n",
       "PSP           0.17      3.29      0.00    3.50  0.048571  0.940000  0.000000\n",
       "DS            0.85      0.00      0.57    1.54  0.551948  0.000000  0.370130"
      ]
     },
     "metadata": {},
     "output_type": "display_data"
    }
   ],
   "source": [
    "# просмотрим продажи по платформам в различных регионах, посчитаем долю продаж\n",
    "platform_sales_region=pd.pivot_table(data_new,index='platform', values=('na_sales', 'eu_sales', 'jp_sales', 'sales'), aggfunc='sum')\n",
    "platform_sales_region=platform_sales_region.sort_values(by=\"sales\", ascending=False)\n",
    "platform_sales_region['share_eu']=platform_sales_region['eu_sales']/platform_sales_region['sales']\n",
    "platform_sales_region['share_jp']=platform_sales_region['jp_sales']/platform_sales_region['sales']\n",
    "platform_sales_region['share_na']=platform_sales_region['na_sales']/platform_sales_region['sales']\n",
    "display(platform_sales_region)"
   ]
  },
  {
   "cell_type": "markdown",
   "id": "500b066a",
   "metadata": {},
   "source": [
    "Просматривая продажи по ТОП-5 платформам в различных регионах, можно сделать вывод, что основная доля продаж приходится на Северную Америку, за исключением продаж на платформе PS4 (основная доля продаж - в Европе). Меньше всего продаж приходится на Японию"
   ]
  },
  {
   "cell_type": "code",
   "execution_count": 42,
   "id": "75ae1e6c",
   "metadata": {},
   "outputs": [
    {
     "data": {
      "text/html": [
       "<div>\n",
       "<style scoped>\n",
       "    .dataframe tbody tr th:only-of-type {\n",
       "        vertical-align: middle;\n",
       "    }\n",
       "\n",
       "    .dataframe tbody tr th {\n",
       "        vertical-align: top;\n",
       "    }\n",
       "\n",
       "    .dataframe thead th {\n",
       "        text-align: right;\n",
       "    }\n",
       "</style>\n",
       "<table border=\"1\" class=\"dataframe\">\n",
       "  <thead>\n",
       "    <tr style=\"text-align: right;\">\n",
       "      <th></th>\n",
       "      <th>eu_sales</th>\n",
       "      <th>shape_sales</th>\n",
       "    </tr>\n",
       "    <tr>\n",
       "      <th>platform</th>\n",
       "      <th></th>\n",
       "      <th></th>\n",
       "    </tr>\n",
       "  </thead>\n",
       "  <tbody>\n",
       "    <tr>\n",
       "      <th>PS4</th>\n",
       "      <td>141.09</td>\n",
       "      <td>0.359712</td>\n",
       "    </tr>\n",
       "    <tr>\n",
       "      <th>PS3</th>\n",
       "      <td>67.81</td>\n",
       "      <td>0.172883</td>\n",
       "    </tr>\n",
       "    <tr>\n",
       "      <th>XOne</th>\n",
       "      <td>51.59</td>\n",
       "      <td>0.131530</td>\n",
       "    </tr>\n",
       "    <tr>\n",
       "      <th>X360</th>\n",
       "      <td>42.52</td>\n",
       "      <td>0.108406</td>\n",
       "    </tr>\n",
       "    <tr>\n",
       "      <th>3DS</th>\n",
       "      <td>30.96</td>\n",
       "      <td>0.078933</td>\n",
       "    </tr>\n",
       "    <tr>\n",
       "      <th>PC</th>\n",
       "      <td>25.36</td>\n",
       "      <td>0.064656</td>\n",
       "    </tr>\n",
       "    <tr>\n",
       "      <th>WiiU</th>\n",
       "      <td>19.85</td>\n",
       "      <td>0.050608</td>\n",
       "    </tr>\n",
       "    <tr>\n",
       "      <th>PSV</th>\n",
       "      <td>6.10</td>\n",
       "      <td>0.015552</td>\n",
       "    </tr>\n",
       "    <tr>\n",
       "      <th>Wii</th>\n",
       "      <td>5.93</td>\n",
       "      <td>0.015119</td>\n",
       "    </tr>\n",
       "    <tr>\n",
       "      <th>DS</th>\n",
       "      <td>0.85</td>\n",
       "      <td>0.002167</td>\n",
       "    </tr>\n",
       "    <tr>\n",
       "      <th>PSP</th>\n",
       "      <td>0.17</td>\n",
       "      <td>0.000433</td>\n",
       "    </tr>\n",
       "  </tbody>\n",
       "</table>\n",
       "</div>"
      ],
      "text/plain": [
       "          eu_sales  shape_sales\n",
       "platform                       \n",
       "PS4         141.09     0.359712\n",
       "PS3          67.81     0.172883\n",
       "XOne         51.59     0.131530\n",
       "X360         42.52     0.108406\n",
       "3DS          30.96     0.078933\n",
       "PC           25.36     0.064656\n",
       "WiiU         19.85     0.050608\n",
       "PSV           6.10     0.015552\n",
       "Wii           5.93     0.015119\n",
       "DS            0.85     0.002167\n",
       "PSP           0.17     0.000433"
      ]
     },
     "metadata": {},
     "output_type": "display_data"
    }
   ],
   "source": [
    "#просмотрим продажи на платформах в Европе\n",
    "platform_eu_sales=pd.pivot_table(data_new,index='platform', values=('eu_sales'), aggfunc='sum')\n",
    "platform_eu_sales=platform_eu_sales.sort_values(by=\"eu_sales\", ascending=False)\n",
    "platform_eu_sales['shape_sales']=platform_eu_sales['eu_sales']/(platform_eu_sales['eu_sales'].sum())\n",
    "display(platform_eu_sales)"
   ]
  },
  {
   "cell_type": "markdown",
   "id": "63a70d2f",
   "metadata": {},
   "source": [
    "Самыми популярными платформами в Европе являются -PS3, X360, Wii, DS, PS4.\n",
    "Общая доля продаж на этих платформах составляет 76 процентов"
   ]
  },
  {
   "cell_type": "code",
   "execution_count": 43,
   "id": "2298b4d3",
   "metadata": {},
   "outputs": [
    {
     "data": {
      "text/html": [
       "<div>\n",
       "<style scoped>\n",
       "    .dataframe tbody tr th:only-of-type {\n",
       "        vertical-align: middle;\n",
       "    }\n",
       "\n",
       "    .dataframe tbody tr th {\n",
       "        vertical-align: top;\n",
       "    }\n",
       "\n",
       "    .dataframe thead th {\n",
       "        text-align: right;\n",
       "    }\n",
       "</style>\n",
       "<table border=\"1\" class=\"dataframe\">\n",
       "  <thead>\n",
       "    <tr style=\"text-align: right;\">\n",
       "      <th></th>\n",
       "      <th>na_sales</th>\n",
       "      <th>shape_sales</th>\n",
       "    </tr>\n",
       "    <tr>\n",
       "      <th>platform</th>\n",
       "      <th></th>\n",
       "      <th></th>\n",
       "    </tr>\n",
       "  </thead>\n",
       "  <tbody>\n",
       "    <tr>\n",
       "      <th>PS4</th>\n",
       "      <td>108.74</td>\n",
       "      <td>0.248429</td>\n",
       "    </tr>\n",
       "    <tr>\n",
       "      <th>XOne</th>\n",
       "      <td>93.12</td>\n",
       "      <td>0.212744</td>\n",
       "    </tr>\n",
       "    <tr>\n",
       "      <th>X360</th>\n",
       "      <td>81.66</td>\n",
       "      <td>0.186562</td>\n",
       "    </tr>\n",
       "    <tr>\n",
       "      <th>PS3</th>\n",
       "      <td>63.50</td>\n",
       "      <td>0.145073</td>\n",
       "    </tr>\n",
       "    <tr>\n",
       "      <th>3DS</th>\n",
       "      <td>38.20</td>\n",
       "      <td>0.087272</td>\n",
       "    </tr>\n",
       "    <tr>\n",
       "      <th>WiiU</th>\n",
       "      <td>29.21</td>\n",
       "      <td>0.066734</td>\n",
       "    </tr>\n",
       "    <tr>\n",
       "      <th>PC</th>\n",
       "      <td>11.11</td>\n",
       "      <td>0.025382</td>\n",
       "    </tr>\n",
       "    <tr>\n",
       "      <th>Wii</th>\n",
       "      <td>6.56</td>\n",
       "      <td>0.014987</td>\n",
       "    </tr>\n",
       "    <tr>\n",
       "      <th>PSV</th>\n",
       "      <td>5.04</td>\n",
       "      <td>0.011514</td>\n",
       "    </tr>\n",
       "    <tr>\n",
       "      <th>DS</th>\n",
       "      <td>0.57</td>\n",
       "      <td>0.001302</td>\n",
       "    </tr>\n",
       "    <tr>\n",
       "      <th>PSP</th>\n",
       "      <td>0.00</td>\n",
       "      <td>0.000000</td>\n",
       "    </tr>\n",
       "  </tbody>\n",
       "</table>\n",
       "</div>"
      ],
      "text/plain": [
       "          na_sales  shape_sales\n",
       "platform                       \n",
       "PS4         108.74     0.248429\n",
       "XOne         93.12     0.212744\n",
       "X360         81.66     0.186562\n",
       "PS3          63.50     0.145073\n",
       "3DS          38.20     0.087272\n",
       "WiiU         29.21     0.066734\n",
       "PC           11.11     0.025382\n",
       "Wii           6.56     0.014987\n",
       "PSV           5.04     0.011514\n",
       "DS            0.57     0.001302\n",
       "PSP           0.00     0.000000"
      ]
     },
     "metadata": {},
     "output_type": "display_data"
    }
   ],
   "source": [
    "#просмотрим продажи на платформах в Северной Америке\n",
    "platform_na_sales=pd.pivot_table(data_new,index='platform', values=('na_sales'), aggfunc='sum')\n",
    "platform_na_sales=platform_na_sales.sort_values(by=\"na_sales\", ascending=False)\n",
    "platform_na_sales['shape_sales']=platform_na_sales['na_sales']/(platform_na_sales['na_sales'].sum())\n",
    "display(platform_na_sales)"
   ]
  },
  {
   "cell_type": "markdown",
   "id": "c3895321",
   "metadata": {},
   "source": [
    "Самыми популярными платформами в Северной Америке являются - X360, Wii, PS3, DS, PS2.\n",
    "Общая доля продаж на этих платформах составляет 79,8 процентов"
   ]
  },
  {
   "cell_type": "code",
   "execution_count": 44,
   "id": "2071bab3",
   "metadata": {},
   "outputs": [
    {
     "data": {
      "text/html": [
       "<div>\n",
       "<style scoped>\n",
       "    .dataframe tbody tr th:only-of-type {\n",
       "        vertical-align: middle;\n",
       "    }\n",
       "\n",
       "    .dataframe tbody tr th {\n",
       "        vertical-align: top;\n",
       "    }\n",
       "\n",
       "    .dataframe thead th {\n",
       "        text-align: right;\n",
       "    }\n",
       "</style>\n",
       "<table border=\"1\" class=\"dataframe\">\n",
       "  <thead>\n",
       "    <tr style=\"text-align: right;\">\n",
       "      <th></th>\n",
       "      <th>jp_sales</th>\n",
       "      <th>shape_sales</th>\n",
       "    </tr>\n",
       "    <tr>\n",
       "      <th>platform</th>\n",
       "      <th></th>\n",
       "      <th></th>\n",
       "    </tr>\n",
       "  </thead>\n",
       "  <tbody>\n",
       "    <tr>\n",
       "      <th>3DS</th>\n",
       "      <td>67.81</td>\n",
       "      <td>0.481674</td>\n",
       "    </tr>\n",
       "    <tr>\n",
       "      <th>PS3</th>\n",
       "      <td>23.35</td>\n",
       "      <td>0.165862</td>\n",
       "    </tr>\n",
       "    <tr>\n",
       "      <th>PSV</th>\n",
       "      <td>18.59</td>\n",
       "      <td>0.132050</td>\n",
       "    </tr>\n",
       "    <tr>\n",
       "      <th>PS4</th>\n",
       "      <td>15.96</td>\n",
       "      <td>0.113368</td>\n",
       "    </tr>\n",
       "    <tr>\n",
       "      <th>WiiU</th>\n",
       "      <td>10.88</td>\n",
       "      <td>0.077284</td>\n",
       "    </tr>\n",
       "    <tr>\n",
       "      <th>PSP</th>\n",
       "      <td>3.29</td>\n",
       "      <td>0.023370</td>\n",
       "    </tr>\n",
       "    <tr>\n",
       "      <th>X360</th>\n",
       "      <td>0.51</td>\n",
       "      <td>0.003623</td>\n",
       "    </tr>\n",
       "    <tr>\n",
       "      <th>XOne</th>\n",
       "      <td>0.34</td>\n",
       "      <td>0.002415</td>\n",
       "    </tr>\n",
       "    <tr>\n",
       "      <th>Wii</th>\n",
       "      <td>0.05</td>\n",
       "      <td>0.000355</td>\n",
       "    </tr>\n",
       "    <tr>\n",
       "      <th>DS</th>\n",
       "      <td>0.00</td>\n",
       "      <td>0.000000</td>\n",
       "    </tr>\n",
       "    <tr>\n",
       "      <th>PC</th>\n",
       "      <td>0.00</td>\n",
       "      <td>0.000000</td>\n",
       "    </tr>\n",
       "  </tbody>\n",
       "</table>\n",
       "</div>"
      ],
      "text/plain": [
       "          jp_sales  shape_sales\n",
       "platform                       \n",
       "3DS          67.81     0.481674\n",
       "PS3          23.35     0.165862\n",
       "PSV          18.59     0.132050\n",
       "PS4          15.96     0.113368\n",
       "WiiU         10.88     0.077284\n",
       "PSP           3.29     0.023370\n",
       "X360          0.51     0.003623\n",
       "XOne          0.34     0.002415\n",
       "Wii           0.05     0.000355\n",
       "DS            0.00     0.000000\n",
       "PC            0.00     0.000000"
      ]
     },
     "metadata": {},
     "output_type": "display_data"
    }
   ],
   "source": [
    "#просмотрим продажи на платформах в Японии\n",
    "platform_jp_sales=pd.pivot_table(data_new,index='platform', values=('jp_sales'), aggfunc='sum')\n",
    "platform_jp_sales=platform_jp_sales.sort_values(by=\"jp_sales\", ascending=False)\n",
    "platform_jp_sales['shape_sales']=platform_jp_sales['jp_sales']/(platform_jp_sales['jp_sales'].sum())\n",
    "display(platform_jp_sales)"
   ]
  },
  {
   "cell_type": "markdown",
   "id": "2ae00811",
   "metadata": {},
   "source": [
    "Самыми популярными платформами в Японии являются - DS, 3DS, PS3, PS2, Wii.\n",
    "Общая доля продаж на этих платформах составляет 82 процента."
   ]
  },
  {
   "cell_type": "code",
   "execution_count": 45,
   "id": "18d71403",
   "metadata": {},
   "outputs": [
    {
     "data": {
      "text/html": [
       "<div>\n",
       "<style scoped>\n",
       "    .dataframe tbody tr th:only-of-type {\n",
       "        vertical-align: middle;\n",
       "    }\n",
       "\n",
       "    .dataframe tbody tr th {\n",
       "        vertical-align: top;\n",
       "    }\n",
       "\n",
       "    .dataframe thead th {\n",
       "        text-align: right;\n",
       "    }\n",
       "</style>\n",
       "<table border=\"1\" class=\"dataframe\">\n",
       "  <thead>\n",
       "    <tr style=\"text-align: right;\">\n",
       "      <th></th>\n",
       "      <th>eu_sales</th>\n",
       "      <th>shape_sales</th>\n",
       "    </tr>\n",
       "    <tr>\n",
       "      <th>genre</th>\n",
       "      <th></th>\n",
       "      <th></th>\n",
       "    </tr>\n",
       "  </thead>\n",
       "  <tbody>\n",
       "    <tr>\n",
       "      <th>Action</th>\n",
       "      <td>118.13</td>\n",
       "      <td>0.301175</td>\n",
       "    </tr>\n",
       "    <tr>\n",
       "      <th>Shooter</th>\n",
       "      <td>87.86</td>\n",
       "      <td>0.224001</td>\n",
       "    </tr>\n",
       "    <tr>\n",
       "      <th>Sports</th>\n",
       "      <td>60.52</td>\n",
       "      <td>0.154297</td>\n",
       "    </tr>\n",
       "    <tr>\n",
       "      <th>Role-Playing</th>\n",
       "      <td>36.97</td>\n",
       "      <td>0.094256</td>\n",
       "    </tr>\n",
       "    <tr>\n",
       "      <th>Racing</th>\n",
       "      <td>20.19</td>\n",
       "      <td>0.051475</td>\n",
       "    </tr>\n",
       "    <tr>\n",
       "      <th>Misc</th>\n",
       "      <td>20.04</td>\n",
       "      <td>0.051092</td>\n",
       "    </tr>\n",
       "    <tr>\n",
       "      <th>Platform</th>\n",
       "      <td>15.58</td>\n",
       "      <td>0.039722</td>\n",
       "    </tr>\n",
       "    <tr>\n",
       "      <th>Simulation</th>\n",
       "      <td>10.92</td>\n",
       "      <td>0.027841</td>\n",
       "    </tr>\n",
       "    <tr>\n",
       "      <th>Fighting</th>\n",
       "      <td>8.55</td>\n",
       "      <td>0.021798</td>\n",
       "    </tr>\n",
       "    <tr>\n",
       "      <th>Adventure</th>\n",
       "      <td>8.25</td>\n",
       "      <td>0.021034</td>\n",
       "    </tr>\n",
       "    <tr>\n",
       "      <th>Strategy</th>\n",
       "      <td>4.22</td>\n",
       "      <td>0.010759</td>\n",
       "    </tr>\n",
       "    <tr>\n",
       "      <th>Puzzle</th>\n",
       "      <td>1.00</td>\n",
       "      <td>0.002550</td>\n",
       "    </tr>\n",
       "  </tbody>\n",
       "</table>\n",
       "</div>"
      ],
      "text/plain": [
       "              eu_sales  shape_sales\n",
       "genre                              \n",
       "Action          118.13     0.301175\n",
       "Shooter          87.86     0.224001\n",
       "Sports           60.52     0.154297\n",
       "Role-Playing     36.97     0.094256\n",
       "Racing           20.19     0.051475\n",
       "Misc             20.04     0.051092\n",
       "Platform         15.58     0.039722\n",
       "Simulation       10.92     0.027841\n",
       "Fighting          8.55     0.021798\n",
       "Adventure         8.25     0.021034\n",
       "Strategy          4.22     0.010759\n",
       "Puzzle            1.00     0.002550"
      ]
     },
     "metadata": {},
     "output_type": "display_data"
    }
   ],
   "source": [
    "#просмотрим продажи по жанрам в Европе\n",
    "genre_eu_sales=pd.pivot_table(data_new,index='genre', values=('eu_sales'), aggfunc='sum')\n",
    "genre_eu_sales=genre_eu_sales.sort_values(by=\"eu_sales\", ascending=False)\n",
    "genre_eu_sales['shape_sales']=genre_eu_sales['eu_sales']/(genre_eu_sales['eu_sales'].sum())\n",
    "display(genre_eu_sales)"
   ]
  },
  {
   "cell_type": "markdown",
   "id": "928628ba",
   "metadata": {},
   "source": [
    "Самыми популярными жанрами в Европе являются - Action, Sports, Shooter, Misc, Racing\n",
    "На долю этих жанров приходится 73,6 процентов продаж"
   ]
  },
  {
   "cell_type": "code",
   "execution_count": 46,
   "id": "c2546a42",
   "metadata": {},
   "outputs": [
    {
     "data": {
      "text/html": [
       "<div>\n",
       "<style scoped>\n",
       "    .dataframe tbody tr th:only-of-type {\n",
       "        vertical-align: middle;\n",
       "    }\n",
       "\n",
       "    .dataframe tbody tr th {\n",
       "        vertical-align: top;\n",
       "    }\n",
       "\n",
       "    .dataframe thead th {\n",
       "        text-align: right;\n",
       "    }\n",
       "</style>\n",
       "<table border=\"1\" class=\"dataframe\">\n",
       "  <thead>\n",
       "    <tr style=\"text-align: right;\">\n",
       "      <th></th>\n",
       "      <th>na_sales</th>\n",
       "      <th>shape_sales</th>\n",
       "    </tr>\n",
       "    <tr>\n",
       "      <th>genre</th>\n",
       "      <th></th>\n",
       "      <th></th>\n",
       "    </tr>\n",
       "  </thead>\n",
       "  <tbody>\n",
       "    <tr>\n",
       "      <th>Action</th>\n",
       "      <td>126.05</td>\n",
       "      <td>0.287976</td>\n",
       "    </tr>\n",
       "    <tr>\n",
       "      <th>Shooter</th>\n",
       "      <td>109.74</td>\n",
       "      <td>0.250714</td>\n",
       "    </tr>\n",
       "    <tr>\n",
       "      <th>Sports</th>\n",
       "      <td>65.27</td>\n",
       "      <td>0.149117</td>\n",
       "    </tr>\n",
       "    <tr>\n",
       "      <th>Role-Playing</th>\n",
       "      <td>46.40</td>\n",
       "      <td>0.106006</td>\n",
       "    </tr>\n",
       "    <tr>\n",
       "      <th>Misc</th>\n",
       "      <td>27.49</td>\n",
       "      <td>0.062804</td>\n",
       "    </tr>\n",
       "    <tr>\n",
       "      <th>Platform</th>\n",
       "      <td>18.14</td>\n",
       "      <td>0.041443</td>\n",
       "    </tr>\n",
       "    <tr>\n",
       "      <th>Fighting</th>\n",
       "      <td>15.55</td>\n",
       "      <td>0.035526</td>\n",
       "    </tr>\n",
       "    <tr>\n",
       "      <th>Racing</th>\n",
       "      <td>12.96</td>\n",
       "      <td>0.029609</td>\n",
       "    </tr>\n",
       "    <tr>\n",
       "      <th>Adventure</th>\n",
       "      <td>7.14</td>\n",
       "      <td>0.016312</td>\n",
       "    </tr>\n",
       "    <tr>\n",
       "      <th>Simulation</th>\n",
       "      <td>4.86</td>\n",
       "      <td>0.011103</td>\n",
       "    </tr>\n",
       "    <tr>\n",
       "      <th>Strategy</th>\n",
       "      <td>3.28</td>\n",
       "      <td>0.007494</td>\n",
       "    </tr>\n",
       "    <tr>\n",
       "      <th>Puzzle</th>\n",
       "      <td>0.83</td>\n",
       "      <td>0.001896</td>\n",
       "    </tr>\n",
       "  </tbody>\n",
       "</table>\n",
       "</div>"
      ],
      "text/plain": [
       "              na_sales  shape_sales\n",
       "genre                              \n",
       "Action          126.05     0.287976\n",
       "Shooter         109.74     0.250714\n",
       "Sports           65.27     0.149117\n",
       "Role-Playing     46.40     0.106006\n",
       "Misc             27.49     0.062804\n",
       "Platform         18.14     0.041443\n",
       "Fighting         15.55     0.035526\n",
       "Racing           12.96     0.029609\n",
       "Adventure         7.14     0.016312\n",
       "Simulation        4.86     0.011103\n",
       "Strategy          3.28     0.007494\n",
       "Puzzle            0.83     0.001896"
      ]
     },
     "metadata": {},
     "output_type": "display_data"
    }
   ],
   "source": [
    "#просмотрим продажи по жанрам в Северной Америке\n",
    "genre_na_sales=pd.pivot_table(data_new,index='genre', values=('na_sales'), aggfunc='sum')\n",
    "genre_na_sales=genre_na_sales.sort_values(by=\"na_sales\", ascending=False)\n",
    "genre_na_sales['shape_sales']=genre_na_sales['na_sales']/(genre_na_sales['na_sales'].sum())\n",
    "display(genre_na_sales)"
   ]
  },
  {
   "cell_type": "markdown",
   "id": "c6282ea2",
   "metadata": {},
   "source": [
    "Самыми популярными жанрами в Северной Америке являются - Action, Sports, Shooter, Misc, Role-Playing.\n",
    "На долю этих жанров приходится 74,7 процентов продаж"
   ]
  },
  {
   "cell_type": "code",
   "execution_count": 47,
   "id": "f7b2754b",
   "metadata": {},
   "outputs": [
    {
     "data": {
      "text/html": [
       "<div>\n",
       "<style scoped>\n",
       "    .dataframe tbody tr th:only-of-type {\n",
       "        vertical-align: middle;\n",
       "    }\n",
       "\n",
       "    .dataframe tbody tr th {\n",
       "        vertical-align: top;\n",
       "    }\n",
       "\n",
       "    .dataframe thead th {\n",
       "        text-align: right;\n",
       "    }\n",
       "</style>\n",
       "<table border=\"1\" class=\"dataframe\">\n",
       "  <thead>\n",
       "    <tr style=\"text-align: right;\">\n",
       "      <th></th>\n",
       "      <th>jp_sales</th>\n",
       "      <th>shape_sales</th>\n",
       "    </tr>\n",
       "    <tr>\n",
       "      <th>genre</th>\n",
       "      <th></th>\n",
       "      <th></th>\n",
       "    </tr>\n",
       "  </thead>\n",
       "  <tbody>\n",
       "    <tr>\n",
       "      <th>Role-Playing</th>\n",
       "      <td>51.04</td>\n",
       "      <td>0.362551</td>\n",
       "    </tr>\n",
       "    <tr>\n",
       "      <th>Action</th>\n",
       "      <td>40.49</td>\n",
       "      <td>0.287612</td>\n",
       "    </tr>\n",
       "    <tr>\n",
       "      <th>Misc</th>\n",
       "      <td>9.20</td>\n",
       "      <td>0.065350</td>\n",
       "    </tr>\n",
       "    <tr>\n",
       "      <th>Fighting</th>\n",
       "      <td>7.65</td>\n",
       "      <td>0.054340</td>\n",
       "    </tr>\n",
       "    <tr>\n",
       "      <th>Shooter</th>\n",
       "      <td>6.61</td>\n",
       "      <td>0.046953</td>\n",
       "    </tr>\n",
       "    <tr>\n",
       "      <th>Adventure</th>\n",
       "      <td>5.82</td>\n",
       "      <td>0.041341</td>\n",
       "    </tr>\n",
       "    <tr>\n",
       "      <th>Sports</th>\n",
       "      <td>5.41</td>\n",
       "      <td>0.038429</td>\n",
       "    </tr>\n",
       "    <tr>\n",
       "      <th>Platform</th>\n",
       "      <td>4.79</td>\n",
       "      <td>0.034025</td>\n",
       "    </tr>\n",
       "    <tr>\n",
       "      <th>Simulation</th>\n",
       "      <td>4.52</td>\n",
       "      <td>0.032107</td>\n",
       "    </tr>\n",
       "    <tr>\n",
       "      <th>Racing</th>\n",
       "      <td>2.30</td>\n",
       "      <td>0.016338</td>\n",
       "    </tr>\n",
       "    <tr>\n",
       "      <th>Strategy</th>\n",
       "      <td>1.77</td>\n",
       "      <td>0.012573</td>\n",
       "    </tr>\n",
       "    <tr>\n",
       "      <th>Puzzle</th>\n",
       "      <td>1.18</td>\n",
       "      <td>0.008382</td>\n",
       "    </tr>\n",
       "  </tbody>\n",
       "</table>\n",
       "</div>"
      ],
      "text/plain": [
       "              jp_sales  shape_sales\n",
       "genre                              \n",
       "Role-Playing     51.04     0.362551\n",
       "Action           40.49     0.287612\n",
       "Misc              9.20     0.065350\n",
       "Fighting          7.65     0.054340\n",
       "Shooter           6.61     0.046953\n",
       "Adventure         5.82     0.041341\n",
       "Sports            5.41     0.038429\n",
       "Platform          4.79     0.034025\n",
       "Simulation        4.52     0.032107\n",
       "Racing            2.30     0.016338\n",
       "Strategy          1.77     0.012573\n",
       "Puzzle            1.18     0.008382"
      ]
     },
     "metadata": {},
     "output_type": "display_data"
    }
   ],
   "source": [
    "#просмотрим продажи по жанрам в Японии\n",
    "genre_jp_sales=pd.pivot_table(data_new,index='genre', values=('jp_sales'), aggfunc='sum')\n",
    "genre_jp_sales=genre_jp_sales.sort_values(by=\"jp_sales\", ascending=False)\n",
    "genre_jp_sales['shape_sales']=genre_jp_sales['jp_sales']/(genre_jp_sales['jp_sales'].sum())\n",
    "display(genre_jp_sales)"
   ]
  },
  {
   "cell_type": "markdown",
   "id": "76245898",
   "metadata": {},
   "source": [
    "Самыми популярными жанрами в Японии являются - Role-Playing, Action, Misc, Sports, Platform.\n",
    "На долю этих жанров приходится 75,1 процента продаж"
   ]
  },
  {
   "cell_type": "markdown",
   "id": "359bad3a",
   "metadata": {},
   "source": [
    "### 4.1 Вывод по портрету пользователя каждого региона\n",
    "\n",
    "Если сравнивать объемы продаж игр по платформам в различных регионах:\n",
    " - портрет пользователя в Европе и Северной Америке схож. Самыми популярными платформами являются у них PS3, X360, Wii, DS.    \n",
    " - однако, в Европе больше популярен PS4, а в Северной Америке - PS2.\n",
    " - у пользователей Японии также популярны PS3, PS2, DS, Wii, однако к ним еще и добавляется платформа 3DS\n",
    " - самые популярные платформы во всех 3 регионах: PS3, Wii, DS.\n",
    "\n",
    "Если сравнивать жанры игр в различных регионах:\n",
    " - портрет пользователя в Европе и Северной Америке также схож. Самыми популярными жанрами у них являются Action, Sports, Shooter, Misc;\n",
    " - однако, в Европе больше популярен жанр игр Racing, а в Северной Америке - Role-Playing;\n",
    " - в Японии помимо популярных в других регионах Role-Playing, Action, Misc, Sports, также очень популярен жанр Platform.\n",
    " - самые популярные жанры во всех 3 регионах: Action, Misc, Sports.\n"
   ]
  },
  {
   "cell_type": "markdown",
   "id": "eb35adc8",
   "metadata": {},
   "source": [
    "## 5. Проверка гипотез"
   ]
  },
  {
   "cell_type": "markdown",
   "id": "e8eef365",
   "metadata": {},
   "source": [
    "### 5.1 Проверим гипотезу, что средние пользовательские рейтинги платформ Xbox One и PC одинаковые.\n",
    "Для проверки используем t-тест, так как совокупности не зависят друг от друга, размеры выборок достаточно большие.\n",
    "\n",
    "H0 Нулевая гипотеза:Между средним значением пользовательских рейтингов платформ Xbox One и PC нет существенной разницы\n",
    "\n",
    "H1 Альтернативная гипотеза:  Существует значительная разница между средним значением пользовательских рейтингов платформ Xbox One и PC"
   ]
  },
  {
   "cell_type": "code",
   "execution_count": 48,
   "id": "e3f91d06",
   "metadata": {},
   "outputs": [],
   "source": [
    "#выделяем отдельные данные по платформам\n",
    "data_XOne=data_new.loc[data_new['platform']=='XOne']\n",
    "data_PC=data_new.loc[data_new['platform']=='PC']"
   ]
  },
  {
   "cell_type": "code",
   "execution_count": 49,
   "id": "330cc908",
   "metadata": {},
   "outputs": [],
   "source": [
    "#удаляем пустые значения\n",
    "data_XOne = data_XOne.dropna(axis='index', how='any', subset=['user_score'])\n",
    "data_PC = data_PC.dropna(axis='index', how='any', subset=['user_score'])"
   ]
  },
  {
   "cell_type": "code",
   "execution_count": 50,
   "id": "e4e260f3",
   "metadata": {},
   "outputs": [
    {
     "name": "stdout",
     "output_type": "stream",
     "text": [
      "p-значение: 0.14759594013430463\n",
      "Не получилось отвергнуть нулевую гипотезу\n"
     ]
    }
   ],
   "source": [
    "alpha = .01 # задаём критический уровень статистической значимости\n",
    "\n",
    "results =  st.ttest_ind(\n",
    "    data_XOne['user_score'], \n",
    "    data_PC['user_score'], equal_var=False) #проверяем гипотезу о равенстве средних двух независимых совокупностей\n",
    "\n",
    "print('p-значение:', results.pvalue) # выводим на экран получившеся p-значение)\n",
    "\n",
    "if results.pvalue < alpha:# сравниваем получившееся p-значение с заданным уровнем статистической значимости:\n",
    "    print(\"Отвергаем нулевую гипотезу, среднее значение пользовательских рейтингов платформ Xbox One и PC различаются\")\n",
    "else:\n",
    "    print(\"Не получилось отвергнуть нулевую гипотезу\")"
   ]
  },
  {
   "cell_type": "markdown",
   "id": "9f5531e8",
   "metadata": {},
   "source": [
    "### 5.2 Проверим гипотезу, что средние пользовательские рейтинги жанров Action и Sports разные.\n",
    "Для проверки используем t-тест, так как совокупности не зависят друг от друга, размеры выборок достаточно большие.\n",
    "\n",
    "H0 Нулевая гипотеза:Между средним значением пользовательских рейтингов жанров Action и Sports нет существенной разницы\n",
    "\n",
    "H1 Альтернативная гипотеза:  Существует значительная разница между средним значением пользовательских рейтингов жанров Action и Sports"
   ]
  },
  {
   "cell_type": "code",
   "execution_count": 51,
   "id": "037b7071",
   "metadata": {},
   "outputs": [],
   "source": [
    "#выделяем отдельные данные по жанрам\n",
    "\n",
    "data_action=data_new.loc[data_new['genre']=='Action']\n",
    "data_sports=data_new.loc[data_new['genre']=='Sports']\n"
   ]
  },
  {
   "cell_type": "code",
   "execution_count": 52,
   "id": "799149b0",
   "metadata": {},
   "outputs": [],
   "source": [
    "#удаляем пустые значения в строках\n",
    "data_action = data_action.dropna(axis='index', how='any', subset=['user_score'])\n",
    "data_sports = data_sports.dropna(axis='index', how='any', subset=['user_score'])"
   ]
  },
  {
   "cell_type": "code",
   "execution_count": 53,
   "id": "b72aee91",
   "metadata": {},
   "outputs": [
    {
     "data": {
      "text/plain": [
       "4.2566688218274047e-07"
      ]
     },
     "execution_count": 53,
     "metadata": {},
     "output_type": "execute_result"
    }
   ],
   "source": [
    "#проверяем равенство дисперсий с помощью стат.теста Левене\n",
    "stat, p = levene(data_action['user_score'], data_sports['user_score'])\n",
    "p"
   ]
  },
  {
   "cell_type": "code",
   "execution_count": 54,
   "id": "d68bbe32",
   "metadata": {},
   "outputs": [
    {
     "name": "stdout",
     "output_type": "stream",
     "text": [
      "p-значение: 1.0517832389140023e-27\n",
      "Отвергаем нулевую гипотезу, среднее значение пользовательских рейтингов жанров Action и Sports различаются\n"
     ]
    }
   ],
   "source": [
    "alpha = .01 # задаём критический уровень статистической значимости\n",
    "\n",
    "results =  st.ttest_ind(\n",
    "    data_action['user_score'], \n",
    "    data_sports['user_score'], equal_var=True) #проверяем гипотезу о равенстве средних двух независимых совокупностей\n",
    "\n",
    "print('p-значение:', results.pvalue) # выводим на экран получившеся p-значение)\n",
    "\n",
    "if results.pvalue < alpha:# сравниваем получившееся p-значение с заданным уровнем статистической значимости:\n",
    "    print(\"Отвергаем нулевую гипотезу, среднее значение пользовательских рейтингов жанров Action и Sports различаются\")\n",
    "else:\n",
    "    print(\"Не получилось отвергнуть нулевую гипотезу\")"
   ]
  },
  {
   "cell_type": "markdown",
   "id": "4f7caf77",
   "metadata": {},
   "source": [
    "### 5.3 Выводы по проверке гипотез\n",
    "\n",
    "Проверяя t-testом гипотезы о средней оценке пользователей выявлено:\n",
    "\n",
    "- Между средним значением пользовательских рейтингов платформ Xbox One и PC нет существенной разницы\n",
    "\n",
    "- Существует значительная разница между средним значением пользовательских рейтингов жанров Action и Sports\n",
    "\n"
   ]
  },
  {
   "cell_type": "markdown",
   "id": "778024e6",
   "metadata": {},
   "source": [
    "## 6 Общий вывод\n"
   ]
  },
  {
   "cell_type": "markdown",
   "id": "671bc1f4",
   "metadata": {},
   "source": [
    "После анализа доступных исторических данных о продажах компьютерных игр, оценки пользователей и экспертов, жанрах и платформах были сделаны следующие выводы:\n",
    "\n",
    "1. В рамках подготовки данных:\n",
    "   - были изменены типы данных:\n",
    "        - столбца year_of_release на специализированной по работе с датами;\n",
    "        - столбца user_score на числовой\n",
    "   - удалены строки с пустыми значениями в столбцах 'name' и 'year_of_release', так как их меньше 2%, и нам необходима актуальна информация с годами выпуска релиза\n",
    "   - в столбце user_score  значение tbd ' To Be Determined' заменено на пустое\n",
    "   - добавлен столбец sales с общим суммированием данных по продажам со всех регионов\n",
    "   \n",
    " \n",
    "2. В рамках исследовательского анализа данных выявлено следующее:\n",
    "\n",
    "    - самый большое количество игр выпускалось в 2008-2009 годах;\n",
    "    - на сегодня количество выпускаемых игр становится меньше и меньше;\n",
    "    - платформы обычно осуществляют активную деятельность в течение 6-8 лет;\n",
    "    - для актуального анализа данных были выбраны данные по платформам с 2013 года;\n",
    "    - самыми перспективными являются на сегодня - PS4, Xone, 3DS. Продажы на данных платформах за последние годы выше остальных;\n",
    "    - платформы, переставшие продавать, можно исключить из анализа - это GBA, XB, PS2;\n",
    "    - зависимость между оценками  критиков и объемом продаж выше, чем между оценкой пользователей и объемом продаж.\n",
    "    - самыми популярными жанрами являются Shooter, Sports и Platform;\n",
    "    - наименее популярные жанры- Strategy, Puzzle, Adventure.\n",
    "    \n",
    "\n",
    "\n",
    "3. Анализируя портрет пользователя игр выявлено следующее:\n",
    "    - Если сравнивать объемы продаж игр по платформам в различных регионах:\n",
    "      - портрет пользователя в Европе и Северной Америке схож. Самыми популярными платформами являются у них PS3, X360, Wii, DS.       - однако, в Европе больше популярен PS4, а в Северной Америке - PS2.\n",
    "      - у пользователей Японии также популярны PS3, PS2, DS, Wii, однако к ним еще и добавляется платформа 3DS\n",
    "      - самые популярные платформы во всех 3 регионах: PS3, Wii, DS.\n",
    "\n",
    "    - Если сравнивать жанры игр в различных регионах:\n",
    "      - портрет пользователя в Европе и Северной Америке также схож. Самыми популярными жанрами у них являются Action, Sports, Shooter, Misc;\n",
    "      - однако, в Европе больше популярен жанр игр Racing, а в Северной Америке - Role-Playing;\n",
    "      - в Японии помимо популярных в других регионах Role-Playing, Action, Misc, Sports, также очень популярен жанр Platform.\n",
    "      - самые популярные жанры во всех 3 регионах: Action, Misc, Sports.\n",
    "      \n",
    "\n",
    "4. Проверка гипотез показала:\n",
    "    - Между средним значением пользовательских рейтингов платформ Xbox One и PC нет существенной разницы\n",
    "    - Существует значительная разница между средним значением пользовательских рейтингов жанров Action и Sports\n"
   ]
  }
 ],
 "metadata": {
  "ExecuteTimeLog": [
   {
    "duration": 971,
    "start_time": "2022-02-28T12:42:18.253Z"
   },
   {
    "duration": 4478,
    "start_time": "2022-02-28T12:42:19.226Z"
   },
   {
    "duration": -659,
    "start_time": "2022-02-28T12:42:24.366Z"
   },
   {
    "duration": -661,
    "start_time": "2022-02-28T12:42:24.369Z"
   },
   {
    "duration": -663,
    "start_time": "2022-02-28T12:42:24.372Z"
   },
   {
    "duration": -665,
    "start_time": "2022-02-28T12:42:24.375Z"
   },
   {
    "duration": -668,
    "start_time": "2022-02-28T12:42:24.378Z"
   },
   {
    "duration": -670,
    "start_time": "2022-02-28T12:42:24.381Z"
   },
   {
    "duration": -673,
    "start_time": "2022-02-28T12:42:24.385Z"
   },
   {
    "duration": -675,
    "start_time": "2022-02-28T12:42:24.388Z"
   },
   {
    "duration": -676,
    "start_time": "2022-02-28T12:42:24.390Z"
   },
   {
    "duration": -678,
    "start_time": "2022-02-28T12:42:24.392Z"
   },
   {
    "duration": -678,
    "start_time": "2022-02-28T12:42:24.394Z"
   },
   {
    "duration": -679,
    "start_time": "2022-02-28T12:42:24.396Z"
   },
   {
    "duration": -680,
    "start_time": "2022-02-28T12:42:24.398Z"
   },
   {
    "duration": -682,
    "start_time": "2022-02-28T12:42:24.401Z"
   },
   {
    "duration": -684,
    "start_time": "2022-02-28T12:42:24.403Z"
   },
   {
    "duration": -685,
    "start_time": "2022-02-28T12:42:24.405Z"
   },
   {
    "duration": -686,
    "start_time": "2022-02-28T12:42:24.407Z"
   },
   {
    "duration": -688,
    "start_time": "2022-02-28T12:42:24.410Z"
   },
   {
    "duration": -689,
    "start_time": "2022-02-28T12:42:24.412Z"
   },
   {
    "duration": -691,
    "start_time": "2022-02-28T12:42:24.415Z"
   },
   {
    "duration": -693,
    "start_time": "2022-02-28T12:42:24.417Z"
   },
   {
    "duration": -694,
    "start_time": "2022-02-28T12:42:24.419Z"
   },
   {
    "duration": -696,
    "start_time": "2022-02-28T12:42:24.422Z"
   },
   {
    "duration": -697,
    "start_time": "2022-02-28T12:42:24.424Z"
   },
   {
    "duration": -698,
    "start_time": "2022-02-28T12:42:24.426Z"
   },
   {
    "duration": -699,
    "start_time": "2022-02-28T12:42:24.428Z"
   },
   {
    "duration": -700,
    "start_time": "2022-02-28T12:42:24.430Z"
   },
   {
    "duration": -708,
    "start_time": "2022-02-28T12:42:24.438Z"
   },
   {
    "duration": -711,
    "start_time": "2022-02-28T12:42:24.442Z"
   },
   {
    "duration": -712,
    "start_time": "2022-02-28T12:42:24.444Z"
   },
   {
    "duration": -714,
    "start_time": "2022-02-28T12:42:24.447Z"
   },
   {
    "duration": -717,
    "start_time": "2022-02-28T12:42:24.450Z"
   },
   {
    "duration": -719,
    "start_time": "2022-02-28T12:42:24.453Z"
   },
   {
    "duration": -720,
    "start_time": "2022-02-28T12:42:24.455Z"
   },
   {
    "duration": -721,
    "start_time": "2022-02-28T12:42:24.457Z"
   },
   {
    "duration": -719,
    "start_time": "2022-02-28T12:42:24.460Z"
   },
   {
    "duration": -720,
    "start_time": "2022-02-28T12:42:24.462Z"
   },
   {
    "duration": -722,
    "start_time": "2022-02-28T12:42:24.465Z"
   },
   {
    "duration": -724,
    "start_time": "2022-02-28T12:42:24.468Z"
   },
   {
    "duration": -725,
    "start_time": "2022-02-28T12:42:24.470Z"
   },
   {
    "duration": -725,
    "start_time": "2022-02-28T12:42:24.471Z"
   },
   {
    "duration": -727,
    "start_time": "2022-02-28T12:42:24.473Z"
   },
   {
    "duration": -728,
    "start_time": "2022-02-28T12:42:24.475Z"
   },
   {
    "duration": -729,
    "start_time": "2022-02-28T12:42:24.477Z"
   },
   {
    "duration": -675,
    "start_time": "2022-02-28T12:42:24.479Z"
   },
   {
    "duration": -676,
    "start_time": "2022-02-28T12:42:24.481Z"
   },
   {
    "duration": -677,
    "start_time": "2022-02-28T12:42:24.483Z"
   },
   {
    "duration": -678,
    "start_time": "2022-02-28T12:42:24.485Z"
   },
   {
    "duration": 228,
    "start_time": "2022-02-28T12:42:53.781Z"
   },
   {
    "duration": 1110,
    "start_time": "2022-02-28T12:44:00.927Z"
   },
   {
    "duration": 211,
    "start_time": "2022-02-28T12:44:02.039Z"
   },
   {
    "duration": 8,
    "start_time": "2022-02-28T12:44:02.252Z"
   },
   {
    "duration": 20,
    "start_time": "2022-02-28T12:44:02.261Z"
   },
   {
    "duration": 10,
    "start_time": "2022-02-28T12:44:02.282Z"
   },
   {
    "duration": 11,
    "start_time": "2022-02-28T12:44:02.294Z"
   },
   {
    "duration": 16,
    "start_time": "2022-02-28T12:44:02.306Z"
   },
   {
    "duration": 6,
    "start_time": "2022-02-28T12:44:02.323Z"
   },
   {
    "duration": 5,
    "start_time": "2022-02-28T12:44:02.330Z"
   },
   {
    "duration": 9,
    "start_time": "2022-02-28T12:44:02.336Z"
   },
   {
    "duration": 6,
    "start_time": "2022-02-28T12:44:02.347Z"
   },
   {
    "duration": 4,
    "start_time": "2022-02-28T12:44:02.354Z"
   },
   {
    "duration": 10,
    "start_time": "2022-02-28T12:44:02.359Z"
   },
   {
    "duration": 37,
    "start_time": "2022-02-28T12:44:02.370Z"
   },
   {
    "duration": 12,
    "start_time": "2022-02-28T12:44:02.408Z"
   },
   {
    "duration": 7,
    "start_time": "2022-02-28T12:44:02.422Z"
   },
   {
    "duration": 8,
    "start_time": "2022-02-28T12:44:02.430Z"
   },
   {
    "duration": 18,
    "start_time": "2022-02-28T12:44:02.440Z"
   },
   {
    "duration": 12,
    "start_time": "2022-02-28T12:44:02.459Z"
   },
   {
    "duration": 568,
    "start_time": "2022-02-28T12:44:02.472Z"
   },
   {
    "duration": -615,
    "start_time": "2022-02-28T12:44:03.657Z"
   },
   {
    "duration": -616,
    "start_time": "2022-02-28T12:44:03.659Z"
   },
   {
    "duration": -617,
    "start_time": "2022-02-28T12:44:03.661Z"
   },
   {
    "duration": -619,
    "start_time": "2022-02-28T12:44:03.664Z"
   },
   {
    "duration": -620,
    "start_time": "2022-02-28T12:44:03.666Z"
   },
   {
    "duration": -621,
    "start_time": "2022-02-28T12:44:03.668Z"
   },
   {
    "duration": -622,
    "start_time": "2022-02-28T12:44:03.670Z"
   },
   {
    "duration": -623,
    "start_time": "2022-02-28T12:44:03.672Z"
   },
   {
    "duration": -624,
    "start_time": "2022-02-28T12:44:03.674Z"
   },
   {
    "duration": -625,
    "start_time": "2022-02-28T12:44:03.676Z"
   },
   {
    "duration": -626,
    "start_time": "2022-02-28T12:44:03.678Z"
   },
   {
    "duration": -627,
    "start_time": "2022-02-28T12:44:03.680Z"
   },
   {
    "duration": -629,
    "start_time": "2022-02-28T12:44:03.683Z"
   },
   {
    "duration": -630,
    "start_time": "2022-02-28T12:44:03.685Z"
   },
   {
    "duration": -635,
    "start_time": "2022-02-28T12:44:03.691Z"
   },
   {
    "duration": -636,
    "start_time": "2022-02-28T12:44:03.693Z"
   },
   {
    "duration": -638,
    "start_time": "2022-02-28T12:44:03.696Z"
   },
   {
    "duration": -639,
    "start_time": "2022-02-28T12:44:03.698Z"
   },
   {
    "duration": -641,
    "start_time": "2022-02-28T12:44:03.700Z"
   },
   {
    "duration": -642,
    "start_time": "2022-02-28T12:44:03.702Z"
   },
   {
    "duration": -643,
    "start_time": "2022-02-28T12:44:03.704Z"
   },
   {
    "duration": -645,
    "start_time": "2022-02-28T12:44:03.707Z"
   },
   {
    "duration": -646,
    "start_time": "2022-02-28T12:44:03.709Z"
   },
   {
    "duration": -648,
    "start_time": "2022-02-28T12:44:03.712Z"
   },
   {
    "duration": -649,
    "start_time": "2022-02-28T12:44:03.714Z"
   },
   {
    "duration": -654,
    "start_time": "2022-02-28T12:44:03.720Z"
   },
   {
    "duration": -655,
    "start_time": "2022-02-28T12:44:03.722Z"
   },
   {
    "duration": -619,
    "start_time": "2022-02-28T12:44:03.724Z"
   },
   {
    "duration": -620,
    "start_time": "2022-02-28T12:44:03.726Z"
   },
   {
    "duration": -622,
    "start_time": "2022-02-28T12:44:03.728Z"
   },
   {
    "duration": 1492,
    "start_time": "2022-02-28T13:56:17.625Z"
   },
   {
    "duration": 278,
    "start_time": "2022-02-28T13:56:20.245Z"
   },
   {
    "duration": 16,
    "start_time": "2022-02-28T13:56:31.245Z"
   },
   {
    "duration": 32,
    "start_time": "2022-02-28T13:56:36.125Z"
   },
   {
    "duration": 19,
    "start_time": "2022-02-28T13:56:37.393Z"
   },
   {
    "duration": 12,
    "start_time": "2022-02-28T13:56:40.653Z"
   },
   {
    "duration": 30,
    "start_time": "2022-02-28T13:56:42.024Z"
   },
   {
    "duration": 9,
    "start_time": "2022-02-28T13:56:44.245Z"
   },
   {
    "duration": 9,
    "start_time": "2022-02-28T13:56:45.285Z"
   },
   {
    "duration": 14,
    "start_time": "2022-02-28T13:56:46.165Z"
   },
   {
    "duration": 11,
    "start_time": "2022-02-28T13:56:47.293Z"
   },
   {
    "duration": 7,
    "start_time": "2022-02-28T13:56:48.380Z"
   },
   {
    "duration": 13,
    "start_time": "2022-02-28T13:56:50.544Z"
   },
   {
    "duration": 11,
    "start_time": "2022-02-28T13:56:52.553Z"
   },
   {
    "duration": 12,
    "start_time": "2022-02-28T13:56:53.512Z"
   },
   {
    "duration": 8,
    "start_time": "2022-02-28T13:56:54.445Z"
   },
   {
    "duration": 14,
    "start_time": "2022-02-28T13:56:55.437Z"
   },
   {
    "duration": 34,
    "start_time": "2022-02-28T13:56:59.165Z"
   },
   {
    "duration": 22,
    "start_time": "2022-02-28T13:57:02.252Z"
   },
   {
    "duration": 626,
    "start_time": "2022-02-28T13:57:03.561Z"
   },
   {
    "duration": 4670,
    "start_time": "2022-02-28T13:57:59.293Z"
   },
   {
    "duration": 4373,
    "start_time": "2022-02-28T13:58:41.852Z"
   },
   {
    "duration": 35,
    "start_time": "2022-02-28T14:02:35.811Z"
   },
   {
    "duration": 23,
    "start_time": "2022-02-28T14:02:36.975Z"
   },
   {
    "duration": 517,
    "start_time": "2022-02-28T14:02:38.045Z"
   },
   {
    "duration": 561,
    "start_time": "2022-02-28T14:03:14.281Z"
   },
   {
    "duration": 620,
    "start_time": "2022-02-28T14:03:18.507Z"
   },
   {
    "duration": 38,
    "start_time": "2022-02-28T14:03:25.925Z"
   },
   {
    "duration": 437,
    "start_time": "2022-02-28T14:03:27.105Z"
   },
   {
    "duration": 375,
    "start_time": "2022-02-28T14:03:30.672Z"
   },
   {
    "duration": 8,
    "start_time": "2022-02-28T14:03:32.147Z"
   },
   {
    "duration": 6,
    "start_time": "2022-02-28T14:03:37.392Z"
   },
   {
    "duration": 423,
    "start_time": "2022-02-28T14:03:38.998Z"
   },
   {
    "duration": 10,
    "start_time": "2022-02-28T14:03:47.112Z"
   },
   {
    "duration": 7,
    "start_time": "2022-02-28T14:03:49.668Z"
   },
   {
    "duration": 416,
    "start_time": "2022-02-28T14:03:50.803Z"
   },
   {
    "duration": 10,
    "start_time": "2022-02-28T14:03:52.772Z"
   },
   {
    "duration": 20,
    "start_time": "2022-02-28T14:04:00.347Z"
   },
   {
    "duration": 554,
    "start_time": "2022-02-28T14:04:06.472Z"
   },
   {
    "duration": 413,
    "start_time": "2022-02-28T14:04:13.385Z"
   },
   {
    "duration": 40,
    "start_time": "2022-02-28T14:04:52.233Z"
   },
   {
    "duration": 24,
    "start_time": "2022-02-28T14:04:55.849Z"
   },
   {
    "duration": 24,
    "start_time": "2022-02-28T14:05:08.312Z"
   },
   {
    "duration": 108,
    "start_time": "2022-02-28T14:05:10.644Z"
   },
   {
    "duration": 25,
    "start_time": "2022-02-28T14:05:13.292Z"
   },
   {
    "duration": 24,
    "start_time": "2022-02-28T14:05:15.288Z"
   },
   {
    "duration": 25,
    "start_time": "2022-02-28T14:05:17.185Z"
   },
   {
    "duration": 9,
    "start_time": "2022-02-28T14:05:23.108Z"
   },
   {
    "duration": 12,
    "start_time": "2022-02-28T14:05:24.393Z"
   },
   {
    "duration": 9,
    "start_time": "2022-02-28T14:05:25.392Z"
   },
   {
    "duration": 9,
    "start_time": "2022-02-28T14:05:28.484Z"
   },
   {
    "duration": 13,
    "start_time": "2022-02-28T14:05:29.532Z"
   },
   {
    "duration": 9,
    "start_time": "2022-02-28T14:05:30.433Z"
   },
   {
    "duration": 7,
    "start_time": "2022-02-28T14:05:31.273Z"
   },
   {
    "duration": 1472,
    "start_time": "2022-02-28T15:38:49.485Z"
   },
   {
    "duration": 204,
    "start_time": "2022-02-28T15:38:50.960Z"
   },
   {
    "duration": 15,
    "start_time": "2022-02-28T15:38:51.168Z"
   },
   {
    "duration": 38,
    "start_time": "2022-02-28T15:38:51.186Z"
   },
   {
    "duration": 18,
    "start_time": "2022-02-28T15:38:51.227Z"
   },
   {
    "duration": 32,
    "start_time": "2022-02-28T15:38:51.248Z"
   },
   {
    "duration": 37,
    "start_time": "2022-02-28T15:38:51.282Z"
   },
   {
    "duration": 9,
    "start_time": "2022-02-28T15:38:51.323Z"
   },
   {
    "duration": 16,
    "start_time": "2022-02-28T15:38:51.335Z"
   },
   {
    "duration": 14,
    "start_time": "2022-02-28T15:38:51.353Z"
   },
   {
    "duration": 11,
    "start_time": "2022-02-28T15:38:51.387Z"
   },
   {
    "duration": 6,
    "start_time": "2022-02-28T15:38:51.400Z"
   },
   {
    "duration": 17,
    "start_time": "2022-02-28T15:38:51.408Z"
   },
   {
    "duration": 13,
    "start_time": "2022-02-28T15:38:51.428Z"
   },
   {
    "duration": 48,
    "start_time": "2022-02-28T15:38:51.444Z"
   },
   {
    "duration": 7,
    "start_time": "2022-02-28T15:38:51.494Z"
   },
   {
    "duration": 19,
    "start_time": "2022-02-28T15:38:51.503Z"
   },
   {
    "duration": 33,
    "start_time": "2022-02-28T15:38:51.524Z"
   },
   {
    "duration": 22,
    "start_time": "2022-02-28T15:38:51.586Z"
   },
   {
    "duration": 4500,
    "start_time": "2022-02-28T15:38:51.610Z"
   },
   {
    "duration": 37,
    "start_time": "2022-02-28T15:38:56.112Z"
   },
   {
    "duration": 45,
    "start_time": "2022-02-28T15:38:56.151Z"
   },
   {
    "duration": 459,
    "start_time": "2022-02-28T15:38:56.201Z"
   },
   {
    "duration": 628,
    "start_time": "2022-02-28T15:38:56.663Z"
   },
   {
    "duration": 41,
    "start_time": "2022-02-28T15:38:57.293Z"
   },
   {
    "duration": 432,
    "start_time": "2022-02-28T15:38:57.336Z"
   },
   {
    "duration": 409,
    "start_time": "2022-02-28T15:38:57.770Z"
   },
   {
    "duration": 8,
    "start_time": "2022-02-28T15:38:58.186Z"
   },
   {
    "duration": 13,
    "start_time": "2022-02-28T15:38:58.197Z"
   },
   {
    "duration": 558,
    "start_time": "2022-02-28T15:38:58.212Z"
   },
   {
    "duration": 17,
    "start_time": "2022-02-28T15:38:58.772Z"
   },
   {
    "duration": 6,
    "start_time": "2022-02-28T15:38:58.791Z"
   },
   {
    "duration": 527,
    "start_time": "2022-02-28T15:38:58.799Z"
   },
   {
    "duration": 8,
    "start_time": "2022-02-28T15:38:59.328Z"
   },
   {
    "duration": 19,
    "start_time": "2022-02-28T15:38:59.339Z"
   },
   {
    "duration": 456,
    "start_time": "2022-02-28T15:38:59.360Z"
   },
   {
    "duration": 34,
    "start_time": "2022-02-28T15:38:59.818Z"
   },
   {
    "duration": 43,
    "start_time": "2022-02-28T15:38:59.855Z"
   },
   {
    "duration": 23,
    "start_time": "2022-02-28T15:38:59.900Z"
   },
   {
    "duration": 23,
    "start_time": "2022-02-28T15:38:59.926Z"
   },
   {
    "duration": 55,
    "start_time": "2022-02-28T15:38:59.952Z"
   },
   {
    "duration": 23,
    "start_time": "2022-02-28T15:39:00.009Z"
   },
   {
    "duration": 29,
    "start_time": "2022-02-28T15:39:00.035Z"
   },
   {
    "duration": 8,
    "start_time": "2022-02-28T15:39:00.088Z"
   },
   {
    "duration": 15,
    "start_time": "2022-02-28T15:39:00.099Z"
   },
   {
    "duration": 10,
    "start_time": "2022-02-28T15:39:00.117Z"
   },
   {
    "duration": 28,
    "start_time": "2022-02-28T15:39:00.129Z"
   },
   {
    "duration": 28,
    "start_time": "2022-02-28T15:39:00.160Z"
   },
   {
    "duration": 11,
    "start_time": "2022-02-28T15:39:00.190Z"
   },
   {
    "duration": 10,
    "start_time": "2022-02-28T15:39:00.203Z"
   },
   {
    "duration": 268,
    "start_time": "2022-02-28T16:08:28.801Z"
   },
   {
    "duration": 1380,
    "start_time": "2022-02-28T16:08:37.020Z"
   },
   {
    "duration": 196,
    "start_time": "2022-02-28T16:08:38.403Z"
   },
   {
    "duration": 15,
    "start_time": "2022-02-28T16:08:38.603Z"
   },
   {
    "duration": 32,
    "start_time": "2022-02-28T16:08:38.622Z"
   },
   {
    "duration": 49,
    "start_time": "2022-02-28T16:08:38.657Z"
   },
   {
    "duration": 12,
    "start_time": "2022-02-28T16:08:38.709Z"
   },
   {
    "duration": 66,
    "start_time": "2022-02-28T16:08:38.723Z"
   },
   {
    "duration": 10,
    "start_time": "2022-02-28T16:08:38.795Z"
   },
   {
    "duration": 10,
    "start_time": "2022-02-28T16:08:38.809Z"
   },
   {
    "duration": 16,
    "start_time": "2022-02-28T16:08:38.821Z"
   },
   {
    "duration": 55,
    "start_time": "2022-02-28T16:08:38.839Z"
   },
   {
    "duration": 6,
    "start_time": "2022-02-28T16:08:38.897Z"
   },
   {
    "duration": 25,
    "start_time": "2022-02-28T16:08:38.906Z"
   },
   {
    "duration": 17,
    "start_time": "2022-02-28T16:08:38.933Z"
   },
   {
    "duration": 16,
    "start_time": "2022-02-28T16:08:38.953Z"
   },
   {
    "duration": 21,
    "start_time": "2022-02-28T16:08:38.971Z"
   },
   {
    "duration": 17,
    "start_time": "2022-02-28T16:08:38.995Z"
   },
   {
    "duration": 11,
    "start_time": "2022-02-28T16:08:39.015Z"
   },
   {
    "duration": 65,
    "start_time": "2022-02-28T16:08:39.028Z"
   },
   {
    "duration": 21,
    "start_time": "2022-02-28T16:08:39.096Z"
   },
   {
    "duration": 4524,
    "start_time": "2022-02-28T16:08:39.120Z"
   },
   {
    "duration": 48,
    "start_time": "2022-02-28T16:08:43.646Z"
   },
   {
    "duration": 19,
    "start_time": "2022-02-28T16:08:43.699Z"
   },
   {
    "duration": 460,
    "start_time": "2022-02-28T16:08:43.721Z"
   },
   {
    "duration": 611,
    "start_time": "2022-02-28T16:08:44.187Z"
   },
   {
    "duration": 34,
    "start_time": "2022-02-28T16:08:44.801Z"
   },
   {
    "duration": 461,
    "start_time": "2022-02-28T16:08:44.838Z"
   },
   {
    "duration": 389,
    "start_time": "2022-02-28T16:08:45.301Z"
   },
   {
    "duration": 8,
    "start_time": "2022-02-28T16:08:45.692Z"
   },
   {
    "duration": 7,
    "start_time": "2022-02-28T16:08:45.703Z"
   },
   {
    "duration": 507,
    "start_time": "2022-02-28T16:08:45.712Z"
   },
   {
    "duration": 8,
    "start_time": "2022-02-28T16:08:46.221Z"
   },
   {
    "duration": 7,
    "start_time": "2022-02-28T16:08:46.231Z"
   },
   {
    "duration": 467,
    "start_time": "2022-02-28T16:08:46.240Z"
   },
   {
    "duration": 11,
    "start_time": "2022-02-28T16:08:46.710Z"
   },
   {
    "duration": 20,
    "start_time": "2022-02-28T16:08:46.723Z"
   },
   {
    "duration": 457,
    "start_time": "2022-02-28T16:08:46.746Z"
   },
   {
    "duration": 33,
    "start_time": "2022-02-28T16:08:47.206Z"
   },
   {
    "duration": 46,
    "start_time": "2022-02-28T16:08:47.242Z"
   },
   {
    "duration": 25,
    "start_time": "2022-02-28T16:08:47.291Z"
   },
   {
    "duration": 22,
    "start_time": "2022-02-28T16:08:47.318Z"
   },
   {
    "duration": 54,
    "start_time": "2022-02-28T16:08:47.342Z"
   },
   {
    "duration": 22,
    "start_time": "2022-02-28T16:08:47.398Z"
   },
   {
    "duration": 21,
    "start_time": "2022-02-28T16:08:47.422Z"
   },
   {
    "duration": 8,
    "start_time": "2022-02-28T16:08:47.445Z"
   },
   {
    "duration": 40,
    "start_time": "2022-02-28T16:08:47.455Z"
   },
   {
    "duration": 10,
    "start_time": "2022-02-28T16:08:47.498Z"
   },
   {
    "duration": 12,
    "start_time": "2022-02-28T16:08:47.510Z"
   },
   {
    "duration": 11,
    "start_time": "2022-02-28T16:08:47.524Z"
   },
   {
    "duration": 7,
    "start_time": "2022-02-28T16:08:47.537Z"
   },
   {
    "duration": 45,
    "start_time": "2022-02-28T16:08:47.546Z"
   },
   {
    "duration": 9,
    "start_time": "2022-02-28T16:14:54.459Z"
   },
   {
    "duration": 10,
    "start_time": "2022-02-28T16:15:10.815Z"
   },
   {
    "duration": 9,
    "start_time": "2022-02-28T16:15:44.657Z"
   },
   {
    "duration": 6,
    "start_time": "2022-02-28T16:15:55.211Z"
   },
   {
    "duration": 84,
    "start_time": "2022-02-28T17:30:13.458Z"
   },
   {
    "duration": 70,
    "start_time": "2022-02-28T17:31:18.322Z"
   },
   {
    "duration": 1487,
    "start_time": "2022-03-01T08:06:39.290Z"
   },
   {
    "duration": 246,
    "start_time": "2022-03-01T08:06:40.780Z"
   },
   {
    "duration": 16,
    "start_time": "2022-03-01T08:06:45.428Z"
   },
   {
    "duration": 31,
    "start_time": "2022-03-01T08:06:48.545Z"
   },
   {
    "duration": 18,
    "start_time": "2022-03-01T08:06:49.586Z"
   },
   {
    "duration": 11,
    "start_time": "2022-03-01T08:06:53.627Z"
   },
   {
    "duration": 30,
    "start_time": "2022-03-01T08:07:01.494Z"
   },
   {
    "duration": 9,
    "start_time": "2022-03-01T08:07:09.585Z"
   },
   {
    "duration": 9,
    "start_time": "2022-03-01T08:07:12.125Z"
   },
   {
    "duration": 14,
    "start_time": "2022-03-01T08:07:12.845Z"
   },
   {
    "duration": 12,
    "start_time": "2022-03-01T08:07:13.829Z"
   },
   {
    "duration": 8,
    "start_time": "2022-03-01T08:07:14.785Z"
   },
   {
    "duration": 13,
    "start_time": "2022-03-01T08:07:16.405Z"
   },
   {
    "duration": 11,
    "start_time": "2022-03-01T08:07:17.943Z"
   },
   {
    "duration": 18,
    "start_time": "2022-03-01T08:07:18.665Z"
   },
   {
    "duration": 15,
    "start_time": "2022-03-01T08:07:20.656Z"
   },
   {
    "duration": 13,
    "start_time": "2022-03-01T08:07:22.697Z"
   },
   {
    "duration": 34,
    "start_time": "2022-03-01T08:07:38.106Z"
   },
   {
    "duration": 23,
    "start_time": "2022-03-01T08:08:01.815Z"
   },
   {
    "duration": 4576,
    "start_time": "2022-03-01T08:08:03.885Z"
   },
   {
    "duration": 36,
    "start_time": "2022-03-01T08:08:11.885Z"
   },
   {
    "duration": 33,
    "start_time": "2022-03-01T08:09:05.525Z"
   },
   {
    "duration": 34,
    "start_time": "2022-03-01T08:10:23.145Z"
   },
   {
    "duration": 20,
    "start_time": "2022-03-01T08:10:28.866Z"
   },
   {
    "duration": 362,
    "start_time": "2022-03-01T08:10:35.558Z"
   },
   {
    "duration": 427,
    "start_time": "2022-03-01T08:11:44.341Z"
   },
   {
    "duration": 379,
    "start_time": "2022-03-01T08:12:23.581Z"
   },
   {
    "duration": 418,
    "start_time": "2022-03-01T08:12:31.677Z"
   },
   {
    "duration": 479,
    "start_time": "2022-03-01T08:57:56.472Z"
   },
   {
    "duration": 651,
    "start_time": "2022-03-01T08:58:28.466Z"
   },
   {
    "duration": 479,
    "start_time": "2022-03-01T08:58:42.012Z"
   },
   {
    "duration": 1517,
    "start_time": "2022-03-01T09:10:14.591Z"
   },
   {
    "duration": 235,
    "start_time": "2022-03-01T09:10:31.151Z"
   },
   {
    "duration": 647,
    "start_time": "2022-03-01T09:10:45.303Z"
   },
   {
    "duration": 493,
    "start_time": "2022-03-01T09:22:09.151Z"
   },
   {
    "duration": 499,
    "start_time": "2022-03-01T09:22:19.382Z"
   },
   {
    "duration": 592,
    "start_time": "2022-03-01T09:28:41.924Z"
   },
   {
    "duration": 772,
    "start_time": "2022-03-01T09:28:53.965Z"
   },
   {
    "duration": 572,
    "start_time": "2022-03-01T09:29:03.425Z"
   },
   {
    "duration": 705,
    "start_time": "2022-03-01T09:29:09.093Z"
   },
   {
    "duration": 468,
    "start_time": "2022-03-01T09:32:23.703Z"
   },
   {
    "duration": 463,
    "start_time": "2022-03-01T09:32:37.404Z"
   },
   {
    "duration": 482,
    "start_time": "2022-03-01T09:32:45.291Z"
   },
   {
    "duration": 1697,
    "start_time": "2022-03-01T09:34:47.107Z"
   },
   {
    "duration": 658,
    "start_time": "2022-03-01T09:34:52.882Z"
   },
   {
    "duration": 248,
    "start_time": "2022-03-01T09:48:28.451Z"
   },
   {
    "duration": 6,
    "start_time": "2022-03-01T09:49:01.211Z"
   },
   {
    "duration": 423,
    "start_time": "2022-03-01T09:49:03.733Z"
   },
   {
    "duration": 9,
    "start_time": "2022-03-01T09:49:39.612Z"
   },
   {
    "duration": 5,
    "start_time": "2022-03-01T09:50:41.311Z"
   },
   {
    "duration": 519,
    "start_time": "2022-03-01T09:50:44.032Z"
   },
   {
    "duration": 9,
    "start_time": "2022-03-01T09:50:46.139Z"
   },
   {
    "duration": 11,
    "start_time": "2022-03-01T09:50:57.012Z"
   },
   {
    "duration": 20,
    "start_time": "2022-03-01T10:00:48.011Z"
   },
   {
    "duration": 20,
    "start_time": "2022-03-01T10:00:55.771Z"
   },
   {
    "duration": 20,
    "start_time": "2022-03-01T10:05:05.271Z"
   },
   {
    "duration": 21,
    "start_time": "2022-03-01T10:05:58.620Z"
   },
   {
    "duration": 21,
    "start_time": "2022-03-01T10:06:08.230Z"
   },
   {
    "duration": 374,
    "start_time": "2022-03-01T10:07:18.199Z"
   },
   {
    "duration": 459,
    "start_time": "2022-03-01T10:07:39.584Z"
   },
   {
    "duration": 31,
    "start_time": "2022-03-01T10:26:08.441Z"
   },
   {
    "duration": 462,
    "start_time": "2022-03-01T10:26:09.661Z"
   },
   {
    "duration": 522,
    "start_time": "2022-03-01T10:26:11.202Z"
   },
   {
    "duration": 10,
    "start_time": "2022-03-01T10:26:12.493Z"
   },
   {
    "duration": 5,
    "start_time": "2022-03-01T10:26:14.541Z"
   },
   {
    "duration": 505,
    "start_time": "2022-03-01T10:26:15.278Z"
   },
   {
    "duration": 10,
    "start_time": "2022-03-01T10:26:15.785Z"
   },
   {
    "duration": 8,
    "start_time": "2022-03-01T10:26:18.001Z"
   },
   {
    "duration": 493,
    "start_time": "2022-03-01T10:26:18.769Z"
   },
   {
    "duration": 9,
    "start_time": "2022-03-01T10:26:19.569Z"
   },
   {
    "duration": 20,
    "start_time": "2022-03-01T10:26:46.161Z"
   },
   {
    "duration": 226,
    "start_time": "2022-03-01T13:07:19.242Z"
   },
   {
    "duration": 255,
    "start_time": "2022-03-01T13:07:32.615Z"
   },
   {
    "duration": 7346,
    "start_time": "2022-03-01T13:08:51.002Z"
   },
   {
    "duration": 113,
    "start_time": "2022-03-01T13:16:22.215Z"
   },
   {
    "duration": 556,
    "start_time": "2022-03-01T13:16:25.114Z"
   },
   {
    "duration": 658,
    "start_time": "2022-03-01T13:17:08.610Z"
   },
   {
    "duration": 639,
    "start_time": "2022-03-01T13:19:11.181Z"
   },
   {
    "duration": 390,
    "start_time": "2022-03-01T13:19:21.877Z"
   },
   {
    "duration": 327,
    "start_time": "2022-03-01T13:20:01.480Z"
   },
   {
    "duration": 73,
    "start_time": "2022-03-01T13:20:39.733Z"
   },
   {
    "duration": 266,
    "start_time": "2022-03-01T13:20:43.888Z"
   },
   {
    "duration": 261,
    "start_time": "2022-03-01T13:55:45.434Z"
   },
   {
    "duration": 2041,
    "start_time": "2022-03-01T13:56:53.282Z"
   },
   {
    "duration": 882,
    "start_time": "2022-03-01T13:57:19.562Z"
   },
   {
    "duration": 214,
    "start_time": "2022-03-01T13:57:27.595Z"
   },
   {
    "duration": 234,
    "start_time": "2022-03-01T13:57:31.461Z"
   },
   {
    "duration": 275,
    "start_time": "2022-03-01T14:08:46.662Z"
   },
   {
    "duration": 384,
    "start_time": "2022-03-01T14:09:04.511Z"
   },
   {
    "duration": 615,
    "start_time": "2022-03-01T14:09:38.543Z"
   },
   {
    "duration": 421,
    "start_time": "2022-03-01T14:10:25.903Z"
   },
   {
    "duration": 1127,
    "start_time": "2022-03-01T17:00:10.606Z"
   },
   {
    "duration": 181,
    "start_time": "2022-03-01T17:00:11.735Z"
   },
   {
    "duration": 11,
    "start_time": "2022-03-01T17:00:11.918Z"
   },
   {
    "duration": 21,
    "start_time": "2022-03-01T17:00:11.931Z"
   },
   {
    "duration": 14,
    "start_time": "2022-03-01T17:00:11.953Z"
   },
   {
    "duration": 8,
    "start_time": "2022-03-01T17:00:11.968Z"
   },
   {
    "duration": 20,
    "start_time": "2022-03-01T17:00:11.978Z"
   },
   {
    "duration": 7,
    "start_time": "2022-03-01T17:00:12.000Z"
   },
   {
    "duration": 6,
    "start_time": "2022-03-01T17:00:12.009Z"
   },
   {
    "duration": 44,
    "start_time": "2022-03-01T17:00:12.016Z"
   },
   {
    "duration": 8,
    "start_time": "2022-03-01T17:00:12.062Z"
   },
   {
    "duration": 4,
    "start_time": "2022-03-01T17:00:12.072Z"
   },
   {
    "duration": 13,
    "start_time": "2022-03-01T17:00:12.078Z"
   },
   {
    "duration": 9,
    "start_time": "2022-03-01T17:00:12.093Z"
   },
   {
    "duration": 9,
    "start_time": "2022-03-01T17:00:12.103Z"
   },
   {
    "duration": 47,
    "start_time": "2022-03-01T17:00:12.114Z"
   },
   {
    "duration": 13,
    "start_time": "2022-03-01T17:00:12.162Z"
   },
   {
    "duration": 23,
    "start_time": "2022-03-01T17:00:12.177Z"
   },
   {
    "duration": 16,
    "start_time": "2022-03-01T17:00:12.202Z"
   },
   {
    "duration": 3369,
    "start_time": "2022-03-01T17:00:12.220Z"
   },
   {
    "duration": 23,
    "start_time": "2022-03-01T17:00:15.591Z"
   },
   {
    "duration": 15,
    "start_time": "2022-03-01T17:00:15.616Z"
   },
   {
    "duration": 352,
    "start_time": "2022-03-01T17:00:15.636Z"
   },
   {
    "duration": 410,
    "start_time": "2022-03-01T17:00:15.992Z"
   },
   {
    "duration": 24,
    "start_time": "2022-03-01T17:00:16.405Z"
   },
   {
    "duration": 354,
    "start_time": "2022-03-01T17:00:16.431Z"
   },
   {
    "duration": 312,
    "start_time": "2022-03-01T17:00:16.787Z"
   },
   {
    "duration": 7,
    "start_time": "2022-03-01T17:00:17.101Z"
   },
   {
    "duration": 7,
    "start_time": "2022-03-01T17:00:17.110Z"
   },
   {
    "duration": 366,
    "start_time": "2022-03-01T17:00:17.119Z"
   },
   {
    "duration": 7,
    "start_time": "2022-03-01T17:00:17.487Z"
   },
   {
    "duration": 5,
    "start_time": "2022-03-01T17:00:17.496Z"
   },
   {
    "duration": 362,
    "start_time": "2022-03-01T17:00:17.503Z"
   },
   {
    "duration": 7,
    "start_time": "2022-03-01T17:00:17.867Z"
   },
   {
    "duration": 17,
    "start_time": "2022-03-01T17:00:17.876Z"
   },
   {
    "duration": 344,
    "start_time": "2022-03-01T17:00:17.895Z"
   },
   {
    "duration": 290,
    "start_time": "2022-03-01T17:00:18.241Z"
   },
   {
    "duration": 32,
    "start_time": "2022-03-01T17:00:18.533Z"
   },
   {
    "duration": 17,
    "start_time": "2022-03-01T17:00:18.566Z"
   },
   {
    "duration": 16,
    "start_time": "2022-03-01T17:00:18.585Z"
   },
   {
    "duration": 23,
    "start_time": "2022-03-01T17:00:18.603Z"
   },
   {
    "duration": 43,
    "start_time": "2022-03-01T17:00:18.628Z"
   },
   {
    "duration": 22,
    "start_time": "2022-03-01T17:00:18.673Z"
   },
   {
    "duration": 18,
    "start_time": "2022-03-01T17:00:18.697Z"
   },
   {
    "duration": 7,
    "start_time": "2022-03-01T17:00:18.717Z"
   },
   {
    "duration": 36,
    "start_time": "2022-03-01T17:00:18.725Z"
   },
   {
    "duration": 11,
    "start_time": "2022-03-01T17:00:18.762Z"
   },
   {
    "duration": 10,
    "start_time": "2022-03-01T17:00:18.775Z"
   },
   {
    "duration": 10,
    "start_time": "2022-03-01T17:00:18.787Z"
   },
   {
    "duration": 8,
    "start_time": "2022-03-01T17:00:18.799Z"
   },
   {
    "duration": 7,
    "start_time": "2022-03-01T17:00:18.808Z"
   },
   {
    "duration": 14,
    "start_time": "2022-03-01T17:05:26.733Z"
   },
   {
    "duration": 7,
    "start_time": "2022-03-01T17:06:10.591Z"
   },
   {
    "duration": 206,
    "start_time": "2022-03-01T17:06:23.773Z"
   },
   {
    "duration": 299,
    "start_time": "2022-03-01T17:06:38.989Z"
   },
   {
    "duration": 205,
    "start_time": "2022-03-01T17:06:48.830Z"
   },
   {
    "duration": 328,
    "start_time": "2022-03-01T17:07:48.847Z"
   },
   {
    "duration": 326,
    "start_time": "2022-03-01T17:07:56.884Z"
   }
  ],
  "kernelspec": {
   "display_name": "Python 3 (ipykernel)",
   "language": "python",
   "name": "python3"
  },
  "language_info": {
   "codemirror_mode": {
    "name": "ipython",
    "version": 3
   },
   "file_extension": ".py",
   "mimetype": "text/x-python",
   "name": "python",
   "nbconvert_exporter": "python",
   "pygments_lexer": "ipython3",
   "version": "3.9.7"
  },
  "toc": {
   "base_numbering": 1,
   "nav_menu": {},
   "number_sections": true,
   "sideBar": true,
   "skip_h1_title": true,
   "title_cell": "Table of Contents",
   "title_sidebar": "Contents",
   "toc_cell": false,
   "toc_position": {
    "height": "calc(100% - 180px)",
    "left": "10px",
    "top": "150px",
    "width": "257.594px"
   },
   "toc_section_display": true,
   "toc_window_display": true
  }
 },
 "nbformat": 4,
 "nbformat_minor": 5
}
