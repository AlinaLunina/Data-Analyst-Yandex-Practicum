{
 "cells": [
  {
   "cell_type": "markdown",
   "metadata": {},
   "source": [
    "# Принятие решений в бизнесе Интернет-магазина"
   ]
  },
  {
   "cell_type": "markdown",
   "metadata": {},
   "source": [
    "## Описание проекта\n",
    "\n",
    "Совместно с отделом маркетинга подготовлен список гипотез для увеличения выручки.\n",
    "\n",
    "\n",
    "\n",
    "Задачи: Приоритизировать гипотезы, запустить A/B-тест и проанализировать результаты.\n",
    "\n",
    "Описание данных\n",
    "- Данные для первой части\n",
    "\n",
    "  Файл /datasets/hypothesis.csv. \n",
    "  - Hypothesis — краткое описание гипотезы;\n",
    "  - Reach — охват пользователей по 10-балльной шкале;\n",
    "  - Impact — влияние на пользователей по 10-балльной шкале;\n",
    "  - Confidence — уверенность в гипотезе по 10-балльной шкале;\n",
    "  - Efforts — затраты ресурсов на проверку гипотезы по 10-балльной шкале. Чем больше значение Efforts, тем дороже проверка \n",
    "  гипотезы.\n",
    "  \n",
    "- Данные для второй части\n",
    "  \n",
    "  Файл /datasets/orders.csv.\n",
    "  - transactionId — идентификатор заказа;\n",
    "  - visitorId — идентификатор пользователя, совершившего заказ;\n",
    "  - date — дата, когда был совершён заказ;\n",
    "  - revenue — выручка заказа;\n",
    "  - group — группа A/B-теста, в которую попал заказ.\n",
    "  \n",
    "  Файл /datasets/visitors.csv.\n",
    "  - date — дата;\n",
    "  - group — группа A/B-теста;\n",
    "  - visitors — количество пользователей в указанную дату в указанной группе A/B-теста"
   ]
  },
  {
   "cell_type": "markdown",
   "metadata": {},
   "source": [
    "##  Загрузка данных и подготовка их к анализу"
   ]
  },
  {
   "cell_type": "code",
   "execution_count": 2,
   "metadata": {},
   "outputs": [],
   "source": [
    "#импортируем библиотеки\n",
    "import pandas as pd\n",
    "import scipy.stats as stats\n",
    "import datetime as dt\n",
    "import numpy as np\n",
    "import matplotlib.pyplot as plt\n"
   ]
  },
  {
   "cell_type": "code",
   "execution_count": 3,
   "metadata": {},
   "outputs": [],
   "source": [
    "#читаем файлы, сохраняем их в новых переменных\n",
    "hypothesis=pd.read_csv('/datasets/hypothesis.csv')\n",
    "orders=pd.read_csv('/datasets/orders.csv')\n",
    "visitors=pd.read_csv('/datasets/visitors.csv')"
   ]
  },
  {
   "cell_type": "code",
   "execution_count": 4,
   "metadata": {},
   "outputs": [
    {
     "data": {
      "text/html": [
       "<div>\n",
       "<style scoped>\n",
       "    .dataframe tbody tr th:only-of-type {\n",
       "        vertical-align: middle;\n",
       "    }\n",
       "\n",
       "    .dataframe tbody tr th {\n",
       "        vertical-align: top;\n",
       "    }\n",
       "\n",
       "    .dataframe thead th {\n",
       "        text-align: right;\n",
       "    }\n",
       "</style>\n",
       "<table border=\"1\" class=\"dataframe\">\n",
       "  <thead>\n",
       "    <tr style=\"text-align: right;\">\n",
       "      <th></th>\n",
       "      <th>Hypothesis</th>\n",
       "      <th>Reach</th>\n",
       "      <th>Impact</th>\n",
       "      <th>Confidence</th>\n",
       "      <th>Efforts</th>\n",
       "    </tr>\n",
       "  </thead>\n",
       "  <tbody>\n",
       "    <tr>\n",
       "      <th>0</th>\n",
       "      <td>Добавить два новых канала привлечения трафика,...</td>\n",
       "      <td>3</td>\n",
       "      <td>10</td>\n",
       "      <td>8</td>\n",
       "      <td>6</td>\n",
       "    </tr>\n",
       "    <tr>\n",
       "      <th>1</th>\n",
       "      <td>Запустить собственную службу доставки, что сок...</td>\n",
       "      <td>2</td>\n",
       "      <td>5</td>\n",
       "      <td>4</td>\n",
       "      <td>10</td>\n",
       "    </tr>\n",
       "    <tr>\n",
       "      <th>2</th>\n",
       "      <td>Добавить блоки рекомендаций товаров на сайт ин...</td>\n",
       "      <td>8</td>\n",
       "      <td>3</td>\n",
       "      <td>7</td>\n",
       "      <td>3</td>\n",
       "    </tr>\n",
       "    <tr>\n",
       "      <th>3</th>\n",
       "      <td>Изменить структура категорий, что увеличит кон...</td>\n",
       "      <td>8</td>\n",
       "      <td>3</td>\n",
       "      <td>3</td>\n",
       "      <td>8</td>\n",
       "    </tr>\n",
       "    <tr>\n",
       "      <th>4</th>\n",
       "      <td>Изменить цвет фона главной страницы, чтобы уве...</td>\n",
       "      <td>3</td>\n",
       "      <td>1</td>\n",
       "      <td>1</td>\n",
       "      <td>1</td>\n",
       "    </tr>\n",
       "    <tr>\n",
       "      <th>5</th>\n",
       "      <td>Добавить страницу отзывов клиентов о магазине,...</td>\n",
       "      <td>3</td>\n",
       "      <td>2</td>\n",
       "      <td>2</td>\n",
       "      <td>3</td>\n",
       "    </tr>\n",
       "    <tr>\n",
       "      <th>6</th>\n",
       "      <td>Показать на главной странице баннеры с актуаль...</td>\n",
       "      <td>5</td>\n",
       "      <td>3</td>\n",
       "      <td>8</td>\n",
       "      <td>3</td>\n",
       "    </tr>\n",
       "    <tr>\n",
       "      <th>7</th>\n",
       "      <td>Добавить форму подписки на все основные страни...</td>\n",
       "      <td>10</td>\n",
       "      <td>7</td>\n",
       "      <td>8</td>\n",
       "      <td>5</td>\n",
       "    </tr>\n",
       "    <tr>\n",
       "      <th>8</th>\n",
       "      <td>Запустить акцию, дающую скидку на товар в день...</td>\n",
       "      <td>1</td>\n",
       "      <td>9</td>\n",
       "      <td>9</td>\n",
       "      <td>5</td>\n",
       "    </tr>\n",
       "  </tbody>\n",
       "</table>\n",
       "</div>"
      ],
      "text/plain": [
       "                                          Hypothesis  Reach  Impact  \\\n",
       "0  Добавить два новых канала привлечения трафика,...      3      10   \n",
       "1  Запустить собственную службу доставки, что сок...      2       5   \n",
       "2  Добавить блоки рекомендаций товаров на сайт ин...      8       3   \n",
       "3  Изменить структура категорий, что увеличит кон...      8       3   \n",
       "4  Изменить цвет фона главной страницы, чтобы уве...      3       1   \n",
       "5  Добавить страницу отзывов клиентов о магазине,...      3       2   \n",
       "6  Показать на главной странице баннеры с актуаль...      5       3   \n",
       "7  Добавить форму подписки на все основные страни...     10       7   \n",
       "8  Запустить акцию, дающую скидку на товар в день...      1       9   \n",
       "\n",
       "   Confidence  Efforts  \n",
       "0           8        6  \n",
       "1           4       10  \n",
       "2           7        3  \n",
       "3           3        8  \n",
       "4           1        1  \n",
       "5           2        3  \n",
       "6           8        3  \n",
       "7           8        5  \n",
       "8           9        5  "
      ]
     },
     "metadata": {},
     "output_type": "display_data"
    },
    {
     "data": {
      "text/html": [
       "<div>\n",
       "<style scoped>\n",
       "    .dataframe tbody tr th:only-of-type {\n",
       "        vertical-align: middle;\n",
       "    }\n",
       "\n",
       "    .dataframe tbody tr th {\n",
       "        vertical-align: top;\n",
       "    }\n",
       "\n",
       "    .dataframe thead th {\n",
       "        text-align: right;\n",
       "    }\n",
       "</style>\n",
       "<table border=\"1\" class=\"dataframe\">\n",
       "  <thead>\n",
       "    <tr style=\"text-align: right;\">\n",
       "      <th></th>\n",
       "      <th>transactionId</th>\n",
       "      <th>visitorId</th>\n",
       "      <th>date</th>\n",
       "      <th>revenue</th>\n",
       "      <th>group</th>\n",
       "    </tr>\n",
       "  </thead>\n",
       "  <tbody>\n",
       "    <tr>\n",
       "      <th>0</th>\n",
       "      <td>3667963787</td>\n",
       "      <td>3312258926</td>\n",
       "      <td>2019-08-15</td>\n",
       "      <td>1650</td>\n",
       "      <td>B</td>\n",
       "    </tr>\n",
       "    <tr>\n",
       "      <th>1</th>\n",
       "      <td>2804400009</td>\n",
       "      <td>3642806036</td>\n",
       "      <td>2019-08-15</td>\n",
       "      <td>730</td>\n",
       "      <td>B</td>\n",
       "    </tr>\n",
       "    <tr>\n",
       "      <th>2</th>\n",
       "      <td>2961555356</td>\n",
       "      <td>4069496402</td>\n",
       "      <td>2019-08-15</td>\n",
       "      <td>400</td>\n",
       "      <td>A</td>\n",
       "    </tr>\n",
       "    <tr>\n",
       "      <th>3</th>\n",
       "      <td>3797467345</td>\n",
       "      <td>1196621759</td>\n",
       "      <td>2019-08-15</td>\n",
       "      <td>9759</td>\n",
       "      <td>B</td>\n",
       "    </tr>\n",
       "    <tr>\n",
       "      <th>4</th>\n",
       "      <td>2282983706</td>\n",
       "      <td>2322279887</td>\n",
       "      <td>2019-08-15</td>\n",
       "      <td>2308</td>\n",
       "      <td>B</td>\n",
       "    </tr>\n",
       "    <tr>\n",
       "      <th>...</th>\n",
       "      <td>...</td>\n",
       "      <td>...</td>\n",
       "      <td>...</td>\n",
       "      <td>...</td>\n",
       "      <td>...</td>\n",
       "    </tr>\n",
       "    <tr>\n",
       "      <th>1192</th>\n",
       "      <td>2662137336</td>\n",
       "      <td>3733762160</td>\n",
       "      <td>2019-08-14</td>\n",
       "      <td>6490</td>\n",
       "      <td>B</td>\n",
       "    </tr>\n",
       "    <tr>\n",
       "      <th>1193</th>\n",
       "      <td>2203539145</td>\n",
       "      <td>370388673</td>\n",
       "      <td>2019-08-14</td>\n",
       "      <td>3190</td>\n",
       "      <td>A</td>\n",
       "    </tr>\n",
       "    <tr>\n",
       "      <th>1194</th>\n",
       "      <td>1807773912</td>\n",
       "      <td>573423106</td>\n",
       "      <td>2019-08-14</td>\n",
       "      <td>10550</td>\n",
       "      <td>A</td>\n",
       "    </tr>\n",
       "    <tr>\n",
       "      <th>1195</th>\n",
       "      <td>1947021204</td>\n",
       "      <td>1614305549</td>\n",
       "      <td>2019-08-14</td>\n",
       "      <td>100</td>\n",
       "      <td>A</td>\n",
       "    </tr>\n",
       "    <tr>\n",
       "      <th>1196</th>\n",
       "      <td>3936777065</td>\n",
       "      <td>2108080724</td>\n",
       "      <td>2019-08-15</td>\n",
       "      <td>202740</td>\n",
       "      <td>B</td>\n",
       "    </tr>\n",
       "  </tbody>\n",
       "</table>\n",
       "<p>1197 rows × 5 columns</p>\n",
       "</div>"
      ],
      "text/plain": [
       "      transactionId   visitorId        date  revenue group\n",
       "0        3667963787  3312258926  2019-08-15     1650     B\n",
       "1        2804400009  3642806036  2019-08-15      730     B\n",
       "2        2961555356  4069496402  2019-08-15      400     A\n",
       "3        3797467345  1196621759  2019-08-15     9759     B\n",
       "4        2282983706  2322279887  2019-08-15     2308     B\n",
       "...             ...         ...         ...      ...   ...\n",
       "1192     2662137336  3733762160  2019-08-14     6490     B\n",
       "1193     2203539145   370388673  2019-08-14     3190     A\n",
       "1194     1807773912   573423106  2019-08-14    10550     A\n",
       "1195     1947021204  1614305549  2019-08-14      100     A\n",
       "1196     3936777065  2108080724  2019-08-15   202740     B\n",
       "\n",
       "[1197 rows x 5 columns]"
      ]
     },
     "metadata": {},
     "output_type": "display_data"
    },
    {
     "data": {
      "text/html": [
       "<div>\n",
       "<style scoped>\n",
       "    .dataframe tbody tr th:only-of-type {\n",
       "        vertical-align: middle;\n",
       "    }\n",
       "\n",
       "    .dataframe tbody tr th {\n",
       "        vertical-align: top;\n",
       "    }\n",
       "\n",
       "    .dataframe thead th {\n",
       "        text-align: right;\n",
       "    }\n",
       "</style>\n",
       "<table border=\"1\" class=\"dataframe\">\n",
       "  <thead>\n",
       "    <tr style=\"text-align: right;\">\n",
       "      <th></th>\n",
       "      <th>date</th>\n",
       "      <th>group</th>\n",
       "      <th>visitors</th>\n",
       "    </tr>\n",
       "  </thead>\n",
       "  <tbody>\n",
       "    <tr>\n",
       "      <th>0</th>\n",
       "      <td>2019-08-01</td>\n",
       "      <td>A</td>\n",
       "      <td>719</td>\n",
       "    </tr>\n",
       "    <tr>\n",
       "      <th>1</th>\n",
       "      <td>2019-08-02</td>\n",
       "      <td>A</td>\n",
       "      <td>619</td>\n",
       "    </tr>\n",
       "    <tr>\n",
       "      <th>2</th>\n",
       "      <td>2019-08-03</td>\n",
       "      <td>A</td>\n",
       "      <td>507</td>\n",
       "    </tr>\n",
       "    <tr>\n",
       "      <th>3</th>\n",
       "      <td>2019-08-04</td>\n",
       "      <td>A</td>\n",
       "      <td>717</td>\n",
       "    </tr>\n",
       "    <tr>\n",
       "      <th>4</th>\n",
       "      <td>2019-08-05</td>\n",
       "      <td>A</td>\n",
       "      <td>756</td>\n",
       "    </tr>\n",
       "    <tr>\n",
       "      <th>...</th>\n",
       "      <td>...</td>\n",
       "      <td>...</td>\n",
       "      <td>...</td>\n",
       "    </tr>\n",
       "    <tr>\n",
       "      <th>57</th>\n",
       "      <td>2019-08-27</td>\n",
       "      <td>B</td>\n",
       "      <td>720</td>\n",
       "    </tr>\n",
       "    <tr>\n",
       "      <th>58</th>\n",
       "      <td>2019-08-28</td>\n",
       "      <td>B</td>\n",
       "      <td>654</td>\n",
       "    </tr>\n",
       "    <tr>\n",
       "      <th>59</th>\n",
       "      <td>2019-08-29</td>\n",
       "      <td>B</td>\n",
       "      <td>531</td>\n",
       "    </tr>\n",
       "    <tr>\n",
       "      <th>60</th>\n",
       "      <td>2019-08-30</td>\n",
       "      <td>B</td>\n",
       "      <td>490</td>\n",
       "    </tr>\n",
       "    <tr>\n",
       "      <th>61</th>\n",
       "      <td>2019-08-31</td>\n",
       "      <td>B</td>\n",
       "      <td>718</td>\n",
       "    </tr>\n",
       "  </tbody>\n",
       "</table>\n",
       "<p>62 rows × 3 columns</p>\n",
       "</div>"
      ],
      "text/plain": [
       "          date group  visitors\n",
       "0   2019-08-01     A       719\n",
       "1   2019-08-02     A       619\n",
       "2   2019-08-03     A       507\n",
       "3   2019-08-04     A       717\n",
       "4   2019-08-05     A       756\n",
       "..         ...   ...       ...\n",
       "57  2019-08-27     B       720\n",
       "58  2019-08-28     B       654\n",
       "59  2019-08-29     B       531\n",
       "60  2019-08-30     B       490\n",
       "61  2019-08-31     B       718\n",
       "\n",
       "[62 rows x 3 columns]"
      ]
     },
     "metadata": {},
     "output_type": "display_data"
    }
   ],
   "source": [
    "#просматриваем файлы\n",
    "display(hypothesis)\n",
    "display(orders)\n",
    "display(visitors)"
   ]
  },
  {
   "cell_type": "code",
   "execution_count": 5,
   "metadata": {},
   "outputs": [],
   "source": [
    "#переименовываем значения в столбцах\n",
    "hypothesis.columns = [x.lower() for x in hypothesis.columns.values]\n",
    "orders.rename(columns={'transactionId':'transaction_id', 'visitorId':'visitor_id'}, inplace = True)\n"
   ]
  },
  {
   "cell_type": "code",
   "execution_count": 6,
   "metadata": {},
   "outputs": [],
   "source": [
    "#меняем формат даты \n",
    "orders['date'] = orders['date'].map(\n",
    "    lambda x: dt.datetime.strptime(x, '%Y-%m-%d')\n",
    ")\n",
    "visitors['date'] = visitors['date'].map(\n",
    "    lambda x: dt.datetime.strptime(x, '%Y-%m-%d')\n",
    ")"
   ]
  },
  {
   "cell_type": "markdown",
   "metadata": {},
   "source": [
    "## Приоритезация гипотез"
   ]
  },
  {
   "cell_type": "code",
   "execution_count": 7,
   "metadata": {},
   "outputs": [
    {
     "name": "stdout",
     "output_type": "stream",
     "text": [
      "                                          hypothesis        ICE\n",
      "8  Запустить акцию, дающую скидку на товар в день...  16.200000\n",
      "0  Добавить два новых канала привлечения трафика,...  13.333333\n",
      "7  Добавить форму подписки на все основные страни...  11.200000\n",
      "6  Показать на главной странице баннеры с актуаль...   8.000000\n",
      "2  Добавить блоки рекомендаций товаров на сайт ин...   7.000000\n",
      "1  Запустить собственную службу доставки, что сок...   2.000000\n",
      "5  Добавить страницу отзывов клиентов о магазине,...   1.333333\n",
      "3  Изменить структура категорий, что увеличит кон...   1.125000\n",
      "4  Изменить цвет фона главной страницы, чтобы уве...   1.000000\n"
     ]
    }
   ],
   "source": [
    "# просчитаем фреймворк ICE для приоритезации гипотез\n",
    "hypothesis['ICE']=(hypothesis['impact']*hypothesis['confidence'])/hypothesis['efforts']\n",
    "print(hypothesis[['hypothesis','ICE']].sort_values(by='ICE', ascending=False))"
   ]
  },
  {
   "cell_type": "markdown",
   "metadata": {},
   "source": [
    "Наиболее перспективные гипотезы: №8, 0,7"
   ]
  },
  {
   "cell_type": "code",
   "execution_count": 8,
   "metadata": {},
   "outputs": [
    {
     "name": "stdout",
     "output_type": "stream",
     "text": [
      "                                          hypothesis   RICE\n",
      "7  Добавить форму подписки на все основные страни...  112.0\n",
      "2  Добавить блоки рекомендаций товаров на сайт ин...   56.0\n",
      "0  Добавить два новых канала привлечения трафика,...   40.0\n",
      "6  Показать на главной странице баннеры с актуаль...   40.0\n",
      "8  Запустить акцию, дающую скидку на товар в день...   16.2\n",
      "3  Изменить структура категорий, что увеличит кон...    9.0\n",
      "1  Запустить собственную службу доставки, что сок...    4.0\n",
      "5  Добавить страницу отзывов клиентов о магазине,...    4.0\n",
      "4  Изменить цвет фона главной страницы, чтобы уве...    3.0\n"
     ]
    }
   ],
   "source": [
    "# просчитаем фреймворк RICE для приоритезации гипотез\n",
    "hypothesis['RICE']=(hypothesis['reach']*hypothesis['impact']*hypothesis['confidence'])/hypothesis['efforts']\n",
    "\n",
    "print(hypothesis[['hypothesis', 'RICE']].sort_values(by='RICE', ascending=False))"
   ]
  },
  {
   "cell_type": "markdown",
   "metadata": {},
   "source": [
    "Наиболее перспективные гипотезы согласно методике RICE: №7,2,0"
   ]
  },
  {
   "cell_type": "markdown",
   "metadata": {},
   "source": [
    "### Выводы по приоритезации гипотез\n",
    "\n",
    "Наиболее перспективные гипотезы согласно методике ICE: №8,0,7.\n",
    "Наиболее перспективные гипотезы согласно методике RICE: №7,2,0.\n",
    "\n",
    "На основании данных, наиболее перспективные гипотеза это 7 и 0. Данные гипотезы согласно двум методикам попали в первую тройку.\n",
    "\n",
    "В то же время гипотеза 8, которая была на первом месте по методике ICE опустилась на 5 место по методике RICE, так как у нее низкий показатель Reach — количество  пользователей, которых затронет изменение.\n",
    "\n",
    "У 7 гипотезы же данный показатель очень высокий.\n"
   ]
  },
  {
   "cell_type": "markdown",
   "metadata": {},
   "source": [
    "## Анализ A/B-теста"
   ]
  },
  {
   "cell_type": "code",
   "execution_count": 9,
   "metadata": {},
   "outputs": [
    {
     "data": {
      "text/html": [
       "<div>\n",
       "<style scoped>\n",
       "    .dataframe tbody tr th:only-of-type {\n",
       "        vertical-align: middle;\n",
       "    }\n",
       "\n",
       "    .dataframe tbody tr th {\n",
       "        vertical-align: top;\n",
       "    }\n",
       "\n",
       "    .dataframe thead th {\n",
       "        text-align: right;\n",
       "    }\n",
       "</style>\n",
       "<table border=\"1\" class=\"dataframe\">\n",
       "  <thead>\n",
       "    <tr style=\"text-align: right;\">\n",
       "      <th></th>\n",
       "      <th>date</th>\n",
       "      <th>group</th>\n",
       "      <th>orders</th>\n",
       "      <th>buyers</th>\n",
       "      <th>revenue</th>\n",
       "      <th>visitors</th>\n",
       "    </tr>\n",
       "  </thead>\n",
       "  <tbody>\n",
       "    <tr>\n",
       "      <th>0</th>\n",
       "      <td>2019-08-01</td>\n",
       "      <td>A</td>\n",
       "      <td>24</td>\n",
       "      <td>20</td>\n",
       "      <td>148579</td>\n",
       "      <td>719</td>\n",
       "    </tr>\n",
       "    <tr>\n",
       "      <th>1</th>\n",
       "      <td>2019-08-01</td>\n",
       "      <td>B</td>\n",
       "      <td>21</td>\n",
       "      <td>20</td>\n",
       "      <td>101217</td>\n",
       "      <td>713</td>\n",
       "    </tr>\n",
       "    <tr>\n",
       "      <th>2</th>\n",
       "      <td>2019-08-02</td>\n",
       "      <td>A</td>\n",
       "      <td>44</td>\n",
       "      <td>38</td>\n",
       "      <td>242401</td>\n",
       "      <td>1338</td>\n",
       "    </tr>\n",
       "    <tr>\n",
       "      <th>3</th>\n",
       "      <td>2019-08-02</td>\n",
       "      <td>B</td>\n",
       "      <td>45</td>\n",
       "      <td>43</td>\n",
       "      <td>266748</td>\n",
       "      <td>1294</td>\n",
       "    </tr>\n",
       "    <tr>\n",
       "      <th>4</th>\n",
       "      <td>2019-08-03</td>\n",
       "      <td>A</td>\n",
       "      <td>68</td>\n",
       "      <td>62</td>\n",
       "      <td>354874</td>\n",
       "      <td>1845</td>\n",
       "    </tr>\n",
       "  </tbody>\n",
       "</table>\n",
       "</div>"
      ],
      "text/plain": [
       "        date group  orders  buyers  revenue  visitors\n",
       "0 2019-08-01     A      24      20   148579       719\n",
       "1 2019-08-01     B      21      20   101217       713\n",
       "2 2019-08-02     A      44      38   242401      1338\n",
       "3 2019-08-02     B      45      43   266748      1294\n",
       "4 2019-08-03     A      68      62   354874      1845"
      ]
     },
     "metadata": {},
     "output_type": "display_data"
    }
   ],
   "source": [
    "# создаем массив уникальных пар значений дат и групп теста\n",
    "datesGroups=orders[['date','group']].drop_duplicates()\n",
    "\n",
    "# получаем агрегированные кумулятивные по дням данные о заказах \n",
    "ordersAggregated=datesGroups.apply(lambda x: orders[np.logical_and(orders['date'] <= x['date'], orders['group'] == x['group'])]\\\n",
    ".agg({'date' : 'max', 'group' : 'max', 'transaction_id' : 'nunique', 'visitor_id' : 'nunique', 'revenue' : 'sum'}), axis=1).sort_values(by=['date','group'])\n",
    "\n",
    "# получаем агрегированные кумулятивные по дням данные о посетителях интернет-магазина \n",
    "visitorsAggregated = datesGroups.apply(\n",
    "    lambda x: visitors[\n",
    "        np.logical_and(\n",
    "            visitors['date'] <= x['date'], visitors['group'] == x['group']\n",
    "        )\n",
    "    ].agg({'date' : 'max', 'group' : 'max', 'visitors' : 'sum'}), axis=1).sort_values(by=['date','group'])\n",
    "\n",
    "# объединяем кумулятивные данные в одной таблице и присваиваем ее столбцам понятные названия\n",
    "cumulativeData = ordersAggregated.merge(visitorsAggregated, left_on=['date', 'group'], right_on=['date', 'group'])\n",
    "cumulativeData.columns = ['date', 'group', 'orders', 'buyers', 'revenue', 'visitors']\n",
    "\n",
    "display(cumulativeData.head(5)) "
   ]
  },
  {
   "cell_type": "markdown",
   "metadata": {},
   "source": [
    "### График кумулятивной выручки по группам"
   ]
  },
  {
   "cell_type": "code",
   "execution_count": 10,
   "metadata": {},
   "outputs": [
    {
     "data": {
      "text/plain": [
       "<matplotlib.legend.Legend at 0x7f46f4bdae50>"
      ]
     },
     "execution_count": 10,
     "metadata": {},
     "output_type": "execute_result"
    },
    {
     "data": {
      "image/png": "[encoded data removed]",
      "text/plain": [
       "<Figure size 792x792 with 1 Axes>"
      ]
     },
     "metadata": {
      "needs_background": "light"
     },
     "output_type": "display_data"
    }
   ],
   "source": [
    "# датафрейм с кумулятивным количеством заказов и кумулятивной выручкой по дням в группе А\n",
    "cumulativeRevenueA = cumulativeData[cumulativeData['group']=='A'][['date','revenue', 'orders']]\n",
    "\n",
    "# датафрейм с кумулятивным количеством заказов и кумулятивной выручкой по дням в группе B\n",
    "cumulativeRevenueB = cumulativeData[cumulativeData['group']=='B'][['date','revenue', 'orders']]\n",
    "\n",
    "plt.figure(figsize=(11, 11)) \n",
    "# Строим график выручки группы А\n",
    "plt.plot(cumulativeRevenueA['date'], cumulativeRevenueA['revenue'], label='A')\n",
    "\n",
    "# Строим график выручки группы B\n",
    "plt.plot(cumulativeRevenueB['date'], cumulativeRevenueB['revenue'], label='B')\n",
    "\n",
    "plt.legend() \n"
   ]
  },
  {
   "cell_type": "markdown",
   "metadata": {},
   "source": [
    "#### Выводы по графикам кумултивной выручки по группам\n",
    "\n",
    "Выручка почти увеличивается в течение всего теста. \n",
    "ОДнако выручка по группе А увеличивается равномерно. В группе B наблюдается резкий скачок. Это может сигнализировать о всплесках числа заказов, либо о появлении очень дорогих заказов в выборке."
   ]
  },
  {
   "cell_type": "markdown",
   "metadata": {},
   "source": [
    "### График кумулятивного среднего чека по группам. "
   ]
  },
  {
   "cell_type": "code",
   "execution_count": 11,
   "metadata": {},
   "outputs": [
    {
     "data": {
      "text/plain": [
       "<matplotlib.legend.Legend at 0x7f46e5df6820>"
      ]
     },
     "execution_count": 11,
     "metadata": {},
     "output_type": "execute_result"
    },
    {
     "data": {
      "image/png": "[encoded data removed]",
      "text/plain": [
       "<Figure size 792x792 with 1 Axes>"
      ]
     },
     "metadata": {
      "needs_background": "light"
     },
     "output_type": "display_data"
    }
   ],
   "source": [
    "plt.figure(figsize=(11, 11)) \n",
    "plt.plot(cumulativeRevenueA['date'], cumulativeRevenueA['revenue']/cumulativeRevenueA['orders'], label='A')\n",
    "plt.plot(cumulativeRevenueB['date'], cumulativeRevenueB['revenue']/cumulativeRevenueB['orders'], label='B')\n",
    "plt.legend() "
   ]
  },
  {
   "cell_type": "markdown",
   "metadata": {},
   "source": [
    "#### Выводы по графикам кумулятивного среднего чека по группам\n",
    "\n",
    "Средний чек групп A и B в процессе растет, однако наблюдались резкие скачки вниз в начале. По группе B также наблюдается резкий скачок среднего чека, а затем постепенный спад."
   ]
  },
  {
   "cell_type": "markdown",
   "metadata": {},
   "source": [
    "### График относительного изменения кумулятивного среднего чека группы B к группе A"
   ]
  },
  {
   "cell_type": "code",
   "execution_count": 12,
   "metadata": {},
   "outputs": [
    {
     "data": {
      "text/plain": [
       "<matplotlib.lines.Line2D at 0x7f46f487b0d0>"
      ]
     },
     "execution_count": 12,
     "metadata": {},
     "output_type": "execute_result"
    },
    {
     "data": {
      "image/png": "[encoded data removed]",
      "text/plain": [
       "<Figure size 792x792 with 1 Axes>"
      ]
     },
     "metadata": {
      "needs_background": "light"
     },
     "output_type": "display_data"
    }
   ],
   "source": [
    "# собираем данные в одном датафрейме\n",
    "mergedCumulativeRevenue = cumulativeRevenueA.merge(cumulativeRevenueB, \n",
    "                                                   left_on='date', \n",
    "                                                   right_on='date', \n",
    "                                                   how='left', suffixes=['A', 'B'])\n",
    "\n",
    "plt.figure(figsize=(11, 11)) \n",
    "# cтроим отношение средних чеков\n",
    "plt.plot(mergedCumulativeRevenue['date'], (mergedCumulativeRevenue['revenueB']/mergedCumulativeRevenue['ordersB'])/(mergedCumulativeRevenue['revenueA']/mergedCumulativeRevenue['ordersA'])-1)\n",
    "\n",
    "# добавляем ось X\n",
    "plt.axhline(y=0, color='black', linestyle='--') "
   ]
  },
  {
   "cell_type": "markdown",
   "metadata": {},
   "source": [
    "В нескольких точках график различия между сегментами резко «скачет», скорее всего где-то спрятаны крупные заказы и выбросы"
   ]
  },
  {
   "cell_type": "markdown",
   "metadata": {},
   "source": [
    "### График кумулятивной конверсии по группам "
   ]
  },
  {
   "cell_type": "code",
   "execution_count": 13,
   "metadata": {},
   "outputs": [
    {
     "data": {
      "text/plain": [
       "<matplotlib.legend.Legend at 0x7f46f47f7b20>"
      ]
     },
     "execution_count": 13,
     "metadata": {},
     "output_type": "execute_result"
    },
    {
     "data": {
      "image/png": "[encoded data removed]",
      "text/plain": [
       "<Figure size 792x792 with 1 Axes>"
      ]
     },
     "metadata": {
      "needs_background": "light"
     },
     "output_type": "display_data"
    }
   ],
   "source": [
    "# считаем кумулятивную конверсию\n",
    "cumulativeData['conversion'] = cumulativeData['orders']/cumulativeData['visitors']\n",
    "\n",
    "# отделяем данные по группе A\n",
    "cumulativeDataA = cumulativeData[cumulativeData['group']=='A']\n",
    "\n",
    "# отделяем данные по группе B\n",
    "cumulativeDataB = cumulativeData[cumulativeData['group']=='B']\n",
    "\n",
    "# строим графики\n",
    "plt.figure(figsize=(11, 11)) \n",
    "plt.plot(cumulativeDataA['date'], cumulativeDataA['conversion'], label='A')\n",
    "plt.plot(cumulativeDataB['date'], cumulativeDataB['conversion'], label='B')\n",
    "plt.legend()\n",
    "\n",
    "# задаем масштаб осей\n",
    "#plt.axis([\"2019-08-01\", '2019-09-01', 0, 0.4]) "
   ]
  },
  {
   "cell_type": "markdown",
   "metadata": {},
   "source": [
    "#### Выводы по графику кумулятивной конверсии по группам\n",
    "У групп были резкие скачки вверх в начале, затем резкий провал. Однако затем конверсия группы B вырвалась вперёд и зафиксировалась, а конверсия группы А просела и также зафиксировалась."
   ]
  },
  {
   "cell_type": "markdown",
   "metadata": {},
   "source": [
    "### График относительного изменения кумулятивной конверсии группы B к группе A."
   ]
  },
  {
   "cell_type": "code",
   "execution_count": 14,
   "metadata": {},
   "outputs": [
    {
     "data": {
      "text/plain": [
       "<matplotlib.lines.Line2D at 0x7f46f470dac0>"
      ]
     },
     "execution_count": 14,
     "metadata": {},
     "output_type": "execute_result"
    },
    {
     "data": {
      "image/png": "[encoded data removed]",
      "text/plain": [
       "<Figure size 792x792 with 1 Axes>"
      ]
     },
     "metadata": {
      "needs_background": "light"
     },
     "output_type": "display_data"
    }
   ],
   "source": [
    "mergedCumulativeConversions = cumulativeDataA[['date','conversion']].merge(cumulativeDataB[['date','conversion']], left_on='date', right_on='date', how='left', suffixes=['A', 'B'])\n",
    "plt.figure(figsize=(11, 11)) \n",
    "plt.plot(mergedCumulativeConversions['date'], mergedCumulativeConversions['conversionB']/mergedCumulativeConversions['conversionA']-1, label=\"Относительный прирост конверсии группы B относительно группы A\")\n",
    "plt.legend(loc='upper center')\n",
    "\n",
    "plt.axhline(y=0, color='black', linestyle='--')\n",
    "plt.axhline(y=0.13, color='grey', linestyle='--')\n"
   ]
  },
  {
   "cell_type": "markdown",
   "metadata": {},
   "source": [
    "#### Вывод по графику относительного изменения кумулятивной конверсии группы В к группе А.\n",
    "\n",
    "В начале теста группа B значительно проигрывала группе A, затем резко вырвалась вперёд, и примерно выравнилась -график колеблется вокруг уровня 0.13."
   ]
  },
  {
   "cell_type": "markdown",
   "metadata": {},
   "source": [
    "### Точечный график количества заказов по пользователям"
   ]
  },
  {
   "cell_type": "code",
   "execution_count": 15,
   "metadata": {},
   "outputs": [
    {
     "data": {
      "text/plain": [
       "<matplotlib.collections.PathCollection at 0x7f46f46fc7f0>"
      ]
     },
     "execution_count": 15,
     "metadata": {},
     "output_type": "execute_result"
    },
    {
     "data": {
      "image/png": "[encoded data removed]",
      "text/plain": [
       "<Figure size 432x288 with 1 Axes>"
      ]
     },
     "metadata": {
      "needs_background": "light"
     },
     "output_type": "display_data"
    }
   ],
   "source": [
    "#Найдем число заказов по пользователям \n",
    "ordersByUsers = (\n",
    "    orders.groupby('visitor_id', as_index=False)\n",
    "    .agg({'transaction_id': 'nunique'})\n",
    ")\n",
    "\n",
    "ordersByUsers.columns = ['userId', 'orders']\n",
    "\n",
    "#строим точечный график количества заказов по пользователям\n",
    "x_values = pd.Series(range(0, len(ordersByUsers)))\n",
    "\n",
    "plt.scatter(x_values, ordersByUsers['orders']) "
   ]
  },
  {
   "cell_type": "markdown",
   "metadata": {},
   "source": [
    "Пользователей, заказавших более 2 раз, довольно мало"
   ]
  },
  {
   "cell_type": "markdown",
   "metadata": {},
   "source": [
    "### Подсчет 95-й и 99-й перцентили количества заказов на пользователя"
   ]
  },
  {
   "cell_type": "code",
   "execution_count": 16,
   "metadata": {},
   "outputs": [
    {
     "data": {
      "text/plain": [
       "array([1., 2., 4.])"
      ]
     },
     "metadata": {},
     "output_type": "display_data"
    }
   ],
   "source": [
    "display(np.percentile(ordersByUsers['orders'], [90, 95, 99])) "
   ]
  },
  {
   "cell_type": "markdown",
   "metadata": {},
   "source": [
    "Не более 5% пользователей совершили более 2х заказов. И не более 1% пользователей сделали больше 4х заказов"
   ]
  },
  {
   "cell_type": "markdown",
   "metadata": {},
   "source": [
    "### Точечный график стоимостей заказов"
   ]
  },
  {
   "cell_type": "code",
   "execution_count": 29,
   "metadata": {},
   "outputs": [
    {
     "data": {
      "text/html": [
       "<div>\n",
       "<style scoped>\n",
       "    .dataframe tbody tr th:only-of-type {\n",
       "        vertical-align: middle;\n",
       "    }\n",
       "\n",
       "    .dataframe tbody tr th {\n",
       "        vertical-align: top;\n",
       "    }\n",
       "\n",
       "    .dataframe thead th {\n",
       "        text-align: right;\n",
       "    }\n",
       "</style>\n",
       "<table border=\"1\" class=\"dataframe\">\n",
       "  <thead>\n",
       "    <tr style=\"text-align: right;\">\n",
       "      <th></th>\n",
       "      <th>transaction_id</th>\n",
       "      <th>visitor_id</th>\n",
       "      <th>date</th>\n",
       "      <th>revenue</th>\n",
       "      <th>group</th>\n",
       "    </tr>\n",
       "  </thead>\n",
       "  <tbody>\n",
       "    <tr>\n",
       "      <th>425</th>\n",
       "      <td>590470918</td>\n",
       "      <td>1920142716</td>\n",
       "      <td>2019-08-19</td>\n",
       "      <td>1294500</td>\n",
       "      <td>B</td>\n",
       "    </tr>\n",
       "    <tr>\n",
       "      <th>1196</th>\n",
       "      <td>3936777065</td>\n",
       "      <td>2108080724</td>\n",
       "      <td>2019-08-15</td>\n",
       "      <td>202740</td>\n",
       "      <td>B</td>\n",
       "    </tr>\n",
       "    <tr>\n",
       "      <th>858</th>\n",
       "      <td>192721366</td>\n",
       "      <td>1316129916</td>\n",
       "      <td>2019-08-27</td>\n",
       "      <td>93940</td>\n",
       "      <td>A</td>\n",
       "    </tr>\n",
       "    <tr>\n",
       "      <th>1136</th>\n",
       "      <td>666610489</td>\n",
       "      <td>1307669133</td>\n",
       "      <td>2019-08-13</td>\n",
       "      <td>92550</td>\n",
       "      <td>A</td>\n",
       "    </tr>\n",
       "    <tr>\n",
       "      <th>744</th>\n",
       "      <td>3668308183</td>\n",
       "      <td>888512513</td>\n",
       "      <td>2019-08-27</td>\n",
       "      <td>86620</td>\n",
       "      <td>B</td>\n",
       "    </tr>\n",
       "    <tr>\n",
       "      <th>682</th>\n",
       "      <td>1216533772</td>\n",
       "      <td>4266935830</td>\n",
       "      <td>2019-08-29</td>\n",
       "      <td>78990</td>\n",
       "      <td>B</td>\n",
       "    </tr>\n",
       "    <tr>\n",
       "      <th>662</th>\n",
       "      <td>1811671147</td>\n",
       "      <td>4266935830</td>\n",
       "      <td>2019-08-29</td>\n",
       "      <td>78990</td>\n",
       "      <td>A</td>\n",
       "    </tr>\n",
       "    <tr>\n",
       "      <th>743</th>\n",
       "      <td>3603576309</td>\n",
       "      <td>4133034833</td>\n",
       "      <td>2019-08-09</td>\n",
       "      <td>67990</td>\n",
       "      <td>A</td>\n",
       "    </tr>\n",
       "    <tr>\n",
       "      <th>1103</th>\n",
       "      <td>1348774318</td>\n",
       "      <td>1164614297</td>\n",
       "      <td>2019-08-12</td>\n",
       "      <td>66350</td>\n",
       "      <td>A</td>\n",
       "    </tr>\n",
       "    <tr>\n",
       "      <th>1099</th>\n",
       "      <td>316924019</td>\n",
       "      <td>148427295</td>\n",
       "      <td>2019-08-12</td>\n",
       "      <td>65710</td>\n",
       "      <td>A</td>\n",
       "    </tr>\n",
       "  </tbody>\n",
       "</table>\n",
       "</div>"
      ],
      "text/plain": [
       "      transaction_id  visitor_id       date  revenue group\n",
       "425        590470918  1920142716 2019-08-19  1294500     B\n",
       "1196      3936777065  2108080724 2019-08-15   202740     B\n",
       "858        192721366  1316129916 2019-08-27    93940     A\n",
       "1136       666610489  1307669133 2019-08-13    92550     A\n",
       "744       3668308183   888512513 2019-08-27    86620     B\n",
       "682       1216533772  4266935830 2019-08-29    78990     B\n",
       "662       1811671147  4266935830 2019-08-29    78990     A\n",
       "743       3603576309  4133034833 2019-08-09    67990     A\n",
       "1103      1348774318  1164614297 2019-08-12    66350     A\n",
       "1099       316924019   148427295 2019-08-12    65710     A"
      ]
     },
     "metadata": {},
     "output_type": "display_data"
    },
    {
     "data": {
      "text/plain": [
       "<matplotlib.collections.PathCollection at 0x7f46e5f9b760>"
      ]
     },
     "execution_count": 29,
     "metadata": {},
     "output_type": "execute_result"
    },
    {
     "data": {
      "image/png": "[encoded data removed]",
      "text/plain": [
       "<Figure size 432x288 with 1 Axes>"
      ]
     },
     "metadata": {
      "needs_background": "light"
     },
     "output_type": "display_data"
    }
   ],
   "source": [
    "display(orders.sort_values(by='revenue', ascending=False).head(10))\n",
    "x_values = pd.Series(range(0, len(orders['revenue'])))\n",
    "plt.scatter(x_values, orders['revenue'])\n",
    "здеюн"
   ]
  },
  {
   "cell_type": "markdown",
   "metadata": {},
   "source": [
    "Существуют  выбросы с покупками на 1,3 млн.рублей, а также на 202,7 тысяч рублей. В основном заказы меньше 100 тысяч рублей."
   ]
  },
  {
   "cell_type": "markdown",
   "metadata": {},
   "source": [
    "### Подсчет 95-й и 99-й перцентили стоимости заказов. "
   ]
  },
  {
   "cell_type": "code",
   "execution_count": 18,
   "metadata": {},
   "outputs": [
    {
     "name": "stdout",
     "output_type": "stream",
     "text": [
      "[18168.  28000.  58233.2]\n"
     ]
    }
   ],
   "source": [
    "print(np.percentile(orders['revenue'], [90, 95, 99])) "
   ]
  },
  {
   "cell_type": "markdown",
   "metadata": {},
   "source": [
    "Не более чем у 5 % заказов чек выше 28 000 рублей, не более чем у 1 % заказа чек выше 59 000 рублей."
   ]
  },
  {
   "cell_type": "markdown",
   "metadata": {},
   "source": [
    "### Подсчет статистической значимости различий в конверсии между группами по «сырым» данным. "
   ]
  },
  {
   "cell_type": "markdown",
   "metadata": {},
   "source": [
    "Формируем данные, где :\n",
    "   \n",
    "   date — дата;\n",
    "   \n",
    "   ordersPerDateA — количество заказов в выбранную дату в группе A;\n",
    "   \n",
    "   revenuePerDateA — суммарная выручка в выбранную дату в группе A;\n",
    "   \n",
    "   ordersPerDateB — количество заказов в выбранную дату в группе B;\n",
    "   \n",
    "   revenuePerDateB — суммарная выручка в выбранную дату в группе B;\n",
    "   \n",
    "   ordersCummulativeA — суммарное число заказов до выбранной даты включительно в группе A;\n",
    "   \n",
    "   revenueCummulativeA — суммарная выручка до выбранной даты включительно в группе A;\n",
    "   \n",
    "   ordersCummulativeB — суммарное количество заказов до выбранной даты включительно в группе B;\n",
    "   \n",
    "   revenueCummulativeB — суммарная выручка до выбранной даты включительно в группе B;\n",
    "   \n",
    "   visitorsPerDateA — количество пользователей в выбранную дату в группе A;\n",
    "   \n",
    "   visitorsPerDateB — количество пользователей в выбранную дату в группе B;\n",
    "   \n",
    "   visitorsCummulativeA — количество пользователей до выбранной даты включительно в группе A;\n",
    "   \n",
    "   visitorsCummulativeB — количество пользователей до выбранной даты включительно в группе B."
   ]
  },
  {
   "cell_type": "code",
   "execution_count": 19,
   "metadata": {},
   "outputs": [
    {
     "data": {
      "text/html": [
       "<div>\n",
       "<style scoped>\n",
       "    .dataframe tbody tr th:only-of-type {\n",
       "        vertical-align: middle;\n",
       "    }\n",
       "\n",
       "    .dataframe tbody tr th {\n",
       "        vertical-align: top;\n",
       "    }\n",
       "\n",
       "    .dataframe thead th {\n",
       "        text-align: right;\n",
       "    }\n",
       "</style>\n",
       "<table border=\"1\" class=\"dataframe\">\n",
       "  <thead>\n",
       "    <tr style=\"text-align: right;\">\n",
       "      <th></th>\n",
       "      <th>date</th>\n",
       "      <th>ordersPerDateA</th>\n",
       "      <th>revenuePerDateA</th>\n",
       "      <th>ordersPerDateB</th>\n",
       "      <th>revenuePerDateB</th>\n",
       "      <th>ordersCummulativeA</th>\n",
       "      <th>revenueCummulativeA</th>\n",
       "      <th>ordersCummulativeB</th>\n",
       "      <th>revenueCummulativeB</th>\n",
       "      <th>visitorsPerDateA</th>\n",
       "      <th>visitorsPerDateB</th>\n",
       "      <th>visitorsCummulativeA</th>\n",
       "      <th>visitorsCummulativeB</th>\n",
       "    </tr>\n",
       "  </thead>\n",
       "  <tbody>\n",
       "    <tr>\n",
       "      <th>0</th>\n",
       "      <td>2019-08-01</td>\n",
       "      <td>24</td>\n",
       "      <td>148579</td>\n",
       "      <td>21</td>\n",
       "      <td>101217</td>\n",
       "      <td>24</td>\n",
       "      <td>148579</td>\n",
       "      <td>21</td>\n",
       "      <td>101217</td>\n",
       "      <td>719</td>\n",
       "      <td>713</td>\n",
       "      <td>719</td>\n",
       "      <td>713</td>\n",
       "    </tr>\n",
       "    <tr>\n",
       "      <th>1</th>\n",
       "      <td>2019-08-02</td>\n",
       "      <td>20</td>\n",
       "      <td>93822</td>\n",
       "      <td>24</td>\n",
       "      <td>165531</td>\n",
       "      <td>44</td>\n",
       "      <td>242401</td>\n",
       "      <td>45</td>\n",
       "      <td>266748</td>\n",
       "      <td>619</td>\n",
       "      <td>581</td>\n",
       "      <td>1338</td>\n",
       "      <td>1294</td>\n",
       "    </tr>\n",
       "    <tr>\n",
       "      <th>2</th>\n",
       "      <td>2019-08-03</td>\n",
       "      <td>24</td>\n",
       "      <td>112473</td>\n",
       "      <td>16</td>\n",
       "      <td>114248</td>\n",
       "      <td>68</td>\n",
       "      <td>354874</td>\n",
       "      <td>61</td>\n",
       "      <td>380996</td>\n",
       "      <td>507</td>\n",
       "      <td>509</td>\n",
       "      <td>1845</td>\n",
       "      <td>1803</td>\n",
       "    </tr>\n",
       "    <tr>\n",
       "      <th>3</th>\n",
       "      <td>2019-08-04</td>\n",
       "      <td>16</td>\n",
       "      <td>70825</td>\n",
       "      <td>17</td>\n",
       "      <td>108571</td>\n",
       "      <td>84</td>\n",
       "      <td>425699</td>\n",
       "      <td>78</td>\n",
       "      <td>489567</td>\n",
       "      <td>717</td>\n",
       "      <td>770</td>\n",
       "      <td>2562</td>\n",
       "      <td>2573</td>\n",
       "    </tr>\n",
       "    <tr>\n",
       "      <th>4</th>\n",
       "      <td>2019-08-05</td>\n",
       "      <td>25</td>\n",
       "      <td>124218</td>\n",
       "      <td>23</td>\n",
       "      <td>92428</td>\n",
       "      <td>109</td>\n",
       "      <td>549917</td>\n",
       "      <td>101</td>\n",
       "      <td>581995</td>\n",
       "      <td>756</td>\n",
       "      <td>707</td>\n",
       "      <td>3318</td>\n",
       "      <td>3280</td>\n",
       "    </tr>\n",
       "  </tbody>\n",
       "</table>\n",
       "</div>"
      ],
      "text/plain": [
       "        date  ordersPerDateA  revenuePerDateA  ordersPerDateB  \\\n",
       "0 2019-08-01              24           148579              21   \n",
       "1 2019-08-02              20            93822              24   \n",
       "2 2019-08-03              24           112473              16   \n",
       "3 2019-08-04              16            70825              17   \n",
       "4 2019-08-05              25           124218              23   \n",
       "\n",
       "   revenuePerDateB  ordersCummulativeA  revenueCummulativeA  \\\n",
       "0           101217                  24               148579   \n",
       "1           165531                  44               242401   \n",
       "2           114248                  68               354874   \n",
       "3           108571                  84               425699   \n",
       "4            92428                 109               549917   \n",
       "\n",
       "   ordersCummulativeB  revenueCummulativeB  visitorsPerDateA  \\\n",
       "0                  21               101217               719   \n",
       "1                  45               266748               619   \n",
       "2                  61               380996               507   \n",
       "3                  78               489567               717   \n",
       "4                 101               581995               756   \n",
       "\n",
       "   visitorsPerDateB  visitorsCummulativeA  visitorsCummulativeB  \n",
       "0               713                   719                   713  \n",
       "1               581                  1338                  1294  \n",
       "2               509                  1845                  1803  \n",
       "3               770                  2562                  2573  \n",
       "4               707                  3318                  3280  "
      ]
     },
     "execution_count": 19,
     "metadata": {},
     "output_type": "execute_result"
    }
   ],
   "source": [
    "visitorsADaily = visitors[visitors['group'] == 'A'][['date', 'visitors']]\n",
    "visitorsADaily.columns = ['date', 'visitorsPerDateA']\n",
    "\n",
    "visitorsACummulative = visitorsADaily.apply(\n",
    "    lambda x: visitorsADaily[visitorsADaily['date'] <= x['date']].agg(\n",
    "        {'date': 'max', 'visitorsPerDateA': 'sum'}\n",
    "    ),\n",
    "    axis=1,\n",
    ")\n",
    "visitorsACummulative.columns = ['date', 'visitorsCummulativeA']\n",
    "\n",
    "visitorsBDaily = visitors[visitors['group'] == 'B'][['date', 'visitors']]\n",
    "visitorsBDaily.columns = ['date', 'visitorsPerDateB']\n",
    "\n",
    "visitorsBCummulative = visitorsBDaily.apply(\n",
    "    lambda x: visitorsBDaily[visitorsBDaily['date'] <= x['date']].agg(\n",
    "        {'date': 'max', 'visitorsPerDateB': 'sum'}\n",
    "    ),\n",
    "    axis=1,\n",
    ")\n",
    "visitorsBCummulative.columns = ['date', 'visitorsCummulativeB']\n",
    "\n",
    "ordersADaily = (\n",
    "    orders[orders['group'] == 'A'][['date', 'transaction_id', 'visitor_id', 'revenue']]\n",
    "    .groupby('date', as_index=False)\n",
    "    .agg({'transaction_id': pd.Series.nunique, 'revenue': 'sum'})\n",
    ")\n",
    "ordersADaily.columns = ['date', 'ordersPerDateA', 'revenuePerDateA']\n",
    "\n",
    "ordersACummulative = ordersADaily.apply(\n",
    "    lambda x: ordersADaily[ordersADaily['date'] <= x['date']].agg(\n",
    "        {'date': 'max', 'ordersPerDateA': 'sum', 'revenuePerDateA': 'sum'}\n",
    "    ),\n",
    "    axis=1,\n",
    ").sort_values(by=['date'])\n",
    "ordersACummulative.columns = [\n",
    "    'date',\n",
    "    'ordersCummulativeA',\n",
    "    'revenueCummulativeA',\n",
    "]\n",
    "\n",
    "ordersBDaily = (\n",
    "    orders[orders['group'] == 'B'][['date', 'transaction_id', 'visitor_id', 'revenue']]\n",
    "    .groupby('date', as_index=False)\n",
    "    .agg({'transaction_id': pd.Series.nunique, 'revenue': 'sum'})\n",
    ")\n",
    "ordersBDaily.columns = ['date', 'ordersPerDateB', 'revenuePerDateB']\n",
    "\n",
    "ordersBCummulative = ordersBDaily.apply(\n",
    "    lambda x: ordersBDaily[ordersBDaily['date'] <= x['date']].agg(\n",
    "        {'date': 'max', 'ordersPerDateB': 'sum', 'revenuePerDateB': 'sum'}\n",
    "    ),\n",
    "    axis=1,\n",
    ").sort_values(by=['date'])\n",
    "ordersBCummulative.columns = [\n",
    "    'date',\n",
    "    'ordersCummulativeB',\n",
    "    'revenueCummulativeB',\n",
    "]\n",
    "\n",
    "data = (\n",
    "    ordersADaily.merge(\n",
    "        ordersBDaily, left_on='date', right_on='date', how='left'\n",
    "    )\n",
    "    .merge(ordersACummulative, left_on='date', right_on='date', how='left')\n",
    "    .merge(ordersBCummulative, left_on='date', right_on='date', how='left')\n",
    "    .merge(visitorsADaily, left_on='date', right_on='date', how='left')\n",
    "    .merge(visitorsBDaily, left_on='date', right_on='date', how='left')\n",
    "    .merge(visitorsACummulative, left_on='date', right_on='date', how='left')\n",
    "    .merge(visitorsBCummulative, left_on='date', right_on='date', how='left')\n",
    ")\n",
    "\n",
    "data.head()\n"
   ]
  },
  {
   "cell_type": "markdown",
   "metadata": {},
   "source": [
    "<b>Формируем нулевую гипотезу:</b> Статистически значимых различий в конверсии между группами нет.\n",
    "\n",
    "<b>Альтернативная гипотеза:</b> Различия в конверсии между группами есть."
   ]
  },
  {
   "cell_type": "code",
   "execution_count": 20,
   "metadata": {},
   "outputs": [
    {
     "name": "stdout",
     "output_type": "stream",
     "text": [
      "p-значение:  0.017\n",
      "относительный прирост: 0.138\n",
      "Отвергаем нулевую гипотезу: разница статистически значима\n"
     ]
    }
   ],
   "source": [
    "# Создадим переменные ordersByUsersA и ordersByUsersB со столбцами ['userId', 'orders']. \n",
    "#В них для пользователей, которые заказывали хотя бы 1 раз, укажем число совершённых заказов.\n",
    "ordersByUsersA = (\n",
    "    orders[orders['group'] == 'A']\n",
    "    .groupby('visitor_id', as_index=False)\n",
    "    .agg({'transaction_id': pd.Series.nunique})\n",
    ")\n",
    "ordersByUsersA.columns = ['visitor_id', 'orders']\n",
    "\n",
    "ordersByUsersB = (\n",
    "    orders[orders['group'] == 'B']\n",
    "    .groupby('visitor_id', as_index=False)\n",
    "    .agg({'transaction_id': pd.Series.nunique})\n",
    ")\n",
    "ordersByUsersB.columns = ['visitor_id', 'orders'] \n",
    "\n",
    "# Объявите переменные sampleA и sampleB, в которых пользователям с заказами будет соответствовать число заказов пользователя. \n",
    "#А пользователям без заказов — нули.\n",
    "sampleA = pd.concat([ordersByUsersA['orders'],\n",
    "                     pd.Series(0,\n",
    "                     index=np.arange(data['visitorsPerDateA'].sum() -\n",
    "                     len(ordersByUsersA['orders'])), name='orders')],axis=0)\n",
    "\n",
    "sampleB = pd.concat([ordersByUsersB['orders'],\n",
    "                     pd.Series(0,\n",
    "                     index=np.arange(data['visitorsPerDateB'].sum() - \n",
    "                    len(ordersByUsersB['orders'])), name='orders')],axis=0)\n",
    "\n",
    "alpha = 0.05  # критический уровень статистической значимости\n",
    "#Посчитаем статистическую значимость различия конверсии по тесту Манна-Уитни.\n",
    "\n",
    "results= stats.mannwhitneyu(sampleA, sampleB)[1]\n",
    "print('p-значение: ', \"{0:.3f}\".format(stats.mannwhitneyu(sampleA, sampleB)[1]))\n",
    "\n",
    "#Выведем относительный прирост конверсии группы B\n",
    "print('относительный прирост:', \"{0:.3f}\".format(sampleB.mean() / sampleA.mean() - 1))\n",
    "\n",
    "\n",
    "if results < alpha:\n",
    "    print('Отвергаем нулевую гипотезу: разница статистически значима')\n",
    "else:\n",
    "    print(\n",
    "       'Не получилось отвергнуть нулевую гипотезу, вывод о различии сделать нельзя'\n",
    "    ) "
   ]
  },
  {
   "cell_type": "markdown",
   "metadata": {},
   "source": [
    "#### Вывод по расчету статистической значимости различий в конверсии между группами по «сырым» данным. \n",
    "p-value = 0.017 меньше 0.05. Значит, нулевую гипотезу о том, что статистически значимых различий в конверсии между группами нет, отвергаем."
   ]
  },
  {
   "cell_type": "markdown",
   "metadata": {},
   "source": [
    "### Подсчет статистической значимости различий в среднем чеке заказа между группами по «сырым» данным."
   ]
  },
  {
   "cell_type": "markdown",
   "metadata": {},
   "source": [
    "<b>Нулевая гипотеза:</b> различий в среднем чеке между группами нет. \n",
    "\n",
    "<b>Альтернативная гипотеза:</b> различия в среднем чеке между группами есть."
   ]
  },
  {
   "cell_type": "code",
   "execution_count": 21,
   "metadata": {},
   "outputs": [
    {
     "name": "stdout",
     "output_type": "stream",
     "text": [
      "p-значение:  0.7292909855432458\n",
      "относительный прирост: 0.259\n",
      "Не получилось отвергнуть нулевую гипотезу, вывод о различии сделать нельзя\n"
     ]
    }
   ],
   "source": [
    "alpha = 0.05  # критический уровень статистической значимости\n",
    "results_order= stats.mannwhitneyu(orders[orders['group']=='A']['revenue'], orders[orders['group']=='B']['revenue'])[1]\n",
    "print('p-значение: ', results_order)\n",
    "\n",
    "print('относительный прирост:','{0:.3f}'.format(orders[orders['group']=='B']['revenue'].mean()/orders[orders['group']=='A']['revenue'].mean()-1)) \n",
    "\n",
    "if results_order < alpha:\n",
    "    print('Отвергаем нулевую гипотезу: разница статистически значима')\n",
    "else:\n",
    "    print(\n",
    "       'Не получилось отвергнуть нулевую гипотезу, вывод о различии сделать нельзя'\n",
    "    ) "
   ]
  },
  {
   "cell_type": "markdown",
   "metadata": {},
   "source": [
    "P-value значительно больше 0.05. Значит, причин отвергать нулевую гипотезу и считать, что в среднем чеке есть различия, нет. "
   ]
  },
  {
   "cell_type": "markdown",
   "metadata": {},
   "source": [
    "### Подсчет статистической значимости различий в конверсии между группами по «очищенным» данным. "
   ]
  },
  {
   "cell_type": "markdown",
   "metadata": {},
   "source": [
    "95-й и 99-й перцентили средних чеков равны 28000 и 58233 рублям. А 95-й и 99-й перцентили числа заказов на одного пользователя равны 2 и 4 заказам на пользователя.\n",
    "Примим за аномальных пользователей тех, кто совершил 4 заказа и более, или совершил заказ на сумму свыше 58 000 рублей. Так мы уберёте 1% пользователей с наибольшим числом заказов и от 1% до 5% заказов с наибольшей стоимостью."
   ]
  },
  {
   "cell_type": "code",
   "execution_count": 22,
   "metadata": {},
   "outputs": [
    {
     "data": {
      "text/plain": [
       "1099     148427295\n",
       "949      887908475\n",
       "744      888512513\n",
       "1103    1164614297\n",
       "1136    1307669133\n",
       "Name: visitor_id, dtype: int64"
      ]
     },
     "execution_count": 22,
     "metadata": {},
     "output_type": "execute_result"
    }
   ],
   "source": [
    "# Отберем пользователей с числом заказов больше 4  \n",
    "usersWithManyOrders = pd.concat(\n",
    "    [\n",
    "        ordersByUsersA[ordersByUsersA['orders'] > 4]['visitor_id'],\n",
    "        ordersByUsersB[ordersByUsersB['orders'] > 4]['visitor_id'],\n",
    "    ],\n",
    "    axis=0,\n",
    ")\n",
    " #Отберем пользователей, совершивших заказы дороже 58000\n",
    "usersWithExpensiveOrders = orders[orders['revenue'] > 58000]['visitor_id']\n",
    "\n",
    "#Объединим вышеуказанных пользователей\n",
    "abnormalUsers = (\n",
    "    pd.concat([usersWithManyOrders, usersWithExpensiveOrders], axis=0)\n",
    "    .drop_duplicates()\n",
    "    .sort_values()\n",
    ")\n",
    "abnormalUsers.head()"
   ]
  },
  {
   "cell_type": "code",
   "execution_count": 23,
   "metadata": {},
   "outputs": [],
   "source": [
    "# Создаем переменные, в которых сохранены очищенные данные о заказах,  не включая аномальных пользователей.\n",
    "sampleAFiltered = pd.concat(\n",
    "    [\n",
    "        ordersByUsersA[\n",
    "            np.logical_not(ordersByUsersA['visitor_id'].isin(abnormalUsers))\n",
    "        ]['orders'],\n",
    "        pd.Series(\n",
    "            0,\n",
    "            index=np.arange(\n",
    "                data['visitorsPerDateA'].sum() - len(ordersByUsersA['orders'])\n",
    "            ),\n",
    "            name='orders',\n",
    "        ),\n",
    "    ],\n",
    "    axis=0,\n",
    ")\n",
    "\n",
    "sampleBFiltered = pd.concat(\n",
    "    [\n",
    "        ordersByUsersB[\n",
    "            np.logical_not(ordersByUsersB['visitor_id'].isin(abnormalUsers))\n",
    "        ]['orders'],\n",
    "        pd.Series(\n",
    "            0,\n",
    "            index=np.arange(\n",
    "                data['visitorsPerDateB'].sum() - len(ordersByUsersB['orders'])\n",
    "            ),\n",
    "            name='orders',\n",
    "        ),\n",
    "    ],\n",
    "    axis=0,\n",
    ") "
   ]
  },
  {
   "cell_type": "code",
   "execution_count": 24,
   "metadata": {},
   "outputs": [
    {
     "name": "stdout",
     "output_type": "stream",
     "text": [
      "p-значение:  0.01438\n",
      "Отвергаем нулевую гипотезу: разница статистически значима\n"
     ]
    }
   ],
   "source": [
    "#Считаем статистическую значимость различия конверсии после удаления аномальных пользователей.\n",
    "alpha = 0.05  # критический уровень статистической значимости\n",
    "#Посчитаем статистическую значимость различия конверсии по тесту Манна-Уитни.\n",
    "\n",
    "raw_results= stats.mannwhitneyu(sampleAFiltered, sampleBFiltered)[1]\n",
    "print('p-значение: ', '{0:.5f}'.format(stats.mannwhitneyu(sampleAFiltered, sampleBFiltered)[1]))\n",
    "\n",
    "if raw_results < alpha:\n",
    "    print('Отвергаем нулевую гипотезу: разница статистически значима')\n",
    "else:\n",
    "    print(\n",
    "       'Не получилось отвергнуть нулевую гипотезу, вывод о различии сделать нельзя'\n",
    "    ) \n"
   ]
  },
  {
   "cell_type": "markdown",
   "metadata": {},
   "source": [
    "#### Вывод по подсчету статистической значимости различий в конверсии между группами по «очищенным» данным. \n",
    "p-value = 0.01438 меньше 0.05. Не сильно отличается от значения с сырыми данными (0.017) Значит, нулевую гипотезу о том, что статистически значимых различий в конверсии между группами нет, отвергаем."
   ]
  },
  {
   "cell_type": "markdown",
   "metadata": {},
   "source": [
    "### Подсчет статистической значимости различий в среднем чеке заказа между группами по «очищенным» данным. "
   ]
  },
  {
   "cell_type": "code",
   "execution_count": 25,
   "metadata": {},
   "outputs": [
    {
     "name": "stdout",
     "output_type": "stream",
     "text": [
      "0.851\n"
     ]
    }
   ],
   "source": [
    "print(\n",
    "    '{0:.3f}'.format(\n",
    "        stats.mannwhitneyu(\n",
    "            orders[\n",
    "                np.logical_and(\n",
    "                    orders['group'] == 'A',\n",
    "                    np.logical_not(orders['visitor_id'].isin(abnormalUsers)),\n",
    "                )\n",
    "            ]['revenue'],\n",
    "            orders[\n",
    "                np.logical_and(\n",
    "                    orders['group'] == 'B',\n",
    "                    np.logical_not(orders['visitor_id'].isin(abnormalUsers)),\n",
    "                )\n",
    "            ]['revenue'],\n",
    "        )[1]\n",
    "    )\n",
    ")\n"
   ]
  },
  {
   "cell_type": "markdown",
   "metadata": {},
   "source": [
    "P-value увеличился,  общие выводы по результатам теста не изменились."
   ]
  },
  {
   "cell_type": "markdown",
   "metadata": {},
   "source": [
    "### Вывод по A/B тесту"
   ]
  },
  {
   "cell_type": "markdown",
   "metadata": {},
   "source": [
    "- Существует статистически значимое различие по конверсии между группами  по «сырым» и по данным после фильтрации аномалий;\n",
    "- Нет статистически значимого различия по среднему чеку между группами ни по «сырым», ни по данным после фильтрации аномалий;\n",
    "- Тест следует остановить, фиксируем победу группы B, так как график различия конверсии между группами сообщает, что результаты группы B значительно лучше группы A."
   ]
  },
  {
   "cell_type": "markdown",
   "metadata": {},
   "source": [
    "## Вывод"
   ]
  },
  {
   "cell_type": "markdown",
   "metadata": {},
   "source": [
    "- Проанализировав перечень имеющих гипотез согласно методикам ICE и RICE наиболее перспективными были выбраны гипотезы №7 и №0.\n",
    "Данные гипотезы согласно двум методикам попали в первую тройку.\n",
    "\n",
    "- Проведя A/B тест по имеющим данным, были сделаны следующие выводы: \n",
    "    -  Есть статистически значимое различие по конверсии между группами как по сырым данным, так и после фильтрации аномалий.\n",
    "    -  По сырым и \"очищенным\"данным нет статистически значимого различия по среднему чеку между группами. \n",
    "    -  График различия конверсии между группами сообщает, что результаты группы B лучше группы A: имеют тенденцию к росту. Хотя в нчале и был резкий скачок вниз.\n",
    "    - График различия среднего чека колеблется: выявлены аномалии. \n",
    "    \n",
    "\n",
    "Исходя из выводов: тест следует остановить, фиксируем победу группы B, так как график различия конверсии между группами сообщает, что результаты группы B значительно лучше группы A.\n",
    "\n"
   ]
  },
  {
   "cell_type": "code",
   "execution_count": null,
   "metadata": {},
   "outputs": [],
   "source": []
  }
 ],
 "metadata": {
  "ExecuteTimeLog": [
   {
    "duration": 45,
    "start_time": "2022-04-09T08:39:39.177Z"
   },
   {
    "duration": 740,
    "start_time": "2022-04-09T08:39:55.193Z"
   },
   {
    "duration": 41,
    "start_time": "2022-04-09T08:39:56.727Z"
   },
   {
    "duration": 26,
    "start_time": "2022-04-09T08:40:29.957Z"
   },
   {
    "duration": 22,
    "start_time": "2022-04-09T08:41:04.775Z"
   },
   {
    "duration": 3,
    "start_time": "2022-04-09T08:43:08.744Z"
   },
   {
    "duration": 36,
    "start_time": "2022-04-09T08:43:19.419Z"
   },
   {
    "duration": 8,
    "start_time": "2022-04-09T08:43:30.623Z"
   },
   {
    "duration": 4,
    "start_time": "2022-04-09T08:45:01.893Z"
   },
   {
    "duration": 11,
    "start_time": "2022-04-09T08:45:09.357Z"
   },
   {
    "duration": 10,
    "start_time": "2022-04-09T08:45:52.023Z"
   },
   {
    "duration": 10,
    "start_time": "2022-04-09T08:46:15.746Z"
   },
   {
    "duration": 6,
    "start_time": "2022-04-09T08:48:44.439Z"
   },
   {
    "duration": 11,
    "start_time": "2022-04-09T08:49:22.277Z"
   },
   {
    "duration": 6,
    "start_time": "2022-04-09T08:50:07.037Z"
   },
   {
    "duration": 9,
    "start_time": "2022-04-09T08:50:09.131Z"
   },
   {
    "duration": 13,
    "start_time": "2022-04-09T10:55:32.335Z"
   },
   {
    "duration": 7,
    "start_time": "2022-04-09T10:56:23.063Z"
   },
   {
    "duration": 7,
    "start_time": "2022-04-09T10:58:25.670Z"
   },
   {
    "duration": 3,
    "start_time": "2022-04-09T11:03:15.984Z"
   },
   {
    "duration": 3,
    "start_time": "2022-04-09T11:15:49.306Z"
   },
   {
    "duration": 826,
    "start_time": "2022-04-09T15:06:20.932Z"
   },
   {
    "duration": 421,
    "start_time": "2022-04-09T15:07:15.202Z"
   },
   {
    "duration": 635,
    "start_time": "2022-04-09T15:10:30.311Z"
   },
   {
    "duration": 3,
    "start_time": "2022-04-09T15:10:42.075Z"
   },
   {
    "duration": 35,
    "start_time": "2022-04-09T15:10:43.074Z"
   },
   {
    "duration": 21,
    "start_time": "2022-04-09T15:10:44.289Z"
   },
   {
    "duration": 4,
    "start_time": "2022-04-09T15:10:45.129Z"
   },
   {
    "duration": 556,
    "start_time": "2022-04-09T15:10:46.341Z"
   },
   {
    "duration": 596,
    "start_time": "2022-04-09T15:11:19.390Z"
   },
   {
    "duration": 3,
    "start_time": "2022-04-09T15:11:36.833Z"
   },
   {
    "duration": 42,
    "start_time": "2022-04-09T15:11:37.754Z"
   },
   {
    "duration": 20,
    "start_time": "2022-04-09T15:11:38.576Z"
   },
   {
    "duration": 4,
    "start_time": "2022-04-09T15:11:39.828Z"
   },
   {
    "duration": 13,
    "start_time": "2022-04-09T15:11:41.222Z"
   },
   {
    "duration": 8,
    "start_time": "2022-04-09T15:11:51.291Z"
   },
   {
    "duration": 8,
    "start_time": "2022-04-09T15:11:53.237Z"
   },
   {
    "duration": 884,
    "start_time": "2022-04-10T06:12:13.112Z"
   },
   {
    "duration": 44,
    "start_time": "2022-04-10T06:12:14.633Z"
   },
   {
    "duration": 32,
    "start_time": "2022-04-10T06:12:16.339Z"
   },
   {
    "duration": 4,
    "start_time": "2022-04-10T06:12:17.488Z"
   },
   {
    "duration": 14,
    "start_time": "2022-04-10T06:12:18.481Z"
   },
   {
    "duration": 12,
    "start_time": "2022-04-10T06:12:20.709Z"
   },
   {
    "duration": 9,
    "start_time": "2022-04-10T06:12:22.419Z"
   },
   {
    "duration": 110,
    "start_time": "2022-04-10T06:12:28.692Z"
   },
   {
    "duration": 272,
    "start_time": "2022-04-10T06:15:25.913Z"
   },
   {
    "duration": 279,
    "start_time": "2022-04-10T06:18:26.967Z"
   },
   {
    "duration": 293,
    "start_time": "2022-04-10T06:18:48.469Z"
   },
   {
    "duration": 301,
    "start_time": "2022-04-10T06:18:58.055Z"
   },
   {
    "duration": 8,
    "start_time": "2022-04-10T06:21:12.767Z"
   },
   {
    "duration": 5,
    "start_time": "2022-04-10T06:21:18.726Z"
   },
   {
    "duration": 5,
    "start_time": "2022-04-10T06:21:33.501Z"
   },
   {
    "duration": 15,
    "start_time": "2022-04-10T06:28:19.886Z"
   },
   {
    "duration": 532,
    "start_time": "2022-04-10T06:28:36.839Z"
   },
   {
    "duration": 288,
    "start_time": "2022-04-10T06:28:42.619Z"
   },
   {
    "duration": 176,
    "start_time": "2022-04-10T07:40:47.462Z"
   },
   {
    "duration": 309,
    "start_time": "2022-04-10T08:25:11.791Z"
   },
   {
    "duration": 284,
    "start_time": "2022-04-10T08:25:41.441Z"
   },
   {
    "duration": 139,
    "start_time": "2022-04-10T08:27:14.013Z"
   },
   {
    "duration": 265,
    "start_time": "2022-04-10T08:30:46.584Z"
   },
   {
    "duration": 211,
    "start_time": "2022-04-10T08:32:28.778Z"
   },
   {
    "duration": 232,
    "start_time": "2022-04-10T08:33:43.940Z"
   },
   {
    "duration": 215,
    "start_time": "2022-04-10T08:34:02.783Z"
   },
   {
    "duration": 312,
    "start_time": "2022-04-10T08:34:24.437Z"
   },
   {
    "duration": 240,
    "start_time": "2022-04-10T08:35:10.035Z"
   },
   {
    "duration": 204,
    "start_time": "2022-04-10T08:37:24.264Z"
   },
   {
    "duration": 337,
    "start_time": "2022-04-10T08:41:28.419Z"
   },
   {
    "duration": 319,
    "start_time": "2022-04-10T08:43:03.016Z"
   },
   {
    "duration": 45,
    "start_time": "2022-04-10T15:02:23.668Z"
   },
   {
    "duration": 6,
    "start_time": "2022-04-10T15:02:42.019Z"
   },
   {
    "duration": 1232,
    "start_time": "2022-04-10T15:02:51.627Z"
   },
   {
    "duration": 105,
    "start_time": "2022-04-10T15:02:53.922Z"
   },
   {
    "duration": 34,
    "start_time": "2022-04-10T15:02:56.520Z"
   },
   {
    "duration": 4,
    "start_time": "2022-04-10T15:02:57.371Z"
   },
   {
    "duration": 14,
    "start_time": "2022-04-10T15:02:59.447Z"
   },
   {
    "duration": 10,
    "start_time": "2022-04-10T15:03:00.730Z"
   },
   {
    "duration": 10,
    "start_time": "2022-04-10T15:03:01.962Z"
   },
   {
    "duration": 266,
    "start_time": "2022-04-10T15:03:04.361Z"
   },
   {
    "duration": 243,
    "start_time": "2022-04-10T15:03:05.715Z"
   },
   {
    "duration": 151,
    "start_time": "2022-04-10T15:03:07.987Z"
   },
   {
    "duration": 277,
    "start_time": "2022-04-10T15:03:10.316Z"
   },
   {
    "duration": 178,
    "start_time": "2022-04-10T15:03:12.530Z"
   },
   {
    "duration": 235,
    "start_time": "2022-04-10T15:03:14.724Z"
   },
   {
    "duration": 62,
    "start_time": "2022-04-10T15:03:17.636Z"
   },
   {
    "duration": 6,
    "start_time": "2022-04-10T15:04:29.186Z"
   },
   {
    "duration": 7,
    "start_time": "2022-04-10T15:05:06.432Z"
   },
   {
    "duration": 105,
    "start_time": "2022-04-10T15:05:49.381Z"
   },
   {
    "duration": 99,
    "start_time": "2022-04-10T15:06:52.734Z"
   },
   {
    "duration": 4,
    "start_time": "2022-04-10T15:09:11.043Z"
   },
   {
    "duration": 6,
    "start_time": "2022-04-10T15:18:48.414Z"
   },
   {
    "duration": 18,
    "start_time": "2022-04-10T15:19:03.794Z"
   },
   {
    "duration": 121,
    "start_time": "2022-04-10T15:19:14.218Z"
   },
   {
    "duration": 18,
    "start_time": "2022-04-10T15:24:05.657Z"
   },
   {
    "duration": 121,
    "start_time": "2022-04-10T15:24:25.099Z"
   },
   {
    "duration": 9,
    "start_time": "2022-04-10T15:37:13.923Z"
   },
   {
    "duration": 5,
    "start_time": "2022-04-10T15:37:23.891Z"
   },
   {
    "duration": 179,
    "start_time": "2022-04-10T16:44:59.036Z"
   },
   {
    "duration": 206,
    "start_time": "2022-04-10T16:48:25.622Z"
   },
   {
    "duration": 213,
    "start_time": "2022-04-10T16:48:35.853Z"
   },
   {
    "duration": 223,
    "start_time": "2022-04-10T16:49:34.858Z"
   },
   {
    "duration": 212,
    "start_time": "2022-04-10T16:49:43.206Z"
   },
   {
    "duration": 200,
    "start_time": "2022-04-10T16:49:49.293Z"
   },
   {
    "duration": 11,
    "start_time": "2022-04-10T16:50:52.168Z"
   },
   {
    "duration": 141,
    "start_time": "2022-04-10T16:57:03.164Z"
   },
   {
    "duration": 147,
    "start_time": "2022-04-10T16:59:11.794Z"
   },
   {
    "duration": 280,
    "start_time": "2022-04-10T17:01:02.599Z"
   },
   {
    "duration": 281,
    "start_time": "2022-04-10T17:01:34.831Z"
   },
   {
    "duration": 142,
    "start_time": "2022-04-10T17:03:42.325Z"
   },
   {
    "duration": 8,
    "start_time": "2022-04-10T17:08:37.024Z"
   },
   {
    "duration": 1708,
    "start_time": "2022-04-10T18:02:34.453Z"
   },
   {
    "duration": 1899,
    "start_time": "2022-04-10T18:03:18.846Z"
   },
   {
    "duration": 177,
    "start_time": "2022-04-10T18:04:31.662Z"
   },
   {
    "duration": 11,
    "start_time": "2022-04-10T18:04:56.164Z"
   },
   {
    "duration": 1841,
    "start_time": "2022-04-10T18:09:16.649Z"
   },
   {
    "duration": 9,
    "start_time": "2022-04-10T18:09:56.746Z"
   },
   {
    "duration": 23,
    "start_time": "2022-04-10T18:10:05.021Z"
   },
   {
    "duration": 23,
    "start_time": "2022-04-10T18:11:18.735Z"
   },
   {
    "duration": 12,
    "start_time": "2022-04-10T18:15:30.577Z"
   },
   {
    "duration": 105,
    "start_time": "2022-04-10T18:18:36.754Z"
   },
   {
    "duration": 1517,
    "start_time": "2022-04-10T18:32:36.833Z"
   },
   {
    "duration": 1563,
    "start_time": "2022-04-10T18:32:38.352Z"
   },
   {
    "duration": 28,
    "start_time": "2022-04-10T18:32:39.917Z"
   },
   {
    "duration": 3,
    "start_time": "2022-04-10T18:32:39.947Z"
   },
   {
    "duration": 17,
    "start_time": "2022-04-10T18:32:39.952Z"
   },
   {
    "duration": 12,
    "start_time": "2022-04-10T18:32:39.972Z"
   },
   {
    "duration": 9,
    "start_time": "2022-04-10T18:32:39.986Z"
   },
   {
    "duration": 306,
    "start_time": "2022-04-10T18:32:39.997Z"
   },
   {
    "duration": 250,
    "start_time": "2022-04-10T18:32:40.305Z"
   },
   {
    "duration": 171,
    "start_time": "2022-04-10T18:32:40.558Z"
   },
   {
    "duration": 249,
    "start_time": "2022-04-10T18:32:40.730Z"
   },
   {
    "duration": 333,
    "start_time": "2022-04-10T18:32:40.980Z"
   },
   {
    "duration": 296,
    "start_time": "2022-04-10T18:32:41.316Z"
   },
   {
    "duration": 134,
    "start_time": "2022-04-10T18:32:41.614Z"
   },
   {
    "duration": 6,
    "start_time": "2022-04-10T18:32:41.750Z"
   },
   {
    "duration": 199,
    "start_time": "2022-04-10T18:32:41.758Z"
   },
   {
    "duration": 5,
    "start_time": "2022-04-10T18:32:41.959Z"
   },
   {
    "duration": 288,
    "start_time": "2022-04-10T18:32:41.966Z"
   },
   {
    "duration": 155,
    "start_time": "2022-04-10T18:32:42.257Z"
   },
   {
    "duration": 9,
    "start_time": "2022-04-10T18:32:42.414Z"
   },
   {
    "duration": 14,
    "start_time": "2022-04-10T18:32:42.424Z"
   },
   {
    "duration": 10,
    "start_time": "2022-04-10T18:32:42.439Z"
   },
   {
    "duration": 50,
    "start_time": "2022-04-10T18:32:42.451Z"
   },
   {
    "duration": 12,
    "start_time": "2022-04-10T18:32:42.503Z"
   },
   {
    "duration": 73,
    "start_time": "2022-04-11T17:45:03.235Z"
   },
   {
    "duration": 1358,
    "start_time": "2022-04-11T17:45:11.251Z"
   },
   {
    "duration": 102,
    "start_time": "2022-04-11T17:45:15.137Z"
   },
   {
    "duration": 41,
    "start_time": "2022-04-11T17:45:16.139Z"
   },
   {
    "duration": 4,
    "start_time": "2022-04-11T17:45:16.960Z"
   },
   {
    "duration": 17,
    "start_time": "2022-04-11T17:45:19.806Z"
   },
   {
    "duration": 12,
    "start_time": "2022-04-11T17:45:21.913Z"
   },
   {
    "duration": 10,
    "start_time": "2022-04-11T17:45:26.816Z"
   },
   {
    "duration": 293,
    "start_time": "2022-04-11T17:45:30.961Z"
   },
   {
    "duration": 274,
    "start_time": "2022-04-11T17:45:34.198Z"
   },
   {
    "duration": 295,
    "start_time": "2022-04-11T17:45:44.811Z"
   },
   {
    "duration": 242,
    "start_time": "2022-04-11T17:50:00.540Z"
   },
   {
    "duration": 156,
    "start_time": "2022-04-11T17:50:34.650Z"
   },
   {
    "duration": 160,
    "start_time": "2022-04-11T17:50:39.492Z"
   },
   {
    "duration": 177,
    "start_time": "2022-04-11T17:51:00.175Z"
   },
   {
    "duration": 293,
    "start_time": "2022-04-11T17:53:27.461Z"
   },
   {
    "duration": 340,
    "start_time": "2022-04-11T17:53:37.299Z"
   },
   {
    "duration": 160,
    "start_time": "2022-04-11T17:55:05.508Z"
   },
   {
    "duration": 319,
    "start_time": "2022-04-11T17:55:30.463Z"
   },
   {
    "duration": 459,
    "start_time": "2022-04-11T17:55:43.037Z"
   },
   {
    "duration": 292,
    "start_time": "2022-04-11T17:55:56.439Z"
   },
   {
    "duration": 355,
    "start_time": "2022-04-11T17:56:04.691Z"
   },
   {
    "duration": 1948,
    "start_time": "2022-04-11T17:57:18.476Z"
   },
   {
    "duration": 193,
    "start_time": "2022-04-11T17:57:20.426Z"
   },
   {
    "duration": 33,
    "start_time": "2022-04-11T17:57:20.621Z"
   },
   {
    "duration": 66,
    "start_time": "2022-04-11T17:57:20.657Z"
   },
   {
    "duration": 42,
    "start_time": "2022-04-11T17:57:20.726Z"
   },
   {
    "duration": 12,
    "start_time": "2022-04-11T17:57:20.819Z"
   },
   {
    "duration": 22,
    "start_time": "2022-04-11T17:57:20.833Z"
   },
   {
    "duration": 697,
    "start_time": "2022-04-11T17:57:20.857Z"
   },
   {
    "duration": 994,
    "start_time": "2022-04-11T17:57:21.556Z"
   },
   {
    "duration": 703,
    "start_time": "2022-04-11T17:57:22.554Z"
   },
   {
    "duration": 714,
    "start_time": "2022-04-11T17:57:23.259Z"
   },
   {
    "duration": 260,
    "start_time": "2022-04-11T17:57:23.975Z"
   },
   {
    "duration": 354,
    "start_time": "2022-04-11T17:57:24.240Z"
   },
   {
    "duration": 166,
    "start_time": "2022-04-11T17:57:24.597Z"
   },
   {
    "duration": 6,
    "start_time": "2022-04-11T17:57:24.765Z"
   },
   {
    "duration": 161,
    "start_time": "2022-04-11T17:57:24.773Z"
   },
   {
    "duration": 5,
    "start_time": "2022-04-11T17:57:24.935Z"
   },
   {
    "duration": 264,
    "start_time": "2022-04-11T17:57:24.942Z"
   },
   {
    "duration": 254,
    "start_time": "2022-04-11T17:57:25.208Z"
   },
   {
    "duration": 8,
    "start_time": "2022-04-11T17:57:25.465Z"
   },
   {
    "duration": 13,
    "start_time": "2022-04-11T17:57:25.475Z"
   },
   {
    "duration": 33,
    "start_time": "2022-04-11T17:57:25.490Z"
   },
   {
    "duration": 26,
    "start_time": "2022-04-11T17:57:25.525Z"
   },
   {
    "duration": 16,
    "start_time": "2022-04-11T17:57:25.554Z"
   },
   {
    "duration": 11,
    "start_time": "2022-04-11T18:01:15.355Z"
   },
   {
    "duration": 9,
    "start_time": "2022-04-11T18:01:57.909Z"
   },
   {
    "duration": 25,
    "start_time": "2022-04-11T18:02:01.601Z"
   },
   {
    "duration": 189,
    "start_time": "2022-04-11T18:06:14.338Z"
   },
   {
    "duration": 8,
    "start_time": "2022-04-11T18:07:05.189Z"
   },
   {
    "duration": 23,
    "start_time": "2022-04-11T18:07:07.161Z"
   },
   {
    "duration": 11,
    "start_time": "2022-04-11T18:07:15.271Z"
   },
   {
    "duration": 1198,
    "start_time": "2022-04-12T06:53:29.149Z"
   },
   {
    "duration": 106,
    "start_time": "2022-04-12T06:53:30.349Z"
   },
   {
    "duration": 26,
    "start_time": "2022-04-12T06:53:30.456Z"
   },
   {
    "duration": 4,
    "start_time": "2022-04-12T06:53:30.484Z"
   },
   {
    "duration": 15,
    "start_time": "2022-04-12T06:53:30.489Z"
   },
   {
    "duration": 12,
    "start_time": "2022-04-12T06:53:30.506Z"
   },
   {
    "duration": 8,
    "start_time": "2022-04-12T06:53:30.519Z"
   },
   {
    "duration": 293,
    "start_time": "2022-04-12T06:53:30.528Z"
   },
   {
    "duration": 269,
    "start_time": "2022-04-12T06:53:30.822Z"
   },
   {
    "duration": 194,
    "start_time": "2022-04-12T06:53:31.093Z"
   },
   {
    "duration": 310,
    "start_time": "2022-04-12T06:53:31.289Z"
   },
   {
    "duration": 216,
    "start_time": "2022-04-12T06:53:31.601Z"
   },
   {
    "duration": 365,
    "start_time": "2022-04-12T06:53:31.819Z"
   },
   {
    "duration": 105,
    "start_time": "2022-04-12T06:53:32.185Z"
   },
   {
    "duration": 5,
    "start_time": "2022-04-12T06:53:32.291Z"
   },
   {
    "duration": 131,
    "start_time": "2022-04-12T06:53:32.297Z"
   },
   {
    "duration": 4,
    "start_time": "2022-04-12T06:53:32.429Z"
   },
   {
    "duration": 230,
    "start_time": "2022-04-12T06:53:32.435Z"
   },
   {
    "duration": 168,
    "start_time": "2022-04-12T06:53:32.667Z"
   },
   {
    "duration": 18,
    "start_time": "2022-04-12T06:53:32.837Z"
   },
   {
    "duration": 13,
    "start_time": "2022-04-12T06:53:32.856Z"
   },
   {
    "duration": 17,
    "start_time": "2022-04-12T06:53:32.870Z"
   },
   {
    "duration": 23,
    "start_time": "2022-04-12T06:53:32.889Z"
   },
   {
    "duration": 8,
    "start_time": "2022-04-12T06:53:32.913Z"
   },
   {
    "duration": 160,
    "start_time": "2022-04-12T07:05:54.355Z"
   },
   {
    "duration": 222,
    "start_time": "2022-04-12T07:07:14.376Z"
   },
   {
    "duration": 148,
    "start_time": "2022-04-12T07:07:42.960Z"
   },
   {
    "duration": 144,
    "start_time": "2022-04-12T07:08:05.467Z"
   },
   {
    "duration": 155,
    "start_time": "2022-04-12T07:17:49.181Z"
   },
   {
    "duration": 149,
    "start_time": "2022-04-12T07:19:09.651Z"
   },
   {
    "duration": 199,
    "start_time": "2022-04-12T07:19:23.994Z"
   },
   {
    "duration": 144,
    "start_time": "2022-04-12T07:20:25.263Z"
   },
   {
    "duration": 155,
    "start_time": "2022-04-12T07:20:44.449Z"
   },
   {
    "duration": 142,
    "start_time": "2022-04-12T07:21:21.194Z"
   },
   {
    "duration": 161,
    "start_time": "2022-04-12T07:22:55.157Z"
   },
   {
    "duration": 184,
    "start_time": "2022-04-12T07:23:50.976Z"
   },
   {
    "duration": 167,
    "start_time": "2022-04-12T07:24:01.739Z"
   },
   {
    "duration": 159,
    "start_time": "2022-04-12T07:24:35.023Z"
   },
   {
    "duration": 138,
    "start_time": "2022-04-12T07:26:18.487Z"
   },
   {
    "duration": 175,
    "start_time": "2022-04-12T07:33:59.495Z"
   },
   {
    "duration": 11,
    "start_time": "2022-04-12T07:35:37.037Z"
   },
   {
    "duration": 4,
    "start_time": "2022-04-12T07:56:03.251Z"
   },
   {
    "duration": 10,
    "start_time": "2022-04-12T07:56:15.814Z"
   },
   {
    "duration": 10,
    "start_time": "2022-04-12T07:56:51.185Z"
   },
   {
    "duration": 10,
    "start_time": "2022-04-12T07:58:07.956Z"
   },
   {
    "duration": 10,
    "start_time": "2022-04-12T07:59:46.504Z"
   },
   {
    "duration": 10,
    "start_time": "2022-04-12T07:59:50.740Z"
   },
   {
    "duration": 8,
    "start_time": "2022-04-12T07:59:56.243Z"
   },
   {
    "duration": 21,
    "start_time": "2022-04-12T08:00:06.254Z"
   },
   {
    "duration": 37,
    "start_time": "2022-04-12T08:02:18.588Z"
   },
   {
    "duration": 9,
    "start_time": "2022-04-12T08:04:43.390Z"
   },
   {
    "duration": 12,
    "start_time": "2022-04-12T08:06:49.179Z"
   },
   {
    "duration": 310,
    "start_time": "2022-04-12T09:01:53.461Z"
   },
   {
    "duration": 374,
    "start_time": "2022-04-12T09:02:05.798Z"
   },
   {
    "duration": 306,
    "start_time": "2022-04-12T09:02:12.817Z"
   },
   {
    "duration": 1020,
    "start_time": "2022-04-12T09:10:05.701Z"
   },
   {
    "duration": 97,
    "start_time": "2022-04-12T09:10:06.723Z"
   },
   {
    "duration": 27,
    "start_time": "2022-04-12T09:10:06.822Z"
   },
   {
    "duration": 4,
    "start_time": "2022-04-12T09:10:06.852Z"
   },
   {
    "duration": 21,
    "start_time": "2022-04-12T09:10:06.857Z"
   },
   {
    "duration": 15,
    "start_time": "2022-04-12T09:10:06.879Z"
   },
   {
    "duration": 13,
    "start_time": "2022-04-12T09:10:06.895Z"
   },
   {
    "duration": 284,
    "start_time": "2022-04-12T09:10:06.910Z"
   },
   {
    "duration": 275,
    "start_time": "2022-04-12T09:10:07.196Z"
   },
   {
    "duration": 197,
    "start_time": "2022-04-12T09:10:07.474Z"
   },
   {
    "duration": 301,
    "start_time": "2022-04-12T09:10:07.673Z"
   },
   {
    "duration": 217,
    "start_time": "2022-04-12T09:10:07.975Z"
   },
   {
    "duration": 296,
    "start_time": "2022-04-12T09:10:08.194Z"
   },
   {
    "duration": 105,
    "start_time": "2022-04-12T09:10:08.492Z"
   },
   {
    "duration": 5,
    "start_time": "2022-04-12T09:10:08.598Z"
   },
   {
    "duration": 141,
    "start_time": "2022-04-12T09:10:08.604Z"
   },
   {
    "duration": 4,
    "start_time": "2022-04-12T09:10:08.746Z"
   },
   {
    "duration": 225,
    "start_time": "2022-04-12T09:10:08.755Z"
   },
   {
    "duration": 203,
    "start_time": "2022-04-12T09:10:08.981Z"
   },
   {
    "duration": 12,
    "start_time": "2022-04-12T09:10:09.186Z"
   },
   {
    "duration": 13,
    "start_time": "2022-04-12T09:10:09.200Z"
   },
   {
    "duration": 26,
    "start_time": "2022-04-12T09:10:09.215Z"
   },
   {
    "duration": 43,
    "start_time": "2022-04-12T09:10:09.243Z"
   },
   {
    "duration": 10,
    "start_time": "2022-04-12T09:10:09.287Z"
   },
   {
    "duration": 135,
    "start_time": "2022-04-12T09:11:30.799Z"
   },
   {
    "duration": 107,
    "start_time": "2022-04-12T09:15:38.718Z"
   },
   {
    "duration": 187,
    "start_time": "2022-04-12T09:16:35.049Z"
   },
   {
    "duration": 116,
    "start_time": "2022-04-12T09:16:43.742Z"
   },
   {
    "duration": 215,
    "start_time": "2022-04-12T09:18:26.516Z"
   },
   {
    "duration": 112,
    "start_time": "2022-04-12T09:18:37.276Z"
   },
   {
    "duration": 114,
    "start_time": "2022-04-12T09:19:11.671Z"
   },
   {
    "duration": 130,
    "start_time": "2022-04-12T09:19:32.036Z"
   },
   {
    "duration": 19,
    "start_time": "2022-04-12T09:20:49.106Z"
   },
   {
    "duration": 143,
    "start_time": "2022-04-12T09:20:54.051Z"
   },
   {
    "duration": 122,
    "start_time": "2022-04-12T09:21:04.543Z"
   },
   {
    "duration": 120,
    "start_time": "2022-04-12T09:21:10.022Z"
   },
   {
    "duration": 46,
    "start_time": "2022-04-12T11:52:44.116Z"
   },
   {
    "duration": 1235,
    "start_time": "2022-04-12T11:52:46.691Z"
   },
   {
    "duration": 93,
    "start_time": "2022-04-12T11:52:47.928Z"
   },
   {
    "duration": 27,
    "start_time": "2022-04-12T11:52:48.023Z"
   },
   {
    "duration": 19,
    "start_time": "2022-04-12T11:52:48.052Z"
   },
   {
    "duration": 32,
    "start_time": "2022-04-12T11:52:48.074Z"
   },
   {
    "duration": 20,
    "start_time": "2022-04-12T11:52:48.108Z"
   },
   {
    "duration": 10,
    "start_time": "2022-04-12T11:52:48.129Z"
   },
   {
    "duration": 346,
    "start_time": "2022-04-12T11:52:48.141Z"
   },
   {
    "duration": 291,
    "start_time": "2022-04-12T11:52:48.488Z"
   },
   {
    "duration": 215,
    "start_time": "2022-04-12T11:52:48.781Z"
   },
   {
    "duration": 371,
    "start_time": "2022-04-12T11:52:48.998Z"
   },
   {
    "duration": 238,
    "start_time": "2022-04-12T11:52:49.371Z"
   },
   {
    "duration": 333,
    "start_time": "2022-04-12T11:52:49.611Z"
   },
   {
    "duration": 120,
    "start_time": "2022-04-12T11:52:49.946Z"
   },
   {
    "duration": 5,
    "start_time": "2022-04-12T11:52:50.067Z"
   },
   {
    "duration": 149,
    "start_time": "2022-04-12T11:52:50.074Z"
   },
   {
    "duration": 4,
    "start_time": "2022-04-12T11:52:50.224Z"
   },
   {
    "duration": 232,
    "start_time": "2022-04-12T11:52:50.230Z"
   },
   {
    "duration": 177,
    "start_time": "2022-04-12T11:52:50.464Z"
   },
   {
    "duration": 10,
    "start_time": "2022-04-12T11:52:50.642Z"
   },
   {
    "duration": 9,
    "start_time": "2022-04-12T11:52:50.654Z"
   },
   {
    "duration": 9,
    "start_time": "2022-04-12T11:52:50.665Z"
   },
   {
    "duration": 63,
    "start_time": "2022-04-12T11:52:50.676Z"
   },
   {
    "duration": 8,
    "start_time": "2022-04-12T11:52:50.740Z"
   },
   {
    "duration": 128,
    "start_time": "2022-04-12T11:53:13.028Z"
   },
   {
    "duration": 207,
    "start_time": "2022-04-12T11:53:23.614Z"
   },
   {
    "duration": 131,
    "start_time": "2022-04-12T11:53:29.069Z"
   },
   {
    "duration": 129,
    "start_time": "2022-04-12T11:53:31.392Z"
   },
   {
    "duration": 127,
    "start_time": "2022-04-12T11:53:38.748Z"
   }
  ],
  "kernelspec": {
   "display_name": "Python 3 (ipykernel)",
   "language": "python",
   "name": "python3"
  },
  "language_info": {
   "codemirror_mode": {
    "name": "ipython",
    "version": 3
   },
   "file_extension": ".py",
   "mimetype": "text/x-python",
   "name": "python",
   "nbconvert_exporter": "python",
   "pygments_lexer": "ipython3",
   "version": "3.9.7"
  },
  "toc": {
   "base_numbering": 1,
   "nav_menu": {},
   "number_sections": true,
   "sideBar": true,
   "skip_h1_title": true,
   "title_cell": "Table of Contents",
   "title_sidebar": "Contents",
   "toc_cell": false,
   "toc_position": {},
   "toc_section_display": true,
   "toc_window_display": false
  }
 },
 "nbformat": 4,
 "nbformat_minor": 2
}
