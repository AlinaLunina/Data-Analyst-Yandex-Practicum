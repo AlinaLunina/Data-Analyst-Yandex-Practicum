{
 "cells": [
  {
   "cell_type": "markdown",
   "metadata": {},
   "source": [
    "# Исследование надёжности заёмщиков\n",
    "\n",
    "Заказчик — кредитный отдел банка. Нужно разобраться, влияет ли семейное положение и количество детей клиента на факт погашения кредита в срок. Входные данные от банка — статистика о платёжеспособности клиентов.\n",
    "\n",
    "Результаты исследования будут учтены при построении модели **кредитного скоринга** — специальной системы, которая оценивает способность потенциального заёмщика вернуть кредит банку."
   ]
  },
  {
   "cell_type": "markdown",
   "metadata": {},
   "source": [
    "## Шаг 1. Открытие файла с данными и изучение общей информации"
   ]
  },
  {
   "cell_type": "code",
   "execution_count": 33,
   "metadata": {},
   "outputs": [
    {
     "data": {
      "text/html": [
       "<div>\n",
       "<style scoped>\n",
       "    .dataframe tbody tr th:only-of-type {\n",
       "        vertical-align: middle;\n",
       "    }\n",
       "\n",
       "    .dataframe tbody tr th {\n",
       "        vertical-align: top;\n",
       "    }\n",
       "\n",
       "    .dataframe thead th {\n",
       "        text-align: right;\n",
       "    }\n",
       "</style>\n",
       "<table border=\"1\" class=\"dataframe\">\n",
       "  <thead>\n",
       "    <tr style=\"text-align: right;\">\n",
       "      <th></th>\n",
       "      <th>children</th>\n",
       "      <th>days_employed</th>\n",
       "      <th>dob_years</th>\n",
       "      <th>education</th>\n",
       "      <th>education_id</th>\n",
       "      <th>family_status</th>\n",
       "      <th>family_status_id</th>\n",
       "      <th>gender</th>\n",
       "      <th>income_type</th>\n",
       "      <th>debt</th>\n",
       "      <th>total_income</th>\n",
       "      <th>purpose</th>\n",
       "    </tr>\n",
       "  </thead>\n",
       "  <tbody>\n",
       "    <tr>\n",
       "      <td>0</td>\n",
       "      <td>1</td>\n",
       "      <td>-8437.673028</td>\n",
       "      <td>42</td>\n",
       "      <td>высшее</td>\n",
       "      <td>0</td>\n",
       "      <td>женат / замужем</td>\n",
       "      <td>0</td>\n",
       "      <td>F</td>\n",
       "      <td>сотрудник</td>\n",
       "      <td>0</td>\n",
       "      <td>253875.639453</td>\n",
       "      <td>покупка жилья</td>\n",
       "    </tr>\n",
       "    <tr>\n",
       "      <td>1</td>\n",
       "      <td>1</td>\n",
       "      <td>-4024.803754</td>\n",
       "      <td>36</td>\n",
       "      <td>среднее</td>\n",
       "      <td>1</td>\n",
       "      <td>женат / замужем</td>\n",
       "      <td>0</td>\n",
       "      <td>F</td>\n",
       "      <td>сотрудник</td>\n",
       "      <td>0</td>\n",
       "      <td>112080.014102</td>\n",
       "      <td>приобретение автомобиля</td>\n",
       "    </tr>\n",
       "    <tr>\n",
       "      <td>2</td>\n",
       "      <td>0</td>\n",
       "      <td>-5623.422610</td>\n",
       "      <td>33</td>\n",
       "      <td>Среднее</td>\n",
       "      <td>1</td>\n",
       "      <td>женат / замужем</td>\n",
       "      <td>0</td>\n",
       "      <td>M</td>\n",
       "      <td>сотрудник</td>\n",
       "      <td>0</td>\n",
       "      <td>145885.952297</td>\n",
       "      <td>покупка жилья</td>\n",
       "    </tr>\n",
       "    <tr>\n",
       "      <td>3</td>\n",
       "      <td>3</td>\n",
       "      <td>-4124.747207</td>\n",
       "      <td>32</td>\n",
       "      <td>среднее</td>\n",
       "      <td>1</td>\n",
       "      <td>женат / замужем</td>\n",
       "      <td>0</td>\n",
       "      <td>M</td>\n",
       "      <td>сотрудник</td>\n",
       "      <td>0</td>\n",
       "      <td>267628.550329</td>\n",
       "      <td>дополнительное образование</td>\n",
       "    </tr>\n",
       "    <tr>\n",
       "      <td>4</td>\n",
       "      <td>0</td>\n",
       "      <td>340266.072047</td>\n",
       "      <td>53</td>\n",
       "      <td>среднее</td>\n",
       "      <td>1</td>\n",
       "      <td>гражданский брак</td>\n",
       "      <td>1</td>\n",
       "      <td>F</td>\n",
       "      <td>пенсионер</td>\n",
       "      <td>0</td>\n",
       "      <td>158616.077870</td>\n",
       "      <td>сыграть свадьбу</td>\n",
       "    </tr>\n",
       "    <tr>\n",
       "      <td>5</td>\n",
       "      <td>0</td>\n",
       "      <td>-926.185831</td>\n",
       "      <td>27</td>\n",
       "      <td>высшее</td>\n",
       "      <td>0</td>\n",
       "      <td>гражданский брак</td>\n",
       "      <td>1</td>\n",
       "      <td>M</td>\n",
       "      <td>компаньон</td>\n",
       "      <td>0</td>\n",
       "      <td>255763.565419</td>\n",
       "      <td>покупка жилья</td>\n",
       "    </tr>\n",
       "    <tr>\n",
       "      <td>6</td>\n",
       "      <td>0</td>\n",
       "      <td>-2879.202052</td>\n",
       "      <td>43</td>\n",
       "      <td>высшее</td>\n",
       "      <td>0</td>\n",
       "      <td>женат / замужем</td>\n",
       "      <td>0</td>\n",
       "      <td>F</td>\n",
       "      <td>компаньон</td>\n",
       "      <td>0</td>\n",
       "      <td>240525.971920</td>\n",
       "      <td>операции с жильем</td>\n",
       "    </tr>\n",
       "    <tr>\n",
       "      <td>7</td>\n",
       "      <td>0</td>\n",
       "      <td>-152.779569</td>\n",
       "      <td>50</td>\n",
       "      <td>СРЕДНЕЕ</td>\n",
       "      <td>1</td>\n",
       "      <td>женат / замужем</td>\n",
       "      <td>0</td>\n",
       "      <td>M</td>\n",
       "      <td>сотрудник</td>\n",
       "      <td>0</td>\n",
       "      <td>135823.934197</td>\n",
       "      <td>образование</td>\n",
       "    </tr>\n",
       "    <tr>\n",
       "      <td>8</td>\n",
       "      <td>2</td>\n",
       "      <td>-6929.865299</td>\n",
       "      <td>35</td>\n",
       "      <td>ВЫСШЕЕ</td>\n",
       "      <td>0</td>\n",
       "      <td>гражданский брак</td>\n",
       "      <td>1</td>\n",
       "      <td>F</td>\n",
       "      <td>сотрудник</td>\n",
       "      <td>0</td>\n",
       "      <td>95856.832424</td>\n",
       "      <td>на проведение свадьбы</td>\n",
       "    </tr>\n",
       "    <tr>\n",
       "      <td>9</td>\n",
       "      <td>0</td>\n",
       "      <td>-2188.756445</td>\n",
       "      <td>41</td>\n",
       "      <td>среднее</td>\n",
       "      <td>1</td>\n",
       "      <td>женат / замужем</td>\n",
       "      <td>0</td>\n",
       "      <td>M</td>\n",
       "      <td>сотрудник</td>\n",
       "      <td>0</td>\n",
       "      <td>144425.938277</td>\n",
       "      <td>покупка жилья для семьи</td>\n",
       "    </tr>\n",
       "    <tr>\n",
       "      <td>10</td>\n",
       "      <td>2</td>\n",
       "      <td>-4171.483647</td>\n",
       "      <td>36</td>\n",
       "      <td>высшее</td>\n",
       "      <td>0</td>\n",
       "      <td>женат / замужем</td>\n",
       "      <td>0</td>\n",
       "      <td>M</td>\n",
       "      <td>компаньон</td>\n",
       "      <td>0</td>\n",
       "      <td>113943.491460</td>\n",
       "      <td>покупка недвижимости</td>\n",
       "    </tr>\n",
       "    <tr>\n",
       "      <td>11</td>\n",
       "      <td>0</td>\n",
       "      <td>-792.701887</td>\n",
       "      <td>40</td>\n",
       "      <td>среднее</td>\n",
       "      <td>1</td>\n",
       "      <td>женат / замужем</td>\n",
       "      <td>0</td>\n",
       "      <td>F</td>\n",
       "      <td>сотрудник</td>\n",
       "      <td>0</td>\n",
       "      <td>77069.234271</td>\n",
       "      <td>покупка коммерческой недвижимости</td>\n",
       "    </tr>\n",
       "    <tr>\n",
       "      <td>12</td>\n",
       "      <td>0</td>\n",
       "      <td>NaN</td>\n",
       "      <td>65</td>\n",
       "      <td>среднее</td>\n",
       "      <td>1</td>\n",
       "      <td>гражданский брак</td>\n",
       "      <td>1</td>\n",
       "      <td>M</td>\n",
       "      <td>пенсионер</td>\n",
       "      <td>0</td>\n",
       "      <td>NaN</td>\n",
       "      <td>сыграть свадьбу</td>\n",
       "    </tr>\n",
       "    <tr>\n",
       "      <td>13</td>\n",
       "      <td>0</td>\n",
       "      <td>-1846.641941</td>\n",
       "      <td>54</td>\n",
       "      <td>неоконченное высшее</td>\n",
       "      <td>2</td>\n",
       "      <td>женат / замужем</td>\n",
       "      <td>0</td>\n",
       "      <td>F</td>\n",
       "      <td>сотрудник</td>\n",
       "      <td>0</td>\n",
       "      <td>130458.228857</td>\n",
       "      <td>приобретение автомобиля</td>\n",
       "    </tr>\n",
       "    <tr>\n",
       "      <td>14</td>\n",
       "      <td>0</td>\n",
       "      <td>-1844.956182</td>\n",
       "      <td>56</td>\n",
       "      <td>высшее</td>\n",
       "      <td>0</td>\n",
       "      <td>гражданский брак</td>\n",
       "      <td>1</td>\n",
       "      <td>F</td>\n",
       "      <td>компаньон</td>\n",
       "      <td>1</td>\n",
       "      <td>165127.911772</td>\n",
       "      <td>покупка жилой недвижимости</td>\n",
       "    </tr>\n",
       "  </tbody>\n",
       "</table>\n",
       "</div>"
      ],
      "text/plain": [
       "    children  days_employed  dob_years            education  education_id  \\\n",
       "0          1   -8437.673028         42               высшее             0   \n",
       "1          1   -4024.803754         36              среднее             1   \n",
       "2          0   -5623.422610         33              Среднее             1   \n",
       "3          3   -4124.747207         32              среднее             1   \n",
       "4          0  340266.072047         53              среднее             1   \n",
       "5          0    -926.185831         27               высшее             0   \n",
       "6          0   -2879.202052         43               высшее             0   \n",
       "7          0    -152.779569         50              СРЕДНЕЕ             1   \n",
       "8          2   -6929.865299         35               ВЫСШЕЕ             0   \n",
       "9          0   -2188.756445         41              среднее             1   \n",
       "10         2   -4171.483647         36               высшее             0   \n",
       "11         0    -792.701887         40              среднее             1   \n",
       "12         0            NaN         65              среднее             1   \n",
       "13         0   -1846.641941         54  неоконченное высшее             2   \n",
       "14         0   -1844.956182         56               высшее             0   \n",
       "\n",
       "       family_status  family_status_id gender income_type  debt  \\\n",
       "0    женат / замужем                 0      F   сотрудник     0   \n",
       "1    женат / замужем                 0      F   сотрудник     0   \n",
       "2    женат / замужем                 0      M   сотрудник     0   \n",
       "3    женат / замужем                 0      M   сотрудник     0   \n",
       "4   гражданский брак                 1      F   пенсионер     0   \n",
       "5   гражданский брак                 1      M   компаньон     0   \n",
       "6    женат / замужем                 0      F   компаньон     0   \n",
       "7    женат / замужем                 0      M   сотрудник     0   \n",
       "8   гражданский брак                 1      F   сотрудник     0   \n",
       "9    женат / замужем                 0      M   сотрудник     0   \n",
       "10   женат / замужем                 0      M   компаньон     0   \n",
       "11   женат / замужем                 0      F   сотрудник     0   \n",
       "12  гражданский брак                 1      M   пенсионер     0   \n",
       "13   женат / замужем                 0      F   сотрудник     0   \n",
       "14  гражданский брак                 1      F   компаньон     1   \n",
       "\n",
       "     total_income                            purpose  \n",
       "0   253875.639453                      покупка жилья  \n",
       "1   112080.014102            приобретение автомобиля  \n",
       "2   145885.952297                      покупка жилья  \n",
       "3   267628.550329         дополнительное образование  \n",
       "4   158616.077870                    сыграть свадьбу  \n",
       "5   255763.565419                      покупка жилья  \n",
       "6   240525.971920                  операции с жильем  \n",
       "7   135823.934197                        образование  \n",
       "8    95856.832424              на проведение свадьбы  \n",
       "9   144425.938277            покупка жилья для семьи  \n",
       "10  113943.491460               покупка недвижимости  \n",
       "11   77069.234271  покупка коммерческой недвижимости  \n",
       "12            NaN                    сыграть свадьбу  \n",
       "13  130458.228857            приобретение автомобиля  \n",
       "14  165127.911772         покупка жилой недвижимости  "
      ]
     },
     "execution_count": 33,
     "metadata": {},
     "output_type": "execute_result"
    }
   ],
   "source": [
    "import pandas as pd\n",
    "data=pd.read_csv('/datasets/data.csv')\n",
    "data.head(15) #просмотрим первые 15 строк таблицы\n"
   ]
  },
  {
   "cell_type": "code",
   "execution_count": 34,
   "metadata": {},
   "outputs": [
    {
     "name": "stdout",
     "output_type": "stream",
     "text": [
      "<class 'pandas.core.frame.DataFrame'>\n",
      "RangeIndex: 21525 entries, 0 to 21524\n",
      "Data columns (total 12 columns):\n",
      "children            21525 non-null int64\n",
      "days_employed       19351 non-null float64\n",
      "dob_years           21525 non-null int64\n",
      "education           21525 non-null object\n",
      "education_id        21525 non-null int64\n",
      "family_status       21525 non-null object\n",
      "family_status_id    21525 non-null int64\n",
      "gender              21525 non-null object\n",
      "income_type         21525 non-null object\n",
      "debt                21525 non-null int64\n",
      "total_income        19351 non-null float64\n",
      "purpose             21525 non-null object\n",
      "dtypes: float64(2), int64(5), object(5)\n",
      "memory usage: 2.0+ MB\n"
     ]
    }
   ],
   "source": [
    "data.info() #оцениваем объем данных в таблице"
   ]
  },
  {
   "cell_type": "markdown",
   "metadata": {},
   "source": [
    "**Вывод**\n",
    "Имена столбцов записаны корректно, однако имеется одинаковое количество незаполненных данных в столбцах 'days_employed' и 'total_income'.\n",
    "Также общий просмотр таблицы выявил наличие отрицательных данных в столбце 'days_employed', что не может быть в реальной жизни."
   ]
  },
  {
   "cell_type": "markdown",
   "metadata": {},
   "source": []
  },
  {
   "cell_type": "markdown",
   "metadata": {},
   "source": [
    "## Шаг 2. Предобработка данных"
   ]
  },
  {
   "cell_type": "markdown",
   "metadata": {},
   "source": [
    "### Обработка пропусков"
   ]
  },
  {
   "cell_type": "code",
   "execution_count": 35,
   "metadata": {},
   "outputs": [
    {
     "data": {
      "text/html": [
       "<div>\n",
       "<style scoped>\n",
       "    .dataframe tbody tr th:only-of-type {\n",
       "        vertical-align: middle;\n",
       "    }\n",
       "\n",
       "    .dataframe tbody tr th {\n",
       "        vertical-align: top;\n",
       "    }\n",
       "\n",
       "    .dataframe thead th {\n",
       "        text-align: right;\n",
       "    }\n",
       "</style>\n",
       "<table border=\"1\" class=\"dataframe\">\n",
       "  <thead>\n",
       "    <tr style=\"text-align: right;\">\n",
       "      <th></th>\n",
       "      <th>children</th>\n",
       "      <th>days_employed</th>\n",
       "      <th>dob_years</th>\n",
       "      <th>education</th>\n",
       "      <th>education_id</th>\n",
       "      <th>family_status</th>\n",
       "      <th>family_status_id</th>\n",
       "      <th>gender</th>\n",
       "      <th>income_type</th>\n",
       "      <th>debt</th>\n",
       "      <th>total_income</th>\n",
       "      <th>purpose</th>\n",
       "    </tr>\n",
       "  </thead>\n",
       "  <tbody>\n",
       "    <tr>\n",
       "      <td>12</td>\n",
       "      <td>0</td>\n",
       "      <td>NaN</td>\n",
       "      <td>65</td>\n",
       "      <td>среднее</td>\n",
       "      <td>1</td>\n",
       "      <td>гражданский брак</td>\n",
       "      <td>1</td>\n",
       "      <td>M</td>\n",
       "      <td>пенсионер</td>\n",
       "      <td>0</td>\n",
       "      <td>NaN</td>\n",
       "      <td>сыграть свадьбу</td>\n",
       "    </tr>\n",
       "    <tr>\n",
       "      <td>26</td>\n",
       "      <td>0</td>\n",
       "      <td>NaN</td>\n",
       "      <td>41</td>\n",
       "      <td>среднее</td>\n",
       "      <td>1</td>\n",
       "      <td>женат / замужем</td>\n",
       "      <td>0</td>\n",
       "      <td>M</td>\n",
       "      <td>госслужащий</td>\n",
       "      <td>0</td>\n",
       "      <td>NaN</td>\n",
       "      <td>образование</td>\n",
       "    </tr>\n",
       "    <tr>\n",
       "      <td>29</td>\n",
       "      <td>0</td>\n",
       "      <td>NaN</td>\n",
       "      <td>63</td>\n",
       "      <td>среднее</td>\n",
       "      <td>1</td>\n",
       "      <td>Не женат / не замужем</td>\n",
       "      <td>4</td>\n",
       "      <td>F</td>\n",
       "      <td>пенсионер</td>\n",
       "      <td>0</td>\n",
       "      <td>NaN</td>\n",
       "      <td>строительство жилой недвижимости</td>\n",
       "    </tr>\n",
       "    <tr>\n",
       "      <td>41</td>\n",
       "      <td>0</td>\n",
       "      <td>NaN</td>\n",
       "      <td>50</td>\n",
       "      <td>среднее</td>\n",
       "      <td>1</td>\n",
       "      <td>женат / замужем</td>\n",
       "      <td>0</td>\n",
       "      <td>F</td>\n",
       "      <td>госслужащий</td>\n",
       "      <td>0</td>\n",
       "      <td>NaN</td>\n",
       "      <td>сделка с подержанным автомобилем</td>\n",
       "    </tr>\n",
       "    <tr>\n",
       "      <td>55</td>\n",
       "      <td>0</td>\n",
       "      <td>NaN</td>\n",
       "      <td>54</td>\n",
       "      <td>среднее</td>\n",
       "      <td>1</td>\n",
       "      <td>гражданский брак</td>\n",
       "      <td>1</td>\n",
       "      <td>F</td>\n",
       "      <td>пенсионер</td>\n",
       "      <td>1</td>\n",
       "      <td>NaN</td>\n",
       "      <td>сыграть свадьбу</td>\n",
       "    </tr>\n",
       "    <tr>\n",
       "      <td>...</td>\n",
       "      <td>...</td>\n",
       "      <td>...</td>\n",
       "      <td>...</td>\n",
       "      <td>...</td>\n",
       "      <td>...</td>\n",
       "      <td>...</td>\n",
       "      <td>...</td>\n",
       "      <td>...</td>\n",
       "      <td>...</td>\n",
       "      <td>...</td>\n",
       "      <td>...</td>\n",
       "      <td>...</td>\n",
       "    </tr>\n",
       "    <tr>\n",
       "      <td>21489</td>\n",
       "      <td>2</td>\n",
       "      <td>NaN</td>\n",
       "      <td>47</td>\n",
       "      <td>Среднее</td>\n",
       "      <td>1</td>\n",
       "      <td>женат / замужем</td>\n",
       "      <td>0</td>\n",
       "      <td>M</td>\n",
       "      <td>компаньон</td>\n",
       "      <td>0</td>\n",
       "      <td>NaN</td>\n",
       "      <td>сделка с автомобилем</td>\n",
       "    </tr>\n",
       "    <tr>\n",
       "      <td>21495</td>\n",
       "      <td>1</td>\n",
       "      <td>NaN</td>\n",
       "      <td>50</td>\n",
       "      <td>среднее</td>\n",
       "      <td>1</td>\n",
       "      <td>гражданский брак</td>\n",
       "      <td>1</td>\n",
       "      <td>F</td>\n",
       "      <td>сотрудник</td>\n",
       "      <td>0</td>\n",
       "      <td>NaN</td>\n",
       "      <td>свадьба</td>\n",
       "    </tr>\n",
       "    <tr>\n",
       "      <td>21497</td>\n",
       "      <td>0</td>\n",
       "      <td>NaN</td>\n",
       "      <td>48</td>\n",
       "      <td>ВЫСШЕЕ</td>\n",
       "      <td>0</td>\n",
       "      <td>женат / замужем</td>\n",
       "      <td>0</td>\n",
       "      <td>F</td>\n",
       "      <td>компаньон</td>\n",
       "      <td>0</td>\n",
       "      <td>NaN</td>\n",
       "      <td>строительство недвижимости</td>\n",
       "    </tr>\n",
       "    <tr>\n",
       "      <td>21502</td>\n",
       "      <td>1</td>\n",
       "      <td>NaN</td>\n",
       "      <td>42</td>\n",
       "      <td>среднее</td>\n",
       "      <td>1</td>\n",
       "      <td>женат / замужем</td>\n",
       "      <td>0</td>\n",
       "      <td>F</td>\n",
       "      <td>сотрудник</td>\n",
       "      <td>0</td>\n",
       "      <td>NaN</td>\n",
       "      <td>строительство жилой недвижимости</td>\n",
       "    </tr>\n",
       "    <tr>\n",
       "      <td>21510</td>\n",
       "      <td>2</td>\n",
       "      <td>NaN</td>\n",
       "      <td>28</td>\n",
       "      <td>среднее</td>\n",
       "      <td>1</td>\n",
       "      <td>женат / замужем</td>\n",
       "      <td>0</td>\n",
       "      <td>F</td>\n",
       "      <td>сотрудник</td>\n",
       "      <td>0</td>\n",
       "      <td>NaN</td>\n",
       "      <td>приобретение автомобиля</td>\n",
       "    </tr>\n",
       "  </tbody>\n",
       "</table>\n",
       "<p>2174 rows × 12 columns</p>\n",
       "</div>"
      ],
      "text/plain": [
       "       children  days_employed  dob_years education  education_id  \\\n",
       "12            0            NaN         65   среднее             1   \n",
       "26            0            NaN         41   среднее             1   \n",
       "29            0            NaN         63   среднее             1   \n",
       "41            0            NaN         50   среднее             1   \n",
       "55            0            NaN         54   среднее             1   \n",
       "...         ...            ...        ...       ...           ...   \n",
       "21489         2            NaN         47   Среднее             1   \n",
       "21495         1            NaN         50   среднее             1   \n",
       "21497         0            NaN         48    ВЫСШЕЕ             0   \n",
       "21502         1            NaN         42   среднее             1   \n",
       "21510         2            NaN         28   среднее             1   \n",
       "\n",
       "               family_status  family_status_id gender  income_type  debt  \\\n",
       "12          гражданский брак                 1      M    пенсионер     0   \n",
       "26           женат / замужем                 0      M  госслужащий     0   \n",
       "29     Не женат / не замужем                 4      F    пенсионер     0   \n",
       "41           женат / замужем                 0      F  госслужащий     0   \n",
       "55          гражданский брак                 1      F    пенсионер     1   \n",
       "...                      ...               ...    ...          ...   ...   \n",
       "21489        женат / замужем                 0      M    компаньон     0   \n",
       "21495       гражданский брак                 1      F    сотрудник     0   \n",
       "21497        женат / замужем                 0      F    компаньон     0   \n",
       "21502        женат / замужем                 0      F    сотрудник     0   \n",
       "21510        женат / замужем                 0      F    сотрудник     0   \n",
       "\n",
       "       total_income                           purpose  \n",
       "12              NaN                   сыграть свадьбу  \n",
       "26              NaN                       образование  \n",
       "29              NaN  строительство жилой недвижимости  \n",
       "41              NaN  сделка с подержанным автомобилем  \n",
       "55              NaN                   сыграть свадьбу  \n",
       "...             ...                               ...  \n",
       "21489           NaN              сделка с автомобилем  \n",
       "21495           NaN                           свадьба  \n",
       "21497           NaN        строительство недвижимости  \n",
       "21502           NaN  строительство жилой недвижимости  \n",
       "21510           NaN           приобретение автомобиля  \n",
       "\n",
       "[2174 rows x 12 columns]"
      ]
     },
     "execution_count": 35,
     "metadata": {},
     "output_type": "execute_result"
    }
   ],
   "source": [
    "data[data['days_employed'].isna()] #просматриваем какие строки заполнены пустыми данными\n"
   ]
  },
  {
   "cell_type": "code",
   "execution_count": 36,
   "metadata": {},
   "outputs": [
    {
     "data": {
      "text/plain": [
       "income_type\n",
       "безработный        337524.466835\n",
       "в декрете           -3296.759962\n",
       "госслужащий        -15193.032201\n",
       "компаньон          -17615.563266\n",
       "пенсионер          328728.720605\n",
       "предприниматель      -520.848083\n",
       "сотрудник          -18388.949901\n",
       "студент              -578.751554\n",
       "Name: days_employed, dtype: float64"
      ]
     },
     "execution_count": 36,
     "metadata": {},
     "output_type": "execute_result"
    }
   ],
   "source": [
    "data.groupby('income_type')['days_employed'].min() #выявяем минимальные значения по столбцу трудового стажа"
   ]
  },
  {
   "cell_type": "code",
   "execution_count": 37,
   "metadata": {},
   "outputs": [
    {
     "data": {
      "text/plain": [
       "income_type\n",
       "безработный        395302.838654\n",
       "в декрете           -3296.759962\n",
       "госслужащий           -39.954170\n",
       "компаньон             -30.195337\n",
       "пенсионер          401755.400475\n",
       "предприниматель      -520.848083\n",
       "сотрудник             -24.141633\n",
       "студент              -578.751554\n",
       "Name: days_employed, dtype: float64"
      ]
     },
     "execution_count": 37,
     "metadata": {},
     "output_type": "execute_result"
    }
   ],
   "source": [
    "data.groupby('income_type')['days_employed'].max() #выявяем максимальные значения по столбцу трудового стажа"
   ]
  },
  {
   "cell_type": "code",
   "execution_count": 38,
   "metadata": {},
   "outputs": [
    {
     "data": {
      "text/plain": [
       "income_type\n",
       "безработный        2.027225e+05\n",
       "в декрете          5.382913e+04\n",
       "госслужащий        9.104515e+05\n",
       "компаньон          2.265604e+06\n",
       "пенсионер          7.351033e+05\n",
       "предприниматель    4.991631e+05\n",
       "сотрудник          1.726276e+06\n",
       "студент            9.820163e+04\n",
       "Name: total_income, dtype: float64"
      ]
     },
     "execution_count": 38,
     "metadata": {},
     "output_type": "execute_result"
    }
   ],
   "source": [
    "data.groupby('income_type')['total_income'].max() #вычисляем максимальный ежемесячный доход по группам лиц"
   ]
  },
  {
   "cell_type": "code",
   "execution_count": 39,
   "metadata": {},
   "outputs": [
    {
     "data": {
      "text/plain": [
       "income_type\n",
       "безработный         59956.991984\n",
       "в декрете           53829.130729\n",
       "госслужащий         29200.077193\n",
       "компаньон           28702.812889\n",
       "пенсионер           20667.263793\n",
       "предприниматель    499163.144947\n",
       "сотрудник           21367.648356\n",
       "студент             98201.625314\n",
       "Name: total_income, dtype: float64"
      ]
     },
     "execution_count": 39,
     "metadata": {},
     "output_type": "execute_result"
    }
   ],
   "source": [
    "data.groupby('income_type')['total_income'].min() #вычисляем минимальный ежемесячный доход по группам лиц"
   ]
  },
  {
   "cell_type": "code",
   "execution_count": 40,
   "metadata": {
    "scrolled": true
   },
   "outputs": [
    {
     "data": {
      "text/plain": [
       "income_type\n",
       "безработный        131339.751676\n",
       "в декрете           53829.130729\n",
       "госслужащий        150447.935283\n",
       "компаньон          172357.950966\n",
       "пенсионер          118514.486412\n",
       "предприниматель    499163.144947\n",
       "сотрудник          142594.396847\n",
       "студент             98201.625314\n",
       "Name: total_income, dtype: float64"
      ]
     },
     "execution_count": 40,
     "metadata": {},
     "output_type": "execute_result"
    }
   ],
   "source": [
    "data.groupby('income_type')['total_income'].median() #считаем медиану ежемесячного дохода группируя по типу занятости\n"
   ]
  },
  {
   "cell_type": "code",
   "execution_count": 41,
   "metadata": {},
   "outputs": [],
   "source": [
    "data['total_income']=data['total_income'].fillna(0) #заменяю пустые значения на 0"
   ]
  },
  {
   "cell_type": "code",
   "execution_count": 42,
   "metadata": {},
   "outputs": [],
   "source": [
    "\n",
    "def mean_total_income_group(row): #задаем функцию, которая меняет 0 в столбце 'total_income' на медиану по группе\n",
    "        \n",
    "    if row['total_income']==0:\n",
    "        if 'безработный' in row['income_type']:\n",
    "            row['total_income']=131339.751676\n",
    "            return row['total_income']\n",
    "        if 'пенсионер' in row['income_type']:\n",
    "            row['total_income']=118514.486412\n",
    "            return row['total_income']\n",
    "        if 'в декрете' in row['income_type']:\n",
    "            row['total_income']=53829.130729\n",
    "            return row['total_income']\n",
    "        if 'госслужащий' in row['income_type']:\n",
    "            row['total_income']=150447.935283\n",
    "            return row['total_income']\n",
    "        if 'компаньон' in row['income_type']: \n",
    "            row['total_income']=172357.950966\n",
    "            return row['total_income']\n",
    "        if 'предприниматель' in row['income_type']:\n",
    "            row['total_income']=499163.144947\n",
    "            return row['total_income']\n",
    "        if 'сотрудник' in row['income_type']:\n",
    "            row['total_income']=142594.396847\n",
    "            return row['total_income']\n",
    "        if 'студент' in row['income_type']:\n",
    "            row['total_income']=98201.625314\n",
    "            return row['total_income']\n",
    "\n",
    "    else:\n",
    "        return row['total_income']\n",
    "        \n",
    "   \n"
   ]
  },
  {
   "cell_type": "code",
   "execution_count": 43,
   "metadata": {},
   "outputs": [
    {
     "data": {
      "text/html": [
       "<div>\n",
       "<style scoped>\n",
       "    .dataframe tbody tr th:only-of-type {\n",
       "        vertical-align: middle;\n",
       "    }\n",
       "\n",
       "    .dataframe tbody tr th {\n",
       "        vertical-align: top;\n",
       "    }\n",
       "\n",
       "    .dataframe thead th {\n",
       "        text-align: right;\n",
       "    }\n",
       "</style>\n",
       "<table border=\"1\" class=\"dataframe\">\n",
       "  <thead>\n",
       "    <tr style=\"text-align: right;\">\n",
       "      <th></th>\n",
       "      <th>children</th>\n",
       "      <th>days_employed</th>\n",
       "      <th>dob_years</th>\n",
       "      <th>education</th>\n",
       "      <th>education_id</th>\n",
       "      <th>family_status</th>\n",
       "      <th>family_status_id</th>\n",
       "      <th>gender</th>\n",
       "      <th>income_type</th>\n",
       "      <th>debt</th>\n",
       "      <th>total_income</th>\n",
       "      <th>purpose</th>\n",
       "    </tr>\n",
       "  </thead>\n",
       "  <tbody>\n",
       "  </tbody>\n",
       "</table>\n",
       "</div>"
      ],
      "text/plain": [
       "Empty DataFrame\n",
       "Columns: [children, days_employed, dob_years, education, education_id, family_status, family_status_id, gender, income_type, debt, total_income, purpose]\n",
       "Index: []"
      ]
     },
     "execution_count": 43,
     "metadata": {},
     "output_type": "execute_result"
    }
   ],
   "source": [
    "data['total_income']=data.apply(mean_total_income_group, axis=1)\n",
    "data[data['total_income'].isna()] #проверяем остались ли пустые строки"
   ]
  },
  {
   "cell_type": "code",
   "execution_count": 44,
   "metadata": {},
   "outputs": [
    {
     "data": {
      "text/html": [
       "<div>\n",
       "<style scoped>\n",
       "    .dataframe tbody tr th:only-of-type {\n",
       "        vertical-align: middle;\n",
       "    }\n",
       "\n",
       "    .dataframe tbody tr th {\n",
       "        vertical-align: top;\n",
       "    }\n",
       "\n",
       "    .dataframe thead th {\n",
       "        text-align: right;\n",
       "    }\n",
       "</style>\n",
       "<table border=\"1\" class=\"dataframe\">\n",
       "  <thead>\n",
       "    <tr style=\"text-align: right;\">\n",
       "      <th></th>\n",
       "      <th>children</th>\n",
       "      <th>days_employed</th>\n",
       "      <th>dob_years</th>\n",
       "      <th>education</th>\n",
       "      <th>education_id</th>\n",
       "      <th>family_status</th>\n",
       "      <th>family_status_id</th>\n",
       "      <th>gender</th>\n",
       "      <th>income_type</th>\n",
       "      <th>debt</th>\n",
       "      <th>total_income</th>\n",
       "      <th>purpose</th>\n",
       "    </tr>\n",
       "  </thead>\n",
       "  <tbody>\n",
       "  </tbody>\n",
       "</table>\n",
       "</div>"
      ],
      "text/plain": [
       "Empty DataFrame\n",
       "Columns: [children, days_employed, dob_years, education, education_id, family_status, family_status_id, gender, income_type, debt, total_income, purpose]\n",
       "Index: []"
      ]
     },
     "execution_count": 44,
     "metadata": {},
     "output_type": "execute_result"
    }
   ],
   "source": [
    "data['days_employed'] = data['days_employed'].fillna(data.groupby('income_type')['days_employed'].transform('mean'))#заменяем пустые данные в столбце на среднее арифмитическое\n",
    "data[data['days_employed'].isna()] #проверяем остались ли пустые строки"
   ]
  },
  {
   "cell_type": "code",
   "execution_count": 45,
   "metadata": {},
   "outputs": [
    {
     "name": "stdout",
     "output_type": "stream",
     "text": [
      "<class 'pandas.core.frame.DataFrame'>\n",
      "RangeIndex: 21525 entries, 0 to 21524\n",
      "Data columns (total 12 columns):\n",
      "children            21525 non-null int64\n",
      "days_employed       21525 non-null float64\n",
      "dob_years           21525 non-null int64\n",
      "education           21525 non-null object\n",
      "education_id        21525 non-null int64\n",
      "family_status       21525 non-null object\n",
      "family_status_id    21525 non-null int64\n",
      "gender              21525 non-null object\n",
      "income_type         21525 non-null object\n",
      "debt                21525 non-null int64\n",
      "total_income        21525 non-null float64\n",
      "purpose             21525 non-null object\n",
      "dtypes: float64(2), int64(5), object(5)\n",
      "memory usage: 2.0+ MB\n"
     ]
    }
   ],
   "source": [
    "data.info()"
   ]
  },
  {
   "cell_type": "markdown",
   "metadata": {},
   "source": [
    "**Вывод**\n",
    "При просмотре строк с пустыми данными выявили, что столбцы с общим трудовым стажем и ежемесячным доходом пусты в одних и тех же строках.\n",
    "\n",
    "В то же время в столбце с трудовым стажем выявлены отрицательные значения, которые логически не могут там быть. Скорее всего это связано с технической ошибкой. Однако получить информацию о причинах  потери данных невозможно.\n",
    "\n",
    "Так как пропущенные данные, а также данные с аномальными отрицательными значениями с общим трудовым стажем не влияют на поставленный вопрос, принято решение заменить пустые данные на среднее арифмитическое.\n",
    "\n",
    "Чтобы избежать аномальных выбросов в нижнюю или верхнюю строну, пропущенные данные в столбце с ежемесячным доходом были заменены на данные медианы по группам"
   ]
  },
  {
   "cell_type": "markdown",
   "metadata": {},
   "source": [
    "### Замена типа данных"
   ]
  },
  {
   "cell_type": "code",
   "execution_count": 46,
   "metadata": {},
   "outputs": [
    {
     "name": "stdout",
     "output_type": "stream",
     "text": [
      "<class 'pandas.core.frame.DataFrame'>\n",
      "RangeIndex: 21525 entries, 0 to 21524\n",
      "Data columns (total 12 columns):\n",
      "children            21525 non-null int64\n",
      "days_employed       21525 non-null int64\n",
      "dob_years           21525 non-null int64\n",
      "education           21525 non-null object\n",
      "education_id        21525 non-null int64\n",
      "family_status       21525 non-null object\n",
      "family_status_id    21525 non-null int64\n",
      "gender              21525 non-null object\n",
      "income_type         21525 non-null object\n",
      "debt                21525 non-null int64\n",
      "total_income        21525 non-null float64\n",
      "purpose             21525 non-null object\n",
      "dtypes: float64(1), int64(6), object(5)\n",
      "memory usage: 2.0+ MB\n"
     ]
    }
   ],
   "source": [
    "data['days_employed']=data['days_employed'].astype('int')\n",
    "data.info()"
   ]
  },
  {
   "cell_type": "markdown",
   "metadata": {},
   "source": [
    "**Вывод**\n",
    "Столбец с общим трудовым стажем в днях был переведен в формат целых чисел, так как количество дней может быть только целым числом"
   ]
  },
  {
   "cell_type": "markdown",
   "metadata": {},
   "source": []
  },
  {
   "cell_type": "markdown",
   "metadata": {},
   "source": [
    "### Обработка дубликатов"
   ]
  },
  {
   "cell_type": "code",
   "execution_count": 47,
   "metadata": {},
   "outputs": [
    {
     "data": {
      "text/plain": [
       "среднее                13750\n",
       "высшее                  4718\n",
       "СРЕДНЕЕ                  772\n",
       "Среднее                  711\n",
       "неоконченное высшее      668\n",
       "ВЫСШЕЕ                   274\n",
       "Высшее                   268\n",
       "начальное                250\n",
       "Неоконченное высшее       47\n",
       "НЕОКОНЧЕННОЕ ВЫСШЕЕ       29\n",
       "НАЧАЛЬНОЕ                 17\n",
       "Начальное                 15\n",
       "ученая степень             4\n",
       "Ученая степень             1\n",
       "УЧЕНАЯ СТЕПЕНЬ             1\n",
       "Name: education, dtype: int64"
      ]
     },
     "execution_count": 47,
     "metadata": {},
     "output_type": "execute_result"
    }
   ],
   "source": [
    "data['education'].value_counts() #проверили уникальные значения столбца с указанием образования"
   ]
  },
  {
   "cell_type": "code",
   "execution_count": 48,
   "metadata": {},
   "outputs": [
    {
     "data": {
      "text/plain": [
       "среднее                15233\n",
       "высшее                  5260\n",
       "неоконченное высшее      744\n",
       "начальное                282\n",
       "ученая степень             6\n",
       "Name: education, dtype: int64"
      ]
     },
     "execution_count": 48,
     "metadata": {},
     "output_type": "execute_result"
    }
   ],
   "source": [
    "data['education']=data['education'].str.lower() #преобразовали символы в столбце 'education' в нижний регистр\n",
    "data['education'].value_counts()"
   ]
  },
  {
   "cell_type": "code",
   "execution_count": 49,
   "metadata": {},
   "outputs": [
    {
     "data": {
      "text/plain": [
       "женат / замужем          12380\n",
       "гражданский брак          4177\n",
       "Не женат / не замужем     2813\n",
       "в разводе                 1195\n",
       "вдовец / вдова             960\n",
       "Name: family_status, dtype: int64"
      ]
     },
     "execution_count": 49,
     "metadata": {},
     "output_type": "execute_result"
    }
   ],
   "source": [
    "data['family_status'].value_counts() #проверили уникальные значения столбца 'family_status'"
   ]
  },
  {
   "cell_type": "code",
   "execution_count": 51,
   "metadata": {},
   "outputs": [
    {
     "data": {
      "text/plain": [
       "сотрудник          11119\n",
       "компаньон           5085\n",
       "пенсионер           3856\n",
       "госслужащий         1459\n",
       "предприниматель        2\n",
       "безработный            2\n",
       "в декрете              1\n",
       "студент                1\n",
       "Name: income_type, dtype: int64"
      ]
     },
     "execution_count": 51,
     "metadata": {},
     "output_type": "execute_result"
    }
   ],
   "source": [
    "data['income_type'].value_counts() #проверили уникальные значения столбца 'income_type'"
   ]
  },
  {
   "cell_type": "code",
   "execution_count": 52,
   "metadata": {},
   "outputs": [
    {
     "data": {
      "text/plain": [
       "свадьба                                   797\n",
       "на проведение свадьбы                     777\n",
       "сыграть свадьбу                           774\n",
       "операции с недвижимостью                  676\n",
       "покупка коммерческой недвижимости         664\n",
       "покупка жилья для сдачи                   653\n",
       "операции с жильем                         653\n",
       "операции с коммерческой недвижимостью     651\n",
       "покупка жилья                             647\n",
       "жилье                                     647\n",
       "покупка жилья для семьи                   641\n",
       "строительство собственной недвижимости    635\n",
       "недвижимость                              634\n",
       "операции со своей недвижимостью           630\n",
       "строительство жилой недвижимости          626\n",
       "покупка недвижимости                      624\n",
       "строительство недвижимости                620\n",
       "покупка своего жилья                      620\n",
       "ремонт жилью                              612\n",
       "покупка жилой недвижимости                607\n",
       "на покупку своего автомобиля              505\n",
       "заняться высшим образованием              496\n",
       "автомобиль                                495\n",
       "сделка с подержанным автомобилем          489\n",
       "свой автомобиль                           480\n",
       "на покупку подержанного автомобиля        479\n",
       "автомобили                                478\n",
       "на покупку автомобиля                     472\n",
       "дополнительное образование                462\n",
       "приобретение автомобиля                   462\n",
       "сделка с автомобилем                      455\n",
       "высшее образование                        453\n",
       "образование                               447\n",
       "получение дополнительного образования     447\n",
       "получение образования                     443\n",
       "профильное образование                    436\n",
       "получение высшего образования             426\n",
       "заняться образованием                     412\n",
       "Name: purpose, dtype: int64"
      ]
     },
     "execution_count": 52,
     "metadata": {},
     "output_type": "execute_result"
    }
   ],
   "source": [
    "data['purpose'].value_counts() #проверили уникальные значения столбца с указанием цели кредита"
   ]
  },
  {
   "cell_type": "code",
   "execution_count": 53,
   "metadata": {},
   "outputs": [
    {
     "name": "stdout",
     "output_type": "stream",
     "text": [
      "71\n"
     ]
    }
   ],
   "source": [
    "print(data.duplicated().sum()) #проверили наличие дубликатов, выявили их количество"
   ]
  },
  {
   "cell_type": "code",
   "execution_count": 54,
   "metadata": {},
   "outputs": [
    {
     "data": {
      "text/html": [
       "<div>\n",
       "<style scoped>\n",
       "    .dataframe tbody tr th:only-of-type {\n",
       "        vertical-align: middle;\n",
       "    }\n",
       "\n",
       "    .dataframe tbody tr th {\n",
       "        vertical-align: top;\n",
       "    }\n",
       "\n",
       "    .dataframe thead th {\n",
       "        text-align: right;\n",
       "    }\n",
       "</style>\n",
       "<table border=\"1\" class=\"dataframe\">\n",
       "  <thead>\n",
       "    <tr style=\"text-align: right;\">\n",
       "      <th></th>\n",
       "      <th>children</th>\n",
       "      <th>days_employed</th>\n",
       "      <th>dob_years</th>\n",
       "      <th>education</th>\n",
       "      <th>education_id</th>\n",
       "      <th>family_status</th>\n",
       "      <th>family_status_id</th>\n",
       "      <th>gender</th>\n",
       "      <th>income_type</th>\n",
       "      <th>debt</th>\n",
       "      <th>total_income</th>\n",
       "      <th>purpose</th>\n",
       "    </tr>\n",
       "  </thead>\n",
       "  <tbody>\n",
       "    <tr>\n",
       "      <td>2849</td>\n",
       "      <td>0</td>\n",
       "      <td>-2326</td>\n",
       "      <td>41</td>\n",
       "      <td>среднее</td>\n",
       "      <td>1</td>\n",
       "      <td>женат / замужем</td>\n",
       "      <td>0</td>\n",
       "      <td>F</td>\n",
       "      <td>сотрудник</td>\n",
       "      <td>0</td>\n",
       "      <td>142594.396847</td>\n",
       "      <td>покупка жилья для семьи</td>\n",
       "    </tr>\n",
       "    <tr>\n",
       "      <td>3290</td>\n",
       "      <td>0</td>\n",
       "      <td>365003</td>\n",
       "      <td>58</td>\n",
       "      <td>среднее</td>\n",
       "      <td>1</td>\n",
       "      <td>гражданский брак</td>\n",
       "      <td>1</td>\n",
       "      <td>F</td>\n",
       "      <td>пенсионер</td>\n",
       "      <td>0</td>\n",
       "      <td>118514.486412</td>\n",
       "      <td>сыграть свадьбу</td>\n",
       "    </tr>\n",
       "    <tr>\n",
       "      <td>4182</td>\n",
       "      <td>1</td>\n",
       "      <td>-2326</td>\n",
       "      <td>34</td>\n",
       "      <td>высшее</td>\n",
       "      <td>0</td>\n",
       "      <td>гражданский брак</td>\n",
       "      <td>1</td>\n",
       "      <td>F</td>\n",
       "      <td>сотрудник</td>\n",
       "      <td>0</td>\n",
       "      <td>142594.396847</td>\n",
       "      <td>свадьба</td>\n",
       "    </tr>\n",
       "    <tr>\n",
       "      <td>4851</td>\n",
       "      <td>0</td>\n",
       "      <td>365003</td>\n",
       "      <td>60</td>\n",
       "      <td>среднее</td>\n",
       "      <td>1</td>\n",
       "      <td>гражданский брак</td>\n",
       "      <td>1</td>\n",
       "      <td>F</td>\n",
       "      <td>пенсионер</td>\n",
       "      <td>0</td>\n",
       "      <td>118514.486412</td>\n",
       "      <td>свадьба</td>\n",
       "    </tr>\n",
       "    <tr>\n",
       "      <td>5557</td>\n",
       "      <td>0</td>\n",
       "      <td>365003</td>\n",
       "      <td>58</td>\n",
       "      <td>среднее</td>\n",
       "      <td>1</td>\n",
       "      <td>гражданский брак</td>\n",
       "      <td>1</td>\n",
       "      <td>F</td>\n",
       "      <td>пенсионер</td>\n",
       "      <td>0</td>\n",
       "      <td>118514.486412</td>\n",
       "      <td>сыграть свадьбу</td>\n",
       "    </tr>\n",
       "    <tr>\n",
       "      <td>...</td>\n",
       "      <td>...</td>\n",
       "      <td>...</td>\n",
       "      <td>...</td>\n",
       "      <td>...</td>\n",
       "      <td>...</td>\n",
       "      <td>...</td>\n",
       "      <td>...</td>\n",
       "      <td>...</td>\n",
       "      <td>...</td>\n",
       "      <td>...</td>\n",
       "      <td>...</td>\n",
       "      <td>...</td>\n",
       "    </tr>\n",
       "    <tr>\n",
       "      <td>20702</td>\n",
       "      <td>0</td>\n",
       "      <td>365003</td>\n",
       "      <td>64</td>\n",
       "      <td>среднее</td>\n",
       "      <td>1</td>\n",
       "      <td>женат / замужем</td>\n",
       "      <td>0</td>\n",
       "      <td>F</td>\n",
       "      <td>пенсионер</td>\n",
       "      <td>0</td>\n",
       "      <td>118514.486412</td>\n",
       "      <td>дополнительное образование</td>\n",
       "    </tr>\n",
       "    <tr>\n",
       "      <td>21032</td>\n",
       "      <td>0</td>\n",
       "      <td>365003</td>\n",
       "      <td>60</td>\n",
       "      <td>среднее</td>\n",
       "      <td>1</td>\n",
       "      <td>женат / замужем</td>\n",
       "      <td>0</td>\n",
       "      <td>F</td>\n",
       "      <td>пенсионер</td>\n",
       "      <td>0</td>\n",
       "      <td>118514.486412</td>\n",
       "      <td>заняться образованием</td>\n",
       "    </tr>\n",
       "    <tr>\n",
       "      <td>21132</td>\n",
       "      <td>0</td>\n",
       "      <td>-2326</td>\n",
       "      <td>47</td>\n",
       "      <td>среднее</td>\n",
       "      <td>1</td>\n",
       "      <td>женат / замужем</td>\n",
       "      <td>0</td>\n",
       "      <td>F</td>\n",
       "      <td>сотрудник</td>\n",
       "      <td>0</td>\n",
       "      <td>142594.396847</td>\n",
       "      <td>ремонт жилью</td>\n",
       "    </tr>\n",
       "    <tr>\n",
       "      <td>21281</td>\n",
       "      <td>1</td>\n",
       "      <td>-2326</td>\n",
       "      <td>30</td>\n",
       "      <td>высшее</td>\n",
       "      <td>0</td>\n",
       "      <td>женат / замужем</td>\n",
       "      <td>0</td>\n",
       "      <td>F</td>\n",
       "      <td>сотрудник</td>\n",
       "      <td>0</td>\n",
       "      <td>142594.396847</td>\n",
       "      <td>покупка коммерческой недвижимости</td>\n",
       "    </tr>\n",
       "    <tr>\n",
       "      <td>21415</td>\n",
       "      <td>0</td>\n",
       "      <td>365003</td>\n",
       "      <td>54</td>\n",
       "      <td>среднее</td>\n",
       "      <td>1</td>\n",
       "      <td>женат / замужем</td>\n",
       "      <td>0</td>\n",
       "      <td>F</td>\n",
       "      <td>пенсионер</td>\n",
       "      <td>0</td>\n",
       "      <td>118514.486412</td>\n",
       "      <td>операции с жильем</td>\n",
       "    </tr>\n",
       "  </tbody>\n",
       "</table>\n",
       "<p>71 rows × 12 columns</p>\n",
       "</div>"
      ],
      "text/plain": [
       "       children  days_employed  dob_years education  education_id  \\\n",
       "2849          0          -2326         41   среднее             1   \n",
       "3290          0         365003         58   среднее             1   \n",
       "4182          1          -2326         34    высшее             0   \n",
       "4851          0         365003         60   среднее             1   \n",
       "5557          0         365003         58   среднее             1   \n",
       "...         ...            ...        ...       ...           ...   \n",
       "20702         0         365003         64   среднее             1   \n",
       "21032         0         365003         60   среднее             1   \n",
       "21132         0          -2326         47   среднее             1   \n",
       "21281         1          -2326         30    высшее             0   \n",
       "21415         0         365003         54   среднее             1   \n",
       "\n",
       "          family_status  family_status_id gender income_type  debt  \\\n",
       "2849    женат / замужем                 0      F   сотрудник     0   \n",
       "3290   гражданский брак                 1      F   пенсионер     0   \n",
       "4182   гражданский брак                 1      F   сотрудник     0   \n",
       "4851   гражданский брак                 1      F   пенсионер     0   \n",
       "5557   гражданский брак                 1      F   пенсионер     0   \n",
       "...                 ...               ...    ...         ...   ...   \n",
       "20702   женат / замужем                 0      F   пенсионер     0   \n",
       "21032   женат / замужем                 0      F   пенсионер     0   \n",
       "21132   женат / замужем                 0      F   сотрудник     0   \n",
       "21281   женат / замужем                 0      F   сотрудник     0   \n",
       "21415   женат / замужем                 0      F   пенсионер     0   \n",
       "\n",
       "        total_income                            purpose  \n",
       "2849   142594.396847            покупка жилья для семьи  \n",
       "3290   118514.486412                    сыграть свадьбу  \n",
       "4182   142594.396847                            свадьба  \n",
       "4851   118514.486412                            свадьба  \n",
       "5557   118514.486412                    сыграть свадьбу  \n",
       "...              ...                                ...  \n",
       "20702  118514.486412         дополнительное образование  \n",
       "21032  118514.486412              заняться образованием  \n",
       "21132  142594.396847                       ремонт жилью  \n",
       "21281  142594.396847  покупка коммерческой недвижимости  \n",
       "21415  118514.486412                  операции с жильем  \n",
       "\n",
       "[71 rows x 12 columns]"
      ]
     },
     "execution_count": 54,
     "metadata": {},
     "output_type": "execute_result"
    }
   ],
   "source": [
    "data[data.duplicated()]"
   ]
  },
  {
   "cell_type": "code",
   "execution_count": 55,
   "metadata": {},
   "outputs": [],
   "source": [
    "data=data.drop_duplicates().reset_index(drop=True) #удалили дубликаты"
   ]
  },
  {
   "cell_type": "code",
   "execution_count": 56,
   "metadata": {},
   "outputs": [
    {
     "name": "stdout",
     "output_type": "stream",
     "text": [
      "<class 'pandas.core.frame.DataFrame'>\n",
      "RangeIndex: 21454 entries, 0 to 21453\n",
      "Data columns (total 12 columns):\n",
      "children            21454 non-null int64\n",
      "days_employed       21454 non-null int64\n",
      "dob_years           21454 non-null int64\n",
      "education           21454 non-null object\n",
      "education_id        21454 non-null int64\n",
      "family_status       21454 non-null object\n",
      "family_status_id    21454 non-null int64\n",
      "gender              21454 non-null object\n",
      "income_type         21454 non-null object\n",
      "debt                21454 non-null int64\n",
      "total_income        21454 non-null float64\n",
      "purpose             21454 non-null object\n",
      "dtypes: float64(1), int64(6), object(5)\n",
      "memory usage: 2.0+ MB\n"
     ]
    }
   ],
   "source": [
    "data.info()"
   ]
  },
  {
   "cell_type": "markdown",
   "metadata": {},
   "source": [
    "**Вывод**\n",
    "При обработке в столбце с образованием были выявлены файлы с разным регистром, в связи с этим данный столбец был преобразован в нижний регистр.\n",
    "\n",
    "Также в столбце с целями для кредита были выявлены повторяющиеся цели, которые будут также обработаны\n",
    "\n",
    "В данных были выявлены строки-дубликаты, которые были удалены"
   ]
  },
  {
   "cell_type": "markdown",
   "metadata": {},
   "source": [
    "### Лемматизация"
   ]
  },
  {
   "cell_type": "code",
   "execution_count": 57,
   "metadata": {},
   "outputs": [
    {
     "data": {
      "text/plain": [
       "недвижимость    10811\n",
       "автомобиль       4306\n",
       "образование      4013\n",
       "свадьба          2324\n",
       "Name: purpose_category, dtype: int64"
      ]
     },
     "execution_count": 57,
     "metadata": {},
     "output_type": "execute_result"
    }
   ],
   "source": [
    "from pymystem3 import Mystem\n",
    "m = Mystem() \n",
    "def category_purpose(row): #создаем функцию, которая лемматизирует столбец с целями на кредит\n",
    "    lem_purpose = m.lemmatize(row['purpose'])\n",
    "    if 'автомобиль' in lem_purpose:\n",
    "        row['purpose']='автомобиль'\n",
    "        return row['purpose']\n",
    "    if ('жилье' in lem_purpose) or ('недвижимость' in lem_purpose ):\n",
    "        row['purpose']='недвижимость'\n",
    "        return row['purpose']\n",
    "    if 'свадьба' in lem_purpose:\n",
    "        row['purpose']='свадьба'\n",
    "        return row['purpose']\n",
    "    if 'образование' in lem_purpose:\n",
    "        row['purpose']='образование'\n",
    "        return row['purpose']\n",
    "    else:\n",
    "        return 'без категории'\n",
    " \n",
    "data['purpose_category'] = data.apply(category_purpose, axis=1) #создаем столбец с переименованием категорий \n",
    "data['purpose_category'].value_counts()"
   ]
  },
  {
   "cell_type": "markdown",
   "metadata": {},
   "source": [
    "**Вывод**\n",
    "Все цели кредита были разделены на 4 категории: недвижимость, автомобиль, образование и свадьба"
   ]
  },
  {
   "cell_type": "markdown",
   "metadata": {},
   "source": []
  },
  {
   "cell_type": "markdown",
   "metadata": {},
   "source": [
    "### Категоризация данных"
   ]
  },
  {
   "cell_type": "code",
   "execution_count": 58,
   "metadata": {},
   "outputs": [
    {
     "data": {
      "text/plain": [
       " 0     14091\n",
       " 1      4808\n",
       " 2      2052\n",
       " 3       330\n",
       " 20       76\n",
       "-1        47\n",
       " 4        41\n",
       " 5         9\n",
       "Name: children, dtype: int64"
      ]
     },
     "execution_count": 58,
     "metadata": {},
     "output_type": "execute_result"
    }
   ],
   "source": [
    "data['children'].value_counts() #проверили уникальные значени по количеству детей"
   ]
  },
  {
   "cell_type": "code",
   "execution_count": 59,
   "metadata": {},
   "outputs": [
    {
     "data": {
      "text/plain": [
       "76"
      ]
     },
     "execution_count": 59,
     "metadata": {},
     "output_type": "execute_result"
    }
   ],
   "source": [
    "data.loc[(data['children']==20), 'children'].count() #количество строк с аномальным значением 20\n"
   ]
  },
  {
   "cell_type": "code",
   "execution_count": 60,
   "metadata": {},
   "outputs": [
    {
     "data": {
      "text/plain": [
       "47"
      ]
     },
     "execution_count": 60,
     "metadata": {},
     "output_type": "execute_result"
    }
   ],
   "source": [
    "data.loc[(data['children']==-1), 'children'].count() #количество строк с аномальным значением -1"
   ]
  },
  {
   "cell_type": "code",
   "execution_count": 61,
   "metadata": {
    "scrolled": true
   },
   "outputs": [
    {
     "data": {
      "text/plain": [
       "0     14091\n",
       "1      4855\n",
       "2      2052\n",
       "3       330\n",
       "20       76\n",
       "4        41\n",
       "5         9\n",
       "Name: children, dtype: int64"
      ]
     },
     "execution_count": 61,
     "metadata": {},
     "output_type": "execute_result"
    }
   ],
   "source": [
    "#меняем отрицательное значение -1 на 1\n",
    "data.loc[(data['children']==-1), 'children'] = 1\n",
    "data['children'].value_counts() #проверяем уникальные значения по количеству детей\n"
   ]
  },
  {
   "cell_type": "code",
   "execution_count": 62,
   "metadata": {},
   "outputs": [
    {
     "data": {
      "text/plain": [
       "0    14091\n",
       "1     4855\n",
       "2     2128\n",
       "3      330\n",
       "4       41\n",
       "5        9\n",
       "Name: children, dtype: int64"
      ]
     },
     "execution_count": 62,
     "metadata": {},
     "output_type": "execute_result"
    }
   ],
   "source": [
    "data.loc[(data['children']==20), 'children'] = 2 #меняем большое число 20 на 2\n",
    "data['children'].value_counts()"
   ]
  },
  {
   "cell_type": "code",
   "execution_count": 63,
   "metadata": {},
   "outputs": [
    {
     "data": {
      "text/plain": [
       "0    19713\n",
       "1     1741\n",
       "Name: debt, dtype: int64"
      ]
     },
     "execution_count": 63,
     "metadata": {},
     "output_type": "execute_result"
    }
   ],
   "source": [
    "data['debt'].value_counts() #проверили уникальные значения столбца 'debt'\n"
   ]
  },
  {
   "cell_type": "code",
   "execution_count": 64,
   "metadata": {},
   "outputs": [
    {
     "name": "stdout",
     "output_type": "stream",
     "text": [
      "                 children  days_employed  dob_years  education  education_id  \\\n",
      "status_children                                                                \n",
      "1-2 детей            6983           6983       6983       6983          6983   \n",
      "многодетный           380            380        380        380           380   \n",
      "нет детей           14091          14091      14091      14091         14091   \n",
      "\n",
      "                 family_status  family_status_id  gender  income_type   debt  \\\n",
      "status_children                                                                \n",
      "1-2 детей                 6983              6983    6983         6983   6983   \n",
      "многодетный                380               380     380          380    380   \n",
      "нет детей                14091             14091   14091        14091  14091   \n",
      "\n",
      "                 total_income  purpose  purpose_category  \n",
      "status_children                                           \n",
      "1-2 детей                6983     6983              6983  \n",
      "многодетный               380      380               380  \n",
      "нет детей               14091    14091             14091  \n"
     ]
    }
   ],
   "source": [
    "def children_group(messages): #создаем функцию, которая классифицирует наличие детей на 3 группы\n",
    "    if messages==0:\n",
    "        return 'нет детей'\n",
    "    if messages>=3:\n",
    "        return 'многодетный'\n",
    "    return '1-2 детей'\n",
    " \n",
    "data['status_children']=data['children'].apply(children_group)\n",
    "data_children_grouped = data.groupby('status_children').count()\n",
    "print(data_children_grouped)\n"
   ]
  },
  {
   "cell_type": "code",
   "execution_count": 65,
   "metadata": {},
   "outputs": [
    {
     "name": "stdout",
     "output_type": "stream",
     "text": [
      "                     children  days_employed  dob_years  education  \\\n",
      "status_total_income                                                  \n",
      "1 низкий                  125            125        125        125   \n",
      "2 средний                4338           4338       4338       4338   \n",
      "3 выше среднего          7160           7160       7160       7160   \n",
      "4 высокий                4764           4764       4764       4764   \n",
      "5 очень высокий          5067           5067       5067       5067   \n",
      "\n",
      "                     education_id  family_status  family_status_id  gender  \\\n",
      "status_total_income                                                          \n",
      "1 низкий                      125            125               125     125   \n",
      "2 средний                    4338           4338              4338    4338   \n",
      "3 выше среднего              7160           7160              7160    7160   \n",
      "4 высокий                    4764           4764              4764    4764   \n",
      "5 очень высокий              5067           5067              5067    5067   \n",
      "\n",
      "                     income_type  debt  total_income  purpose  \\\n",
      "status_total_income                                             \n",
      "1 низкий                     125   125           125      125   \n",
      "2 средний                   4338  4338          4338     4338   \n",
      "3 выше среднего             7160  7160          7160     7160   \n",
      "4 высокий                   4764  4764          4764     4764   \n",
      "5 очень высокий             5067  5067          5067     5067   \n",
      "\n",
      "                     purpose_category  status_children  \n",
      "status_total_income                                     \n",
      "1 низкий                          125              125  \n",
      "2 средний                        4338             4338  \n",
      "3 выше среднего                  7160             7160  \n",
      "4 высокий                        4764             4764  \n",
      "5 очень высокий                  5067             5067  \n"
     ]
    }
   ],
   "source": [
    "def total_income_group(messages): #создаем функцию, которая классифицирует доход исходя из среднедушевого дохода за 3 квартал 2021 года(по данным статистики)\n",
    "    if messages<40000:\n",
    "        return '1 низкий'\n",
    "    if (messages>=40000) & (messages<100000):\n",
    "        return '2 средний'\n",
    "    if (messages>=100000) & (messages<150000):\n",
    "        return '3 выше среднего'\n",
    "    if (messages>=150000) & (messages<200000):\n",
    "        return '4 высокий'\n",
    "    return '5 очень высокий'\n",
    "data['status_total_income']=data['total_income'].apply(total_income_group)\n",
    "data_total_income_grouped=data.groupby('status_total_income').count()\n",
    "print(data_total_income_grouped)"
   ]
  },
  {
   "cell_type": "markdown",
   "metadata": {},
   "source": [
    "**Вывод** При категоризации данных по количеству детей были выявлены странные значения: (количество детей - отрицательное число, а также количество детей равно 20, что очень редко в нынешней ситуации).\n",
    "\n",
    "Скорее всего произошла техническая ошибка, поэтому количество детей с отрицательным значением -1 было заменено на 1, а количество детей с 20 детьми заменено на 2.\n",
    "\n",
    "Данные классифицировали следующим образом: нет детей, 1-2 ребенка, больше 3 (включительно), так как в России многодетными считаются семьи с 3 и больше детьми\n",
    "\n",
    "Ежемесячный доход классифицировали исходя из среднедушевого денежного дохода, рассчитанного Росстатом, как минимального и дальнейшей арифмитической градацией"
   ]
  },
  {
   "cell_type": "markdown",
   "metadata": {},
   "source": [
    "## Шаг 3. Ответы на вопросы"
   ]
  },
  {
   "cell_type": "markdown",
   "metadata": {},
   "source": [
    "- Есть ли зависимость между наличием детей и возвратом кредита в срок?"
   ]
  },
  {
   "cell_type": "code",
   "execution_count": 66,
   "metadata": {},
   "outputs": [
    {
     "name": "stdout",
     "output_type": "stream",
     "text": [
      "debt                 0     1   percent\n",
      "status_children                       \n",
      "1-2 детей         6336   647  9.265359\n",
      "многодетный        349    31  8.157895\n",
      "нет детей        13028  1063  7.543822\n"
     ]
    }
   ],
   "source": [
    "pivot_table_status_children_category=data.pivot_table(index='status_children', columns='debt', values='days_employed', aggfunc='count')\n",
    "pivot_table_status_children_category['percent'] = pivot_table_status_children_category[1]/(pivot_table_status_children_category[1]+ pivot_table_status_children_category[0]) * 100\n",
    "print(pivot_table_status_children_category)"
   ]
  },
  {
   "cell_type": "markdown",
   "metadata": {},
   "source": [
    "**Вывод**\n",
    "Количество клиентов, не имеющих детей и имеющих просрочки по кредитам, меньше, чем количество клиентов, имеющих детей.\n",
    "В то же время клиенты, имеющих больше 3х детей, более ответственны к погашению кредита, чем клиенты с 1 или 2 детьми. Возможно они уже готовы ко всем необходимым или внезапным тратам, связанными с детьми, подготовились к этому заранее. Семьи с 1 или 2 ребенком еще не готовы полностью оптимизировать затраты."
   ]
  },
  {
   "cell_type": "markdown",
   "metadata": {},
   "source": []
  },
  {
   "cell_type": "markdown",
   "metadata": {},
   "source": [
    "- Есть ли зависимость между семейным положением и возвратом кредита в срок?"
   ]
  },
  {
   "cell_type": "code",
   "execution_count": 67,
   "metadata": {},
   "outputs": [
    {
     "name": "stdout",
     "output_type": "stream",
     "text": [
      "debt                       0    1   percent\n",
      "family_status                              \n",
      "Не женат / не замужем   2536  274  9.750890\n",
      "в разводе               1110   85  7.112971\n",
      "вдовец / вдова           896   63  6.569343\n",
      "гражданский брак        3763  388  9.347145\n",
      "женат / замужем        11408  931  7.545182\n"
     ]
    }
   ],
   "source": [
    "pivot_table_family_status_category=data.pivot_table(index='family_status', columns='debt', values='days_employed', aggfunc='count')\n",
    "pivot_table_family_status_category['percent'] = pivot_table_family_status_category[1]/(pivot_table_family_status_category[1]+ pivot_table_family_status_category[0]) * 100\n",
    "print(pivot_table_family_status_category)"
   ]
  },
  {
   "cell_type": "markdown",
   "metadata": {},
   "source": [
    "**Вывод**\n",
    "Самыми исполнительными в погашении кредитов являются лица, которые познали супружество, либо находятся в браке на сегодня.\n",
    "\n",
    "Можно рискнуть сделать вывод, что люди, которые не несут законной ответственности перед супругом или супругой, менее ответственны и перед банком"
   ]
  },
  {
   "cell_type": "markdown",
   "metadata": {},
   "source": []
  },
  {
   "cell_type": "markdown",
   "metadata": {},
   "source": [
    "- Есть ли зависимость между уровнем дохода и возвратом кредита в срок?"
   ]
  },
  {
   "cell_type": "code",
   "execution_count": 68,
   "metadata": {},
   "outputs": [
    {
     "name": "stdout",
     "output_type": "stream",
     "text": [
      "debt                    0    1   percent\n",
      "status_total_income                     \n",
      "1 низкий              115   10  8.000000\n",
      "2 средний            3994  344  7.929922\n",
      "3 выше среднего      6536  624  8.715084\n",
      "4 высокий            4359  405  8.501259\n",
      "5 очень высокий      4709  358  7.065325\n"
     ]
    }
   ],
   "source": [
    "pivot_table_total_income_category=data.pivot_table(index='status_total_income', columns='debt', values='days_employed', aggfunc='count')\n",
    "pivot_table_total_income_category['percent'] = pivot_table_total_income_category[1]/(pivot_table_total_income_category[1]+ pivot_table_total_income_category[0]) * 100\n",
    "print(pivot_table_total_income_category)"
   ]
  },
  {
   "cell_type": "markdown",
   "metadata": {},
   "source": [
    "**Вывод**\n",
    "Самыми дисциплинированными по выплате кредита являются лица, имеющие очень высокий доход.\n",
    "Дисциплинированность остальных лиц исчисляется примерно на одном уровне"
   ]
  },
  {
   "cell_type": "markdown",
   "metadata": {},
   "source": []
  },
  {
   "cell_type": "markdown",
   "metadata": {},
   "source": [
    "- Как разные цели кредита влияют на его возврат в срок?"
   ]
  },
  {
   "cell_type": "code",
   "execution_count": 69,
   "metadata": {},
   "outputs": [
    {
     "name": "stdout",
     "output_type": "stream",
     "text": [
      "debt                  0    1   percent\n",
      "purpose_category                      \n",
      "автомобиль         3903  403  9.359034\n",
      "недвижимость      10029  782  7.233373\n",
      "образование        3643  370  9.220035\n",
      "свадьба            2138  186  8.003442\n"
     ]
    }
   ],
   "source": [
    "pivot_table_purpose_category = data.pivot_table(index='purpose_category', columns= 'debt', values='days_employed', aggfunc='count')\n",
    "pivot_table_purpose_category['percent'] = pivot_table_purpose_category[1]/(pivot_table_purpose_category[1]+ pivot_table_purpose_category[0]) * 100\n",
    "print(pivot_table_purpose_category)"
   ]
  },
  {
   "cell_type": "markdown",
   "metadata": {},
   "source": [
    "**Вывод**\n",
    "\n",
    "Существенной разницы между долей людей, имеющих задолженности по выплате кредита, в зависимости от целей этого кредита не наблюдается.\n",
    "\n",
    "Однако люди, берущие кредит на недвижимость и свадьбу, более дисциплинированы, чем кредиторы, имеющие цели приобрести автомобиль или получить образование.\n",
    "\n"
   ]
  },
  {
   "cell_type": "markdown",
   "metadata": {},
   "source": [
    "## Шаг 4. Общий вывод"
   ]
  },
  {
   "cell_type": "markdown",
   "metadata": {},
   "source": [
    "\n",
    "Для исследования влияет ли семейное положение и количество детей клиента банков на факт погашения кредита в срок был проведен анализ  входных данных от банка — статистика о платёжеспособности клиентов.\n",
    "\n",
    "1. Обработка данных.\n",
    "\n",
    "Обработка данных показала наличие незаполненных данных, дубликатных строк, а также аномальных значений(отрицательных и не подходящих по смыслу)\n",
    "\n",
    "Так как возможность прокомментировать данные значения отсутствовала, были приняты следующие решения:\n",
    "\n",
    "- заменены отрицательные или отсутствующие данные о трудовом стаже на среднее арифмитическое. Данное решение принято так как цфры не участвовали в решении задачи;\n",
    "\n",
    "- отсутсвующие данные о доходе были заменены на медианное, в соответсвии с их типом занятости\n",
    "\n",
    "2. Вывод, рекомендации заказчику.\n",
    "\n",
    "Были проверены следующие гипотезы, 2 из которых подтвердились полностью, а 2 - частично.\n",
    "\n",
    "- Есть ли зависимость между наличием детей и возвратом кредита в срок?\n",
    "  \n",
    "Семьи без детей более дисциплинированы с возвратом кредита во время.\n",
    "\n",
    "- Есть ли зависимость между семейным положением и возвратом кредита в срок?\n",
    "\n",
    "Самыми исполнительными в погашении кредитов являются лица, которые познали супружество (вдовцы, в разводе), либо находятся в браке на сегодня.\n",
    "\n",
    "- Есть ли зависимость между уровнем дохода и возвратом кредита в срок?\n",
    "\n",
    "Самыми дисциплинированными по выплате кредита являются лица, имеющие очень высокий доход. Однако данных лиц не так много, по сравнению с другими. Дисциплинированность остальных лиц исчисляется примерно на одном уровне\n",
    "\n",
    "- Как разные цели кредита влияют на его возврат в срок?\n",
    "\n",
    "\n",
    "Люди, берущие кредит на недвижимость, более дисциплинированы, чем кредиторы, имеющие цели организовать свадьбу, приобрести автомобиль или получить образование.\n",
    "\n",
    "\n",
    "**Итог** Наблюдается зависимость количества детей от выплаты кредита, а также семейного состояния и частично от цели кредита.В то же время высокой зависимости между уровнем дохода и выплатой кредита не наблюдается.\n",
    "\n",
    "На основе предложенных данных самым дисциплинированным лицом по выплате кредита является вдовец(вдова), не имеющих детей и с очень высоким уровнем дохода. Такое лицо обычно берет кредит на недвижимость или свадьбу. \n",
    "\n",
    "Высоким доверием также пользуются семейные лица, имеющие много детей. Данной категории скорее всего пригодится кредит на недвижимость, который может быть также выдан.\n",
    "\n",
    "\n",
    "\n",
    "\n"
   ]
  },
  {
   "cell_type": "code",
   "execution_count": null,
   "metadata": {},
   "outputs": [],
   "source": []
  }
 ],
 "metadata": {
  "ExecuteTimeLog": [
   {
    "duration": 838,
    "start_time": "2022-01-12T07:50:00.090Z"
   },
   {
    "duration": 79,
    "start_time": "2022-01-12T07:55:43.702Z"
   },
   {
    "duration": 70,
    "start_time": "2022-01-12T08:00:05.303Z"
   },
   {
    "duration": 72,
    "start_time": "2022-01-12T08:00:16.590Z"
   },
   {
    "duration": 77,
    "start_time": "2022-01-12T08:00:23.792Z"
   },
   {
    "duration": 71,
    "start_time": "2022-01-12T08:01:00.208Z"
   },
   {
    "duration": 7,
    "start_time": "2022-01-12T08:03:14.448Z"
   },
   {
    "duration": 8,
    "start_time": "2022-01-12T08:03:25.498Z"
   },
   {
    "duration": 12,
    "start_time": "2022-01-12T08:04:54.499Z"
   },
   {
    "duration": 21,
    "start_time": "2022-01-12T08:06:53.829Z"
   },
   {
    "duration": 32,
    "start_time": "2022-01-12T08:07:16.999Z"
   },
   {
    "duration": 79,
    "start_time": "2022-01-12T08:09:53.841Z"
   },
   {
    "duration": 19,
    "start_time": "2022-01-12T08:12:40.871Z"
   },
   {
    "duration": 35,
    "start_time": "2022-01-12T08:20:25.415Z"
   },
   {
    "duration": 73,
    "start_time": "2022-01-12T08:21:00.557Z"
   },
   {
    "duration": 41,
    "start_time": "2022-01-12T08:21:10.756Z"
   },
   {
    "duration": 600,
    "start_time": "2022-01-12T12:00:14.802Z"
   },
   {
    "duration": 11,
    "start_time": "2022-01-12T12:00:35.540Z"
   },
   {
    "duration": 10,
    "start_time": "2022-01-12T12:03:05.615Z"
   },
   {
    "duration": 10,
    "start_time": "2022-01-12T12:39:23.693Z"
   },
   {
    "duration": 10,
    "start_time": "2022-01-12T12:39:42.101Z"
   },
   {
    "duration": 11,
    "start_time": "2022-01-12T12:40:35.782Z"
   },
   {
    "duration": 8,
    "start_time": "2022-01-12T12:45:46.909Z"
   },
   {
    "duration": 10,
    "start_time": "2022-01-12T12:50:42.927Z"
   },
   {
    "duration": 11,
    "start_time": "2022-01-12T12:50:46.577Z"
   },
   {
    "duration": 24,
    "start_time": "2022-01-12T12:51:14.975Z"
   },
   {
    "duration": 18,
    "start_time": "2022-01-12T12:51:37.556Z"
   },
   {
    "duration": 17,
    "start_time": "2022-01-12T12:52:33.857Z"
   },
   {
    "duration": 5,
    "start_time": "2022-01-12T13:06:40.920Z"
   },
   {
    "duration": 7,
    "start_time": "2022-01-12T13:09:56.646Z"
   },
   {
    "duration": 8,
    "start_time": "2022-01-12T13:10:57.006Z"
   },
   {
    "duration": 11,
    "start_time": "2022-01-12T13:13:32.865Z"
   },
   {
    "duration": 129,
    "start_time": "2022-01-12T13:23:12.760Z"
   },
   {
    "duration": 7,
    "start_time": "2022-01-12T13:23:17.689Z"
   },
   {
    "duration": 9,
    "start_time": "2022-01-12T13:31:49.887Z"
   },
   {
    "duration": 889,
    "start_time": "2022-01-12T13:31:59.047Z"
   },
   {
    "duration": 10,
    "start_time": "2022-01-12T13:34:02.041Z"
   },
   {
    "duration": 760,
    "start_time": "2022-01-12T13:34:04.828Z"
   },
   {
    "duration": 9,
    "start_time": "2022-01-12T13:35:34.141Z"
   },
   {
    "duration": 970,
    "start_time": "2022-01-12T13:35:37.540Z"
   },
   {
    "duration": 9,
    "start_time": "2022-01-12T13:37:05.612Z"
   },
   {
    "duration": 672,
    "start_time": "2022-01-12T13:37:09.240Z"
   },
   {
    "duration": 616,
    "start_time": "2022-01-12T13:37:13.292Z"
   },
   {
    "duration": 655,
    "start_time": "2022-01-12T13:37:25.211Z"
   },
   {
    "duration": 642,
    "start_time": "2022-01-12T13:37:49.886Z"
   },
   {
    "duration": 10,
    "start_time": "2022-01-12T13:40:57.223Z"
   },
   {
    "duration": 631,
    "start_time": "2022-01-12T13:41:00.483Z"
   },
   {
    "duration": 9,
    "start_time": "2022-01-12T13:43:06.942Z"
   },
   {
    "duration": 665,
    "start_time": "2022-01-12T13:43:09.302Z"
   },
   {
    "duration": 118,
    "start_time": "2022-01-12T13:46:37.673Z"
   },
   {
    "duration": 146,
    "start_time": "2022-01-12T13:46:44.233Z"
   },
   {
    "duration": 133,
    "start_time": "2022-01-12T13:47:00.466Z"
   },
   {
    "duration": 7,
    "start_time": "2022-01-12T13:47:18.305Z"
   },
   {
    "duration": 1042,
    "start_time": "2022-01-12T13:47:22.703Z"
   },
   {
    "duration": 8,
    "start_time": "2022-01-12T13:47:36.823Z"
   },
   {
    "duration": 126,
    "start_time": "2022-01-12T13:47:48.739Z"
   },
   {
    "duration": 7,
    "start_time": "2022-01-12T13:48:05.349Z"
   },
   {
    "duration": 468,
    "start_time": "2022-01-12T13:48:08.460Z"
   },
   {
    "duration": 8,
    "start_time": "2022-01-12T13:49:03.351Z"
   },
   {
    "duration": 888,
    "start_time": "2022-01-12T13:49:06.077Z"
   },
   {
    "duration": 8,
    "start_time": "2022-01-12T13:49:43.771Z"
   },
   {
    "duration": 762,
    "start_time": "2022-01-12T13:49:49.781Z"
   },
   {
    "duration": 11,
    "start_time": "2022-01-12T13:50:35.864Z"
   },
   {
    "duration": 2306,
    "start_time": "2022-01-12T13:50:39.454Z"
   },
   {
    "duration": 21,
    "start_time": "2022-01-12T13:50:57.891Z"
   },
   {
    "duration": 14,
    "start_time": "2022-01-12T13:51:16.533Z"
   },
   {
    "duration": 88,
    "start_time": "2022-01-12T13:51:46.703Z"
   },
   {
    "duration": 15,
    "start_time": "2022-01-12T13:51:53.911Z"
   },
   {
    "duration": 36,
    "start_time": "2022-01-12T13:52:06.021Z"
   },
   {
    "duration": 11,
    "start_time": "2022-01-12T13:52:15.087Z"
   },
   {
    "duration": 7,
    "start_time": "2022-01-12T13:52:22.551Z"
   },
   {
    "duration": 823,
    "start_time": "2022-01-12T13:52:31.672Z"
   },
   {
    "duration": 7,
    "start_time": "2022-01-12T13:52:44.597Z"
   },
   {
    "duration": 680,
    "start_time": "2022-01-12T13:52:47.081Z"
   },
   {
    "duration": 138,
    "start_time": "2022-01-12T13:53:26.020Z"
   },
   {
    "duration": 10,
    "start_time": "2022-01-12T13:53:56.691Z"
   },
   {
    "duration": 648,
    "start_time": "2022-01-12T13:54:00.113Z"
   },
   {
    "duration": 188,
    "start_time": "2022-01-12T13:54:55.541Z"
   },
   {
    "duration": 147,
    "start_time": "2022-01-12T13:55:11.913Z"
   },
   {
    "duration": 7,
    "start_time": "2022-01-12T13:55:38.560Z"
   },
   {
    "duration": 679,
    "start_time": "2022-01-12T13:55:48.580Z"
   },
   {
    "duration": 8,
    "start_time": "2022-01-12T13:55:52.789Z"
   },
   {
    "duration": 654,
    "start_time": "2022-01-12T13:55:57.043Z"
   },
   {
    "duration": 8,
    "start_time": "2022-01-12T13:56:20.375Z"
   },
   {
    "duration": 1092,
    "start_time": "2022-01-12T13:56:23.251Z"
   },
   {
    "duration": 80,
    "start_time": "2022-01-12T14:00:20.741Z"
   },
   {
    "duration": 8,
    "start_time": "2022-01-12T14:05:48.919Z"
   },
   {
    "duration": 717,
    "start_time": "2022-01-12T14:05:52.129Z"
   },
   {
    "duration": 11,
    "start_time": "2022-01-12T14:07:33.477Z"
   },
   {
    "duration": 801,
    "start_time": "2022-01-12T14:07:37.018Z"
   },
   {
    "duration": 745,
    "start_time": "2022-01-12T14:08:43.677Z"
   },
   {
    "duration": 8,
    "start_time": "2022-01-12T14:10:24.577Z"
   },
   {
    "duration": 9,
    "start_time": "2022-01-12T14:10:32.578Z"
   },
   {
    "duration": 608,
    "start_time": "2022-01-12T14:10:35.137Z"
   },
   {
    "duration": 631,
    "start_time": "2022-01-12T14:10:38.334Z"
   },
   {
    "duration": 10,
    "start_time": "2022-01-12T14:10:56.316Z"
   },
   {
    "duration": 824,
    "start_time": "2022-01-12T14:10:58.637Z"
   },
   {
    "duration": 11,
    "start_time": "2022-01-12T14:11:11.154Z"
   },
   {
    "duration": 699,
    "start_time": "2022-01-12T14:11:13.734Z"
   },
   {
    "duration": 16,
    "start_time": "2022-01-12T14:12:09.347Z"
   },
   {
    "duration": 25,
    "start_time": "2022-01-12T14:12:16.406Z"
   },
   {
    "duration": 16,
    "start_time": "2022-01-12T14:12:37.413Z"
   },
   {
    "duration": 124,
    "start_time": "2022-01-12T14:13:17.784Z"
   },
   {
    "duration": 11,
    "start_time": "2022-01-12T14:13:23.733Z"
   },
   {
    "duration": 642,
    "start_time": "2022-01-12T14:13:26.150Z"
   },
   {
    "duration": 123,
    "start_time": "2022-01-12T14:14:27.995Z"
   },
   {
    "duration": 799,
    "start_time": "2022-01-12T14:14:30.875Z"
   },
   {
    "duration": 137,
    "start_time": "2022-01-12T14:14:39.604Z"
   },
   {
    "duration": 636,
    "start_time": "2022-01-12T14:14:42.890Z"
   },
   {
    "duration": 128,
    "start_time": "2022-01-12T14:15:09.112Z"
   },
   {
    "duration": 8,
    "start_time": "2022-01-12T14:15:31.353Z"
   },
   {
    "duration": 616,
    "start_time": "2022-01-12T14:15:35.028Z"
   },
   {
    "duration": 207,
    "start_time": "2022-01-12T14:15:54.437Z"
   },
   {
    "duration": 12,
    "start_time": "2022-01-12T14:15:55.404Z"
   },
   {
    "duration": 193,
    "start_time": "2022-01-12T14:16:02.840Z"
   },
   {
    "duration": 671,
    "start_time": "2022-01-12T14:16:06.792Z"
   },
   {
    "duration": 8,
    "start_time": "2022-01-12T14:19:30.324Z"
   },
   {
    "duration": 720,
    "start_time": "2022-01-12T14:19:33.263Z"
   },
   {
    "duration": 6,
    "start_time": "2022-01-12T14:22:04.362Z"
   },
   {
    "duration": 18,
    "start_time": "2022-01-12T14:22:13.632Z"
   },
   {
    "duration": 5,
    "start_time": "2022-01-12T14:23:23.050Z"
   },
   {
    "duration": 16,
    "start_time": "2022-01-12T14:23:32.297Z"
   },
   {
    "duration": 11,
    "start_time": "2022-01-12T14:27:37.191Z"
   },
   {
    "duration": 15,
    "start_time": "2022-01-12T14:30:44.744Z"
   },
   {
    "duration": 25,
    "start_time": "2022-01-12T14:30:54.645Z"
   },
   {
    "duration": 9,
    "start_time": "2022-01-12T14:33:01.165Z"
   },
   {
    "duration": 10,
    "start_time": "2022-01-12T14:33:41.124Z"
   },
   {
    "duration": 11,
    "start_time": "2022-01-12T14:34:19.925Z"
   },
   {
    "duration": 9,
    "start_time": "2022-01-12T14:36:04.694Z"
   },
   {
    "duration": 11,
    "start_time": "2022-01-12T14:36:22.915Z"
   },
   {
    "duration": 24,
    "start_time": "2022-01-12T14:43:03.105Z"
   },
   {
    "duration": 21,
    "start_time": "2022-01-12T14:43:17.985Z"
   },
   {
    "duration": 22,
    "start_time": "2022-01-12T14:43:24.535Z"
   },
   {
    "duration": 24,
    "start_time": "2022-01-12T14:45:16.097Z"
   },
   {
    "duration": 22,
    "start_time": "2022-01-12T14:46:13.995Z"
   },
   {
    "duration": 11,
    "start_time": "2022-01-12T14:46:16.135Z"
   },
   {
    "duration": 26,
    "start_time": "2022-01-12T14:46:22.685Z"
   },
   {
    "duration": 683,
    "start_time": "2022-01-12T14:47:00.153Z"
   },
   {
    "duration": 55,
    "start_time": "2022-01-12T14:47:08.292Z"
   },
   {
    "duration": 50,
    "start_time": "2022-01-12T14:48:13.249Z"
   },
   {
    "duration": 11,
    "start_time": "2022-01-12T14:48:23.410Z"
   },
   {
    "duration": 29,
    "start_time": "2022-01-12T14:48:25.798Z"
   },
   {
    "duration": 11,
    "start_time": "2022-01-12T14:48:32.422Z"
   },
   {
    "duration": 11,
    "start_time": "2022-01-12T14:48:34.560Z"
   },
   {
    "duration": 11,
    "start_time": "2022-01-12T14:48:37.299Z"
   },
   {
    "duration": 84,
    "start_time": "2022-01-12T15:23:46.991Z"
   },
   {
    "duration": 15,
    "start_time": "2022-01-12T15:23:50.610Z"
   },
   {
    "duration": 35,
    "start_time": "2022-01-12T15:23:54.609Z"
   },
   {
    "duration": 11,
    "start_time": "2022-01-12T15:23:58.200Z"
   },
   {
    "duration": 8,
    "start_time": "2022-01-12T15:24:28.370Z"
   },
   {
    "duration": 689,
    "start_time": "2022-01-12T15:24:31.291Z"
   },
   {
    "duration": 18,
    "start_time": "2022-01-12T15:24:35.712Z"
   },
   {
    "duration": 16,
    "start_time": "2022-01-12T15:24:39.662Z"
   },
   {
    "duration": 19,
    "start_time": "2022-01-12T15:25:31.999Z"
   },
   {
    "duration": 16,
    "start_time": "2022-01-12T15:25:46.012Z"
   },
   {
    "duration": 23,
    "start_time": "2022-01-12T15:25:49.341Z"
   },
   {
    "duration": 47,
    "start_time": "2022-01-12T15:25:52.772Z"
   },
   {
    "duration": 10,
    "start_time": "2022-01-12T15:25:56.782Z"
   },
   {
    "duration": 23,
    "start_time": "2022-01-12T15:26:01.603Z"
   },
   {
    "duration": 10,
    "start_time": "2022-01-12T15:26:04.470Z"
   },
   {
    "duration": 11,
    "start_time": "2022-01-12T15:26:06.532Z"
   },
   {
    "duration": 10,
    "start_time": "2022-01-12T15:26:11.452Z"
   },
   {
    "duration": 375,
    "start_time": "2022-01-12T16:49:20.459Z"
   },
   {
    "duration": 6542,
    "start_time": "2022-01-12T16:49:39.877Z"
   },
   {
    "duration": 6551,
    "start_time": "2022-01-12T16:50:00.069Z"
   },
   {
    "duration": 6948,
    "start_time": "2022-01-12T16:51:02.767Z"
   },
   {
    "duration": 11080,
    "start_time": "2022-01-12T16:54:02.138Z"
   },
   {
    "duration": 6827,
    "start_time": "2022-01-12T16:54:33.710Z"
   },
   {
    "duration": 7142,
    "start_time": "2022-01-12T16:54:54.056Z"
   },
   {
    "duration": 7086,
    "start_time": "2022-01-12T16:55:20.887Z"
   },
   {
    "duration": 7834,
    "start_time": "2022-01-12T16:56:34.877Z"
   },
   {
    "duration": 7487,
    "start_time": "2022-01-12T16:57:10.936Z"
   },
   {
    "duration": 7061,
    "start_time": "2022-01-12T16:57:20.288Z"
   },
   {
    "duration": 7970,
    "start_time": "2022-01-12T16:57:44.695Z"
   },
   {
    "duration": 7881,
    "start_time": "2022-01-12T16:58:00.325Z"
   },
   {
    "duration": 8,
    "start_time": "2022-01-12T17:03:37.545Z"
   },
   {
    "duration": 613,
    "start_time": "2022-01-12T17:03:41.076Z"
   },
   {
    "duration": 8,
    "start_time": "2022-01-12T17:04:02.043Z"
   },
   {
    "duration": 626,
    "start_time": "2022-01-12T17:04:04.822Z"
   },
   {
    "duration": 8,
    "start_time": "2022-01-12T17:04:27.354Z"
   },
   {
    "duration": 1158,
    "start_time": "2022-01-12T17:04:30.715Z"
   },
   {
    "duration": 135,
    "start_time": "2022-01-12T17:04:51.614Z"
   },
   {
    "duration": 121,
    "start_time": "2022-01-12T17:04:55.574Z"
   },
   {
    "duration": 12,
    "start_time": "2022-01-12T17:05:05.016Z"
   },
   {
    "duration": 1241,
    "start_time": "2022-01-12T17:05:09.943Z"
   },
   {
    "duration": 644,
    "start_time": "2022-01-13T09:14:06.429Z"
   },
   {
    "duration": 12,
    "start_time": "2022-01-13T09:14:19.830Z"
   },
   {
    "duration": 23,
    "start_time": "2022-01-13T09:14:26.269Z"
   },
   {
    "duration": 6,
    "start_time": "2022-01-13T09:14:31.749Z"
   },
   {
    "duration": 384,
    "start_time": "2022-01-13T09:14:35.551Z"
   },
   {
    "duration": 5,
    "start_time": "2022-01-13T09:14:47.529Z"
   },
   {
    "duration": 648,
    "start_time": "2022-01-13T09:14:50.311Z"
   },
   {
    "duration": 6,
    "start_time": "2022-01-13T09:15:03.729Z"
   },
   {
    "duration": 373,
    "start_time": "2022-01-13T09:15:06.268Z"
   },
   {
    "duration": 403,
    "start_time": "2022-01-13T09:17:30.879Z"
   },
   {
    "duration": 6,
    "start_time": "2022-01-13T09:17:50.558Z"
   },
   {
    "duration": 544,
    "start_time": "2022-01-13T09:17:54.350Z"
   },
   {
    "duration": 7,
    "start_time": "2022-01-13T09:18:01.492Z"
   },
   {
    "duration": 401,
    "start_time": "2022-01-13T09:18:05.699Z"
   },
   {
    "duration": 5,
    "start_time": "2022-01-13T09:18:28.289Z"
   },
   {
    "duration": 3761,
    "start_time": "2022-01-13T09:18:31.550Z"
   },
   {
    "duration": 403,
    "start_time": "2022-01-13T09:18:42.800Z"
   },
   {
    "duration": 5,
    "start_time": "2022-01-13T09:18:47.140Z"
   },
   {
    "duration": 6,
    "start_time": "2022-01-13T09:18:55.740Z"
   },
   {
    "duration": 398,
    "start_time": "2022-01-13T09:19:02.481Z"
   },
   {
    "duration": 13,
    "start_time": "2022-01-13T09:19:09.300Z"
   },
   {
    "duration": 13,
    "start_time": "2022-01-13T09:19:14.469Z"
   },
   {
    "duration": 14,
    "start_time": "2022-01-13T09:19:17.890Z"
   },
   {
    "duration": 393,
    "start_time": "2022-01-13T09:19:31.660Z"
   },
   {
    "duration": 13,
    "start_time": "2022-01-13T09:19:35.290Z"
   },
   {
    "duration": 12,
    "start_time": "2022-01-13T09:19:38.081Z"
   },
   {
    "duration": 13,
    "start_time": "2022-01-13T09:19:41.190Z"
   },
   {
    "duration": 5,
    "start_time": "2022-01-13T09:19:51.290Z"
   },
   {
    "duration": 396,
    "start_time": "2022-01-13T09:19:54.422Z"
   },
   {
    "duration": 13,
    "start_time": "2022-01-13T09:20:02.018Z"
   },
   {
    "duration": 394,
    "start_time": "2022-01-13T09:20:08.370Z"
   },
   {
    "duration": 94,
    "start_time": "2022-01-13T09:20:20.139Z"
   },
   {
    "duration": 11,
    "start_time": "2022-01-13T09:20:27.452Z"
   },
   {
    "duration": 23,
    "start_time": "2022-01-13T09:20:30.739Z"
   },
   {
    "duration": 7,
    "start_time": "2022-01-13T09:20:34.683Z"
   },
   {
    "duration": 6,
    "start_time": "2022-01-13T09:20:40.640Z"
   },
   {
    "duration": 397,
    "start_time": "2022-01-13T09:20:44.940Z"
   },
   {
    "duration": 13,
    "start_time": "2022-01-13T09:20:51.154Z"
   },
   {
    "duration": 12,
    "start_time": "2022-01-13T09:20:57.960Z"
   },
   {
    "duration": 13,
    "start_time": "2022-01-13T09:21:02.082Z"
   },
   {
    "duration": 15,
    "start_time": "2022-01-13T09:21:10.671Z"
   },
   {
    "duration": 34,
    "start_time": "2022-01-13T09:21:14.300Z"
   },
   {
    "duration": 7,
    "start_time": "2022-01-13T09:21:20.580Z"
   },
   {
    "duration": 17,
    "start_time": "2022-01-13T09:21:23.500Z"
   },
   {
    "duration": 8,
    "start_time": "2022-01-13T09:21:27.272Z"
   },
   {
    "duration": 8,
    "start_time": "2022-01-13T09:21:30.339Z"
   },
   {
    "duration": 4728,
    "start_time": "2022-01-13T09:21:54.140Z"
   },
   {
    "duration": 21,
    "start_time": "2022-01-13T09:25:47.591Z"
   },
   {
    "duration": 17,
    "start_time": "2022-01-13T09:25:50.492Z"
   },
   {
    "duration": 67,
    "start_time": "2022-01-13T09:25:57.732Z"
   },
   {
    "duration": 12,
    "start_time": "2022-01-13T09:26:07.600Z"
   },
   {
    "duration": 64,
    "start_time": "2022-01-13T09:26:16.453Z"
   },
   {
    "duration": 12,
    "start_time": "2022-01-13T09:26:16.519Z"
   },
   {
    "duration": 22,
    "start_time": "2022-01-13T09:26:16.534Z"
   },
   {
    "duration": 7,
    "start_time": "2022-01-13T09:26:16.558Z"
   },
   {
    "duration": 32,
    "start_time": "2022-01-13T09:26:16.567Z"
   },
   {
    "duration": 406,
    "start_time": "2022-01-13T09:26:16.601Z"
   },
   {
    "duration": 13,
    "start_time": "2022-01-13T09:26:17.009Z"
   },
   {
    "duration": 11,
    "start_time": "2022-01-13T09:26:17.024Z"
   },
   {
    "duration": 13,
    "start_time": "2022-01-13T09:26:17.037Z"
   },
   {
    "duration": 15,
    "start_time": "2022-01-13T09:26:17.052Z"
   },
   {
    "duration": 34,
    "start_time": "2022-01-13T09:26:17.097Z"
   },
   {
    "duration": 6,
    "start_time": "2022-01-13T09:26:17.133Z"
   },
   {
    "duration": 23,
    "start_time": "2022-01-13T09:26:17.141Z"
   },
   {
    "duration": 33,
    "start_time": "2022-01-13T09:26:17.166Z"
   },
   {
    "duration": 12,
    "start_time": "2022-01-13T09:26:17.201Z"
   },
   {
    "duration": 15,
    "start_time": "2022-01-13T09:26:17.215Z"
   },
   {
    "duration": 5547,
    "start_time": "2022-01-13T09:26:17.232Z"
   },
   {
    "duration": 22,
    "start_time": "2022-01-13T09:39:10.258Z"
   },
   {
    "duration": 102,
    "start_time": "2022-01-13T09:39:51.468Z"
   },
   {
    "duration": 327,
    "start_time": "2022-01-13T09:39:55.971Z"
   },
   {
    "duration": 19,
    "start_time": "2022-01-13T09:40:16.398Z"
   },
   {
    "duration": 6,
    "start_time": "2022-01-13T09:43:19.379Z"
   },
   {
    "duration": 588,
    "start_time": "2022-01-13T09:43:21.860Z"
   },
   {
    "duration": 6,
    "start_time": "2022-01-13T09:43:30.089Z"
   },
   {
    "duration": 6,
    "start_time": "2022-01-13T09:43:38.979Z"
   },
   {
    "duration": 390,
    "start_time": "2022-01-13T09:43:41.903Z"
   },
   {
    "duration": 6,
    "start_time": "2022-01-13T09:45:08.438Z"
   },
   {
    "duration": 390,
    "start_time": "2022-01-13T09:45:10.978Z"
   },
   {
    "duration": 6,
    "start_time": "2022-01-13T09:45:18.657Z"
   },
   {
    "duration": 410,
    "start_time": "2022-01-13T09:45:22.408Z"
   },
   {
    "duration": 6,
    "start_time": "2022-01-13T09:46:21.009Z"
   },
   {
    "duration": 552,
    "start_time": "2022-01-13T09:46:23.298Z"
   },
   {
    "duration": 8,
    "start_time": "2022-01-13T09:46:37.178Z"
   },
   {
    "duration": 566,
    "start_time": "2022-01-13T09:46:40.570Z"
   },
   {
    "duration": 6,
    "start_time": "2022-01-13T09:46:51.238Z"
   },
   {
    "duration": 547,
    "start_time": "2022-01-13T09:46:53.726Z"
   },
   {
    "duration": 15,
    "start_time": "2022-01-13T09:47:16.567Z"
   },
   {
    "duration": 405,
    "start_time": "2022-01-13T09:47:19.298Z"
   },
   {
    "duration": 3,
    "start_time": "2022-01-13T09:51:39.177Z"
   },
   {
    "duration": 5,
    "start_time": "2022-01-13T09:51:46.130Z"
   },
   {
    "duration": 478,
    "start_time": "2022-01-13T09:51:49.025Z"
   },
   {
    "duration": 15,
    "start_time": "2022-01-13T09:52:54.749Z"
   },
   {
    "duration": 14,
    "start_time": "2022-01-13T09:52:56.937Z"
   },
   {
    "duration": 14,
    "start_time": "2022-01-13T09:53:31.857Z"
   },
   {
    "duration": 20,
    "start_time": "2022-01-13T09:54:43.698Z"
   },
   {
    "duration": 19,
    "start_time": "2022-01-13T09:55:40.859Z"
   },
   {
    "duration": 36,
    "start_time": "2022-01-13T09:55:56.938Z"
   },
   {
    "duration": 8,
    "start_time": "2022-01-13T09:56:01.538Z"
   },
   {
    "duration": 18,
    "start_time": "2022-01-13T09:56:06.697Z"
   },
   {
    "duration": 7,
    "start_time": "2022-01-13T09:56:10.250Z"
   },
   {
    "duration": 9,
    "start_time": "2022-01-13T09:56:13.257Z"
   },
   {
    "duration": 8,
    "start_time": "2022-01-13T09:56:16.577Z"
   },
   {
    "duration": 7,
    "start_time": "2022-01-13T09:58:48.505Z"
   },
   {
    "duration": 364,
    "start_time": "2022-01-13T10:10:14.857Z"
   },
   {
    "duration": 791,
    "start_time": "2022-01-13T10:10:41.249Z"
   },
   {
    "duration": 302,
    "start_time": "2022-01-13T10:10:47.758Z"
   },
   {
    "duration": 878,
    "start_time": "2022-01-13T10:11:34.309Z"
   },
   {
    "duration": 289,
    "start_time": "2022-01-13T10:11:48.657Z"
   },
   {
    "duration": 15,
    "start_time": "2022-01-13T10:17:26.577Z"
   },
   {
    "duration": 18,
    "start_time": "2022-01-13T10:17:40.777Z"
   },
   {
    "duration": 29,
    "start_time": "2022-01-13T10:17:58.817Z"
   },
   {
    "duration": 19,
    "start_time": "2022-01-13T10:20:30.857Z"
   },
   {
    "duration": 16,
    "start_time": "2022-01-13T10:20:44.385Z"
   },
   {
    "duration": -459,
    "start_time": "2022-01-13T10:25:03.192Z"
   },
   {
    "duration": 6887,
    "start_time": "2022-01-13T10:25:35.577Z"
   },
   {
    "duration": 6720,
    "start_time": "2022-01-13T10:29:58.979Z"
   },
   {
    "duration": 24,
    "start_time": "2022-01-13T10:33:11.617Z"
   },
   {
    "duration": 22,
    "start_time": "2022-01-13T10:33:24.629Z"
   },
   {
    "duration": 14,
    "start_time": "2022-01-13T10:34:04.137Z"
   },
   {
    "duration": 15,
    "start_time": "2022-01-13T10:34:21.378Z"
   },
   {
    "duration": 23,
    "start_time": "2022-01-13T10:34:26.537Z"
   },
   {
    "duration": 15,
    "start_time": "2022-01-13T10:34:30.819Z"
   },
   {
    "duration": 19,
    "start_time": "2022-01-13T10:34:37.217Z"
   },
   {
    "duration": 46053,
    "start_time": "2022-01-13T10:35:00.938Z"
   },
   {
    "duration": 17,
    "start_time": "2022-01-13T10:38:46.938Z"
   },
   {
    "duration": 7,
    "start_time": "2022-01-13T10:41:43.578Z"
   },
   {
    "duration": 14,
    "start_time": "2022-01-13T10:42:01.616Z"
   },
   {
    "duration": 20,
    "start_time": "2022-01-13T10:43:00.237Z"
   },
   {
    "duration": 308,
    "start_time": "2022-01-13T10:43:18.317Z"
   },
   {
    "duration": 22,
    "start_time": "2022-01-13T10:43:25.369Z"
   },
   {
    "duration": 19,
    "start_time": "2022-01-13T10:44:40.497Z"
   },
   {
    "duration": 22,
    "start_time": "2022-01-13T10:46:28.297Z"
   },
   {
    "duration": 29,
    "start_time": "2022-01-13T11:27:47.779Z"
   },
   {
    "duration": 28,
    "start_time": "2022-01-13T11:29:01.119Z"
   },
   {
    "duration": 26,
    "start_time": "2022-01-13T11:29:20.538Z"
   },
   {
    "duration": 30,
    "start_time": "2022-01-13T11:36:12.499Z"
   },
   {
    "duration": 30,
    "start_time": "2022-01-13T11:37:05.230Z"
   },
   {
    "duration": 20,
    "start_time": "2022-01-13T11:41:29.667Z"
   },
   {
    "duration": 23,
    "start_time": "2022-01-13T11:41:42.731Z"
   },
   {
    "duration": 30,
    "start_time": "2022-01-13T11:41:45.218Z"
   },
   {
    "duration": 20,
    "start_time": "2022-01-13T11:49:16.738Z"
   },
   {
    "duration": 84,
    "start_time": "2022-01-13T11:49:41.059Z"
   },
   {
    "duration": 19,
    "start_time": "2022-01-13T11:50:05.898Z"
   },
   {
    "duration": 20,
    "start_time": "2022-01-13T11:50:31.498Z"
   },
   {
    "duration": 267,
    "start_time": "2022-01-13T11:54:41.059Z"
   },
   {
    "duration": 5,
    "start_time": "2022-01-13T11:54:48.811Z"
   },
   {
    "duration": 17,
    "start_time": "2022-01-13T11:56:17.299Z"
   },
   {
    "duration": 21,
    "start_time": "2022-01-13T11:56:31.350Z"
   },
   {
    "duration": 21,
    "start_time": "2022-01-13T11:56:39.499Z"
   },
   {
    "duration": 1341,
    "start_time": "2022-01-13T11:57:13.550Z"
   },
   {
    "duration": 73,
    "start_time": "2022-01-13T11:57:31.827Z"
   },
   {
    "duration": 13,
    "start_time": "2022-01-13T11:57:31.902Z"
   },
   {
    "duration": 25,
    "start_time": "2022-01-13T11:57:31.918Z"
   },
   {
    "duration": 9,
    "start_time": "2022-01-13T11:57:31.946Z"
   },
   {
    "duration": 4,
    "start_time": "2022-01-13T11:57:31.957Z"
   },
   {
    "duration": 41,
    "start_time": "2022-01-13T11:57:31.962Z"
   },
   {
    "duration": 502,
    "start_time": "2022-01-13T11:57:32.005Z"
   },
   {
    "duration": 13,
    "start_time": "2022-01-13T11:57:32.509Z"
   },
   {
    "duration": 13,
    "start_time": "2022-01-13T11:57:32.525Z"
   },
   {
    "duration": 14,
    "start_time": "2022-01-13T11:57:32.541Z"
   },
   {
    "duration": 44,
    "start_time": "2022-01-13T11:57:32.557Z"
   },
   {
    "duration": 33,
    "start_time": "2022-01-13T11:57:32.603Z"
   },
   {
    "duration": 9,
    "start_time": "2022-01-13T11:57:32.638Z"
   },
   {
    "duration": 19,
    "start_time": "2022-01-13T11:57:32.648Z"
   },
   {
    "duration": 34,
    "start_time": "2022-01-13T11:57:32.669Z"
   },
   {
    "duration": 11,
    "start_time": "2022-01-13T11:57:32.704Z"
   },
   {
    "duration": 13,
    "start_time": "2022-01-13T11:57:32.716Z"
   },
   {
    "duration": 26,
    "start_time": "2022-01-13T11:57:32.731Z"
   },
   {
    "duration": 8,
    "start_time": "2022-01-13T11:57:32.759Z"
   },
   {
    "duration": 4995,
    "start_time": "2022-01-13T11:57:32.768Z"
   },
   {
    "duration": 6,
    "start_time": "2022-01-13T11:57:37.765Z"
   },
   {
    "duration": 52,
    "start_time": "2022-01-13T11:57:37.773Z"
   },
   {
    "duration": 24,
    "start_time": "2022-01-13T11:57:37.827Z"
   },
   {
    "duration": 49,
    "start_time": "2022-01-13T11:57:37.853Z"
   },
   {
    "duration": 20,
    "start_time": "2022-01-13T11:57:37.904Z"
   },
   {
    "duration": 63,
    "start_time": "2022-01-13T11:57:59.139Z"
   },
   {
    "duration": 11,
    "start_time": "2022-01-13T11:58:07.767Z"
   },
   {
    "duration": 22,
    "start_time": "2022-01-13T11:58:15.899Z"
   },
   {
    "duration": 8,
    "start_time": "2022-01-13T11:58:19.751Z"
   },
   {
    "duration": 4,
    "start_time": "2022-01-13T11:58:23.439Z"
   },
   {
    "duration": 6,
    "start_time": "2022-01-13T11:58:28.179Z"
   },
   {
    "duration": 480,
    "start_time": "2022-01-13T11:58:32.800Z"
   },
   {
    "duration": 13,
    "start_time": "2022-01-13T11:58:42.071Z"
   },
   {
    "duration": 12,
    "start_time": "2022-01-13T11:58:45.039Z"
   },
   {
    "duration": 14,
    "start_time": "2022-01-13T11:58:50.571Z"
   },
   {
    "duration": 17,
    "start_time": "2022-01-13T11:58:56.971Z"
   },
   {
    "duration": 35,
    "start_time": "2022-01-13T11:59:00.101Z"
   },
   {
    "duration": 8,
    "start_time": "2022-01-13T11:59:04.659Z"
   },
   {
    "duration": 20,
    "start_time": "2022-01-13T11:59:07.770Z"
   },
   {
    "duration": 9,
    "start_time": "2022-01-13T11:59:11.019Z"
   },
   {
    "duration": 9,
    "start_time": "2022-01-13T11:59:14.498Z"
   },
   {
    "duration": 7,
    "start_time": "2022-01-13T11:59:17.897Z"
   },
   {
    "duration": 21,
    "start_time": "2022-01-13T11:59:21.078Z"
   },
   {
    "duration": 9,
    "start_time": "2022-01-13T11:59:25.099Z"
   },
   {
    "duration": 4954,
    "start_time": "2022-01-13T11:59:28.819Z"
   },
   {
    "duration": 8,
    "start_time": "2022-01-13T11:59:41.250Z"
   },
   {
    "duration": 31,
    "start_time": "2022-01-13T11:59:44.319Z"
   },
   {
    "duration": 29,
    "start_time": "2022-01-13T11:59:52.051Z"
   },
   {
    "duration": 24,
    "start_time": "2022-01-13T11:59:58.508Z"
   },
   {
    "duration": 34,
    "start_time": "2022-01-13T12:00:05.739Z"
   },
   {
    "duration": 19,
    "start_time": "2022-01-13T12:00:12.061Z"
   },
   {
    "duration": 6,
    "start_time": "2022-01-13T12:01:04.860Z"
   },
   {
    "duration": 20,
    "start_time": "2022-01-13T12:01:08.279Z"
   },
   {
    "duration": 20,
    "start_time": "2022-01-13T12:01:20.211Z"
   },
   {
    "duration": 10,
    "start_time": "2022-01-13T12:08:14.979Z"
   },
   {
    "duration": 64,
    "start_time": "2022-01-13T12:10:15.020Z"
   },
   {
    "duration": 12,
    "start_time": "2022-01-13T12:10:15.086Z"
   },
   {
    "duration": 25,
    "start_time": "2022-01-13T12:10:15.100Z"
   },
   {
    "duration": 10,
    "start_time": "2022-01-13T12:10:15.128Z"
   },
   {
    "duration": 5,
    "start_time": "2022-01-13T12:10:15.140Z"
   },
   {
    "duration": 9,
    "start_time": "2022-01-13T12:10:15.147Z"
   },
   {
    "duration": 592,
    "start_time": "2022-01-13T12:10:15.158Z"
   },
   {
    "duration": 13,
    "start_time": "2022-01-13T12:10:15.752Z"
   },
   {
    "duration": 12,
    "start_time": "2022-01-13T12:10:15.768Z"
   },
   {
    "duration": 13,
    "start_time": "2022-01-13T12:10:15.799Z"
   },
   {
    "duration": 15,
    "start_time": "2022-01-13T12:10:15.813Z"
   },
   {
    "duration": 34,
    "start_time": "2022-01-13T12:10:15.830Z"
   },
   {
    "duration": 38,
    "start_time": "2022-01-13T12:10:15.866Z"
   },
   {
    "duration": 21,
    "start_time": "2022-01-13T12:10:15.906Z"
   },
   {
    "duration": 11,
    "start_time": "2022-01-13T12:10:15.929Z"
   },
   {
    "duration": 9,
    "start_time": "2022-01-13T12:10:15.942Z"
   },
   {
    "duration": 8,
    "start_time": "2022-01-13T12:10:15.953Z"
   },
   {
    "duration": 56,
    "start_time": "2022-01-13T12:10:15.962Z"
   },
   {
    "duration": 11,
    "start_time": "2022-01-13T12:10:16.020Z"
   },
   {
    "duration": 5892,
    "start_time": "2022-01-13T12:10:16.033Z"
   },
   {
    "duration": 6,
    "start_time": "2022-01-13T12:10:21.926Z"
   },
   {
    "duration": 34,
    "start_time": "2022-01-13T12:10:21.934Z"
   },
   {
    "duration": 48,
    "start_time": "2022-01-13T12:10:21.970Z"
   },
   {
    "duration": 35,
    "start_time": "2022-01-13T12:10:22.020Z"
   },
   {
    "duration": 43,
    "start_time": "2022-01-13T12:10:22.057Z"
   },
   {
    "duration": 61,
    "start_time": "2022-01-13T12:10:34.211Z"
   },
   {
    "duration": 13,
    "start_time": "2022-01-13T12:10:38.871Z"
   },
   {
    "duration": 23,
    "start_time": "2022-01-13T12:10:43.451Z"
   },
   {
    "duration": 8,
    "start_time": "2022-01-13T12:10:47.959Z"
   },
   {
    "duration": 4,
    "start_time": "2022-01-13T12:10:52.321Z"
   },
   {
    "duration": 6,
    "start_time": "2022-01-13T12:10:56.625Z"
   },
   {
    "duration": 479,
    "start_time": "2022-01-13T12:10:59.799Z"
   },
   {
    "duration": 13,
    "start_time": "2022-01-13T12:11:03.647Z"
   },
   {
    "duration": 13,
    "start_time": "2022-01-13T12:11:07.411Z"
   },
   {
    "duration": 14,
    "start_time": "2022-01-13T12:11:12.599Z"
   },
   {
    "duration": 16,
    "start_time": "2022-01-13T12:11:20.380Z"
   },
   {
    "duration": 33,
    "start_time": "2022-01-13T12:11:24.919Z"
   },
   {
    "duration": 9,
    "start_time": "2022-01-13T12:11:29.411Z"
   },
   {
    "duration": 20,
    "start_time": "2022-01-13T12:11:32.759Z"
   },
   {
    "duration": 8,
    "start_time": "2022-01-13T12:11:36.661Z"
   },
   {
    "duration": 8,
    "start_time": "2022-01-13T12:11:40.311Z"
   },
   {
    "duration": 7,
    "start_time": "2022-01-13T12:11:49.660Z"
   },
   {
    "duration": 20,
    "start_time": "2022-01-13T12:11:54.941Z"
   },
   {
    "duration": 8,
    "start_time": "2022-01-13T12:12:00.380Z"
   },
   {
    "duration": 5103,
    "start_time": "2022-01-13T12:12:08.380Z"
   },
   {
    "duration": 6,
    "start_time": "2022-01-13T12:12:17.660Z"
   },
   {
    "duration": 34,
    "start_time": "2022-01-13T12:12:22.767Z"
   },
   {
    "duration": 27,
    "start_time": "2022-01-13T12:12:29.852Z"
   },
   {
    "duration": 34,
    "start_time": "2022-01-13T12:12:34.043Z"
   },
   {
    "duration": 31,
    "start_time": "2022-01-13T12:12:40.420Z"
   },
   {
    "duration": 7,
    "start_time": "2022-01-13T12:12:53.351Z"
   },
   {
    "duration": 22,
    "start_time": "2022-01-13T12:12:56.060Z"
   },
   {
    "duration": 20,
    "start_time": "2022-01-13T12:13:05.659Z"
   },
   {
    "duration": 20,
    "start_time": "2022-01-13T12:16:53.412Z"
   },
   {
    "duration": 20,
    "start_time": "2022-01-13T12:18:51.901Z"
   },
   {
    "duration": 20,
    "start_time": "2022-01-13T12:20:33.980Z"
   },
   {
    "duration": 20,
    "start_time": "2022-01-13T12:21:10.312Z"
   },
   {
    "duration": 74,
    "start_time": "2022-01-13T12:24:43.792Z"
   },
   {
    "duration": 12,
    "start_time": "2022-01-13T12:24:56.699Z"
   },
   {
    "duration": 24,
    "start_time": "2022-01-13T12:25:00.559Z"
   },
   {
    "duration": 9,
    "start_time": "2022-01-13T12:25:06.820Z"
   },
   {
    "duration": 4,
    "start_time": "2022-01-13T12:25:09.459Z"
   },
   {
    "duration": 11,
    "start_time": "2022-01-13T12:25:16.779Z"
   },
   {
    "duration": 481,
    "start_time": "2022-01-13T12:25:24.781Z"
   },
   {
    "duration": 13,
    "start_time": "2022-01-13T12:25:28.000Z"
   },
   {
    "duration": 12,
    "start_time": "2022-01-13T12:25:30.933Z"
   },
   {
    "duration": 14,
    "start_time": "2022-01-13T12:25:36.582Z"
   },
   {
    "duration": 17,
    "start_time": "2022-01-13T12:25:41.472Z"
   },
   {
    "duration": 34,
    "start_time": "2022-01-13T12:25:46.621Z"
   },
   {
    "duration": 8,
    "start_time": "2022-01-13T12:25:54.940Z"
   },
   {
    "duration": 65,
    "start_time": "2022-01-13T12:26:51.299Z"
   },
   {
    "duration": 65,
    "start_time": "2022-01-13T12:27:06.716Z"
   },
   {
    "duration": 12,
    "start_time": "2022-01-13T12:27:06.782Z"
   },
   {
    "duration": 29,
    "start_time": "2022-01-13T12:27:06.797Z"
   },
   {
    "duration": 6,
    "start_time": "2022-01-13T12:27:06.828Z"
   },
   {
    "duration": 7,
    "start_time": "2022-01-13T12:27:06.836Z"
   },
   {
    "duration": 8,
    "start_time": "2022-01-13T12:27:06.845Z"
   },
   {
    "duration": 563,
    "start_time": "2022-01-13T12:27:06.855Z"
   },
   {
    "duration": 12,
    "start_time": "2022-01-13T12:27:07.420Z"
   },
   {
    "duration": 11,
    "start_time": "2022-01-13T12:27:07.434Z"
   },
   {
    "duration": 13,
    "start_time": "2022-01-13T12:27:07.447Z"
   },
   {
    "duration": 41,
    "start_time": "2022-01-13T12:27:07.462Z"
   },
   {
    "duration": 36,
    "start_time": "2022-01-13T12:27:07.510Z"
   },
   {
    "duration": 7,
    "start_time": "2022-01-13T12:27:07.548Z"
   },
   {
    "duration": 24,
    "start_time": "2022-01-13T12:27:07.557Z"
   },
   {
    "duration": 11,
    "start_time": "2022-01-13T12:27:07.599Z"
   },
   {
    "duration": 11,
    "start_time": "2022-01-13T12:27:07.614Z"
   },
   {
    "duration": 8,
    "start_time": "2022-01-13T12:27:07.627Z"
   },
   {
    "duration": 27,
    "start_time": "2022-01-13T12:27:07.637Z"
   },
   {
    "duration": 40,
    "start_time": "2022-01-13T12:27:07.666Z"
   },
   {
    "duration": 5130,
    "start_time": "2022-01-13T12:27:07.708Z"
   },
   {
    "duration": 8,
    "start_time": "2022-01-13T12:27:12.840Z"
   },
   {
    "duration": 56,
    "start_time": "2022-01-13T12:27:12.850Z"
   },
   {
    "duration": 27,
    "start_time": "2022-01-13T12:27:12.909Z"
   },
   {
    "duration": 61,
    "start_time": "2022-01-13T12:27:12.939Z"
   },
   {
    "duration": 22,
    "start_time": "2022-01-13T12:27:13.002Z"
   },
   {
    "duration": 19,
    "start_time": "2022-01-13T12:27:13.026Z"
   },
   {
    "duration": 20,
    "start_time": "2022-01-13T12:27:13.049Z"
   },
   {
    "duration": 21,
    "start_time": "2022-01-13T12:27:13.098Z"
   },
   {
    "duration": 7,
    "start_time": "2022-01-13T12:27:58.099Z"
   },
   {
    "duration": 21,
    "start_time": "2022-01-13T12:28:01.819Z"
   },
   {
    "duration": 10,
    "start_time": "2022-01-13T12:28:05.887Z"
   },
   {
    "duration": 1363,
    "start_time": "2022-01-13T12:28:09.800Z"
   },
   {
    "duration": 70,
    "start_time": "2022-01-13T12:28:22.960Z"
   },
   {
    "duration": 13,
    "start_time": "2022-01-13T12:28:26.531Z"
   },
   {
    "duration": 25,
    "start_time": "2022-01-13T12:28:30.051Z"
   },
   {
    "duration": 8,
    "start_time": "2022-01-13T12:28:33.551Z"
   },
   {
    "duration": 5,
    "start_time": "2022-01-13T12:28:36.859Z"
   },
   {
    "duration": 7,
    "start_time": "2022-01-13T12:28:39.020Z"
   },
   {
    "duration": 472,
    "start_time": "2022-01-13T12:28:41.481Z"
   },
   {
    "duration": 14,
    "start_time": "2022-01-13T12:28:43.960Z"
   },
   {
    "duration": 13,
    "start_time": "2022-01-13T12:28:47.740Z"
   },
   {
    "duration": 13,
    "start_time": "2022-01-13T12:28:52.380Z"
   },
   {
    "duration": 17,
    "start_time": "2022-01-13T12:29:00.731Z"
   },
   {
    "duration": 33,
    "start_time": "2022-01-13T12:29:04.291Z"
   },
   {
    "duration": 9,
    "start_time": "2022-01-13T12:29:09.331Z"
   },
   {
    "duration": 19,
    "start_time": "2022-01-13T12:29:12.159Z"
   },
   {
    "duration": 9,
    "start_time": "2022-01-13T12:29:14.759Z"
   },
   {
    "duration": 8,
    "start_time": "2022-01-13T12:29:17.899Z"
   },
   {
    "duration": 7,
    "start_time": "2022-01-13T12:29:20.778Z"
   },
   {
    "duration": 21,
    "start_time": "2022-01-13T12:29:23.190Z"
   },
   {
    "duration": 4773,
    "start_time": "2022-01-13T12:29:32.640Z"
   },
   {
    "duration": 6,
    "start_time": "2022-01-13T12:29:37.415Z"
   },
   {
    "duration": 32,
    "start_time": "2022-01-13T12:29:40.499Z"
   },
   {
    "duration": 25,
    "start_time": "2022-01-13T12:29:42.699Z"
   },
   {
    "duration": 33,
    "start_time": "2022-01-13T12:29:46.760Z"
   },
   {
    "duration": 21,
    "start_time": "2022-01-13T12:29:51.587Z"
   },
   {
    "duration": 20,
    "start_time": "2022-01-13T12:33:50.378Z"
   },
   {
    "duration": 20,
    "start_time": "2022-01-13T12:34:06.910Z"
   },
   {
    "duration": 7,
    "start_time": "2022-01-13T12:34:47.218Z"
   },
   {
    "duration": 21,
    "start_time": "2022-01-13T12:34:49.740Z"
   },
   {
    "duration": 21,
    "start_time": "2022-01-13T12:35:43.499Z"
   },
   {
    "duration": 19,
    "start_time": "2022-01-13T12:36:13.219Z"
   },
   {
    "duration": 20,
    "start_time": "2022-01-13T12:36:23.090Z"
   },
   {
    "duration": 21,
    "start_time": "2022-01-13T12:36:28.418Z"
   },
   {
    "duration": 12,
    "start_time": "2022-01-13T12:46:23.010Z"
   },
   {
    "duration": 62,
    "start_time": "2022-01-13T13:08:19.907Z"
   },
   {
    "duration": 65,
    "start_time": "2022-01-13T13:08:24.534Z"
   },
   {
    "duration": 2,
    "start_time": "2022-01-13T13:13:05.133Z"
   },
   {
    "duration": 9,
    "start_time": "2022-01-13T13:13:10.311Z"
   },
   {
    "duration": 65,
    "start_time": "2022-01-13T13:13:33.783Z"
   },
   {
    "duration": 12,
    "start_time": "2022-01-13T13:13:36.983Z"
   },
   {
    "duration": 24,
    "start_time": "2022-01-13T13:13:42.172Z"
   },
   {
    "duration": 7,
    "start_time": "2022-01-13T13:13:44.912Z"
   },
   {
    "duration": 4,
    "start_time": "2022-01-13T13:13:47.404Z"
   },
   {
    "duration": 6,
    "start_time": "2022-01-13T13:13:49.409Z"
   },
   {
    "duration": 491,
    "start_time": "2022-01-13T13:13:51.883Z"
   },
   {
    "duration": 12,
    "start_time": "2022-01-13T13:13:54.123Z"
   },
   {
    "duration": 11,
    "start_time": "2022-01-13T13:13:56.603Z"
   },
   {
    "duration": 13,
    "start_time": "2022-01-13T13:14:00.935Z"
   },
   {
    "duration": 17,
    "start_time": "2022-01-13T13:14:04.416Z"
   },
   {
    "duration": 8,
    "start_time": "2022-01-13T13:14:08.205Z"
   },
   {
    "duration": 18,
    "start_time": "2022-01-13T13:14:11.500Z"
   },
   {
    "duration": 8,
    "start_time": "2022-01-13T13:14:15.743Z"
   },
   {
    "duration": 9,
    "start_time": "2022-01-13T13:14:19.353Z"
   },
   {
    "duration": 5,
    "start_time": "2022-01-13T13:14:22.753Z"
   },
   {
    "duration": 20,
    "start_time": "2022-01-13T13:14:34.711Z"
   },
   {
    "duration": 8,
    "start_time": "2022-01-13T13:14:37.843Z"
   },
   {
    "duration": 4845,
    "start_time": "2022-01-13T13:14:41.853Z"
   },
   {
    "duration": 7,
    "start_time": "2022-01-13T13:14:51.083Z"
   },
   {
    "duration": 32,
    "start_time": "2022-01-13T13:14:55.052Z"
   },
   {
    "duration": 27,
    "start_time": "2022-01-13T13:15:01.541Z"
   },
   {
    "duration": 7,
    "start_time": "2022-01-13T13:15:37.191Z"
   },
   {
    "duration": 19,
    "start_time": "2022-01-13T13:15:39.432Z"
   },
   {
    "duration": 19,
    "start_time": "2022-01-13T13:16:16.883Z"
   },
   {
    "duration": 7,
    "start_time": "2022-01-13T13:16:19.123Z"
   },
   {
    "duration": 31,
    "start_time": "2022-01-13T13:16:21.374Z"
   },
   {
    "duration": 23,
    "start_time": "2022-01-13T13:16:24.211Z"
   },
   {
    "duration": 21,
    "start_time": "2022-01-13T13:16:27.503Z"
   },
   {
    "duration": 20,
    "start_time": "2022-01-13T13:17:25.959Z"
   },
   {
    "duration": 275,
    "start_time": "2022-01-13T13:17:53.583Z"
   },
   {
    "duration": 34,
    "start_time": "2022-01-13T13:18:31.411Z"
   },
   {
    "duration": 21,
    "start_time": "2022-01-13T13:18:37.018Z"
   },
   {
    "duration": 20,
    "start_time": "2022-01-13T13:18:54.391Z"
   },
   {
    "duration": 62,
    "start_time": "2022-01-13T13:19:33.576Z"
   },
   {
    "duration": 13,
    "start_time": "2022-01-13T13:19:39.071Z"
   },
   {
    "duration": 22,
    "start_time": "2022-01-13T13:19:42.603Z"
   },
   {
    "duration": 8,
    "start_time": "2022-01-13T13:19:46.203Z"
   },
   {
    "duration": 3,
    "start_time": "2022-01-13T13:19:49.083Z"
   },
   {
    "duration": 6,
    "start_time": "2022-01-13T13:19:51.823Z"
   },
   {
    "duration": 486,
    "start_time": "2022-01-13T13:19:54.444Z"
   },
   {
    "duration": 13,
    "start_time": "2022-01-13T13:19:56.923Z"
   },
   {
    "duration": 12,
    "start_time": "2022-01-13T13:19:59.825Z"
   },
   {
    "duration": 14,
    "start_time": "2022-01-13T13:20:03.083Z"
   },
   {
    "duration": 8,
    "start_time": "2022-01-13T13:20:08.803Z"
   },
   {
    "duration": 19,
    "start_time": "2022-01-13T13:20:12.542Z"
   },
   {
    "duration": 8,
    "start_time": "2022-01-13T13:20:17.123Z"
   },
   {
    "duration": 7,
    "start_time": "2022-01-13T13:20:20.823Z"
   },
   {
    "duration": 9,
    "start_time": "2022-01-13T13:20:24.471Z"
   },
   {
    "duration": 4812,
    "start_time": "2022-01-13T13:20:28.276Z"
   },
   {
    "duration": 7,
    "start_time": "2022-01-13T13:20:37.205Z"
   },
   {
    "duration": 21,
    "start_time": "2022-01-13T13:20:41.263Z"
   },
   {
    "duration": 6,
    "start_time": "2022-01-13T13:20:51.604Z"
   },
   {
    "duration": 30,
    "start_time": "2022-01-13T13:20:54.744Z"
   },
   {
    "duration": 26,
    "start_time": "2022-01-13T13:21:00.203Z"
   },
   {
    "duration": 21,
    "start_time": "2022-01-13T13:21:07.514Z"
   },
   {
    "duration": 20,
    "start_time": "2022-01-13T13:21:13.683Z"
   },
   {
    "duration": 6,
    "start_time": "2022-01-13T13:21:26.880Z"
   },
   {
    "duration": 20,
    "start_time": "2022-01-13T13:21:29.463Z"
   },
   {
    "duration": 21,
    "start_time": "2022-01-13T13:22:36.860Z"
   },
   {
    "duration": 20,
    "start_time": "2022-01-13T13:22:44.263Z"
   },
   {
    "duration": 277,
    "start_time": "2022-01-13T13:22:47.031Z"
   },
   {
    "duration": 19,
    "start_time": "2022-01-13T13:22:56.663Z"
   },
   {
    "duration": 63,
    "start_time": "2022-01-13T13:25:24.904Z"
   },
   {
    "duration": 69,
    "start_time": "2022-01-13T13:27:18.730Z"
   },
   {
    "duration": 12,
    "start_time": "2022-01-13T13:27:27.320Z"
   },
   {
    "duration": 23,
    "start_time": "2022-01-13T13:27:46.863Z"
   },
   {
    "duration": 8,
    "start_time": "2022-01-13T13:27:56.171Z"
   },
   {
    "duration": 4,
    "start_time": "2022-01-13T13:28:01.583Z"
   },
   {
    "duration": 6,
    "start_time": "2022-01-13T13:28:03.723Z"
   },
   {
    "duration": 512,
    "start_time": "2022-01-13T13:28:06.671Z"
   },
   {
    "duration": 13,
    "start_time": "2022-01-13T13:28:09.063Z"
   },
   {
    "duration": 11,
    "start_time": "2022-01-13T13:28:16.092Z"
   },
   {
    "duration": 13,
    "start_time": "2022-01-13T13:28:31.152Z"
   },
   {
    "duration": 7,
    "start_time": "2022-01-13T13:28:41.671Z"
   },
   {
    "duration": 7,
    "start_time": "2022-01-13T13:28:44.383Z"
   },
   {
    "duration": 20,
    "start_time": "2022-01-13T13:28:46.873Z"
   },
   {
    "duration": 8,
    "start_time": "2022-01-13T13:28:53.742Z"
   },
   {
    "duration": 7,
    "start_time": "2022-01-13T13:28:58.606Z"
   },
   {
    "duration": 18,
    "start_time": "2022-01-13T13:29:02.663Z"
   },
   {
    "duration": 7,
    "start_time": "2022-01-13T13:29:06.143Z"
   },
   {
    "duration": 9,
    "start_time": "2022-01-13T13:29:09.822Z"
   },
   {
    "duration": 6,
    "start_time": "2022-01-13T13:29:13.863Z"
   },
   {
    "duration": 8,
    "start_time": "2022-01-13T13:29:20.883Z"
   },
   {
    "duration": 6,
    "start_time": "2022-01-13T13:29:26.781Z"
   },
   {
    "duration": 8,
    "start_time": "2022-01-13T13:29:32.611Z"
   },
   {
    "duration": 7,
    "start_time": "2022-01-13T13:29:40.871Z"
   },
   {
    "duration": 5935,
    "start_time": "2022-01-13T13:29:47.527Z"
   },
   {
    "duration": 6,
    "start_time": "2022-01-13T13:30:00.172Z"
   },
   {
    "duration": 7,
    "start_time": "2022-01-13T13:30:05.643Z"
   },
   {
    "duration": 6,
    "start_time": "2022-01-13T13:30:12.760Z"
   },
   {
    "duration": 35,
    "start_time": "2022-01-13T13:30:21.994Z"
   },
   {
    "duration": 7,
    "start_time": "2022-01-13T13:30:30.903Z"
   },
   {
    "duration": 30,
    "start_time": "2022-01-13T13:31:31.804Z"
   },
   {
    "duration": 6,
    "start_time": "2022-01-13T13:31:33.983Z"
   },
   {
    "duration": 19,
    "start_time": "2022-01-13T13:31:36.863Z"
   },
   {
    "duration": 27,
    "start_time": "2022-01-13T13:31:44.764Z"
   },
   {
    "duration": 20,
    "start_time": "2022-01-13T13:31:51.676Z"
   },
   {
    "duration": 20,
    "start_time": "2022-01-13T13:31:55.593Z"
   },
   {
    "duration": 299,
    "start_time": "2022-01-13T13:31:59.861Z"
   },
   {
    "duration": 39,
    "start_time": "2022-01-13T13:32:30.111Z"
   },
   {
    "duration": 20,
    "start_time": "2022-01-13T13:33:07.641Z"
   },
   {
    "duration": 24,
    "start_time": "2022-01-13T13:33:13.674Z"
   },
   {
    "duration": 22,
    "start_time": "2022-01-13T13:34:07.181Z"
   },
   {
    "duration": 23,
    "start_time": "2022-01-13T13:34:28.170Z"
   },
   {
    "duration": 32,
    "start_time": "2022-01-13T13:34:30.731Z"
   },
   {
    "duration": 15,
    "start_time": "2022-01-13T13:34:41.591Z"
   },
   {
    "duration": 8,
    "start_time": "2022-01-13T13:38:38.962Z"
   },
   {
    "duration": 32,
    "start_time": "2022-01-13T13:39:35.363Z"
   },
   {
    "duration": 1378,
    "start_time": "2022-01-13T13:39:43.991Z"
   },
   {
    "duration": 71,
    "start_time": "2022-01-13T13:39:55.594Z"
   },
   {
    "duration": 12,
    "start_time": "2022-01-13T13:39:58.169Z"
   },
   {
    "duration": 37,
    "start_time": "2022-01-13T13:40:00.735Z"
   },
   {
    "duration": 9,
    "start_time": "2022-01-13T13:40:03.443Z"
   },
   {
    "duration": 5,
    "start_time": "2022-01-13T13:40:06.028Z"
   },
   {
    "duration": 6,
    "start_time": "2022-01-13T13:40:15.961Z"
   },
   {
    "duration": 470,
    "start_time": "2022-01-13T13:40:20.904Z"
   },
   {
    "duration": 13,
    "start_time": "2022-01-13T13:40:24.127Z"
   },
   {
    "duration": 21,
    "start_time": "2022-01-13T13:40:27.055Z"
   },
   {
    "duration": 13,
    "start_time": "2022-01-13T13:40:32.493Z"
   },
   {
    "duration": 9,
    "start_time": "2022-01-13T13:40:37.872Z"
   },
   {
    "duration": 19,
    "start_time": "2022-01-13T13:40:41.219Z"
   },
   {
    "duration": 8,
    "start_time": "2022-01-13T13:40:44.131Z"
   },
   {
    "duration": 8,
    "start_time": "2022-01-13T13:40:47.001Z"
   },
   {
    "duration": 9,
    "start_time": "2022-01-13T13:40:51.732Z"
   },
   {
    "duration": 5293,
    "start_time": "2022-01-13T13:41:16.543Z"
   },
   {
    "duration": 6,
    "start_time": "2022-01-13T13:41:25.621Z"
   },
   {
    "duration": 8,
    "start_time": "2022-01-13T13:41:32.923Z"
   },
   {
    "duration": 21,
    "start_time": "2022-01-13T13:42:19.883Z"
   },
   {
    "duration": 18,
    "start_time": "2022-01-13T13:42:23.373Z"
   },
   {
    "duration": 8,
    "start_time": "2022-01-13T13:42:52.652Z"
   },
   {
    "duration": 21,
    "start_time": "2022-01-13T13:47:36.311Z"
   },
   {
    "duration": 10,
    "start_time": "2022-01-13T13:47:56.092Z"
   },
   {
    "duration": 7,
    "start_time": "2022-01-13T13:48:07.103Z"
   },
   {
    "duration": 1407,
    "start_time": "2022-01-13T13:48:11.630Z"
   },
   {
    "duration": 66,
    "start_time": "2022-01-13T13:48:18.142Z"
   },
   {
    "duration": 12,
    "start_time": "2022-01-13T13:48:21.901Z"
   },
   {
    "duration": 24,
    "start_time": "2022-01-13T13:48:25.557Z"
   },
   {
    "duration": 7,
    "start_time": "2022-01-13T13:48:28.243Z"
   },
   {
    "duration": 4,
    "start_time": "2022-01-13T13:48:30.043Z"
   },
   {
    "duration": 476,
    "start_time": "2022-01-13T13:48:32.271Z"
   },
   {
    "duration": 12,
    "start_time": "2022-01-13T13:48:34.055Z"
   },
   {
    "duration": 11,
    "start_time": "2022-01-13T13:48:36.342Z"
   },
   {
    "duration": 13,
    "start_time": "2022-01-13T13:48:38.471Z"
   },
   {
    "duration": 8,
    "start_time": "2022-01-13T13:48:41.222Z"
   },
   {
    "duration": 18,
    "start_time": "2022-01-13T13:48:42.911Z"
   },
   {
    "duration": 8,
    "start_time": "2022-01-13T13:48:44.950Z"
   },
   {
    "duration": 9,
    "start_time": "2022-01-13T13:48:46.971Z"
   },
   {
    "duration": 8,
    "start_time": "2022-01-13T13:48:51.503Z"
   },
   {
    "duration": 4879,
    "start_time": "2022-01-13T13:48:55.143Z"
   },
   {
    "duration": 7,
    "start_time": "2022-01-13T13:49:03.161Z"
   },
   {
    "duration": 13,
    "start_time": "2022-01-13T13:49:09.403Z"
   },
   {
    "duration": 9,
    "start_time": "2022-01-13T13:49:30.394Z"
   },
   {
    "duration": 9,
    "start_time": "2022-01-13T13:49:35.011Z"
   },
   {
    "duration": 6,
    "start_time": "2022-01-13T13:49:45.291Z"
   },
   {
    "duration": 20,
    "start_time": "2022-01-13T13:49:47.205Z"
   },
   {
    "duration": 25,
    "start_time": "2022-01-13T13:50:16.751Z"
   },
   {
    "duration": 34,
    "start_time": "2022-01-13T13:50:26.553Z"
   },
   {
    "duration": 20,
    "start_time": "2022-01-13T13:50:29.543Z"
   },
   {
    "duration": 20,
    "start_time": "2022-01-13T13:50:33.433Z"
   },
   {
    "duration": 19,
    "start_time": "2022-01-13T13:50:41.152Z"
   },
   {
    "duration": 37,
    "start_time": "2022-01-13T13:52:36.523Z"
   },
   {
    "duration": 19,
    "start_time": "2022-01-13T13:54:57.426Z"
   },
   {
    "duration": 19,
    "start_time": "2022-01-13T13:56:19.372Z"
   },
   {
    "duration": 826,
    "start_time": "2022-01-15T14:58:07.287Z"
   },
   {
    "duration": 18,
    "start_time": "2022-01-15T14:58:18.084Z"
   },
   {
    "duration": 50,
    "start_time": "2022-01-15T14:58:24.495Z"
   },
   {
    "duration": 10,
    "start_time": "2022-01-15T14:58:30.495Z"
   },
   {
    "duration": 5,
    "start_time": "2022-01-15T14:58:33.414Z"
   },
   {
    "duration": 8,
    "start_time": "2022-01-15T14:58:38.215Z"
   },
   {
    "duration": 775,
    "start_time": "2022-01-15T14:58:44.715Z"
   },
   {
    "duration": 18,
    "start_time": "2022-01-15T14:58:47.314Z"
   },
   {
    "duration": 15,
    "start_time": "2022-01-15T14:58:52.367Z"
   },
   {
    "duration": 427,
    "start_time": "2022-01-15T18:45:14.435Z"
   },
   {
    "duration": 862,
    "start_time": "2022-01-15T18:45:37.047Z"
   },
   {
    "duration": 16,
    "start_time": "2022-01-15T18:45:46.982Z"
   },
   {
    "duration": 34,
    "start_time": "2022-01-15T18:45:55.166Z"
   },
   {
    "duration": 7,
    "start_time": "2022-01-15T18:46:02.617Z"
   },
   {
    "duration": 10,
    "start_time": "2022-01-15T18:46:32.859Z"
   },
   {
    "duration": 5,
    "start_time": "2022-01-15T18:46:37.097Z"
   },
   {
    "duration": 11,
    "start_time": "2022-01-15T18:47:39.218Z"
   },
   {
    "duration": 4,
    "start_time": "2022-01-15T18:47:41.321Z"
   },
   {
    "duration": 9,
    "start_time": "2022-01-15T18:47:43.738Z"
   },
   {
    "duration": 790,
    "start_time": "2022-01-15T18:47:50.271Z"
   },
   {
    "duration": 22,
    "start_time": "2022-01-15T18:47:52.979Z"
   },
   {
    "duration": 15,
    "start_time": "2022-01-15T18:47:55.539Z"
   },
   {
    "duration": 18,
    "start_time": "2022-01-15T18:48:19.670Z"
   },
   {
    "duration": 11,
    "start_time": "2022-01-15T18:48:25.978Z"
   },
   {
    "duration": 24,
    "start_time": "2022-01-15T18:48:29.713Z"
   },
   {
    "duration": 10,
    "start_time": "2022-01-15T18:48:34.091Z"
   },
   {
    "duration": 12,
    "start_time": "2022-01-15T18:48:36.398Z"
   },
   {
    "duration": 27,
    "start_time": "2022-01-15T18:49:36.028Z"
   },
   {
    "duration": 22,
    "start_time": "2022-01-15T18:50:14.284Z"
   },
   {
    "duration": 27,
    "start_time": "2022-01-15T18:50:38.183Z"
   },
   {
    "duration": 16,
    "start_time": "2022-01-15T18:51:14.246Z"
   },
   {
    "duration": 7029,
    "start_time": "2022-01-15T18:53:30.886Z"
   },
   {
    "duration": 10,
    "start_time": "2022-01-15T18:53:42.803Z"
   },
   {
    "duration": 16,
    "start_time": "2022-01-15T18:53:47.388Z"
   },
   {
    "duration": 17,
    "start_time": "2022-01-15T18:53:55.373Z"
   },
   {
    "duration": 10,
    "start_time": "2022-01-15T18:54:23.861Z"
   },
   {
    "duration": 28,
    "start_time": "2022-01-15T18:54:26.748Z"
   },
   {
    "duration": 37,
    "start_time": "2022-01-15T18:54:37.200Z"
   },
   {
    "duration": 35,
    "start_time": "2022-01-15T18:55:18.702Z"
   },
   {
    "duration": 32,
    "start_time": "2022-01-15T18:55:28.640Z"
   },
   {
    "duration": 26,
    "start_time": "2022-01-15T18:55:40.418Z"
   },
   {
    "duration": 546,
    "start_time": "2022-01-15T18:56:07.638Z"
   },
   {
    "duration": 25,
    "start_time": "2022-01-15T18:56:19.158Z"
   },
   {
    "duration": 79,
    "start_time": "2022-01-15T18:56:47.270Z"
   },
   {
    "duration": 16,
    "start_time": "2022-01-15T18:56:53.349Z"
   },
   {
    "duration": 35,
    "start_time": "2022-01-15T18:57:00.518Z"
   },
   {
    "duration": 11,
    "start_time": "2022-01-15T18:57:05.619Z"
   },
   {
    "duration": 5,
    "start_time": "2022-01-15T18:57:10.078Z"
   },
   {
    "duration": 9,
    "start_time": "2022-01-15T18:57:13.778Z"
   },
   {
    "duration": 810,
    "start_time": "2022-01-15T18:57:18.830Z"
   },
   {
    "duration": 18,
    "start_time": "2022-01-15T18:57:21.499Z"
   },
   {
    "duration": 14,
    "start_time": "2022-01-15T18:57:27.750Z"
   },
   {
    "duration": 17,
    "start_time": "2022-01-15T18:57:33.710Z"
   },
   {
    "duration": 10,
    "start_time": "2022-01-15T18:57:41.590Z"
   },
   {
    "duration": 24,
    "start_time": "2022-01-15T18:57:43.919Z"
   },
   {
    "duration": 11,
    "start_time": "2022-01-15T18:57:48.526Z"
   },
   {
    "duration": 10,
    "start_time": "2022-01-15T18:57:50.638Z"
   },
   {
    "duration": 10,
    "start_time": "2022-01-15T18:57:58.078Z"
   },
   {
    "duration": 24,
    "start_time": "2022-01-15T18:58:06.278Z"
   },
   {
    "duration": 25,
    "start_time": "2022-01-15T18:58:45.428Z"
   },
   {
    "duration": 15,
    "start_time": "2022-01-15T18:58:50.200Z"
   },
   {
    "duration": 7130,
    "start_time": "2022-01-15T19:00:25.362Z"
   },
   {
    "duration": 8,
    "start_time": "2022-01-15T19:00:40.602Z"
   },
   {
    "duration": 16,
    "start_time": "2022-01-15T19:00:44.439Z"
   },
   {
    "duration": 12,
    "start_time": "2022-01-15T19:00:59.236Z"
   },
   {
    "duration": 8,
    "start_time": "2022-01-15T19:01:18.288Z"
   },
   {
    "duration": 37,
    "start_time": "2022-01-15T19:01:40.599Z"
   },
   {
    "duration": 45,
    "start_time": "2022-01-15T19:01:48.579Z"
   },
   {
    "duration": 28,
    "start_time": "2022-01-15T19:01:59.875Z"
   },
   {
    "duration": 26,
    "start_time": "2022-01-15T19:02:04.163Z"
   },
   {
    "duration": 26,
    "start_time": "2022-01-15T19:02:09.972Z"
   },
   {
    "duration": 28,
    "start_time": "2022-01-15T19:02:16.071Z"
   },
   {
    "duration": 10,
    "start_time": "2022-01-15T19:10:43.432Z"
   },
   {
    "duration": 81,
    "start_time": "2022-01-15T19:10:51.308Z"
   },
   {
    "duration": 17,
    "start_time": "2022-01-15T19:10:55.500Z"
   },
   {
    "duration": 36,
    "start_time": "2022-01-15T19:11:00.800Z"
   },
   {
    "duration": 10,
    "start_time": "2022-01-15T19:11:05.260Z"
   },
   {
    "duration": 5,
    "start_time": "2022-01-15T19:11:13.998Z"
   },
   {
    "duration": 11,
    "start_time": "2022-01-15T19:13:05.648Z"
   },
   {
    "duration": 10,
    "start_time": "2022-01-15T19:13:25.100Z"
   },
   {
    "duration": 418,
    "start_time": "2022-01-15T19:16:48.122Z"
   },
   {
    "duration": 37,
    "start_time": "2022-01-15T19:16:59.249Z"
   },
   {
    "duration": 50,
    "start_time": "2022-01-15T19:17:22.950Z"
   },
   {
    "duration": 22,
    "start_time": "2022-01-15T19:17:45.773Z"
   },
   {
    "duration": 81,
    "start_time": "2022-01-15T19:17:53.812Z"
   },
   {
    "duration": 21,
    "start_time": "2022-01-15T19:18:01.022Z"
   },
   {
    "duration": 35,
    "start_time": "2022-01-15T19:18:07.309Z"
   },
   {
    "duration": 10,
    "start_time": "2022-01-15T19:18:13.889Z"
   },
   {
    "duration": 10,
    "start_time": "2022-01-15T19:18:19.722Z"
   },
   {
    "duration": 10,
    "start_time": "2022-01-15T19:18:21.850Z"
   },
   {
    "duration": 6,
    "start_time": "2022-01-15T19:18:24.481Z"
   },
   {
    "duration": 9,
    "start_time": "2022-01-15T19:18:27.338Z"
   },
   {
    "duration": 844,
    "start_time": "2022-01-15T19:18:33.362Z"
   },
   {
    "duration": 18,
    "start_time": "2022-01-15T19:18:36.170Z"
   },
   {
    "duration": 15,
    "start_time": "2022-01-15T19:18:39.321Z"
   },
   {
    "duration": 18,
    "start_time": "2022-01-15T19:18:49.309Z"
   },
   {
    "duration": 11,
    "start_time": "2022-01-15T19:18:53.982Z"
   },
   {
    "duration": 25,
    "start_time": "2022-01-15T19:19:01.742Z"
   },
   {
    "duration": 11,
    "start_time": "2022-01-15T19:19:04.170Z"
   },
   {
    "duration": 10,
    "start_time": "2022-01-15T19:19:06.562Z"
   },
   {
    "duration": 11,
    "start_time": "2022-01-15T19:19:09.572Z"
   },
   {
    "duration": 24,
    "start_time": "2022-01-15T19:19:13.130Z"
   },
   {
    "duration": 43,
    "start_time": "2022-01-15T19:19:15.569Z"
   },
   {
    "duration": 26,
    "start_time": "2022-01-15T19:20:08.601Z"
   },
   {
    "duration": 18,
    "start_time": "2022-01-15T19:20:10.462Z"
   },
   {
    "duration": 121,
    "start_time": "2022-01-15T19:24:44.103Z"
   },
   {
    "duration": 118,
    "start_time": "2022-01-15T19:30:39.020Z"
   },
   {
    "duration": 10,
    "start_time": "2022-01-15T19:33:49.630Z"
   },
   {
    "duration": 12,
    "start_time": "2022-01-15T19:35:18.990Z"
   },
   {
    "duration": 10,
    "start_time": "2022-01-15T19:35:42.282Z"
   },
   {
    "duration": 10,
    "start_time": "2022-01-15T19:40:11.455Z"
   },
   {
    "duration": 10,
    "start_time": "2022-01-15T19:43:39.584Z"
   },
   {
    "duration": 8,
    "start_time": "2022-01-15T19:44:01.467Z"
   },
   {
    "duration": 35,
    "start_time": "2022-01-15T19:45:13.186Z"
   },
   {
    "duration": 12,
    "start_time": "2022-01-15T19:45:27.777Z"
   },
   {
    "duration": 9,
    "start_time": "2022-01-15T19:45:41.286Z"
   },
   {
    "duration": 9,
    "start_time": "2022-01-15T19:46:19.128Z"
   },
   {
    "duration": 7,
    "start_time": "2022-01-15T19:46:37.053Z"
   },
   {
    "duration": 7,
    "start_time": "2022-01-15T19:46:38.839Z"
   },
   {
    "duration": 161,
    "start_time": "2022-01-15T19:47:39.448Z"
   },
   {
    "duration": 8,
    "start_time": "2022-01-15T19:48:35.127Z"
   },
   {
    "duration": 89,
    "start_time": "2022-01-16T10:11:56.238Z"
   },
   {
    "duration": 839,
    "start_time": "2022-01-16T10:33:16.892Z"
   },
   {
    "duration": 16,
    "start_time": "2022-01-16T10:33:30.610Z"
   },
   {
    "duration": 33,
    "start_time": "2022-01-16T10:33:40.060Z"
   },
   {
    "duration": 9,
    "start_time": "2022-01-16T10:33:44.729Z"
   },
   {
    "duration": 11,
    "start_time": "2022-01-16T10:33:46.860Z"
   },
   {
    "duration": 10,
    "start_time": "2022-01-16T10:33:48.580Z"
   },
   {
    "duration": 10,
    "start_time": "2022-01-16T10:33:56.593Z"
   },
   {
    "duration": 12,
    "start_time": "2022-01-16T10:33:59.141Z"
   },
   {
    "duration": 5,
    "start_time": "2022-01-16T10:34:02.329Z"
   },
   {
    "duration": 9,
    "start_time": "2022-01-16T10:34:05.065Z"
   },
   {
    "duration": 752,
    "start_time": "2022-01-16T10:34:08.700Z"
   },
   {
    "duration": 18,
    "start_time": "2022-01-16T10:34:12.893Z"
   },
   {
    "duration": 16,
    "start_time": "2022-01-16T10:34:14.825Z"
   },
   {
    "duration": 20,
    "start_time": "2022-01-16T10:34:31.421Z"
   },
   {
    "duration": 15,
    "start_time": "2022-01-16T10:35:05.020Z"
   },
   {
    "duration": 10,
    "start_time": "2022-01-16T10:35:16.132Z"
   },
   {
    "duration": 22,
    "start_time": "2022-01-16T10:35:23.660Z"
   },
   {
    "duration": 11,
    "start_time": "2022-01-16T10:35:26.532Z"
   },
   {
    "duration": 23,
    "start_time": "2022-01-16T10:35:38.580Z"
   },
   {
    "duration": 42,
    "start_time": "2022-01-16T10:35:40.552Z"
   },
   {
    "duration": 26,
    "start_time": "2022-01-16T10:35:44.120Z"
   },
   {
    "duration": 13,
    "start_time": "2022-01-16T10:35:46.532Z"
   },
   {
    "duration": 6962,
    "start_time": "2022-01-16T10:35:52.328Z"
   },
   {
    "duration": 10,
    "start_time": "2022-01-16T10:35:59.293Z"
   },
   {
    "duration": 18,
    "start_time": "2022-01-16T10:36:01.360Z"
   },
   {
    "duration": 8,
    "start_time": "2022-01-16T10:36:05.280Z"
   },
   {
    "duration": 7,
    "start_time": "2022-01-16T10:36:07.841Z"
   },
   {
    "duration": 12,
    "start_time": "2022-01-16T10:36:29.223Z"
   },
   {
    "duration": 8,
    "start_time": "2022-01-16T10:36:31.281Z"
   },
   {
    "duration": 8,
    "start_time": "2022-01-16T10:36:33.980Z"
   },
   {
    "duration": 8,
    "start_time": "2022-01-16T10:36:55.440Z"
   },
   {
    "duration": 74,
    "start_time": "2022-01-16T10:37:03.460Z"
   },
   {
    "duration": 15,
    "start_time": "2022-01-16T10:37:09.132Z"
   },
   {
    "duration": 32,
    "start_time": "2022-01-16T10:37:17.132Z"
   },
   {
    "duration": 10,
    "start_time": "2022-01-16T10:37:26.721Z"
   },
   {
    "duration": 10,
    "start_time": "2022-01-16T10:37:29.221Z"
   },
   {
    "duration": 9,
    "start_time": "2022-01-16T10:37:31.541Z"
   },
   {
    "duration": 13,
    "start_time": "2022-01-16T10:37:33.293Z"
   },
   {
    "duration": 10,
    "start_time": "2022-01-16T10:37:35.580Z"
   },
   {
    "duration": 6,
    "start_time": "2022-01-16T10:37:40.621Z"
   },
   {
    "duration": 8,
    "start_time": "2022-01-16T10:37:42.401Z"
   },
   {
    "duration": 725,
    "start_time": "2022-01-16T10:37:44.500Z"
   },
   {
    "duration": 17,
    "start_time": "2022-01-16T10:37:46.641Z"
   },
   {
    "duration": 15,
    "start_time": "2022-01-16T10:37:49.740Z"
   },
   {
    "duration": 16,
    "start_time": "2022-01-16T10:37:55.573Z"
   },
   {
    "duration": 10,
    "start_time": "2022-01-16T10:37:59.860Z"
   },
   {
    "duration": 23,
    "start_time": "2022-01-16T10:38:02.860Z"
   },
   {
    "duration": 10,
    "start_time": "2022-01-16T10:38:04.932Z"
   },
   {
    "duration": 9,
    "start_time": "2022-01-16T10:38:06.681Z"
   },
   {
    "duration": 10,
    "start_time": "2022-01-16T10:38:10.973Z"
   },
   {
    "duration": 10,
    "start_time": "2022-01-16T10:38:13.113Z"
   },
   {
    "duration": 22,
    "start_time": "2022-01-16T10:38:19.272Z"
   },
   {
    "duration": 43,
    "start_time": "2022-01-16T10:38:20.961Z"
   },
   {
    "duration": 25,
    "start_time": "2022-01-16T10:38:25.501Z"
   },
   {
    "duration": 15,
    "start_time": "2022-01-16T10:38:27.382Z"
   },
   {
    "duration": 6911,
    "start_time": "2022-01-16T10:38:32.501Z"
   },
   {
    "duration": 9,
    "start_time": "2022-01-16T10:39:23.169Z"
   },
   {
    "duration": 8,
    "start_time": "2022-01-16T10:39:25.621Z"
   },
   {
    "duration": 7,
    "start_time": "2022-01-16T10:39:45.301Z"
   },
   {
    "duration": 16,
    "start_time": "2022-01-16T10:39:55.794Z"
   },
   {
    "duration": 13,
    "start_time": "2022-01-16T10:39:58.002Z"
   },
   {
    "duration": 8,
    "start_time": "2022-01-16T10:40:06.515Z"
   },
   {
    "duration": 35,
    "start_time": "2022-01-16T10:40:08.483Z"
   },
   {
    "duration": 42,
    "start_time": "2022-01-16T10:40:10.862Z"
   },
   {
    "duration": 32,
    "start_time": "2022-01-16T10:40:20.870Z"
   },
   {
    "duration": 27,
    "start_time": "2022-01-16T10:40:26.982Z"
   },
   {
    "duration": 41,
    "start_time": "2022-01-16T10:40:33.662Z"
   },
   {
    "duration": 29,
    "start_time": "2022-01-16T10:40:39.173Z"
   }
  ],
  "kernelspec": {
   "display_name": "Python 3 (ipykernel)",
   "language": "python",
   "name": "python3"
  },
  "language_info": {
   "codemirror_mode": {
    "name": "ipython",
    "version": 3
   },
   "file_extension": ".py",
   "mimetype": "text/x-python",
   "name": "python",
   "nbconvert_exporter": "python",
   "pygments_lexer": "ipython3",
   "version": "3.9.7"
  },
  "toc": {
   "base_numbering": 1,
   "nav_menu": {},
   "number_sections": true,
   "sideBar": true,
   "skip_h1_title": true,
   "title_cell": "Table of Contents",
   "title_sidebar": "Contents",
   "toc_cell": false,
   "toc_position": {},
   "toc_section_display": true,
   "toc_window_display": false
  }
 },
 "nbformat": 4,
 "nbformat_minor": 2
}
